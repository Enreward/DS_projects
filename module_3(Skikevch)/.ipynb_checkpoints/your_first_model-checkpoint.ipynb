{
 "cells": [
  {
   "cell_type": "markdown",
   "metadata": {},
   "source": [
    "# Загрузка Pandas и очистка данных"
   ]
  },
  {
   "cell_type": "code",
   "execution_count": 1,
   "metadata": {},
   "outputs": [],
   "source": [
    "import pandas as pd\n",
    "import numpy as np\n",
    "import re"
   ]
  },
  {
   "cell_type": "code",
   "execution_count": 2,
   "metadata": {},
   "outputs": [],
   "source": [
    "main_df = pd.read_csv('main_task.csv', encoding='utf-8')"
   ]
  },
  {
   "cell_type": "code",
   "execution_count": 267,
   "metadata": {},
   "outputs": [],
   "source": [
    "# Ваш код по очистке данных и генерации новых признаков\n",
    "# При необходимости добавьте ячейки"
   ]
  },
  {
   "cell_type": "code",
   "execution_count": 268,
   "metadata": {},
   "outputs": [],
   "source": [
    "def in_list_or_str(x, value):\n",
    "    if isinstance(x, str):\n",
    "        return value == x\n",
    "    else:\n",
    "        return value in x\n",
    "\n",
    "# создать датафрейм, столбцы которого представлены уникальными значениями передаваемого столбца и\n",
    "# содержат 1, если запись принадлежит к текущему столбцу, иначе 0\n",
    "def to_dummy_var(column, new_columns=None):\n",
    "    if not new_columns:\n",
    "        new_columns = column.unique()\n",
    "    store = []\n",
    "    new_df = pd.DataFrame(columns=new_columns)\n",
    "    for value in new_columns:\n",
    "        series = column.apply(lambda x: 1 if in_list_or_str(x, value) else 0)\n",
    "        new_df[value] = series\n",
    "    return new_df\n",
    "\n",
    "# строку в список\n",
    "def to_list(data):\n",
    "    pattern = re.compile(r'\\[|\\\"|\\'|\\]')\n",
    "    if isinstance(data, str):\n",
    "        return re.sub(pattern, '', data).split(', ')\n",
    "    else:\n",
    "        return []\n",
    "\n",
    "# количество каждой кухни\n",
    "# функция используется для получения уникальных\n",
    "def unique_cuisines(column):\n",
    "    cuisines = set()\n",
    "    for row in column:\n",
    "        if row is not np.nan:\n",
    "            cuisines = cuisines.union(set(row))\n",
    "    return cuisines\n",
    "\n",
    "# приводим Prise Range к числовому формату\n",
    "def transform_price_range(data):\n",
    "    if data == '$':\n",
    "        return 1\n",
    "    elif data == '$$ - $$$':\n",
    "        return 2\n",
    "    elif data == '$$$$':\n",
    "        return 3\n",
    "    else:\n",
    "        return 0\n",
    "\n",
    "# пронумеровать города\n",
    "def numerate_city(data):\n",
    "    for i in city:\n",
    "        if data == i[1]:\n",
    "            return i[0]\n",
    "    return data"
   ]
  },
  {
   "cell_type": "code",
   "execution_count": 269,
   "metadata": {},
   "outputs": [],
   "source": [
    "# переводим id ресторана в числовое значение\n",
    "rid_df = main_df['Restaurant_id'].apply(lambda x: int(x.replace('id_', '')))"
   ]
  },
  {
   "cell_type": "code",
   "execution_count": 270,
   "metadata": {},
   "outputs": [],
   "source": [
    "# dummy var City\n",
    "c_df = to_dummy_var(main_df['City'])"
   ]
  },
  {
   "cell_type": "code",
   "execution_count": 271,
   "metadata": {},
   "outputs": [],
   "source": [
    "# dummy var Price Range\n",
    "value = main_df['Price Range'].value_counts().index[0]\n",
    "main_df['Price Range'].fillna(value, inplace=True)\n",
    "pr_df = to_dummy_var(main_df['Price Range'])\n",
    "pr_df = pr_df.rename(columns = {\"$$ - $$$\":\"medium_price\", \"$$$$\":\"high_price\", \"$\":\"low_price\"})"
   ]
  },
  {
   "cell_type": "code",
   "execution_count": 272,
   "metadata": {},
   "outputs": [],
   "source": [
    "# заполним пропуски в Number of Reviews средним значением\n",
    "value = main_df['Number of Reviews'].mean()\n",
    "nor_df = main_df['Number of Reviews'].fillna(value)"
   ]
  },
  {
   "cell_type": "code",
   "execution_count": 273,
   "metadata": {},
   "outputs": [],
   "source": [
    "# количество типов кухни\n",
    "ccs_df = main_df['Cuisine Style'].apply(to_list).apply(lambda x: len(x))\n",
    "value = ccs_df.median()\n",
    "ccs_df = ccs_df.replace(0, value)"
   ]
  },
  {
   "cell_type": "code",
   "execution_count": 274,
   "metadata": {},
   "outputs": [],
   "source": [
    "# dummy var\n",
    "styles = list(unique_cuisines(main_df['Cuisine Style'].apply(to_list)))\n",
    "cs_df = to_dummy_var(main_df['Cuisine Style'].apply(to_list), new_columns=styles)"
   ]
  },
  {
   "cell_type": "code",
   "execution_count": 275,
   "metadata": {},
   "outputs": [],
   "source": [
    "# зменяем названия городов на число\n",
    "city = main_df['City'].unique()\n",
    "city = list(enumerate(city, 10))\n",
    "c = main_df['City'].apply(numerate_city)"
   ]
  },
  {
   "cell_type": "code",
   "execution_count": 276,
   "metadata": {},
   "outputs": [],
   "source": [
    "# представляем столбец в числовом виде\n",
    "pr = main_df['Price Range'].apply(transform_price_range)\n",
    "value = pr.median()\n",
    "pr = pr.replace(0, value)"
   ]
  },
  {
   "cell_type": "code",
   "execution_count": 277,
   "metadata": {},
   "outputs": [],
   "source": [
    "# объединяем все подготовленные данные в один dataframe\n",
    "new_df = pd.DataFrame(main_df['Rating']).join([rid_df, c_df, pr_df, nor_df, cs_df, c, pr, main_df['Ranking']])"
   ]
  },
  {
   "cell_type": "markdown",
   "metadata": {},
   "source": [
    "# Разбиваем датафрейм на части, необходимые для обучения и тестирования модели"
   ]
  },
  {
   "cell_type": "code",
   "execution_count": 278,
   "metadata": {},
   "outputs": [],
   "source": [
    "# Х - данные с информацией о ресторанах, у - целевая переменная (рейтинги ресторанов)\n",
    "X = new_df.drop(['Rating'], axis = 1)\n",
    "y = new_df['Rating']"
   ]
  },
  {
   "cell_type": "code",
   "execution_count": 279,
   "metadata": {},
   "outputs": [],
   "source": [
    "# Загружаем специальный инструмент для разбивки:\n",
    "from sklearn.model_selection import train_test_split"
   ]
  },
  {
   "cell_type": "code",
   "execution_count": 280,
   "metadata": {},
   "outputs": [],
   "source": [
    "# Наборы данных с меткой \"train\" будут использоваться для обучения модели, \"test\" - для тестирования.\n",
    "# Для тестирования мы будем использовать 25% от исходного датасета.\n",
    "X_train, X_test, y_train, y_test = train_test_split(X, y, test_size=0.25)"
   ]
  },
  {
   "cell_type": "markdown",
   "metadata": {},
   "source": [
    "# Создаём, обучаем и тестируем модель"
   ]
  },
  {
   "cell_type": "code",
   "execution_count": 281,
   "metadata": {},
   "outputs": [],
   "source": [
    "# Импортируем необходимые библиотеки:\n",
    "from sklearn.ensemble import RandomForestRegressor # инструмент для создания и обучения модели\n",
    "from sklearn import metrics # инструменты для оценки точности модели"
   ]
  },
  {
   "cell_type": "code",
   "execution_count": 282,
   "metadata": {},
   "outputs": [],
   "source": [
    "# Создаём модель\n",
    "regr = RandomForestRegressor(n_estimators=100)\n",
    "\n",
    "# Обучаем модель на тестовом наборе данных\n",
    "regr.fit(X_train, y_train)\n",
    "\n",
    "# Используем обученную модель для предсказания рейтинга ресторанов в тестовой выборке.\n",
    "# Предсказанные значения записываем в переменную y_pred\n",
    "y_pred = regr.predict(X_test)"
   ]
  },
  {
   "cell_type": "code",
   "execution_count": 283,
   "metadata": {},
   "outputs": [
    {
     "name": "stdout",
     "output_type": "stream",
     "text": [
      "MAE: 0.212403\n"
     ]
    }
   ],
   "source": [
    "# Сравниваем предсказанные значения (y_pred) с реальными (y_test), и смотрим насколько они в среднем отличаются\n",
    "# Метрика называется Mean Absolute Error (MAE) и показывает среднее отклонение предсказанных значений от фактических.\n",
    "print('MAE:', metrics.mean_absolute_error(y_test, y_pred))"
   ]
  }
 ],
 "metadata": {
  "kernelspec": {
   "display_name": "Python 3 (ipykernel)",
   "language": "python",
   "name": "python3"
  },
  "language_info": {
   "codemirror_mode": {
    "name": "ipython",
    "version": 3
   },
   "file_extension": ".py",
   "mimetype": "text/x-python",
   "name": "python",
   "nbconvert_exporter": "python",
   "pygments_lexer": "ipython3",
   "version": "3.8.8"
  }
 },
 "nbformat": 4,
 "nbformat_minor": 2
}
