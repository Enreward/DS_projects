{
 "cells": [
  {
   "cell_type": "code",
   "execution_count": 62,
   "id": "7dd696d9",
   "metadata": {},
   "outputs": [
    {
     "name": "stdout",
     "output_type": "stream",
     "text": [
      "Ваш алгоритм угадывает число в среднем за 6 попыток\n"
     ]
    }
   ],
   "source": [
    "import numpy as np\n",
    "\n",
    "\n",
    "def game_core(number):\n",
    "    '''\n",
    "    \n",
    "    Алгоритм основан на идее бинарного поиска.\n",
    "    Т.к. алгоритм работает с упорядоченной последовательностью чисел от 1 до 100\n",
    "    нам не нужно предварительно выполнять сортировку.\n",
    "    Алгоритм бинарного поиска был взят за основы по причине медленного\n",
    "    уменьшения скорости поиска при при увеличении диапазона поиска загаданного числа,\n",
    "    в худшем случае количество попыток увеличивается всего на 3-4 единицы.\n",
    "\n",
    "    Устанавливаем левую границу head равной 1,\n",
    "    правую границу tail равной 101 (на единицу больше чем максимально возможное искомое число)\n",
    "    Устанавливаем проверяемое число как середнее значений head и tail.\n",
    "    Если проверяемое число больше искомого - устанавливаем tail как искомое,\n",
    "    если меньше - устанавливаем head как искомое,\n",
    "    иначе завершаем цикл - искомое число найдено.\n",
    "\n",
    "    Функция принимает загаданное число и возвращает число попыток\n",
    "    '''\n",
    "    \n",
    "    count = 0\n",
    "    head = 1\n",
    "    tail = 101\n",
    "    for count in range(1, tail // 2 + 1):\n",
    "        count += 1\n",
    "        predict = (head + tail) // 2\n",
    "        if predict > number:\n",
    "            tail = predict\n",
    "        elif predict < number:\n",
    "            head = predict\n",
    "        else:\n",
    "            break  # выход из цикла, если угадали\n",
    "    return count\n",
    "\n",
    "\n",
    "def score_game(game_core):\n",
    "    '''\n",
    "        Запускаем игру 1000 раз, чтобы узнать, как быстро игра угадывает число\n",
    "    '''\n",
    "    \n",
    "    count_ls = []\n",
    "    np.random.seed(1)  # фиксируем RANDOM SEED, чтобы ваш эксперимент был воспроизводим!\n",
    "    random_array = np.random.randint(1, 101, size=100000)\n",
    "    for number in random_array:\n",
    "        count_ls.append(game_core(number))\n",
    "    score = int(np.mean(count_ls))\n",
    "    return score\n",
    "\n",
    "\n",
    "score = score_game(game_core)\n",
    "print(f\"Ваш алгоритм угадывает число в среднем за {score} попыток\")\n"
   ]
  },
  {
   "cell_type": "code",
   "execution_count": null,
   "id": "f187839d",
   "metadata": {},
   "outputs": [],
   "source": []
  }
 ],
 "metadata": {
  "kernelspec": {
   "display_name": "Python 3",
   "language": "python",
   "name": "python3"
  },
  "language_info": {
   "codemirror_mode": {
    "name": "ipython",
    "version": 3
   },
   "file_extension": ".py",
   "mimetype": "text/x-python",
   "name": "python",
   "nbconvert_exporter": "python",
   "pygments_lexer": "ipython3",
   "version": "3.8.8"
  }
 },
 "nbformat": 4,
 "nbformat_minor": 5
}
