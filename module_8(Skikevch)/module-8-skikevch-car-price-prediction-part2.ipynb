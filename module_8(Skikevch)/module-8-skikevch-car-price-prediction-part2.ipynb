{
  "cells": [
    {
      "cell_type": "markdown",
      "metadata": {
        "id": "NOm2J2uOu_1R"
      },
      "source": [
        "Вспомогательный флаг для удобства использования на раных платформах"
      ]
    },
    {
      "cell_type": "code",
      "execution_count": 157,
      "metadata": {
        "id": "rSIyrt3yu5cS"
      },
      "outputs": [],
      "source": [
        "# True - для Google Colab\n",
        "# False - для Kaggle\n",
        "is_colab = True"
      ]
    },
    {
      "cell_type": "markdown",
      "metadata": {
        "id": "M_5Mtw8gsrRE"
      },
      "source": [
        "# Прогнозирование стоимости автомобиля по характеристикам\n",
        "Цель:  \n",
        "Разработать Multi-input модель для предсказания стоимости автомобиля по различным данным - табличным, текстовым и графическим.\n",
        "\n",
        "Задачи:  \n"
      ]
    },
    {
      "cell_type": "markdown",
      "metadata": {
        "id": "Rv8EzkJIsrRV"
      },
      "source": [
        "## Этапы проекта:\n"
      ]
    },
    {
      "cell_type": "markdown",
      "metadata": {
        "id": "vy0Eu4_EsrRb"
      },
      "source": [
        "# 0. Установка и загрузка библиотек"
      ]
    },
    {
      "cell_type": "code",
      "execution_count": 158,
      "metadata": {
        "colab": {
          "base_uri": "https://localhost:8080/"
        },
        "id": "Q2rDkbZGsrRc",
        "outputId": "c0844377-7935-403a-e4d2-0b6a4973edc7"
      },
      "outputs": [
        {
          "output_type": "stream",
          "name": "stdout",
          "text": [
            "Looking in indexes: https://pypi.org/simple, https://us-python.pkg.dev/colab-wheels/public/simple/\n",
            "Requirement already satisfied: pip in /usr/local/lib/python3.7/dist-packages (22.1.2)\n",
            "\u001b[33mWARNING: Running pip as the 'root' user can result in broken permissions and conflicting behaviour with the system package manager. It is recommended to use a virtual environment instead: https://pip.pypa.io/warnings/venv\u001b[0m\u001b[33m\n",
            "\u001b[0m"
          ]
        }
      ],
      "source": [
        "!pip install --upgrade pip"
      ]
    },
    {
      "cell_type": "code",
      "execution_count": 159,
      "metadata": {
        "colab": {
          "base_uri": "https://localhost:8080/"
        },
        "id": "kbbOnx05srRl",
        "outputId": "e671baed-f068-4d43-dfa1-481200a22b1b"
      },
      "outputs": [
        {
          "output_type": "stream",
          "name": "stdout",
          "text": [
            "\u001b[33mWARNING: Running pip as the 'root' user can result in broken permissions and conflicting behaviour with the system package manager. It is recommended to use a virtual environment instead: https://pip.pypa.io/warnings/venv\u001b[0m\u001b[33m\n",
            "\u001b[0m"
          ]
        }
      ],
      "source": [
        "# аугментации изображений\n",
        "!pip install albumentations -q"
      ]
    },
    {
      "cell_type": "code",
      "execution_count": 160,
      "metadata": {
        "colab": {
          "base_uri": "https://localhost:8080/"
        },
        "id": "s975UpWlsrRv",
        "outputId": "b62e22e9-4834-433e-ea3d-98847ee820be"
      },
      "outputs": [
        {
          "output_type": "stream",
          "name": "stdout",
          "text": [
            "Looking in indexes: https://pypi.org/simple, https://us-python.pkg.dev/colab-wheels/public/simple/\n",
            "Requirement already satisfied: pymorphy2 in /usr/local/lib/python3.7/dist-packages (0.9.1)\n",
            "Requirement already satisfied: docopt>=0.6 in /usr/local/lib/python3.7/dist-packages (from pymorphy2) (0.6.2)\n",
            "Requirement already satisfied: pymorphy2-dicts-ru<3.0,>=2.4 in /usr/local/lib/python3.7/dist-packages (from pymorphy2) (2.4.417127.4579844)\n",
            "Requirement already satisfied: dawg-python>=0.7.1 in /usr/local/lib/python3.7/dist-packages (from pymorphy2) (0.7.2)\n",
            "\u001b[33mWARNING: Running pip as the 'root' user can result in broken permissions and conflicting behaviour with the system package manager. It is recommended to use a virtual environment instead: https://pip.pypa.io/warnings/venv\u001b[0m\u001b[33m\n",
            "\u001b[0mLooking in indexes: https://pypi.org/simple, https://us-python.pkg.dev/colab-wheels/public/simple/\n",
            "Requirement already satisfied: pymorphy2-dicts in /usr/local/lib/python3.7/dist-packages (2.4.393442.3710985)\n",
            "\u001b[33mWARNING: Running pip as the 'root' user can result in broken permissions and conflicting behaviour with the system package manager. It is recommended to use a virtual environment instead: https://pip.pypa.io/warnings/venv\u001b[0m\u001b[33m\n",
            "\u001b[0m"
          ]
        }
      ],
      "source": [
        "!pip install pymorphy2\n",
        "!pip install pymorphy2-dicts"
      ]
    },
    {
      "cell_type": "code",
      "execution_count": 161,
      "metadata": {
        "colab": {
          "base_uri": "https://localhost:8080/"
        },
        "id": "3IJxMSrL1jNg",
        "outputId": "f5aa6c59-f7b4-4a5a-a632-09db857ead73"
      },
      "outputs": [
        {
          "output_type": "stream",
          "name": "stdout",
          "text": [
            "Looking in indexes: https://pypi.org/simple, https://us-python.pkg.dev/colab-wheels/public/simple/\n",
            "Requirement already satisfied: catboost in /usr/local/lib/python3.7/dist-packages (1.0.6)\n",
            "Requirement already satisfied: graphviz in /usr/local/lib/python3.7/dist-packages (from catboost) (0.10.1)\n",
            "Requirement already satisfied: numpy>=1.16.0 in /usr/local/lib/python3.7/dist-packages (from catboost) (1.21.6)\n",
            "Requirement already satisfied: pandas>=0.24.0 in /usr/local/lib/python3.7/dist-packages (from catboost) (1.3.5)\n",
            "Requirement already satisfied: plotly in /usr/local/lib/python3.7/dist-packages (from catboost) (5.5.0)\n",
            "Requirement already satisfied: six in /usr/local/lib/python3.7/dist-packages (from catboost) (1.15.0)\n",
            "Requirement already satisfied: scipy in /usr/local/lib/python3.7/dist-packages (from catboost) (1.4.1)\n",
            "Requirement already satisfied: matplotlib in /usr/local/lib/python3.7/dist-packages (from catboost) (3.2.2)\n",
            "Requirement already satisfied: python-dateutil>=2.7.3 in /usr/local/lib/python3.7/dist-packages (from pandas>=0.24.0->catboost) (2.8.2)\n",
            "Requirement already satisfied: pytz>=2017.3 in /usr/local/lib/python3.7/dist-packages (from pandas>=0.24.0->catboost) (2022.1)\n",
            "Requirement already satisfied: cycler>=0.10 in /usr/local/lib/python3.7/dist-packages (from matplotlib->catboost) (0.11.0)\n",
            "Requirement already satisfied: pyparsing!=2.0.4,!=2.1.2,!=2.1.6,>=2.0.1 in /usr/local/lib/python3.7/dist-packages (from matplotlib->catboost) (3.0.9)\n",
            "Requirement already satisfied: kiwisolver>=1.0.1 in /usr/local/lib/python3.7/dist-packages (from matplotlib->catboost) (1.4.2)\n",
            "Requirement already satisfied: tenacity>=6.2.0 in /usr/local/lib/python3.7/dist-packages (from plotly->catboost) (8.0.1)\n",
            "Requirement already satisfied: typing-extensions in /usr/local/lib/python3.7/dist-packages (from kiwisolver>=1.0.1->matplotlib->catboost) (4.2.0)\n",
            "\u001b[33mWARNING: Running pip as the 'root' user can result in broken permissions and conflicting behaviour with the system package manager. It is recommended to use a virtual environment instead: https://pip.pypa.io/warnings/venv\u001b[0m\u001b[33m\n",
            "\u001b[0m"
          ]
        }
      ],
      "source": [
        "!pip install catboost"
      ]
    },
    {
      "cell_type": "code",
      "execution_count": 162,
      "metadata": {
        "colab": {
          "base_uri": "https://localhost:8080/"
        },
        "id": "LFPIF2TzLa-d",
        "outputId": "6a6804d6-4ea5-432a-a7aa-67204e8dbc1f"
      },
      "outputs": [
        {
          "output_type": "stream",
          "name": "stdout",
          "text": [
            "Looking in indexes: https://pypi.org/simple, https://us-python.pkg.dev/colab-wheels/public/simple/\n",
            "Requirement already satisfied: category_encoders in /usr/local/lib/python3.7/dist-packages (2.5.0)\n",
            "Requirement already satisfied: patsy>=0.5.1 in /usr/local/lib/python3.7/dist-packages (from category_encoders) (0.5.2)\n",
            "Requirement already satisfied: numpy>=1.14.0 in /usr/local/lib/python3.7/dist-packages (from category_encoders) (1.21.6)\n",
            "Requirement already satisfied: scipy>=1.0.0 in /usr/local/lib/python3.7/dist-packages (from category_encoders) (1.4.1)\n",
            "Requirement already satisfied: scikit-learn>=0.20.0 in /usr/local/lib/python3.7/dist-packages (from category_encoders) (1.0.2)\n",
            "Requirement already satisfied: statsmodels>=0.9.0 in /usr/local/lib/python3.7/dist-packages (from category_encoders) (0.10.2)\n",
            "Requirement already satisfied: pandas>=1.0.5 in /usr/local/lib/python3.7/dist-packages (from category_encoders) (1.3.5)\n",
            "Requirement already satisfied: pytz>=2017.3 in /usr/local/lib/python3.7/dist-packages (from pandas>=1.0.5->category_encoders) (2022.1)\n",
            "Requirement already satisfied: python-dateutil>=2.7.3 in /usr/local/lib/python3.7/dist-packages (from pandas>=1.0.5->category_encoders) (2.8.2)\n",
            "Requirement already satisfied: six in /usr/local/lib/python3.7/dist-packages (from patsy>=0.5.1->category_encoders) (1.15.0)\n",
            "Requirement already satisfied: threadpoolctl>=2.0.0 in /usr/local/lib/python3.7/dist-packages (from scikit-learn>=0.20.0->category_encoders) (3.1.0)\n",
            "Requirement already satisfied: joblib>=0.11 in /usr/local/lib/python3.7/dist-packages (from scikit-learn>=0.20.0->category_encoders) (1.1.0)\n",
            "\u001b[33mWARNING: Running pip as the 'root' user can result in broken permissions and conflicting behaviour with the system package manager. It is recommended to use a virtual environment instead: https://pip.pypa.io/warnings/venv\u001b[0m\u001b[33m\n",
            "\u001b[0m"
          ]
        }
      ],
      "source": [
        "!pip install category_encoders\n"
      ]
    },
    {
      "cell_type": "code",
      "source": [
        "!pip install git+https://github.com/titu1994/tf-TabNet.git"
      ],
      "metadata": {
        "colab": {
          "base_uri": "https://localhost:8080/"
        },
        "id": "_zVN32M5PGAe",
        "outputId": "350d33dc-265a-4e49-eab6-cb7b36c57dc4"
      },
      "execution_count": 163,
      "outputs": [
        {
          "output_type": "stream",
          "name": "stdout",
          "text": [
            "Looking in indexes: https://pypi.org/simple, https://us-python.pkg.dev/colab-wheels/public/simple/\n",
            "Collecting git+https://github.com/titu1994/tf-TabNet.git\n",
            "  Cloning https://github.com/titu1994/tf-TabNet.git to /tmp/pip-req-build-qd_fccw8\n",
            "  Running command git clone --filter=blob:none --quiet https://github.com/titu1994/tf-TabNet.git /tmp/pip-req-build-qd_fccw8\n",
            "  Resolved https://github.com/titu1994/tf-TabNet.git to commit 58854410baade338c924382c3a9ff6b685810751\n",
            "  Preparing metadata (setup.py) ... \u001b[?25l\u001b[?25hdone\n",
            "\u001b[33mWARNING: Running pip as the 'root' user can result in broken permissions and conflicting behaviour with the system package manager. It is recommended to use a virtual environment instead: https://pip.pypa.io/warnings/venv\u001b[0m\u001b[33m\n",
            "\u001b[0m"
          ]
        }
      ]
    },
    {
      "cell_type": "markdown",
      "metadata": {
        "id": "SKiEEWuQwW6w"
      },
      "source": [
        "# Импорты"
      ]
    },
    {
      "cell_type": "code",
      "execution_count": 164,
      "metadata": {
        "id": "F5byfXjnsrRy"
      },
      "outputs": [],
      "source": [
        "import os\n",
        "import re\n",
        "import cv2 \n",
        "import sys\n",
        "import csv\n",
        "import random\n",
        "import pickle\n",
        "import zipfile\n",
        "import pymorphy2\n",
        "import numpy as np\n",
        "import pandas as pd\n",
        "import seaborn as sns\n",
        "import matplotlib.pyplot as plt\n",
        "\n",
        "from datetime import datetime\n",
        "from catboost import CatBoostRegressor\n",
        "from sklearn.preprocessing import MinMaxScaler, RobustScaler, StandardScaler\n",
        "from sklearn.model_selection import train_test_split\n",
        "\n",
        "from category_encoders.binary import BinaryEncoder\n",
        "from category_encoders import LeaveOneOutEncoder\n",
        "from category_encoders.helmert import HelmertEncoder\n",
        "\n",
        "\n",
        "# keras\n",
        "import tensorflow as tf\n",
        "import tensorflow.keras as keras\n",
        "import tensorflow.keras.models as M\n",
        "import tensorflow.keras.layers as L\n",
        "import tensorflow.keras.backend as K\n",
        "import tensorflow.keras.callbacks as C\n",
        "import albumentations as a\n",
        "\n",
        "from tensorflow.keras import regularizers\n",
        "from tensorflow.keras import optimizers\n",
        "from tensorflow.keras.preprocessing import image\n",
        "from tensorflow.keras.preprocessing.image import ImageDataGenerator\n",
        "from tensorflow.keras.preprocessing.text import Tokenizer\n",
        "from tensorflow.keras.preprocessing import sequence\n",
        "\n",
        "from tensorflow.keras.callbacks import (\n",
        "    Callback, \n",
        "    ModelCheckpoint, \n",
        "    EarlyStopping,\n",
        "    ReduceLROnPlateau,\n",
        "    LearningRateScheduler, \n",
        ")\n",
        "from tensorflow.keras.optimizers.schedules import *\n",
        "\n",
        "from tabnet import TabNetRegression\n",
        "\n",
        "import PIL\n",
        "from PIL import ImageOps, ImageFilter\n",
        "\n",
        "# plt\n",
        "import matplotlib.pyplot as plt\n",
        "# увеличим дефолтный размер графиков\n",
        "from pylab import rcParams\n",
        "rcParams['figure.figsize'] = 10, 5\n",
        "# графики в svg выглядят более четкими\n",
        "%config InlineBackend.figure_format = 'svg'\n",
        "%matplotlib inline\n",
        "\n",
        "#pandas\n",
        "pd.set_option('display.max_columns', None)\n",
        "pd.set_option('display.max_rows', 30)"
      ]
    },
    {
      "cell_type": "code",
      "execution_count": 165,
      "metadata": {
        "colab": {
          "base_uri": "https://localhost:8080/"
        },
        "id": "wHyKp4SJWekm",
        "outputId": "7f4c6924-477f-4adb-9afc-b82d8f7fb80a"
      },
      "outputs": [
        {
          "output_type": "stream",
          "name": "stderr",
          "text": [
            "[nltk_data] Downloading package stopwords to /root/nltk_data...\n",
            "[nltk_data]   Package stopwords is already up-to-date!\n"
          ]
        },
        {
          "output_type": "execute_result",
          "data": {
            "text/plain": [
              "True"
            ]
          },
          "metadata": {},
          "execution_count": 165
        }
      ],
      "source": [
        "import nltk\n",
        "nltk.download('stopwords')"
      ]
    },
    {
      "cell_type": "code",
      "execution_count": 166,
      "metadata": {
        "id": "zlTUMBqd5C3D"
      },
      "outputs": [],
      "source": [
        "from nltk.stem import PorterStemmer\n",
        "from nltk.stem import WordNetLemmatizer\n",
        "from nltk.corpus import stopwords\n",
        "from tqdm import tqdm"
      ]
    },
    {
      "cell_type": "markdown",
      "metadata": {
        "id": "LvI0DHnT3vuq"
      },
      "source": [
        "# Версии"
      ]
    },
    {
      "cell_type": "markdown",
      "metadata": {
        "id": "MXzBG-MZsrR1"
      },
      "source": [
        "Посмотрим версии используемых библиотек"
      ]
    },
    {
      "cell_type": "code",
      "execution_count": 167,
      "metadata": {
        "id": "9Yus0AUXsrR3",
        "colab": {
          "base_uri": "https://localhost:8080/"
        },
        "outputId": "d84f335c-5dbf-4c5c-cb92-5ad241f3104c"
      },
      "outputs": [
        {
          "output_type": "stream",
          "name": "stdout",
          "text": [
            "Python       : 3.7.13 (default, Apr 24 2022, 01:04:09) \n",
            "Numpy        : 1.21.6\n",
            "Tensorflow   : 2.8.2\n"
          ]
        }
      ],
      "source": [
        "print('Python       :', sys.version.split('\\n')[0])\n",
        "print('Numpy        :', np.__version__)\n",
        "print('Tensorflow   :', tf.__version__)"
      ]
    },
    {
      "cell_type": "markdown",
      "metadata": {
        "id": "VpXovwb3srR9"
      },
      "source": [
        "Зафиксируем версию пакетов:"
      ]
    },
    {
      "cell_type": "code",
      "execution_count": 168,
      "metadata": {
        "id": "tY5gY2q-srR-"
      },
      "outputs": [],
      "source": [
        "!pip freeze > requirements.txt"
      ]
    },
    {
      "cell_type": "markdown",
      "metadata": {
        "id": "5lRZT-sKwfbm"
      },
      "source": [
        "# Основные настройки"
      ]
    },
    {
      "cell_type": "code",
      "execution_count": 169,
      "metadata": {
        "id": "BecHIOqPwsCx"
      },
      "outputs": [],
      "source": [
        "# ACTIVATION           = 'sigmoid' # функция активации\n",
        "# ACTIVATION           = 'tanh' # функция активации\n",
        "# ACTIVATION           = 'relu' # функция активации\n",
        "ACTIVATION           = L.LeakyReLU(0.15) # функция активации\n",
        "BATCH_SIZE           = 512  # размер батча\n",
        "EPOCHS               = 500  # количество эпох для обучения"
      ]
    },
    {
      "cell_type": "markdown",
      "metadata": {
        "id": "YtH_UyjTsrR6"
      },
      "source": [
        "Установим random seed:"
      ]
    },
    {
      "cell_type": "code",
      "execution_count": 170,
      "metadata": {
        "id": "55i5V2FbsrR8"
      },
      "outputs": [],
      "source": [
        "RANDOM_SEED = 13\n",
        "np.random.seed(RANDOM_SEED)"
      ]
    },
    {
      "cell_type": "markdown",
      "metadata": {
        "id": "V3bI-AJX_A-Z"
      },
      "source": [
        "# Вспомогательные функции"
      ]
    },
    {
      "cell_type": "markdown",
      "metadata": {
        "id": "udUxC_UGsrR4"
      },
      "source": [
        "Пропишем функцию для вычисления метрики MAPE"
      ]
    },
    {
      "cell_type": "code",
      "execution_count": 171,
      "metadata": {
        "id": "lKCXVjP8srR4"
      },
      "outputs": [],
      "source": [
        "def mape(y_test, y_pred):\n",
        "    return np.mean(np.abs((y_pred-y_test)/y_test))"
      ]
    },
    {
      "cell_type": "code",
      "execution_count": 172,
      "metadata": {
        "id": "TV4vnxnWaOHQ"
      },
      "outputs": [],
      "source": [
        "def veiw_sample_predicts(pred, y_test):\n",
        "    for i in range(20):\n",
        "      print(\"Сеть предсказала: \", pred[i][0], \n",
        "            \", верный ответ: \", y_test[i], \n",
        "            \", отклонение: \", pred[i][0] - y_test[i])\n"
      ]
    },
    {
      "cell_type": "code",
      "source": [
        "def make_save(model, name):\n",
        "    if is_colab:\n",
        "        path = SAVE_PATH        \n",
        "    else:\n",
        "        path = WORK_PATH\n",
        "    model.load_weights(os.path.join(path, name+'_best.hdf5'))\n",
        "    model.save(os.path.join(path, name+'_final.hdf5'))\n",
        "    \n",
        "    return model"
      ],
      "metadata": {
        "id": "l37jFvNyW6k4"
      },
      "execution_count": 173,
      "outputs": []
    },
    {
      "cell_type": "code",
      "source": [
        "def make_sub(model, submission_df, sub, name):\n",
        "    sub_predict = np.round(model.predict(sub))\n",
        "    submission_df['price'] = sub_predict[:, 0]\n",
        "    if is_colab:\n",
        "        path = SAVE_PATH\n",
        "    else:\n",
        "        path = WORK_PATH\n",
        "    submission_df.to_csv(os.path.join(WORK_PATH, name),\n",
        "                            index=False)\n",
        "    return submission_df"
      ],
      "metadata": {
        "id": "rEb0kr9TmqCV"
      },
      "execution_count": 174,
      "outputs": []
    },
    {
      "cell_type": "code",
      "execution_count": 175,
      "metadata": {
        "id": "oDjclILnWky7"
      },
      "outputs": [],
      "source": [
        "def plot_history(history):\n",
        "    plt.figure(figsize=(10,5))\n",
        "    mape = history.history['MAPE']\n",
        "    val_mape = history.history['val_MAPE']\n",
        "    loss = history.history['loss']\n",
        "    val_loss = history.history['val_loss']\n",
        "\n",
        "    epochs = range(len(mape))\n",
        "\n",
        "    plt.figure(figsize=(10,5))\n",
        "\n",
        "    plt.plot(epochs, mape, 'b', label='Training mape')\n",
        "    plt.plot(epochs, val_mape, 'g', label='Validation mape')\n",
        "    plt.title('Training and validation mape')\n",
        "    plt.legend()\n",
        "\n",
        "    # plt.plot(epochs, loss, 'b', label='Training loss')\n",
        "    # plt.plot(epochs, val_loss, 'g', label='Validation loss')\n",
        "    # plt.title('Training and validation loss')\n",
        "    #plt.style.use('dark_background')\n",
        "    plt.legend()\n",
        "\n",
        "    plt.show()"
      ]
    },
    {
      "cell_type": "markdown",
      "metadata": {
        "id": "pb_6BOkzsrSB"
      },
      "source": [
        "# Загружаем данные"
      ]
    },
    {
      "cell_type": "markdown",
      "metadata": {
        "id": "U9nvMrSvuK8o"
      },
      "source": [
        "Пути к данным и рабочим папкам"
      ]
    },
    {
      "cell_type": "code",
      "execution_count": 176,
      "metadata": {
        "id": "YiE3cBVpuQ8e",
        "colab": {
          "base_uri": "https://localhost:8080/"
        },
        "outputId": "425ab6e0-d237-4800-b8ee-38e187371682"
      },
      "outputs": [
        {
          "output_type": "stream",
          "name": "stdout",
          "text": [
            "Drive already mounted at /content/drive; to attempt to forcibly remount, call drive.mount(\"/content/drive\", force_remount=True).\n"
          ]
        }
      ],
      "source": [
        "if is_colab:\n",
        "    from google.colab import drive\n",
        "    drive.mount('/content/drive')\n",
        "\n",
        "if is_colab:\n",
        "    # Colab\n",
        "    DATA_PATH = os.path.abspath('/content/drive/MyDrive/Colab Notebooks'\n",
        "                                '/project_8/input'\n",
        "                                '/sf-dst-car-price-prediction-part2/')\n",
        "    SAVE_PATH = os.path.abspath('/content/drive/MyDrive/Colab Notebooks'\n",
        "                                '/project_8/saves')\n",
        "    WORK_PATH = os.path.join(os.getcwd(), 'working')\n",
        "else:\n",
        "    # Kaggle\n",
        "    DATA_PATH = os.path.abspath('../input/sf-dst-car-price-prediction-part2/')\n",
        "    SAVE_PATH = os.path.abspath('../input/input-saves')\n",
        "    WORK_PATH = os.path.abspath('./')"
      ]
    },
    {
      "cell_type": "markdown",
      "metadata": {
        "id": "2IqMaUnvsrSB"
      },
      "source": [
        "Загрузим наш обучающий и тестовый фреймы:"
      ]
    },
    {
      "cell_type": "code",
      "execution_count": 177,
      "metadata": {
        "id": "0N4dVHb6srSB"
      },
      "outputs": [],
      "source": [
        "train = pd.read_csv(os.path.join(DATA_PATH,'train.csv'))\n",
        "test = pd.read_csv(os.path.join(DATA_PATH,'test.csv'))\n",
        "sample_submission = pd.read_csv(os.path.join(DATA_PATH,'sample_submission.csv'))"
      ]
    },
    {
      "cell_type": "markdown",
      "source": [
        "Объединим тестовый и обучающий фреймы в один для последующей обработки признаков:"
      ],
      "metadata": {
        "id": "IKreBFgS2EPt"
      }
    },
    {
      "cell_type": "code",
      "source": [
        "# Для корректной обработки признаков объединяем трейн и тест в один датасет\n",
        "train['sample'] = 1  # трейн\n",
        "test['sample'] = 0  # тест\n",
        "test['price'] = 0  # в тесте нет значения price,  заполняем нулями\n",
        "\n",
        "data = test.append(train, sort=False).reset_index(drop=True)  # объединяем\n",
        "print(train.shape, test.shape, data.shape)"
      ],
      "metadata": {
        "id": "F7e-JmuM17aZ",
        "colab": {
          "base_uri": "https://localhost:8080/"
        },
        "outputId": "d57c5cd2-8070-4cb6-85a3-42cf97d6d5dc"
      },
      "execution_count": 178,
      "outputs": [
        {
          "output_type": "stream",
          "name": "stdout",
          "text": [
            "(6682, 23) (1671, 23) (8353, 23)\n"
          ]
        }
      ]
    },
    {
      "cell_type": "markdown",
      "source": [
        "Загружаем предобработанный датафрейм чтобы не тратить время на повторную обработку."
      ],
      "metadata": {
        "id": "puUUKxn5FMhz"
      }
    },
    {
      "cell_type": "code",
      "source": [
        "if os.path.exists(SAVE_PATH):\n",
        "    df = pd.read_csv(os.path.join(SAVE_PATH, 'processed_df.csv'))\n"
      ],
      "metadata": {
        "id": "F2ztv7ZVFHgO"
      },
      "execution_count": 179,
      "outputs": []
    },
    {
      "cell_type": "code",
      "source": [
        "raise KeyboardInterrupt"
      ],
      "metadata": {
        "id": "YJzJLbnSMt3U",
        "colab": {
          "base_uri": "https://localhost:8080/",
          "height": 165
        },
        "outputId": "2ba47fa0-82c5-4b23-8afe-1859452b508f"
      },
      "execution_count": 180,
      "outputs": [
        {
          "output_type": "error",
          "ename": "KeyboardInterrupt",
          "evalue": "ignored",
          "traceback": [
            "\u001b[0;31m---------------------------------------------------------------------------\u001b[0m",
            "\u001b[0;31mKeyboardInterrupt\u001b[0m                         Traceback (most recent call last)",
            "\u001b[0;32m<ipython-input-180-c761920b81b0>\u001b[0m in \u001b[0;36m<module>\u001b[0;34m()\u001b[0m\n\u001b[0;32m----> 1\u001b[0;31m \u001b[0;32mraise\u001b[0m \u001b[0mKeyboardInterrupt\u001b[0m\u001b[0;34m\u001b[0m\u001b[0;34m\u001b[0m\u001b[0m\n\u001b[0m",
            "\u001b[0;31mKeyboardInterrupt\u001b[0m: "
          ]
        }
      ]
    },
    {
      "cell_type": "markdown",
      "metadata": {
        "id": "RnE25L_vsrSC"
      },
      "source": [
        "Проверим, что у нас находится в обучающем и тестовом фреймах"
      ]
    },
    {
      "cell_type": "code",
      "execution_count": null,
      "metadata": {
        "id": "_IcCxa9zsrSC"
      },
      "outputs": [],
      "source": [
        "train.info()"
      ]
    },
    {
      "cell_type": "code",
      "execution_count": null,
      "metadata": {
        "id": "CUERUUA0srSD"
      },
      "outputs": [],
      "source": [
        "train.nunique()"
      ]
    },
    {
      "cell_type": "code",
      "execution_count": null,
      "metadata": {
        "id": "qsypjXlDsrSE"
      },
      "outputs": [],
      "source": [
        "train.isna().sum()"
      ]
    },
    {
      "cell_type": "markdown",
      "metadata": {
        "id": "Noeggd08srSE"
      },
      "source": [
        "Мы видим, что присутствуют пропуски, которые в дальнейшем придется обработать каким-либо способом.  \n",
        "\n",
        "Проверим что находится в тестовом фрейме:"
      ]
    },
    {
      "cell_type": "code",
      "execution_count": null,
      "metadata": {
        "id": "IE5V6HW1srSF"
      },
      "outputs": [],
      "source": [
        "test.info()"
      ]
    },
    {
      "cell_type": "code",
      "execution_count": null,
      "metadata": {
        "id": "OTOEfAB8srSF"
      },
      "outputs": [],
      "source": [
        "test.nunique()"
      ]
    },
    {
      "cell_type": "code",
      "execution_count": null,
      "metadata": {
        "id": "Wd6gGCsKsrSF"
      },
      "outputs": [],
      "source": [
        "test.isna().sum()"
      ]
    },
    {
      "cell_type": "markdown",
      "metadata": {
        "id": "Px8mMBDBsrSG"
      },
      "source": [
        "Здесь пропуски имеются только в столбце \"владение\". В дальнейшем нужно будет обработать."
      ]
    },
    {
      "cell_type": "code",
      "execution_count": null,
      "metadata": {
        "id": "ORlh9MK5A84J"
      },
      "outputs": [],
      "source": [
        "train.sample(7)"
      ]
    },
    {
      "cell_type": "code",
      "execution_count": null,
      "metadata": {
        "id": "wQUt3uvkBBjy"
      },
      "outputs": [],
      "source": [
        "test.sample(7)"
      ]
    },
    {
      "cell_type": "markdown",
      "metadata": {
        "id": "cfwypK8dC9qv"
      },
      "source": [
        "В обоих датафреймах столбцы совпадают."
      ]
    },
    {
      "cell_type": "markdown",
      "metadata": {
        "id": "Gn1NDpbfsrSG"
      },
      "source": [
        "Определим типы признаков:\n",
        "\n",
        "* bodyType - категориальный\n",
        "* brand - категориальный\n",
        "* color - категориальный\n",
        "* description - текстовый\n",
        "* engineDisplacement - числовой, представленный как текст\n",
        "* enginePower - числовой, представленный как текст\n",
        "* fuelType - категориальный\n",
        "* mileage - числовой\n",
        "* modelDate - числовой\n",
        "* model_info - категориальный\n",
        "* name - категориальный, желательно сократить размерность\n",
        "* numberOfDoors - категориальный\n",
        "* price - числовой, целевой\n",
        "* productionDate - числовой\n",
        "* sell_id - изображение (файл доступен по адресу, основанному на sell_id)\n",
        "* vehicleConfiguration - содержит информацию, содержащуюся в других признаках\n",
        "* vehicleTransmission - категориальный\n",
        "* Владельцы - категориальный\n",
        "* Владение - числовой, представленный как текст\n",
        "* ПТС - категориальный\n",
        "* Привод - категориальный\n",
        "* Руль - категориальный"
      ]
    },
    {
      "cell_type": "markdown",
      "metadata": {
        "id": "JVH1Db8HsrSH"
      },
      "source": [
        "Теперь попробуем создать наивную модель и посмотреть результат нашей метрики"
      ]
    },
    {
      "cell_type": "markdown",
      "metadata": {
        "id": "yC8lghPssrSH"
      },
      "source": [
        "# 2. Model 0: \"Наивная\" модель \n",
        "Эта модель будет предсказывать среднюю цену по модели и году выпуска. \n",
        "C ней будем сравнивать другие модели.\n",
        "\n"
      ]
    },
    {
      "cell_type": "markdown",
      "metadata": {
        "id": "qiNGR5GqsrSH"
      },
      "source": [
        "Первым делом проведем разделенение на обучающую и валидационную выборки:"
      ]
    },
    {
      "cell_type": "code",
      "execution_count": null,
      "metadata": {
        "id": "xodlbrm4srSI"
      },
      "outputs": [],
      "source": [
        "data_train, data_test = train_test_split(\n",
        "    train, test_size=0.2, shuffle=True, random_state=RANDOM_SEED)"
      ]
    },
    {
      "cell_type": "markdown",
      "metadata": {
        "id": "PZ4EpwzJsrSI"
      },
      "source": [
        "Создадим наивную модель и проведем оценку отчности:"
      ]
    },
    {
      "cell_type": "code",
      "execution_count": null,
      "metadata": {
        "id": "BPBwOEtgEkoG"
      },
      "outputs": [],
      "source": [
        "# Наивная модель\n",
        "predicts = []\n",
        "for index, row in pd.DataFrame(data_test[['model_info', \n",
        "                                          'productionDate']]).iterrows():\n",
        "    predicts.append(data_train.loc[(data_train['model_info'] == row[0]) & \n",
        "                                   (data_train['productionDate'] == row[1])]\n",
        "                    ['price'].median())\n",
        "\n",
        "# заполним не найденные совпадения\n",
        "predicts = pd.DataFrame(predicts)\n",
        "predicts = predicts.fillna(predicts.median())\n",
        "\n",
        "# округлим\n",
        "predicts = (predicts // 1000) * 1000\n",
        "# print(data_test['price'].values)\n",
        "# print(predicts.values[:, 0])\n",
        "\n",
        "# оцениваем точность\n",
        "print(f\"Ошибка по метрике MAPE: \"\n",
        "      f\"{(mape(data_test['price'].values, predicts.values[:, 0]))*100:0.2f}%\")\n"
      ]
    },
    {
      "cell_type": "markdown",
      "metadata": {
        "id": "7uZ_eEKXsrSJ"
      },
      "source": [
        "Мы получили достаточно плохой результат, но теперь появилось понимание - откуда отталкиваться. \n",
        "\n",
        "Первым делом проведем EDA и попробуем использовать CatBoost."
      ]
    },
    {
      "cell_type": "markdown",
      "metadata": {
        "id": "elPre1YksrSK"
      },
      "source": [
        "# 3. EDA и Feature-Engeneering"
      ]
    },
    {
      "cell_type": "markdown",
      "metadata": {
        "id": "ppmyCb6psrSK"
      },
      "source": [
        "Проведем быстрый анализ данных для того, чтобы понимать, сможет ли с этими данными работать наш алгоритм. По большей части EDA и Feature-Engeneering был произведен в одном из предыдущих проектов CarPricePrediction, поэтому многие вещи будут заимствованы оттуда."
      ]
    },
    {
      "cell_type": "markdown",
      "metadata": {
        "id": "nBob9dqksrSL"
      },
      "source": [
        "Итого:\n",
        "* CatBoost сможет работать с признаками и в таком виде, но для нейросети нужны нормированные данные."
      ]
    },
    {
      "cell_type": "markdown",
      "metadata": {
        "id": "qbYOlchKsrSL"
      },
      "source": [
        "## Предобработка табличных данных"
      ]
    },
    {
      "cell_type": "markdown",
      "metadata": {
        "id": "ji5c7gnq32Pb"
      },
      "source": [
        "## Сначала поработаем с числовыми признаками. "
      ]
    },
    {
      "cell_type": "markdown",
      "metadata": {
        "id": "ltGPsYoxsrSY"
      },
      "source": [
        "### engineDisplacement"
      ]
    },
    {
      "cell_type": "markdown",
      "metadata": {
        "id": "KPTRz0h2srSY"
      },
      "source": [
        "Этот признак описывает объем двигателя авто. Посмотрим количество уникальных значений :"
      ]
    },
    {
      "cell_type": "code",
      "execution_count": null,
      "metadata": {
        "id": "f-FLYEX4srSY"
      },
      "outputs": [],
      "source": [
        "data.engineDisplacement.unique()"
      ]
    },
    {
      "cell_type": "markdown",
      "metadata": {
        "id": "bI6yyCjXsrSY"
      },
      "source": [
        "Мы видим, что признак отражает литраж двигателя с припиской LTR. Попробуем ее убрать:"
      ]
    },
    {
      "cell_type": "code",
      "execution_count": null,
      "metadata": {
        "id": "wpP30d2MsrSZ"
      },
      "outputs": [],
      "source": [
        "data.engineDisplacement = data.engineDisplacement.apply(lambda x: x[:3])"
      ]
    },
    {
      "cell_type": "code",
      "execution_count": null,
      "metadata": {
        "id": "3mGq8IytsrSZ"
      },
      "outputs": [],
      "source": [
        "data.engineDisplacement.value_counts()"
      ]
    },
    {
      "cell_type": "markdown",
      "metadata": {
        "id": "vVGWdA1bsrSZ"
      },
      "source": [
        "Мы видим, что 6 значений имеют und ( остаток от undefined LTR). Заполним значением моды:"
      ]
    },
    {
      "cell_type": "code",
      "execution_count": null,
      "metadata": {
        "id": "FZ0k0d_DsrSZ"
      },
      "outputs": [],
      "source": [
        "data.engineDisplacement = data.engineDisplacement.replace(\n",
        "    'und', data.engineDisplacement.mode()[0])"
      ]
    },
    {
      "cell_type": "markdown",
      "metadata": {
        "id": "ERebfe9OsrSa"
      },
      "source": [
        "Проверим результат:"
      ]
    },
    {
      "cell_type": "code",
      "execution_count": null,
      "metadata": {
        "id": "k9gShCVvsrSa"
      },
      "outputs": [],
      "source": [
        "data.engineDisplacement.unique()"
      ]
    },
    {
      "cell_type": "markdown",
      "metadata": {
        "id": "FzjdOHQpsrSa"
      },
      "source": [
        "Преобразуем в числовой формат и посмотрим распределение:"
      ]
    },
    {
      "cell_type": "code",
      "execution_count": null,
      "metadata": {
        "id": "DtmEPw16srSa"
      },
      "outputs": [],
      "source": [
        "data.engineDisplacement = data.engineDisplacement.apply(lambda x: float(x))"
      ]
    },
    {
      "cell_type": "code",
      "execution_count": null,
      "metadata": {
        "id": "7br_JHC7srSb"
      },
      "outputs": [],
      "source": [
        "data.engineDisplacement.hist()"
      ]
    },
    {
      "cell_type": "markdown",
      "metadata": {
        "id": "uAMRaVlzsrSb"
      },
      "source": [
        "Как мы видим, распределение близко к нормальному, но возможно после логарифмирования показатели станут лучше."
      ]
    },
    {
      "cell_type": "markdown",
      "metadata": {
        "id": "ETUgE_n2srSb"
      },
      "source": [
        "### enginePower"
      ]
    },
    {
      "cell_type": "markdown",
      "metadata": {
        "id": "VgIqsqu-srSb"
      },
      "source": [
        "Признак отражает мощность двигателя автомобиля. Посмотрим на уникальные значения:"
      ]
    },
    {
      "cell_type": "code",
      "execution_count": null,
      "metadata": {
        "id": "ahrDlROvsrSc"
      },
      "outputs": [],
      "source": [
        "data.enginePower.unique()"
      ]
    },
    {
      "cell_type": "markdown",
      "metadata": {
        "id": "OP3cFM6fsrSc"
      },
      "source": [
        "Избавимся от дополнительной информации в данных:"
      ]
    },
    {
      "cell_type": "code",
      "execution_count": null,
      "metadata": {
        "id": "CUnKDzM22-HM"
      },
      "outputs": [],
      "source": [
        "data['enginePower'] = data['enginePower'].apply(lambda x: str(x).replace(' N12', ''))"
      ]
    },
    {
      "cell_type": "markdown",
      "metadata": {
        "id": "aizvtVIgsrSc"
      },
      "source": [
        "Проверим результат:"
      ]
    },
    {
      "cell_type": "code",
      "execution_count": null,
      "metadata": {
        "id": "Q6l96lIbsrSd"
      },
      "outputs": [],
      "source": [
        "data.enginePower.unique()"
      ]
    },
    {
      "cell_type": "markdown",
      "metadata": {
        "id": "e3vLz7LosrSd"
      },
      "source": [
        "Замечательно, теперь переведем в числовой формат и посмотрим распределение значений:"
      ]
    },
    {
      "cell_type": "code",
      "execution_count": null,
      "metadata": {
        "id": "UAL5_fUssrSh"
      },
      "outputs": [],
      "source": [
        "data['enginePower'] = data['enginePower'].apply(lambda x: int(x))\n",
        "data.enginePower.hist()"
      ]
    },
    {
      "cell_type": "markdown",
      "metadata": {
        "id": "oqSpCIHbsrSi"
      },
      "source": [
        "Распределение близко к нормальному, но возможно необходимо будет логарифмировать для улучшения показателей. Отнесем к числовым признакам"
      ]
    },
    {
      "cell_type": "markdown",
      "metadata": {
        "id": "pu6PB6dasrSj"
      },
      "source": [
        "### mileage"
      ]
    },
    {
      "cell_type": "markdown",
      "metadata": {
        "id": "FZuTMa6PsrSk"
      },
      "source": [
        "Признак содержит данные о пробеге продаваемого авто. Проверим данные:"
      ]
    },
    {
      "cell_type": "code",
      "execution_count": null,
      "metadata": {
        "id": "4qfBijHRsrSk"
      },
      "outputs": [],
      "source": [
        "data.mileage.unique()"
      ]
    },
    {
      "cell_type": "markdown",
      "metadata": {
        "id": "e3x3eTAdsrSk"
      },
      "source": [
        "Данные чистые. Посмотрим на распределение признака:"
      ]
    },
    {
      "cell_type": "code",
      "execution_count": null,
      "metadata": {
        "id": "JDuwJdiAsrSk"
      },
      "outputs": [],
      "source": [
        "data.mileage.hist(figsize=(8, 5), bins=100)"
      ]
    },
    {
      "cell_type": "markdown",
      "metadata": {
        "id": "QUjtKOwpsrSl"
      },
      "source": [
        "Проверим на выбросы:"
      ]
    },
    {
      "cell_type": "code",
      "execution_count": null,
      "metadata": {
        "id": "USfi9_xZsrSl"
      },
      "outputs": [],
      "source": [
        "IQR = data['mileage'].quantile(0.75) - data['mileage'].quantile(0.25)\n",
        "perc25 = data['mileage'].quantile(0.25)  # 25-й перцентиль\n",
        "perc75 = data['mileage'].quantile(0.75)  # 75-й перцентиль\n",
        "\n",
        "print(\n",
        "    '25-й перцентиль: {},'.format(perc25),\n",
        "    '75-й перцентиль: {},'.format(perc75),\n",
        "    \"IQR: {}, \".format(IQR),\n",
        "    \"Границы выбросов: [{f}, {l}].\".format(f=perc25 - 1.5*IQR,\n",
        "                                           l=perc75 + 1.5*IQR))"
      ]
    },
    {
      "cell_type": "markdown",
      "metadata": {
        "id": "vRYBvBmesrSl"
      },
      "source": [
        "Посмотрим, сколько значений превышает границу:"
      ]
    },
    {
      "cell_type": "code",
      "execution_count": null,
      "metadata": {
        "id": "PR1DiMi0srSm"
      },
      "outputs": [],
      "source": [
        "data.mileage[data.mileage > 328841].count()"
      ]
    },
    {
      "cell_type": "markdown",
      "metadata": {
        "id": "mWeAKVXZsrSm"
      },
      "source": [
        "Как мы видим, значений действительно мало. Возможно они действительно являются выбросами, но существуют автомобили, у которых очень большой пробег. Поэтому предполагаемые выбросы оставим без изменений."
      ]
    },
    {
      "cell_type": "markdown",
      "metadata": {
        "id": "WdCA8yMksrSm"
      },
      "source": [
        "### modelDate"
      ]
    },
    {
      "cell_type": "markdown",
      "metadata": {
        "id": "CAdt9NoysrSn"
      },
      "source": [
        "Данный признак содержит информацию о годе производства модели авто. Просмотрим уникальные значения:"
      ]
    },
    {
      "cell_type": "code",
      "execution_count": null,
      "metadata": {
        "id": "sTvPLAv_srSn"
      },
      "outputs": [],
      "source": [
        "data.modelDate.unique()"
      ]
    },
    {
      "cell_type": "markdown",
      "metadata": {
        "id": "rei0bE4UZxZU"
      },
      "source": [
        "Создадим признак - возраст автомобиля и заменим им текущий признак."
      ]
    },
    {
      "cell_type": "code",
      "execution_count": null,
      "metadata": {
        "id": "VyH3fDWIa8gZ"
      },
      "outputs": [],
      "source": [
        "datetime.now().year"
      ]
    },
    {
      "cell_type": "code",
      "execution_count": null,
      "metadata": {
        "id": "iKdhPUZdZuXH"
      },
      "outputs": [],
      "source": [
        "data['model_time'] = data['modelDate'].apply(lambda x: datetime.now().year - x)"
      ]
    },
    {
      "cell_type": "markdown",
      "metadata": {
        "id": "nTVpLKhysrSn"
      },
      "source": [
        "Теперь построим график распределения для наглядности:"
      ]
    },
    {
      "cell_type": "code",
      "execution_count": null,
      "metadata": {
        "id": "MFRR568esrSn"
      },
      "outputs": [],
      "source": [
        "data['model_time'].hist()"
      ]
    },
    {
      "cell_type": "markdown",
      "metadata": {
        "id": "Evoq-1rJsrSy"
      },
      "source": [
        "### productionDate"
      ]
    },
    {
      "cell_type": "markdown",
      "metadata": {
        "id": "T8O5HDbbsrSz"
      },
      "source": [
        "Признак содержит информацию о годе производства авто. Проверим корреляцию между productionDate и model_time:"
      ]
    },
    {
      "cell_type": "code",
      "execution_count": null,
      "metadata": {
        "id": "x2l9quCgsrS0"
      },
      "outputs": [],
      "source": [
        "data[['model_time', 'productionDate']].corr()"
      ]
    },
    {
      "cell_type": "markdown",
      "metadata": {
        "id": "WO1EdNqFsrS0"
      },
      "source": [
        "Очевидно, высокая корреляция. Для модели будет более чем достаточно признака model_time. productionDate можно удалять."
      ]
    },
    {
      "cell_type": "markdown",
      "metadata": {
        "id": "bIjGD4OqsrS7"
      },
      "source": [
        "### Владение"
      ]
    },
    {
      "cell_type": "markdown",
      "metadata": {
        "id": "1l-nkPlHsrS7"
      },
      "source": [
        "Данный столбец отражает,сколько времени продавец владеет автомобилем. Посмотрим, сколько пропусков в данном столбце:"
      ]
    },
    {
      "cell_type": "code",
      "execution_count": null,
      "metadata": {
        "id": "1ruO01NAsrS7"
      },
      "outputs": [],
      "source": [
        "data.Владение.isna().sum()"
      ]
    },
    {
      "cell_type": "markdown",
      "metadata": {
        "id": "WofRGWZssrS7"
      },
      "source": [
        "Посмотрим соотношение пропусков ко всему дата-сету:"
      ]
    },
    {
      "cell_type": "code",
      "execution_count": null,
      "metadata": {
        "id": "GCZceFPwsrS8"
      },
      "outputs": [],
      "source": [
        "data.Владение.isna().sum()/len(data.Владение)*100"
      ]
    },
    {
      "cell_type": "markdown",
      "metadata": {
        "id": "DJ3oTIsJsrS8"
      },
      "source": [
        "Как видно, пропусков почти 65% дата-сета. Заполнение их каким-либо одним значением сыграет только плохую роль. Лучше данный столбец вообще не включать в обучение."
      ]
    },
    {
      "cell_type": "markdown",
      "metadata": {
        "id": "XAKSuvHcsrSK"
      },
      "source": [
        "Посмотрим, как выглядят распределения числовых признаков:"
      ]
    },
    {
      "cell_type": "code",
      "execution_count": null,
      "metadata": {
        "id": "0ydCHMHeOOcf"
      },
      "outputs": [],
      "source": [
        "data[['mileage', 'modelDate', 'engineDisplacement', 'enginePower']]"
      ]
    },
    {
      "cell_type": "markdown",
      "metadata": {
        "id": "rWrWW5_ouCOu"
      },
      "source": [
        "## Теперь рассмотрим категориальные признаки."
      ]
    },
    {
      "cell_type": "markdown",
      "metadata": {
        "id": "FGR6AG7hsrSM"
      },
      "source": [
        "### bodyType"
      ]
    },
    {
      "cell_type": "markdown",
      "metadata": {
        "id": "CDkzEVAWsrSM"
      },
      "source": [
        "Данный столбец отражает тип кузова автомобиля. Посмотрим на количество вариантов:"
      ]
    },
    {
      "cell_type": "code",
      "execution_count": null,
      "metadata": {
        "id": "pj1XOkknsrSN"
      },
      "outputs": [],
      "source": [
        "data['bodyType'].unique()"
      ]
    },
    {
      "cell_type": "markdown",
      "metadata": {
        "id": "dnatq_4NsrSN"
      },
      "source": [
        "Проведем обработку данных:"
      ]
    },
    {
      "cell_type": "code",
      "execution_count": null,
      "metadata": {
        "id": "RuFvViCHsrSP"
      },
      "outputs": [],
      "source": [
        "# Выбираем первое слово для описания типа кузова\n",
        "data['bodyType'] = data['bodyType'].astype(\n",
        "    str).apply(lambda x: None if x.strip() == '' else x)\n",
        "# Понижаем регистр первого слова\n",
        "data['bodyType'] = data['bodyType'].apply(lambda x: x.split(' ')[0].lower())"
      ]
    },
    {
      "cell_type": "markdown",
      "metadata": {
        "id": "rDU8mebRsrSR"
      },
      "source": [
        "Проверим распределение значений по типу кузова:"
      ]
    },
    {
      "cell_type": "code",
      "execution_count": null,
      "metadata": {
        "id": "IQ7mHBiDsrSS"
      },
      "outputs": [],
      "source": [
        "data['bodyType'].value_counts().plot.barh()"
      ]
    },
    {
      "cell_type": "markdown",
      "metadata": {
        "id": "LTqzYcQHsrST"
      },
      "source": [
        "### brand"
      ]
    },
    {
      "cell_type": "markdown",
      "metadata": {
        "id": "mI3FWVLCsrST"
      },
      "source": [
        "Данный столбец отражает название фирмы-производителя автомобиля. Проверим уникальные значения:"
      ]
    },
    {
      "cell_type": "code",
      "execution_count": null,
      "metadata": {
        "id": "fo0QsSlJsrST"
      },
      "outputs": [],
      "source": [
        "data['brand'].unique()"
      ]
    },
    {
      "cell_type": "markdown",
      "metadata": {
        "id": "5CBSXaKcsrSU"
      },
      "source": [
        "Как мы видим, уникальных значений мало, можно оставить без изменений. Посмотрим распределение значений:"
      ]
    },
    {
      "cell_type": "code",
      "execution_count": null,
      "metadata": {
        "id": "paIm8AELsrSU"
      },
      "outputs": [],
      "source": [
        "data['brand'].value_counts().plot.barh()"
      ]
    },
    {
      "cell_type": "markdown",
      "metadata": {
        "id": "j0FHJnOJsrSU"
      },
      "source": [
        "### color"
      ]
    },
    {
      "cell_type": "markdown",
      "metadata": {
        "id": "meYAKVOcsrSV"
      },
      "source": [
        "Данный признак отражает цвет продаваемого автомобиля.  \n",
        "Посмотрим уникальные значения и их количество:"
      ]
    },
    {
      "cell_type": "code",
      "execution_count": null,
      "metadata": {
        "id": "CTpvxg8iQTYI"
      },
      "outputs": [],
      "source": [
        "data['color'].unique()"
      ]
    },
    {
      "cell_type": "code",
      "execution_count": null,
      "metadata": {
        "id": "yb9R-fAMsrSV"
      },
      "outputs": [],
      "source": [
        "data['color'].nunique()"
      ]
    },
    {
      "cell_type": "markdown",
      "metadata": {
        "id": "ZFCoXIg_srSW"
      },
      "source": [
        "Посмотрим распределение значений по цветам:"
      ]
    },
    {
      "cell_type": "code",
      "execution_count": null,
      "metadata": {
        "id": "trpJhIGXsrSW"
      },
      "outputs": [],
      "source": [
        "data['color'].value_counts().plot.barh()"
      ]
    },
    {
      "cell_type": "markdown",
      "metadata": {
        "id": "bM-aHKjqsrSi"
      },
      "source": [
        "### fuelType"
      ]
    },
    {
      "cell_type": "markdown",
      "metadata": {
        "id": "RSlazyPNsrSi"
      },
      "source": [
        "Данный признак содержит данные о типе топлива, используемого в автомобиле. Посмотрим на уникальные значения:\n"
      ]
    },
    {
      "cell_type": "code",
      "execution_count": null,
      "metadata": {
        "id": "TUFcYAaysrSi"
      },
      "outputs": [],
      "source": [
        "data['fuelType'].value_counts()"
      ]
    },
    {
      "cell_type": "markdown",
      "metadata": {
        "id": "amKwD71PsrSj"
      },
      "source": [
        "Посмотрим распределение признака:"
      ]
    },
    {
      "cell_type": "code",
      "execution_count": null,
      "metadata": {
        "id": "lC819A8wsrSj"
      },
      "outputs": [],
      "source": [
        "data['fuelType'].hist()"
      ]
    },
    {
      "cell_type": "markdown",
      "metadata": {
        "id": "JeaSZwFUsrSj"
      },
      "source": [
        "Как видно из графика, подавляющее большинство автомобилей используют бензиновое топливо. Отнесем признак к категориальным."
      ]
    },
    {
      "cell_type": "markdown",
      "metadata": {
        "id": "bXQOIFRfsrSo"
      },
      "source": [
        "### model_info"
      ]
    },
    {
      "cell_type": "markdown",
      "metadata": {
        "id": "3Xy6Ye_HsrSp"
      },
      "source": [
        "Данный столбец отражает информацию о модели продаваемого автомобиля. Посмотрим количество уникальных значений:"
      ]
    },
    {
      "cell_type": "code",
      "execution_count": null,
      "metadata": {
        "id": "UsZrcmgisrSr"
      },
      "outputs": [],
      "source": [
        "data['model_info'].value_counts()"
      ]
    },
    {
      "cell_type": "markdown",
      "metadata": {
        "id": "X8z7werdsrSs"
      },
      "source": [
        "Мы имеем одну строчку без указания модели. Посмотрим, что это за строка:"
      ]
    },
    {
      "cell_type": "code",
      "execution_count": null,
      "metadata": {
        "id": "BZDbXiJssrSs"
      },
      "outputs": [],
      "source": [
        "data.loc[data['model_info'] == 'None']"
      ]
    },
    {
      "cell_type": "markdown",
      "metadata": {
        "id": "k5IBf_KYsrSs"
      },
      "source": [
        "Видим, что это Mercedes-седан. Посмотрим, возможно в комментарии указана модель:"
      ]
    },
    {
      "cell_type": "code",
      "execution_count": null,
      "metadata": {
        "id": "lvfZfW6_srSs"
      },
      "outputs": [],
      "source": [
        "data.iloc[2803]['description']"
      ]
    },
    {
      "cell_type": "markdown",
      "metadata": {
        "id": "1-D6dzpfh36x"
      },
      "source": [
        "Посмотрим на фотографию автомобиля и попробуем по изображению найти информацию о модели в интернете."
      ]
    },
    {
      "cell_type": "code",
      "execution_count": null,
      "metadata": {
        "id": "tALE_0CCS3Wl"
      },
      "outputs": [],
      "source": [
        "im = PIL.Image.open(os.path.join(DATA_PATH, 'img', 'img', '1099323364.jpg'))\n",
        "\n",
        "plt.subplot(1, 1, 1)\n",
        "plt.subplots_adjust(hspace=0.5)\n",
        "plt.imshow(im)\n",
        "plt.show()"
      ]
    },
    {
      "cell_type": "markdown",
      "metadata": {
        "id": "6PKpfDgLiNZe"
      },
      "source": [
        "Исходя из имеющихся об автомобиле данных и его изображении скорее всего это Mercedes-Benz E-Класс AMG 63 AMG S IV. Отсюда следует что признако можно заполнить значением E_KLASSE."
      ]
    },
    {
      "cell_type": "code",
      "execution_count": null,
      "metadata": {
        "id": "XBZ9wTybfqVi"
      },
      "outputs": [],
      "source": [
        "data['model_info'] = 'E_KLASSE'"
      ]
    },
    {
      "cell_type": "markdown",
      "metadata": {
        "id": "cJpvJ7VZsrSt"
      },
      "source": [
        "### name"
      ]
    },
    {
      "cell_type": "markdown",
      "metadata": {
        "id": "9AmI2RfZsrSt"
      },
      "source": [
        "Столбец дублирует информацию из других столбцов. Единственное, что можно из него выделить - это наличие xDrive в автомобиле. Создадим новый признак:"
      ]
    },
    {
      "cell_type": "code",
      "execution_count": null,
      "metadata": {
        "id": "-hg_BTAcsrSt"
      },
      "outputs": [],
      "source": [
        "data['xDrive'] = data['name'].apply(lambda x: 1 if 'xDrive' in x else 0)"
      ]
    },
    {
      "cell_type": "markdown",
      "metadata": {
        "id": "Dx4a2cetsrSu"
      },
      "source": [
        "Посмотрим как распределен признак:"
      ]
    },
    {
      "cell_type": "code",
      "execution_count": null,
      "metadata": {
        "id": "AmDmUT5QsrSu"
      },
      "outputs": [],
      "source": [
        "sns.countplot(x='xDrive', data=data)"
      ]
    },
    {
      "cell_type": "markdown",
      "metadata": {
        "id": "_xUo8hTnsrSu"
      },
      "source": [
        "Как мы видим, большая часть представленных автомобилей не имеет xDrive. Отнесем к бинарным признакам."
      ]
    },
    {
      "cell_type": "markdown",
      "metadata": {
        "id": "gSYwbiqXsrSu"
      },
      "source": [
        "### numberOfDoors"
      ]
    },
    {
      "cell_type": "markdown",
      "metadata": {
        "id": "jPraZHo-srSu"
      },
      "source": [
        "Признак содержит информацию о количестве дверей авто. Посмотрим на уникальные значения:"
      ]
    },
    {
      "cell_type": "code",
      "execution_count": null,
      "metadata": {
        "id": "Y027LCytsrSv"
      },
      "outputs": [],
      "source": [
        "data['numberOfDoors'].unique()"
      ]
    },
    {
      "cell_type": "markdown",
      "metadata": {
        "id": "GnTdL2DLsrSv"
      },
      "source": [
        "Как видно, никаких значений, вызывающих сомнения, нет. Проверим распределение признака:"
      ]
    },
    {
      "cell_type": "code",
      "execution_count": null,
      "metadata": {
        "id": "Od4FOIz_srSw"
      },
      "outputs": [],
      "source": [
        "sns.countplot(x='numberOfDoors', data=data)"
      ]
    },
    {
      "cell_type": "code",
      "execution_count": null,
      "metadata": {
        "id": "L9qKhIUvQlLG"
      },
      "outputs": [],
      "source": [
        "data['numberOfDoors'] = data['numberOfDoors'].astype('object')"
      ]
    },
    {
      "cell_type": "markdown",
      "metadata": {
        "id": "hvGatXpfsrS1"
      },
      "source": [
        "### vehicleConfiguration"
      ]
    },
    {
      "cell_type": "code",
      "execution_count": null,
      "metadata": {
        "id": "8YJF-nYfrU-C"
      },
      "outputs": [],
      "source": [
        "data['vehicleConfiguration']"
      ]
    },
    {
      "cell_type": "markdown",
      "metadata": {
        "id": "6RqTGJtpsrS1"
      },
      "source": [
        "Столбец содержит информацию из других столбцов. Информативности не несет. Признак можно удалить."
      ]
    },
    {
      "cell_type": "markdown",
      "metadata": {
        "id": "XVkKTVvIsrS3"
      },
      "source": [
        "### Владельцы"
      ]
    },
    {
      "cell_type": "code",
      "execution_count": null,
      "metadata": {
        "id": "p8-hD-v8wsXJ"
      },
      "outputs": [],
      "source": [
        "data['Владельцы'].unique()"
      ]
    },
    {
      "cell_type": "markdown",
      "metadata": {
        "id": "qMjdZ1XfsrS3"
      },
      "source": [
        "Признак содержит информацию о количестве владельцев авто. Посмотрим пропуски:"
      ]
    },
    {
      "cell_type": "code",
      "execution_count": null,
      "metadata": {
        "id": "TtdRuGKYsrS3"
      },
      "outputs": [],
      "source": [
        "data['Владельцы'].isna().sum()"
      ]
    },
    {
      "cell_type": "markdown",
      "metadata": {
        "id": "8dY-OXzDsrS4"
      },
      "source": [
        "Всего один пропуск. Посмотрим, что это за строка:"
      ]
    },
    {
      "cell_type": "code",
      "execution_count": null,
      "metadata": {
        "id": "2OIZ8qqfsrS4"
      },
      "outputs": [],
      "source": [
        "data[data['Владельцы'].isnull()]"
      ]
    },
    {
      "cell_type": "markdown",
      "metadata": {
        "id": "SpKIQ930srS4"
      },
      "source": [
        "Посмотрим описание, возможно там указано, сколько было владельцев:"
      ]
    },
    {
      "cell_type": "code",
      "execution_count": null,
      "metadata": {
        "id": "l_0j1R3lsrS4"
      },
      "outputs": [],
      "source": [
        "data.iloc[6665]['description']"
      ]
    },
    {
      "cell_type": "markdown",
      "metadata": {
        "id": "c7Y0YD1wsrS4"
      },
      "source": [
        "К сожалению, комментарий оказался неинформативен. Заполним значение модой:"
      ]
    },
    {
      "cell_type": "code",
      "execution_count": null,
      "metadata": {
        "id": "2y3QPInIsrS5"
      },
      "outputs": [],
      "source": [
        "data['Владельцы'].fillna(data['Владельцы'].mode()[0], inplace=True)"
      ]
    },
    {
      "cell_type": "markdown",
      "metadata": {
        "id": "xJUu1BZusrS5"
      },
      "source": [
        "Посмотрим результат:"
      ]
    },
    {
      "cell_type": "code",
      "execution_count": null,
      "metadata": {
        "id": "795C5jTGsrS5"
      },
      "outputs": [],
      "source": [
        "data['Владельцы'].isna().sum()"
      ]
    },
    {
      "cell_type": "markdown",
      "metadata": {
        "id": "Y7fI95pGsrS5"
      },
      "source": [
        "Теперь оставим только числовые значения и приведем к числовому виду столбец:"
      ]
    },
    {
      "cell_type": "code",
      "execution_count": null,
      "metadata": {
        "id": "pJSuZE0ZsrS6"
      },
      "outputs": [],
      "source": [
        "data['Владельцы'] = data['Владельцы'].apply(lambda x: int(str(x)[0]))"
      ]
    },
    {
      "cell_type": "markdown",
      "metadata": {
        "id": "TflNvYjXsrS6"
      },
      "source": [
        "Посмотрим распределение:"
      ]
    },
    {
      "cell_type": "code",
      "execution_count": null,
      "metadata": {
        "id": "nDUIv3H8srS6"
      },
      "outputs": [],
      "source": [
        "data['Владельцы'].hist()"
      ]
    },
    {
      "cell_type": "markdown",
      "metadata": {
        "id": "dGOVkyUOsrS6"
      },
      "source": [
        "Видно что автомобили с 3 владельцами немного преобладают над всеми остальными, но не сильно."
      ]
    },
    {
      "cell_type": "markdown",
      "metadata": {
        "id": "JNnEA71FsuKL"
      },
      "source": [
        "Т.к. значения данного признака можно сравнивать между собой, заменим значения на те, что больше отражают суть признака - чем больше владельцев у авто, тем хуже. Для этого заменим:  \n",
        "1 - на 0,  \n",
        "2 - на -1,  \n",
        "3 - на -2."
      ]
    },
    {
      "cell_type": "code",
      "execution_count": null,
      "metadata": {
        "id": "Oz0OGpGwtkhK"
      },
      "outputs": [],
      "source": [
        "data['Владельцы'] = data['Владельцы'].apply(lambda x: x - (x*2-1))"
      ]
    },
    {
      "cell_type": "code",
      "execution_count": null,
      "metadata": {
        "id": "SJwzzVxYuQuN"
      },
      "outputs": [],
      "source": [
        "data['Владельцы'].hist()"
      ]
    },
    {
      "cell_type": "markdown",
      "metadata": {
        "id": "yPVAv17fsrS1"
      },
      "source": [
        "### vehicleTransmission"
      ]
    },
    {
      "cell_type": "markdown",
      "metadata": {
        "id": "PN0AzAQ0srS1"
      },
      "source": [
        "Признак содержит информацию о типе коробки передач, используемой в транспортном средстве. Проверим уникальные значения:"
      ]
    },
    {
      "cell_type": "code",
      "execution_count": null,
      "metadata": {
        "id": "afYNQ9d_srS2"
      },
      "outputs": [],
      "source": [
        "data['vehicleTransmission'].unique()"
      ]
    },
    {
      "cell_type": "markdown",
      "metadata": {
        "id": "SU_EpW-HsrS2"
      },
      "source": [
        "Посмотрим распределение признака:"
      ]
    },
    {
      "cell_type": "code",
      "execution_count": null,
      "metadata": {
        "id": "lLr7W-2CsrS2"
      },
      "outputs": [],
      "source": [
        "sns.countplot(x='vehicleTransmission', data=data)"
      ]
    },
    {
      "cell_type": "markdown",
      "metadata": {
        "id": "7EdSlucisrS2"
      },
      "source": [
        "Подавляющее большинство автомобилей имеют автоматическую коробку передач."
      ]
    },
    {
      "cell_type": "markdown",
      "metadata": {
        "id": "aRa95GDxsrS8"
      },
      "source": [
        "### ПТС"
      ]
    },
    {
      "cell_type": "markdown",
      "metadata": {
        "id": "SXW5AVAGsrS8"
      },
      "source": [
        "Данный признак содержит информацию о ПТС автомобиля. Проверим уникальные значения:"
      ]
    },
    {
      "cell_type": "code",
      "execution_count": null,
      "metadata": {
        "id": "mVIoSDShsrS8"
      },
      "outputs": [],
      "source": [
        "data['ПТС'].unique()"
      ]
    },
    {
      "cell_type": "markdown",
      "metadata": {
        "id": "xlG2q2cQsrS9"
      },
      "source": [
        "Выведем график распределения признака:"
      ]
    },
    {
      "cell_type": "code",
      "execution_count": null,
      "metadata": {
        "id": "wwbUz22VsrS9"
      },
      "outputs": [],
      "source": [
        "data.ПТС.hist()"
      ]
    },
    {
      "cell_type": "markdown",
      "metadata": {
        "id": "gAjPrz5osrS9"
      },
      "source": [
        "Как видно из распределения - большая часть продавцов имеет оригинал ПТС. Пропусков не наблюдается."
      ]
    },
    {
      "cell_type": "markdown",
      "metadata": {
        "id": "N5a4JpklsrS9"
      },
      "source": [
        "### Привод"
      ]
    },
    {
      "cell_type": "markdown",
      "metadata": {
        "id": "50IUg_MRsrS-"
      },
      "source": [
        "Признак содержит информацию о том, какой привод у транспортного средства. Посмотрим график распределения признака:"
      ]
    },
    {
      "cell_type": "code",
      "execution_count": null,
      "metadata": {
        "id": "lmLdJ-KysrS-"
      },
      "outputs": [],
      "source": [
        "sns.countplot(x='Привод', data=data)"
      ]
    },
    {
      "cell_type": "markdown",
      "metadata": {
        "id": "vDsb01HzsrS-"
      },
      "source": [
        "Видно, что большинство автомобилей имеют полный привод."
      ]
    },
    {
      "cell_type": "markdown",
      "metadata": {
        "id": "CZ52YOsXsrS-"
      },
      "source": [
        "### Руль"
      ]
    },
    {
      "cell_type": "markdown",
      "metadata": {
        "id": "Q3fEaw9SsrS-"
      },
      "source": [
        "Признак отражает положение руля в автомобиле. Посмотрим распределение признака:"
      ]
    },
    {
      "cell_type": "code",
      "execution_count": null,
      "metadata": {
        "id": "LHlAvjvgsrS_"
      },
      "outputs": [],
      "source": [
        "sns.countplot(x='Руль', data=data)"
      ]
    },
    {
      "cell_type": "markdown",
      "metadata": {
        "id": "RvXWoSUCsrS_"
      },
      "source": [
        "Почти все автомобили имеют левый руль."
      ]
    },
    {
      "cell_type": "markdown",
      "metadata": {
        "id": "WMQEYmhGRDGm"
      },
      "source": [
        "Остался текстовый признак и признак, указывающий на соответствующую фотографию автомобиля."
      ]
    },
    {
      "cell_type": "markdown",
      "metadata": {
        "id": "OoGfUN2UsrSW"
      },
      "source": [
        "### description"
      ]
    },
    {
      "cell_type": "markdown",
      "metadata": {
        "id": "O5SqrUAIsrSX"
      },
      "source": [
        "Данный столбец содержит комментарий о продаваемом автомобиле. В дальнейшем будет использоваться для NLP. Сейчас выделим на основе этого столбца признак, отражающий длину комментария:"
      ]
    },
    {
      "cell_type": "code",
      "execution_count": null,
      "metadata": {
        "id": "pBpg8R_KsrSX"
      },
      "outputs": [],
      "source": [
        "data['comment_length'] = data.description.apply(lambda x: len(str(x)))"
      ]
    },
    {
      "cell_type": "code",
      "execution_count": null,
      "metadata": {
        "id": "2TBDKrypsrSX"
      },
      "outputs": [],
      "source": [
        "data.comment_length.hist()"
      ]
    },
    {
      "cell_type": "markdown",
      "metadata": {
        "id": "B-XzJ5mQsrSX"
      },
      "source": [
        "Отнесем к числовым признакам"
      ]
    },
    {
      "cell_type": "markdown",
      "metadata": {
        "id": "bDzXVIucsrS0"
      },
      "source": [
        "### sell_id"
      ]
    },
    {
      "cell_type": "markdown",
      "metadata": {
        "id": "rUaWG4x9srS0"
      },
      "source": [
        "Этот признак нам в дальнейшем пригодится для того, чтобы находить изображения по идентификатору объявления. Для табличного обучения информативности не имеет."
      ]
    },
    {
      "cell_type": "markdown",
      "metadata": {
        "id": "B6iLz9CusrS_"
      },
      "source": [
        "### Целевой признак - price"
      ]
    },
    {
      "cell_type": "markdown",
      "metadata": {
        "id": "hStlUoTRsrTF"
      },
      "source": [
        "Посмотрим график распределения целевого признака:"
      ]
    },
    {
      "cell_type": "code",
      "execution_count": null,
      "metadata": {
        "id": "gUf7T7b2srTG"
      },
      "outputs": [],
      "source": [
        "plt.figure(figsize=(10, 3))\n",
        "plt.subplot(1, 2, 1)\n",
        "plt.title(f\"Histogramma {'price'}\")\n",
        "sns.distplot((data[data['sample'] == 1]['price']), bins=50)\n",
        "\n",
        "plt.subplot(1, 2, 2)\n",
        "sns.boxplot(data['price'])\n",
        "plt.xlabel('Price')\n",
        "plt.title(f\"Boxplot {'price'}\", fontsize=12)\n",
        "plt.show()\n",
        "data.price.describe()"
      ]
    },
    {
      "cell_type": "markdown",
      "metadata": {
        "id": "aSLQ8fQRsrTG"
      },
      "source": [
        "Видно, что данные сильно смещены влево. Посмотрим, как будет себя вести признак после логарифмирования:"
      ]
    },
    {
      "cell_type": "code",
      "execution_count": null,
      "metadata": {
        "id": "iCueYF4xsrTG"
      },
      "outputs": [],
      "source": [
        "plt.figure(figsize=(10, 3))\n",
        "plt.subplot(1, 2, 1)\n",
        "plt.title(f\"Histogramma log.{'price'} \")\n",
        "sns.distplot(np.log(data[data['sample'] == 1]['price']), bins=50)\n",
        "\n",
        "plt.subplot(1, 2, 2)\n",
        "sns.boxplot(np.log(data[data['sample'] == 1]['price']))\n",
        "plt.xlabel('Price')\n",
        "plt.title('Boxplot log.price', fontsize=12)\n",
        "plt.show()"
      ]
    },
    {
      "cell_type": "markdown",
      "metadata": {
        "id": "bBFpNyQAsrTH"
      },
      "source": [
        "Теперь посмотрим зависимости некоторых столбцов от целевого:"
      ]
    },
    {
      "cell_type": "markdown",
      "metadata": {
        "id": "Y2WsA_QdBKHk"
      },
      "source": [
        "Зависимость от возраста авто."
      ]
    },
    {
      "cell_type": "code",
      "execution_count": null,
      "metadata": {
        "id": "K0jb9pG9srTH"
      },
      "outputs": [],
      "source": [
        "plt.figure(figsize=(10, 5))\n",
        "plt.scatter((data.price), data.modelDate)"
      ]
    },
    {
      "cell_type": "markdown",
      "metadata": {
        "id": "PKLMxBVHsrTH"
      },
      "source": [
        "Из распределения видно, что чем более \"свежий\" автомобиль, тем выше на него цена. Но опять же, некоторые более старые автомобили могут стоить дорого из-за раритетности.  \n",
        "Посмотрим также зависимость от привода:"
      ]
    },
    {
      "cell_type": "code",
      "execution_count": null,
      "metadata": {
        "id": "wxlSRT1SsrTH"
      },
      "outputs": [],
      "source": [
        "plt.figure(figsize=(8, 5))\n",
        "plt.scatter((data.price), data['Привод'])"
      ]
    },
    {
      "cell_type": "markdown",
      "metadata": {
        "id": "b3loP-YwsrTI"
      },
      "source": [
        "Из распределения хорошо видно, что наиболее высокая цена у полного привода, что логично."
      ]
    },
    {
      "cell_type": "markdown",
      "metadata": {
        "id": "sLZFsqcOsrTI"
      },
      "source": [
        "Теперь сформируем перечень числовых признаков:\n",
        "\n",
        "\n"
      ]
    },
    {
      "cell_type": "code",
      "execution_count": null,
      "metadata": {
        "id": "6KOZXlbosrTI"
      },
      "outputs": [],
      "source": [
        "# числовые признаки\n",
        "num_features = ['mileage', 'model_time', 'engineDisplacement', \n",
        "                'enginePower', 'comment_length']"
      ]
    },
    {
      "cell_type": "markdown",
      "metadata": {
        "id": "fINYlwCtsrTI"
      },
      "source": [
        "Необходимо посмотреть корреляционную зависимость наших признаков:"
      ]
    },
    {
      "cell_type": "code",
      "execution_count": null,
      "metadata": {
        "id": "rkwlcw8usrTJ"
      },
      "outputs": [],
      "source": [
        "plt.figure(figsize=(12, 7))\n",
        "sns.heatmap(data[data['sample'] == 1]\n",
        "            [num_features + ['price']].corr(), annot=True)"
      ]
    },
    {
      "cell_type": "markdown",
      "metadata": {
        "id": "crD_43V4cGsW"
      },
      "source": [
        "Больше всего на таргет влияют признаки mileage, model_time, enginePower.  \n",
        "Прослеживается высокая корреляция между мощньстью и объёмом двигателя, что очевидно. Однако, на мой взгляд она не достаточно высока, чтобы удалять один из признаков."
      ]
    },
    {
      "cell_type": "markdown",
      "metadata": {
        "id": "er5zb5fHsrTJ"
      },
      "source": [
        "# Финальный этап обработки данных:"
      ]
    },
    {
      "cell_type": "markdown",
      "metadata": {
        "id": "o1Qpv0DB44K7"
      },
      "source": [
        "## Распределение числовых признаков."
      ]
    },
    {
      "cell_type": "code",
      "execution_count": null,
      "metadata": {
        "id": "NW3_mmCHsrSK"
      },
      "outputs": [],
      "source": [
        "def visualize_distributions(titles_values_dict):\n",
        "    columns = min(3, len(titles_values_dict))\n",
        "    rows = (len(titles_values_dict) - 1) // columns + 1\n",
        "    fig = plt.figure(figsize=(columns * 6, rows * 4))\n",
        "    for i, (title, values) in enumerate(titles_values_dict.items()):\n",
        "        hist, bins = np.histogram(values, bins=20)\n",
        "        ax = fig.add_subplot(rows, columns, i + 1)\n",
        "        ax.bar(bins[:-1], hist, width=(bins[1] - bins[0]) * 0.7)\n",
        "        ax.set_title(title)\n",
        "    plt.show()\n",
        "\n",
        "\n",
        "visualize_distributions({\n",
        "    'mileage': data['mileage'].dropna(),\n",
        "    'modelDate': data['modelDate'].dropna(),\n",
        "    'engineDisplacement': data['engineDisplacement'].dropna(),\n",
        "    'enginePower': data['enginePower'].dropna(),\n",
        "    'comment_length': data['comment_length'].dropna()\n",
        "})"
      ]
    },
    {
      "cell_type": "markdown",
      "metadata": {
        "id": "af70Tk1VGt8T"
      },
      "source": [
        "## Просмотрим распределение после логарифмирования:"
      ]
    },
    {
      "cell_type": "code",
      "execution_count": null,
      "metadata": {
        "id": "RlGWCRCBG4AL"
      },
      "outputs": [],
      "source": [
        "visualize_distributions({\n",
        "    'mileage': np.log10(data['mileage'].dropna()),\n",
        "    'modelDate': np.log10(data['modelDate'].dropna()),\n",
        "    'engineDisplacement': np.log10(data['engineDisplacement'].dropna()),\n",
        "    'enginePower': np.log10(data['enginePower'].dropna()),\n",
        "    'comment_length': np.log10(data['comment_length'].dropna())\n",
        "})"
      ]
    },
    {
      "cell_type": "markdown",
      "metadata": {
        "id": "mFBXQDNDdh36"
      },
      "source": [
        "Распределения стали выглядеть лучше. Таким образом перед нормализацией возьмём логарифм для каждого числового признака."
      ]
    },
    {
      "cell_type": "markdown",
      "metadata": {
        "id": "rAGeOM5TkRCr"
      },
      "source": [
        "## Тестируем масштабаторы."
      ]
    },
    {
      "cell_type": "code",
      "execution_count": null,
      "metadata": {
        "id": "ZrlRlVCZhe5Y"
      },
      "outputs": [],
      "source": [
        "MinMaxScaler, RobustScaler, StandardScaler\n",
        "scaler1 = StandardScaler()\n",
        "scaler2 = MinMaxScaler()\n",
        "scaler3 = RobustScaler()\n",
        "\n",
        "scaler = scaler1\n",
        "\n",
        "visualize_distributions({\n",
        "    'mileage': scaler.fit_transform(np.log10(data[['mileage']].dropna()))[:, 0],\n",
        "    'modelDate': scaler.fit_transform(np.log10(data[['modelDate']].dropna()))[:, 0],\n",
        "    'engineDisplacement': scaler.fit_transform(np.log10(data[['engineDisplacement']].dropna()))[:, 0],\n",
        "    'enginePower': scaler.fit_transform(np.log10(data[['enginePower']].dropna()))[:, 0],\n",
        "    'comment_length': scaler.fit_transform(np.log10(data[['comment_length']].dropna()))[:, 0]\n",
        "})"
      ]
    },
    {
      "cell_type": "code",
      "execution_count": null,
      "metadata": {
        "id": "azrN5QeXjymH"
      },
      "outputs": [],
      "source": [
        "scaler = scaler2\n",
        "\n",
        "visualize_distributions({\n",
        "    'mileage': scaler.fit_transform(np.log10(data[['mileage']].dropna()))[:, 0],\n",
        "    'modelDate': scaler.fit_transform(np.log10(data[['modelDate']].dropna()))[:, 0],\n",
        "    'engineDisplacement': scaler.fit_transform(np.log10(data[['engineDisplacement']].dropna()))[:, 0],\n",
        "    'enginePower': scaler.fit_transform(np.log10(data[['enginePower']].dropna()))[:, 0],\n",
        "    'comment_length': scaler.fit_transform(np.log10(data[['comment_length']].dropna()))[:, 0]\n",
        "})"
      ]
    },
    {
      "cell_type": "code",
      "execution_count": null,
      "metadata": {
        "id": "XsPi7pg-jzlx"
      },
      "outputs": [],
      "source": [
        "scaler = scaler3\n",
        "\n",
        "visualize_distributions({\n",
        "    'mileage': scaler.fit_transform(np.log10(data[['mileage']].dropna()))[:, 0],\n",
        "    'modelDate': scaler.fit_transform(np.log10(data[['modelDate']].dropna()))[:, 0],\n",
        "    'engineDisplacement': scaler.fit_transform(np.log10(data[['engineDisplacement']].dropna()))[:, 0],\n",
        "    'enginePower': scaler.fit_transform(np.log10(data[['enginePower']].dropna()))[:, 0],\n",
        "    'comment_length': scaler.fit_transform(np.log10(data[['comment_length']].dropna()))[:, 0]\n",
        "})"
      ]
    },
    {
      "cell_type": "markdown",
      "metadata": {
        "id": "9Yv0CxmWlBMn"
      },
      "source": [
        "Лучше всего себя показал StandartScaler. Поэтому в финальной обработке будем использовать его."
      ]
    },
    {
      "cell_type": "markdown",
      "metadata": {
        "id": "MUJEYMlkpicF"
      },
      "source": [
        ""
      ]
    },
    {
      "cell_type": "code",
      "execution_count": null,
      "metadata": {
        "id": "qGBy7AOXsrTK"
      },
      "outputs": [],
      "source": [
        "def process_data(df_input):\n",
        "\n",
        "    df_output = df_input.copy()\n",
        "\n",
        "    # Удалим неиспользуемые столбцы\n",
        "    df_output.drop(['modelDate', 'productionDate', 'description', 'sell_id', \n",
        "                    'vehicleConfiguration', 'Владение', 'name', ],\n",
        "                    axis=1, inplace=True)\n",
        "\n",
        "    ############################### Нормализация ###############################\n",
        "\n",
        "    scaler = StandardScaler()\n",
        "    for column in num_features:\n",
        "        df_output[column] = scaler.fit_transform(\n",
        "            df_output[[column]])[:, 0]\n",
        "\n",
        "    # scaler = RobustScaler()\n",
        "    # for column in num_features:\n",
        "    #     df_output[column] = scaler.fit_transform(\n",
        "    #         df_output[[column]])[:,0]\n",
        "    \n",
        "    return df_output"
      ]
    },
    {
      "cell_type": "markdown",
      "source": [
        "# Категориальные признаки\n",
        "\n",
        "Изначально планировалось разбить категориальные признаки на логические группы:  \n",
        "- {brand, ПТС, Привод, Руль} будут закодированы с помощью One-Hot Encoder;\n",
        "- {fuelType, numberOfDoors, vehicleTransmission} будут закодированы с помощью BinaryEncoder;\n",
        "- {bodyType, color, model_info} будут закодированы с помощью Target Encoder реализованного под капотом CatBoost;  \n",
        "Такой подход дал хорошие результаты для CatBoost, но нейронные сети обучались очень плохо.  \n",
        "\n",
        "Далее я попробовал преобразовать все категориальные признаки методом Leave_One_Out - ни одна модель не меняла результаты.\n",
        "\n",
        "В итоге, я выбрал обработать признаки для каждых типов моделей соответственно:  \n",
        "- Для CatBoost выбрал обработку с разбиением на логические группы;\n",
        "- Для DNN выбрал обработку простым One-Hot Encoder.  \n"
      ],
      "metadata": {
        "id": "5iS15ZhpJWmv"
      }
    },
    {
      "cell_type": "markdown",
      "metadata": {
        "id": "Jujr6mhKsrTK"
      },
      "source": [
        "## Преобразование числовых признаков"
      ]
    },
    {
      "cell_type": "code",
      "execution_count": null,
      "metadata": {
        "id": "8sSeb_YVsrTK"
      },
      "outputs": [],
      "source": [
        "df = process_data(data)"
      ]
    },
    {
      "cell_type": "code",
      "execution_count": 181,
      "metadata": {
        "id": "sVV8FMihNhBM",
        "colab": {
          "base_uri": "https://localhost:8080/",
          "height": 488
        },
        "outputId": "66b9ab79-0997-4acb-8966-0df22e4e2e17"
      },
      "outputs": [
        {
          "output_type": "execute_result",
          "data": {
            "text/plain": [
              "       bodyType     brand      color  engineDisplacement  enginePower  \\\n",
              "0     универсал  MERCEDES     чёрный            0.209436    -0.326606   \n",
              "1          купе       BMW      белый            0.209436     0.527566   \n",
              "2          купе       BMW  пурпурный           -0.264148    -0.344976   \n",
              "3         седан       BMW      белый           -0.737732    -1.098117   \n",
              "4         седан       BMW     чёрный           -0.737732    -0.602146   \n",
              "...         ...       ...        ...                 ...          ...   \n",
              "8348      седан       BMW      серый           -0.737732    -0.969532   \n",
              "8349      седан       BMW     чёрный           -0.737732    -0.602146   \n",
              "8350      седан       BMW      белый           -0.737732    -1.033824   \n",
              "8351      седан      AUDI     чёрный            0.209436     0.500012   \n",
              "8352    лимузин  MERCEDES     чёрный            3.050939     1.271522   \n",
              "\n",
              "     fuelType   mileage model_info  numberOfDoors vehicleTransmission  \\\n",
              "0      бензин  2.805524   E_KLASSE              5      автоматическая   \n",
              "1      дизель -1.287242   E_KLASSE              2      автоматическая   \n",
              "2      бензин  0.564887   E_KLASSE              2      автоматическая   \n",
              "3      бензин  0.325430   E_KLASSE              4      автоматическая   \n",
              "4      дизель -1.177287   E_KLASSE              4      автоматическая   \n",
              "...       ...       ...        ...            ...                 ...   \n",
              "8348   бензин  1.373386   E_KLASSE              4      автоматическая   \n",
              "8349   дизель -1.058780   E_KLASSE              4      автоматическая   \n",
              "8350   бензин  0.972942   E_KLASSE              4      автоматическая   \n",
              "8351   бензин -0.590861   E_KLASSE              4      автоматическая   \n",
              "8352   бензин -1.210383   E_KLASSE              4      автоматическая   \n",
              "\n",
              "      Владельцы       ПТС  Привод   Руль  sample      price  model_time  \\\n",
              "0            -2  Оригинал  задний  Левый       0        0.0    4.801459   \n",
              "1             0  Оригинал  полный  Левый       0        0.0   -0.164891   \n",
              "2            -2  Оригинал  полный  Левый       0        0.0    0.938742   \n",
              "3            -1  Оригинал  задний  Левый       0        0.0    0.938742   \n",
              "4             0  Оригинал  полный  Левый       0        0.0   -1.084585   \n",
              "...         ...       ...     ...    ...     ...        ...         ...   \n",
              "8348         -2  Оригинал  задний  Левый       1   550000.0    0.938742   \n",
              "8349         -2  Оригинал  задний  Левый       1  1900000.0   -0.532769   \n",
              "8350         -2  Оригинал  задний  Левый       1   530000.0    0.386926   \n",
              "8351         -2  Оригинал  полный  Левый       1  1970000.0   -0.532769   \n",
              "8352         -1  Оригинал  задний  Левый       1  3000000.0    2.962070   \n",
              "\n",
              "      xDrive  comment_length  \n",
              "0          0        1.405358  \n",
              "1          1       -0.240558  \n",
              "2          0        0.142259  \n",
              "3          0       -0.619388  \n",
              "4          1       -0.008276  \n",
              "...      ...             ...  \n",
              "8348       0       -0.449912  \n",
              "8349       0       -0.059119  \n",
              "8350       0       -0.668238  \n",
              "8351       0       -0.255512  \n",
              "8352       0        0.699538  \n",
              "\n",
              "[8353 rows x 19 columns]"
            ],
            "text/html": [
              "\n",
              "  <div id=\"df-831066af-55c2-4312-89e5-be6d431a0d33\">\n",
              "    <div class=\"colab-df-container\">\n",
              "      <div>\n",
              "<style scoped>\n",
              "    .dataframe tbody tr th:only-of-type {\n",
              "        vertical-align: middle;\n",
              "    }\n",
              "\n",
              "    .dataframe tbody tr th {\n",
              "        vertical-align: top;\n",
              "    }\n",
              "\n",
              "    .dataframe thead th {\n",
              "        text-align: right;\n",
              "    }\n",
              "</style>\n",
              "<table border=\"1\" class=\"dataframe\">\n",
              "  <thead>\n",
              "    <tr style=\"text-align: right;\">\n",
              "      <th></th>\n",
              "      <th>bodyType</th>\n",
              "      <th>brand</th>\n",
              "      <th>color</th>\n",
              "      <th>engineDisplacement</th>\n",
              "      <th>enginePower</th>\n",
              "      <th>fuelType</th>\n",
              "      <th>mileage</th>\n",
              "      <th>model_info</th>\n",
              "      <th>numberOfDoors</th>\n",
              "      <th>vehicleTransmission</th>\n",
              "      <th>Владельцы</th>\n",
              "      <th>ПТС</th>\n",
              "      <th>Привод</th>\n",
              "      <th>Руль</th>\n",
              "      <th>sample</th>\n",
              "      <th>price</th>\n",
              "      <th>model_time</th>\n",
              "      <th>xDrive</th>\n",
              "      <th>comment_length</th>\n",
              "    </tr>\n",
              "  </thead>\n",
              "  <tbody>\n",
              "    <tr>\n",
              "      <th>0</th>\n",
              "      <td>универсал</td>\n",
              "      <td>MERCEDES</td>\n",
              "      <td>чёрный</td>\n",
              "      <td>0.209436</td>\n",
              "      <td>-0.326606</td>\n",
              "      <td>бензин</td>\n",
              "      <td>2.805524</td>\n",
              "      <td>E_KLASSE</td>\n",
              "      <td>5</td>\n",
              "      <td>автоматическая</td>\n",
              "      <td>-2</td>\n",
              "      <td>Оригинал</td>\n",
              "      <td>задний</td>\n",
              "      <td>Левый</td>\n",
              "      <td>0</td>\n",
              "      <td>0.0</td>\n",
              "      <td>4.801459</td>\n",
              "      <td>0</td>\n",
              "      <td>1.405358</td>\n",
              "    </tr>\n",
              "    <tr>\n",
              "      <th>1</th>\n",
              "      <td>купе</td>\n",
              "      <td>BMW</td>\n",
              "      <td>белый</td>\n",
              "      <td>0.209436</td>\n",
              "      <td>0.527566</td>\n",
              "      <td>дизель</td>\n",
              "      <td>-1.287242</td>\n",
              "      <td>E_KLASSE</td>\n",
              "      <td>2</td>\n",
              "      <td>автоматическая</td>\n",
              "      <td>0</td>\n",
              "      <td>Оригинал</td>\n",
              "      <td>полный</td>\n",
              "      <td>Левый</td>\n",
              "      <td>0</td>\n",
              "      <td>0.0</td>\n",
              "      <td>-0.164891</td>\n",
              "      <td>1</td>\n",
              "      <td>-0.240558</td>\n",
              "    </tr>\n",
              "    <tr>\n",
              "      <th>2</th>\n",
              "      <td>купе</td>\n",
              "      <td>BMW</td>\n",
              "      <td>пурпурный</td>\n",
              "      <td>-0.264148</td>\n",
              "      <td>-0.344976</td>\n",
              "      <td>бензин</td>\n",
              "      <td>0.564887</td>\n",
              "      <td>E_KLASSE</td>\n",
              "      <td>2</td>\n",
              "      <td>автоматическая</td>\n",
              "      <td>-2</td>\n",
              "      <td>Оригинал</td>\n",
              "      <td>полный</td>\n",
              "      <td>Левый</td>\n",
              "      <td>0</td>\n",
              "      <td>0.0</td>\n",
              "      <td>0.938742</td>\n",
              "      <td>0</td>\n",
              "      <td>0.142259</td>\n",
              "    </tr>\n",
              "    <tr>\n",
              "      <th>3</th>\n",
              "      <td>седан</td>\n",
              "      <td>BMW</td>\n",
              "      <td>белый</td>\n",
              "      <td>-0.737732</td>\n",
              "      <td>-1.098117</td>\n",
              "      <td>бензин</td>\n",
              "      <td>0.325430</td>\n",
              "      <td>E_KLASSE</td>\n",
              "      <td>4</td>\n",
              "      <td>автоматическая</td>\n",
              "      <td>-1</td>\n",
              "      <td>Оригинал</td>\n",
              "      <td>задний</td>\n",
              "      <td>Левый</td>\n",
              "      <td>0</td>\n",
              "      <td>0.0</td>\n",
              "      <td>0.938742</td>\n",
              "      <td>0</td>\n",
              "      <td>-0.619388</td>\n",
              "    </tr>\n",
              "    <tr>\n",
              "      <th>4</th>\n",
              "      <td>седан</td>\n",
              "      <td>BMW</td>\n",
              "      <td>чёрный</td>\n",
              "      <td>-0.737732</td>\n",
              "      <td>-0.602146</td>\n",
              "      <td>дизель</td>\n",
              "      <td>-1.177287</td>\n",
              "      <td>E_KLASSE</td>\n",
              "      <td>4</td>\n",
              "      <td>автоматическая</td>\n",
              "      <td>0</td>\n",
              "      <td>Оригинал</td>\n",
              "      <td>полный</td>\n",
              "      <td>Левый</td>\n",
              "      <td>0</td>\n",
              "      <td>0.0</td>\n",
              "      <td>-1.084585</td>\n",
              "      <td>1</td>\n",
              "      <td>-0.008276</td>\n",
              "    </tr>\n",
              "    <tr>\n",
              "      <th>...</th>\n",
              "      <td>...</td>\n",
              "      <td>...</td>\n",
              "      <td>...</td>\n",
              "      <td>...</td>\n",
              "      <td>...</td>\n",
              "      <td>...</td>\n",
              "      <td>...</td>\n",
              "      <td>...</td>\n",
              "      <td>...</td>\n",
              "      <td>...</td>\n",
              "      <td>...</td>\n",
              "      <td>...</td>\n",
              "      <td>...</td>\n",
              "      <td>...</td>\n",
              "      <td>...</td>\n",
              "      <td>...</td>\n",
              "      <td>...</td>\n",
              "      <td>...</td>\n",
              "      <td>...</td>\n",
              "    </tr>\n",
              "    <tr>\n",
              "      <th>8348</th>\n",
              "      <td>седан</td>\n",
              "      <td>BMW</td>\n",
              "      <td>серый</td>\n",
              "      <td>-0.737732</td>\n",
              "      <td>-0.969532</td>\n",
              "      <td>бензин</td>\n",
              "      <td>1.373386</td>\n",
              "      <td>E_KLASSE</td>\n",
              "      <td>4</td>\n",
              "      <td>автоматическая</td>\n",
              "      <td>-2</td>\n",
              "      <td>Оригинал</td>\n",
              "      <td>задний</td>\n",
              "      <td>Левый</td>\n",
              "      <td>1</td>\n",
              "      <td>550000.0</td>\n",
              "      <td>0.938742</td>\n",
              "      <td>0</td>\n",
              "      <td>-0.449912</td>\n",
              "    </tr>\n",
              "    <tr>\n",
              "      <th>8349</th>\n",
              "      <td>седан</td>\n",
              "      <td>BMW</td>\n",
              "      <td>чёрный</td>\n",
              "      <td>-0.737732</td>\n",
              "      <td>-0.602146</td>\n",
              "      <td>дизель</td>\n",
              "      <td>-1.058780</td>\n",
              "      <td>E_KLASSE</td>\n",
              "      <td>4</td>\n",
              "      <td>автоматическая</td>\n",
              "      <td>-2</td>\n",
              "      <td>Оригинал</td>\n",
              "      <td>задний</td>\n",
              "      <td>Левый</td>\n",
              "      <td>1</td>\n",
              "      <td>1900000.0</td>\n",
              "      <td>-0.532769</td>\n",
              "      <td>0</td>\n",
              "      <td>-0.059119</td>\n",
              "    </tr>\n",
              "    <tr>\n",
              "      <th>8350</th>\n",
              "      <td>седан</td>\n",
              "      <td>BMW</td>\n",
              "      <td>белый</td>\n",
              "      <td>-0.737732</td>\n",
              "      <td>-1.033824</td>\n",
              "      <td>бензин</td>\n",
              "      <td>0.972942</td>\n",
              "      <td>E_KLASSE</td>\n",
              "      <td>4</td>\n",
              "      <td>автоматическая</td>\n",
              "      <td>-2</td>\n",
              "      <td>Оригинал</td>\n",
              "      <td>задний</td>\n",
              "      <td>Левый</td>\n",
              "      <td>1</td>\n",
              "      <td>530000.0</td>\n",
              "      <td>0.386926</td>\n",
              "      <td>0</td>\n",
              "      <td>-0.668238</td>\n",
              "    </tr>\n",
              "    <tr>\n",
              "      <th>8351</th>\n",
              "      <td>седан</td>\n",
              "      <td>AUDI</td>\n",
              "      <td>чёрный</td>\n",
              "      <td>0.209436</td>\n",
              "      <td>0.500012</td>\n",
              "      <td>бензин</td>\n",
              "      <td>-0.590861</td>\n",
              "      <td>E_KLASSE</td>\n",
              "      <td>4</td>\n",
              "      <td>автоматическая</td>\n",
              "      <td>-2</td>\n",
              "      <td>Оригинал</td>\n",
              "      <td>полный</td>\n",
              "      <td>Левый</td>\n",
              "      <td>1</td>\n",
              "      <td>1970000.0</td>\n",
              "      <td>-0.532769</td>\n",
              "      <td>0</td>\n",
              "      <td>-0.255512</td>\n",
              "    </tr>\n",
              "    <tr>\n",
              "      <th>8352</th>\n",
              "      <td>лимузин</td>\n",
              "      <td>MERCEDES</td>\n",
              "      <td>чёрный</td>\n",
              "      <td>3.050939</td>\n",
              "      <td>1.271522</td>\n",
              "      <td>бензин</td>\n",
              "      <td>-1.210383</td>\n",
              "      <td>E_KLASSE</td>\n",
              "      <td>4</td>\n",
              "      <td>автоматическая</td>\n",
              "      <td>-1</td>\n",
              "      <td>Оригинал</td>\n",
              "      <td>задний</td>\n",
              "      <td>Левый</td>\n",
              "      <td>1</td>\n",
              "      <td>3000000.0</td>\n",
              "      <td>2.962070</td>\n",
              "      <td>0</td>\n",
              "      <td>0.699538</td>\n",
              "    </tr>\n",
              "  </tbody>\n",
              "</table>\n",
              "<p>8353 rows × 19 columns</p>\n",
              "</div>\n",
              "      <button class=\"colab-df-convert\" onclick=\"convertToInteractive('df-831066af-55c2-4312-89e5-be6d431a0d33')\"\n",
              "              title=\"Convert this dataframe to an interactive table.\"\n",
              "              style=\"display:none;\">\n",
              "        \n",
              "  <svg xmlns=\"http://www.w3.org/2000/svg\" height=\"24px\"viewBox=\"0 0 24 24\"\n",
              "       width=\"24px\">\n",
              "    <path d=\"M0 0h24v24H0V0z\" fill=\"none\"/>\n",
              "    <path d=\"M18.56 5.44l.94 2.06.94-2.06 2.06-.94-2.06-.94-.94-2.06-.94 2.06-2.06.94zm-11 1L8.5 8.5l.94-2.06 2.06-.94-2.06-.94L8.5 2.5l-.94 2.06-2.06.94zm10 10l.94 2.06.94-2.06 2.06-.94-2.06-.94-.94-2.06-.94 2.06-2.06.94z\"/><path d=\"M17.41 7.96l-1.37-1.37c-.4-.4-.92-.59-1.43-.59-.52 0-1.04.2-1.43.59L10.3 9.45l-7.72 7.72c-.78.78-.78 2.05 0 2.83L4 21.41c.39.39.9.59 1.41.59.51 0 1.02-.2 1.41-.59l7.78-7.78 2.81-2.81c.8-.78.8-2.07 0-2.86zM5.41 20L4 18.59l7.72-7.72 1.47 1.35L5.41 20z\"/>\n",
              "  </svg>\n",
              "      </button>\n",
              "      \n",
              "  <style>\n",
              "    .colab-df-container {\n",
              "      display:flex;\n",
              "      flex-wrap:wrap;\n",
              "      gap: 12px;\n",
              "    }\n",
              "\n",
              "    .colab-df-convert {\n",
              "      background-color: #E8F0FE;\n",
              "      border: none;\n",
              "      border-radius: 50%;\n",
              "      cursor: pointer;\n",
              "      display: none;\n",
              "      fill: #1967D2;\n",
              "      height: 32px;\n",
              "      padding: 0 0 0 0;\n",
              "      width: 32px;\n",
              "    }\n",
              "\n",
              "    .colab-df-convert:hover {\n",
              "      background-color: #E2EBFA;\n",
              "      box-shadow: 0px 1px 2px rgba(60, 64, 67, 0.3), 0px 1px 3px 1px rgba(60, 64, 67, 0.15);\n",
              "      fill: #174EA6;\n",
              "    }\n",
              "\n",
              "    [theme=dark] .colab-df-convert {\n",
              "      background-color: #3B4455;\n",
              "      fill: #D2E3FC;\n",
              "    }\n",
              "\n",
              "    [theme=dark] .colab-df-convert:hover {\n",
              "      background-color: #434B5C;\n",
              "      box-shadow: 0px 1px 3px 1px rgba(0, 0, 0, 0.15);\n",
              "      filter: drop-shadow(0px 1px 2px rgba(0, 0, 0, 0.3));\n",
              "      fill: #FFFFFF;\n",
              "    }\n",
              "  </style>\n",
              "\n",
              "      <script>\n",
              "        const buttonEl =\n",
              "          document.querySelector('#df-831066af-55c2-4312-89e5-be6d431a0d33 button.colab-df-convert');\n",
              "        buttonEl.style.display =\n",
              "          google.colab.kernel.accessAllowed ? 'block' : 'none';\n",
              "\n",
              "        async function convertToInteractive(key) {\n",
              "          const element = document.querySelector('#df-831066af-55c2-4312-89e5-be6d431a0d33');\n",
              "          const dataTable =\n",
              "            await google.colab.kernel.invokeFunction('convertToInteractive',\n",
              "                                                     [key], {});\n",
              "          if (!dataTable) return;\n",
              "\n",
              "          const docLinkHtml = 'Like what you see? Visit the ' +\n",
              "            '<a target=\"_blank\" href=https://colab.research.google.com/notebooks/data_table.ipynb>data table notebook</a>'\n",
              "            + ' to learn more about interactive tables.';\n",
              "          element.innerHTML = '';\n",
              "          dataTable['output_type'] = 'display_data';\n",
              "          await google.colab.output.renderOutput(dataTable, element);\n",
              "          const docLink = document.createElement('div');\n",
              "          docLink.innerHTML = docLinkHtml;\n",
              "          element.appendChild(docLink);\n",
              "        }\n",
              "      </script>\n",
              "    </div>\n",
              "  </div>\n",
              "  "
            ]
          },
          "metadata": {},
          "execution_count": 181
        }
      ],
      "source": [
        "df"
      ]
    },
    {
      "cell_type": "code",
      "source": [
        "if is_colab:\n",
        "    df.to_csv(os.path.join(SAVE_PATH, 'processed_df.csv'),\n",
        "                               index=False)\n",
        "else:\n",
        "    df.to_csv(os.path.join(WORK_PATH, 'processed_df.csv'),\n",
        "                               index=False)"
      ],
      "metadata": {
        "id": "Jp3qE_YJKxAP"
      },
      "execution_count": null,
      "outputs": []
    },
    {
      "cell_type": "code",
      "source": [
        "raise KeyboardInterrupt"
      ],
      "metadata": {
        "id": "fCNBu8wig5yG"
      },
      "execution_count": null,
      "outputs": []
    },
    {
      "cell_type": "markdown",
      "metadata": {
        "id": "nsd9yZ4asrTM"
      },
      "source": [
        "# Model 1: CatBoostRegressor"
      ]
    },
    {
      "cell_type": "markdown",
      "metadata": {
        "id": "znA2u6eMLtUo"
      },
      "source": [
        "## Категориальные признаки"
      ]
    },
    {
      "cell_type": "code",
      "execution_count": 182,
      "metadata": {
        "id": "Gbe-unOXy1hM"
      },
      "outputs": [],
      "source": [
        "features_for_OneHot_Encoder = ['brand', 'ПТС', 'Привод', 'Руль', 'Владельцы']\n",
        "features_for_BinaryEncoder = ['fuelType', 'numberOfDoors', 'vehicleTransmission']\n",
        "features_for_CatBoost = ['bodyType', 'color', 'model_info']"
      ]
    },
    {
      "cell_type": "markdown",
      "source": [
        "Преобразуем категориальные признаки для CatBoost модели."
      ],
      "metadata": {
        "id": "iqVezK0LDdAv"
      }
    },
    {
      "cell_type": "code",
      "source": [
        "# One-Hot Encoding:\n",
        "df = pd.get_dummies(\n",
        "    df, columns=features_for_OneHot_Encoder, dummy_na=False)\n",
        "\n",
        "# Binary Encoding\n",
        "bn = BinaryEncoder(cols=features_for_BinaryEncoder)\n",
        "df = bn.fit_transform(df)"
      ],
      "metadata": {
        "id": "qngvpAvBDx0x"
      },
      "execution_count": 183,
      "outputs": []
    },
    {
      "cell_type": "markdown",
      "metadata": {
        "id": "wTCGppewsrTL"
      },
      "source": [
        "## Разделим данные"
      ]
    },
    {
      "cell_type": "code",
      "execution_count": 184,
      "metadata": {
        "id": "YKsl3e5UsrTL"
      },
      "outputs": [],
      "source": [
        "train_df = df.loc[df[\"sample\"] == 1].drop(\"sample\", axis=1)\n",
        "test_df = df.loc[df[\"sample\"] == 0].drop(['sample'], axis=1)\n",
        "\n",
        "X = train_df.drop(['price'], axis=1)\n",
        "y = train_df['price'].values\n",
        "sub = test_df.drop(['price'], axis=1)\n"
      ]
    },
    {
      "cell_type": "markdown",
      "metadata": {
        "id": "pSUHlW8FoO8u"
      },
      "source": [
        "Разделим train на обучающую и валидационную выборку. На валидацию выделим 25%."
      ]
    },
    {
      "cell_type": "code",
      "execution_count": 185,
      "metadata": {
        "id": "fV0ihOiesrTN"
      },
      "outputs": [],
      "source": [
        "X_train, X_test, y_train, y_test = train_test_split(\n",
        "    X, y, test_size=0.25, shuffle=True, random_state=RANDOM_SEED)"
      ]
    },
    {
      "cell_type": "code",
      "execution_count": 186,
      "metadata": {
        "id": "OztTao8W2p-P"
      },
      "outputs": [],
      "source": [
        "# raise KeyboardInterrupt"
      ]
    },
    {
      "cell_type": "markdown",
      "metadata": {
        "id": "j8T2xCVLwW1j"
      },
      "source": [
        "## Обучение"
      ]
    },
    {
      "cell_type": "markdown",
      "metadata": {
        "id": "KbSMFt5QsrTN"
      },
      "source": [
        "Теперь обучим наш CatBoosRegressor:"
      ]
    },
    {
      "cell_type": "code",
      "execution_count": null,
      "metadata": {
        "id": "N5PydrMgsrTN",
        "colab": {
          "base_uri": "https://localhost:8080/"
        },
        "outputId": "8a4c0c52-8db2-49e8-a549-feaea372339f"
      },
      "outputs": [
        {
          "output_type": "stream",
          "name": "stdout",
          "text": [
            "0:\tlearn: 0.0427431\ttest: 0.0423725\tbest: 0.0423725 (0)\ttotal: 200ms\tremaining: 1h 6m 44s\n",
            "100:\tlearn: 0.0396948\ttest: 0.0393543\tbest: 0.0393543 (100)\ttotal: 18.7s\tremaining: 1h 1m 24s\n",
            "200:\tlearn: 0.0369418\ttest: 0.0366323\tbest: 0.0366323 (200)\ttotal: 37.3s\tremaining: 1h 1m 10s\n",
            "300:\tlearn: 0.0344445\ttest: 0.0341767\tbest: 0.0341767 (300)\ttotal: 56.2s\tremaining: 1h 1m 15s\n",
            "400:\tlearn: 0.0321608\ttest: 0.0319277\tbest: 0.0319277 (400)\ttotal: 1m 15s\tremaining: 1h 1m 10s\n",
            "500:\tlearn: 0.0300729\ttest: 0.0298762\tbest: 0.0298762 (500)\ttotal: 1m 33s\tremaining: 1h 51s\n",
            "600:\tlearn: 0.0281601\ttest: 0.0279942\tbest: 0.0279942 (600)\ttotal: 1m 52s\tremaining: 1h 42s\n",
            "700:\tlearn: 0.0264325\ttest: 0.0262935\tbest: 0.0262935 (700)\ttotal: 2m 12s\tremaining: 1h 51s\n",
            "800:\tlearn: 0.0248440\ttest: 0.0247313\tbest: 0.0247313 (800)\ttotal: 2m 31s\tremaining: 1h 40s\n",
            "900:\tlearn: 0.0234031\ttest: 0.0233188\tbest: 0.0233188 (900)\ttotal: 2m 52s\tremaining: 1h 49s\n",
            "1000:\tlearn: 0.0220942\ttest: 0.0220378\tbest: 0.0220378 (1000)\ttotal: 3m 13s\tremaining: 1h 1m 16s\n",
            "1100:\tlearn: 0.0208878\ttest: 0.0208592\tbest: 0.0208592 (1100)\ttotal: 3m 33s\tremaining: 1h 1m 7s\n",
            "1200:\tlearn: 0.0197951\ttest: 0.0198022\tbest: 0.0198022 (1200)\ttotal: 3m 53s\tremaining: 1h 53s\n",
            "1300:\tlearn: 0.0188032\ttest: 0.0188601\tbest: 0.0188601 (1300)\ttotal: 4m 13s\tremaining: 1h 39s\n",
            "1400:\tlearn: 0.0179137\ttest: 0.0180266\tbest: 0.0180266 (1400)\ttotal: 4m 33s\tremaining: 1h 28s\n",
            "1500:\tlearn: 0.0171095\ttest: 0.0172780\tbest: 0.0172780 (1500)\ttotal: 4m 53s\tremaining: 1h 18s\n",
            "1600:\tlearn: 0.0163734\ttest: 0.0165968\tbest: 0.0165968 (1600)\ttotal: 5m 13s\tremaining: 1h 7s\n",
            "1700:\tlearn: 0.0156977\ttest: 0.0159741\tbest: 0.0159741 (1700)\ttotal: 5m 34s\tremaining: 59m 55s\n",
            "1800:\tlearn: 0.0150908\ttest: 0.0154198\tbest: 0.0154198 (1800)\ttotal: 5m 54s\tremaining: 59m 42s\n",
            "1900:\tlearn: 0.0145370\ttest: 0.0149222\tbest: 0.0149222 (1900)\ttotal: 6m 14s\tremaining: 59m 28s\n",
            "2000:\tlearn: 0.0140326\ttest: 0.0144691\tbest: 0.0144691 (2000)\ttotal: 6m 35s\tremaining: 59m 13s\n",
            "2100:\tlearn: 0.0135756\ttest: 0.0140682\tbest: 0.0140682 (2100)\ttotal: 6m 55s\tremaining: 58m 58s\n",
            "2200:\tlearn: 0.0131577\ttest: 0.0137065\tbest: 0.0137065 (2200)\ttotal: 7m 15s\tremaining: 58m 42s\n",
            "2300:\tlearn: 0.0127850\ttest: 0.0133873\tbest: 0.0133873 (2300)\ttotal: 7m 37s\tremaining: 58m 40s\n",
            "2400:\tlearn: 0.0124452\ttest: 0.0131038\tbest: 0.0131038 (2400)\ttotal: 7m 58s\tremaining: 58m 29s\n",
            "2500:\tlearn: 0.0121288\ttest: 0.0128443\tbest: 0.0128443 (2500)\ttotal: 8m 25s\tremaining: 58m 55s\n",
            "2600:\tlearn: 0.0118450\ttest: 0.0126204\tbest: 0.0126204 (2600)\ttotal: 8m 45s\tremaining: 58m 35s\n",
            "2700:\tlearn: 0.0115887\ttest: 0.0124269\tbest: 0.0124269 (2700)\ttotal: 9m 5s\tremaining: 58m 15s\n",
            "2800:\tlearn: 0.0113487\ttest: 0.0122474\tbest: 0.0122474 (2800)\ttotal: 9m 26s\tremaining: 57m 56s\n",
            "2900:\tlearn: 0.0111322\ttest: 0.0120908\tbest: 0.0120908 (2900)\ttotal: 9m 46s\tremaining: 57m 36s\n",
            "3000:\tlearn: 0.0109322\ttest: 0.0119519\tbest: 0.0119519 (3000)\ttotal: 10m 6s\tremaining: 57m 17s\n",
            "3100:\tlearn: 0.0107455\ttest: 0.0118245\tbest: 0.0118245 (3100)\ttotal: 10m 27s\tremaining: 56m 57s\n",
            "3200:\tlearn: 0.0105723\ttest: 0.0117089\tbest: 0.0117089 (3200)\ttotal: 10m 47s\tremaining: 56m 37s\n",
            "3300:\tlearn: 0.0104099\ttest: 0.0116006\tbest: 0.0116006 (3300)\ttotal: 11m 7s\tremaining: 56m 17s\n",
            "3400:\tlearn: 0.0102613\ttest: 0.0115059\tbest: 0.0115059 (3400)\ttotal: 11m 27s\tremaining: 55m 57s\n",
            "3500:\tlearn: 0.0101214\ttest: 0.0114194\tbest: 0.0114194 (3500)\ttotal: 11m 48s\tremaining: 55m 37s\n",
            "3600:\tlearn: 0.0099912\ttest: 0.0113432\tbest: 0.0113432 (3600)\ttotal: 12m 10s\tremaining: 55m 25s\n",
            "3700:\tlearn: 0.0098671\ttest: 0.0112700\tbest: 0.0112700 (3700)\ttotal: 12m 30s\tremaining: 55m 4s\n",
            "3800:\tlearn: 0.0097524\ttest: 0.0112044\tbest: 0.0112044 (3800)\ttotal: 12m 50s\tremaining: 54m 44s\n",
            "3900:\tlearn: 0.0096457\ttest: 0.0111434\tbest: 0.0111434 (3900)\ttotal: 13m 10s\tremaining: 54m 23s\n",
            "4000:\tlearn: 0.0095462\ttest: 0.0110865\tbest: 0.0110865 (4000)\ttotal: 13m 31s\tremaining: 54m 3s\n",
            "4100:\tlearn: 0.0094522\ttest: 0.0110347\tbest: 0.0110347 (4100)\ttotal: 13m 51s\tremaining: 53m 43s\n",
            "4200:\tlearn: 0.0093639\ttest: 0.0109870\tbest: 0.0109870 (4200)\ttotal: 14m 11s\tremaining: 53m 22s\n",
            "4300:\tlearn: 0.0092796\ttest: 0.0109430\tbest: 0.0109430 (4300)\ttotal: 14m 32s\tremaining: 53m 3s\n",
            "4400:\tlearn: 0.0092003\ttest: 0.0109035\tbest: 0.0109035 (4400)\ttotal: 14m 52s\tremaining: 52m 44s\n",
            "4500:\tlearn: 0.0091258\ttest: 0.0108660\tbest: 0.0108660 (4500)\ttotal: 15m 13s\tremaining: 52m 24s\n",
            "4600:\tlearn: 0.0090543\ttest: 0.0108313\tbest: 0.0108313 (4600)\ttotal: 15m 33s\tremaining: 52m 4s\n",
            "4700:\tlearn: 0.0089855\ttest: 0.0108002\tbest: 0.0108002 (4700)\ttotal: 15m 53s\tremaining: 51m 44s\n",
            "4800:\tlearn: 0.0089213\ttest: 0.0107702\tbest: 0.0107702 (4800)\ttotal: 16m 13s\tremaining: 51m 23s\n",
            "4900:\tlearn: 0.0088591\ttest: 0.0107423\tbest: 0.0107423 (4900)\ttotal: 16m 35s\tremaining: 51m 8s\n",
            "5000:\tlearn: 0.0087991\ttest: 0.0107166\tbest: 0.0107166 (5000)\ttotal: 16m 56s\tremaining: 50m 47s\n",
            "5100:\tlearn: 0.0087420\ttest: 0.0106912\tbest: 0.0106912 (5100)\ttotal: 17m 16s\tremaining: 50m 27s\n",
            "5200:\tlearn: 0.0086860\ttest: 0.0106690\tbest: 0.0106690 (5200)\ttotal: 17m 36s\tremaining: 50m 6s\n",
            "5300:\tlearn: 0.0086331\ttest: 0.0106467\tbest: 0.0106467 (5300)\ttotal: 17m 56s\tremaining: 49m 45s\n",
            "5400:\tlearn: 0.0085818\ttest: 0.0106256\tbest: 0.0106256 (5400)\ttotal: 18m 17s\tremaining: 49m 25s\n",
            "5500:\tlearn: 0.0085323\ttest: 0.0106048\tbest: 0.0106048 (5500)\ttotal: 18m 37s\tremaining: 49m 4s\n",
            "5600:\tlearn: 0.0084836\ttest: 0.0105879\tbest: 0.0105879 (5600)\ttotal: 18m 57s\tremaining: 48m 44s\n",
            "5700:\tlearn: 0.0084372\ttest: 0.0105716\tbest: 0.0105716 (5700)\ttotal: 19m 17s\tremaining: 48m 23s\n",
            "5800:\tlearn: 0.0083921\ttest: 0.0105552\tbest: 0.0105552 (5799)\ttotal: 19m 38s\tremaining: 48m 3s\n",
            "5900:\tlearn: 0.0083473\ttest: 0.0105413\tbest: 0.0105413 (5900)\ttotal: 19m 58s\tremaining: 47m 43s\n",
            "6000:\tlearn: 0.0083039\ttest: 0.0105281\tbest: 0.0105281 (6000)\ttotal: 20m 18s\tremaining: 47m 23s\n",
            "6100:\tlearn: 0.0082622\ttest: 0.0105145\tbest: 0.0105145 (6100)\ttotal: 20m 39s\tremaining: 47m 2s\n",
            "6200:\tlearn: 0.0082217\ttest: 0.0105007\tbest: 0.0105007 (6200)\ttotal: 21m 1s\tremaining: 46m 46s\n",
            "6300:\tlearn: 0.0081826\ttest: 0.0104888\tbest: 0.0104888 (6300)\ttotal: 21m 21s\tremaining: 46m 25s\n",
            "6400:\tlearn: 0.0081442\ttest: 0.0104779\tbest: 0.0104779 (6400)\ttotal: 21m 41s\tremaining: 46m 5s\n",
            "6500:\tlearn: 0.0081069\ttest: 0.0104666\tbest: 0.0104666 (6500)\ttotal: 22m 2s\tremaining: 45m 45s\n",
            "6600:\tlearn: 0.0080704\ttest: 0.0104563\tbest: 0.0104563 (6600)\ttotal: 22m 22s\tremaining: 45m 24s\n",
            "6700:\tlearn: 0.0080339\ttest: 0.0104459\tbest: 0.0104459 (6700)\ttotal: 22m 42s\tremaining: 45m 4s\n",
            "6800:\tlearn: 0.0079997\ttest: 0.0104363\tbest: 0.0104363 (6800)\ttotal: 23m 3s\tremaining: 44m 44s\n",
            "6900:\tlearn: 0.0079644\ttest: 0.0104274\tbest: 0.0104274 (6900)\ttotal: 23m 23s\tremaining: 44m 24s\n",
            "7000:\tlearn: 0.0079290\ttest: 0.0104177\tbest: 0.0104177 (7000)\ttotal: 23m 44s\tremaining: 44m 3s\n"
          ]
        }
      ],
      "source": [
        "cat_boost_model = CatBoostRegressor(iterations=20000,\n",
        "                          depth=13,\n",
        "                          learning_rate = 0.001,\n",
        "                          random_seed=RANDOM_SEED,\n",
        "                          eval_metric='MAPE',\n",
        "                          custom_metric=['RMSE', 'MAE'],\n",
        "                          od_wait=500,  # Прерывание, если метрика не меняется\n",
        "                          # task_type='GPU',\n",
        "                          silent=True,\n",
        "                          l2_leaf_reg=6, \n",
        "                          random_strength=0.3,\n",
        "                          cat_features=features_for_CatBoost\n",
        "                          )\n",
        "# обучим модель\n",
        "cat_boost_model.fit(X_train, np.log(y_train),\n",
        "          eval_set=(X_test, np.log(y_test)),\n",
        "          verbose_eval=100,\n",
        "          use_best_model=True,\n",
        "          )\n",
        "\n",
        "# cat_boost_model.fit(X_train, (y_train),\n",
        "#           eval_set=(X_test, (y_test)),\n",
        "#           verbose_eval=100,\n",
        "#           use_best_model=True,\n",
        "#           )\n",
        "\n",
        "# оцениваем точность\n",
        "predict_catboost = np.round(np.exp(cat_boost_model.predict(X_test)))\n",
        "print(\"Точность модели по метрике MAPE: \"\n",
        "      f\"{(mape(y_test, predict_catboost))*100:0.2f}%\")\n"
      ]
    },
    {
      "cell_type": "markdown",
      "metadata": {
        "id": "l90s34Gn-rVw"
      },
      "source": [
        "## Валидация"
      ]
    },
    {
      "cell_type": "code",
      "execution_count": null,
      "metadata": {
        "id": "yA8t3wEf-Wdu"
      },
      "outputs": [],
      "source": [
        "test_predict_catboost = np.round(np.exp(cat_boost_model.predict(X_test)))\n",
        "print(f\"TEST mape: {(mape(y_test, test_predict_catboost))*100:0.2f}%\")"
      ]
    },
    {
      "cell_type": "code",
      "source": [
        "for i in range(20):\n",
        "      print(\"Сеть предсказала: \", test_predict_catboost[i], \n",
        "            \", верный ответ: \", y_test[i], \n",
        "            \", отклонение: \", test_predict_catboost[i] - y_test[i])"
      ],
      "metadata": {
        "id": "BU1N-UaURrCn"
      },
      "execution_count": null,
      "outputs": []
    },
    {
      "cell_type": "markdown",
      "source": [
        "Сохраним предсказание для финального этапа."
      ],
      "metadata": {
        "id": "REsEc-3ipahg"
      }
    },
    {
      "cell_type": "code",
      "source": [
        "if is_colab:\n",
        "    path = SAVE_PATH\n",
        "else:\n",
        "    path = WORK_PATH\n",
        "\n",
        "pd.DataFrame(test_predict_catboost).to_csv(os.path.join(path, \n",
        "                                                   'test_predict_cat_boost.csv'), \n",
        "                                      index=False)"
      ],
      "metadata": {
        "id": "HCAKjs6epCfx"
      },
      "execution_count": null,
      "outputs": []
    },
    {
      "cell_type": "markdown",
      "metadata": {
        "id": "dGDa2B4PWgm8"
      },
      "source": [
        "Результаты неплохие.\n",
        "При уменьшении learning_rate модель сильно переобучается и  результаты ухудшаются на порядок."
      ]
    },
    {
      "cell_type": "markdown",
      "metadata": {
        "id": "Umvvyax5srTO"
      },
      "source": [
        "## Submission"
      ]
    },
    {
      "cell_type": "markdown",
      "metadata": {
        "id": "DpnjLbOAsrTO"
      },
      "source": [
        "Создадим сабмит:"
      ]
    },
    {
      "cell_type": "code",
      "execution_count": null,
      "metadata": {
        "id": "2tbO9NwBsrTO"
      },
      "outputs": [],
      "source": [
        "if is_colab:\n",
        "    path = SAVE_PATH\n",
        "else:\n",
        "    path = WORK_PATH\n",
        "\n",
        "sub_predict_catboost = np.round(np.exp(cat_boost_model.predict(sub)))\n",
        "\n",
        "sample_submission['price'] = sub_predict_catboost\n",
        "sample_submission.to_csv(os.path.join(path, 'cat_boost_sub.csv'), \n",
        "                         index=False)"
      ]
    },
    {
      "cell_type": "code",
      "execution_count": null,
      "metadata": {
        "id": "mCIiX_Ay4RBt"
      },
      "outputs": [],
      "source": [
        "raise KeyboardInterrupt"
      ]
    },
    {
      "cell_type": "markdown",
      "source": [
        "# Обработка категориальных признаков для нейронных сетей"
      ],
      "metadata": {
        "id": "GyUdnXYT0vjU"
      }
    },
    {
      "cell_type": "code",
      "execution_count": null,
      "metadata": {
        "id": "UK9XJb_8bpwW"
      },
      "outputs": [],
      "source": [
        "# категориальные признаки\n",
        "features_cat = ['brand', 'ПТС', 'Привод', 'Руль', 'fuelType', \n",
        "                'numberOfDoors', 'vehicleTransmission', 'bodyType',\n",
        "                'color', 'model_info', 'Владельцы']"
      ]
    },
    {
      "cell_type": "code",
      "source": [
        "# One-Hot Encoding:\n",
        "df = pd.get_dummies(\n",
        "    df, columns=features_cat, dummy_na=False)"
      ],
      "metadata": {
        "id": "rQiDwd410beW"
      },
      "execution_count": null,
      "outputs": []
    },
    {
      "cell_type": "markdown",
      "source": [
        "## Разделим данные"
      ],
      "metadata": {
        "id": "ReA7SXyD2zvA"
      }
    },
    {
      "cell_type": "code",
      "source": [
        "train_df = df.loc[df[\"sample\"] == 1].drop(\"sample\", axis=1)\n",
        "test_df = df.loc[df[\"sample\"] == 0].drop(['sample'], axis=1)\n",
        "\n",
        "X = train_df.drop(['price'], axis=1)\n",
        "y = train_df['price'].values\n",
        "sub = test_df.drop(['price'], axis=1)\n",
        "\n",
        "X_train, X_test, y_train, y_test = train_test_split(\n",
        "    X, y, test_size=0.25, shuffle=True, random_state=RANDOM_SEED)"
      ],
      "metadata": {
        "id": "gx9gB16W0gEu"
      },
      "execution_count": null,
      "outputs": []
    },
    {
      "cell_type": "code",
      "source": [
        "raise KeyboardInterrupt"
      ],
      "metadata": {
        "id": "cKvZJUrAI5Ug"
      },
      "execution_count": null,
      "outputs": []
    },
    {
      "cell_type": "markdown",
      "metadata": {
        "id": "7uX5AIuasrTP"
      },
      "source": [
        "# Model 2: Нейронная сеть"
      ]
    },
    {
      "cell_type": "markdown",
      "metadata": {
        "id": "DKu08eLOsrTP"
      },
      "source": [
        "Теперь разработаем нейронную сеть для решения поставленной задачи."
      ]
    },
    {
      "cell_type": "code",
      "execution_count": null,
      "metadata": {
        "id": "o548ivDaz_ou"
      },
      "outputs": [],
      "source": [
        "file_name = 'simple_dnn'"
      ]
    },
    {
      "cell_type": "code",
      "source": [
        "simple_dnn = M.Sequential()\n",
        "\n",
        "simple_dnn.add(L.Dense(8192, \n",
        "                       input_dim = X_train.shape[1],  \n",
        "                       activation=ACTIVATION))\n",
        "simple_dnn.add(L.Dropout(0.15))\n",
        "\n",
        "simple_dnn.add(L.Dense(16384,\n",
        "                       kernel_regularizer=regularizers.l1_l2(l1=1e-6, l2=1e-6), \n",
        "                       kernel_initializer='normal', \n",
        "                       activation=ACTIVATION))\n",
        "simple_dnn.add(L.Dropout(0.15))\n",
        "\n",
        "simple_dnn.add(L.Dense(8192,\n",
        "                       kernel_regularizer=regularizers.l1_l2(l1=1e-6, l2=1e-6), \n",
        "                       kernel_initializer='normal', \n",
        "                       activation=ACTIVATION))\n",
        "simple_dnn.add(L.Dropout(0.15))\n",
        "\n",
        "simple_dnn.add(L.Dense(8192,\n",
        "                       kernel_regularizer=regularizers.l1_l2(l1=1e-6, l2=1e-6), \n",
        "                       kernel_initializer='normal', \n",
        "                       activation=ACTIVATION))\n",
        "simple_dnn.add(L.Dropout(0.15))\n",
        "\n",
        "simple_dnn.add(L.Dense(4096,\n",
        "                       kernel_regularizer=regularizers.l1_l2(l1=1e-6, l2=1e-6), \n",
        "                       kernel_initializer='normal', \n",
        "                       activation=ACTIVATION))\n",
        "simple_dnn.add(L.Dropout(0.15))\n",
        "\n",
        "simple_dnn.add(L.Dense(4096,\n",
        "                       kernel_regularizer=regularizers.l1_l2(l1=1e-6, l2=1e-6), \n",
        "                       kernel_initializer='normal', \n",
        "                       activation=ACTIVATION))\n",
        "# model_mlp.add(L.Dropout(0.15))\n",
        "\n",
        "# The Output Layer :\n",
        "simple_dnn.add(L.Dense(1, activation='linear'))"
      ],
      "metadata": {
        "id": "H1_IKJXfgPhM"
      },
      "execution_count": null,
      "outputs": []
    },
    {
      "cell_type": "code",
      "execution_count": null,
      "metadata": {
        "id": "ugNpOIdpG5YT"
      },
      "outputs": [],
      "source": [
        "# simple_dnn = M.Sequential()\n",
        "\n",
        "# simple_dnn.add(L.Dense(4096, \n",
        "#                        input_dim = X_train.shape[1],  \n",
        "#                        activation=ACTIVATION))\n",
        "# simple_dnn.add(L.Dropout(0.15))\n",
        "\n",
        "# simple_dnn.add(L.Dense(4096,\n",
        "#                        kernel_regularizer=regularizers.l1_l2(l1=1e-6, l2=1e-6), \n",
        "#                        kernel_initializer='normal', \n",
        "#                        activation=ACTIVATION))\n",
        "# simple_dnn.add(L.Dropout(0.15))\n",
        "\n",
        "# simple_dnn.add(L.Dense(4096,\n",
        "#                        kernel_regularizer=regularizers.l1_l2(l1=1e-6, l2=1e-6), \n",
        "#                        kernel_initializer='normal', \n",
        "#                        activation=ACTIVATION))\n",
        "# simple_dnn.add(L.Dropout(0.15))\n",
        "\n",
        "# simple_dnn.add(L.Dense(4096,\n",
        "#                        kernel_regularizer=regularizers.l1_l2(l1=1e-6, l2=1e-6), \n",
        "#                        kernel_initializer='normal', \n",
        "#                        activation=ACTIVATION))\n",
        "# simple_dnn.add(L.Dropout(0.15))\n",
        "\n",
        "# simple_dnn.add(L.Dense(4096,\n",
        "#                        kernel_regularizer=regularizers.l1_l2(l1=1e-6, l2=1e-6), \n",
        "#                        kernel_initializer='normal', \n",
        "#                        activation=ACTIVATION))\n",
        "# simple_dnn.add(L.Dropout(0.15))\n",
        "\n",
        "# simple_dnn.add(L.Dense(4096,\n",
        "#                        kernel_regularizer=regularizers.l1_l2(l1=1e-6, l2=1e-6), \n",
        "#                        kernel_initializer='normal', \n",
        "#                        activation=ACTIVATION))\n",
        "# # simple_dnn.add(L.Dropout(0.15))\n",
        "\n",
        "# # The Output Layer :\n",
        "# simple_dnn.add(L.Dense(1, activation='linear'))"
      ]
    },
    {
      "cell_type": "code",
      "source": [
        "# # лучшая\n",
        "# simple_dnn = M.Sequential()\n",
        "\n",
        "# simple_dnn.add(L.Dense(2048, \n",
        "#                        input_dim = X_train.shape[1],  \n",
        "#                        activation=ACTIVATION))\n",
        "# simple_dnn.add(L.Dropout(0.15))\n",
        "\n",
        "# simple_dnn.add(L.Dense(16384,\n",
        "#                        kernel_regularizer=regularizers.l1_l2(l1=1e-6, l2=1e-6), \n",
        "#                        kernel_initializer='normal', \n",
        "#                        activation=ACTIVATION))\n",
        "# simple_dnn.add(L.Dropout(0.15))\n",
        "\n",
        "# simple_dnn.add(L.Dense(4096,\n",
        "#                        kernel_regularizer=regularizers.l1_l2(l1=1e-6, l2=1e-6), \n",
        "#                        kernel_initializer='normal', \n",
        "#                        activation=ACTIVATION))\n",
        "# simple_dnn.add(L.Dropout(0.15))\n",
        "\n",
        "# simple_dnn.add(L.Dense(4096,\n",
        "#                        kernel_regularizer=regularizers.l1_l2(l1=1e-6, l2=1e-6), \n",
        "#                        kernel_initializer='normal', \n",
        "#                        activation=ACTIVATION))\n",
        "# # simple_dnn.add(L.Dropout(0.15))\n",
        "\n",
        "# # The Output Layer :\n",
        "# simple_dnn.add(L.Dense(1, activation='linear'))"
      ],
      "metadata": {
        "id": "4CILcPBZX-PN"
      },
      "execution_count": null,
      "outputs": []
    },
    {
      "cell_type": "markdown",
      "metadata": {
        "id": "Zw2coVErsrTQ"
      },
      "source": [
        "Посмотрим структуру модели:"
      ]
    },
    {
      "cell_type": "code",
      "source": [
        "# file_name = 'simple_dnn'\n",
        "# simple_dnn = keras.models.load_model(os.path.join(SAVE_PATH, \n",
        "#                                                       file_name+'.hdf5'))\n",
        "# LR = 0.0001\n",
        "\n",
        "# simple_dnn.compile(loss='MAPE', optimizer=optimizers.Adam(learning_rate=LR),\n",
        "#                    metrics=['MAPE'])"
      ],
      "metadata": {
        "id": "-uFpAha8XBQE"
      },
      "execution_count": null,
      "outputs": []
    },
    {
      "cell_type": "code",
      "execution_count": null,
      "metadata": {
        "id": "3FFaTIrasrTR"
      },
      "outputs": [],
      "source": [
        "simple_dnn.summary()"
      ]
    },
    {
      "cell_type": "markdown",
      "metadata": {
        "id": "eFvG4_TesrTR"
      },
      "source": [
        "Скомпилируем модель:"
      ]
    },
    {
      "cell_type": "code",
      "execution_count": null,
      "metadata": {
        "id": "w7YDrG4ssrTR"
      },
      "outputs": [],
      "source": [
        "LR = 0.0001\n",
        "\n",
        "# Compile model\n",
        "simple_dnn.compile(loss='MAPE', optimizer=optimizers.Adam(learning_rate=LR),\n",
        "                   metrics=['MAPE'])"
      ]
    },
    {
      "cell_type": "markdown",
      "metadata": {
        "id": "zLz4iYllsrTR"
      },
      "source": [
        "## Коллбеки\n",
        "* EarlyStop - Для прерывания обучения в случае, когда нет положительного результата на протяжении n эпох.\n",
        "* Checkpoint - Сохраняет лучшие веса модели.\n",
        "* LearningRateSheduler - постепенное уменьшение LR."
      ]
    },
    {
      "cell_type": "code",
      "execution_count": null,
      "metadata": {
        "id": "1_hBx6HL4njU"
      },
      "outputs": [],
      "source": [
        "def scheduler(epoch, lr):\n",
        "    if epoch < 10 or lr <= 0.000000001:\n",
        "        return lr\n",
        "    else:\n",
        "        return lr * tf.math.exp(-0.1)"
      ]
    },
    {
      "cell_type": "code",
      "execution_count": null,
      "metadata": {
        "id": "KM6I28i7y45A"
      },
      "outputs": [],
      "source": [
        "if is_colab:\n",
        "    path = SAVE_PATH\n",
        "else:\n",
        "    path = WORK_PATH\n",
        "                                                 \n",
        "cb_checkpoint = ModelCheckpoint(os.path.join(path, \n",
        "                                                 file_name+'_best.hdf5'), \n",
        "                                    monitor = ['val_MAPE'], \n",
        "                                    verbose = 0, mode = 'min')\n",
        "\n",
        "cb_earlystop = EarlyStopping(monitor='val_MAPE', patience=30, verbose=1, \n",
        "                             mode='min',\n",
        "                             restore_best_weights=True)\n",
        "# cb_schedul = LearningRateScheduler(scheduler, verbose=1)\n",
        "\n",
        "cb_schedul = ReduceLROnPlateau(monitor='val_MAPE',\n",
        "                                 factor=tf.math.exp(-0.1),  # new_lr = lr*factor\n",
        "                                 patience=1,  # эпох без изменений\n",
        "                                 min_lr=0.000000001,\n",
        "                                 verbose=1,  # выводить сообщения\n",
        "                                 mode='max')  # способ отслеживания метрики\n",
        "\n",
        "callbacks_list = [cb_checkpoint, cb_earlystop, cb_schedul]"
      ]
    },
    {
      "cell_type": "markdown",
      "metadata": {
        "id": "89Wn7wS9srTT"
      },
      "source": [
        "## Обучение"
      ]
    },
    {
      "cell_type": "code",
      "source": [
        "BATCH_SIZE = 16"
      ],
      "metadata": {
        "id": "p8vrgPtV7Z0a"
      },
      "execution_count": null,
      "outputs": []
    },
    {
      "cell_type": "code",
      "execution_count": null,
      "metadata": {
        "id": "GGI_NGf4srTU"
      },
      "outputs": [],
      "source": [
        "history = simple_dnn.fit(X_train, y_train,\n",
        "                    batch_size=BATCH_SIZE,\n",
        "                    epochs=1000,\n",
        "                    validation_data=(X_test, y_test), \n",
        "                    callbacks=callbacks_list, \n",
        "                    verbose=1,\n",
        "                    )"
      ]
    },
    {
      "cell_type": "markdown",
      "source": [
        "![image.png](data:image/png;base64,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)"
      ],
      "metadata": {
        "id": "HGvNPeIZ_-_v"
      }
    },
    {
      "cell_type": "markdown",
      "metadata": {
        "id": "cznF4GFY_dbV"
      },
      "source": [
        "## График"
      ]
    },
    {
      "cell_type": "markdown",
      "metadata": {
        "id": "W9rv-kmLsrTU"
      },
      "source": [
        "Посмотрим график обучения:"
      ]
    },
    {
      "cell_type": "code",
      "execution_count": null,
      "metadata": {
        "id": "N9g0oO1EsrTU"
      },
      "outputs": [],
      "source": [
        "plot_history(history)"
      ]
    },
    {
      "cell_type": "markdown",
      "source": [
        "![image.png](data:image/png;base64,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)"
      ],
      "metadata": {
        "id": "P4-XWwf7_5_1"
      }
    },
    {
      "cell_type": "markdown",
      "metadata": {
        "id": "e-S1YCVTsrTV"
      },
      "source": [
        "Сохраним модель и подгрузим лучшие веса:"
      ]
    },
    {
      "cell_type": "code",
      "source": [
        "simple_dnn = make_save(simple_dnn, file_name)"
      ],
      "metadata": {
        "id": "RG_hhZswNnN1"
      },
      "execution_count": null,
      "outputs": []
    },
    {
      "cell_type": "markdown",
      "metadata": {
        "id": "A-kE_aANxAzy"
      },
      "source": [
        "## Валидация"
      ]
    },
    {
      "cell_type": "code",
      "source": [
        "test_predict_simple_dnn = np.round(simple_dnn.predict(X_test))\n",
        "print(f\"TEST mape: {(mape(y_test, test_predict_simple_dnn[:,0]))*100:0.2f}%\")"
      ],
      "metadata": {
        "id": "ty67PSmOAw5b"
      },
      "execution_count": null,
      "outputs": []
    },
    {
      "cell_type": "markdown",
      "source": [
        "Сохраним предсказание для финального этапа."
      ],
      "metadata": {
        "id": "roR0qOTBpmI5"
      }
    },
    {
      "cell_type": "code",
      "source": [
        "pd.DataFrame(test_predict_simple_dnn).to_csv(os.path.join(path, \n",
        "                                                   'test_predict_simple_dnn.csv'), \n",
        "                                      index=False)"
      ],
      "metadata": {
        "id": "MiQECzx8ppqS"
      },
      "execution_count": null,
      "outputs": []
    },
    {
      "cell_type": "code",
      "source": [
        "veiw_sample_predicts(test_predict_simple_dnn, y_test)\n"
      ],
      "metadata": {
        "id": "IrXl-8llA1X1"
      },
      "execution_count": null,
      "outputs": []
    },
    {
      "cell_type": "markdown",
      "source": [
        "![image.png](data:image/png;base64,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)"
      ],
      "metadata": {
        "id": "0hzKubonA5W9"
      }
    },
    {
      "cell_type": "markdown",
      "metadata": {
        "id": "OVAd1WprsrTU"
      },
      "source": [
        "График показывает что архитектура сети не лучшая - модель переобучается, однако на валидации она показывает лучшей результат из всех опробованных архитектур.  \n",
        "Проблема нейронных сетей всегда заключалась в их высокой дисперсии и склонности к переобучению.  \n",
        "Нейронная сеть хорошо справляется с обучающими данными, но лучше использовать регрессию с усеченным деревом решений, которая эмулирует линейную и высокодисперсную нейронную сеть, но позволяет лучше контролировать глубину, ширину и другие атрибуты для контроля переобучения."
      ]
    },
    {
      "cell_type": "markdown",
      "metadata": {
        "id": "Dpg7lTJJsrTW"
      },
      "source": [
        "## Submission"
      ]
    },
    {
      "cell_type": "code",
      "source": [
        "sample_submission = make_sub(simple_dnn, sample_submission, sub, \n",
        "                             'simple_dnn_submission.csv')"
      ],
      "metadata": {
        "id": "4MLW3T-kObU_"
      },
      "execution_count": null,
      "outputs": []
    },
    {
      "cell_type": "code",
      "execution_count": null,
      "metadata": {
        "id": "lEXPfAV42zk9"
      },
      "outputs": [],
      "source": [
        "sample_submission.head()"
      ]
    },
    {
      "cell_type": "code",
      "execution_count": null,
      "metadata": {
        "id": "2Z1bCaYm2boq"
      },
      "outputs": [],
      "source": [
        "raise KeyboardInterrupt"
      ]
    },
    {
      "cell_type": "markdown",
      "metadata": {
        "id": "5sZvfhJtsrTX"
      },
      "source": [
        "# 6. Model 3: NLP + MLP"
      ]
    },
    {
      "cell_type": "markdown",
      "metadata": {
        "id": "7vpMxqG5srTX"
      },
      "source": [
        "Для данной модели мы будем использовать две сети:\n",
        "* NLP для обработки столбца description\n",
        "* MLP, созданная ранее, для табличных данных\n",
        "\n",
        "Для начала посмотрим, как выглядят данные в столбце:"
      ]
    },
    {
      "cell_type": "code",
      "execution_count": null,
      "metadata": {
        "id": "jQ4KGFmGsrTX"
      },
      "outputs": [],
      "source": [
        "for s in data['description'].head(5):\n",
        "    print('*'*50, '\\n', s)"
      ]
    },
    {
      "cell_type": "markdown",
      "metadata": {
        "id": "FEwaWWp0srTX"
      },
      "source": [
        "Мы видим, что столбец представляет собой комментарий к продаваемому автомобилю. В нем присутствует мусор, от которого нужно будет избавиться. План действий будет примерно следующим:\n",
        "* Очистим строки от ненужных символов\n",
        "* Проведем лемматизацию строк\n",
        "* Уберем стоп-слова из строк\n",
        "* Проведем токенизацию текста\n",
        "* Проведем векторизацию текста"
      ]
    },
    {
      "cell_type": "markdown",
      "metadata": {
        "id": "_oO5ru6XsrTX"
      },
      "source": [
        "## Лемматизация"
      ]
    },
    {
      "cell_type": "markdown",
      "metadata": {
        "id": "ZMLrHBx6srTY"
      },
      "source": [
        "Суть лемматизации заключается в том, чтобы вернуть каждое слово к его изначальной словоформе. Это нужно, чтобы не считать разные формы слова \"уникальными\" при обработке текста."
      ]
    },
    {
      "cell_type": "markdown",
      "metadata": {
        "id": "KjvETnDisrTY"
      },
      "source": [
        "Загрузим морфологический анализатор и скопируем данные из исходного дата-сета:"
      ]
    },
    {
      "cell_type": "code",
      "execution_count": null,
      "metadata": {
        "id": "-bVxPpZqsrTY"
      },
      "outputs": [],
      "source": [
        "morphy = pymorphy2.MorphAnalyzer()\n",
        "df_NLP = data.copy()"
      ]
    },
    {
      "cell_type": "markdown",
      "metadata": {
        "id": "wfRmH5LgsrTY"
      },
      "source": [
        "Создадим паттерн с \"мусорными\" символами в строках ( обнавлялся несколько раз в процессе обработки текста, каждый раз находились новые уникальные значения) и напишем функцию для лемматизации:"
      ]
    },
    {
      "cell_type": "code",
      "execution_count": null,
      "metadata": {
        "id": "mxrKJgtTsrTZ"
      },
      "outputs": [],
      "source": [
        "# функция для лемматизации текста:\n",
        "def lemma(text):\n",
        "    # Паттерн с символами\n",
        "    trash_sym = \"[A-Za-z0-9!#$%&'()*+,./:;<=>?@[\\]^_`{|}~—\\\"\\-–»«•∙·✔➥●☛“”°№₽®]+\"\n",
        "\n",
        "    text = text.lower()  # понижаем регистр\n",
        "    text = re.sub(trash_sym, ' ', text)  # удаляем символы из паттерна\n",
        "    strings = []  # создаем массив, в котором будут храниться лемматизированные строки\n",
        "    for wrd in text.split():  # берем слово из строки\n",
        "        wrd = wrd.strip()  # убираем пробелы до и после слова\n",
        "        wrd = morphy.normal_forms(wrd)[0]  # приводим к нормальной форме\n",
        "        strings.append(wrd)  # добавляем слово в строку массива\n",
        "    return ' '.join(strings)  # вернем значения, разделив пробелами\n"
      ]
    },
    {
      "cell_type": "markdown",
      "metadata": {
        "id": "SnetcbIvsrTZ"
      },
      "source": [
        "Применим функцию к нашему nlp-датасету:"
      ]
    },
    {
      "cell_type": "code",
      "execution_count": null,
      "metadata": {
        "id": "agCCcSY-srTZ"
      },
      "outputs": [],
      "source": [
        "strings_set = []\n",
        "strings_set = df_NLP.apply(\n",
        "    lambda df_NLP: lemma(df_NLP['description']), axis=1)"
      ]
    },
    {
      "cell_type": "markdown",
      "metadata": {
        "id": "kKYng4EfsrTZ"
      },
      "source": [
        "Загрузим список русских стоп-слов:"
      ]
    },
    {
      "cell_type": "code",
      "execution_count": null,
      "metadata": {
        "id": "n1QtiZVfsrTa"
      },
      "outputs": [],
      "source": [
        "russian_stopwords = stopwords.words(\"russian\")"
      ]
    },
    {
      "cell_type": "markdown",
      "metadata": {
        "id": "x0ei0biysrTa"
      },
      "source": [
        "Напишем функцию, которая которая будет проверять наши лемматизированные слова на наличие в списке стоп-слов:"
      ]
    },
    {
      "cell_type": "code",
      "execution_count": null,
      "metadata": {
        "id": "yl2afk1asrTa"
      },
      "outputs": [],
      "source": [
        "# функция для проверки на стоп-слова\n",
        "def lineWithoutStopWords(line):\n",
        "    line = line.split()  # разделяем на слова\n",
        "    # возвращаем слово, если оно не в списке стоп-слов\n",
        "    return [word for word in line if word not in russian_stopwords]\n",
        "\n",
        "\n",
        "# применим функцию к нашим лемматизированым строкам слов\n",
        "data['description'] = [lineWithoutStopWords(line) for line in strings_set]"
      ]
    },
    {
      "cell_type": "code",
      "source": [
        "if is_colab:\n",
        "    path = SAVE_PATH\n",
        "else:\n",
        "    path =  WORK_PATH\n",
        "    \n",
        "data['description'].to_csv(os.path.join(path, 'processed_description.csv'),\n",
        "                               index=False)"
      ],
      "metadata": {
        "id": "OG4_WmNkJGTJ"
      },
      "execution_count": null,
      "outputs": []
    },
    {
      "cell_type": "code",
      "source": [
        "raise KeyboardInterrupt"
      ],
      "metadata": {
        "id": "eoAQzX0lKd6r"
      },
      "execution_count": null,
      "outputs": []
    },
    {
      "cell_type": "markdown",
      "source": [
        "## Загрузим обработанный description"
      ],
      "metadata": {
        "id": "c4eFcnp-I_W0"
      }
    },
    {
      "cell_type": "code",
      "source": [
        "if os.path.exists(SAVE_PATH):\n",
        "    data['description'] = pd.read_csv(os.path.join(SAVE_PATH, \n",
        "                                                  'processed_description.csv'))"
      ],
      "metadata": {
        "id": "QLrZqMEVJFZb"
      },
      "execution_count": null,
      "outputs": []
    },
    {
      "cell_type": "code",
      "execution_count": null,
      "metadata": {
        "id": "wqJcAk40srTa"
      },
      "outputs": [],
      "source": [
        "text_train = data['description'].iloc[X_train.index]\n",
        "text_test = data['description'].iloc[X_test.index]\n",
        "text_sub = data['description'].iloc[sub.index]"
      ]
    },
    {
      "cell_type": "markdown",
      "metadata": {
        "id": "pX0oekPOsrTb"
      },
      "source": [
        "## Токенизация"
      ]
    },
    {
      "cell_type": "code",
      "execution_count": null,
      "metadata": {
        "id": "2X6EWQPUsrTb"
      },
      "outputs": [],
      "source": [
        "# The maximum number of words to be used. (most frequent)\n",
        "MAX_WORDS = 100000\n",
        "# Max number of words in each complaint.\n",
        "MAX_SEQUENCE_LENGTH = 256"
      ]
    },
    {
      "cell_type": "markdown",
      "metadata": {
        "id": "LPHcjqdjsrTb"
      },
      "source": [
        "Обучим токенизатор на полученном списке лемматизированых слов:"
      ]
    },
    {
      "cell_type": "code",
      "execution_count": null,
      "metadata": {
        "id": "46IO-3krsrTc"
      },
      "outputs": [],
      "source": [
        "%%time\n",
        "tokenize = Tokenizer(num_words=MAX_WORDS)\n",
        "tokenize.fit_on_texts(data['description'])"
      ]
    },
    {
      "cell_type": "markdown",
      "metadata": {
        "id": "DCYIrV-CsrTc"
      },
      "source": [
        "Проверим результат:"
      ]
    },
    {
      "cell_type": "code",
      "execution_count": null,
      "metadata": {
        "id": "fllvcetqsrTc"
      },
      "outputs": [],
      "source": [
        "tokenize.word_index"
      ]
    },
    {
      "cell_type": "markdown",
      "metadata": {
        "id": "LV0_UActsrTc"
      },
      "source": [
        "Используем полученный список слов для векторизации текста из наших выборок:"
      ]
    },
    {
      "cell_type": "code",
      "execution_count": null,
      "metadata": {
        "id": "qGHSviW8srTc"
      },
      "outputs": [],
      "source": [
        "%%time\n",
        "text_train_sequences = sequence.pad_sequences(\n",
        "    tokenize.texts_to_sequences(text_train), maxlen=MAX_SEQUENCE_LENGTH)\n",
        "text_test_sequences = sequence.pad_sequences(\n",
        "    tokenize.texts_to_sequences(text_test), maxlen=MAX_SEQUENCE_LENGTH)\n",
        "text_sub_sequences = sequence.pad_sequences(\n",
        "    tokenize.texts_to_sequences(text_sub), maxlen=MAX_SEQUENCE_LENGTH)\n",
        "\n",
        "print(text_train_sequences.shape,\n",
        "      text_test_sequences.shape, text_sub_sequences.shape, )"
      ]
    },
    {
      "cell_type": "code",
      "execution_count": null,
      "metadata": {
        "id": "tG0jvEbjCTP3"
      },
      "outputs": [],
      "source": [
        "%%time\n",
        "text_train_sequences = sequence.pad_sequences(tokenize.texts_to_sequences(text_train), maxlen=MAX_SEQUENCE_LENGTH)\n",
        "text_test_sequences = sequence.pad_sequences(tokenize.texts_to_sequences(text_test), maxlen=MAX_SEQUENCE_LENGTH)\n",
        "text_sub_sequences = sequence.pad_sequences(tokenize.texts_to_sequences(text_sub), maxlen=MAX_SEQUENCE_LENGTH)\n",
        "\n",
        "print(text_train_sequences.shape, text_test_sequences.shape, text_sub_sequences.shape, )"
      ]
    },
    {
      "cell_type": "markdown",
      "metadata": {
        "id": "35TDjrMXsrTd"
      },
      "source": [
        "Выведем пример того, как теперь выглядит текст:"
      ]
    },
    {
      "cell_type": "code",
      "execution_count": null,
      "metadata": {
        "id": "fmNfjJlgsrTd"
      },
      "outputs": [],
      "source": [
        "print(text_train.iloc[6])\n",
        "print(text_train_sequences[6])"
      ]
    },
    {
      "cell_type": "markdown",
      "metadata": {
        "id": "brNmE_4NsrTd"
      },
      "source": [
        "## NLP-сеть"
      ]
    },
    {
      "cell_type": "code",
      "source": [
        "model_nlp = M.Sequential()\n",
        "\n",
        "model_nlp.add(L.Input(shape=MAX_SEQUENCE_LENGTH, name=\"seq_description\"))\n",
        "\n",
        "model_nlp.add(L.Embedding(len(tokenize.word_index)+1, MAX_SEQUENCE_LENGTH))\n",
        "\n",
        "model_nlp.add(L.LayerNormalization())\n",
        "\n",
        "model_nlp.add(L.LSTM(256, return_sequences=True))\n",
        "model_nlp.add(L.Dropout(0.15))\n",
        "\n",
        "model_nlp.add(L.Dense(4096, \n",
        "                      kernel_regularizer=regularizers.l1_l2(l1=1e-7, l2=1e-7), \n",
        "                      kernel_initializer='normal', \n",
        "                      activation=ACTIVATION))\n",
        "model_nlp.add(L.Dropout(0.15))\n",
        "\n",
        "model_nlp.add(L.Dense(4096, \n",
        "                      kernel_regularizer=regularizers.l1_l2(l1=1e-5, l2=1e-5), \n",
        "                      kernel_initializer='normal', \n",
        "                      activation=ACTIVATION))\n",
        "model_nlp.add(L.Dropout(0.15))\n",
        "\n",
        "model_nlp.add(L.LSTM(256,))\n",
        "model_nlp.add(L.Dropout(0.15))\n",
        "\n",
        "model_nlp.add(L.Dense(8192, \n",
        "                      kernel_regularizer=regularizers.l1_l2(l1=1e-5, l2=1e-5), \n",
        "                      kernel_initializer='normal', \n",
        "                      activation=ACTIVATION))\n",
        "# model_nlp.add(L.Dropout(0.15))"
      ],
      "metadata": {
        "id": "7I0COBHa0Oqx"
      },
      "execution_count": null,
      "outputs": []
    },
    {
      "cell_type": "code",
      "source": [
        "# model_nlp = M.Sequential()\n",
        "\n",
        "# model_nlp.add(L.Input(shape=MAX_SEQUENCE_LENGTH, name=\"seq_description\"))\n",
        "\n",
        "# model_nlp.add(L.Embedding(len(tokenize.word_index)+1, MAX_SEQUENCE_LENGTH))\n",
        "\n",
        "# model_nlp.add(L.LayerNormalization())\n",
        "\n",
        "# model_nlp.add(L.LSTM(256, return_sequences=True))\n",
        "# model_nlp.add(L.Dropout(0.15))\n",
        "\n",
        "# model_nlp.add(L.Dense(4096, \n",
        "#                       kernel_regularizer=regularizers.l1_l2(l1=1e-6, l2=1e-6), \n",
        "#                       kernel_initializer='normal', \n",
        "#                       activation=ACTIVATION))\n",
        "# model_nlp.add(L.Dropout(0.15))\n",
        "\n",
        "# model_nlp.add(L.LSTM(256, return_sequences=True))\n",
        "# model_nlp.add(L.Dropout(0.15))\n",
        "\n",
        "# model_nlp.add(L.Dense(16384, \n",
        "#                       kernel_regularizer=regularizers.l1_l2(l1=1e-6, l2=1e-6), \n",
        "#                       kernel_initializer='normal', \n",
        "#                       activation=ACTIVATION))\n",
        "# model_nlp.add(L.Dropout(0.15))\n",
        "\n",
        "# model_nlp.add(L.LSTM(256, return_sequences=True))\n",
        "# model_nlp.add(L.Dropout(0.15))\n",
        "\n",
        "# model_nlp.add(L.Dense(8192, \n",
        "#                       kernel_regularizer=regularizers.l1_l2(l1=1e-6, l2=1e-6), \n",
        "#                       kernel_initializer='normal', \n",
        "#                       activation=ACTIVATION))\n",
        "# model_nlp.add(L.Dropout(0.15))\n",
        "\n",
        "# model_nlp.add(L.Dense(4096, \n",
        "#                       kernel_regularizer=regularizers.l1_l2(l1=1e-6, l2=1e-6), \n",
        "#                       kernel_initializer='normal', \n",
        "#                       activation=ACTIVATION))\n",
        "# model_nlp.add(L.Dropout(0.15))\n",
        "\n",
        "# model_nlp.add(L.LSTM(256,))\n",
        "# # model_nlp.add(L.Dropout(0.15))\n",
        "\n",
        "# model_nlp.add(L.Dense(4096, \n",
        "#                       kernel_regularizer=regularizers.l1_l2(l1=1e-6, l2=1e-6), \n",
        "#                       kernel_initializer='normal', \n",
        "#                       activation=ACTIVATION))\n",
        "# # model_nlp.add(L.Dropout(0.15))"
      ],
      "metadata": {
        "id": "hwfGJYiUOkxW"
      },
      "execution_count": null,
      "outputs": []
    },
    {
      "cell_type": "code",
      "source": [
        "# model_nlp = M.Sequential()\n",
        "\n",
        "# model_nlp.add(L.Input(shape=MAX_SEQUENCE_LENGTH, name=\"seq_description\"))\n",
        "\n",
        "# model_nlp.add(L.Embedding(len(tokenize.word_index)+1, MAX_SEQUENCE_LENGTH))\n",
        "\n",
        "# model_nlp.add(L.LayerNormalization())\n",
        "\n",
        "# model_nlp.add(L.LSTM(64, return_sequences=True))\n",
        "# model_nlp.add(L.Dropout(0.15))\n",
        "\n",
        "# model_nlp.add(L.Dense(4096, \n",
        "#                       kernel_regularizer=regularizers.l1_l2(l1=1e-6, l2=1e-6), \n",
        "#                       kernel_initializer='normal', \n",
        "#                       activation=ACTIVATION))\n",
        "# model_nlp.add(L.Dropout(0.15))\n",
        "\n",
        "# model_nlp.add(L.LSTM(64, return_sequences=True))\n",
        "# model_nlp.add(L.Dropout(0.15))\n",
        "\n",
        "# model_nlp.add(L.Dense(16384, \n",
        "#                       kernel_regularizer=regularizers.l1_l2(l1=1e-6, l2=1e-6), \n",
        "#                       kernel_initializer='normal', \n",
        "#                       activation=ACTIVATION))\n",
        "# model_nlp.add(L.Dropout(0.15))\n",
        "\n",
        "# model_nlp.add(L.LSTM(64, return_sequences=True))\n",
        "# model_nlp.add(L.Dropout(0.15))\n",
        "\n",
        "# model_nlp.add(L.Dense(8192, \n",
        "#                       kernel_regularizer=regularizers.l1_l2(l1=1e-6, l2=1e-6), \n",
        "#                       kernel_initializer='normal', \n",
        "#                       activation=ACTIVATION))\n",
        "# model_nlp.add(L.Dropout(0.15))\n",
        "\n",
        "# model_nlp.add(L.Dense(4096, \n",
        "#                       kernel_regularizer=regularizers.l1_l2(l1=1e-6, l2=1e-6), \n",
        "#                       kernel_initializer='normal', \n",
        "#                       activation=ACTIVATION))\n",
        "# model_nlp.add(L.Dropout(0.15))\n",
        "\n",
        "# model_nlp.add(L.LSTM(64,))\n",
        "# model_nlp.add(L.Dropout(0.15))\n",
        "\n",
        "# model_nlp.add(L.Dense(4096, \n",
        "#                       kernel_regularizer=regularizers.l1_l2(l1=1e-6, l2=1e-6), \n",
        "#                       kernel_initializer='normal', \n",
        "#                       activation=ACTIVATION))\n",
        "# # model_nlp.add(L.Dropout(0.15))"
      ],
      "metadata": {
        "id": "UTO3gI9CUGlE"
      },
      "execution_count": null,
      "outputs": []
    },
    {
      "cell_type": "markdown",
      "metadata": {
        "id": "F48GcWu_srTe"
      },
      "source": [
        "## MLP-сеть"
      ]
    },
    {
      "cell_type": "code",
      "source": [
        "model_mlp = M.Sequential()\n",
        "\n",
        "model_mlp.add(L.Dense(8192, \n",
        "                       input_dim = X_train.shape[1],  \n",
        "                       activation=ACTIVATION))\n",
        "model_mlp.add(L.Dropout(0.15))\n",
        "\n",
        "model_mlp.add(L.Dense(16384,\n",
        "                       kernel_regularizer=regularizers.l1_l2(l1=1e-7, l2=1e-7), \n",
        "                       kernel_initializer='normal', \n",
        "                       activation=ACTIVATION))\n",
        "model_mlp.add(L.Dropout(0.15))\n",
        "\n",
        "model_mlp.add(L.Dense(4096,\n",
        "                       kernel_regularizer=regularizers.l1_l2(l1=1e-7, l2=1e-7), \n",
        "                       kernel_initializer='normal', \n",
        "                       activation=ACTIVATION))\n",
        "model_mlp.add(L.Dropout(0.15))\n",
        "\n",
        "model_mlp.add(L.Dense(8192,\n",
        "                       kernel_regularizer=regularizers.l1_l2(l1=1e-6, l2=1e-6), \n",
        "                       kernel_initializer='normal', \n",
        "                       activation=ACTIVATION))\n",
        "model_mlp.add(L.Dropout(0.15))\n",
        "\n",
        "model_mlp.add(L.Dense(4096,\n",
        "                       kernel_regularizer=regularizers.l1_l2(l1=1e-6, l2=1e-6), \n",
        "                       kernel_initializer='normal', \n",
        "                       activation=ACTIVATION))\n",
        "model_mlp.add(L.Dropout(0.15))\n",
        "\n",
        "model_mlp.add(L.Dense(4096,\n",
        "                       kernel_regularizer=regularizers.l1_l2(l1=1e-5, l2=1e-5), \n",
        "                       kernel_initializer='normal', \n",
        "                       activation=ACTIVATION))\n",
        "# model_mlp.add(L.Dropout(0.15))"
      ],
      "metadata": {
        "id": "KSNsGruC0I9e"
      },
      "execution_count": null,
      "outputs": []
    },
    {
      "cell_type": "code",
      "source": [
        "# model_mlp = M.Sequential()\n",
        "\n",
        "# model_mlp.add(L.Dense(4096, \n",
        "#                        input_dim = X_train.shape[1],  \n",
        "#                        activation=ACTIVATION))\n",
        "# model_mlp.add(L.Dropout(0.15))\n",
        "\n",
        "# model_mlp.add(L.Dense(16384,\n",
        "#                        kernel_regularizer=regularizers.l1_l2(l1=1e-6, l2=1e-6), \n",
        "#                        kernel_initializer='normal', \n",
        "#                        activation=ACTIVATION))\n",
        "# model_mlp.add(L.Dropout(0.15))\n",
        "\n",
        "# model_mlp.add(L.Dense(8192,\n",
        "#                        kernel_regularizer=regularizers.l1_l2(l1=1e-6, l2=1e-6), \n",
        "#                        kernel_initializer='normal', \n",
        "#                        activation=ACTIVATION))\n",
        "# model_mlp.add(L.Dropout(0.15))\n",
        "\n",
        "# model_mlp.add(L.Dense(8192,\n",
        "#                        kernel_regularizer=regularizers.l1_l2(l1=1e-6, l2=1e-6), \n",
        "#                        kernel_initializer='normal', \n",
        "#                        activation=ACTIVATION))\n",
        "# model_mlp.add(L.Dropout(0.15))\n",
        "\n",
        "# model_mlp.add(L.Dense(4096,\n",
        "#                        kernel_regularizer=regularizers.l1_l2(l1=1e-6, l2=1e-6), \n",
        "#                        kernel_initializer='normal', \n",
        "#                        activation=ACTIVATION))\n",
        "# model_mlp.add(L.Dropout(0.15))\n",
        "\n",
        "# model_mlp.add(L.Dense(4096,\n",
        "#                        kernel_regularizer=regularizers.l1_l2(l1=1e-6, l2=1e-6), \n",
        "#                        kernel_initializer='normal', \n",
        "#                        activation=ACTIVATION))\n",
        "# # model_mlp.add(L.Dropout(0.15))"
      ],
      "metadata": {
        "id": "y3NB84WLUH-u"
      },
      "execution_count": null,
      "outputs": []
    },
    {
      "cell_type": "markdown",
      "metadata": {
        "id": "BDgZM0-wsrT2"
      },
      "source": [
        "## Multiple Inputs NN"
      ]
    },
    {
      "cell_type": "code",
      "execution_count": null,
      "metadata": {
        "id": "bbXeuN-ksrT2"
      },
      "outputs": [],
      "source": [
        "combinedInput = L.concatenate([model_nlp.output, model_mlp.output])\n",
        "# being our regression head\n",
        "head = L.Dense(4096, activation=ACTIVATION)(combinedInput)\n",
        "head = L.Dense(1, activation=\"linear\")(head)\n",
        "\n",
        "model_2mi = M.Model(inputs=[model_nlp.input, model_mlp.input], outputs=head)"
      ]
    },
    {
      "cell_type": "markdown",
      "metadata": {
        "id": "vHNvSkNlsrT3"
      },
      "source": [
        "## Summary"
      ]
    },
    {
      "cell_type": "code",
      "execution_count": null,
      "metadata": {
        "id": "KpAVQaCCsrT3"
      },
      "outputs": [],
      "source": [
        "model_2mi.summary()"
      ]
    },
    {
      "cell_type": "markdown",
      "metadata": {
        "id": "Ox1QAc6AsrT3"
      },
      "source": [
        "В качестве оптимизатора я исследовал Adam и Adamax. Adam в данном случае сходится гораздо быстрее и дает более стабильные значения исследуемой метрики. Начальную скорость обучения выберем 0.01. \n",
        "\n",
        "Проведем компиляцию модели:"
      ]
    },
    {
      "cell_type": "code",
      "execution_count": null,
      "metadata": {
        "id": "ZfN5FdRhsrT4"
      },
      "outputs": [],
      "source": [
        "LR = 0.0001\n",
        "\n",
        "model_2mi.compile(loss='MAPE', optimizer=optimizers.Adam(learning_rate=LR),\n",
        "                   metrics=['MAPE'])\n"
      ]
    },
    {
      "cell_type": "markdown",
      "source": [
        "## Коллбеки"
      ],
      "metadata": {
        "id": "u8KO1MVbCHOh"
      }
    },
    {
      "cell_type": "code",
      "source": [
        "file_name = 'model_mi'"
      ],
      "metadata": {
        "id": "EJpa_mVaulbO"
      },
      "execution_count": null,
      "outputs": []
    },
    {
      "cell_type": "code",
      "source": [
        "if is_colab:\n",
        "    path = SAVE_PATH\n",
        "else:\n",
        "    path = WORK_PATH\n",
        "                                                 \n",
        "cb_checkpoint = ModelCheckpoint(os.path.join(path, \n",
        "                                                 file_name+'_best.hdf5'), \n",
        "                                    monitor = ['val_MAPE'], \n",
        "                                    verbose = 0, mode = 'min')\n",
        "\n",
        "cb_earlystop = EarlyStopping(monitor='val_MAPE', patience=30, verbose=1, \n",
        "                             mode='min',\n",
        "                             restore_best_weights=True)\n",
        "# cb_schedul = LearningRateScheduler(scheduler, verbose=1)\n",
        "\n",
        "cb_schedul = ReduceLROnPlateau(monitor='val_MAPE',\n",
        "                                 factor=tf.math.exp(-0.1),  # new_lr = lr*factor\n",
        "                                 patience=1,  # эпох без изменений\n",
        "                                 min_lr=0.000000001,\n",
        "                                 verbose=1,  # выводить сообщения\n",
        "                                 mode='max')  # способ отслеживания метрики\n",
        "\n",
        "callbacks_list = [cb_checkpoint, cb_earlystop, cb_schedul]"
      ],
      "metadata": {
        "id": "0BL7E8X3CGb3"
      },
      "execution_count": null,
      "outputs": []
    },
    {
      "cell_type": "markdown",
      "metadata": {
        "id": "rT7cb2xUsrT3"
      },
      "source": [
        "## Обучение"
      ]
    },
    {
      "cell_type": "code",
      "source": [
        "BATCH_SIZE = 32"
      ],
      "metadata": {
        "id": "vbHLniihAtww"
      },
      "execution_count": null,
      "outputs": []
    },
    {
      "cell_type": "code",
      "execution_count": null,
      "metadata": {
        "id": "Z17hCEE3srT5"
      },
      "outputs": [],
      "source": [
        "history = model_2mi.fit([text_train_sequences, X_train], y_train,\n",
        "                    batch_size=BATCH_SIZE,\n",
        "                    epochs=1000,\n",
        "                    validation_data=([text_test_sequences, X_test], y_test),\n",
        "                    callbacks=callbacks_list\n",
        "                    )"
      ]
    },
    {
      "cell_type": "markdown",
      "source": [
        "![image.png](data:image/png;base64,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)"
      ],
      "metadata": {
        "id": "AoztCaRooC8q"
      }
    },
    {
      "cell_type": "markdown",
      "metadata": {
        "id": "Fo9gqE61srT5"
      },
      "source": [
        "## График"
      ]
    },
    {
      "cell_type": "code",
      "execution_count": null,
      "metadata": {
        "id": "oV9x5j4-AEfJ"
      },
      "outputs": [],
      "source": [
        "plot_history(history)"
      ]
    },
    {
      "cell_type": "markdown",
      "source": [
        "![image.png](data:image/png;base64,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)"
      ],
      "metadata": {
        "id": "_AEjSkWanwpi"
      }
    },
    {
      "cell_type": "code",
      "execution_count": null,
      "metadata": {
        "id": "I8Mng5I2srT6"
      },
      "outputs": [],
      "source": [
        "model_mi = make_save(model_2mi, file_name)"
      ]
    },
    {
      "cell_type": "markdown",
      "metadata": {
        "id": "sguvIwi2srT7"
      },
      "source": [
        "## Валидация"
      ]
    },
    {
      "cell_type": "code",
      "execution_count": null,
      "metadata": {
        "id": "7795fmcZsrT7"
      },
      "outputs": [],
      "source": [
        "test_predict_2mi = np.round(model_2mi.predict([text_test_sequences, X_test]))\n",
        "print(f\"TEST mape: {(mape(y_test, predict_2mi[:,0]))*100:0.2f}%\")"
      ]
    },
    {
      "cell_type": "markdown",
      "source": [
        "![image.png](data:image/png;base64,iVBORw0KGgoAAAANSUhEUgAAAJMAAAAgCAYAAAAWu0rOAAAAAXNSR0IArs4c6QAAAARnQU1BAACxjwv8YQUAAAAJcEhZcwAADsMAAA7DAcdvqGQAAARASURBVHhe7ZureuJAFMf/u++AW0OjkChc+gI48BCHQ4HDgAOFw4EHHC/QOEwjUaCqykNkz5kLmYZNgTJUdM/v+2a7yeQyc87/XLKXXykBQfDAb/NTEO5GxCR4Q8QkeEPEJHhDxCR4Q8QkeEPEJHhDxCR4Q8QkeEPEJBBHrNpPeHqi0V7RkTm7auNplJijyxSLKRnph5+NEfTjnQU4w323Wow7bxd68dk/nOMKbd5voaOsbdtYWc9eg32uGWeP/2B359nJDH2MsT1s6dc+ZnwfPavXD7AeVPU118B/N/c57+myVU5by3dzbNHnh6/mMM/rMC2Xh2nRtKbo2T+X92UrLbeW6XJYTssFxlPXDIfpsNxKrzfNK13v+ON9mbbc+3PH6h3WP+wrdaP16QXfFvCwMpds5kBUxw26vhKOWoqqlYkyCr9kdB6JH7OiG+Hm/mOC0Wk+lxGLIthBv/PGTMrRvuvisGgiMKfOUBkBGHfq5sR1HFdTzMMxOtbgpSa6UYzNi158MusjjrpoltQhTXcRYY4Nb6DawXjfoP3UVIaq73voB2vckpSYh4mpWo+AOS2wMJXfQ4z+poLtdoyQ3jGtbLEdh5gryxDkkBkmOBwOatBl6PeyXkDdX5uistXz62iOhl0nl4rGHmMzd1gHdK2n8ksOXnzqIRK6UtLk5PSbCAK4t/2phIh3b/S7I/Z7jm37bg6oBkkJdJ6tUkJzYfa7CLC5tbwZ7hbTvGEjOBfF1QEtbo2IBfWv6L+TqNs0hovQzVuenDZwzpWe6wjjHdislmi9ODlMCZ+szUs/vmw+OpOjNjQR7FAdsPEHfjOv6V0mX1CS2uN8mtlfZbjYHGTojFrDpq4DUIstIxk1sB93vrSvu8UUrY2i1cgcpKliYOZU9BeUDP/YBtaMGqV4M1OIEdvbLkbcr2X3cuq/eLMPqOxyRpzYILkRCqAJZ+CaWXcP6JJYwsofc4EOfM7i7I8FOYr36s5zeW/sSczB7LT/9g0Oe1iZy1MdUJYil+YC4SEkI137t1bkXA7NXCFhBdas4Vgb3B1fyPq3kWyo7HD5tSLmMmSOr2wVSs1Ftmbqy0BiCQKWZokrIEe+EpFGlz49z1gxP+NlOtdJgvuDzYvK2NfwbWLSxgrhBsJDOfUPug8pTi5sRFpZ/VldzyUv7vcuZtAvNeCfodqCTLyqRSB7qd7NVTL3dCw258+D/gWvr4GsibY97EmXXFLjCLaN0uUt16u97S5ndAfPPZP9osqVGR6qqc2XwcdQ7ejGXL+7hl39PDNl62YjbrOIZaeqptvO8/AlmuwLkvSrnKue7+Ujxf06NeXMFaHaF32/2X03gLXt+Wx5UzagZrxrrqNFZr3pZf7DfwPOQieBdb+hdP1nfF+ZE348IibBG/JfnQRvSGYSvCFiErwhYhK8IWISvCFiErwhYhK8IWISvCFiEjwB/AX/UQ12Ho3kvwAAAABJRU5ErkJggg==)"
      ],
      "metadata": {
        "id": "qnZ7fuk8oKQH"
      }
    },
    {
      "cell_type": "markdown",
      "source": [
        "Сохраним предсказание для финального этапа."
      ],
      "metadata": {
        "id": "HCgisHKIpxO4"
      }
    },
    {
      "cell_type": "code",
      "source": [
        "pd.DataFrame(test_predict_2mi).to_csv(os.path.join(path, 'test_predict_2mi.csv'), \n",
        "                                      index=False)"
      ],
      "metadata": {
        "id": "E47PYK6Qp1OP"
      },
      "execution_count": null,
      "outputs": []
    },
    {
      "cell_type": "markdown",
      "metadata": {
        "id": "nvRn1Z7csrT7"
      },
      "source": [
        "## Submission"
      ]
    },
    {
      "cell_type": "code",
      "execution_count": null,
      "metadata": {
        "id": "ZrRYThkysrT8"
      },
      "outputs": [],
      "source": [
        "sample_submission = make_sub(model_2mi, sample_submission, \n",
        "                             [text_sub_sequences, sub], \n",
        "                             'mi_submission.csv')"
      ]
    },
    {
      "cell_type": "markdown",
      "source": [
        "## Промежуточный вывод"
      ],
      "metadata": {
        "id": "zyNCm2TSxLPN"
      }
    },
    {
      "cell_type": "code",
      "source": [
        "raise KeyboardInterrupt"
      ],
      "metadata": {
        "id": "agRmHw2qQ8AI"
      },
      "execution_count": null,
      "outputs": []
    },
    {
      "cell_type": "markdown",
      "metadata": {
        "id": "hgFodqphsrT8"
      },
      "source": [
        "# Model 4: Tabular-text-image Multi Input network"
      ]
    },
    {
      "cell_type": "markdown",
      "metadata": {
        "id": "N-wQQlqVsrT8"
      },
      "source": [
        "## Подгружаем изображения"
      ]
    },
    {
      "cell_type": "code",
      "execution_count": null,
      "metadata": {
        "id": "6Ao2W7eesrT9"
      },
      "outputs": [],
      "source": [
        "# Укажем размер выводимого изображения\n",
        "plt.figure(figsize=(10, 6))\n",
        "# 9 случайных примеров из train\n",
        "random_image = train.sample(n=9)\n",
        "random_image_paths = random_image['sell_id'].values\n",
        "random_image_cat = random_image['price'].values\n",
        "# выведем 9 изображений автомобилей и цен к ним\n",
        "for index, path in enumerate(random_image_paths):\n",
        "    im = PIL.Image.open(os.path.join(DATA_PATH,'img/img',str(path)+'.jpg'))\n",
        "    plt.subplot(3, 3, index + 1)\n",
        "    plt.imshow(im)\n",
        "    plt.title('price: ' + str(random_image_cat[index]))\n",
        "    plt.axis('off')\n",
        "plt.show()"
      ]
    },
    {
      "cell_type": "markdown",
      "metadata": {
        "id": "U8qM3FVosrT-"
      },
      "source": [
        "Как видно, все вывелось корректно, никаких нареканий не имеется. Теперь загрузим все имеющиеся изображения с форматом 320х240:"
      ]
    },
    {
      "cell_type": "code",
      "execution_count": null,
      "metadata": {
        "id": "BzeTx9pasrT-"
      },
      "outputs": [],
      "source": [
        "# Установим размер изображения\n",
        "size = (320, 240)\n",
        "\n",
        "# функция для загрузки изображений\n",
        "def get_image_array(index):\n",
        "    images_set = []\n",
        "    for index, sell_id in enumerate(data['sell_id'].iloc[index].values):\n",
        "        image = cv2.imread(os.path.join(DATA_PATH,'img/img',str(sell_id)+'.jpg'))\n",
        "        assert(image is not None)\n",
        "        image = cv2.resize(image, size)  # изменение размера\n",
        "        images_set.append(image)  # добавляем изображение в массив\n",
        "    images_set = np.array(images_set)\n",
        "    print('images shape', images_set.shape, 'dtype', images_set.dtype)\n",
        "    return (images_set)\n",
        "\n",
        "\n",
        "# применим функцию для создания выборок\n",
        "images_train = get_image_array(X_train.index)\n",
        "images_test = get_image_array(X_test.index)\n",
        "images_sub = get_image_array(sub.index)"
      ]
    },
    {
      "cell_type": "markdown",
      "metadata": {
        "id": "92wRLgsysrT-"
      },
      "source": [
        "## Аугментация"
      ]
    },
    {
      "cell_type": "markdown",
      "metadata": {
        "id": "-ciwr5rgsrT_"
      },
      "source": [
        "Настройки, которые я использую для аугментации изображений, взяты из моего проекта [Ford vs Ferrari](https://www.kaggle.com/alexfoncrow/dst45-47-car-classification-sf/):"
      ]
    },
    {
      "cell_type": "code",
      "execution_count": null,
      "metadata": {
        "id": "WckfhbVwsrT_"
      },
      "outputs": [],
      "source": [
        "augment_module = a.Compose([\n",
        "    # добавляем размытие по Гауссу и шум с вероятностью 7%\n",
        "    a.Blur(p=0.07),\n",
        "    a.GaussNoise(p=0.07),\n",
        "    #  параметры сдвига,поворота и масштабирования, а также их вероятность.\n",
        "    a.ShiftScaleRotate(shift_limit=0.08,\n",
        "                       scale_limit=0.05,\n",
        "                       border_mode=4,\n",
        "                       rotate_limit=20,\n",
        "                       p=0.7),\n",
        "\n",
        "    a.RGBShift(),\n",
        "    a.HueSaturationValue(),  # случайный оттенок и насыщенность\n",
        "    a.HorizontalFlip(),\n",
        "\n",
        "    # установим случайную яркость и контрастность изображений с вероятностью 50%\n",
        "\n",
        "    a.OneOf([\n",
        "            a.RandomBrightnessContrast(\n",
        "                brightness_limit=0.3, contrast_limit=0.3),\n",
        "            a.RandomBrightnessContrast(brightness_limit=0.1, \n",
        "                                       contrast_limit=0.1)],\n",
        "            p=0.3)\n",
        "])\n",
        "\n",
        "# Выведем пример аугментации\n",
        "plt.figure(figsize=(12, 8))\n",
        "for i in range(9):\n",
        "    img = augment_module(image=images_train[0])['image']\n",
        "    plt.subplot(3, 3, i + 1)\n",
        "    plt.imshow(img)\n",
        "    plt.axis('off')\n",
        "plt.show()"
      ]
    },
    {
      "cell_type": "code",
      "source": [
        "raise KeyboardInterrupt"
      ],
      "metadata": {
        "id": "mgqJLlzldrDX"
      },
      "execution_count": null,
      "outputs": []
    },
    {
      "cell_type": "markdown",
      "metadata": {
        "id": "dljMPUSosrUA"
      },
      "source": [
        "## Использование tf.data.Dataset\n",
        "Если все изображения мы будем хранить в памяти, то может возникнуть проблема ее нехватки. Не храните все изображения в памяти целиком!\n",
        "\n",
        "Метод .fit() модели keras может принимать либо данные в виде массивов или тензоров, либо разного рода итераторы, из которых наиболее современным и гибким является [tf.data.Dataset](https://www.tensorflow.org/guide/data). Он представляет собой конвейер, то есть мы указываем, откуда берем данные и какую цепочку преобразований с ними выполняем. Далее мы будем работать с tf.data.Dataset.\n",
        "\n",
        "Dataset хранит информацию о конечном или бесконечном наборе кортежей (tuple) с данными и может возвращать эти наборы по очереди. Например, данными могут быть пары (input, target) для обучения нейросети. С данными можно осуществлять преобразования, которые осуществляются по мере необходимости ([lazy evaluation](https://ru.wikipedia.org/wiki/%D0%9B%D0%B5%D0%BD%D0%B8%D0%B2%D1%8B%D0%B5_%D0%B2%D1%8B%D1%87%D0%B8%D1%81%D0%BB%D0%B5%D0%BD%D0%B8%D1%8F)).\n",
        "\n",
        "`tf.data.Dataset.from_tensor_slices(data)` - создает датасет из данных, которые представляют собой либо массив, либо кортеж из массивов. Деление осуществляется по первому индексу каждого массива. Например, если `data = (np.zeros((128, 256, 256)), np.zeros(128))`, то датасет будет содержать 128 элементов, каждый из которых содержит один массив 256x256 и одно число.\n",
        "\n",
        "`dataset2 = dataset1.map(func)` - применение функции к датасету; функция должна принимать столько аргументов, каков размер кортежа в датасете 1 и возвращать столько, сколько нужно иметь в датасете 2. Пусть, например, датасет содержит изображения и метки, а нам нужно создать датасет только из изображений, тогда мы напишем так: `dataset2 = dataset.map(lambda img, label: img)`.\n",
        "\n",
        "`dataset2 = dataset1.batch(8)` - группировка по батчам; если датасет 2 должен вернуть один элемент, то он берет из датасета 1 восемь элементов, склеивает их (нулевой индекс результата - номер элемента) и возвращает.\n",
        "\n",
        "`dataset.__iter__()` - превращение датасета в итератор, из которого можно получать элементы методом `.__next__()`. Итератор, в отличие от самого датасета, хранит позицию текущего элемента. Можно также перебирать датасет циклом for.\n",
        "\n",
        "`dataset2 = dataset1.repeat(X)` - датасет 2 будет повторять датасет 1 X раз.\n",
        "\n",
        "Если нам нужно взять из датасета 1000 элементов и использовать их как тестовые, а остальные как обучающие, то мы напишем так:\n",
        "\n",
        "`test_dataset = dataset.take(1000)\n",
        "train_dataset = dataset.skip(1000)`\n",
        "\n",
        "Датасет по сути неизменен: такие операции, как map, batch, repeat, take, skip никак не затрагивают оригинальный датасет. Если датасет хранит элементы [1, 2, 3], то выполнив 3 раза подряд функцию dataset.take(1) мы получим 3 новых датасета, каждый из которых вернет число 1. Если же мы выполним функцию dataset.skip(1), мы получим датасет, возвращающий числа [2, 3], но исходный датасет все равно будет возвращать [1, 2, 3] каждый раз, когда мы его перебираем.\n",
        "\n",
        "tf.Dataset всегда выполняется в graph-режиме (в противоположность eager-режиму), поэтому либо преобразования (`.map()`) должны содержать только tensorflow-функции, либо мы должны использовать tf.py_function в качестве обертки для функций, вызываемых в `.map()`. Подробнее можно прочитать [здесь](https://www.tensorflow.org/guide/data#applying_arbitrary_python_logic)."
      ]
    },
    {
      "cell_type": "markdown",
      "source": [
        "## Лемматизация"
      ],
      "metadata": {
        "id": "eaUEGi2xY_zd"
      }
    },
    {
      "cell_type": "code",
      "source": [
        "morphy = pymorphy2.MorphAnalyzer()\n",
        "df_NLP = data.copy()"
      ],
      "metadata": {
        "id": "ltdllFw1ZFmG"
      },
      "execution_count": null,
      "outputs": []
    },
    {
      "cell_type": "code",
      "source": [
        "# функция для лемматизации текста:\n",
        "def lemma(text):\n",
        "    # Паттерн с символами\n",
        "    trash_sym = \"[A-Za-z0-9!#$%&'()*+,./:;<=>?@[\\]^_`{|}~—\\\"\\-–»«•∙·✔➥●☛“”°№₽®]+\"\n",
        "\n",
        "    text = text.lower()  # понижаем регистр\n",
        "    text = re.sub(trash_sym, ' ', text)  # удаляем символы из паттерна\n",
        "    strings = []  # создаем массив, в котором будут храниться лемматизированные строки\n",
        "    for wrd in text.split():  # берем слово из строки\n",
        "        wrd = wrd.strip()  # убираем пробелы до и после слова\n",
        "        wrd = morphy.normal_forms(wrd)[0]  # приводим к нормальной форме\n",
        "        strings.append(wrd)  # добавляем слово в строку массива\n",
        "    return ' '.join(strings)  # вернем значения, разделив пробелами"
      ],
      "metadata": {
        "id": "GrT6vbaXZGTd"
      },
      "execution_count": null,
      "outputs": []
    },
    {
      "cell_type": "code",
      "source": [
        "strings_set = []\n",
        "strings_set = df_NLP.apply(\n",
        "    lambda df_NLP: lemma(df_NLP['description']), axis=1)"
      ],
      "metadata": {
        "id": "T_ahSF89ZI4D"
      },
      "execution_count": null,
      "outputs": []
    },
    {
      "cell_type": "code",
      "source": [
        "russian_stopwords = stopwords.words(\"russian\")"
      ],
      "metadata": {
        "id": "piWMakm2ZOM_"
      },
      "execution_count": null,
      "outputs": []
    },
    {
      "cell_type": "code",
      "source": [
        "# функция для проверки на стоп-слова\n",
        "def lineWithoutStopWords(line):\n",
        "    line = line.split()  # разделяем на слова\n",
        "    # возвращаем слово, если оно не в списке стоп-слов\n",
        "    return [word for word in line if word not in russian_stopwords]\n",
        "\n",
        "\n",
        "# применим функцию к нашим лемматизированым строкам слов\n",
        "data['description'] = [lineWithoutStopWords(line) for line in strings_set]"
      ],
      "metadata": {
        "id": "2M0EcEY9ZRmd"
      },
      "execution_count": null,
      "outputs": []
    },
    {
      "cell_type": "markdown",
      "source": [
        "## Загрузим обработанный description"
      ],
      "metadata": {
        "id": "GZnPoPB8X80O"
      }
    },
    {
      "cell_type": "code",
      "source": [
        "if os.path.exists(SAVE_PATH):\n",
        "    data['description'] = pd.read_csv(os.path.join(SAVE_PATH, \n",
        "                                                  'processed_description.csv'))"
      ],
      "metadata": {
        "id": "7_yeKpfDYBB_"
      },
      "execution_count": null,
      "outputs": []
    },
    {
      "cell_type": "code",
      "source": [
        "text_train = data['description'].iloc[X_train.index]\n",
        "text_test = data['description'].iloc[X_test.index]\n",
        "text_sub = data['description'].iloc[sub.index]"
      ],
      "metadata": {
        "id": "vuKicdDfYB33"
      },
      "execution_count": null,
      "outputs": []
    },
    {
      "cell_type": "markdown",
      "metadata": {
        "id": "KTF4zdqUsrUA"
      },
      "source": [
        " ## Токенизация"
      ]
    },
    {
      "cell_type": "code",
      "source": [
        "# The maximum number of words to be used. (most frequent)\n",
        "MAX_WORDS = 100000\n",
        "# Max number of words in each complaint.\n",
        "MAX_SEQUENCE_LENGTH = 256"
      ],
      "metadata": {
        "id": "WcS2ixvaWbD9"
      },
      "execution_count": null,
      "outputs": []
    },
    {
      "cell_type": "code",
      "execution_count": null,
      "metadata": {
        "id": "0z-oVTPtsrUA"
      },
      "outputs": [],
      "source": [
        "# обучение токенизатора для NLP\n",
        "tokenize = Tokenizer(num_words=MAX_WORDS)\n",
        "tokenize.fit_on_texts(data['description'])"
      ]
    },
    {
      "cell_type": "markdown",
      "metadata": {
        "id": "cM-qwSx2srUA"
      },
      "source": [
        "Теперь создадим функции, которые будут применяться к имеющимся у нас данным:"
      ]
    },
    {
      "cell_type": "code",
      "execution_count": null,
      "metadata": {
        "id": "lK8op9CdsrUB"
      },
      "outputs": [],
      "source": [
        "# аугментация изображений\n",
        "def process_image(image):\n",
        "    return augment_module(image=image.numpy())['image']\n",
        "\n",
        "\n",
        "# векторизация строки\n",
        "def tokenize_(descriptions):\n",
        "    return sequence.pad_sequences(tokenize.texts_to_sequences(descriptions), \n",
        "                                  maxlen=MAX_SEQUENCE_LENGTH)\n",
        "\n",
        "\n",
        "# применение векторизации к тексту\n",
        "def tokenize_text(text):\n",
        "    return tokenize_([text.numpy().decode('utf-8')])[0]\n",
        "\n",
        "\n",
        "# функция  для применения вышеупомянутых функций \n",
        "# к входным данным обучающей выборки\n",
        "def tf_process_train_dataset_element(image, table_data, text, price):\n",
        "    im_shape = image.shape\n",
        "    [image, ] = tf.py_function(process_image, [image], [tf.uint8])\n",
        "    image.set_shape(im_shape)\n",
        "    [text, ] = tf.py_function(tokenize_text, [text], [tf.int32])\n",
        "    return (image, table_data, text), price\n",
        "\n",
        "\n",
        "# функция  для применения вышеупомянутых функций \n",
        "# к входным данным валидационной и тестовой выборкок\n",
        "def tf_process_val_dataset_element(image, table_data, text, price):\n",
        "    [text, ] = tf.py_function(tokenize_text, [text], [tf.int32])\n",
        "    return (image, table_data, text), price\n",
        "\n",
        "\n",
        "# использование tf.data.Dataset с использованием функций для обучающей выборки\n",
        "train_dataset = tf.data.Dataset.from_tensor_slices((\n",
        "    images_train, X_train, data['description'].iloc[X_train.index], y_train\n",
        ")).map(tf_process_train_dataset_element)\n",
        "\n",
        "# использование tf.data.Dataset с использованием функций для валидационной выборки\n",
        "test_dataset = tf.data.Dataset.from_tensor_slices((\n",
        "    images_test, X_test, data['description'].iloc[X_test.index], y_test\n",
        ")).map(tf_process_val_dataset_element)\n",
        "\n",
        "# использование tf.data.Dataset с использованием функций для тестовой выборки\n",
        "y_sub = np.zeros(len(sub))\n",
        "sub_dataset = tf.data.Dataset.from_tensor_slices((\n",
        "    images_sub, sub, data['description'].iloc[sub.index], y_sub\n",
        ")).map(tf_process_val_dataset_element)\n",
        "\n",
        "# проверяем, что нет ошибок (не будет выброшено исключение):\n",
        "train_dataset.__iter__().__next__()\n",
        "test_dataset.__iter__().__next__()\n",
        "sub_dataset.__iter__().__next__()"
      ]
    },
    {
      "cell_type": "markdown",
      "metadata": {
        "id": "s4o3FmSBsrUC"
      },
      "source": [
        "## DenseNet201"
      ]
    },
    {
      "cell_type": "markdown",
      "metadata": {
        "id": "ZnML7BfjsrUD"
      },
      "source": [
        "Загрузим исследуемую модель:"
      ]
    },
    {
      "cell_type": "code",
      "execution_count": null,
      "metadata": {
        "id": "Eiu5ACcssrUD"
      },
      "outputs": [],
      "source": [
        "# загрузим модель без \"головы\" и укажем, что она может обучаться\n",
        "image_model = keras.applications.DenseNet201(\n",
        "    weights='imagenet', include_top=False, input_shape=(size[1], size[0], 3))\n",
        "\n",
        "image_model_output = L.GlobalAveragePooling2D()(image_model.output)"
      ]
    },
    {
      "cell_type": "markdown",
      "metadata": {
        "id": "825sOopAsrUD"
      },
      "source": [
        "Заморозим 1\\3 первых слоев модели:"
      ]
    },
    {
      "cell_type": "code",
      "execution_count": null,
      "metadata": {
        "id": "_HOQkrSgsrUD"
      },
      "outputs": [],
      "source": [
        "image_model.trainable = True\n",
        "for layer in image_model.layers[:len(image_model.layers)//3]:\n",
        "    layer.trainable = False"
      ]
    },
    {
      "cell_type": "markdown",
      "metadata": {
        "id": "KHqgP5R9srUD"
      },
      "source": [
        "Посмотрим общее количество слоев в модели и какие из них могут обучаться:"
      ]
    },
    {
      "cell_type": "code",
      "execution_count": null,
      "metadata": {
        "id": "MD5CbIlYsrUE"
      },
      "outputs": [],
      "source": [
        "print(len(image_model.layers))\n",
        "\n",
        "for layer in image_model.layers:\n",
        "    print(layer, layer.trainable)"
      ]
    },
    {
      "cell_type": "markdown",
      "source": [
        "## NLP"
      ],
      "metadata": {
        "id": "sB12V5iUSU6w"
      }
    },
    {
      "cell_type": "code",
      "source": [
        "model_nlp = M.Sequential()\n",
        "\n",
        "model_nlp.add(L.Input(shape=MAX_SEQUENCE_LENGTH, name=\"seq_description\"))\n",
        "\n",
        "model_nlp.add(L.Embedding(len(tokenize.word_index)+1, MAX_SEQUENCE_LENGTH))\n",
        "\n",
        "model_nlp.add(L.LayerNormalization())\n",
        "\n",
        "model_nlp.add(L.LSTM(128, return_sequences=True))\n",
        "model_nlp.add(L.Dropout(0.15))\n",
        "\n",
        "model_nlp.add(L.Dense(4096, \n",
        "                      kernel_regularizer=regularizers.l1_l2(l1=1e-7, l2=1e-7), \n",
        "                      kernel_initializer='normal', \n",
        "                      activation=ACTIVATION))\n",
        "model_nlp.add(L.Dropout(0.15))\n",
        "\n",
        "model_nlp.add(L.LSTM(128, return_sequences=True))\n",
        "model_nlp.add(L.Dropout(0.15))\n",
        "\n",
        "model_nlp.add(L.Dense(4096, \n",
        "                      kernel_regularizer=regularizers.l1_l2(l1=1e-7, l2=1e-7), \n",
        "                      kernel_initializer='normal', \n",
        "                      activation=ACTIVATION))\n",
        "model_nlp.add(L.Dropout(0.15))\n",
        "\n",
        "model_nlp.add(L.LSTM(128, return_sequences=True))\n",
        "model_nlp.add(L.Dropout(0.15))\n",
        "\n",
        "model_nlp.add(L.Dense(4096, \n",
        "                      kernel_regularizer=regularizers.l1_l2(l1=1e-6, l2=1e-6), \n",
        "                      kernel_initializer='normal', \n",
        "                      activation=ACTIVATION))\n",
        "model_nlp.add(L.Dropout(0.15))\n",
        "\n",
        "model_nlp.add(L.LSTM(128,))\n",
        "model_nlp.add(L.Dropout(0.15))\n",
        "\n",
        "model_nlp.add(L.Dense(8192, \n",
        "                      kernel_regularizer=regularizers.l1_l2(l1=1e-5, l2=1e-5), \n",
        "                      kernel_initializer='normal', \n",
        "                      activation=ACTIVATION))\n",
        "# model_nlp.add(L.Dropout(0.15))"
      ],
      "metadata": {
        "id": "Es7QfBUzSUg9"
      },
      "execution_count": null,
      "outputs": []
    },
    {
      "cell_type": "code",
      "source": [
        "# model_nlp = M.Sequential()\n",
        "\n",
        "# model_nlp.add(L.Input(shape=MAX_SEQUENCE_LENGTH, name=\"seq_description\"))\n",
        "\n",
        "# model_nlp.add(L.Embedding(len(tokenize.word_index)+1, MAX_SEQUENCE_LENGTH))\n",
        "\n",
        "# model_nlp.add(L.LayerNormalization())\n",
        "\n",
        "# model_nlp.add(L.LSTM(64, return_sequences=True))\n",
        "# model_nlp.add(L.Dropout(0.15))\n",
        "\n",
        "# model_nlp.add(L.Dense(4096, \n",
        "#                       kernel_regularizer=regularizers.l1_l2(l1=1e-7, l2=1e-7), \n",
        "#                       kernel_initializer='normal', \n",
        "#                       activation=ACTIVATION))\n",
        "# model_nlp.add(L.Dropout(0.15))\n",
        "\n",
        "# model_nlp.add(L.LSTM(64, return_sequences=True))\n",
        "# model_nlp.add(L.Dropout(0.15))\n",
        "\n",
        "# model_nlp.add(L.Dense(4096, \n",
        "#                       kernel_regularizer=regularizers.l1_l2(l1=1e-7, l2=1e-7), \n",
        "#                       kernel_initializer='normal', \n",
        "#                       activation=ACTIVATION))\n",
        "# model_nlp.add(L.Dropout(0.15))\n",
        "\n",
        "# model_nlp.add(L.LSTM(64, return_sequences=True))\n",
        "# model_nlp.add(L.Dropout(0.15))\n",
        "\n",
        "# model_nlp.add(L.Dense(4096, \n",
        "#                       kernel_regularizer=regularizers.l1_l2(l1=1e-6, l2=1e-6), \n",
        "#                       kernel_initializer='normal', \n",
        "#                       activation=ACTIVATION))\n",
        "# model_nlp.add(L.Dropout(0.15))\n",
        "\n",
        "# model_nlp.add(L.LSTM(128,))\n",
        "# model_nlp.add(L.Dropout(0.15))\n",
        "\n",
        "# model_nlp.add(L.Dense(4096, \n",
        "#                       kernel_regularizer=regularizers.l1_l2(l1=1e-5, l2=1e-5), \n",
        "#                       kernel_initializer='normal', \n",
        "#                       activation=ACTIVATION))\n",
        "# # model_nlp.add(L.Dropout(0.15))"
      ],
      "metadata": {
        "id": "pTElgh1kVkfR"
      },
      "execution_count": null,
      "outputs": []
    },
    {
      "cell_type": "markdown",
      "source": [
        "## MLP"
      ],
      "metadata": {
        "id": "2s4C_felSZo5"
      }
    },
    {
      "cell_type": "code",
      "source": [
        "model_mlp = M.Sequential()\n",
        "\n",
        "model_mlp.add(L.Dense(4096, \n",
        "                       input_dim = X_train.shape[1],  \n",
        "                       activation=ACTIVATION))\n",
        "model_mlp.add(L.Dropout(0.15))\n",
        "\n",
        "model_mlp.add(L.Dense(4096,\n",
        "                       kernel_regularizer=regularizers.l1_l2(l1=1e-7, l2=1e-7), \n",
        "                       kernel_initializer='normal', \n",
        "                       activation=ACTIVATION))\n",
        "model_mlp.add(L.Dropout(0.15))\n",
        "\n",
        "model_mlp.add(L.Dense(4096,\n",
        "                       kernel_regularizer=regularizers.l1_l2(l1=1e-7, l2=1e-7), \n",
        "                       kernel_initializer='normal', \n",
        "                       activation=ACTIVATION))\n",
        "model_mlp.add(L.Dropout(0.15))\n",
        "\n",
        "model_mlp.add(L.Dense(4096,\n",
        "                       kernel_regularizer=regularizers.l1_l2(l1=1e-7, l2=1e-7), \n",
        "                       kernel_initializer='normal', \n",
        "                       activation=ACTIVATION))\n",
        "model_mlp.add(L.Dropout(0.15))\n",
        "\n",
        "model_mlp.add(L.Dense(4096,\n",
        "                       kernel_regularizer=regularizers.l1_l2(l1=1e-6, l2=1e-6), \n",
        "                       kernel_initializer='normal', \n",
        "                       activation=ACTIVATION))\n",
        "model_mlp.add(L.Dropout(0.15))\n",
        "\n",
        "model_mlp.add(L.Dense(4096,\n",
        "                       kernel_regularizer=regularizers.l1_l2(l1=1e-6, l2=1e-6), \n",
        "                       kernel_initializer='normal', \n",
        "                       activation=ACTIVATION))\n",
        "model_mlp.add(L.Dropout(0.15))\n",
        "\n",
        "model_mlp.add(L.Dense(4096,\n",
        "                       kernel_regularizer=regularizers.l1_l2(l1=1e-5, l2=1e-5), \n",
        "                       kernel_initializer='normal', \n",
        "                       activation=ACTIVATION))\n",
        "model_mlp.add(L.Dropout(0.15))\n",
        "\n",
        "model_mlp.add(L.Dense(8192,\n",
        "                       kernel_regularizer=regularizers.l1_l2(l1=1e-5, l2=1e-5), \n",
        "                       kernel_initializer='normal', \n",
        "                       activation=ACTIVATION))\n",
        "# model_mlp.add(L.Dropout(0.15))"
      ],
      "metadata": {
        "id": "MyKz14KhDh4q"
      },
      "execution_count": null,
      "outputs": []
    },
    {
      "cell_type": "code",
      "source": [
        "# model_mlp = M.Sequential()\n",
        "\n",
        "# model_mlp.add(L.Dense(4096, \n",
        "#                        input_dim = X_train.shape[1],  \n",
        "#                        activation=ACTIVATION))\n",
        "# model_mlp.add(L.Dropout(0.15))\n",
        "\n",
        "# model_mlp.add(L.Dense(4096,\n",
        "#                        kernel_regularizer=regularizers.l1_l2(l1=1e-7, l2=1e-7), \n",
        "#                        kernel_initializer='normal', \n",
        "#                        activation=ACTIVATION))\n",
        "# model_mlp.add(L.Dropout(0.15))\n",
        "\n",
        "# model_mlp.add(L.Dense(4096,\n",
        "#                        kernel_regularizer=regularizers.l1_l2(l1=1e-7, l2=1e-7), \n",
        "#                        kernel_initializer='normal', \n",
        "#                        activation=ACTIVATION))\n",
        "# model_mlp.add(L.Dropout(0.15))\n",
        "\n",
        "# model_mlp.add(L.Dense(4096,\n",
        "#                        kernel_regularizer=regularizers.l1_l2(l1=1e-7, l2=1e-7), \n",
        "#                        kernel_initializer='normal', \n",
        "#                        activation=ACTIVATION))\n",
        "# model_mlp.add(L.Dropout(0.15))\n",
        "\n",
        "# model_mlp.add(L.Dense(4096,\n",
        "#                        kernel_regularizer=regularizers.l1_l2(l1=1e-6, l2=1e-6), \n",
        "#                        kernel_initializer='normal', \n",
        "#                        activation=ACTIVATION))\n",
        "# model_mlp.add(L.Dropout(0.15))\n",
        "\n",
        "# model_mlp.add(L.Dense(8192,\n",
        "#                        kernel_regularizer=regularizers.l1_l2(l1=1e-5, l2=1e-5), \n",
        "#                        kernel_initializer='normal', \n",
        "#                        activation=ACTIVATION))\n",
        "# # model_mlp.add(L.Dropout(0.15))"
      ],
      "metadata": {
        "id": "Yfxuju5eVg7r"
      },
      "execution_count": null,
      "outputs": []
    },
    {
      "cell_type": "markdown",
      "source": [
        "## Head"
      ],
      "metadata": {
        "id": "XNOMeZWUSRJb"
      }
    },
    {
      "cell_type": "code",
      "execution_count": null,
      "metadata": {
        "id": "hK4J0Wz2srUH"
      },
      "outputs": [],
      "source": [
        "# объединяем выходы трех нейросетей\n",
        "combinedInput = L.concatenate(\n",
        "    [image_model_output, model_mlp.output, model_nlp.output])\n",
        "\n",
        "# being our regression head\n",
        "head = L.Dense(4096, activation=\"linear\")(combinedInput)\n",
        "head = L.Dense(1,)(head)\n",
        "# Соберем наши части в одну модель\n",
        "model_3mi = M.Model(inputs=[image_model.input,\n",
        "                      model_mlp.input, model_nlp.input], outputs=head)\n"
      ]
    },
    {
      "cell_type": "markdown",
      "source": [
        "## Summary"
      ],
      "metadata": {
        "id": "WeqhlscNcf64"
      }
    },
    {
      "cell_type": "code",
      "source": [
        "model_3mi.summary()"
      ],
      "metadata": {
        "id": "4WVOJNUWcfTk"
      },
      "execution_count": null,
      "outputs": []
    },
    {
      "cell_type": "code",
      "source": [
        "# raise KeyboardInterrupt"
      ],
      "metadata": {
        "id": "rsoUckanEnR3"
      },
      "execution_count": null,
      "outputs": []
    },
    {
      "cell_type": "code",
      "execution_count": null,
      "metadata": {
        "id": "EcaxS5yasrUI"
      },
      "outputs": [],
      "source": [
        "LR = 0.0001\n",
        "\n",
        "model_3mi.compile(loss='MAPE', optimizer=optimizers.Adam(learning_rate=LR),\n",
        "                   metrics=['MAPE'])"
      ]
    },
    {
      "cell_type": "code",
      "source": [
        "file_name = 'model_3mi'"
      ],
      "metadata": {
        "id": "d5tyBzwsR16p"
      },
      "execution_count": null,
      "outputs": []
    },
    {
      "cell_type": "markdown",
      "source": [
        "## Коллбеки"
      ],
      "metadata": {
        "id": "JNGa4rHpH3mv"
      }
    },
    {
      "cell_type": "code",
      "execution_count": null,
      "metadata": {
        "id": "CvCLj1yasrUI"
      },
      "outputs": [],
      "source": [
        "if is_colab:\n",
        "    path = SAVE_PATH\n",
        "else:\n",
        "    path = WORK_PATH\n",
        "                                                 \n",
        "cb_checkpoint = ModelCheckpoint(os.path.join(path, \n",
        "                                                 file_name+'_best.hdf5'), \n",
        "                                    monitor = ['val_MAPE'], \n",
        "                                    verbose = 0, mode = 'min')\n",
        "\n",
        "cb_earlystop = EarlyStopping(monitor='val_MAPE', patience=30, verbose=1, \n",
        "                             mode='min',\n",
        "                             restore_best_weights=True)\n",
        "# cb_schedul = LearningRateScheduler(scheduler, verbose=1)\n",
        "\n",
        "cb_schedul = ReduceLROnPlateau(monitor='val_MAPE',\n",
        "                                 factor=tf.math.exp(-0.1),  # new_lr = lp*factor\n",
        "                                 patience=1,  # эпох без изменений\n",
        "                                 min_lr=0.000000001,\n",
        "                                 verbose=1,  # выводить сообщения\n",
        "                                 mode='max')  # способ отслеживания метрики\n",
        "\n",
        "callbacks_list = [cb_checkpoint, cb_earlystop, cb_schedul]"
      ]
    },
    {
      "cell_type": "markdown",
      "metadata": {
        "id": "XzX7z-LcsrUI"
      },
      "source": [
        "## Обучение"
      ]
    },
    {
      "cell_type": "code",
      "source": [
        "BATCH_SIZE = 12"
      ],
      "metadata": {
        "id": "ReuPUWQ5mQEk"
      },
      "execution_count": null,
      "outputs": []
    },
    {
      "cell_type": "code",
      "execution_count": null,
      "metadata": {
        "id": "019KGLxjsrUJ"
      },
      "outputs": [],
      "source": [
        "history = model_3mi.fit(train_dataset.batch(BATCH_SIZE),\n",
        "                    epochs=1000,\n",
        "                    validation_data=test_dataset.batch(BATCH_SIZE),\n",
        "                    callbacks=callbacks_list\n",
        "                    )"
      ]
    },
    {
      "cell_type": "markdown",
      "metadata": {
        "id": "L85wgWBlsrUJ"
      },
      "source": [
        "## График"
      ]
    },
    {
      "cell_type": "code",
      "execution_count": null,
      "metadata": {
        "id": "WTYM7LOWsrUK"
      },
      "outputs": [],
      "source": [
        "plot_history(history)"
      ]
    },
    {
      "cell_type": "code",
      "execution_count": null,
      "metadata": {
        "id": "-4v66lfYsrUM"
      },
      "outputs": [],
      "source": [
        "model_3mi = make_save(model_3mi, file_name)"
      ]
    },
    {
      "cell_type": "markdown",
      "metadata": {
        "id": "e3VyXmE5srUM"
      },
      "source": [
        "## Валидация"
      ]
    },
    {
      "cell_type": "code",
      "execution_count": null,
      "metadata": {
        "id": "cR3xACzYsrUM"
      },
      "outputs": [],
      "source": [
        "test_predict_3mi = np.round(model_3mi.predict(test_dataset.batch(BATCH_SIZE)))\n",
        "print(f\"TEST mape: {(mape(y_test, test_predict_3mi[:,0]))*100:0.2f}%\")"
      ]
    },
    {
      "cell_type": "markdown",
      "source": [
        "Сохраним предсказание для финального этапа."
      ],
      "metadata": {
        "id": "C6-2SXcAqIIj"
      }
    },
    {
      "cell_type": "code",
      "source": [
        "pd.DataFrame(test_predict_3mi).to_csv(os.path.join(path, 'test_predict_3mi.csv'), \n",
        "                                      index=False)"
      ],
      "metadata": {
        "id": "YbEvGZphqOxg"
      },
      "execution_count": null,
      "outputs": []
    },
    {
      "cell_type": "markdown",
      "source": [
        "## Submission"
      ],
      "metadata": {
        "id": "FR458LGJTh2W"
      }
    },
    {
      "cell_type": "code",
      "execution_count": null,
      "metadata": {
        "id": "i3YLEk3TsrUM"
      },
      "outputs": [],
      "source": [
        "# sub_predict_nn3 = model_3mi.predict(sub_dataset.batch(30))\n",
        "# sample_submission['price'] = sub_predict_nn3[:, 0]\n",
        "# sample_submission.to_csv('nn3_submission.csv', index=False)\n",
        "\n",
        "sample_submission = make_sub(model_3mi, sample_submission, \n",
        "                             sub_dataset.batch(BATCH_SIZE), \n",
        "                             '3mi_submission.csv')"
      ]
    },
    {
      "cell_type": "code",
      "source": [
        "raise KeyboardInterrupt"
      ],
      "metadata": {
        "id": "Uu1XnvlQUuVo"
      },
      "execution_count": null,
      "outputs": []
    },
    {
      "cell_type": "markdown",
      "metadata": {
        "id": "O1kSdFZCsrUO"
      },
      "source": [
        "# Ансамблирование"
      ]
    },
    {
      "cell_type": "markdown",
      "metadata": {
        "id": "oiXonnzrsrUO"
      },
      "source": [
        "В качестве конечного результата используем комбинацию из результатов предсказаний некоторых предыдущих моделей:\n",
        "1. CatBoostRegressor\n",
        "2. Табличная нейронная сеть\n",
        "3. NLP+MLP+EffNetB6 Multi Input NN"
      ]
    },
    {
      "cell_type": "markdown",
      "source": [
        "## Загрузим модели\n"
      ],
      "metadata": {
        "id": "ISdTXeDJmd7p"
      }
    },
    {
      "cell_type": "code",
      "source": [
        "# загрузить модели\n",
        "model_catboost = CatBoostClassifier().load_model(os.path.join(path, \n",
        "                                                              'cat_boost_final'))\n",
        "model_simple_dnn = keras.models.load_model(os.path.join(SAVE_PATH, \n",
        "                                                       'simple_dnn_final.hdf5'))\n",
        "model_2mi = keras.models.load_model(os.path.join(SAVE_PATH, \n",
        "                                                       'model_2mi_final.hdf5'))\n",
        "model_3mi = keras.models.load_model(os.path.join(SAVE_PATH, \n",
        "                                                       'model_3mi_final.hdf5'))"
      ],
      "metadata": {
        "id": "CxnxlngXgQcz"
      },
      "execution_count": null,
      "outputs": []
    },
    {
      "cell_type": "code",
      "source": [
        "# сделть предсказания\n",
        "test_catboost_predictions = np.round(np.exp(cat_boost_model.predict(X_test)))\n",
        "test_predict_3mi = np.round(model_3mi.predict(test_dataset.batch(BATCH_SIZE)))\n",
        "test_predict_2mi = \n",
        "test_predict_simple_dnn = "
      ],
      "metadata": {
        "id": "deQ6uyLzu0nZ"
      },
      "execution_count": null,
      "outputs": []
    },
    {
      "cell_type": "code",
      "source": [
        "# ансамблировать рпедсказания\n",
        "test_ensemble_predict = 0.25*test_catboost_predictions \\\n",
        "                      + 0.25*test_predict_3mi \\\n",
        "                      + 0.25*test_predict_2mi \\\n",
        "                      + 0.25*test_predict_simple_dnn\n",
        "\n",
        "test_ensemble_predict = np.round(test_ensemble_predict.argmax(axis=1))\n",
        "print(f\"TEST mape: {(mape(y_test, test_ensemble_predict))*100:0.2f}%\")"
      ],
      "metadata": {
        "id": "1mGp99zAgvCG"
      },
      "execution_count": null,
      "outputs": []
    },
    {
      "cell_type": "markdown",
      "metadata": {
        "id": "CBZsJ2jdsrUP"
      },
      "source": [
        "Мы добились самой хорошей метрики, которая у нас была! На этом этапе сделаем финальный сабмит:"
      ]
    },
    {
      "cell_type": "code",
      "source": [
        "# загрузить ранее сделанные сабмишны\n",
        "catboost_predictions = \n",
        "predict_3mi = \n",
        "predict_2mi = \n",
        "predict_simple_dnn = "
      ],
      "metadata": {
        "id": "-dOQ-M9DUo1C"
      },
      "execution_count": null,
      "outputs": []
    },
    {
      "cell_type": "code",
      "execution_count": null,
      "metadata": {
        "id": "teksCPudsrUP"
      },
      "outputs": [],
      "source": [
        "final_prediction = 0.25*catboost_predictions \\\n",
        "                 + 0.25*predict_3mi \\\n",
        "                 + 0.25*predict_2mi \\\n",
        "                 + 0.25*predict_simple_dnn\n",
        "\n",
        "final_prediction = final_prediction.argmax(axis=1)\n",
        "\n",
        "sample_submission = make_sub(model, sample_submission, \n",
        "                             ensemble_predict, \n",
        "                             '3mi_submission.csv')"
      ]
    },
    {
      "cell_type": "markdown",
      "metadata": {
        "id": "ZU5LwC6QsrUP"
      },
      "source": [
        "# 9. Выводы"
      ]
    },
    {
      "cell_type": "markdown",
      "metadata": {
        "id": "P-UefFvJsrUP"
      },
      "source": [
        "Как и в предыдущих проектах, скажу - я не уверен, что все параметры и архитектуры сетей подобраны лучшим образом, но результат получился хороший. Была проведена предварительная обработка данных, выделены новые фичи, которые использовались при обучении модели. Здесь хочется отметить, что лучшим решением было бы найти фичу, которая еще сильнее погасила бы взаимную корреляцию между столбцами model_time и productionDate. Я думаю, это бы привело к улучшению метрики.\n",
        "\n",
        "Были исследованы различные способы обработки текста для RNN NLP. Здесь, возможно, стоило бы избавиться от используемых в тексте emoji, либо же применить, например, BERT. Насколько я успел прочитать, он очень хорошо справляется с поставленными задачами. Плюс На основе BERT можно создать модель, которая будет работать вместо нашей RNN NLP.\n",
        "\n",
        "С табличными данными примерно та же история, вместо стандартной сборки модели можно использовать сеть TabNet. Насколько я изучил материал по ней, в большинстве задач она показывает себя очень хорошо при работе с табличными данными.\n",
        "\n",
        "Для обработки изображений - есть множество вариантов - от изменения настроек и способа аугментации до изменения обучаемой нами модели. Для достоверности - лучше выбирать модель в соответствии с современными решениями, но не забывать про ограничение на используемой платформе.\n",
        "\n",
        "Проект получился очень интересный, я узнал много различных вещей, которые могут помочь мне в дальнейшем. Также сформировал несколько вопросов, на которые бы очень хотелось получить ответ.\n",
        "\n",
        "По результатам выполнения  проекта были получены следующие метрики MAPE:\n",
        "1. CatBoostRegressor - 11.87%\n",
        "2. Smiple Dense NN - 11.36%\n",
        "3. MLP + RNN NLP  - 11.38%\n",
        "4. MLP + NLP + EffNetB6 - 11.27%\n",
        "5. Blending(1+2+4) - 10.87%"
      ]
    },
    {
      "cell_type": "code",
      "execution_count": null,
      "metadata": {
        "id": "0ZOFHES9srUQ"
      },
      "outputs": [],
      "source": [
        ""
      ]
    },
    {
      "cell_type": "code",
      "execution_count": null,
      "metadata": {
        "id": "j5WFmpExsrUQ"
      },
      "outputs": [],
      "source": [
        ""
      ]
    },
    {
      "cell_type": "code",
      "execution_count": null,
      "metadata": {
        "id": "f5LdnXIqsrUQ"
      },
      "outputs": [],
      "source": [
        ""
      ]
    }
  ],
  "metadata": {
    "colab": {
      "collapsed_sections": [],
      "name": "module-8-skikevch-car-price-prediction-part2.ipynb",
      "provenance": [],
      "toc_visible": true
    },
    "kernelspec": {
      "display_name": "Python 3",
      "language": "python",
      "name": "python3"
    },
    "language_info": {
      "codemirror_mode": {
        "name": "ipython",
        "version": 3
      },
      "file_extension": ".py",
      "mimetype": "text/x-python",
      "name": "python",
      "nbconvert_exporter": "python",
      "pygments_lexer": "ipython3",
      "version": "3.7.6"
    },
    "gpuClass": "standard"
  },
  "nbformat": 4,
  "nbformat_minor": 0
}