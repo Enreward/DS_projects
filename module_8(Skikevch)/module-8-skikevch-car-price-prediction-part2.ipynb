{
  "metadata": {
    "kernelspec": {
      "language": "python",
      "display_name": "Python 3",
      "name": "python3"
    },
    "language_info": {
      "name": "python",
      "version": "3.7.6",
      "mimetype": "text/x-python",
      "codemirror_mode": {
        "name": "ipython",
        "version": 3
      },
      "pygments_lexer": "ipython3",
      "nbconvert_exporter": "python",
      "file_extension": ".py"
    },
    "colab": {
      "name": "module-8-skikevch-car-price-prediction-part2.ipynb",
      "provenance": [],
      "collapsed_sections": [],
      "toc_visible": true
    }
  },
  "nbformat_minor": 0,
  "nbformat": 4,
  "cells": [
    {
      "cell_type": "markdown",
      "source": [
        "# Прогнозирование стоимости автомобиля по характеристикам\n",
        "Цель:  \n",
        "Разработать Multi-input модель для предсказания стоимости автомобиля по различным данным - табличным, текстовым и графическим.\n",
        "\n",
        "Задачи:  \n"
      ],
      "metadata": {
        "id": "M_5Mtw8gsrRE"
      }
    },
    {
      "cell_type": "markdown",
      "source": [
        "## Этапы проекта:\n",
        "* Построение \"наивной\"/baseline модели, предсказывающей цену по модели и году выпуска (с ней будем сравнивать другие модели)\n",
        "* EDA и Feature-Engeneering\n",
        "* В рамках исследования будет создана модель на основе градиентного бустинга с использованием CatBoost\n",
        "* Исследование табличной нейронной сети\n",
        "* Комбинирование табличной нейронной сети и NLP в одну multi-input сеть с дальнейшей проверкой метрики\n",
        "* Исследование нейронной сети для обработки изображений и добавление ее в multi-input сеть\n",
        "* Ансамблирование градиентного бустинга и нейронной сети (усреднение их предсказаний)"
      ],
      "metadata": {
        "id": "Rv8EzkJIsrRV"
      }
    },
    {
      "cell_type": "markdown",
      "source": [
        "# 0. Установка и загрузка библиотек"
      ],
      "metadata": {
        "id": "vy0Eu4_EsrRb"
      }
    },
    {
      "cell_type": "code",
      "source": [
        "!pip install --upgrade pip"
      ],
      "metadata": {
        "execution": {
          "iopub.status.busy": "2022-05-16T10:07:26.397876Z",
          "iopub.execute_input": "2022-05-16T10:07:26.398296Z",
          "iopub.status.idle": "2022-05-16T10:07:37.424768Z",
          "shell.execute_reply.started": "2022-05-16T10:07:26.398255Z",
          "shell.execute_reply": "2022-05-16T10:07:37.423669Z"
        },
        "trusted": true,
        "colab": {
          "base_uri": "https://localhost:8080/"
        },
        "id": "Q2rDkbZGsrRc",
        "outputId": "5bb8e720-dc96-435b-cb2d-aba6ff57a9f3"
      },
      "execution_count": 32,
      "outputs": [
        {
          "output_type": "stream",
          "name": "stdout",
          "text": [
            "Requirement already satisfied: pip in /usr/local/lib/python3.7/dist-packages (22.1)\n",
            "\u001b[33mWARNING: Running pip as the 'root' user can result in broken permissions and conflicting behaviour with the system package manager. It is recommended to use a virtual environment instead: https://pip.pypa.io/warnings/venv\u001b[0m\u001b[33m\n",
            "\u001b[0m"
          ]
        }
      ]
    },
    {
      "cell_type": "code",
      "source": [
        "!pip install -q tensorflow==2.3"
      ],
      "metadata": {
        "_kg_hide-input": true,
        "execution": {
          "iopub.status.busy": "2022-05-16T10:07:37.428516Z",
          "iopub.execute_input": "2022-05-16T10:07:37.428995Z",
          "iopub.status.idle": "2022-05-16T10:07:45.297988Z",
          "shell.execute_reply.started": "2022-05-16T10:07:37.428954Z",
          "shell.execute_reply": "2022-05-16T10:07:45.296837Z"
        },
        "trusted": true,
        "colab": {
          "base_uri": "https://localhost:8080/"
        },
        "id": "WLlUY3gAsrRk",
        "outputId": "df21032f-7c77-4e47-ca26-5c78ed3e4b85"
      },
      "execution_count": 33,
      "outputs": [
        {
          "output_type": "stream",
          "name": "stdout",
          "text": [
            "\u001b[33mWARNING: Running pip as the 'root' user can result in broken permissions and conflicting behaviour with the system package manager. It is recommended to use a virtual environment instead: https://pip.pypa.io/warnings/venv\u001b[0m\u001b[33m\n",
            "\u001b[0m"
          ]
        }
      ]
    },
    {
      "cell_type": "code",
      "source": [
        "# аугментации изображений\n",
        "!pip install albumentations -q"
      ],
      "metadata": {
        "_kg_hide-input": true,
        "execution": {
          "iopub.status.busy": "2022-05-16T10:07:45.300012Z",
          "iopub.execute_input": "2022-05-16T10:07:45.300403Z",
          "iopub.status.idle": "2022-05-16T10:07:52.860051Z",
          "shell.execute_reply.started": "2022-05-16T10:07:45.300366Z",
          "shell.execute_reply": "2022-05-16T10:07:52.859044Z"
        },
        "trusted": true,
        "colab": {
          "base_uri": "https://localhost:8080/"
        },
        "id": "kbbOnx05srRl",
        "outputId": "e35cde4c-9108-412c-bf89-0515c38dee63"
      },
      "execution_count": 34,
      "outputs": [
        {
          "output_type": "stream",
          "name": "stdout",
          "text": [
            "\u001b[33mWARNING: Running pip as the 'root' user can result in broken permissions and conflicting behaviour with the system package manager. It is recommended to use a virtual environment instead: https://pip.pypa.io/warnings/venv\u001b[0m\u001b[33m\n",
            "\u001b[0m"
          ]
        }
      ]
    },
    {
      "cell_type": "code",
      "source": [
        "!pip install pymorphy2\n",
        "!pip install pymorphy2-dicts"
      ],
      "metadata": {
        "execution": {
          "iopub.status.busy": "2022-05-16T10:07:52.863813Z",
          "iopub.execute_input": "2022-05-16T10:07:52.864359Z",
          "iopub.status.idle": "2022-05-16T10:08:08.016409Z",
          "shell.execute_reply.started": "2022-05-16T10:07:52.864299Z",
          "shell.execute_reply": "2022-05-16T10:08:08.015323Z"
        },
        "trusted": true,
        "colab": {
          "base_uri": "https://localhost:8080/"
        },
        "id": "s975UpWlsrRv",
        "outputId": "a1e7fc79-2120-492b-f79b-20a4a1e650de"
      },
      "execution_count": 35,
      "outputs": [
        {
          "output_type": "stream",
          "name": "stdout",
          "text": [
            "Requirement already satisfied: pymorphy2 in /usr/local/lib/python3.7/dist-packages (0.9.1)\n",
            "Requirement already satisfied: dawg-python>=0.7.1 in /usr/local/lib/python3.7/dist-packages (from pymorphy2) (0.7.2)\n",
            "Requirement already satisfied: docopt>=0.6 in /usr/local/lib/python3.7/dist-packages (from pymorphy2) (0.6.2)\n",
            "Requirement already satisfied: pymorphy2-dicts-ru<3.0,>=2.4 in /usr/local/lib/python3.7/dist-packages (from pymorphy2) (2.4.417127.4579844)\n",
            "\u001b[33mWARNING: Running pip as the 'root' user can result in broken permissions and conflicting behaviour with the system package manager. It is recommended to use a virtual environment instead: https://pip.pypa.io/warnings/venv\u001b[0m\u001b[33m\n",
            "\u001b[0mRequirement already satisfied: pymorphy2-dicts in /usr/local/lib/python3.7/dist-packages (2.4.393442.3710985)\n",
            "\u001b[33mWARNING: Running pip as the 'root' user can result in broken permissions and conflicting behaviour with the system package manager. It is recommended to use a virtual environment instead: https://pip.pypa.io/warnings/venv\u001b[0m\u001b[33m\n",
            "\u001b[0m"
          ]
        }
      ]
    },
    {
      "cell_type": "code",
      "source": [
        "!pip install catboost"
      ],
      "metadata": {
        "colab": {
          "base_uri": "https://localhost:8080/"
        },
        "id": "3IJxMSrL1jNg",
        "outputId": "ece150c1-0dc5-4253-f69e-d6e8d4cc6ec7"
      },
      "execution_count": 36,
      "outputs": [
        {
          "output_type": "stream",
          "name": "stdout",
          "text": [
            "Requirement already satisfied: catboost in /usr/local/lib/python3.7/dist-packages (1.0.5)\n",
            "Requirement already satisfied: six in /usr/local/lib/python3.7/dist-packages (from catboost) (1.15.0)\n",
            "Requirement already satisfied: graphviz in /usr/local/lib/python3.7/dist-packages (from catboost) (0.10.1)\n",
            "Requirement already satisfied: matplotlib in /usr/local/lib/python3.7/dist-packages (from catboost) (3.2.2)\n",
            "Requirement already satisfied: pandas>=0.24.0 in /usr/local/lib/python3.7/dist-packages (from catboost) (1.3.5)\n",
            "Requirement already satisfied: scipy in /usr/local/lib/python3.7/dist-packages (from catboost) (1.4.1)\n",
            "Requirement already satisfied: numpy>=1.16.0 in /usr/local/lib/python3.7/dist-packages (from catboost) (1.18.5)\n",
            "Requirement already satisfied: plotly in /usr/local/lib/python3.7/dist-packages (from catboost) (5.5.0)\n",
            "Requirement already satisfied: python-dateutil>=2.7.3 in /usr/local/lib/python3.7/dist-packages (from pandas>=0.24.0->catboost) (2.8.2)\n",
            "Requirement already satisfied: pytz>=2017.3 in /usr/local/lib/python3.7/dist-packages (from pandas>=0.24.0->catboost) (2022.1)\n",
            "Requirement already satisfied: cycler>=0.10 in /usr/local/lib/python3.7/dist-packages (from matplotlib->catboost) (0.11.0)\n",
            "Requirement already satisfied: pyparsing!=2.0.4,!=2.1.2,!=2.1.6,>=2.0.1 in /usr/local/lib/python3.7/dist-packages (from matplotlib->catboost) (3.0.8)\n",
            "Requirement already satisfied: kiwisolver>=1.0.1 in /usr/local/lib/python3.7/dist-packages (from matplotlib->catboost) (1.4.2)\n",
            "Requirement already satisfied: tenacity>=6.2.0 in /usr/local/lib/python3.7/dist-packages (from plotly->catboost) (8.0.1)\n",
            "Requirement already satisfied: typing-extensions in /usr/local/lib/python3.7/dist-packages (from kiwisolver>=1.0.1->matplotlib->catboost) (4.2.0)\n",
            "\u001b[33mWARNING: Running pip as the 'root' user can result in broken permissions and conflicting behaviour with the system package manager. It is recommended to use a virtual environment instead: https://pip.pypa.io/warnings/venv\u001b[0m\u001b[33m\n",
            "\u001b[0m"
          ]
        }
      ]
    },
    {
      "cell_type": "code",
      "source": [
        "import os\n",
        "import re\n",
        "import cv2 \n",
        "import sys\n",
        "import csv\n",
        "import PIL\n",
        "import random\n",
        "import pickle\n",
        "import zipfile\n",
        "import pymorphy2\n",
        "import numpy as np\n",
        "import pandas as pd\n",
        "import seaborn as sns\n",
        "import matplotlib.pyplot as plt\n",
        "\n",
        "from datetime import datetime\n",
        "from nltk.corpus import stopwords\n",
        "from catboost import CatBoostRegressor\n",
        "from sklearn.preprocessing import MinMaxScaler\n",
        "from sklearn.preprocessing import RobustScaler\n",
        "from sklearn.preprocessing import StandardScaler\n",
        "from sklearn.model_selection import train_test_split\n",
        "from sklearn.metrics import accuracy_score\n",
        "\n",
        "# keras\n",
        "import tensorflow as tf\n",
        "import tensorflow.keras as keras\n",
        "import tensorflow.keras.models as M\n",
        "import tensorflow.keras.layers as L\n",
        "import tensorflow.keras.backend as K\n",
        "import tensorflow.keras.callbacks as C\n",
        "from tensorflow.keras import regularizers\n",
        "from tensorflow.keras import optimizers\n",
        "from tensorflow.keras.models import Model, Sequential\n",
        "\n",
        "from tensorflow.keras.preprocessing import image\n",
        "from tensorflow.keras.preprocessing.image import ImageDataGenerator\n",
        "from tensorflow.keras.preprocessing.text import Tokenizer\n",
        "from tensorflow.keras.preprocessing import sequence\n",
        "\n",
        "from tensorflow.keras.callbacks import (\n",
        "    Callback, \n",
        "    ModelCheckpoint, \n",
        "    EarlyStopping,\n",
        "    ReduceLROnPlateau,\n",
        "    LearningRateScheduler, \n",
        ")\n",
        "from tensorflow.keras.optimizers.schedules import *\n",
        "import albumentations as a\n",
        "\n",
        "import PIL\n",
        "from PIL import ImageOps, ImageFilter\n",
        "\n",
        "# plt\n",
        "import matplotlib.pyplot as plt\n",
        "# увеличим дефолтный размер графиков\n",
        "from pylab import rcParams\n",
        "rcParams['figure.figsize'] = 10, 5\n",
        "# графики в svg выглядят более четкими\n",
        "%config InlineBackend.figure_format = 'svg'\n",
        "%matplotlib inline\n",
        "\n",
        "#pandas\n",
        "pd.set_option('display.max_columns', None)\n",
        "pd.set_option('display.max_rows', 30)"
      ],
      "metadata": {
        "_cell_guid": "b1076dfc-b9ad-4769-8c92-a6c4dae69d19",
        "_kg_hide-input": true,
        "_uuid": "8f2839f25d086af736a60e9eeb907d3b93b6e0e5",
        "execution": {
          "iopub.status.busy": "2022-05-16T10:08:08.020301Z",
          "iopub.execute_input": "2022-05-16T10:08:08.020823Z",
          "iopub.status.idle": "2022-05-16T10:08:08.070061Z",
          "shell.execute_reply.started": "2022-05-16T10:08:08.020779Z",
          "shell.execute_reply": "2022-05-16T10:08:08.068662Z"
        },
        "trusted": true,
        "id": "F5byfXjnsrRy"
      },
      "execution_count": 68,
      "outputs": []
    },
    {
      "cell_type": "markdown",
      "source": [
        "Посмотрим версии используемых библиотек"
      ],
      "metadata": {
        "id": "MXzBG-MZsrR1"
      }
    },
    {
      "cell_type": "code",
      "source": [
        "print('Python       :', sys.version.split('\\n')[0])\n",
        "print('Numpy        :', np.__version__)\n",
        "print('Tensorflow   :', tf.__version__)"
      ],
      "metadata": {
        "_kg_hide-input": true,
        "execution": {
          "iopub.status.busy": "2022-05-16T10:08:08.071421Z",
          "iopub.execute_input": "2022-05-16T10:08:08.071767Z",
          "iopub.status.idle": "2022-05-16T10:08:08.108170Z",
          "shell.execute_reply.started": "2022-05-16T10:08:08.071735Z",
          "shell.execute_reply": "2022-05-16T10:08:08.107193Z"
        },
        "trusted": true,
        "colab": {
          "base_uri": "https://localhost:8080/"
        },
        "id": "9Yus0AUXsrR3",
        "outputId": "7c7f9932-1b96-476a-8023-aaaad47cbc5f"
      },
      "execution_count": 38,
      "outputs": [
        {
          "output_type": "stream",
          "name": "stdout",
          "text": [
            "Python       : 3.7.13 (default, Apr 24 2022, 01:04:09) \n",
            "Numpy        : 1.21.6\n",
            "Tensorflow   : 2.3.0\n"
          ]
        }
      ]
    },
    {
      "cell_type": "markdown",
      "source": [
        "Зафиксируем версию пакетов:"
      ],
      "metadata": {
        "id": "VpXovwb3srR9"
      }
    },
    {
      "cell_type": "code",
      "source": [
        "!pip freeze > requirements.txt"
      ],
      "metadata": {
        "_kg_hide-input": true,
        "execution": {
          "iopub.status.busy": "2022-05-16T10:08:08.135915Z",
          "iopub.execute_input": "2022-05-16T10:08:08.136517Z",
          "iopub.status.idle": "2022-05-16T10:08:12.128480Z",
          "shell.execute_reply.started": "2022-05-16T10:08:08.136480Z",
          "shell.execute_reply": "2022-05-16T10:08:12.127001Z"
        },
        "trusted": true,
        "id": "tY5gY2q-srR-"
      },
      "execution_count": 39,
      "outputs": []
    },
    {
      "cell_type": "markdown",
      "source": [
        "Теперь установим random seed:"
      ],
      "metadata": {
        "id": "YtH_UyjTsrR6"
      }
    },
    {
      "cell_type": "code",
      "source": [
        "RANDOM_SEED = 13\n",
        "np.random.seed(RANDOM_SEED)"
      ],
      "metadata": {
        "_kg_hide-input": true,
        "execution": {
          "iopub.status.busy": "2022-05-16T10:08:08.121404Z",
          "iopub.execute_input": "2022-05-16T10:08:08.122022Z",
          "iopub.status.idle": "2022-05-16T10:08:08.134338Z",
          "shell.execute_reply.started": "2022-05-16T10:08:08.121975Z",
          "shell.execute_reply": "2022-05-16T10:08:08.133435Z"
        },
        "trusted": true,
        "id": "55i5V2FbsrR8"
      },
      "execution_count": 40,
      "outputs": []
    },
    {
      "cell_type": "markdown",
      "source": [
        "Вспомогательный флаг для удобства использования на раных платформах"
      ],
      "metadata": {
        "id": "NOm2J2uOu_1R"
      }
    },
    {
      "cell_type": "code",
      "source": [
        "# True - для Google Colab\n",
        "# False - для Kaggle\n",
        "is_colab = True"
      ],
      "metadata": {
        "id": "rSIyrt3yu5cS"
      },
      "execution_count": 41,
      "outputs": []
    },
    {
      "cell_type": "markdown",
      "source": [
        "Пропишем функцию для вычисления метрики MAPE"
      ],
      "metadata": {
        "id": "udUxC_UGsrR4"
      }
    },
    {
      "cell_type": "code",
      "source": [
        "def mape(y_test, y_pred):\n",
        "    return np.mean(np.abs((y_pred-y_test)/y_test))"
      ],
      "metadata": {
        "_kg_hide-input": true,
        "execution": {
          "iopub.status.busy": "2022-05-16T10:08:08.109709Z",
          "iopub.execute_input": "2022-05-16T10:08:08.110467Z",
          "iopub.status.idle": "2022-05-16T10:08:08.119923Z",
          "shell.execute_reply.started": "2022-05-16T10:08:08.110416Z",
          "shell.execute_reply": "2022-05-16T10:08:08.119096Z"
        },
        "trusted": true,
        "id": "lKCXVjP8srR4"
      },
      "execution_count": 42,
      "outputs": []
    },
    {
      "cell_type": "markdown",
      "source": [
        "# 1. DATA"
      ],
      "metadata": {
        "id": "pb_6BOkzsrSB"
      }
    },
    {
      "cell_type": "markdown",
      "source": [
        "Пути к данным и рабочим папкам"
      ],
      "metadata": {
        "id": "U9nvMrSvuK8o"
      }
    },
    {
      "cell_type": "code",
      "source": [
        "if is_colab:\n",
        "    from google.colab import drive\n",
        "    drive.mount('/content/drive')\n",
        "\n",
        "if is_colab:\n",
        "    # Colab\n",
        "    DATA_PATH = os.path.abspath('/content/drive/MyDrive/Colab Notebooks'\n",
        "                                '/project_8/input'\n",
        "                                '/sf-dst-car-price-prediction-part2/')\n",
        "    SAVE_PATH = os.path.abspath('/content/drive/MyDrive/Colab Notebooks'\n",
        "                                '/project_8/saves_models')\n",
        "    WORK_PATH = os.path.join(os.getcwd(), 'working')\n",
        "else:\n",
        "    # Kaggle\n",
        "    DATA_PATH = os.path.abspath('../input/sf-dst-car-price-prediction-part2/')\n",
        "    SAVE_PATH = os.path.abspath('../input/saves-models')\n",
        "    WORK_PATH = os.path.abspath('./')"
      ],
      "metadata": {
        "colab": {
          "base_uri": "https://localhost:8080/"
        },
        "id": "YiE3cBVpuQ8e",
        "outputId": "d0d81611-70bd-4b2c-cb97-7c651ba1cde2"
      },
      "execution_count": 43,
      "outputs": [
        {
          "output_type": "stream",
          "name": "stdout",
          "text": [
            "Drive already mounted at /content/drive; to attempt to forcibly remount, call drive.mount(\"/content/drive\", force_remount=True).\n"
          ]
        }
      ]
    },
    {
      "cell_type": "markdown",
      "source": [
        "Загрузим наш обучающий и тестовый фреймы:"
      ],
      "metadata": {
        "id": "2IqMaUnvsrSB"
      }
    },
    {
      "cell_type": "code",
      "source": [
        "train = pd.read_csv(os.path.join(DATA_PATH,'train.csv'))\n",
        "test = pd.read_csv(os.path.join(DATA_PATH,'test.csv'))\n",
        "sample_submission = pd.read_csv(os.path.join(DATA_PATH,'sample_submission.csv'))"
      ],
      "metadata": {
        "_cell_guid": "79c7e3d0-c299-4dcb-8224-4455121ee9b0",
        "_uuid": "d629ff2d2480ee46fbb7e2d37f6b5fab8052498a",
        "execution": {
          "iopub.status.busy": "2022-05-16T10:08:49.742349Z",
          "iopub.execute_input": "2022-05-16T10:08:49.742793Z",
          "iopub.status.idle": "2022-05-16T10:08:50.403597Z",
          "shell.execute_reply.started": "2022-05-16T10:08:49.742761Z",
          "shell.execute_reply": "2022-05-16T10:08:50.402383Z"
        },
        "trusted": true,
        "id": "0N4dVHb6srSB"
      },
      "execution_count": 44,
      "outputs": []
    },
    {
      "cell_type": "markdown",
      "source": [
        "Проверим, что у нас находится в обучающем и тестовом фреймах"
      ],
      "metadata": {
        "id": "RnE25L_vsrSC"
      }
    },
    {
      "cell_type": "code",
      "source": [
        "train.info()"
      ],
      "metadata": {
        "execution": {
          "iopub.status.busy": "2022-05-16T10:08:54.332463Z",
          "iopub.execute_input": "2022-05-16T10:08:54.332838Z",
          "iopub.status.idle": "2022-05-16T10:08:54.368700Z",
          "shell.execute_reply.started": "2022-05-16T10:08:54.332807Z",
          "shell.execute_reply": "2022-05-16T10:08:54.367831Z"
        },
        "trusted": true,
        "colab": {
          "base_uri": "https://localhost:8080/"
        },
        "id": "_IcCxa9zsrSC",
        "outputId": "c1682691-3991-41e3-cda7-48b26025dc4b"
      },
      "execution_count": 45,
      "outputs": [
        {
          "output_type": "stream",
          "name": "stdout",
          "text": [
            "<class 'pandas.core.frame.DataFrame'>\n",
            "RangeIndex: 6682 entries, 0 to 6681\n",
            "Data columns (total 22 columns):\n",
            " #   Column                Non-Null Count  Dtype  \n",
            "---  ------                --------------  -----  \n",
            " 0   bodyType              6682 non-null   object \n",
            " 1   brand                 6682 non-null   object \n",
            " 2   color                 6682 non-null   object \n",
            " 3   description           6682 non-null   object \n",
            " 4   engineDisplacement    6682 non-null   object \n",
            " 5   enginePower           6682 non-null   object \n",
            " 6   fuelType              6682 non-null   object \n",
            " 7   mileage               6682 non-null   int64  \n",
            " 8   modelDate             6682 non-null   int64  \n",
            " 9   model_info            6682 non-null   object \n",
            " 10  name                  6682 non-null   object \n",
            " 11  numberOfDoors         6682 non-null   int64  \n",
            " 12  price                 6682 non-null   float64\n",
            " 13  productionDate        6682 non-null   int64  \n",
            " 14  sell_id               6682 non-null   int64  \n",
            " 15  vehicleConfiguration  6682 non-null   object \n",
            " 16  vehicleTransmission   6682 non-null   object \n",
            " 17  Владельцы             6681 non-null   object \n",
            " 18  Владение              2356 non-null   object \n",
            " 19  ПТС                   6682 non-null   object \n",
            " 20  Привод                6682 non-null   object \n",
            " 21  Руль                  6682 non-null   object \n",
            "dtypes: float64(1), int64(5), object(16)\n",
            "memory usage: 1.1+ MB\n"
          ]
        }
      ]
    },
    {
      "cell_type": "code",
      "source": [
        "train.nunique()"
      ],
      "metadata": {
        "execution": {
          "iopub.status.busy": "2022-05-16T10:09:05.040781Z",
          "iopub.execute_input": "2022-05-16T10:09:05.041400Z",
          "iopub.status.idle": "2022-05-16T10:09:05.123049Z",
          "shell.execute_reply.started": "2022-05-16T10:09:05.041349Z",
          "shell.execute_reply": "2022-05-16T10:09:05.121995Z"
        },
        "trusted": true,
        "colab": {
          "base_uri": "https://localhost:8080/"
        },
        "id": "CUERUUA0srSD",
        "outputId": "bbccce89-20ad-4dce-e423-06020de9fd3e"
      },
      "execution_count": 46,
      "outputs": [
        {
          "output_type": "execute_result",
          "data": {
            "text/plain": [
              "bodyType                  17\n",
              "brand                      3\n",
              "color                     16\n",
              "description             6147\n",
              "engineDisplacement        48\n",
              "enginePower              146\n",
              "fuelType                   4\n",
              "mileage                 2900\n",
              "modelDate                 41\n",
              "model_info               118\n",
              "name                     900\n",
              "numberOfDoors              4\n",
              "price                   1628\n",
              "productionDate            38\n",
              "sell_id                 6682\n",
              "vehicleConfiguration     288\n",
              "vehicleTransmission        4\n",
              "Владельцы                  3\n",
              "Владение                 173\n",
              "ПТС                        2\n",
              "Привод                     3\n",
              "Руль                       2\n",
              "dtype: int64"
            ]
          },
          "metadata": {},
          "execution_count": 46
        }
      ]
    },
    {
      "cell_type": "code",
      "source": [
        "train.isna().sum()"
      ],
      "metadata": {
        "execution": {
          "iopub.status.busy": "2022-05-16T10:09:16.537691Z",
          "iopub.execute_input": "2022-05-16T10:09:16.538215Z",
          "iopub.status.idle": "2022-05-16T10:09:16.560276Z",
          "shell.execute_reply.started": "2022-05-16T10:09:16.538181Z",
          "shell.execute_reply": "2022-05-16T10:09:16.559176Z"
        },
        "trusted": true,
        "colab": {
          "base_uri": "https://localhost:8080/"
        },
        "id": "qsypjXlDsrSE",
        "outputId": "df110174-1c1f-4f0d-bc66-fc75e25e86b9"
      },
      "execution_count": 48,
      "outputs": [
        {
          "output_type": "execute_result",
          "data": {
            "text/plain": [
              "bodyType                   0\n",
              "brand                      0\n",
              "color                      0\n",
              "description                0\n",
              "engineDisplacement         0\n",
              "enginePower                0\n",
              "fuelType                   0\n",
              "mileage                    0\n",
              "modelDate                  0\n",
              "model_info                 0\n",
              "name                       0\n",
              "numberOfDoors              0\n",
              "price                      0\n",
              "productionDate             0\n",
              "sell_id                    0\n",
              "vehicleConfiguration       0\n",
              "vehicleTransmission        0\n",
              "Владельцы                  1\n",
              "Владение                4326\n",
              "ПТС                        0\n",
              "Привод                     0\n",
              "Руль                       0\n",
              "dtype: int64"
            ]
          },
          "metadata": {},
          "execution_count": 48
        }
      ]
    },
    {
      "cell_type": "markdown",
      "source": [
        "Мы видим, что присутствуют пропуски, которые в дальнейшем придется обработать каким-либо способом.  \n",
        "\n",
        "Проверим что находится в тестовом фрейме:"
      ],
      "metadata": {
        "id": "Noeggd08srSE"
      }
    },
    {
      "cell_type": "code",
      "source": [
        "test.info()"
      ],
      "metadata": {
        "execution": {
          "iopub.status.busy": "2022-05-16T10:03:45.821256Z",
          "iopub.status.idle": "2022-05-16T10:03:45.821840Z"
        },
        "trusted": true,
        "colab": {
          "base_uri": "https://localhost:8080/"
        },
        "id": "IE5V6HW1srSF",
        "outputId": "64a5b8dd-6af8-434d-8485-c9b53f9f8399"
      },
      "execution_count": 49,
      "outputs": [
        {
          "output_type": "stream",
          "name": "stdout",
          "text": [
            "<class 'pandas.core.frame.DataFrame'>\n",
            "RangeIndex: 1671 entries, 0 to 1670\n",
            "Data columns (total 21 columns):\n",
            " #   Column                Non-Null Count  Dtype \n",
            "---  ------                --------------  ----- \n",
            " 0   bodyType              1671 non-null   object\n",
            " 1   brand                 1671 non-null   object\n",
            " 2   color                 1671 non-null   object\n",
            " 3   description           1671 non-null   object\n",
            " 4   engineDisplacement    1671 non-null   object\n",
            " 5   enginePower           1671 non-null   object\n",
            " 6   fuelType              1671 non-null   object\n",
            " 7   mileage               1671 non-null   int64 \n",
            " 8   modelDate             1671 non-null   int64 \n",
            " 9   model_info            1671 non-null   object\n",
            " 10  name                  1671 non-null   object\n",
            " 11  numberOfDoors         1671 non-null   int64 \n",
            " 12  productionDate        1671 non-null   int64 \n",
            " 13  sell_id               1671 non-null   int64 \n",
            " 14  vehicleConfiguration  1671 non-null   object\n",
            " 15  vehicleTransmission   1671 non-null   object\n",
            " 16  Владельцы             1671 non-null   object\n",
            " 17  Владение              579 non-null    object\n",
            " 18  ПТС                   1671 non-null   object\n",
            " 19  Привод                1671 non-null   object\n",
            " 20  Руль                  1671 non-null   object\n",
            "dtypes: int64(5), object(16)\n",
            "memory usage: 274.3+ KB\n"
          ]
        }
      ]
    },
    {
      "cell_type": "code",
      "source": [
        "test.nunique()"
      ],
      "metadata": {
        "execution": {
          "iopub.status.busy": "2022-05-16T10:03:45.822761Z",
          "iopub.status.idle": "2022-05-16T10:03:45.823219Z"
        },
        "trusted": true,
        "colab": {
          "base_uri": "https://localhost:8080/"
        },
        "id": "OTOEfAB8srSF",
        "outputId": "3ddf8a9b-243e-4f2e-e465-a8f0159d5cb5"
      },
      "execution_count": 50,
      "outputs": [
        {
          "output_type": "execute_result",
          "data": {
            "text/plain": [
              "bodyType                  14\n",
              "brand                      3\n",
              "color                     15\n",
              "description             1540\n",
              "engineDisplacement        43\n",
              "enginePower              120\n",
              "fuelType                   4\n",
              "mileage                  935\n",
              "modelDate                 37\n",
              "model_info               101\n",
              "name                     536\n",
              "numberOfDoors              4\n",
              "productionDate            35\n",
              "sell_id                 1671\n",
              "vehicleConfiguration     205\n",
              "vehicleTransmission        4\n",
              "Владельцы                  3\n",
              "Владение                 131\n",
              "ПТС                        2\n",
              "Привод                     3\n",
              "Руль                       1\n",
              "dtype: int64"
            ]
          },
          "metadata": {},
          "execution_count": 50
        }
      ]
    },
    {
      "cell_type": "code",
      "source": [
        "test.isna().sum()"
      ],
      "metadata": {
        "execution": {
          "iopub.status.busy": "2022-05-16T10:03:45.824079Z",
          "iopub.status.idle": "2022-05-16T10:03:45.824519Z"
        },
        "trusted": true,
        "colab": {
          "base_uri": "https://localhost:8080/"
        },
        "id": "Wd6gGCsKsrSF",
        "outputId": "92b79b70-a232-4d42-ad89-f9ce80bc4046"
      },
      "execution_count": 51,
      "outputs": [
        {
          "output_type": "execute_result",
          "data": {
            "text/plain": [
              "bodyType                   0\n",
              "brand                      0\n",
              "color                      0\n",
              "description                0\n",
              "engineDisplacement         0\n",
              "enginePower                0\n",
              "fuelType                   0\n",
              "mileage                    0\n",
              "modelDate                  0\n",
              "model_info                 0\n",
              "name                       0\n",
              "numberOfDoors              0\n",
              "productionDate             0\n",
              "sell_id                    0\n",
              "vehicleConfiguration       0\n",
              "vehicleTransmission        0\n",
              "Владельцы                  0\n",
              "Владение                1092\n",
              "ПТС                        0\n",
              "Привод                     0\n",
              "Руль                       0\n",
              "dtype: int64"
            ]
          },
          "metadata": {},
          "execution_count": 51
        }
      ]
    },
    {
      "cell_type": "markdown",
      "source": [
        "Здесь пропуски имеются только в столбце \"владение\". В дальнейшем нужно будет обработать."
      ],
      "metadata": {
        "id": "Px8mMBDBsrSG"
      }
    },
    {
      "cell_type": "code",
      "source": [
        "train.sample(7)"
      ],
      "metadata": {
        "colab": {
          "base_uri": "https://localhost:8080/",
          "height": 888
        },
        "id": "ORlh9MK5A84J",
        "outputId": "a79f4da2-4427-47a2-8e02-6ac551a997c2"
      },
      "execution_count": 71,
      "outputs": [
        {
          "output_type": "execute_result",
          "data": {
            "text/plain": [
              "               bodyType     brand       color  \\\n",
              "3123  внедорожник 5 дв.      AUDI       белый   \n",
              "2721  внедорожник 5 дв.  MERCEDES      чёрный   \n",
              "6608  внедорожник 5 дв.  MERCEDES       белый   \n",
              "4795              седан       BMW      чёрный   \n",
              "2018      хэтчбек 5 дв.       BMW      чёрный   \n",
              "4003  внедорожник 5 дв.       BMW       серый   \n",
              "2122              седан       BMW  коричневый   \n",
              "\n",
              "                                            description engineDisplacement  \\\n",
              "3123  РОЛЬФ - Официальный дилер и Лучший дилер Росси...            2.0 LTR   \n",
              "2721  Новый авто!! В наличии! Максимальной комплекта...            4.0 LTR   \n",
              "6608  Машина G63 amg, указал этот двигатель потому ч...            5.5 LTR   \n",
              "4795  Сразу обозначу про хозяев: реально-2 владельца...            6.0 LTR   \n",
              "2018        Машина в хорошем состоянии. Торг у капота .            1.6 LTR   \n",
              "4003  Авто в хорошем состоянии без каких либо технич...            3.0 LTR   \n",
              "2122  Состояние автомобиля отличное. Не требует ника...            2.0 LTR   \n",
              "\n",
              "     enginePower fuelType  mileage  modelDate    model_info  \\\n",
              "3123     177 N12   дизель    93842       2012            Q5   \n",
              "2721     585 N12   бензин       17       2018  G_KLASSE_AMG   \n",
              "6608     388 N12   бензин    54000       2012      G_KLASSE   \n",
              "4795     445 N12   бензин   178000       2005           7ER   \n",
              "2018     115 N12   бензин   176000       2007           1ER   \n",
              "4003     235 N12   дизель   265000       2006            X5   \n",
              "2122     184 N12   бензин   127000       2009           5ER   \n",
              "\n",
              "                              name  numberOfDoors       price  productionDate  \\\n",
              "3123       2.0d AMT (177 л.с.) 4WD              5   1490000.0            2015   \n",
              "2721  63 AMG 4.0 AT (585 л.с.) 4WD              5  18700000.0            2020   \n",
              "6608     500 5.5 AT (388 л.с.) 4WD              5   5300000.0            2014   \n",
              "4795       760Li 6.0 AT (445 л.с.)              4    550000.0            2006   \n",
              "2018        116i 1.6 MT (115 л.с.)              5    385000.0            2007   \n",
              "4003   3.0d 3.0d AT (235 л.с.) 4WD              5    900000.0            2008   \n",
              "2122        520i 2.0 AT (184 л.с.)              4   1050000.0            2013   \n",
              "\n",
              "         sell_id              vehicleConfiguration vehicleTransmission  \\\n",
              "3123  1099387282         ALLROAD_5_DOORS ROBOT 2.0    роботизированная   \n",
              "2721  1099459954     ALLROAD_5_DOORS AUTOMATIC 4.0      автоматическая   \n",
              "6608  1100173698     ALLROAD_5_DOORS AUTOMATIC 5.5      автоматическая   \n",
              "4795  1086888385               SEDAN AUTOMATIC 6.0      автоматическая   \n",
              "2018  1090032154  HATCHBACK_5_DOORS MECHANICAL 1.6        механическая   \n",
              "4003  1096129272     ALLROAD_5_DOORS AUTOMATIC 3.0      автоматическая   \n",
              "2122  1099976772               SEDAN AUTOMATIC 2.0      автоматическая   \n",
              "\n",
              "        Владельцы Владение       ПТС  Привод   Руль  \n",
              "3123  2 владельца      NaN  Оригинал  полный  Левый  \n",
              "2721   1 владелец      NaN  Оригинал  полный  Левый  \n",
              "6608  3 или более      NaN  Дубликат  полный  Левый  \n",
              "4795  3 или более      NaN  Дубликат  задний  Левый  \n",
              "2018  3 или более      NaN  Дубликат  задний  Левый  \n",
              "4003  3 или более      NaN  Оригинал  полный  Левый  \n",
              "2122  3 или более      NaN  Оригинал  задний  Левый  "
            ],
            "text/html": [
              "\n",
              "  <div id=\"df-d6ef9188-0ce2-48fc-b341-c3a7dbc3a781\">\n",
              "    <div class=\"colab-df-container\">\n",
              "      <div>\n",
              "<style scoped>\n",
              "    .dataframe tbody tr th:only-of-type {\n",
              "        vertical-align: middle;\n",
              "    }\n",
              "\n",
              "    .dataframe tbody tr th {\n",
              "        vertical-align: top;\n",
              "    }\n",
              "\n",
              "    .dataframe thead th {\n",
              "        text-align: right;\n",
              "    }\n",
              "</style>\n",
              "<table border=\"1\" class=\"dataframe\">\n",
              "  <thead>\n",
              "    <tr style=\"text-align: right;\">\n",
              "      <th></th>\n",
              "      <th>bodyType</th>\n",
              "      <th>brand</th>\n",
              "      <th>color</th>\n",
              "      <th>description</th>\n",
              "      <th>engineDisplacement</th>\n",
              "      <th>enginePower</th>\n",
              "      <th>fuelType</th>\n",
              "      <th>mileage</th>\n",
              "      <th>modelDate</th>\n",
              "      <th>model_info</th>\n",
              "      <th>name</th>\n",
              "      <th>numberOfDoors</th>\n",
              "      <th>price</th>\n",
              "      <th>productionDate</th>\n",
              "      <th>sell_id</th>\n",
              "      <th>vehicleConfiguration</th>\n",
              "      <th>vehicleTransmission</th>\n",
              "      <th>Владельцы</th>\n",
              "      <th>Владение</th>\n",
              "      <th>ПТС</th>\n",
              "      <th>Привод</th>\n",
              "      <th>Руль</th>\n",
              "    </tr>\n",
              "  </thead>\n",
              "  <tbody>\n",
              "    <tr>\n",
              "      <th>3123</th>\n",
              "      <td>внедорожник 5 дв.</td>\n",
              "      <td>AUDI</td>\n",
              "      <td>белый</td>\n",
              "      <td>РОЛЬФ - Официальный дилер и Лучший дилер Росси...</td>\n",
              "      <td>2.0 LTR</td>\n",
              "      <td>177 N12</td>\n",
              "      <td>дизель</td>\n",
              "      <td>93842</td>\n",
              "      <td>2012</td>\n",
              "      <td>Q5</td>\n",
              "      <td>2.0d AMT (177 л.с.) 4WD</td>\n",
              "      <td>5</td>\n",
              "      <td>1490000.0</td>\n",
              "      <td>2015</td>\n",
              "      <td>1099387282</td>\n",
              "      <td>ALLROAD_5_DOORS ROBOT 2.0</td>\n",
              "      <td>роботизированная</td>\n",
              "      <td>2 владельца</td>\n",
              "      <td>NaN</td>\n",
              "      <td>Оригинал</td>\n",
              "      <td>полный</td>\n",
              "      <td>Левый</td>\n",
              "    </tr>\n",
              "    <tr>\n",
              "      <th>2721</th>\n",
              "      <td>внедорожник 5 дв.</td>\n",
              "      <td>MERCEDES</td>\n",
              "      <td>чёрный</td>\n",
              "      <td>Новый авто!! В наличии! Максимальной комплекта...</td>\n",
              "      <td>4.0 LTR</td>\n",
              "      <td>585 N12</td>\n",
              "      <td>бензин</td>\n",
              "      <td>17</td>\n",
              "      <td>2018</td>\n",
              "      <td>G_KLASSE_AMG</td>\n",
              "      <td>63 AMG 4.0 AT (585 л.с.) 4WD</td>\n",
              "      <td>5</td>\n",
              "      <td>18700000.0</td>\n",
              "      <td>2020</td>\n",
              "      <td>1099459954</td>\n",
              "      <td>ALLROAD_5_DOORS AUTOMATIC 4.0</td>\n",
              "      <td>автоматическая</td>\n",
              "      <td>1 владелец</td>\n",
              "      <td>NaN</td>\n",
              "      <td>Оригинал</td>\n",
              "      <td>полный</td>\n",
              "      <td>Левый</td>\n",
              "    </tr>\n",
              "    <tr>\n",
              "      <th>6608</th>\n",
              "      <td>внедорожник 5 дв.</td>\n",
              "      <td>MERCEDES</td>\n",
              "      <td>белый</td>\n",
              "      <td>Машина G63 amg, указал этот двигатель потому ч...</td>\n",
              "      <td>5.5 LTR</td>\n",
              "      <td>388 N12</td>\n",
              "      <td>бензин</td>\n",
              "      <td>54000</td>\n",
              "      <td>2012</td>\n",
              "      <td>G_KLASSE</td>\n",
              "      <td>500 5.5 AT (388 л.с.) 4WD</td>\n",
              "      <td>5</td>\n",
              "      <td>5300000.0</td>\n",
              "      <td>2014</td>\n",
              "      <td>1100173698</td>\n",
              "      <td>ALLROAD_5_DOORS AUTOMATIC 5.5</td>\n",
              "      <td>автоматическая</td>\n",
              "      <td>3 или более</td>\n",
              "      <td>NaN</td>\n",
              "      <td>Дубликат</td>\n",
              "      <td>полный</td>\n",
              "      <td>Левый</td>\n",
              "    </tr>\n",
              "    <tr>\n",
              "      <th>4795</th>\n",
              "      <td>седан</td>\n",
              "      <td>BMW</td>\n",
              "      <td>чёрный</td>\n",
              "      <td>Сразу обозначу про хозяев: реально-2 владельца...</td>\n",
              "      <td>6.0 LTR</td>\n",
              "      <td>445 N12</td>\n",
              "      <td>бензин</td>\n",
              "      <td>178000</td>\n",
              "      <td>2005</td>\n",
              "      <td>7ER</td>\n",
              "      <td>760Li 6.0 AT (445 л.с.)</td>\n",
              "      <td>4</td>\n",
              "      <td>550000.0</td>\n",
              "      <td>2006</td>\n",
              "      <td>1086888385</td>\n",
              "      <td>SEDAN AUTOMATIC 6.0</td>\n",
              "      <td>автоматическая</td>\n",
              "      <td>3 или более</td>\n",
              "      <td>NaN</td>\n",
              "      <td>Дубликат</td>\n",
              "      <td>задний</td>\n",
              "      <td>Левый</td>\n",
              "    </tr>\n",
              "    <tr>\n",
              "      <th>2018</th>\n",
              "      <td>хэтчбек 5 дв.</td>\n",
              "      <td>BMW</td>\n",
              "      <td>чёрный</td>\n",
              "      <td>Машина в хорошем состоянии. Торг у капота .</td>\n",
              "      <td>1.6 LTR</td>\n",
              "      <td>115 N12</td>\n",
              "      <td>бензин</td>\n",
              "      <td>176000</td>\n",
              "      <td>2007</td>\n",
              "      <td>1ER</td>\n",
              "      <td>116i 1.6 MT (115 л.с.)</td>\n",
              "      <td>5</td>\n",
              "      <td>385000.0</td>\n",
              "      <td>2007</td>\n",
              "      <td>1090032154</td>\n",
              "      <td>HATCHBACK_5_DOORS MECHANICAL 1.6</td>\n",
              "      <td>механическая</td>\n",
              "      <td>3 или более</td>\n",
              "      <td>NaN</td>\n",
              "      <td>Дубликат</td>\n",
              "      <td>задний</td>\n",
              "      <td>Левый</td>\n",
              "    </tr>\n",
              "    <tr>\n",
              "      <th>4003</th>\n",
              "      <td>внедорожник 5 дв.</td>\n",
              "      <td>BMW</td>\n",
              "      <td>серый</td>\n",
              "      <td>Авто в хорошем состоянии без каких либо технич...</td>\n",
              "      <td>3.0 LTR</td>\n",
              "      <td>235 N12</td>\n",
              "      <td>дизель</td>\n",
              "      <td>265000</td>\n",
              "      <td>2006</td>\n",
              "      <td>X5</td>\n",
              "      <td>3.0d 3.0d AT (235 л.с.) 4WD</td>\n",
              "      <td>5</td>\n",
              "      <td>900000.0</td>\n",
              "      <td>2008</td>\n",
              "      <td>1096129272</td>\n",
              "      <td>ALLROAD_5_DOORS AUTOMATIC 3.0</td>\n",
              "      <td>автоматическая</td>\n",
              "      <td>3 или более</td>\n",
              "      <td>NaN</td>\n",
              "      <td>Оригинал</td>\n",
              "      <td>полный</td>\n",
              "      <td>Левый</td>\n",
              "    </tr>\n",
              "    <tr>\n",
              "      <th>2122</th>\n",
              "      <td>седан</td>\n",
              "      <td>BMW</td>\n",
              "      <td>коричневый</td>\n",
              "      <td>Состояние автомобиля отличное. Не требует ника...</td>\n",
              "      <td>2.0 LTR</td>\n",
              "      <td>184 N12</td>\n",
              "      <td>бензин</td>\n",
              "      <td>127000</td>\n",
              "      <td>2009</td>\n",
              "      <td>5ER</td>\n",
              "      <td>520i 2.0 AT (184 л.с.)</td>\n",
              "      <td>4</td>\n",
              "      <td>1050000.0</td>\n",
              "      <td>2013</td>\n",
              "      <td>1099976772</td>\n",
              "      <td>SEDAN AUTOMATIC 2.0</td>\n",
              "      <td>автоматическая</td>\n",
              "      <td>3 или более</td>\n",
              "      <td>NaN</td>\n",
              "      <td>Оригинал</td>\n",
              "      <td>задний</td>\n",
              "      <td>Левый</td>\n",
              "    </tr>\n",
              "  </tbody>\n",
              "</table>\n",
              "</div>\n",
              "      <button class=\"colab-df-convert\" onclick=\"convertToInteractive('df-d6ef9188-0ce2-48fc-b341-c3a7dbc3a781')\"\n",
              "              title=\"Convert this dataframe to an interactive table.\"\n",
              "              style=\"display:none;\">\n",
              "        \n",
              "  <svg xmlns=\"http://www.w3.org/2000/svg\" height=\"24px\"viewBox=\"0 0 24 24\"\n",
              "       width=\"24px\">\n",
              "    <path d=\"M0 0h24v24H0V0z\" fill=\"none\"/>\n",
              "    <path d=\"M18.56 5.44l.94 2.06.94-2.06 2.06-.94-2.06-.94-.94-2.06-.94 2.06-2.06.94zm-11 1L8.5 8.5l.94-2.06 2.06-.94-2.06-.94L8.5 2.5l-.94 2.06-2.06.94zm10 10l.94 2.06.94-2.06 2.06-.94-2.06-.94-.94-2.06-.94 2.06-2.06.94z\"/><path d=\"M17.41 7.96l-1.37-1.37c-.4-.4-.92-.59-1.43-.59-.52 0-1.04.2-1.43.59L10.3 9.45l-7.72 7.72c-.78.78-.78 2.05 0 2.83L4 21.41c.39.39.9.59 1.41.59.51 0 1.02-.2 1.41-.59l7.78-7.78 2.81-2.81c.8-.78.8-2.07 0-2.86zM5.41 20L4 18.59l7.72-7.72 1.47 1.35L5.41 20z\"/>\n",
              "  </svg>\n",
              "      </button>\n",
              "      \n",
              "  <style>\n",
              "    .colab-df-container {\n",
              "      display:flex;\n",
              "      flex-wrap:wrap;\n",
              "      gap: 12px;\n",
              "    }\n",
              "\n",
              "    .colab-df-convert {\n",
              "      background-color: #E8F0FE;\n",
              "      border: none;\n",
              "      border-radius: 50%;\n",
              "      cursor: pointer;\n",
              "      display: none;\n",
              "      fill: #1967D2;\n",
              "      height: 32px;\n",
              "      padding: 0 0 0 0;\n",
              "      width: 32px;\n",
              "    }\n",
              "\n",
              "    .colab-df-convert:hover {\n",
              "      background-color: #E2EBFA;\n",
              "      box-shadow: 0px 1px 2px rgba(60, 64, 67, 0.3), 0px 1px 3px 1px rgba(60, 64, 67, 0.15);\n",
              "      fill: #174EA6;\n",
              "    }\n",
              "\n",
              "    [theme=dark] .colab-df-convert {\n",
              "      background-color: #3B4455;\n",
              "      fill: #D2E3FC;\n",
              "    }\n",
              "\n",
              "    [theme=dark] .colab-df-convert:hover {\n",
              "      background-color: #434B5C;\n",
              "      box-shadow: 0px 1px 3px 1px rgba(0, 0, 0, 0.15);\n",
              "      filter: drop-shadow(0px 1px 2px rgba(0, 0, 0, 0.3));\n",
              "      fill: #FFFFFF;\n",
              "    }\n",
              "  </style>\n",
              "\n",
              "      <script>\n",
              "        const buttonEl =\n",
              "          document.querySelector('#df-d6ef9188-0ce2-48fc-b341-c3a7dbc3a781 button.colab-df-convert');\n",
              "        buttonEl.style.display =\n",
              "          google.colab.kernel.accessAllowed ? 'block' : 'none';\n",
              "\n",
              "        async function convertToInteractive(key) {\n",
              "          const element = document.querySelector('#df-d6ef9188-0ce2-48fc-b341-c3a7dbc3a781');\n",
              "          const dataTable =\n",
              "            await google.colab.kernel.invokeFunction('convertToInteractive',\n",
              "                                                     [key], {});\n",
              "          if (!dataTable) return;\n",
              "\n",
              "          const docLinkHtml = 'Like what you see? Visit the ' +\n",
              "            '<a target=\"_blank\" href=https://colab.research.google.com/notebooks/data_table.ipynb>data table notebook</a>'\n",
              "            + ' to learn more about interactive tables.';\n",
              "          element.innerHTML = '';\n",
              "          dataTable['output_type'] = 'display_data';\n",
              "          await google.colab.output.renderOutput(dataTable, element);\n",
              "          const docLink = document.createElement('div');\n",
              "          docLink.innerHTML = docLinkHtml;\n",
              "          element.appendChild(docLink);\n",
              "        }\n",
              "      </script>\n",
              "    </div>\n",
              "  </div>\n",
              "  "
            ]
          },
          "metadata": {},
          "execution_count": 71
        }
      ]
    },
    {
      "cell_type": "code",
      "source": [
        "test.sample(7)"
      ],
      "metadata": {
        "colab": {
          "base_uri": "https://localhost:8080/",
          "height": 923
        },
        "id": "wQUt3uvkBBjy",
        "outputId": "39049e9d-bd0b-443d-afdd-1e2f9610a87b"
      },
      "execution_count": 72,
      "outputs": [
        {
          "output_type": "execute_result",
          "data": {
            "text/plain": [
              "               bodyType     brand       color  \\\n",
              "1308              седан  MERCEDES       синий   \n",
              "843   внедорожник 5 дв.       BMW      чёрный   \n",
              "128       хэтчбек 5 дв.  MERCEDES      чёрный   \n",
              "1639               купе  MERCEDES       белый   \n",
              "522   внедорожник 5 дв.       BMW  коричневый   \n",
              "259   внедорожник 5 дв.  MERCEDES      чёрный   \n",
              "1666              седан       BMW  коричневый   \n",
              "\n",
              "                                            description engineDisplacement  \\\n",
              "1308  Отличное состояние, пробег реальный. Сделано б...            1.8 LTR   \n",
              "843   Акустика Harman Kardon.\\nКожаные сиденья (Dako...            2.0 LTR   \n",
              "128   \\nСама выполняет параллельную парковку.\\nПеред...            1.6 LTR   \n",
              "1639  Автомобиль в отличном состоянии.\\nПриобретен в...            3.0 LTR   \n",
              "522   Безопасность: 2. Комфорт: 3. Элементы экстерье...            2.0 LTR   \n",
              "259   Внимание! Только для клиентов AVILON Автомобил...            5.4 LTR   \n",
              "1666  Продаётся любимица семьи. Автомобилем неактивн...            2.0 LTR   \n",
              "\n",
              "     enginePower fuelType  mileage  modelDate    model_info  \\\n",
              "1308     143 N12   бензин   212000       2004      C_KLASSE   \n",
              "843      245 N12   бензин    54780       2014            X4   \n",
              "128      122 N12   бензин   170000       2011      B_KLASSE   \n",
              "1639     435 N12   бензин     8900       2016  E_KLASSE_AMG   \n",
              "522      184 N12   дизель   107417       2012            X1   \n",
              "259      507 N12   бензин    52455       2008  G_KLASSE_AMG   \n",
              "1666     184 N12   бензин    76000       2011           3ER   \n",
              "\n",
              "                              name  numberOfDoors  productionDate     sell_id  \\\n",
              "1308         180 1.8 MT (143 л.с.)              4            2006  1100143146   \n",
              "843      28i 2.0 AT (245 л.с.) 4WD              5            2017  1099486318   \n",
              "128         180 1.6 AMT (122 л.с.)              5            2012  1098776926   \n",
              "1639  53 AMG 3.0 AT (435 л.с.) 4WD              2            2018  1099599146   \n",
              "522     20d 2.0d AT (184 л.с.) 4WD              5            2013  1099552276   \n",
              "259   55 AMG 5.4 AT (507 л.с.) 4WD              5            2009  1100076402   \n",
              "1666        320i 2.0 AT (184 л.с.)              4            2012  1099414488   \n",
              "\n",
              "               vehicleConfiguration vehicleTransmission    Владельцы  \\\n",
              "1308           SEDAN MECHANICAL 1.8        механическая  3 или более   \n",
              "843   ALLROAD_5_DOORS AUTOMATIC 2.0      автоматическая   1 владелец   \n",
              "128     HATCHBACK_5_DOORS ROBOT 1.6    роботизированная  2 владельца   \n",
              "1639            COUPE AUTOMATIC 3.0      автоматическая  2 владельца   \n",
              "522   ALLROAD_5_DOORS AUTOMATIC 2.0      автоматическая  2 владельца   \n",
              "259   ALLROAD_5_DOORS AUTOMATIC 5.4      автоматическая   1 владелец   \n",
              "1666            SEDAN AUTOMATIC 2.0      автоматическая  2 владельца   \n",
              "\n",
              "               Владение       ПТС    Привод   Руль  \n",
              "1308                NaN  Оригинал    задний  Левый  \n",
              "843   2 года и 4 месяца  Оригинал    полный  Левый  \n",
              "128              4 года  Оригинал  передний  Левый  \n",
              "1639         10 месяцев  Оригинал    полный  Левый  \n",
              "522                 NaN  Оригинал    полный  Левый  \n",
              "259                 NaN  Оригинал    полный  Левый  \n",
              "1666              7 лет  Оригинал    задний  Левый  "
            ],
            "text/html": [
              "\n",
              "  <div id=\"df-9e1590b5-c5d0-4737-9bac-8571b9e0afd3\">\n",
              "    <div class=\"colab-df-container\">\n",
              "      <div>\n",
              "<style scoped>\n",
              "    .dataframe tbody tr th:only-of-type {\n",
              "        vertical-align: middle;\n",
              "    }\n",
              "\n",
              "    .dataframe tbody tr th {\n",
              "        vertical-align: top;\n",
              "    }\n",
              "\n",
              "    .dataframe thead th {\n",
              "        text-align: right;\n",
              "    }\n",
              "</style>\n",
              "<table border=\"1\" class=\"dataframe\">\n",
              "  <thead>\n",
              "    <tr style=\"text-align: right;\">\n",
              "      <th></th>\n",
              "      <th>bodyType</th>\n",
              "      <th>brand</th>\n",
              "      <th>color</th>\n",
              "      <th>description</th>\n",
              "      <th>engineDisplacement</th>\n",
              "      <th>enginePower</th>\n",
              "      <th>fuelType</th>\n",
              "      <th>mileage</th>\n",
              "      <th>modelDate</th>\n",
              "      <th>model_info</th>\n",
              "      <th>name</th>\n",
              "      <th>numberOfDoors</th>\n",
              "      <th>productionDate</th>\n",
              "      <th>sell_id</th>\n",
              "      <th>vehicleConfiguration</th>\n",
              "      <th>vehicleTransmission</th>\n",
              "      <th>Владельцы</th>\n",
              "      <th>Владение</th>\n",
              "      <th>ПТС</th>\n",
              "      <th>Привод</th>\n",
              "      <th>Руль</th>\n",
              "    </tr>\n",
              "  </thead>\n",
              "  <tbody>\n",
              "    <tr>\n",
              "      <th>1308</th>\n",
              "      <td>седан</td>\n",
              "      <td>MERCEDES</td>\n",
              "      <td>синий</td>\n",
              "      <td>Отличное состояние, пробег реальный. Сделано б...</td>\n",
              "      <td>1.8 LTR</td>\n",
              "      <td>143 N12</td>\n",
              "      <td>бензин</td>\n",
              "      <td>212000</td>\n",
              "      <td>2004</td>\n",
              "      <td>C_KLASSE</td>\n",
              "      <td>180 1.8 MT (143 л.с.)</td>\n",
              "      <td>4</td>\n",
              "      <td>2006</td>\n",
              "      <td>1100143146</td>\n",
              "      <td>SEDAN MECHANICAL 1.8</td>\n",
              "      <td>механическая</td>\n",
              "      <td>3 или более</td>\n",
              "      <td>NaN</td>\n",
              "      <td>Оригинал</td>\n",
              "      <td>задний</td>\n",
              "      <td>Левый</td>\n",
              "    </tr>\n",
              "    <tr>\n",
              "      <th>843</th>\n",
              "      <td>внедорожник 5 дв.</td>\n",
              "      <td>BMW</td>\n",
              "      <td>чёрный</td>\n",
              "      <td>Акустика Harman Kardon.\\nКожаные сиденья (Dako...</td>\n",
              "      <td>2.0 LTR</td>\n",
              "      <td>245 N12</td>\n",
              "      <td>бензин</td>\n",
              "      <td>54780</td>\n",
              "      <td>2014</td>\n",
              "      <td>X4</td>\n",
              "      <td>28i 2.0 AT (245 л.с.) 4WD</td>\n",
              "      <td>5</td>\n",
              "      <td>2017</td>\n",
              "      <td>1099486318</td>\n",
              "      <td>ALLROAD_5_DOORS AUTOMATIC 2.0</td>\n",
              "      <td>автоматическая</td>\n",
              "      <td>1 владелец</td>\n",
              "      <td>2 года и 4 месяца</td>\n",
              "      <td>Оригинал</td>\n",
              "      <td>полный</td>\n",
              "      <td>Левый</td>\n",
              "    </tr>\n",
              "    <tr>\n",
              "      <th>128</th>\n",
              "      <td>хэтчбек 5 дв.</td>\n",
              "      <td>MERCEDES</td>\n",
              "      <td>чёрный</td>\n",
              "      <td>\\nСама выполняет параллельную парковку.\\nПеред...</td>\n",
              "      <td>1.6 LTR</td>\n",
              "      <td>122 N12</td>\n",
              "      <td>бензин</td>\n",
              "      <td>170000</td>\n",
              "      <td>2011</td>\n",
              "      <td>B_KLASSE</td>\n",
              "      <td>180 1.6 AMT (122 л.с.)</td>\n",
              "      <td>5</td>\n",
              "      <td>2012</td>\n",
              "      <td>1098776926</td>\n",
              "      <td>HATCHBACK_5_DOORS ROBOT 1.6</td>\n",
              "      <td>роботизированная</td>\n",
              "      <td>2 владельца</td>\n",
              "      <td>4 года</td>\n",
              "      <td>Оригинал</td>\n",
              "      <td>передний</td>\n",
              "      <td>Левый</td>\n",
              "    </tr>\n",
              "    <tr>\n",
              "      <th>1639</th>\n",
              "      <td>купе</td>\n",
              "      <td>MERCEDES</td>\n",
              "      <td>белый</td>\n",
              "      <td>Автомобиль в отличном состоянии.\\nПриобретен в...</td>\n",
              "      <td>3.0 LTR</td>\n",
              "      <td>435 N12</td>\n",
              "      <td>бензин</td>\n",
              "      <td>8900</td>\n",
              "      <td>2016</td>\n",
              "      <td>E_KLASSE_AMG</td>\n",
              "      <td>53 AMG 3.0 AT (435 л.с.) 4WD</td>\n",
              "      <td>2</td>\n",
              "      <td>2018</td>\n",
              "      <td>1099599146</td>\n",
              "      <td>COUPE AUTOMATIC 3.0</td>\n",
              "      <td>автоматическая</td>\n",
              "      <td>2 владельца</td>\n",
              "      <td>10 месяцев</td>\n",
              "      <td>Оригинал</td>\n",
              "      <td>полный</td>\n",
              "      <td>Левый</td>\n",
              "    </tr>\n",
              "    <tr>\n",
              "      <th>522</th>\n",
              "      <td>внедорожник 5 дв.</td>\n",
              "      <td>BMW</td>\n",
              "      <td>коричневый</td>\n",
              "      <td>Безопасность: 2. Комфорт: 3. Элементы экстерье...</td>\n",
              "      <td>2.0 LTR</td>\n",
              "      <td>184 N12</td>\n",
              "      <td>дизель</td>\n",
              "      <td>107417</td>\n",
              "      <td>2012</td>\n",
              "      <td>X1</td>\n",
              "      <td>20d 2.0d AT (184 л.с.) 4WD</td>\n",
              "      <td>5</td>\n",
              "      <td>2013</td>\n",
              "      <td>1099552276</td>\n",
              "      <td>ALLROAD_5_DOORS AUTOMATIC 2.0</td>\n",
              "      <td>автоматическая</td>\n",
              "      <td>2 владельца</td>\n",
              "      <td>NaN</td>\n",
              "      <td>Оригинал</td>\n",
              "      <td>полный</td>\n",
              "      <td>Левый</td>\n",
              "    </tr>\n",
              "    <tr>\n",
              "      <th>259</th>\n",
              "      <td>внедорожник 5 дв.</td>\n",
              "      <td>MERCEDES</td>\n",
              "      <td>чёрный</td>\n",
              "      <td>Внимание! Только для клиентов AVILON Автомобил...</td>\n",
              "      <td>5.4 LTR</td>\n",
              "      <td>507 N12</td>\n",
              "      <td>бензин</td>\n",
              "      <td>52455</td>\n",
              "      <td>2008</td>\n",
              "      <td>G_KLASSE_AMG</td>\n",
              "      <td>55 AMG 5.4 AT (507 л.с.) 4WD</td>\n",
              "      <td>5</td>\n",
              "      <td>2009</td>\n",
              "      <td>1100076402</td>\n",
              "      <td>ALLROAD_5_DOORS AUTOMATIC 5.4</td>\n",
              "      <td>автоматическая</td>\n",
              "      <td>1 владелец</td>\n",
              "      <td>NaN</td>\n",
              "      <td>Оригинал</td>\n",
              "      <td>полный</td>\n",
              "      <td>Левый</td>\n",
              "    </tr>\n",
              "    <tr>\n",
              "      <th>1666</th>\n",
              "      <td>седан</td>\n",
              "      <td>BMW</td>\n",
              "      <td>коричневый</td>\n",
              "      <td>Продаётся любимица семьи. Автомобилем неактивн...</td>\n",
              "      <td>2.0 LTR</td>\n",
              "      <td>184 N12</td>\n",
              "      <td>бензин</td>\n",
              "      <td>76000</td>\n",
              "      <td>2011</td>\n",
              "      <td>3ER</td>\n",
              "      <td>320i 2.0 AT (184 л.с.)</td>\n",
              "      <td>4</td>\n",
              "      <td>2012</td>\n",
              "      <td>1099414488</td>\n",
              "      <td>SEDAN AUTOMATIC 2.0</td>\n",
              "      <td>автоматическая</td>\n",
              "      <td>2 владельца</td>\n",
              "      <td>7 лет</td>\n",
              "      <td>Оригинал</td>\n",
              "      <td>задний</td>\n",
              "      <td>Левый</td>\n",
              "    </tr>\n",
              "  </tbody>\n",
              "</table>\n",
              "</div>\n",
              "      <button class=\"colab-df-convert\" onclick=\"convertToInteractive('df-9e1590b5-c5d0-4737-9bac-8571b9e0afd3')\"\n",
              "              title=\"Convert this dataframe to an interactive table.\"\n",
              "              style=\"display:none;\">\n",
              "        \n",
              "  <svg xmlns=\"http://www.w3.org/2000/svg\" height=\"24px\"viewBox=\"0 0 24 24\"\n",
              "       width=\"24px\">\n",
              "    <path d=\"M0 0h24v24H0V0z\" fill=\"none\"/>\n",
              "    <path d=\"M18.56 5.44l.94 2.06.94-2.06 2.06-.94-2.06-.94-.94-2.06-.94 2.06-2.06.94zm-11 1L8.5 8.5l.94-2.06 2.06-.94-2.06-.94L8.5 2.5l-.94 2.06-2.06.94zm10 10l.94 2.06.94-2.06 2.06-.94-2.06-.94-.94-2.06-.94 2.06-2.06.94z\"/><path d=\"M17.41 7.96l-1.37-1.37c-.4-.4-.92-.59-1.43-.59-.52 0-1.04.2-1.43.59L10.3 9.45l-7.72 7.72c-.78.78-.78 2.05 0 2.83L4 21.41c.39.39.9.59 1.41.59.51 0 1.02-.2 1.41-.59l7.78-7.78 2.81-2.81c.8-.78.8-2.07 0-2.86zM5.41 20L4 18.59l7.72-7.72 1.47 1.35L5.41 20z\"/>\n",
              "  </svg>\n",
              "      </button>\n",
              "      \n",
              "  <style>\n",
              "    .colab-df-container {\n",
              "      display:flex;\n",
              "      flex-wrap:wrap;\n",
              "      gap: 12px;\n",
              "    }\n",
              "\n",
              "    .colab-df-convert {\n",
              "      background-color: #E8F0FE;\n",
              "      border: none;\n",
              "      border-radius: 50%;\n",
              "      cursor: pointer;\n",
              "      display: none;\n",
              "      fill: #1967D2;\n",
              "      height: 32px;\n",
              "      padding: 0 0 0 0;\n",
              "      width: 32px;\n",
              "    }\n",
              "\n",
              "    .colab-df-convert:hover {\n",
              "      background-color: #E2EBFA;\n",
              "      box-shadow: 0px 1px 2px rgba(60, 64, 67, 0.3), 0px 1px 3px 1px rgba(60, 64, 67, 0.15);\n",
              "      fill: #174EA6;\n",
              "    }\n",
              "\n",
              "    [theme=dark] .colab-df-convert {\n",
              "      background-color: #3B4455;\n",
              "      fill: #D2E3FC;\n",
              "    }\n",
              "\n",
              "    [theme=dark] .colab-df-convert:hover {\n",
              "      background-color: #434B5C;\n",
              "      box-shadow: 0px 1px 3px 1px rgba(0, 0, 0, 0.15);\n",
              "      filter: drop-shadow(0px 1px 2px rgba(0, 0, 0, 0.3));\n",
              "      fill: #FFFFFF;\n",
              "    }\n",
              "  </style>\n",
              "\n",
              "      <script>\n",
              "        const buttonEl =\n",
              "          document.querySelector('#df-9e1590b5-c5d0-4737-9bac-8571b9e0afd3 button.colab-df-convert');\n",
              "        buttonEl.style.display =\n",
              "          google.colab.kernel.accessAllowed ? 'block' : 'none';\n",
              "\n",
              "        async function convertToInteractive(key) {\n",
              "          const element = document.querySelector('#df-9e1590b5-c5d0-4737-9bac-8571b9e0afd3');\n",
              "          const dataTable =\n",
              "            await google.colab.kernel.invokeFunction('convertToInteractive',\n",
              "                                                     [key], {});\n",
              "          if (!dataTable) return;\n",
              "\n",
              "          const docLinkHtml = 'Like what you see? Visit the ' +\n",
              "            '<a target=\"_blank\" href=https://colab.research.google.com/notebooks/data_table.ipynb>data table notebook</a>'\n",
              "            + ' to learn more about interactive tables.';\n",
              "          element.innerHTML = '';\n",
              "          dataTable['output_type'] = 'display_data';\n",
              "          await google.colab.output.renderOutput(dataTable, element);\n",
              "          const docLink = document.createElement('div');\n",
              "          docLink.innerHTML = docLinkHtml;\n",
              "          element.appendChild(docLink);\n",
              "        }\n",
              "      </script>\n",
              "    </div>\n",
              "  </div>\n",
              "  "
            ]
          },
          "metadata": {},
          "execution_count": 72
        }
      ]
    },
    {
      "cell_type": "markdown",
      "source": [
        "В обоих датафреймах столбцы совпадают."
      ],
      "metadata": {
        "id": "cfwypK8dC9qv"
      }
    },
    {
      "cell_type": "markdown",
      "source": [
        "Определим типы признаков:\n",
        "\n",
        "* bodyType - категориальный\n",
        "* brand - категориальный\n",
        "* color - категориальный\n",
        "* description - текстовый\n",
        "* engineDisplacement - числовой, представленный как текст\n",
        "* enginePower - числовой, представленный как текст\n",
        "* fuelType - категориальный\n",
        "* mileage - числовой\n",
        "* modelDate - числовой\n",
        "* model_info - категориальный\n",
        "* name - категориальный, желательно сократить размерность\n",
        "* numberOfDoors - категориальный\n",
        "* price - числовой, целевой\n",
        "* productionDate - числовой\n",
        "* sell_id - изображение (файл доступен по адресу, основанному на sell_id)\n",
        "* vehicleConfiguration - не используется (комбинация других столбцов)\n",
        "* vehicleTransmission - категориальный\n",
        "* Владельцы - категориальный\n",
        "* Владение - числовой, представленный как текст\n",
        "* ПТС - категориальный\n",
        "* Привод - категориальный\n",
        "* Руль - категориальный"
      ],
      "metadata": {
        "id": "Gn1NDpbfsrSG"
      }
    },
    {
      "cell_type": "markdown",
      "source": [
        "Теперь попробуем создать наивную модель и посмотреть результат нашей метрики"
      ],
      "metadata": {
        "id": "JVH1Db8HsrSH"
      }
    },
    {
      "cell_type": "markdown",
      "source": [
        "# 2. Model 0: \"Наивная\" модель \n",
        "Эта модель будет предсказывать среднюю цену по модели и году выпуска. \n",
        "C ней будем сравнивать другие модели.\n",
        "\n"
      ],
      "metadata": {
        "id": "yC8lghPssrSH"
      }
    },
    {
      "cell_type": "markdown",
      "source": [
        "Первым делом проведем разделенение на обучающую и валидационную выборки:"
      ],
      "metadata": {
        "id": "qiNGR5GqsrSH"
      }
    },
    {
      "cell_type": "code",
      "source": [
        "data_train, data_test = train_test_split(\n",
        "    train, test_size=0.2, shuffle=True, random_state=RANDOM_SEED)"
      ],
      "metadata": {
        "execution": {
          "iopub.status.busy": "2022-05-16T10:03:45.825723Z",
          "iopub.status.idle": "2022-05-16T10:03:45.826242Z"
        },
        "trusted": true,
        "id": "xodlbrm4srSI"
      },
      "execution_count": 73,
      "outputs": []
    },
    {
      "cell_type": "markdown",
      "source": [
        "Создадим наивную модель и проведем оценку отчности:"
      ],
      "metadata": {
        "id": "PZ4EpwzJsrSI"
      }
    },
    {
      "cell_type": "code",
      "source": [
        "# Наивная модель\n",
        "predicts = []\n",
        "for index, row in pd.DataFrame(data_test[['model_info', \n",
        "                                          'productionDate']]).iterrows():\n",
        "    predicts.append(data_train.loc[(data_train['model_info'] == row[0]) & \n",
        "                                   (data_train['productionDate'] == row[1])]\n",
        "                    ['price'].median())\n",
        "\n",
        "# заполним не найденные совпадения\n",
        "predicts = pd.DataFrame(predicts)\n",
        "predicts = predicts.fillna(predicts.median())\n",
        "\n",
        "# округлим\n",
        "predicts = (predicts // 1000) * 1000\n",
        "# print(data_test['price'].values)\n",
        "# print(predicts.values[:, 0])\n",
        "\n",
        "# оцениваем точность\n",
        "print(f\"Ошибка по метрике MAPE: \"\n",
        "      f\"{(mape(data_test['price'].values, predicts.values[:, 0]))*100:0.2f}%\")\n"
      ],
      "metadata": {
        "colab": {
          "base_uri": "https://localhost:8080/"
        },
        "id": "BPBwOEtgEkoG",
        "outputId": "9dd5b573-f3ac-441a-e977-09007d46e134"
      },
      "execution_count": 112,
      "outputs": [
        {
          "output_type": "stream",
          "name": "stdout",
          "text": [
            "Ошибка по метрике MAPE: 20.26%\n"
          ]
        }
      ]
    },
    {
      "cell_type": "markdown",
      "source": [
        "Мы получили достаточно плохой результат, но теперь появилось понимание - откуда отталкиваться. \n",
        "\n",
        "Первым делом проведем EDA и попробуем использовать CatBoost."
      ],
      "metadata": {
        "id": "7uZ_eEKXsrSJ"
      }
    },
    {
      "cell_type": "markdown",
      "source": [
        "# 3. EDA и Feature-Engeneering"
      ],
      "metadata": {
        "id": "elPre1YksrSK"
      }
    },
    {
      "cell_type": "markdown",
      "source": [
        "Проведем быстрый анализ данных для того, чтобы понимать, сможет ли с этими данными работать наш алгоритм. По большей части EDA и Feature-Engeneering был произведен в одном из предыдущих проектов CarPricePrediction, поэтому многие вещи будут заимствованы оттуда."
      ],
      "metadata": {
        "id": "ppmyCb6psrSK"
      }
    },
    {
      "cell_type": "markdown",
      "source": [
        "Посмотрим, как выглядят распределения числовых признаков:"
      ],
      "metadata": {
        "id": "XAKSuvHcsrSK"
      }
    },
    {
      "cell_type": "code",
      "source": [
        "# посмотрим, как выглядят распределения числовых признаков\n",
        "def visualize_distributions(titles_values_dict):\n",
        "    columns = min(3, len(titles_values_dict))\n",
        "    rows = (len(titles_values_dict) - 1) // columns + 1\n",
        "    fig = plt.figure(figsize=(columns * 6, rows * 4))\n",
        "    for i, (title, values) in enumerate(titles_values_dict.items()):\n",
        "        hist, bins = np.histogram(values, bins=20)\n",
        "        ax = fig.add_subplot(rows, columns, i + 1)\n",
        "        ax.bar(bins[:-1], hist, width=(bins[1] - bins[0]) * 0.7)\n",
        "        ax.set_title(title)\n",
        "    plt.show()\n",
        "\n",
        "\n",
        "visualize_distributions({\n",
        "    'mileage': train['mileage'].dropna(),\n",
        "    'modelDate': train['modelDate'].dropna(),\n",
        "    'productionDate': train['productionDate'].dropna()\n",
        "})"
      ],
      "metadata": {
        "_kg_hide-input": true,
        "execution": {
          "iopub.status.busy": "2022-05-16T10:03:45.828567Z",
          "iopub.status.idle": "2022-05-16T10:03:45.829026Z"
        },
        "trusted": true,
        "colab": {
          "base_uri": "https://localhost:8080/",
          "height": 410
        },
        "id": "NW3_mmCHsrSK",
        "outputId": "18b7b55b-ceb0-44d5-b412-e0501bc7c4b2"
      },
      "execution_count": 113,
      "outputs": [
        {
          "output_type": "display_data",
          "data": {
            "text/plain": [
              "<Figure size 1296x288 with 3 Axes>"
            ],
            "image/svg+xml": "<?xml version=\"1.0\" encoding=\"utf-8\" standalone=\"no\"?>\n<!DOCTYPE svg PUBLIC \"-//W3C//DTD SVG 1.1//EN\"\n  \"http://www.w3.org/Graphics/SVG/1.1/DTD/svg11.dtd\">\n<!-- Created with matplotlib (https://matplotlib.org/) -->\n<svg height=\"276.314375pt\" version=\"1.1\" viewBox=\"0 0 1059.408182 276.314375\" width=\"1059.408182pt\" xmlns=\"http://www.w3.org/2000/svg\" xmlns:xlink=\"http://www.w3.org/1999/xlink\">\n <defs>\n  <style type=\"text/css\">\n*{stroke-linecap:butt;stroke-linejoin:round;}\n  </style>\n </defs>\n <g id=\"figure_1\">\n  <g id=\"patch_1\">\n   <path d=\"M 0 276.314375 \nL 1059.408182 276.314375 \nL 1059.408182 0 \nL 0 0 \nz\n\" style=\"fill:none;\"/>\n  </g>\n  <g id=\"axes_1\">\n   <g id=\"patch_2\">\n    <path d=\"M 39.65 239.758125 \nL 335.061765 239.758125 \nL 335.061765 22.318125 \nL 39.65 22.318125 \nz\n\" style=\"fill:#ffffff;\"/>\n   </g>\n   <g id=\"patch_3\">\n    <path clip-path=\"url(#p30af234a0d)\" d=\"M 53.077807 239.758125 \nL 62.620412 239.758125 \nL 62.620412 58.00874 \nL 53.077807 58.00874 \nz\n\" style=\"fill:#1f77b4;\"/>\n   </g>\n   <g id=\"patch_4\">\n    <path clip-path=\"url(#p30af234a0d)\" d=\"M 66.710099 239.758125 \nL 76.252704 239.758125 \nL 76.252704 32.672411 \nL 66.710099 32.672411 \nz\n\" style=\"fill:#1f77b4;\"/>\n   </g>\n   <g id=\"patch_5\">\n    <path clip-path=\"url(#p30af234a0d)\" d=\"M 80.342391 239.758125 \nL 89.884996 239.758125 \nL 89.884996 33.189479 \nL 80.342391 33.189479 \nz\n\" style=\"fill:#1f77b4;\"/>\n   </g>\n   <g id=\"patch_6\">\n    <path clip-path=\"url(#p30af234a0d)\" d=\"M 93.974683 239.758125 \nL 103.517287 239.758125 \nL 103.517287 96.271769 \nL 93.974683 96.271769 \nz\n\" style=\"fill:#1f77b4;\"/>\n   </g>\n   <g id=\"patch_7\">\n    <path clip-path=\"url(#p30af234a0d)\" d=\"M 107.606975 239.758125 \nL 117.149579 239.758125 \nL 117.149579 172.15149 \nL 107.606975 172.15149 \nz\n\" style=\"fill:#1f77b4;\"/>\n   </g>\n   <g id=\"patch_8\">\n    <path clip-path=\"url(#p30af234a0d)\" d=\"M 121.239267 239.758125 \nL 130.781871 239.758125 \nL 130.781871 207.182844 \nL 121.239267 207.182844 \nz\n\" style=\"fill:#1f77b4;\"/>\n   </g>\n   <g id=\"patch_9\">\n    <path clip-path=\"url(#p30af234a0d)\" d=\"M 134.871559 239.758125 \nL 144.414163 239.758125 \nL 144.414163 224.892421 \nL 134.871559 224.892421 \nz\n\" style=\"fill:#1f77b4;\"/>\n   </g>\n   <g id=\"patch_10\">\n    <path clip-path=\"url(#p30af234a0d)\" d=\"M 148.503851 239.758125 \nL 158.046455 239.758125 \nL 158.046455 233.811844 \nL 148.503851 233.811844 \nz\n\" style=\"fill:#1f77b4;\"/>\n   </g>\n   <g id=\"patch_11\">\n    <path clip-path=\"url(#p30af234a0d)\" d=\"M 162.136142 239.758125 \nL 171.678747 239.758125 \nL 171.678747 236.914251 \nL 162.136142 236.914251 \nz\n\" style=\"fill:#1f77b4;\"/>\n   </g>\n   <g id=\"patch_12\">\n    <path clip-path=\"url(#p30af234a0d)\" d=\"M 175.768434 239.758125 \nL 185.311039 239.758125 \nL 185.311039 239.370324 \nL 175.768434 239.370324 \nz\n\" style=\"fill:#1f77b4;\"/>\n   </g>\n   <g id=\"patch_13\">\n    <path clip-path=\"url(#p30af234a0d)\" d=\"M 189.400726 239.758125 \nL 198.94333 239.758125 \nL 198.94333 239.499591 \nL 189.400726 239.499591 \nz\n\" style=\"fill:#1f77b4;\"/>\n   </g>\n   <g id=\"patch_14\">\n    <path clip-path=\"url(#p30af234a0d)\" d=\"M 203.033018 239.758125 \nL 212.575622 239.758125 \nL 212.575622 239.628858 \nL 203.033018 239.628858 \nz\n\" style=\"fill:#1f77b4;\"/>\n   </g>\n   <g id=\"patch_15\">\n    <path clip-path=\"url(#p30af234a0d)\" d=\"M 216.66531 239.758125 \nL 226.207914 239.758125 \nL 226.207914 239.758125 \nL 216.66531 239.758125 \nz\n\" style=\"fill:#1f77b4;\"/>\n   </g>\n   <g id=\"patch_16\">\n    <path clip-path=\"url(#p30af234a0d)\" d=\"M 230.297602 239.758125 \nL 239.840206 239.758125 \nL 239.840206 239.628858 \nL 230.297602 239.628858 \nz\n\" style=\"fill:#1f77b4;\"/>\n   </g>\n   <g id=\"patch_17\">\n    <path clip-path=\"url(#p30af234a0d)\" d=\"M 243.929894 239.758125 \nL 253.472498 239.758125 \nL 253.472498 239.758125 \nL 243.929894 239.758125 \nz\n\" style=\"fill:#1f77b4;\"/>\n   </g>\n   <g id=\"patch_18\">\n    <path clip-path=\"url(#p30af234a0d)\" d=\"M 257.562185 239.758125 \nL 267.10479 239.758125 \nL 267.10479 239.758125 \nL 257.562185 239.758125 \nz\n\" style=\"fill:#1f77b4;\"/>\n   </g>\n   <g id=\"patch_19\">\n    <path clip-path=\"url(#p30af234a0d)\" d=\"M 271.194477 239.758125 \nL 280.737082 239.758125 \nL 280.737082 239.758125 \nL 271.194477 239.758125 \nz\n\" style=\"fill:#1f77b4;\"/>\n   </g>\n   <g id=\"patch_20\">\n    <path clip-path=\"url(#p30af234a0d)\" d=\"M 284.826769 239.758125 \nL 294.369373 239.758125 \nL 294.369373 239.758125 \nL 284.826769 239.758125 \nz\n\" style=\"fill:#1f77b4;\"/>\n   </g>\n   <g id=\"patch_21\">\n    <path clip-path=\"url(#p30af234a0d)\" d=\"M 298.459061 239.758125 \nL 308.001665 239.758125 \nL 308.001665 239.758125 \nL 298.459061 239.758125 \nz\n\" style=\"fill:#1f77b4;\"/>\n   </g>\n   <g id=\"patch_22\">\n    <path clip-path=\"url(#p30af234a0d)\" d=\"M 312.091353 239.758125 \nL 321.633957 239.758125 \nL 321.633957 239.628858 \nL 312.091353 239.628858 \nz\n\" style=\"fill:#1f77b4;\"/>\n   </g>\n   <g id=\"matplotlib.axis_1\">\n    <g id=\"xtick_1\">\n     <g id=\"line2d_1\">\n      <defs>\n       <path d=\"M 0 0 \nL 0 3.5 \n\" id=\"m4441077316\" style=\"stroke:#000000;stroke-width:0.8;\"/>\n      </defs>\n      <g>\n       <use style=\"stroke:#000000;stroke-width:0.8;\" x=\"57.848837\" xlink:href=\"#m4441077316\" y=\"239.758125\"/>\n      </g>\n     </g>\n     <g id=\"text_1\">\n      <!-- 0.0 -->\n      <defs>\n       <path d=\"M 31.78125 66.40625 \nQ 24.171875 66.40625 20.328125 58.90625 \nQ 16.5 51.421875 16.5 36.375 \nQ 16.5 21.390625 20.328125 13.890625 \nQ 24.171875 6.390625 31.78125 6.390625 \nQ 39.453125 6.390625 43.28125 13.890625 \nQ 47.125 21.390625 47.125 36.375 \nQ 47.125 51.421875 43.28125 58.90625 \nQ 39.453125 66.40625 31.78125 66.40625 \nz\nM 31.78125 74.21875 \nQ 44.046875 74.21875 50.515625 64.515625 \nQ 56.984375 54.828125 56.984375 36.375 \nQ 56.984375 17.96875 50.515625 8.265625 \nQ 44.046875 -1.421875 31.78125 -1.421875 \nQ 19.53125 -1.421875 13.0625 8.265625 \nQ 6.59375 17.96875 6.59375 36.375 \nQ 6.59375 54.828125 13.0625 64.515625 \nQ 19.53125 74.21875 31.78125 74.21875 \nz\n\" id=\"DejaVuSans-48\"/>\n       <path d=\"M 10.6875 12.40625 \nL 21 12.40625 \nL 21 0 \nL 10.6875 0 \nz\n\" id=\"DejaVuSans-46\"/>\n      </defs>\n      <g transform=\"translate(49.897274 254.356562)scale(0.1 -0.1)\">\n       <use xlink:href=\"#DejaVuSans-48\"/>\n       <use x=\"63.623047\" xlink:href=\"#DejaVuSans-46\"/>\n       <use x=\"95.410156\" xlink:href=\"#DejaVuSans-48\"/>\n      </g>\n     </g>\n    </g>\n    <g id=\"xtick_2\">\n     <g id=\"line2d_2\">\n      <g>\n       <use style=\"stroke:#000000;stroke-width:0.8;\" x=\"112.378114\" xlink:href=\"#m4441077316\" y=\"239.758125\"/>\n      </g>\n     </g>\n     <g id=\"text_2\">\n      <!-- 0.2 -->\n      <defs>\n       <path d=\"M 19.1875 8.296875 \nL 53.609375 8.296875 \nL 53.609375 0 \nL 7.328125 0 \nL 7.328125 8.296875 \nQ 12.9375 14.109375 22.625 23.890625 \nQ 32.328125 33.6875 34.8125 36.53125 \nQ 39.546875 41.84375 41.421875 45.53125 \nQ 43.3125 49.21875 43.3125 52.78125 \nQ 43.3125 58.59375 39.234375 62.25 \nQ 35.15625 65.921875 28.609375 65.921875 \nQ 23.96875 65.921875 18.8125 64.3125 \nQ 13.671875 62.703125 7.8125 59.421875 \nL 7.8125 69.390625 \nQ 13.765625 71.78125 18.9375 73 \nQ 24.125 74.21875 28.421875 74.21875 \nQ 39.75 74.21875 46.484375 68.546875 \nQ 53.21875 62.890625 53.21875 53.421875 \nQ 53.21875 48.921875 51.53125 44.890625 \nQ 49.859375 40.875 45.40625 35.40625 \nQ 44.1875 33.984375 37.640625 27.21875 \nQ 31.109375 20.453125 19.1875 8.296875 \nz\n\" id=\"DejaVuSans-50\"/>\n      </defs>\n      <g transform=\"translate(104.426551 254.356562)scale(0.1 -0.1)\">\n       <use xlink:href=\"#DejaVuSans-48\"/>\n       <use x=\"63.623047\" xlink:href=\"#DejaVuSans-46\"/>\n       <use x=\"95.410156\" xlink:href=\"#DejaVuSans-50\"/>\n      </g>\n     </g>\n    </g>\n    <g id=\"xtick_3\">\n     <g id=\"line2d_3\">\n      <g>\n       <use style=\"stroke:#000000;stroke-width:0.8;\" x=\"166.90739\" xlink:href=\"#m4441077316\" y=\"239.758125\"/>\n      </g>\n     </g>\n     <g id=\"text_3\">\n      <!-- 0.4 -->\n      <defs>\n       <path d=\"M 37.796875 64.3125 \nL 12.890625 25.390625 \nL 37.796875 25.390625 \nz\nM 35.203125 72.90625 \nL 47.609375 72.90625 \nL 47.609375 25.390625 \nL 58.015625 25.390625 \nL 58.015625 17.1875 \nL 47.609375 17.1875 \nL 47.609375 0 \nL 37.796875 0 \nL 37.796875 17.1875 \nL 4.890625 17.1875 \nL 4.890625 26.703125 \nz\n\" id=\"DejaVuSans-52\"/>\n      </defs>\n      <g transform=\"translate(158.955828 254.356562)scale(0.1 -0.1)\">\n       <use xlink:href=\"#DejaVuSans-48\"/>\n       <use x=\"63.623047\" xlink:href=\"#DejaVuSans-46\"/>\n       <use x=\"95.410156\" xlink:href=\"#DejaVuSans-52\"/>\n      </g>\n     </g>\n    </g>\n    <g id=\"xtick_4\">\n     <g id=\"line2d_4\">\n      <g>\n       <use style=\"stroke:#000000;stroke-width:0.8;\" x=\"221.436667\" xlink:href=\"#m4441077316\" y=\"239.758125\"/>\n      </g>\n     </g>\n     <g id=\"text_4\">\n      <!-- 0.6 -->\n      <defs>\n       <path d=\"M 33.015625 40.375 \nQ 26.375 40.375 22.484375 35.828125 \nQ 18.609375 31.296875 18.609375 23.390625 \nQ 18.609375 15.53125 22.484375 10.953125 \nQ 26.375 6.390625 33.015625 6.390625 \nQ 39.65625 6.390625 43.53125 10.953125 \nQ 47.40625 15.53125 47.40625 23.390625 \nQ 47.40625 31.296875 43.53125 35.828125 \nQ 39.65625 40.375 33.015625 40.375 \nz\nM 52.59375 71.296875 \nL 52.59375 62.3125 \nQ 48.875 64.0625 45.09375 64.984375 \nQ 41.3125 65.921875 37.59375 65.921875 \nQ 27.828125 65.921875 22.671875 59.328125 \nQ 17.53125 52.734375 16.796875 39.40625 \nQ 19.671875 43.65625 24.015625 45.921875 \nQ 28.375 48.1875 33.59375 48.1875 \nQ 44.578125 48.1875 50.953125 41.515625 \nQ 57.328125 34.859375 57.328125 23.390625 \nQ 57.328125 12.15625 50.6875 5.359375 \nQ 44.046875 -1.421875 33.015625 -1.421875 \nQ 20.359375 -1.421875 13.671875 8.265625 \nQ 6.984375 17.96875 6.984375 36.375 \nQ 6.984375 53.65625 15.1875 63.9375 \nQ 23.390625 74.21875 37.203125 74.21875 \nQ 40.921875 74.21875 44.703125 73.484375 \nQ 48.484375 72.75 52.59375 71.296875 \nz\n\" id=\"DejaVuSans-54\"/>\n      </defs>\n      <g transform=\"translate(213.485104 254.356562)scale(0.1 -0.1)\">\n       <use xlink:href=\"#DejaVuSans-48\"/>\n       <use x=\"63.623047\" xlink:href=\"#DejaVuSans-46\"/>\n       <use x=\"95.410156\" xlink:href=\"#DejaVuSans-54\"/>\n      </g>\n     </g>\n    </g>\n    <g id=\"xtick_5\">\n     <g id=\"line2d_5\">\n      <g>\n       <use style=\"stroke:#000000;stroke-width:0.8;\" x=\"275.965943\" xlink:href=\"#m4441077316\" y=\"239.758125\"/>\n      </g>\n     </g>\n     <g id=\"text_5\">\n      <!-- 0.8 -->\n      <defs>\n       <path d=\"M 31.78125 34.625 \nQ 24.75 34.625 20.71875 30.859375 \nQ 16.703125 27.09375 16.703125 20.515625 \nQ 16.703125 13.921875 20.71875 10.15625 \nQ 24.75 6.390625 31.78125 6.390625 \nQ 38.8125 6.390625 42.859375 10.171875 \nQ 46.921875 13.96875 46.921875 20.515625 \nQ 46.921875 27.09375 42.890625 30.859375 \nQ 38.875 34.625 31.78125 34.625 \nz\nM 21.921875 38.8125 \nQ 15.578125 40.375 12.03125 44.71875 \nQ 8.5 49.078125 8.5 55.328125 \nQ 8.5 64.0625 14.71875 69.140625 \nQ 20.953125 74.21875 31.78125 74.21875 \nQ 42.671875 74.21875 48.875 69.140625 \nQ 55.078125 64.0625 55.078125 55.328125 \nQ 55.078125 49.078125 51.53125 44.71875 \nQ 48 40.375 41.703125 38.8125 \nQ 48.828125 37.15625 52.796875 32.3125 \nQ 56.78125 27.484375 56.78125 20.515625 \nQ 56.78125 9.90625 50.3125 4.234375 \nQ 43.84375 -1.421875 31.78125 -1.421875 \nQ 19.734375 -1.421875 13.25 4.234375 \nQ 6.78125 9.90625 6.78125 20.515625 \nQ 6.78125 27.484375 10.78125 32.3125 \nQ 14.796875 37.15625 21.921875 38.8125 \nz\nM 18.3125 54.390625 \nQ 18.3125 48.734375 21.84375 45.5625 \nQ 25.390625 42.390625 31.78125 42.390625 \nQ 38.140625 42.390625 41.71875 45.5625 \nQ 45.3125 48.734375 45.3125 54.390625 \nQ 45.3125 60.0625 41.71875 63.234375 \nQ 38.140625 66.40625 31.78125 66.40625 \nQ 25.390625 66.40625 21.84375 63.234375 \nQ 18.3125 60.0625 18.3125 54.390625 \nz\n\" id=\"DejaVuSans-56\"/>\n      </defs>\n      <g transform=\"translate(268.014381 254.356562)scale(0.1 -0.1)\">\n       <use xlink:href=\"#DejaVuSans-48\"/>\n       <use x=\"63.623047\" xlink:href=\"#DejaVuSans-46\"/>\n       <use x=\"95.410156\" xlink:href=\"#DejaVuSans-56\"/>\n      </g>\n     </g>\n    </g>\n    <g id=\"xtick_6\">\n     <g id=\"line2d_6\">\n      <g>\n       <use style=\"stroke:#000000;stroke-width:0.8;\" x=\"330.49522\" xlink:href=\"#m4441077316\" y=\"239.758125\"/>\n      </g>\n     </g>\n     <g id=\"text_6\">\n      <!-- 1.0 -->\n      <defs>\n       <path d=\"M 12.40625 8.296875 \nL 28.515625 8.296875 \nL 28.515625 63.921875 \nL 10.984375 60.40625 \nL 10.984375 69.390625 \nL 28.421875 72.90625 \nL 38.28125 72.90625 \nL 38.28125 8.296875 \nL 54.390625 8.296875 \nL 54.390625 0 \nL 12.40625 0 \nz\n\" id=\"DejaVuSans-49\"/>\n      </defs>\n      <g transform=\"translate(322.543657 254.356562)scale(0.1 -0.1)\">\n       <use xlink:href=\"#DejaVuSans-49\"/>\n       <use x=\"63.623047\" xlink:href=\"#DejaVuSans-46\"/>\n       <use x=\"95.410156\" xlink:href=\"#DejaVuSans-48\"/>\n      </g>\n     </g>\n    </g>\n    <g id=\"text_7\">\n     <!-- 1e6 -->\n     <defs>\n      <path d=\"M 56.203125 29.59375 \nL 56.203125 25.203125 \nL 14.890625 25.203125 \nQ 15.484375 15.921875 20.484375 11.0625 \nQ 25.484375 6.203125 34.421875 6.203125 \nQ 39.59375 6.203125 44.453125 7.46875 \nQ 49.3125 8.734375 54.109375 11.28125 \nL 54.109375 2.78125 \nQ 49.265625 0.734375 44.1875 -0.34375 \nQ 39.109375 -1.421875 33.890625 -1.421875 \nQ 20.796875 -1.421875 13.15625 6.1875 \nQ 5.515625 13.8125 5.515625 26.8125 \nQ 5.515625 40.234375 12.765625 48.109375 \nQ 20.015625 56 32.328125 56 \nQ 43.359375 56 49.78125 48.890625 \nQ 56.203125 41.796875 56.203125 29.59375 \nz\nM 47.21875 32.234375 \nQ 47.125 39.59375 43.09375 43.984375 \nQ 39.0625 48.390625 32.421875 48.390625 \nQ 24.90625 48.390625 20.390625 44.140625 \nQ 15.875 39.890625 15.1875 32.171875 \nz\n\" id=\"DejaVuSans-101\"/>\n     </defs>\n     <g transform=\"translate(316.18364 267.034687)scale(0.1 -0.1)\">\n      <use xlink:href=\"#DejaVuSans-49\"/>\n      <use x=\"63.623047\" xlink:href=\"#DejaVuSans-101\"/>\n      <use x=\"125.146484\" xlink:href=\"#DejaVuSans-54\"/>\n     </g>\n    </g>\n   </g>\n   <g id=\"matplotlib.axis_2\">\n    <g id=\"ytick_1\">\n     <g id=\"line2d_7\">\n      <defs>\n       <path d=\"M 0 0 \nL -3.5 0 \n\" id=\"m611e31fded\" style=\"stroke:#000000;stroke-width:0.8;\"/>\n      </defs>\n      <g>\n       <use style=\"stroke:#000000;stroke-width:0.8;\" x=\"39.65\" xlink:href=\"#m611e31fded\" y=\"239.758125\"/>\n      </g>\n     </g>\n     <g id=\"text_8\">\n      <!-- 0 -->\n      <g transform=\"translate(26.2875 243.557344)scale(0.1 -0.1)\">\n       <use xlink:href=\"#DejaVuSans-48\"/>\n      </g>\n     </g>\n    </g>\n    <g id=\"ytick_2\">\n     <g id=\"line2d_8\">\n      <g>\n       <use style=\"stroke:#000000;stroke-width:0.8;\" x=\"39.65\" xlink:href=\"#m611e31fded\" y=\"213.904727\"/>\n      </g>\n     </g>\n     <g id=\"text_9\">\n      <!-- 200 -->\n      <g transform=\"translate(13.5625 217.703946)scale(0.1 -0.1)\">\n       <use xlink:href=\"#DejaVuSans-50\"/>\n       <use x=\"63.623047\" xlink:href=\"#DejaVuSans-48\"/>\n       <use x=\"127.246094\" xlink:href=\"#DejaVuSans-48\"/>\n      </g>\n     </g>\n    </g>\n    <g id=\"ytick_3\">\n     <g id=\"line2d_9\">\n      <g>\n       <use style=\"stroke:#000000;stroke-width:0.8;\" x=\"39.65\" xlink:href=\"#m611e31fded\" y=\"188.05133\"/>\n      </g>\n     </g>\n     <g id=\"text_10\">\n      <!-- 400 -->\n      <g transform=\"translate(13.5625 191.850549)scale(0.1 -0.1)\">\n       <use xlink:href=\"#DejaVuSans-52\"/>\n       <use x=\"63.623047\" xlink:href=\"#DejaVuSans-48\"/>\n       <use x=\"127.246094\" xlink:href=\"#DejaVuSans-48\"/>\n      </g>\n     </g>\n    </g>\n    <g id=\"ytick_4\">\n     <g id=\"line2d_10\">\n      <g>\n       <use style=\"stroke:#000000;stroke-width:0.8;\" x=\"39.65\" xlink:href=\"#m611e31fded\" y=\"162.197932\"/>\n      </g>\n     </g>\n     <g id=\"text_11\">\n      <!-- 600 -->\n      <g transform=\"translate(13.5625 165.997151)scale(0.1 -0.1)\">\n       <use xlink:href=\"#DejaVuSans-54\"/>\n       <use x=\"63.623047\" xlink:href=\"#DejaVuSans-48\"/>\n       <use x=\"127.246094\" xlink:href=\"#DejaVuSans-48\"/>\n      </g>\n     </g>\n    </g>\n    <g id=\"ytick_5\">\n     <g id=\"line2d_11\">\n      <g>\n       <use style=\"stroke:#000000;stroke-width:0.8;\" x=\"39.65\" xlink:href=\"#m611e31fded\" y=\"136.344535\"/>\n      </g>\n     </g>\n     <g id=\"text_12\">\n      <!-- 800 -->\n      <g transform=\"translate(13.5625 140.143754)scale(0.1 -0.1)\">\n       <use xlink:href=\"#DejaVuSans-56\"/>\n       <use x=\"63.623047\" xlink:href=\"#DejaVuSans-48\"/>\n       <use x=\"127.246094\" xlink:href=\"#DejaVuSans-48\"/>\n      </g>\n     </g>\n    </g>\n    <g id=\"ytick_6\">\n     <g id=\"line2d_12\">\n      <g>\n       <use style=\"stroke:#000000;stroke-width:0.8;\" x=\"39.65\" xlink:href=\"#m611e31fded\" y=\"110.491137\"/>\n      </g>\n     </g>\n     <g id=\"text_13\">\n      <!-- 1000 -->\n      <g transform=\"translate(7.2 114.290356)scale(0.1 -0.1)\">\n       <use xlink:href=\"#DejaVuSans-49\"/>\n       <use x=\"63.623047\" xlink:href=\"#DejaVuSans-48\"/>\n       <use x=\"127.246094\" xlink:href=\"#DejaVuSans-48\"/>\n       <use x=\"190.869141\" xlink:href=\"#DejaVuSans-48\"/>\n      </g>\n     </g>\n    </g>\n    <g id=\"ytick_7\">\n     <g id=\"line2d_13\">\n      <g>\n       <use style=\"stroke:#000000;stroke-width:0.8;\" x=\"39.65\" xlink:href=\"#m611e31fded\" y=\"84.63774\"/>\n      </g>\n     </g>\n     <g id=\"text_14\">\n      <!-- 1200 -->\n      <g transform=\"translate(7.2 88.436959)scale(0.1 -0.1)\">\n       <use xlink:href=\"#DejaVuSans-49\"/>\n       <use x=\"63.623047\" xlink:href=\"#DejaVuSans-50\"/>\n       <use x=\"127.246094\" xlink:href=\"#DejaVuSans-48\"/>\n       <use x=\"190.869141\" xlink:href=\"#DejaVuSans-48\"/>\n      </g>\n     </g>\n    </g>\n    <g id=\"ytick_8\">\n     <g id=\"line2d_14\">\n      <g>\n       <use style=\"stroke:#000000;stroke-width:0.8;\" x=\"39.65\" xlink:href=\"#m611e31fded\" y=\"58.784342\"/>\n      </g>\n     </g>\n     <g id=\"text_15\">\n      <!-- 1400 -->\n      <g transform=\"translate(7.2 62.583561)scale(0.1 -0.1)\">\n       <use xlink:href=\"#DejaVuSans-49\"/>\n       <use x=\"63.623047\" xlink:href=\"#DejaVuSans-52\"/>\n       <use x=\"127.246094\" xlink:href=\"#DejaVuSans-48\"/>\n       <use x=\"190.869141\" xlink:href=\"#DejaVuSans-48\"/>\n      </g>\n     </g>\n    </g>\n    <g id=\"ytick_9\">\n     <g id=\"line2d_15\">\n      <g>\n       <use style=\"stroke:#000000;stroke-width:0.8;\" x=\"39.65\" xlink:href=\"#m611e31fded\" y=\"32.930945\"/>\n      </g>\n     </g>\n     <g id=\"text_16\">\n      <!-- 1600 -->\n      <g transform=\"translate(7.2 36.730163)scale(0.1 -0.1)\">\n       <use xlink:href=\"#DejaVuSans-49\"/>\n       <use x=\"63.623047\" xlink:href=\"#DejaVuSans-54\"/>\n       <use x=\"127.246094\" xlink:href=\"#DejaVuSans-48\"/>\n       <use x=\"190.869141\" xlink:href=\"#DejaVuSans-48\"/>\n      </g>\n     </g>\n    </g>\n   </g>\n   <g id=\"patch_23\">\n    <path d=\"M 39.65 239.758125 \nL 39.65 22.318125 \n\" style=\"fill:none;stroke:#000000;stroke-linecap:square;stroke-linejoin:miter;stroke-width:0.8;\"/>\n   </g>\n   <g id=\"patch_24\">\n    <path d=\"M 335.061765 239.758125 \nL 335.061765 22.318125 \n\" style=\"fill:none;stroke:#000000;stroke-linecap:square;stroke-linejoin:miter;stroke-width:0.8;\"/>\n   </g>\n   <g id=\"patch_25\">\n    <path d=\"M 39.65 239.758125 \nL 335.061765 239.758125 \n\" style=\"fill:none;stroke:#000000;stroke-linecap:square;stroke-linejoin:miter;stroke-width:0.8;\"/>\n   </g>\n   <g id=\"patch_26\">\n    <path d=\"M 39.65 22.318125 \nL 335.061765 22.318125 \n\" style=\"fill:none;stroke:#000000;stroke-linecap:square;stroke-linejoin:miter;stroke-width:0.8;\"/>\n   </g>\n   <g id=\"text_17\">\n    <!-- mileage -->\n    <defs>\n     <path d=\"M 52 44.1875 \nQ 55.375 50.25 60.0625 53.125 \nQ 64.75 56 71.09375 56 \nQ 79.640625 56 84.28125 50.015625 \nQ 88.921875 44.046875 88.921875 33.015625 \nL 88.921875 0 \nL 79.890625 0 \nL 79.890625 32.71875 \nQ 79.890625 40.578125 77.09375 44.375 \nQ 74.3125 48.1875 68.609375 48.1875 \nQ 61.625 48.1875 57.5625 43.546875 \nQ 53.515625 38.921875 53.515625 30.90625 \nL 53.515625 0 \nL 44.484375 0 \nL 44.484375 32.71875 \nQ 44.484375 40.625 41.703125 44.40625 \nQ 38.921875 48.1875 33.109375 48.1875 \nQ 26.21875 48.1875 22.15625 43.53125 \nQ 18.109375 38.875 18.109375 30.90625 \nL 18.109375 0 \nL 9.078125 0 \nL 9.078125 54.6875 \nL 18.109375 54.6875 \nL 18.109375 46.1875 \nQ 21.1875 51.21875 25.484375 53.609375 \nQ 29.78125 56 35.6875 56 \nQ 41.65625 56 45.828125 52.96875 \nQ 50 49.953125 52 44.1875 \nz\n\" id=\"DejaVuSans-109\"/>\n     <path d=\"M 9.421875 54.6875 \nL 18.40625 54.6875 \nL 18.40625 0 \nL 9.421875 0 \nz\nM 9.421875 75.984375 \nL 18.40625 75.984375 \nL 18.40625 64.59375 \nL 9.421875 64.59375 \nz\n\" id=\"DejaVuSans-105\"/>\n     <path d=\"M 9.421875 75.984375 \nL 18.40625 75.984375 \nL 18.40625 0 \nL 9.421875 0 \nz\n\" id=\"DejaVuSans-108\"/>\n     <path d=\"M 34.28125 27.484375 \nQ 23.390625 27.484375 19.1875 25 \nQ 14.984375 22.515625 14.984375 16.5 \nQ 14.984375 11.71875 18.140625 8.90625 \nQ 21.296875 6.109375 26.703125 6.109375 \nQ 34.1875 6.109375 38.703125 11.40625 \nQ 43.21875 16.703125 43.21875 25.484375 \nL 43.21875 27.484375 \nz\nM 52.203125 31.203125 \nL 52.203125 0 \nL 43.21875 0 \nL 43.21875 8.296875 \nQ 40.140625 3.328125 35.546875 0.953125 \nQ 30.953125 -1.421875 24.3125 -1.421875 \nQ 15.921875 -1.421875 10.953125 3.296875 \nQ 6 8.015625 6 15.921875 \nQ 6 25.140625 12.171875 29.828125 \nQ 18.359375 34.515625 30.609375 34.515625 \nL 43.21875 34.515625 \nL 43.21875 35.40625 \nQ 43.21875 41.609375 39.140625 45 \nQ 35.0625 48.390625 27.6875 48.390625 \nQ 23 48.390625 18.546875 47.265625 \nQ 14.109375 46.140625 10.015625 43.890625 \nL 10.015625 52.203125 \nQ 14.9375 54.109375 19.578125 55.046875 \nQ 24.21875 56 28.609375 56 \nQ 40.484375 56 46.34375 49.84375 \nQ 52.203125 43.703125 52.203125 31.203125 \nz\n\" id=\"DejaVuSans-97\"/>\n     <path d=\"M 45.40625 27.984375 \nQ 45.40625 37.75 41.375 43.109375 \nQ 37.359375 48.484375 30.078125 48.484375 \nQ 22.859375 48.484375 18.828125 43.109375 \nQ 14.796875 37.75 14.796875 27.984375 \nQ 14.796875 18.265625 18.828125 12.890625 \nQ 22.859375 7.515625 30.078125 7.515625 \nQ 37.359375 7.515625 41.375 12.890625 \nQ 45.40625 18.265625 45.40625 27.984375 \nz\nM 54.390625 6.78125 \nQ 54.390625 -7.171875 48.1875 -13.984375 \nQ 42 -20.796875 29.203125 -20.796875 \nQ 24.46875 -20.796875 20.265625 -20.09375 \nQ 16.0625 -19.390625 12.109375 -17.921875 \nL 12.109375 -9.1875 \nQ 16.0625 -11.328125 19.921875 -12.34375 \nQ 23.78125 -13.375 27.78125 -13.375 \nQ 36.625 -13.375 41.015625 -8.765625 \nQ 45.40625 -4.15625 45.40625 5.171875 \nL 45.40625 9.625 \nQ 42.625 4.78125 38.28125 2.390625 \nQ 33.9375 0 27.875 0 \nQ 17.828125 0 11.671875 7.65625 \nQ 5.515625 15.328125 5.515625 27.984375 \nQ 5.515625 40.671875 11.671875 48.328125 \nQ 17.828125 56 27.875 56 \nQ 33.9375 56 38.28125 53.609375 \nQ 42.625 51.21875 45.40625 46.390625 \nL 45.40625 54.6875 \nL 54.390625 54.6875 \nz\n\" id=\"DejaVuSans-103\"/>\n    </defs>\n    <g transform=\"translate(163.30807 16.318125)scale(0.12 -0.12)\">\n     <use xlink:href=\"#DejaVuSans-109\"/>\n     <use x=\"97.412109\" xlink:href=\"#DejaVuSans-105\"/>\n     <use x=\"125.195312\" xlink:href=\"#DejaVuSans-108\"/>\n     <use x=\"152.978516\" xlink:href=\"#DejaVuSans-101\"/>\n     <use x=\"214.501953\" xlink:href=\"#DejaVuSans-97\"/>\n     <use x=\"275.78125\" xlink:href=\"#DejaVuSans-103\"/>\n     <use x=\"339.257812\" xlink:href=\"#DejaVuSans-101\"/>\n    </g>\n   </g>\n  </g>\n  <g id=\"axes_2\">\n   <g id=\"patch_27\">\n    <path d=\"M 394.144118 239.758125 \nL 689.555882 239.758125 \nL 689.555882 22.318125 \nL 394.144118 22.318125 \nz\n\" style=\"fill:#ffffff;\"/>\n   </g>\n   <g id=\"patch_28\">\n    <path clip-path=\"url(#p42b51aa323)\" d=\"M 407.571925 239.758125 \nL 417.114529 239.758125 \nL 417.114529 239.123866 \nL 407.571925 239.123866 \nz\n\" style=\"fill:#1f77b4;\"/>\n   </g>\n   <g id=\"patch_29\">\n    <path clip-path=\"url(#p42b51aa323)\" d=\"M 421.204217 239.758125 \nL 430.746821 239.758125 \nL 430.746821 239.28243 \nL 421.204217 239.28243 \nz\n\" style=\"fill:#1f77b4;\"/>\n   </g>\n   <g id=\"patch_30\">\n    <path clip-path=\"url(#p42b51aa323)\" d=\"M 434.836509 239.758125 \nL 444.379113 239.758125 \nL 444.379113 239.440995 \nL 434.836509 239.440995 \nz\n\" style=\"fill:#1f77b4;\"/>\n   </g>\n   <g id=\"patch_31\">\n    <path clip-path=\"url(#p42b51aa323)\" d=\"M 448.468801 239.758125 \nL 458.011405 239.758125 \nL 458.011405 238.965301 \nL 448.468801 238.965301 \nz\n\" style=\"fill:#1f77b4;\"/>\n   </g>\n   <g id=\"patch_32\">\n    <path clip-path=\"url(#p42b51aa323)\" d=\"M 462.101093 239.758125 \nL 471.643697 239.758125 \nL 471.643697 238.489606 \nL 462.101093 238.489606 \nz\n\" style=\"fill:#1f77b4;\"/>\n   </g>\n   <g id=\"patch_33\">\n    <path clip-path=\"url(#p42b51aa323)\" d=\"M 475.733384 239.758125 \nL 485.275989 239.758125 \nL 485.275989 237.696782 \nL 475.733384 237.696782 \nz\n\" style=\"fill:#1f77b4;\"/>\n   </g>\n   <g id=\"patch_34\">\n    <path clip-path=\"url(#p42b51aa323)\" d=\"M 489.365676 239.758125 \nL 498.908281 239.758125 \nL 498.908281 233.256966 \nL 489.365676 233.256966 \nz\n\" style=\"fill:#1f77b4;\"/>\n   </g>\n   <g id=\"patch_35\">\n    <path clip-path=\"url(#p42b51aa323)\" d=\"M 502.997968 239.758125 \nL 512.540572 239.758125 \nL 512.540572 237.221087 \nL 502.997968 237.221087 \nz\n\" style=\"fill:#1f77b4;\"/>\n   </g>\n   <g id=\"patch_36\">\n    <path clip-path=\"url(#p42b51aa323)\" d=\"M 516.63026 239.758125 \nL 526.172864 239.758125 \nL 526.172864 236.111133 \nL 516.63026 236.111133 \nz\n\" style=\"fill:#1f77b4;\"/>\n   </g>\n   <g id=\"patch_37\">\n    <path clip-path=\"url(#p42b51aa323)\" d=\"M 530.262552 239.758125 \nL 539.805156 239.758125 \nL 539.805156 235.318309 \nL 530.262552 235.318309 \nz\n\" style=\"fill:#1f77b4;\"/>\n   </g>\n   <g id=\"patch_38\">\n    <path clip-path=\"url(#p42b51aa323)\" d=\"M 543.894844 239.758125 \nL 553.437448 239.758125 \nL 553.437448 223.743074 \nL 543.894844 223.743074 \nz\n\" style=\"fill:#1f77b4;\"/>\n   </g>\n   <g id=\"patch_39\">\n    <path clip-path=\"url(#p42b51aa323)\" d=\"M 557.527136 239.758125 \nL 567.06974 239.758125 \nL 567.06974 220.413211 \nL 557.527136 220.413211 \nz\n\" style=\"fill:#1f77b4;\"/>\n   </g>\n   <g id=\"patch_40\">\n    <path clip-path=\"url(#p42b51aa323)\" d=\"M 571.159428 239.758125 \nL 580.702032 239.758125 \nL 580.702032 204.39816 \nL 571.159428 204.39816 \nz\n\" style=\"fill:#1f77b4;\"/>\n   </g>\n   <g id=\"patch_41\">\n    <path clip-path=\"url(#p42b51aa323)\" d=\"M 584.791719 239.758125 \nL 594.334324 239.758125 \nL 594.334324 165.232638 \nL 584.791719 165.232638 \nz\n\" style=\"fill:#1f77b4;\"/>\n   </g>\n   <g id=\"patch_42\">\n    <path clip-path=\"url(#p42b51aa323)\" d=\"M 598.424011 239.758125 \nL 607.966616 239.758125 \nL 607.966616 127.969895 \nL 598.424011 127.969895 \nz\n\" style=\"fill:#1f77b4;\"/>\n   </g>\n   <g id=\"patch_43\">\n    <path clip-path=\"url(#p42b51aa323)\" d=\"M 612.056303 239.758125 \nL 621.598907 239.758125 \nL 621.598907 32.672411 \nL 612.056303 32.672411 \nz\n\" style=\"fill:#1f77b4;\"/>\n   </g>\n   <g id=\"patch_44\">\n    <path clip-path=\"url(#p42b51aa323)\" d=\"M 625.688595 239.758125 \nL 635.231199 239.758125 \nL 635.231199 65.971032 \nL 625.688595 65.971032 \nz\n\" style=\"fill:#1f77b4;\"/>\n   </g>\n   <g id=\"patch_45\">\n    <path clip-path=\"url(#p42b51aa323)\" d=\"M 639.320887 239.758125 \nL 648.863491 239.758125 \nL 648.863491 63.909689 \nL 639.320887 63.909689 \nz\n\" style=\"fill:#1f77b4;\"/>\n   </g>\n   <g id=\"patch_46\">\n    <path clip-path=\"url(#p42b51aa323)\" d=\"M 652.953179 239.758125 \nL 662.495783 239.758125 \nL 662.495783 94.988403 \nL 652.953179 94.988403 \nz\n\" style=\"fill:#1f77b4;\"/>\n   </g>\n   <g id=\"patch_47\">\n    <path clip-path=\"url(#p42b51aa323)\" d=\"M 666.585471 239.758125 \nL 676.128075 239.758125 \nL 676.128075 161.427081 \nL 666.585471 161.427081 \nz\n\" style=\"fill:#1f77b4;\"/>\n   </g>\n   <g id=\"matplotlib.axis_3\">\n    <g id=\"xtick_7\">\n     <g id=\"line2d_16\">\n      <g>\n       <use style=\"stroke:#000000;stroke-width:0.8;\" x=\"443.325709\" xlink:href=\"#m4441077316\" y=\"239.758125\"/>\n      </g>\n     </g>\n     <g id=\"text_18\">\n      <!-- 1980 -->\n      <defs>\n       <path d=\"M 10.984375 1.515625 \nL 10.984375 10.5 \nQ 14.703125 8.734375 18.5 7.8125 \nQ 22.3125 6.890625 25.984375 6.890625 \nQ 35.75 6.890625 40.890625 13.453125 \nQ 46.046875 20.015625 46.78125 33.40625 \nQ 43.953125 29.203125 39.59375 26.953125 \nQ 35.25 24.703125 29.984375 24.703125 \nQ 19.046875 24.703125 12.671875 31.3125 \nQ 6.296875 37.9375 6.296875 49.421875 \nQ 6.296875 60.640625 12.9375 67.421875 \nQ 19.578125 74.21875 30.609375 74.21875 \nQ 43.265625 74.21875 49.921875 64.515625 \nQ 56.59375 54.828125 56.59375 36.375 \nQ 56.59375 19.140625 48.40625 8.859375 \nQ 40.234375 -1.421875 26.421875 -1.421875 \nQ 22.703125 -1.421875 18.890625 -0.6875 \nQ 15.09375 0.046875 10.984375 1.515625 \nz\nM 30.609375 32.421875 \nQ 37.25 32.421875 41.125 36.953125 \nQ 45.015625 41.5 45.015625 49.421875 \nQ 45.015625 57.28125 41.125 61.84375 \nQ 37.25 66.40625 30.609375 66.40625 \nQ 23.96875 66.40625 20.09375 61.84375 \nQ 16.21875 57.28125 16.21875 49.421875 \nQ 16.21875 41.5 20.09375 36.953125 \nQ 23.96875 32.421875 30.609375 32.421875 \nz\n\" id=\"DejaVuSans-57\"/>\n      </defs>\n      <g transform=\"translate(430.600709 254.356562)scale(0.1 -0.1)\">\n       <use xlink:href=\"#DejaVuSans-49\"/>\n       <use x=\"63.623047\" xlink:href=\"#DejaVuSans-57\"/>\n       <use x=\"127.246094\" xlink:href=\"#DejaVuSans-56\"/>\n       <use x=\"190.869141\" xlink:href=\"#DejaVuSans-48\"/>\n      </g>\n     </g>\n    </g>\n    <g id=\"xtick_8\">\n     <g id=\"line2d_17\">\n      <g>\n       <use style=\"stroke:#000000;stroke-width:0.8;\" x=\"505.290672\" xlink:href=\"#m4441077316\" y=\"239.758125\"/>\n      </g>\n     </g>\n     <g id=\"text_19\">\n      <!-- 1990 -->\n      <g transform=\"translate(492.565672 254.356562)scale(0.1 -0.1)\">\n       <use xlink:href=\"#DejaVuSans-49\"/>\n       <use x=\"63.623047\" xlink:href=\"#DejaVuSans-57\"/>\n       <use x=\"127.246094\" xlink:href=\"#DejaVuSans-57\"/>\n       <use x=\"190.869141\" xlink:href=\"#DejaVuSans-48\"/>\n      </g>\n     </g>\n    </g>\n    <g id=\"xtick_9\">\n     <g id=\"line2d_18\">\n      <g>\n       <use style=\"stroke:#000000;stroke-width:0.8;\" x=\"567.255635\" xlink:href=\"#m4441077316\" y=\"239.758125\"/>\n      </g>\n     </g>\n     <g id=\"text_20\">\n      <!-- 2000 -->\n      <g transform=\"translate(554.530635 254.356562)scale(0.1 -0.1)\">\n       <use xlink:href=\"#DejaVuSans-50\"/>\n       <use x=\"63.623047\" xlink:href=\"#DejaVuSans-48\"/>\n       <use x=\"127.246094\" xlink:href=\"#DejaVuSans-48\"/>\n       <use x=\"190.869141\" xlink:href=\"#DejaVuSans-48\"/>\n      </g>\n     </g>\n    </g>\n    <g id=\"xtick_10\">\n     <g id=\"line2d_19\">\n      <g>\n       <use style=\"stroke:#000000;stroke-width:0.8;\" x=\"629.220598\" xlink:href=\"#m4441077316\" y=\"239.758125\"/>\n      </g>\n     </g>\n     <g id=\"text_21\">\n      <!-- 2010 -->\n      <g transform=\"translate(616.495598 254.356562)scale(0.1 -0.1)\">\n       <use xlink:href=\"#DejaVuSans-50\"/>\n       <use x=\"63.623047\" xlink:href=\"#DejaVuSans-48\"/>\n       <use x=\"127.246094\" xlink:href=\"#DejaVuSans-49\"/>\n       <use x=\"190.869141\" xlink:href=\"#DejaVuSans-48\"/>\n      </g>\n     </g>\n    </g>\n   </g>\n   <g id=\"matplotlib.axis_4\">\n    <g id=\"ytick_10\">\n     <g id=\"line2d_20\">\n      <g>\n       <use style=\"stroke:#000000;stroke-width:0.8;\" x=\"394.144118\" xlink:href=\"#m611e31fded\" y=\"239.758125\"/>\n      </g>\n     </g>\n     <g id=\"text_22\">\n      <!-- 0 -->\n      <g transform=\"translate(380.781618 243.557344)scale(0.1 -0.1)\">\n       <use xlink:href=\"#DejaVuSans-48\"/>\n      </g>\n     </g>\n    </g>\n    <g id=\"ytick_11\">\n     <g id=\"line2d_21\">\n      <g>\n       <use style=\"stroke:#000000;stroke-width:0.8;\" x=\"394.144118\" xlink:href=\"#m611e31fded\" y=\"208.045152\"/>\n      </g>\n     </g>\n     <g id=\"text_23\">\n      <!-- 200 -->\n      <g transform=\"translate(368.056618 211.844371)scale(0.1 -0.1)\">\n       <use xlink:href=\"#DejaVuSans-50\"/>\n       <use x=\"63.623047\" xlink:href=\"#DejaVuSans-48\"/>\n       <use x=\"127.246094\" xlink:href=\"#DejaVuSans-48\"/>\n      </g>\n     </g>\n    </g>\n    <g id=\"ytick_12\">\n     <g id=\"line2d_22\">\n      <g>\n       <use style=\"stroke:#000000;stroke-width:0.8;\" x=\"394.144118\" xlink:href=\"#m611e31fded\" y=\"176.332179\"/>\n      </g>\n     </g>\n     <g id=\"text_24\">\n      <!-- 400 -->\n      <g transform=\"translate(368.056618 180.131398)scale(0.1 -0.1)\">\n       <use xlink:href=\"#DejaVuSans-52\"/>\n       <use x=\"63.623047\" xlink:href=\"#DejaVuSans-48\"/>\n       <use x=\"127.246094\" xlink:href=\"#DejaVuSans-48\"/>\n      </g>\n     </g>\n    </g>\n    <g id=\"ytick_13\">\n     <g id=\"line2d_23\">\n      <g>\n       <use style=\"stroke:#000000;stroke-width:0.8;\" x=\"394.144118\" xlink:href=\"#m611e31fded\" y=\"144.619206\"/>\n      </g>\n     </g>\n     <g id=\"text_25\">\n      <!-- 600 -->\n      <g transform=\"translate(368.056618 148.418424)scale(0.1 -0.1)\">\n       <use xlink:href=\"#DejaVuSans-54\"/>\n       <use x=\"63.623047\" xlink:href=\"#DejaVuSans-48\"/>\n       <use x=\"127.246094\" xlink:href=\"#DejaVuSans-48\"/>\n      </g>\n     </g>\n    </g>\n    <g id=\"ytick_14\">\n     <g id=\"line2d_24\">\n      <g>\n       <use style=\"stroke:#000000;stroke-width:0.8;\" x=\"394.144118\" xlink:href=\"#m611e31fded\" y=\"112.906233\"/>\n      </g>\n     </g>\n     <g id=\"text_26\">\n      <!-- 800 -->\n      <g transform=\"translate(368.056618 116.705451)scale(0.1 -0.1)\">\n       <use xlink:href=\"#DejaVuSans-56\"/>\n       <use x=\"63.623047\" xlink:href=\"#DejaVuSans-48\"/>\n       <use x=\"127.246094\" xlink:href=\"#DejaVuSans-48\"/>\n      </g>\n     </g>\n    </g>\n    <g id=\"ytick_15\">\n     <g id=\"line2d_25\">\n      <g>\n       <use style=\"stroke:#000000;stroke-width:0.8;\" x=\"394.144118\" xlink:href=\"#m611e31fded\" y=\"81.19326\"/>\n      </g>\n     </g>\n     <g id=\"text_27\">\n      <!-- 1000 -->\n      <g transform=\"translate(361.694118 84.992478)scale(0.1 -0.1)\">\n       <use xlink:href=\"#DejaVuSans-49\"/>\n       <use x=\"63.623047\" xlink:href=\"#DejaVuSans-48\"/>\n       <use x=\"127.246094\" xlink:href=\"#DejaVuSans-48\"/>\n       <use x=\"190.869141\" xlink:href=\"#DejaVuSans-48\"/>\n      </g>\n     </g>\n    </g>\n    <g id=\"ytick_16\">\n     <g id=\"line2d_26\">\n      <g>\n       <use style=\"stroke:#000000;stroke-width:0.8;\" x=\"394.144118\" xlink:href=\"#m611e31fded\" y=\"49.480286\"/>\n      </g>\n     </g>\n     <g id=\"text_28\">\n      <!-- 1200 -->\n      <g transform=\"translate(361.694118 53.279505)scale(0.1 -0.1)\">\n       <use xlink:href=\"#DejaVuSans-49\"/>\n       <use x=\"63.623047\" xlink:href=\"#DejaVuSans-50\"/>\n       <use x=\"127.246094\" xlink:href=\"#DejaVuSans-48\"/>\n       <use x=\"190.869141\" xlink:href=\"#DejaVuSans-48\"/>\n      </g>\n     </g>\n    </g>\n   </g>\n   <g id=\"patch_48\">\n    <path d=\"M 394.144118 239.758125 \nL 394.144118 22.318125 \n\" style=\"fill:none;stroke:#000000;stroke-linecap:square;stroke-linejoin:miter;stroke-width:0.8;\"/>\n   </g>\n   <g id=\"patch_49\">\n    <path d=\"M 689.555882 239.758125 \nL 689.555882 22.318125 \n\" style=\"fill:none;stroke:#000000;stroke-linecap:square;stroke-linejoin:miter;stroke-width:0.8;\"/>\n   </g>\n   <g id=\"patch_50\">\n    <path d=\"M 394.144118 239.758125 \nL 689.555882 239.758125 \n\" style=\"fill:none;stroke:#000000;stroke-linecap:square;stroke-linejoin:miter;stroke-width:0.8;\"/>\n   </g>\n   <g id=\"patch_51\">\n    <path d=\"M 394.144118 22.318125 \nL 689.555882 22.318125 \n\" style=\"fill:none;stroke:#000000;stroke-linecap:square;stroke-linejoin:miter;stroke-width:0.8;\"/>\n   </g>\n   <g id=\"text_29\">\n    <!-- modelDate -->\n    <defs>\n     <path d=\"M 30.609375 48.390625 \nQ 23.390625 48.390625 19.1875 42.75 \nQ 14.984375 37.109375 14.984375 27.296875 \nQ 14.984375 17.484375 19.15625 11.84375 \nQ 23.34375 6.203125 30.609375 6.203125 \nQ 37.796875 6.203125 41.984375 11.859375 \nQ 46.1875 17.53125 46.1875 27.296875 \nQ 46.1875 37.015625 41.984375 42.703125 \nQ 37.796875 48.390625 30.609375 48.390625 \nz\nM 30.609375 56 \nQ 42.328125 56 49.015625 48.375 \nQ 55.71875 40.765625 55.71875 27.296875 \nQ 55.71875 13.875 49.015625 6.21875 \nQ 42.328125 -1.421875 30.609375 -1.421875 \nQ 18.84375 -1.421875 12.171875 6.21875 \nQ 5.515625 13.875 5.515625 27.296875 \nQ 5.515625 40.765625 12.171875 48.375 \nQ 18.84375 56 30.609375 56 \nz\n\" id=\"DejaVuSans-111\"/>\n     <path d=\"M 45.40625 46.390625 \nL 45.40625 75.984375 \nL 54.390625 75.984375 \nL 54.390625 0 \nL 45.40625 0 \nL 45.40625 8.203125 \nQ 42.578125 3.328125 38.25 0.953125 \nQ 33.9375 -1.421875 27.875 -1.421875 \nQ 17.96875 -1.421875 11.734375 6.484375 \nQ 5.515625 14.40625 5.515625 27.296875 \nQ 5.515625 40.1875 11.734375 48.09375 \nQ 17.96875 56 27.875 56 \nQ 33.9375 56 38.25 53.625 \nQ 42.578125 51.265625 45.40625 46.390625 \nz\nM 14.796875 27.296875 \nQ 14.796875 17.390625 18.875 11.75 \nQ 22.953125 6.109375 30.078125 6.109375 \nQ 37.203125 6.109375 41.296875 11.75 \nQ 45.40625 17.390625 45.40625 27.296875 \nQ 45.40625 37.203125 41.296875 42.84375 \nQ 37.203125 48.484375 30.078125 48.484375 \nQ 22.953125 48.484375 18.875 42.84375 \nQ 14.796875 37.203125 14.796875 27.296875 \nz\n\" id=\"DejaVuSans-100\"/>\n     <path d=\"M 19.671875 64.796875 \nL 19.671875 8.109375 \nL 31.59375 8.109375 \nQ 46.6875 8.109375 53.6875 14.9375 \nQ 60.6875 21.78125 60.6875 36.53125 \nQ 60.6875 51.171875 53.6875 57.984375 \nQ 46.6875 64.796875 31.59375 64.796875 \nz\nM 9.8125 72.90625 \nL 30.078125 72.90625 \nQ 51.265625 72.90625 61.171875 64.09375 \nQ 71.09375 55.28125 71.09375 36.53125 \nQ 71.09375 17.671875 61.125 8.828125 \nQ 51.171875 0 30.078125 0 \nL 9.8125 0 \nz\n\" id=\"DejaVuSans-68\"/>\n     <path d=\"M 18.3125 70.21875 \nL 18.3125 54.6875 \nL 36.8125 54.6875 \nL 36.8125 47.703125 \nL 18.3125 47.703125 \nL 18.3125 18.015625 \nQ 18.3125 11.328125 20.140625 9.421875 \nQ 21.96875 7.515625 27.59375 7.515625 \nL 36.8125 7.515625 \nL 36.8125 0 \nL 27.59375 0 \nQ 17.1875 0 13.234375 3.875 \nQ 9.28125 7.765625 9.28125 18.015625 \nL 9.28125 47.703125 \nL 2.6875 47.703125 \nL 2.6875 54.6875 \nL 9.28125 54.6875 \nL 9.28125 70.21875 \nz\n\" id=\"DejaVuSans-116\"/>\n    </defs>\n    <g transform=\"translate(508.825625 16.318125)scale(0.12 -0.12)\">\n     <use xlink:href=\"#DejaVuSans-109\"/>\n     <use x=\"97.412109\" xlink:href=\"#DejaVuSans-111\"/>\n     <use x=\"158.59375\" xlink:href=\"#DejaVuSans-100\"/>\n     <use x=\"222.070312\" xlink:href=\"#DejaVuSans-101\"/>\n     <use x=\"283.59375\" xlink:href=\"#DejaVuSans-108\"/>\n     <use x=\"311.376953\" xlink:href=\"#DejaVuSans-68\"/>\n     <use x=\"388.378906\" xlink:href=\"#DejaVuSans-97\"/>\n     <use x=\"449.658203\" xlink:href=\"#DejaVuSans-116\"/>\n     <use x=\"488.867188\" xlink:href=\"#DejaVuSans-101\"/>\n    </g>\n   </g>\n  </g>\n  <g id=\"axes_3\">\n   <g id=\"patch_52\">\n    <path d=\"M 748.638235 239.758125 \nL 1044.05 239.758125 \nL 1044.05 22.318125 \nL 748.638235 22.318125 \nz\n\" style=\"fill:#ffffff;\"/>\n   </g>\n   <g id=\"patch_53\">\n    <path clip-path=\"url(#pddc4f97e4f)\" d=\"M 762.066043 239.758125 \nL 771.608647 239.758125 \nL 771.608647 239.057327 \nL 762.066043 239.057327 \nz\n\" style=\"fill:#1f77b4;\"/>\n   </g>\n   <g id=\"patch_54\">\n    <path clip-path=\"url(#pddc4f97e4f)\" d=\"M 775.698335 239.758125 \nL 785.240939 239.758125 \nL 785.240939 238.882128 \nL 775.698335 238.882128 \nz\n\" style=\"fill:#1f77b4;\"/>\n   </g>\n   <g id=\"patch_55\">\n    <path clip-path=\"url(#pddc4f97e4f)\" d=\"M 789.330627 239.758125 \nL 798.873231 239.758125 \nL 798.873231 239.057327 \nL 789.330627 239.057327 \nz\n\" style=\"fill:#1f77b4;\"/>\n   </g>\n   <g id=\"patch_56\">\n    <path clip-path=\"url(#pddc4f97e4f)\" d=\"M 802.962918 239.758125 \nL 812.505523 239.758125 \nL 812.505523 238.882128 \nL 802.962918 238.882128 \nz\n\" style=\"fill:#1f77b4;\"/>\n   </g>\n   <g id=\"patch_57\">\n    <path clip-path=\"url(#pddc4f97e4f)\" d=\"M 816.59521 239.758125 \nL 826.137815 239.758125 \nL 826.137815 238.706928 \nL 816.59521 238.706928 \nz\n\" style=\"fill:#1f77b4;\"/>\n   </g>\n   <g id=\"patch_58\">\n    <path clip-path=\"url(#pddc4f97e4f)\" d=\"M 830.227502 239.758125 \nL 839.770106 239.758125 \nL 839.770106 236.779735 \nL 830.227502 236.779735 \nz\n\" style=\"fill:#1f77b4;\"/>\n   </g>\n   <g id=\"patch_59\">\n    <path clip-path=\"url(#pddc4f97e4f)\" d=\"M 843.859794 239.758125 \nL 853.402398 239.758125 \nL 853.402398 235.728538 \nL 843.859794 235.728538 \nz\n\" style=\"fill:#1f77b4;\"/>\n   </g>\n   <g id=\"patch_60\">\n    <path clip-path=\"url(#pddc4f97e4f)\" d=\"M 857.492086 239.758125 \nL 867.03469 239.758125 \nL 867.03469 235.553339 \nL 857.492086 235.553339 \nz\n\" style=\"fill:#1f77b4;\"/>\n   </g>\n   <g id=\"patch_61\">\n    <path clip-path=\"url(#pddc4f97e4f)\" d=\"M 871.124378 239.758125 \nL 880.666982 239.758125 \nL 880.666982 230.998154 \nL 871.124378 230.998154 \nz\n\" style=\"fill:#1f77b4;\"/>\n   </g>\n   <g id=\"patch_62\">\n    <path clip-path=\"url(#pddc4f97e4f)\" d=\"M 884.75667 239.758125 \nL 894.299274 239.758125 \nL 894.299274 233.801345 \nL 884.75667 233.801345 \nz\n\" style=\"fill:#1f77b4;\"/>\n   </g>\n   <g id=\"patch_63\">\n    <path clip-path=\"url(#pddc4f97e4f)\" d=\"M 898.388961 239.758125 \nL 907.931566 239.758125 \nL 907.931566 219.434992 \nL 898.388961 219.434992 \nz\n\" style=\"fill:#1f77b4;\"/>\n   </g>\n   <g id=\"patch_64\">\n    <path clip-path=\"url(#pddc4f97e4f)\" d=\"M 912.021253 239.758125 \nL 921.563858 239.758125 \nL 921.563858 203.842244 \nL 912.021253 203.842244 \nz\n\" style=\"fill:#1f77b4;\"/>\n   </g>\n   <g id=\"patch_65\">\n    <path clip-path=\"url(#pddc4f97e4f)\" d=\"M 925.653545 239.758125 \nL 935.196149 239.758125 \nL 935.196149 188.775094 \nL 925.653545 188.775094 \nz\n\" style=\"fill:#1f77b4;\"/>\n   </g>\n   <g id=\"patch_66\">\n    <path clip-path=\"url(#pddc4f97e4f)\" d=\"M 939.285837 239.758125 \nL 948.828441 239.758125 \nL 948.828441 118.870525 \nL 939.285837 118.870525 \nz\n\" style=\"fill:#1f77b4;\"/>\n   </g>\n   <g id=\"patch_67\">\n    <path clip-path=\"url(#pddc4f97e4f)\" d=\"M 952.918129 239.758125 \nL 962.460733 239.758125 \nL 962.460733 124.652106 \nL 952.918129 124.652106 \nz\n\" style=\"fill:#1f77b4;\"/>\n   </g>\n   <g id=\"patch_68\">\n    <path clip-path=\"url(#pddc4f97e4f)\" d=\"M 966.550421 239.758125 \nL 976.093025 239.758125 \nL 976.093025 47.038763 \nL 966.550421 47.038763 \nz\n\" style=\"fill:#1f77b4;\"/>\n   </g>\n   <g id=\"patch_69\">\n    <path clip-path=\"url(#pddc4f97e4f)\" d=\"M 980.182713 239.758125 \nL 989.725317 239.758125 \nL 989.725317 32.672411 \nL 980.182713 32.672411 \nz\n\" style=\"fill:#1f77b4;\"/>\n   </g>\n   <g id=\"patch_70\">\n    <path clip-path=\"url(#pddc4f97e4f)\" d=\"M 993.815004 239.758125 \nL 1003.357609 239.758125 \nL 1003.357609 70.515485 \nL 993.815004 70.515485 \nz\n\" style=\"fill:#1f77b4;\"/>\n   </g>\n   <g id=\"patch_71\">\n    <path clip-path=\"url(#pddc4f97e4f)\" d=\"M 1007.447296 239.758125 \nL 1016.989901 239.758125 \nL 1016.989901 89.437023 \nL 1007.447296 89.437023 \nz\n\" style=\"fill:#1f77b4;\"/>\n   </g>\n   <g id=\"patch_72\">\n    <path clip-path=\"url(#pddc4f97e4f)\" d=\"M 1021.079588 239.758125 \nL 1030.622193 239.758125 \nL 1030.622193 161.794383 \nL 1021.079588 161.794383 \nz\n\" style=\"fill:#1f77b4;\"/>\n   </g>\n   <g id=\"matplotlib.axis_5\">\n    <g id=\"xtick_11\">\n     <g id=\"line2d_27\">\n      <g>\n       <use style=\"stroke:#000000;stroke-width:0.8;\" x=\"752.487564\" xlink:href=\"#m4441077316\" y=\"239.758125\"/>\n      </g>\n     </g>\n     <g id=\"text_30\">\n      <!-- 1980 -->\n      <g transform=\"translate(739.762564 254.356562)scale(0.1 -0.1)\">\n       <use xlink:href=\"#DejaVuSans-49\"/>\n       <use x=\"63.623047\" xlink:href=\"#DejaVuSans-57\"/>\n       <use x=\"127.246094\" xlink:href=\"#DejaVuSans-56\"/>\n       <use x=\"190.869141\" xlink:href=\"#DejaVuSans-48\"/>\n      </g>\n     </g>\n    </g>\n    <g id=\"xtick_12\">\n     <g id=\"line2d_28\">\n      <g>\n       <use style=\"stroke:#000000;stroke-width:0.8;\" x=\"788.362016\" xlink:href=\"#m4441077316\" y=\"239.758125\"/>\n      </g>\n     </g>\n     <g id=\"text_31\">\n      <!-- 1985 -->\n      <defs>\n       <path d=\"M 10.796875 72.90625 \nL 49.515625 72.90625 \nL 49.515625 64.59375 \nL 19.828125 64.59375 \nL 19.828125 46.734375 \nQ 21.96875 47.46875 24.109375 47.828125 \nQ 26.265625 48.1875 28.421875 48.1875 \nQ 40.625 48.1875 47.75 41.5 \nQ 54.890625 34.8125 54.890625 23.390625 \nQ 54.890625 11.625 47.5625 5.09375 \nQ 40.234375 -1.421875 26.90625 -1.421875 \nQ 22.3125 -1.421875 17.546875 -0.640625 \nQ 12.796875 0.140625 7.71875 1.703125 \nL 7.71875 11.625 \nQ 12.109375 9.234375 16.796875 8.0625 \nQ 21.484375 6.890625 26.703125 6.890625 \nQ 35.15625 6.890625 40.078125 11.328125 \nQ 45.015625 15.765625 45.015625 23.390625 \nQ 45.015625 31 40.078125 35.4375 \nQ 35.15625 39.890625 26.703125 39.890625 \nQ 22.75 39.890625 18.8125 39.015625 \nQ 14.890625 38.140625 10.796875 36.28125 \nz\n\" id=\"DejaVuSans-53\"/>\n      </defs>\n      <g transform=\"translate(775.637016 254.356562)scale(0.1 -0.1)\">\n       <use xlink:href=\"#DejaVuSans-49\"/>\n       <use x=\"63.623047\" xlink:href=\"#DejaVuSans-57\"/>\n       <use x=\"127.246094\" xlink:href=\"#DejaVuSans-56\"/>\n       <use x=\"190.869141\" xlink:href=\"#DejaVuSans-53\"/>\n      </g>\n     </g>\n    </g>\n    <g id=\"xtick_13\">\n     <g id=\"line2d_29\">\n      <g>\n       <use style=\"stroke:#000000;stroke-width:0.8;\" x=\"824.236469\" xlink:href=\"#m4441077316\" y=\"239.758125\"/>\n      </g>\n     </g>\n     <g id=\"text_32\">\n      <!-- 1990 -->\n      <g transform=\"translate(811.511469 254.356562)scale(0.1 -0.1)\">\n       <use xlink:href=\"#DejaVuSans-49\"/>\n       <use x=\"63.623047\" xlink:href=\"#DejaVuSans-57\"/>\n       <use x=\"127.246094\" xlink:href=\"#DejaVuSans-57\"/>\n       <use x=\"190.869141\" xlink:href=\"#DejaVuSans-48\"/>\n      </g>\n     </g>\n    </g>\n    <g id=\"xtick_14\">\n     <g id=\"line2d_30\">\n      <g>\n       <use style=\"stroke:#000000;stroke-width:0.8;\" x=\"860.110921\" xlink:href=\"#m4441077316\" y=\"239.758125\"/>\n      </g>\n     </g>\n     <g id=\"text_33\">\n      <!-- 1995 -->\n      <g transform=\"translate(847.385921 254.356562)scale(0.1 -0.1)\">\n       <use xlink:href=\"#DejaVuSans-49\"/>\n       <use x=\"63.623047\" xlink:href=\"#DejaVuSans-57\"/>\n       <use x=\"127.246094\" xlink:href=\"#DejaVuSans-57\"/>\n       <use x=\"190.869141\" xlink:href=\"#DejaVuSans-53\"/>\n      </g>\n     </g>\n    </g>\n    <g id=\"xtick_15\">\n     <g id=\"line2d_31\">\n      <g>\n       <use style=\"stroke:#000000;stroke-width:0.8;\" x=\"895.985373\" xlink:href=\"#m4441077316\" y=\"239.758125\"/>\n      </g>\n     </g>\n     <g id=\"text_34\">\n      <!-- 2000 -->\n      <g transform=\"translate(883.260373 254.356562)scale(0.1 -0.1)\">\n       <use xlink:href=\"#DejaVuSans-50\"/>\n       <use x=\"63.623047\" xlink:href=\"#DejaVuSans-48\"/>\n       <use x=\"127.246094\" xlink:href=\"#DejaVuSans-48\"/>\n       <use x=\"190.869141\" xlink:href=\"#DejaVuSans-48\"/>\n      </g>\n     </g>\n    </g>\n    <g id=\"xtick_16\">\n     <g id=\"line2d_32\">\n      <g>\n       <use style=\"stroke:#000000;stroke-width:0.8;\" x=\"931.859825\" xlink:href=\"#m4441077316\" y=\"239.758125\"/>\n      </g>\n     </g>\n     <g id=\"text_35\">\n      <!-- 2005 -->\n      <g transform=\"translate(919.134825 254.356562)scale(0.1 -0.1)\">\n       <use xlink:href=\"#DejaVuSans-50\"/>\n       <use x=\"63.623047\" xlink:href=\"#DejaVuSans-48\"/>\n       <use x=\"127.246094\" xlink:href=\"#DejaVuSans-48\"/>\n       <use x=\"190.869141\" xlink:href=\"#DejaVuSans-53\"/>\n      </g>\n     </g>\n    </g>\n    <g id=\"xtick_17\">\n     <g id=\"line2d_33\">\n      <g>\n       <use style=\"stroke:#000000;stroke-width:0.8;\" x=\"967.734278\" xlink:href=\"#m4441077316\" y=\"239.758125\"/>\n      </g>\n     </g>\n     <g id=\"text_36\">\n      <!-- 2010 -->\n      <g transform=\"translate(955.009278 254.356562)scale(0.1 -0.1)\">\n       <use xlink:href=\"#DejaVuSans-50\"/>\n       <use x=\"63.623047\" xlink:href=\"#DejaVuSans-48\"/>\n       <use x=\"127.246094\" xlink:href=\"#DejaVuSans-49\"/>\n       <use x=\"190.869141\" xlink:href=\"#DejaVuSans-48\"/>\n      </g>\n     </g>\n    </g>\n    <g id=\"xtick_18\">\n     <g id=\"line2d_34\">\n      <g>\n       <use style=\"stroke:#000000;stroke-width:0.8;\" x=\"1003.60873\" xlink:href=\"#m4441077316\" y=\"239.758125\"/>\n      </g>\n     </g>\n     <g id=\"text_37\">\n      <!-- 2015 -->\n      <g transform=\"translate(990.88373 254.356562)scale(0.1 -0.1)\">\n       <use xlink:href=\"#DejaVuSans-50\"/>\n       <use x=\"63.623047\" xlink:href=\"#DejaVuSans-48\"/>\n       <use x=\"127.246094\" xlink:href=\"#DejaVuSans-49\"/>\n       <use x=\"190.869141\" xlink:href=\"#DejaVuSans-53\"/>\n      </g>\n     </g>\n    </g>\n    <g id=\"xtick_19\">\n     <g id=\"line2d_35\">\n      <g>\n       <use style=\"stroke:#000000;stroke-width:0.8;\" x=\"1039.483182\" xlink:href=\"#m4441077316\" y=\"239.758125\"/>\n      </g>\n     </g>\n     <g id=\"text_38\">\n      <!-- 2020 -->\n      <g transform=\"translate(1026.758182 254.356562)scale(0.1 -0.1)\">\n       <use xlink:href=\"#DejaVuSans-50\"/>\n       <use x=\"63.623047\" xlink:href=\"#DejaVuSans-48\"/>\n       <use x=\"127.246094\" xlink:href=\"#DejaVuSans-50\"/>\n       <use x=\"190.869141\" xlink:href=\"#DejaVuSans-48\"/>\n      </g>\n     </g>\n    </g>\n   </g>\n   <g id=\"matplotlib.axis_6\">\n    <g id=\"ytick_17\">\n     <g id=\"line2d_36\">\n      <g>\n       <use style=\"stroke:#000000;stroke-width:0.8;\" x=\"748.638235\" xlink:href=\"#m611e31fded\" y=\"239.758125\"/>\n      </g>\n     </g>\n     <g id=\"text_39\">\n      <!-- 0 -->\n      <g transform=\"translate(735.275735 243.557344)scale(0.1 -0.1)\">\n       <use xlink:href=\"#DejaVuSans-48\"/>\n      </g>\n     </g>\n    </g>\n    <g id=\"ytick_18\">\n     <g id=\"line2d_37\">\n      <g>\n       <use style=\"stroke:#000000;stroke-width:0.8;\" x=\"748.638235\" xlink:href=\"#m611e31fded\" y=\"204.718241\"/>\n      </g>\n     </g>\n     <g id=\"text_40\">\n      <!-- 200 -->\n      <g transform=\"translate(722.550735 208.51746)scale(0.1 -0.1)\">\n       <use xlink:href=\"#DejaVuSans-50\"/>\n       <use x=\"63.623047\" xlink:href=\"#DejaVuSans-48\"/>\n       <use x=\"127.246094\" xlink:href=\"#DejaVuSans-48\"/>\n      </g>\n     </g>\n    </g>\n    <g id=\"ytick_19\">\n     <g id=\"line2d_38\">\n      <g>\n       <use style=\"stroke:#000000;stroke-width:0.8;\" x=\"748.638235\" xlink:href=\"#m611e31fded\" y=\"169.678357\"/>\n      </g>\n     </g>\n     <g id=\"text_41\">\n      <!-- 400 -->\n      <g transform=\"translate(722.550735 173.477576)scale(0.1 -0.1)\">\n       <use xlink:href=\"#DejaVuSans-52\"/>\n       <use x=\"63.623047\" xlink:href=\"#DejaVuSans-48\"/>\n       <use x=\"127.246094\" xlink:href=\"#DejaVuSans-48\"/>\n      </g>\n     </g>\n    </g>\n    <g id=\"ytick_20\">\n     <g id=\"line2d_39\">\n      <g>\n       <use style=\"stroke:#000000;stroke-width:0.8;\" x=\"748.638235\" xlink:href=\"#m611e31fded\" y=\"134.638473\"/>\n      </g>\n     </g>\n     <g id=\"text_42\">\n      <!-- 600 -->\n      <g transform=\"translate(722.550735 138.437692)scale(0.1 -0.1)\">\n       <use xlink:href=\"#DejaVuSans-54\"/>\n       <use x=\"63.623047\" xlink:href=\"#DejaVuSans-48\"/>\n       <use x=\"127.246094\" xlink:href=\"#DejaVuSans-48\"/>\n      </g>\n     </g>\n    </g>\n    <g id=\"ytick_21\">\n     <g id=\"line2d_40\">\n      <g>\n       <use style=\"stroke:#000000;stroke-width:0.8;\" x=\"748.638235\" xlink:href=\"#m611e31fded\" y=\"99.598589\"/>\n      </g>\n     </g>\n     <g id=\"text_43\">\n      <!-- 800 -->\n      <g transform=\"translate(722.550735 103.397808)scale(0.1 -0.1)\">\n       <use xlink:href=\"#DejaVuSans-56\"/>\n       <use x=\"63.623047\" xlink:href=\"#DejaVuSans-48\"/>\n       <use x=\"127.246094\" xlink:href=\"#DejaVuSans-48\"/>\n      </g>\n     </g>\n    </g>\n    <g id=\"ytick_22\">\n     <g id=\"line2d_41\">\n      <g>\n       <use style=\"stroke:#000000;stroke-width:0.8;\" x=\"748.638235\" xlink:href=\"#m611e31fded\" y=\"64.558705\"/>\n      </g>\n     </g>\n     <g id=\"text_44\">\n      <!-- 1000 -->\n      <g transform=\"translate(716.188235 68.357924)scale(0.1 -0.1)\">\n       <use xlink:href=\"#DejaVuSans-49\"/>\n       <use x=\"63.623047\" xlink:href=\"#DejaVuSans-48\"/>\n       <use x=\"127.246094\" xlink:href=\"#DejaVuSans-48\"/>\n       <use x=\"190.869141\" xlink:href=\"#DejaVuSans-48\"/>\n      </g>\n     </g>\n    </g>\n    <g id=\"ytick_23\">\n     <g id=\"line2d_42\">\n      <g>\n       <use style=\"stroke:#000000;stroke-width:0.8;\" x=\"748.638235\" xlink:href=\"#m611e31fded\" y=\"29.518821\"/>\n      </g>\n     </g>\n     <g id=\"text_45\">\n      <!-- 1200 -->\n      <g transform=\"translate(716.188235 33.31804)scale(0.1 -0.1)\">\n       <use xlink:href=\"#DejaVuSans-49\"/>\n       <use x=\"63.623047\" xlink:href=\"#DejaVuSans-50\"/>\n       <use x=\"127.246094\" xlink:href=\"#DejaVuSans-48\"/>\n       <use x=\"190.869141\" xlink:href=\"#DejaVuSans-48\"/>\n      </g>\n     </g>\n    </g>\n   </g>\n   <g id=\"patch_73\">\n    <path d=\"M 748.638235 239.758125 \nL 748.638235 22.318125 \n\" style=\"fill:none;stroke:#000000;stroke-linecap:square;stroke-linejoin:miter;stroke-width:0.8;\"/>\n   </g>\n   <g id=\"patch_74\">\n    <path d=\"M 1044.05 239.758125 \nL 1044.05 22.318125 \n\" style=\"fill:none;stroke:#000000;stroke-linecap:square;stroke-linejoin:miter;stroke-width:0.8;\"/>\n   </g>\n   <g id=\"patch_75\">\n    <path d=\"M 748.638235 239.758125 \nL 1044.05 239.758125 \n\" style=\"fill:none;stroke:#000000;stroke-linecap:square;stroke-linejoin:miter;stroke-width:0.8;\"/>\n   </g>\n   <g id=\"patch_76\">\n    <path d=\"M 748.638235 22.318125 \nL 1044.05 22.318125 \n\" style=\"fill:none;stroke:#000000;stroke-linecap:square;stroke-linejoin:miter;stroke-width:0.8;\"/>\n   </g>\n   <g id=\"text_46\">\n    <!-- productionDate -->\n    <defs>\n     <path d=\"M 18.109375 8.203125 \nL 18.109375 -20.796875 \nL 9.078125 -20.796875 \nL 9.078125 54.6875 \nL 18.109375 54.6875 \nL 18.109375 46.390625 \nQ 20.953125 51.265625 25.265625 53.625 \nQ 29.59375 56 35.59375 56 \nQ 45.5625 56 51.78125 48.09375 \nQ 58.015625 40.1875 58.015625 27.296875 \nQ 58.015625 14.40625 51.78125 6.484375 \nQ 45.5625 -1.421875 35.59375 -1.421875 \nQ 29.59375 -1.421875 25.265625 0.953125 \nQ 20.953125 3.328125 18.109375 8.203125 \nz\nM 48.6875 27.296875 \nQ 48.6875 37.203125 44.609375 42.84375 \nQ 40.53125 48.484375 33.40625 48.484375 \nQ 26.265625 48.484375 22.1875 42.84375 \nQ 18.109375 37.203125 18.109375 27.296875 \nQ 18.109375 17.390625 22.1875 11.75 \nQ 26.265625 6.109375 33.40625 6.109375 \nQ 40.53125 6.109375 44.609375 11.75 \nQ 48.6875 17.390625 48.6875 27.296875 \nz\n\" id=\"DejaVuSans-112\"/>\n     <path d=\"M 41.109375 46.296875 \nQ 39.59375 47.171875 37.8125 47.578125 \nQ 36.03125 48 33.890625 48 \nQ 26.265625 48 22.1875 43.046875 \nQ 18.109375 38.09375 18.109375 28.8125 \nL 18.109375 0 \nL 9.078125 0 \nL 9.078125 54.6875 \nL 18.109375 54.6875 \nL 18.109375 46.1875 \nQ 20.953125 51.171875 25.484375 53.578125 \nQ 30.03125 56 36.53125 56 \nQ 37.453125 56 38.578125 55.875 \nQ 39.703125 55.765625 41.0625 55.515625 \nz\n\" id=\"DejaVuSans-114\"/>\n     <path d=\"M 8.5 21.578125 \nL 8.5 54.6875 \nL 17.484375 54.6875 \nL 17.484375 21.921875 \nQ 17.484375 14.15625 20.5 10.265625 \nQ 23.53125 6.390625 29.59375 6.390625 \nQ 36.859375 6.390625 41.078125 11.03125 \nQ 45.3125 15.671875 45.3125 23.6875 \nL 45.3125 54.6875 \nL 54.296875 54.6875 \nL 54.296875 0 \nL 45.3125 0 \nL 45.3125 8.40625 \nQ 42.046875 3.421875 37.71875 1 \nQ 33.40625 -1.421875 27.6875 -1.421875 \nQ 18.265625 -1.421875 13.375 4.4375 \nQ 8.5 10.296875 8.5 21.578125 \nz\nM 31.109375 56 \nz\n\" id=\"DejaVuSans-117\"/>\n     <path d=\"M 48.78125 52.59375 \nL 48.78125 44.1875 \nQ 44.96875 46.296875 41.140625 47.34375 \nQ 37.3125 48.390625 33.40625 48.390625 \nQ 24.65625 48.390625 19.8125 42.84375 \nQ 14.984375 37.3125 14.984375 27.296875 \nQ 14.984375 17.28125 19.8125 11.734375 \nQ 24.65625 6.203125 33.40625 6.203125 \nQ 37.3125 6.203125 41.140625 7.25 \nQ 44.96875 8.296875 48.78125 10.40625 \nL 48.78125 2.09375 \nQ 45.015625 0.34375 40.984375 -0.53125 \nQ 36.96875 -1.421875 32.421875 -1.421875 \nQ 20.0625 -1.421875 12.78125 6.34375 \nQ 5.515625 14.109375 5.515625 27.296875 \nQ 5.515625 40.671875 12.859375 48.328125 \nQ 20.21875 56 33.015625 56 \nQ 37.15625 56 41.109375 55.140625 \nQ 45.0625 54.296875 48.78125 52.59375 \nz\n\" id=\"DejaVuSans-99\"/>\n     <path d=\"M 54.890625 33.015625 \nL 54.890625 0 \nL 45.90625 0 \nL 45.90625 32.71875 \nQ 45.90625 40.484375 42.875 44.328125 \nQ 39.84375 48.1875 33.796875 48.1875 \nQ 26.515625 48.1875 22.3125 43.546875 \nQ 18.109375 38.921875 18.109375 30.90625 \nL 18.109375 0 \nL 9.078125 0 \nL 9.078125 54.6875 \nL 18.109375 54.6875 \nL 18.109375 46.1875 \nQ 21.34375 51.125 25.703125 53.5625 \nQ 30.078125 56 35.796875 56 \nQ 45.21875 56 50.046875 50.171875 \nQ 54.890625 44.34375 54.890625 33.015625 \nz\n\" id=\"DejaVuSans-110\"/>\n    </defs>\n    <g transform=\"translate(849.787868 16.318125)scale(0.12 -0.12)\">\n     <use xlink:href=\"#DejaVuSans-112\"/>\n     <use x=\"63.476562\" xlink:href=\"#DejaVuSans-114\"/>\n     <use x=\"102.339844\" xlink:href=\"#DejaVuSans-111\"/>\n     <use x=\"163.521484\" xlink:href=\"#DejaVuSans-100\"/>\n     <use x=\"226.998047\" xlink:href=\"#DejaVuSans-117\"/>\n     <use x=\"290.376953\" xlink:href=\"#DejaVuSans-99\"/>\n     <use x=\"345.357422\" xlink:href=\"#DejaVuSans-116\"/>\n     <use x=\"384.566406\" xlink:href=\"#DejaVuSans-105\"/>\n     <use x=\"412.349609\" xlink:href=\"#DejaVuSans-111\"/>\n     <use x=\"473.53125\" xlink:href=\"#DejaVuSans-110\"/>\n     <use x=\"536.910156\" xlink:href=\"#DejaVuSans-68\"/>\n     <use x=\"613.912109\" xlink:href=\"#DejaVuSans-97\"/>\n     <use x=\"675.191406\" xlink:href=\"#DejaVuSans-116\"/>\n     <use x=\"714.400391\" xlink:href=\"#DejaVuSans-101\"/>\n    </g>\n   </g>\n  </g>\n </g>\n <defs>\n  <clipPath id=\"p30af234a0d\">\n   <rect height=\"217.44\" width=\"295.411765\" x=\"39.65\" y=\"22.318125\"/>\n  </clipPath>\n  <clipPath id=\"p42b51aa323\">\n   <rect height=\"217.44\" width=\"295.411765\" x=\"394.144118\" y=\"22.318125\"/>\n  </clipPath>\n  <clipPath id=\"pddc4f97e4f\">\n   <rect height=\"217.44\" width=\"295.411765\" x=\"748.638235\" y=\"22.318125\"/>\n  </clipPath>\n </defs>\n</svg>\n"
          },
          "metadata": {
            "needs_background": "light"
          }
        }
      ]
    },
    {
      "cell_type": "markdown",
      "source": [
        "Итого:\n",
        "* CatBoost сможет работать с признаками и в таком виде, но для нейросети нужны нормированные данные."
      ],
      "metadata": {
        "id": "nBob9dqksrSL"
      }
    },
    {
      "cell_type": "markdown",
      "source": [
        "## 3.1. Предобработка табличных данных"
      ],
      "metadata": {
        "id": "qbYOlchKsrSL"
      }
    },
    {
      "cell_type": "markdown",
      "source": [
        "Объединим тестовый и обучающий фреймы в один:"
      ],
      "metadata": {
        "id": "gn4OkwCcsrSL"
      }
    },
    {
      "cell_type": "code",
      "source": [
        "# Для корректной обработки признаков объединяем трейн и тест в один датасет\n",
        "train['sample'] = 1  # трейн\n",
        "test['sample'] = 0  # тест\n",
        "test['price'] = 0  # в тесте нет значения price,  заполняем нулями\n",
        "\n",
        "data = test.append(train, sort=False).reset_index(drop=True)  # объединяем\n",
        "print(train.shape, test.shape, data.shape)"
      ],
      "metadata": {
        "execution": {
          "iopub.status.busy": "2022-05-16T10:03:45.829860Z",
          "iopub.status.idle": "2022-05-16T10:03:45.830286Z"
        },
        "trusted": true,
        "colab": {
          "base_uri": "https://localhost:8080/"
        },
        "id": "FosDaR2isrSM",
        "outputId": "3b1d4fdb-291c-40ae-efa4-abd2b2b1f20e"
      },
      "execution_count": 120,
      "outputs": [
        {
          "output_type": "stream",
          "name": "stdout",
          "text": [
            "(6682, 23) (1671, 23) (8353, 23)\n"
          ]
        }
      ]
    },
    {
      "cell_type": "markdown",
      "source": [
        "Теперь приступим к предобработке"
      ],
      "metadata": {
        "id": "Lp0i_-uBsrSM"
      }
    },
    {
      "cell_type": "markdown",
      "source": [
        "### 3.1.1. bodyType"
      ],
      "metadata": {
        "id": "FGR6AG7hsrSM"
      }
    },
    {
      "cell_type": "markdown",
      "source": [
        "Данный столбец отражает тип кузова автомобиля. Посмотрим на количество вариантов:"
      ],
      "metadata": {
        "id": "CDkzEVAWsrSM"
      }
    },
    {
      "cell_type": "code",
      "source": [
        "data.bodyType.unique()"
      ],
      "metadata": {
        "execution": {
          "iopub.status.busy": "2022-05-16T10:03:45.831395Z",
          "iopub.status.idle": "2022-05-16T10:03:45.831912Z"
        },
        "trusted": true,
        "id": "pj1XOkknsrSN"
      },
      "execution_count": null,
      "outputs": []
    },
    {
      "cell_type": "markdown",
      "source": [
        "Проведем обработку данных:"
      ],
      "metadata": {
        "id": "dnatq_4NsrSN"
      }
    },
    {
      "cell_type": "code",
      "source": [
        "# Выбираем первое слово для описания типа кузова\n",
        "data['bodyType'] = data['bodyType'].astype(\n",
        "    str).apply(lambda x: None if x.strip() == '' else x)\n",
        "# Понижаем регистр первого слова\n",
        "data['bodyType'] = data.bodyType.apply(lambda x: x.split(' ')[0].lower())"
      ],
      "metadata": {
        "execution": {
          "iopub.status.busy": "2022-05-16T10:03:45.832929Z",
          "iopub.status.idle": "2022-05-16T10:03:45.833360Z"
        },
        "trusted": true,
        "id": "RuFvViCHsrSP"
      },
      "execution_count": null,
      "outputs": []
    },
    {
      "cell_type": "markdown",
      "source": [
        "Посмотрим количество уникальных значений:"
      ],
      "metadata": {
        "id": "wefhWPTFsrSQ"
      }
    },
    {
      "cell_type": "code",
      "source": [
        "train.bodyType.unique()"
      ],
      "metadata": {
        "execution": {
          "iopub.status.busy": "2022-05-16T10:03:45.834431Z",
          "iopub.status.idle": "2022-05-16T10:03:45.834922Z"
        },
        "trusted": true,
        "id": "CBSKSi8XsrSR"
      },
      "execution_count": null,
      "outputs": []
    },
    {
      "cell_type": "markdown",
      "source": [
        "Проверим распределение значений по типу кузова:"
      ],
      "metadata": {
        "id": "rDU8mebRsrSR"
      }
    },
    {
      "cell_type": "code",
      "source": [
        "data.bodyType.value_counts().plot.barh()"
      ],
      "metadata": {
        "execution": {
          "iopub.status.busy": "2022-05-16T10:03:45.835864Z",
          "iopub.status.idle": "2022-05-16T10:03:45.836324Z"
        },
        "trusted": true,
        "id": "IQ7mHBiDsrSS"
      },
      "execution_count": null,
      "outputs": []
    },
    {
      "cell_type": "markdown",
      "source": [
        "В дальнейшем признак отнесем к категориальным."
      ],
      "metadata": {
        "id": "tTdyDPD1srSS"
      }
    },
    {
      "cell_type": "markdown",
      "source": [
        "### 3.1.2. brand"
      ],
      "metadata": {
        "id": "LTqzYcQHsrST"
      }
    },
    {
      "cell_type": "markdown",
      "source": [
        "Данный столбец отражает название фирмы-производителя автомобиля. Проверим уникальные значения:"
      ],
      "metadata": {
        "id": "mI3FWVLCsrST"
      }
    },
    {
      "cell_type": "code",
      "source": [
        "data.brand.unique()"
      ],
      "metadata": {
        "execution": {
          "iopub.status.busy": "2022-05-16T10:03:45.837139Z",
          "iopub.status.idle": "2022-05-16T10:03:45.837647Z"
        },
        "trusted": true,
        "id": "fo0QsSlJsrST"
      },
      "execution_count": null,
      "outputs": []
    },
    {
      "cell_type": "markdown",
      "source": [
        "Как мы видим, уникальных значений мало, можно оставить без изменений. Посмотрим распределение значений:"
      ],
      "metadata": {
        "id": "5CBSXaKcsrSU"
      }
    },
    {
      "cell_type": "code",
      "source": [
        "data.brand.value_counts().plot.barh()"
      ],
      "metadata": {
        "execution": {
          "iopub.status.busy": "2022-05-16T10:03:45.838693Z",
          "iopub.status.idle": "2022-05-16T10:03:45.839122Z"
        },
        "trusted": true,
        "id": "paIm8AELsrSU"
      },
      "execution_count": null,
      "outputs": []
    },
    {
      "cell_type": "markdown",
      "source": [
        "Отнесем признак к категориальным."
      ],
      "metadata": {
        "id": "sjOae7-DsrSU"
      }
    },
    {
      "cell_type": "markdown",
      "source": [
        "### 3.1.3. color"
      ],
      "metadata": {
        "id": "j0FHJnOJsrSU"
      }
    },
    {
      "cell_type": "markdown",
      "source": [
        "Данный признак отражает цвет продаваемого автомобиля. Посмотрим количество уникальных значений:"
      ],
      "metadata": {
        "id": "meYAKVOcsrSV"
      }
    },
    {
      "cell_type": "code",
      "source": [
        "data.color.nunique()"
      ],
      "metadata": {
        "execution": {
          "iopub.status.busy": "2022-05-16T10:03:45.839938Z",
          "iopub.status.idle": "2022-05-16T10:03:45.840353Z"
        },
        "trusted": true,
        "id": "yb9R-fAMsrSV"
      },
      "execution_count": null,
      "outputs": []
    },
    {
      "cell_type": "markdown",
      "source": [
        "Посмотрим распределение значений по цветам:"
      ],
      "metadata": {
        "id": "ZFCoXIg_srSW"
      }
    },
    {
      "cell_type": "code",
      "source": [
        "data.color.value_counts().plot.barh()"
      ],
      "metadata": {
        "execution": {
          "iopub.status.busy": "2022-05-16T10:03:45.841403Z",
          "iopub.status.idle": "2022-05-16T10:03:45.841883Z"
        },
        "trusted": true,
        "id": "trpJhIGXsrSW"
      },
      "execution_count": null,
      "outputs": []
    },
    {
      "cell_type": "markdown",
      "source": [
        "Отнесем признак к категориальным"
      ],
      "metadata": {
        "id": "tFxcVbN7srSW"
      }
    },
    {
      "cell_type": "markdown",
      "source": [
        "### 3.1.4. description"
      ],
      "metadata": {
        "id": "OoGfUN2UsrSW"
      }
    },
    {
      "cell_type": "markdown",
      "source": [
        "Данный столбец содержит комментарий о продаваемом автомобиле. В дальнейшем будет использоваться для NLP. Сейчас выделим на основе этого столбца признак, отражающий длину комментария:"
      ],
      "metadata": {
        "id": "O5SqrUAIsrSX"
      }
    },
    {
      "cell_type": "code",
      "source": [
        "data['comment_length'] = data.description.apply(lambda x: len(str(x)))"
      ],
      "metadata": {
        "execution": {
          "iopub.status.busy": "2022-05-16T10:03:45.842872Z",
          "iopub.status.idle": "2022-05-16T10:03:45.843335Z"
        },
        "trusted": true,
        "id": "pBpg8R_KsrSX"
      },
      "execution_count": null,
      "outputs": []
    },
    {
      "cell_type": "code",
      "source": [
        "data.comment_length.hist()"
      ],
      "metadata": {
        "execution": {
          "iopub.status.busy": "2022-05-16T10:03:45.844245Z",
          "iopub.status.idle": "2022-05-16T10:03:45.844714Z"
        },
        "trusted": true,
        "id": "2TBDKrypsrSX"
      },
      "execution_count": null,
      "outputs": []
    },
    {
      "cell_type": "markdown",
      "source": [
        "Отнесем к числовым признакам"
      ],
      "metadata": {
        "id": "B-XzJ5mQsrSX"
      }
    },
    {
      "cell_type": "markdown",
      "source": [
        "### 3.1.5. engineDisplacement"
      ],
      "metadata": {
        "id": "ltGPsYoxsrSY"
      }
    },
    {
      "cell_type": "markdown",
      "source": [
        "Этот признак описывает объем двигателя авто. Посмотрим количество уникальных значений :"
      ],
      "metadata": {
        "id": "KPTRz0h2srSY"
      }
    },
    {
      "cell_type": "code",
      "source": [
        "data.engineDisplacement.unique()"
      ],
      "metadata": {
        "execution": {
          "iopub.status.busy": "2022-05-16T10:03:45.845513Z",
          "iopub.status.idle": "2022-05-16T10:03:45.846003Z"
        },
        "trusted": true,
        "id": "f-FLYEX4srSY"
      },
      "execution_count": null,
      "outputs": []
    },
    {
      "cell_type": "markdown",
      "source": [
        "Мы видим, что признак отражает литраж двигателя с припиской LTR. Попробуем ее убрать:"
      ],
      "metadata": {
        "id": "bI6yyCjXsrSY"
      }
    },
    {
      "cell_type": "code",
      "source": [
        "data.engineDisplacement = data.engineDisplacement.apply(lambda x: x[:3])"
      ],
      "metadata": {
        "execution": {
          "iopub.status.busy": "2022-05-16T10:03:45.846921Z",
          "iopub.status.idle": "2022-05-16T10:03:45.847371Z"
        },
        "trusted": true,
        "id": "wpP30d2MsrSZ"
      },
      "execution_count": null,
      "outputs": []
    },
    {
      "cell_type": "code",
      "source": [
        "data.engineDisplacement.value_counts()"
      ],
      "metadata": {
        "execution": {
          "iopub.status.busy": "2022-05-16T10:03:45.848253Z",
          "iopub.status.idle": "2022-05-16T10:03:45.848719Z"
        },
        "trusted": true,
        "id": "3mGq8IytsrSZ"
      },
      "execution_count": null,
      "outputs": []
    },
    {
      "cell_type": "markdown",
      "source": [
        "Мы видим, что 6 значений имеют und ( остаток от undefined LTR). Заполним значением моды:"
      ],
      "metadata": {
        "id": "vVGWdA1bsrSZ"
      }
    },
    {
      "cell_type": "code",
      "source": [
        "data.engineDisplacement = data.engineDisplacement.replace(\n",
        "    'und', data.engineDisplacement.mode()[0])"
      ],
      "metadata": {
        "execution": {
          "iopub.status.busy": "2022-05-16T10:03:45.849622Z",
          "iopub.status.idle": "2022-05-16T10:03:45.850063Z"
        },
        "trusted": true,
        "id": "FZ0k0d_DsrSZ"
      },
      "execution_count": null,
      "outputs": []
    },
    {
      "cell_type": "markdown",
      "source": [
        "Проверим результат:"
      ],
      "metadata": {
        "id": "ERebfe9OsrSa"
      }
    },
    {
      "cell_type": "code",
      "source": [
        "data.engineDisplacement.unique()"
      ],
      "metadata": {
        "execution": {
          "iopub.status.busy": "2022-05-16T10:03:45.851144Z",
          "iopub.status.idle": "2022-05-16T10:03:45.851634Z"
        },
        "trusted": true,
        "id": "k9gShCVvsrSa"
      },
      "execution_count": null,
      "outputs": []
    },
    {
      "cell_type": "markdown",
      "source": [
        "Преобразуем в числовой формат и посмотрим распределение:"
      ],
      "metadata": {
        "id": "FzjdOHQpsrSa"
      }
    },
    {
      "cell_type": "code",
      "source": [
        "data.engineDisplacement = data.engineDisplacement.apply(lambda x: float(x))"
      ],
      "metadata": {
        "execution": {
          "iopub.status.busy": "2022-05-16T10:03:45.852517Z",
          "iopub.status.idle": "2022-05-16T10:03:45.852997Z"
        },
        "trusted": true,
        "id": "DtmEPw16srSa"
      },
      "execution_count": null,
      "outputs": []
    },
    {
      "cell_type": "code",
      "source": [
        "data.engineDisplacement.hist()"
      ],
      "metadata": {
        "execution": {
          "iopub.status.busy": "2022-05-16T10:03:45.853935Z",
          "iopub.status.idle": "2022-05-16T10:03:45.854488Z"
        },
        "trusted": true,
        "id": "7br_JHC7srSb"
      },
      "execution_count": null,
      "outputs": []
    },
    {
      "cell_type": "markdown",
      "source": [
        "Как мы видим, распределение близко к нормальному, но возможно после логарифмирования показатели станут лучше. Отнесем к числовым признакам"
      ],
      "metadata": {
        "id": "uAMRaVlzsrSb"
      }
    },
    {
      "cell_type": "markdown",
      "source": [
        "### 3.1.6. enginePower"
      ],
      "metadata": {
        "id": "ETUgE_n2srSb"
      }
    },
    {
      "cell_type": "markdown",
      "source": [
        "Признак отражает мощность двигателя автомобиля. Посмотрим на уникальные значения:"
      ],
      "metadata": {
        "id": "VgIqsqu-srSb"
      }
    },
    {
      "cell_type": "code",
      "source": [
        "data.enginePower.unique()"
      ],
      "metadata": {
        "execution": {
          "iopub.status.busy": "2022-05-16T10:03:45.855468Z",
          "iopub.status.idle": "2022-05-16T10:03:45.855920Z"
        },
        "trusted": true,
        "id": "ahrDlROvsrSc"
      },
      "execution_count": null,
      "outputs": []
    },
    {
      "cell_type": "markdown",
      "source": [
        "Избавимся от дополнительной информации в данных:"
      ],
      "metadata": {
        "id": "OP3cFM6fsrSc"
      }
    },
    {
      "cell_type": "code",
      "source": [
        "# берем 1 символ, если длина строки 5, первые два если 6,в противном случае первые три символа\n",
        "data['enginePower'] = data['enginePower'].apply(\n",
        "    lambda x: x[:1] if len(x) == 5 else (x[:2] if len(x) == 6 else x[:3]))"
      ],
      "metadata": {
        "execution": {
          "iopub.status.busy": "2022-05-16T10:03:45.856783Z",
          "iopub.status.idle": "2022-05-16T10:03:45.857352Z"
        },
        "trusted": true,
        "id": "34rylFFDsrSc"
      },
      "execution_count": null,
      "outputs": []
    },
    {
      "cell_type": "markdown",
      "source": [
        "Проверим результат:"
      ],
      "metadata": {
        "id": "aizvtVIgsrSc"
      }
    },
    {
      "cell_type": "code",
      "source": [
        "data.enginePower.unique()"
      ],
      "metadata": {
        "execution": {
          "iopub.status.busy": "2022-05-16T10:03:45.858262Z",
          "iopub.status.idle": "2022-05-16T10:03:45.858798Z"
        },
        "trusted": true,
        "id": "Q6l96lIbsrSd"
      },
      "execution_count": null,
      "outputs": []
    },
    {
      "cell_type": "markdown",
      "source": [
        "Замечательно, теперь переведем в числовой формат и посмотрим распределение значений:"
      ],
      "metadata": {
        "id": "e3vLz7LosrSd"
      }
    },
    {
      "cell_type": "code",
      "source": [
        "data['enginePower'] = data['enginePower'].apply(lambda x: int(x))\n",
        "data.enginePower.hist()"
      ],
      "metadata": {
        "execution": {
          "iopub.status.busy": "2022-05-16T10:03:45.859952Z",
          "iopub.status.idle": "2022-05-16T10:03:45.860397Z"
        },
        "trusted": true,
        "id": "UAL5_fUssrSh"
      },
      "execution_count": null,
      "outputs": []
    },
    {
      "cell_type": "markdown",
      "source": [
        "Распределение близко к нормальному, но возможно необходимо будет логарифмировать для улучшения показателей. Отнесем к числовым признакам"
      ],
      "metadata": {
        "id": "oqSpCIHbsrSi"
      }
    },
    {
      "cell_type": "markdown",
      "source": [
        "### 3.1.7. fuelType"
      ],
      "metadata": {
        "id": "bM-aHKjqsrSi"
      }
    },
    {
      "cell_type": "markdown",
      "source": [
        "Данный признак содержит данные о типе топлива, используемого в автомобиле. Посмотрим на уникальные значения:\n"
      ],
      "metadata": {
        "id": "RSlazyPNsrSi"
      }
    },
    {
      "cell_type": "code",
      "source": [
        "data.fuelType.value_counts()"
      ],
      "metadata": {
        "execution": {
          "iopub.status.busy": "2022-05-16T10:03:45.861248Z",
          "iopub.status.idle": "2022-05-16T10:03:45.861739Z"
        },
        "trusted": true,
        "id": "TUFcYAaysrSi"
      },
      "execution_count": null,
      "outputs": []
    },
    {
      "cell_type": "markdown",
      "source": [
        "Посмотрим распределение признака:"
      ],
      "metadata": {
        "id": "amKwD71PsrSj"
      }
    },
    {
      "cell_type": "code",
      "source": [
        "data.fuelType.hist()"
      ],
      "metadata": {
        "execution": {
          "iopub.status.busy": "2022-05-16T10:03:45.862732Z",
          "iopub.status.idle": "2022-05-16T10:03:45.863176Z"
        },
        "trusted": true,
        "id": "lC819A8wsrSj"
      },
      "execution_count": null,
      "outputs": []
    },
    {
      "cell_type": "markdown",
      "source": [
        "Как видно из графика, подавляющее большинство автомобилей используют бензиновое топливо. Отнесем признак к категориальным."
      ],
      "metadata": {
        "id": "JeaSZwFUsrSj"
      }
    },
    {
      "cell_type": "markdown",
      "source": [
        "### 3.1.8. mileage"
      ],
      "metadata": {
        "id": "pu6PB6dasrSj"
      }
    },
    {
      "cell_type": "markdown",
      "source": [
        "Признак содержит данные о пробеге продаваемого авто. Проверим данные:"
      ],
      "metadata": {
        "id": "FZuTMa6PsrSk"
      }
    },
    {
      "cell_type": "code",
      "source": [
        "data.mileage.unique()"
      ],
      "metadata": {
        "execution": {
          "iopub.status.busy": "2022-05-16T10:03:45.864067Z",
          "iopub.status.idle": "2022-05-16T10:03:45.864492Z"
        },
        "trusted": true,
        "id": "4qfBijHRsrSk"
      },
      "execution_count": null,
      "outputs": []
    },
    {
      "cell_type": "markdown",
      "source": [
        "Данные чистые. Посмотрим на распределение признака:"
      ],
      "metadata": {
        "id": "e3x3eTAdsrSk"
      }
    },
    {
      "cell_type": "code",
      "source": [
        "data.mileage.hist(figsize=(8, 5), bins=100)"
      ],
      "metadata": {
        "execution": {
          "iopub.status.busy": "2022-05-16T10:03:45.865429Z",
          "iopub.status.idle": "2022-05-16T10:03:45.865897Z"
        },
        "trusted": true,
        "id": "JDuwJdiAsrSk"
      },
      "execution_count": null,
      "outputs": []
    },
    {
      "cell_type": "markdown",
      "source": [
        "Проверим на выбросы:"
      ],
      "metadata": {
        "id": "QUjtKOwpsrSl"
      }
    },
    {
      "cell_type": "code",
      "source": [
        "IQR = data['mileage'].quantile(0.75) - data['mileage'].quantile(0.25)\n",
        "perc25 = data['mileage'].quantile(0.25)  # 25-й перцентиль\n",
        "perc75 = data['mileage'].quantile(0.75)  # 75-й перцентиль\n",
        "\n",
        "print(\n",
        "    '25-й перцентиль: {},'.format(perc25),\n",
        "    '75-й перцентиль: {},'.format(perc75),\n",
        "    \"IQR: {}, \".format(IQR),\n",
        "    \"Границы выбросов: [{f}, {l}].\".format(f=perc25 - 1.5*IQR,\n",
        "                                           l=perc75 + 1.5*IQR))"
      ],
      "metadata": {
        "execution": {
          "iopub.status.busy": "2022-05-16T10:03:45.866837Z",
          "iopub.status.idle": "2022-05-16T10:03:45.867263Z"
        },
        "trusted": true,
        "id": "USfi9_xZsrSl"
      },
      "execution_count": null,
      "outputs": []
    },
    {
      "cell_type": "markdown",
      "source": [
        "Посмотрим, сколько значений превышает границу:"
      ],
      "metadata": {
        "id": "vRYBvBmesrSl"
      }
    },
    {
      "cell_type": "code",
      "source": [
        "data.mileage[data.mileage > 328841].count()"
      ],
      "metadata": {
        "execution": {
          "iopub.status.busy": "2022-05-16T10:03:45.868372Z",
          "iopub.status.idle": "2022-05-16T10:03:45.868874Z"
        },
        "trusted": true,
        "id": "PR1DiMi0srSm"
      },
      "execution_count": null,
      "outputs": []
    },
    {
      "cell_type": "markdown",
      "source": [
        "Как мы видим, значений действительно мало. Возможно они действительно являются выбросами, но существуют (основываясь на собственном опыте) автомобили, у которых ОЧЕНЬ большой пробег. Так что предполагаемые выбросы без изменений."
      ],
      "metadata": {
        "id": "mWeAKVXZsrSm"
      }
    },
    {
      "cell_type": "markdown",
      "source": [
        "Отнесем признак к числовым и в дальнейшем используем нормализацию."
      ],
      "metadata": {
        "id": "l-B2JKRCsrSm"
      }
    },
    {
      "cell_type": "markdown",
      "source": [
        "### 3.1.9. modelDate"
      ],
      "metadata": {
        "id": "WdCA8yMksrSm"
      }
    },
    {
      "cell_type": "markdown",
      "source": [
        "Данный признак содержит информацию о годе производства модели авто. Просмотрим уникальные значения:"
      ],
      "metadata": {
        "id": "CAdt9NoysrSn"
      }
    },
    {
      "cell_type": "code",
      "source": [
        "data.modelDate.unique()"
      ],
      "metadata": {
        "execution": {
          "iopub.status.busy": "2022-05-16T10:03:45.869801Z",
          "iopub.status.idle": "2022-05-16T10:03:45.870259Z"
        },
        "trusted": true,
        "id": "sTvPLAv_srSn"
      },
      "execution_count": null,
      "outputs": []
    },
    {
      "cell_type": "markdown",
      "source": [
        "Теперь построим график распределения для наглядности:"
      ],
      "metadata": {
        "id": "nTVpLKhysrSn"
      }
    },
    {
      "cell_type": "code",
      "source": [
        "data.modelDate.hist()"
      ],
      "metadata": {
        "execution": {
          "iopub.status.busy": "2022-05-16T10:03:45.871126Z",
          "iopub.status.idle": "2022-05-16T10:03:45.871570Z"
        },
        "trusted": true,
        "id": "MFRR568esrSn"
      },
      "execution_count": null,
      "outputs": []
    },
    {
      "cell_type": "markdown",
      "source": [
        "Как мы видим, автомобили представленные в дата-сете, производились в промежутке с 1970 по 2019 год. Создадим новый признак, отражающий возраст модели:"
      ],
      "metadata": {
        "id": "doOhBA-RsrSo"
      }
    },
    {
      "cell_type": "code",
      "source": [
        "data['model_time'] = datetime.now().year - data.modelDate"
      ],
      "metadata": {
        "execution": {
          "iopub.status.busy": "2022-05-16T10:03:45.872393Z",
          "iopub.status.idle": "2022-05-16T10:03:45.872916Z"
        },
        "trusted": true,
        "id": "6ex1qBAKsrSo"
      },
      "execution_count": null,
      "outputs": []
    },
    {
      "cell_type": "markdown",
      "source": [
        "Отнесем признак к числовым."
      ],
      "metadata": {
        "id": "Gp5lef5xsrSo"
      }
    },
    {
      "cell_type": "markdown",
      "source": [
        "### 3.1.10 model_info"
      ],
      "metadata": {
        "id": "bXQOIFRfsrSo"
      }
    },
    {
      "cell_type": "markdown",
      "source": [
        "Данный столбец отражает информацию о модели продаваемого автомобиля. Посмотрим количество уникальных значений:"
      ],
      "metadata": {
        "id": "3Xy6Ye_HsrSp"
      }
    },
    {
      "cell_type": "code",
      "source": [
        "data.model_info.value_counts()"
      ],
      "metadata": {
        "execution": {
          "iopub.status.busy": "2022-05-16T10:03:45.873867Z",
          "iopub.status.idle": "2022-05-16T10:03:45.874301Z"
        },
        "trusted": true,
        "id": "UsZrcmgisrSr"
      },
      "execution_count": null,
      "outputs": []
    },
    {
      "cell_type": "markdown",
      "source": [
        "Мы имеем одну строчку без указания модели. Посмотрим, что это за строка:"
      ],
      "metadata": {
        "id": "X8z7werdsrSs"
      }
    },
    {
      "cell_type": "code",
      "source": [
        "data.loc[data['model_info'] == 'None']"
      ],
      "metadata": {
        "execution": {
          "iopub.status.busy": "2022-05-16T10:03:45.875345Z",
          "iopub.status.idle": "2022-05-16T10:03:45.875854Z"
        },
        "trusted": true,
        "id": "BZDbXiJssrSs"
      },
      "execution_count": null,
      "outputs": []
    },
    {
      "cell_type": "markdown",
      "source": [
        "Видим, что это Mercedes-седан. Посмотрим, возможно в комментарии указана модель:"
      ],
      "metadata": {
        "id": "k5IBf_KYsrSs"
      }
    },
    {
      "cell_type": "code",
      "source": [
        "data.iloc[2803]['description']"
      ],
      "metadata": {
        "execution": {
          "iopub.status.busy": "2022-05-16T10:03:45.876734Z",
          "iopub.status.idle": "2022-05-16T10:03:45.877202Z"
        },
        "trusted": true,
        "id": "lvfZfW6_srSs"
      },
      "execution_count": null,
      "outputs": []
    },
    {
      "cell_type": "markdown",
      "source": [
        "К сожалению, ничего не вышло. Но заполнять значением моды тоже не стоит, чтобы не \"придумать\" новую модель автомобиля. Оставим без изменений. Отнесем признак к категориальным."
      ],
      "metadata": {
        "id": "hdry-aOksrSt"
      }
    },
    {
      "cell_type": "markdown",
      "source": [
        "### 3.1.11. name"
      ],
      "metadata": {
        "id": "cJpvJ7VZsrSt"
      }
    },
    {
      "cell_type": "markdown",
      "source": [
        "Столбец дублирует информацию из других столбцов. Единственное, что можно из него выделить - это наличие xDrive в автомобиле. Создадим новый признак:"
      ],
      "metadata": {
        "id": "9AmI2RfZsrSt"
      }
    },
    {
      "cell_type": "code",
      "source": [
        "data['xDrive'] = data['name'].apply(lambda x: 1 if 'xDrive' in x else 0)"
      ],
      "metadata": {
        "execution": {
          "iopub.status.busy": "2022-05-16T10:03:45.878703Z",
          "iopub.status.idle": "2022-05-16T10:03:45.879268Z"
        },
        "trusted": true,
        "id": "-hg_BTAcsrSt"
      },
      "execution_count": null,
      "outputs": []
    },
    {
      "cell_type": "markdown",
      "source": [
        "Посмотрим как распределен признак:"
      ],
      "metadata": {
        "id": "Dx4a2cetsrSu"
      }
    },
    {
      "cell_type": "code",
      "source": [
        "sns.countplot(x='xDrive', data=data)"
      ],
      "metadata": {
        "execution": {
          "iopub.status.busy": "2022-05-16T10:03:45.880328Z",
          "iopub.status.idle": "2022-05-16T10:03:45.880844Z"
        },
        "trusted": true,
        "id": "AmDmUT5QsrSu"
      },
      "execution_count": null,
      "outputs": []
    },
    {
      "cell_type": "markdown",
      "source": [
        "Как мы видим, большая часть представленных автомобилей не имеет xDrive. Отнесем к категориальным признакам."
      ],
      "metadata": {
        "id": "_xUo8hTnsrSu"
      }
    },
    {
      "cell_type": "markdown",
      "source": [
        "### 3.1.12. numberOfDoors"
      ],
      "metadata": {
        "id": "gSYwbiqXsrSu"
      }
    },
    {
      "cell_type": "markdown",
      "source": [
        "Признак содержит информацию о количестве дверей авто. Посмотрим на уникальные значения:"
      ],
      "metadata": {
        "id": "jPraZHo-srSu"
      }
    },
    {
      "cell_type": "code",
      "source": [
        "data.numberOfDoors.unique()"
      ],
      "metadata": {
        "execution": {
          "iopub.status.busy": "2022-05-16T10:03:45.881892Z",
          "iopub.status.idle": "2022-05-16T10:03:45.882403Z"
        },
        "trusted": true,
        "id": "Y027LCytsrSv"
      },
      "execution_count": null,
      "outputs": []
    },
    {
      "cell_type": "markdown",
      "source": [
        "Как видно, никаких значений, вызывающих сомнения, нет. Проверим распределение признака:"
      ],
      "metadata": {
        "id": "GnTdL2DLsrSv"
      }
    },
    {
      "cell_type": "code",
      "source": [
        "sns.countplot(x='numberOfDoors', data=data)"
      ],
      "metadata": {
        "execution": {
          "iopub.status.busy": "2022-05-16T10:03:45.883715Z",
          "iopub.status.idle": "2022-05-16T10:03:45.884199Z"
        },
        "trusted": true,
        "id": "Od4FOIz_srSw"
      },
      "execution_count": null,
      "outputs": []
    },
    {
      "cell_type": "markdown",
      "source": [
        "Видим, что большая часть авто имеют 4 или 5 дверей. Отнесем к категориальным признакам."
      ],
      "metadata": {
        "id": "xcp8RyRdsrSw"
      }
    },
    {
      "cell_type": "markdown",
      "source": [
        "### 3.1.13. productionDate"
      ],
      "metadata": {
        "id": "Evoq-1rJsrSy"
      }
    },
    {
      "cell_type": "markdown",
      "source": [
        "Признак содержит информацию о годе производства авто. Проверим корреляцию между productionDate и modelDate:"
      ],
      "metadata": {
        "id": "T8O5HDbbsrSz"
      }
    },
    {
      "cell_type": "code",
      "source": [
        "data[['modelDate', 'productionDate']].corr()"
      ],
      "metadata": {
        "execution": {
          "iopub.status.busy": "2022-05-16T10:03:45.885168Z",
          "iopub.status.idle": "2022-05-16T10:03:45.885669Z"
        },
        "trusted": true,
        "id": "x2l9quCgsrS0"
      },
      "execution_count": null,
      "outputs": []
    },
    {
      "cell_type": "markdown",
      "source": [
        "Корреляция очень высокая, значит один признак почти дублирует другой, а это может негативно сказаться на обучении. Во избежание этого, оставим только один из признаков, то есть modelDate, который мы добавили выше."
      ],
      "metadata": {
        "id": "WO1EdNqFsrS0"
      }
    },
    {
      "cell_type": "markdown",
      "source": [
        "### 3.1.14. sell_id"
      ],
      "metadata": {
        "id": "bDzXVIucsrS0"
      }
    },
    {
      "cell_type": "markdown",
      "source": [
        "Этот признак нам в дальнейшем пригодится для того, чтобы находить изображения по идентификатору объявления. Для табличного обучения информативности не имеет."
      ],
      "metadata": {
        "id": "rUaWG4x9srS0"
      }
    },
    {
      "cell_type": "markdown",
      "source": [
        "### 3.1.15. vehicleConfiguration"
      ],
      "metadata": {
        "id": "hvGatXpfsrS1"
      }
    },
    {
      "cell_type": "markdown",
      "source": [
        "Столбец содержит информацию из других столбцов. Информативности не несет"
      ],
      "metadata": {
        "id": "6RqTGJtpsrS1"
      }
    },
    {
      "cell_type": "markdown",
      "source": [
        "### 3.1.16. vehicleTransmission"
      ],
      "metadata": {
        "id": "yPVAv17fsrS1"
      }
    },
    {
      "cell_type": "markdown",
      "source": [
        "Признак содержит информацию о типе коробки передач, используемой в транспортном средстве. Проверим уникальные значения:"
      ],
      "metadata": {
        "id": "PN0AzAQ0srS1"
      }
    },
    {
      "cell_type": "code",
      "source": [
        "data.vehicleTransmission.unique()"
      ],
      "metadata": {
        "execution": {
          "iopub.status.busy": "2022-05-16T10:03:45.886776Z",
          "iopub.status.idle": "2022-05-16T10:03:45.887252Z"
        },
        "trusted": true,
        "id": "afYNQ9d_srS2"
      },
      "execution_count": null,
      "outputs": []
    },
    {
      "cell_type": "markdown",
      "source": [
        "Посмотрим распределение признака:"
      ],
      "metadata": {
        "id": "SU_EpW-HsrS2"
      }
    },
    {
      "cell_type": "code",
      "source": [
        "sns.countplot(x='vehicleTransmission', data=data)"
      ],
      "metadata": {
        "execution": {
          "iopub.status.busy": "2022-05-16T10:03:45.888446Z",
          "iopub.status.idle": "2022-05-16T10:03:45.888977Z"
        },
        "trusted": true,
        "id": "lLr7W-2CsrS2"
      },
      "execution_count": null,
      "outputs": []
    },
    {
      "cell_type": "markdown",
      "source": [
        "Подавляющее большинство автомобилей имеют автоматическую коробку передач. Отнесем к категориальным признакам."
      ],
      "metadata": {
        "id": "7EdSlucisrS2"
      }
    },
    {
      "cell_type": "markdown",
      "source": [
        "### 3.1.17. Владельцы"
      ],
      "metadata": {
        "id": "XVkKTVvIsrS3"
      }
    },
    {
      "cell_type": "markdown",
      "source": [
        "Признак содержит информацию о количестве владельцев авто. Посмотрим пропуски:"
      ],
      "metadata": {
        "id": "qMjdZ1XfsrS3"
      }
    },
    {
      "cell_type": "code",
      "source": [
        "data.Владельцы.isna().sum()"
      ],
      "metadata": {
        "execution": {
          "iopub.status.busy": "2022-05-16T10:03:45.890236Z",
          "iopub.status.idle": "2022-05-16T10:03:45.890953Z"
        },
        "trusted": true,
        "id": "TtdRuGKYsrS3"
      },
      "execution_count": null,
      "outputs": []
    },
    {
      "cell_type": "markdown",
      "source": [
        "Всего один пропуск. Посмотрим, что это за строка:"
      ],
      "metadata": {
        "id": "8dY-OXzDsrS4"
      }
    },
    {
      "cell_type": "code",
      "source": [
        "data[data['Владельцы'].isnull()]"
      ],
      "metadata": {
        "execution": {
          "iopub.status.busy": "2022-05-16T10:03:45.892151Z",
          "iopub.status.idle": "2022-05-16T10:03:45.892662Z"
        },
        "trusted": true,
        "id": "2OIZ8qqfsrS4"
      },
      "execution_count": null,
      "outputs": []
    },
    {
      "cell_type": "markdown",
      "source": [
        "Посмотрим описание, возможно там указано, сколько было владельцев:"
      ],
      "metadata": {
        "id": "SpKIQ930srS4"
      }
    },
    {
      "cell_type": "code",
      "source": [
        "data.iloc[6665]['description']"
      ],
      "metadata": {
        "execution": {
          "iopub.status.busy": "2022-05-16T10:03:45.893841Z",
          "iopub.status.idle": "2022-05-16T10:03:45.894370Z"
        },
        "trusted": true,
        "id": "l_0j1R3lsrS4"
      },
      "execution_count": null,
      "outputs": []
    },
    {
      "cell_type": "markdown",
      "source": [
        "К сожалению, комментарий оказался неинформативен. Заполним значение модой:"
      ],
      "metadata": {
        "id": "c7Y0YD1wsrS4"
      }
    },
    {
      "cell_type": "code",
      "source": [
        "data.Владельцы = data.Владельцы.apply(\n",
        "    lambda x: data.Владельцы.mode()[0] if pd.isna(x) else x)"
      ],
      "metadata": {
        "execution": {
          "iopub.status.busy": "2022-05-16T10:03:45.895485Z",
          "iopub.status.idle": "2022-05-16T10:03:45.896042Z"
        },
        "trusted": true,
        "id": "2y3QPInIsrS5"
      },
      "execution_count": null,
      "outputs": []
    },
    {
      "cell_type": "markdown",
      "source": [
        "Посмотрим результат:"
      ],
      "metadata": {
        "id": "xJUu1BZusrS5"
      }
    },
    {
      "cell_type": "code",
      "source": [
        "data.Владельцы.isna().sum()"
      ],
      "metadata": {
        "execution": {
          "iopub.status.busy": "2022-05-16T10:03:45.897353Z",
          "iopub.status.idle": "2022-05-16T10:03:45.897904Z"
        },
        "trusted": true,
        "id": "795C5jTGsrS5"
      },
      "execution_count": null,
      "outputs": []
    },
    {
      "cell_type": "markdown",
      "source": [
        "Как мы видим, пропущенное значение заполнилось значением моды для этого столбца. Теперь оставим только числовые значения и приведем к числовому виду столбец:"
      ],
      "metadata": {
        "id": "Y7fI95pGsrS5"
      }
    },
    {
      "cell_type": "code",
      "source": [
        "data['Владельцы'] = data['Владельцы'].apply(\n",
        "    lambda x: int(x[0])).astype('int32')"
      ],
      "metadata": {
        "execution": {
          "iopub.status.busy": "2022-05-16T10:03:45.898985Z",
          "iopub.status.idle": "2022-05-16T10:03:45.899499Z"
        },
        "trusted": true,
        "id": "pJSuZE0ZsrS6"
      },
      "execution_count": null,
      "outputs": []
    },
    {
      "cell_type": "markdown",
      "source": [
        "Посмотрим распределение:"
      ],
      "metadata": {
        "id": "TflNvYjXsrS6"
      }
    },
    {
      "cell_type": "code",
      "source": [
        "data.Владельцы.hist()"
      ],
      "metadata": {
        "execution": {
          "iopub.status.busy": "2022-05-16T10:03:45.900677Z",
          "iopub.status.idle": "2022-05-16T10:03:45.901190Z"
        },
        "trusted": true,
        "id": "nDUIv3H8srS6"
      },
      "execution_count": null,
      "outputs": []
    },
    {
      "cell_type": "markdown",
      "source": [
        "Видно что автомобили с 3 владельцами немного преобладают над всеми остальными, но не сильно. Отнесем признак к категориальным."
      ],
      "metadata": {
        "id": "dGOVkyUOsrS6"
      }
    },
    {
      "cell_type": "markdown",
      "source": [
        "### 3.1.18. Владение"
      ],
      "metadata": {
        "id": "bIjGD4OqsrS7"
      }
    },
    {
      "cell_type": "markdown",
      "source": [
        "Данный столбец отражает,сколько времени продавец владеет автомобилем. Посмотрим, сколько пропусков в данном столбце:"
      ],
      "metadata": {
        "id": "1l-nkPlHsrS7"
      }
    },
    {
      "cell_type": "code",
      "source": [
        "data.Владение.isna().sum()"
      ],
      "metadata": {
        "execution": {
          "iopub.status.busy": "2022-05-16T10:03:45.902313Z",
          "iopub.status.idle": "2022-05-16T10:03:45.902813Z"
        },
        "trusted": true,
        "id": "1ruO01NAsrS7"
      },
      "execution_count": null,
      "outputs": []
    },
    {
      "cell_type": "markdown",
      "source": [
        "Посмотрим соотношение пропусков ко всему дата-сету:"
      ],
      "metadata": {
        "id": "WofRGWZssrS7"
      }
    },
    {
      "cell_type": "code",
      "source": [
        "data.Владение.isna().sum()/len(data.Владение)*100"
      ],
      "metadata": {
        "execution": {
          "iopub.status.busy": "2022-05-16T10:03:45.903858Z",
          "iopub.status.idle": "2022-05-16T10:03:45.904344Z"
        },
        "trusted": true,
        "id": "GCZceFPwsrS8"
      },
      "execution_count": null,
      "outputs": []
    },
    {
      "cell_type": "markdown",
      "source": [
        "Как видно, пропусков почти 65% дата-сета. Заполнение их каким-либо одним значением сыграет только плохую роль. Лучше данный столбец вообще не включать в обучение."
      ],
      "metadata": {
        "id": "DJ3oTIsJsrS8"
      }
    },
    {
      "cell_type": "markdown",
      "source": [
        "### 3.1.19. ПТС"
      ],
      "metadata": {
        "id": "aRa95GDxsrS8"
      }
    },
    {
      "cell_type": "markdown",
      "source": [
        "Данный признак содержит информацию о ПТС автомобиля. Проверим уникальные значения:"
      ],
      "metadata": {
        "id": "SXW5AVAGsrS8"
      }
    },
    {
      "cell_type": "code",
      "source": [
        "data.ПТС.unique()"
      ],
      "metadata": {
        "execution": {
          "iopub.status.busy": "2022-05-16T10:03:45.905625Z",
          "iopub.status.idle": "2022-05-16T10:03:45.906123Z"
        },
        "trusted": true,
        "id": "mVIoSDShsrS8"
      },
      "execution_count": null,
      "outputs": []
    },
    {
      "cell_type": "markdown",
      "source": [
        "Выведем график распределения признака:"
      ],
      "metadata": {
        "id": "xlG2q2cQsrS9"
      }
    },
    {
      "cell_type": "code",
      "source": [
        "data.ПТС.hist()"
      ],
      "metadata": {
        "execution": {
          "iopub.status.busy": "2022-05-16T10:03:45.907199Z",
          "iopub.status.idle": "2022-05-16T10:03:45.907722Z"
        },
        "trusted": true,
        "id": "wwbUz22VsrS9"
      },
      "execution_count": null,
      "outputs": []
    },
    {
      "cell_type": "markdown",
      "source": [
        "Как видно из распределения - большая часть продавцов имеет оригинал ПТС. Пропусков не наблюдается. Отнесем признак к категориальным."
      ],
      "metadata": {
        "id": "gAjPrz5osrS9"
      }
    },
    {
      "cell_type": "markdown",
      "source": [
        "### 3.1.20. Привод"
      ],
      "metadata": {
        "id": "N5a4JpklsrS9"
      }
    },
    {
      "cell_type": "markdown",
      "source": [
        "Признак содержит информацию о том, какой привод у транспортного средства. Посмотрим график распределения признака:"
      ],
      "metadata": {
        "id": "50IUg_MRsrS-"
      }
    },
    {
      "cell_type": "code",
      "source": [
        "sns.countplot(x='Привод', data=data)"
      ],
      "metadata": {
        "execution": {
          "iopub.status.busy": "2022-05-16T10:03:45.908775Z",
          "iopub.status.idle": "2022-05-16T10:03:45.909256Z"
        },
        "trusted": true,
        "id": "lmLdJ-KysrS-"
      },
      "execution_count": null,
      "outputs": []
    },
    {
      "cell_type": "markdown",
      "source": [
        "Видно, что большинство автомобилей имеют полный привод. Пропусков нет, отнесем признак к категориальным."
      ],
      "metadata": {
        "id": "vDsb01HzsrS-"
      }
    },
    {
      "cell_type": "markdown",
      "source": [
        "### 3.1.21. Руль"
      ],
      "metadata": {
        "id": "CZ52YOsXsrS-"
      }
    },
    {
      "cell_type": "markdown",
      "source": [
        "Признак отражает положение руля в автомобиле. Посмотрим распределение признака:"
      ],
      "metadata": {
        "id": "Q3fEaw9SsrS-"
      }
    },
    {
      "cell_type": "code",
      "source": [
        "sns.countplot(x='Руль', data=data)"
      ],
      "metadata": {
        "execution": {
          "iopub.status.busy": "2022-05-16T10:03:45.910458Z",
          "iopub.status.idle": "2022-05-16T10:03:45.910991Z"
        },
        "trusted": true,
        "id": "LHlAvjvgsrS_"
      },
      "execution_count": null,
      "outputs": []
    },
    {
      "cell_type": "markdown",
      "source": [
        "Почти все автомобили имеют левый руль, пропусков нет. Отнесем признак к категориальным."
      ],
      "metadata": {
        "id": "RvXWoSUCsrS_"
      }
    },
    {
      "cell_type": "markdown",
      "source": [
        "### 3.1.22. Целевой признак - price"
      ],
      "metadata": {
        "id": "B6iLz9CusrS_"
      }
    },
    {
      "cell_type": "markdown",
      "source": [
        "Искомый признак, отражающий стоимость автомобиля. Присутствует только в тренировочной выборке. Посмотрим, в каком виде представлена цена:"
      ],
      "metadata": {
        "id": "lgbYNoPnsrTF"
      }
    },
    {
      "cell_type": "code",
      "source": [
        "data.iloc[6665]['price']"
      ],
      "metadata": {
        "execution": {
          "iopub.status.busy": "2022-05-16T10:03:45.912001Z",
          "iopub.status.idle": "2022-05-16T10:03:45.912482Z"
        },
        "trusted": true,
        "id": "IuKrMyktsrTF"
      },
      "execution_count": null,
      "outputs": []
    },
    {
      "cell_type": "markdown",
      "source": [
        "Мусор отсутствует, теперь посмотрим график распределения целевого признака:"
      ],
      "metadata": {
        "id": "hStlUoTRsrTF"
      }
    },
    {
      "cell_type": "code",
      "source": [
        "plt.figure(figsize=(10, 3))\n",
        "plt.subplot(1, 2, 1)\n",
        "plt.title(f\"Распределение столбца {'price'}\")\n",
        "sns.distplot((data[data['sample'] == 1]['price']), bins=50)\n",
        "\n",
        "plt.subplot(1, 2, 2)\n",
        "sns.boxplot(data['price'])\n",
        "plt.xlabel('Price')\n",
        "plt.title(f\"Боксплот столбца {'price'}\", fontsize=12)\n",
        "plt.show()\n",
        "data.price.describe()"
      ],
      "metadata": {
        "execution": {
          "iopub.status.busy": "2022-05-16T10:03:45.913926Z",
          "iopub.status.idle": "2022-05-16T10:03:45.914418Z"
        },
        "trusted": true,
        "id": "gUf7T7b2srTG"
      },
      "execution_count": null,
      "outputs": []
    },
    {
      "cell_type": "markdown",
      "source": [
        "Видно, что данные сильно смещены влево. Посмотрим, как будет себя весть признак после логарифмирования:"
      ],
      "metadata": {
        "id": "aSLQ8fQRsrTG"
      }
    },
    {
      "cell_type": "code",
      "source": [
        "plt.figure(figsize=(10, 3))\n",
        "plt.subplot(1, 2, 1)\n",
        "plt.title(f\"Распределение после log.{'price'} \")\n",
        "sns.distplot(np.log(data[data['sample'] == 1]['price']), bins=50)\n",
        "\n",
        "plt.subplot(1, 2, 2)\n",
        "sns.boxplot(np.log(data[data['sample'] == 1]['price']))\n",
        "plt.xlabel('Price')\n",
        "plt.title('Боксплот после log.price', fontsize=12)\n",
        "plt.show()"
      ],
      "metadata": {
        "execution": {
          "iopub.status.busy": "2022-05-16T10:03:45.915466Z",
          "iopub.status.idle": "2022-05-16T10:03:45.915973Z"
        },
        "trusted": true,
        "id": "iCueYF4xsrTG"
      },
      "execution_count": null,
      "outputs": []
    },
    {
      "cell_type": "markdown",
      "source": [
        "Распределение стало более центрированным, что хорошо. Выбросы трогать не будем, так как стоимость автомобиля указывает владелец, то есть она может быть довольно (а иногда - необоснованно) высокой.\n",
        "\n",
        "Теперь посмотрим зависимости некоторых столбцов от целевого:"
      ],
      "metadata": {
        "id": "bBFpNyQAsrTH"
      }
    },
    {
      "cell_type": "code",
      "source": [
        "plt.figure(figsize=(10, 5))\n",
        "plt.scatter((data.price), data.model_time)"
      ],
      "metadata": {
        "execution": {
          "iopub.status.busy": "2022-05-16T10:03:45.916995Z",
          "iopub.status.idle": "2022-05-16T10:03:45.917490Z"
        },
        "trusted": true,
        "id": "K0jb9pG9srTH"
      },
      "execution_count": null,
      "outputs": []
    },
    {
      "cell_type": "markdown",
      "source": [
        "Из распределения видно, что чем более \"свежий\" автомобиль, тем выше на него цена. Но опять же, некоторые более старые автомобили могут стоить дорого из-за раритетности. Посмотрим также зависимость от привода:"
      ],
      "metadata": {
        "id": "PKLMxBVHsrTH"
      }
    },
    {
      "cell_type": "code",
      "source": [
        "plt.figure(figsize=(8, 5))\n",
        "plt.scatter((data.price), data.Привод)"
      ],
      "metadata": {
        "execution": {
          "iopub.status.busy": "2022-05-16T10:03:45.918727Z",
          "iopub.status.idle": "2022-05-16T10:03:45.919255Z"
        },
        "trusted": true,
        "id": "wxlSRT1SsrTH"
      },
      "execution_count": null,
      "outputs": []
    },
    {
      "cell_type": "markdown",
      "source": [
        "Опять же, из распределения хорошо видно, что наиболее высокая цена у полного привода, что логично."
      ],
      "metadata": {
        "id": "b3loP-YwsrTI"
      }
    },
    {
      "cell_type": "markdown",
      "source": [
        "Теперь сформируем перечень категориальных и числовых признаков:"
      ],
      "metadata": {
        "id": "sLZFsqcOsrTI"
      }
    },
    {
      "cell_type": "code",
      "source": [
        "# используем все текстовые признаки как категориальные без предобработки\n",
        "cat_features = ['bodyType', 'brand', 'color', 'fuelType', 'model_info',\n",
        "                'numberOfDoors', 'vehicleTransmission', 'Владельцы', 'ПТС', 'Привод', 'Руль', 'xDrive']\n",
        "\n",
        "# числовые признаки\n",
        "num_features = ['mileage', 'modelDate', 'model_time',\n",
        "                'engineDisplacement', 'enginePower', 'comment_length']"
      ],
      "metadata": {
        "execution": {
          "iopub.status.busy": "2022-05-16T10:03:45.920410Z",
          "iopub.status.idle": "2022-05-16T10:03:45.920965Z"
        },
        "trusted": true,
        "id": "6KOZXlbosrTI"
      },
      "execution_count": null,
      "outputs": []
    },
    {
      "cell_type": "markdown",
      "source": [
        "Необходимо посмотреть корреляционную зависимость наших признаков:"
      ],
      "metadata": {
        "id": "fINYlwCtsrTI"
      }
    },
    {
      "cell_type": "code",
      "source": [
        "plt.figure(figsize=(12, 7))\n",
        "sns.heatmap(data[data['sample'] == 1]\n",
        "            [num_features + ['price']].corr(), annot=True)"
      ],
      "metadata": {
        "execution": {
          "iopub.status.busy": "2022-05-16T10:03:45.922103Z",
          "iopub.status.idle": "2022-05-16T10:03:45.922588Z"
        },
        "trusted": true,
        "id": "rkwlcw8usrTJ"
      },
      "execution_count": null,
      "outputs": []
    },
    {
      "cell_type": "markdown",
      "source": [
        "Как видно из корреляционной матрицы, есть сильная обратная зависимость между признаками model_time и modelDate. Нейронная сеть simple dense NN очень сильно теряет в MAPE, если убрать хотя бы один из признаков. В рамках эксперимента я поменеял modelDate на productionDate. Корреляция упала с -1 до -0.964, что уже дает хоть какой-то результат. При этом catBoost и DNN стали вести себя гораздо лучше (прогресс со 107 места leaderboard'a на 41). В итоге было решено добавить вместо modelDate в числовые фичи productionDate. Ниже представлена их корреляция и изменение столбца num_features."
      ],
      "metadata": {
        "id": "f_QpVsY5srTJ"
      }
    },
    {
      "cell_type": "code",
      "source": [
        "data[['model_time', 'productionDate']].corr()"
      ],
      "metadata": {
        "execution": {
          "iopub.status.busy": "2022-05-16T10:03:45.923728Z",
          "iopub.status.idle": "2022-05-16T10:03:45.924217Z"
        },
        "trusted": true,
        "id": "5G_HjzWRsrTJ"
      },
      "execution_count": null,
      "outputs": []
    },
    {
      "cell_type": "code",
      "source": [
        "# числовые признаки\n",
        "num_features = ['mileage', 'model_time', 'productionDate',\n",
        "                'engineDisplacement', 'enginePower', 'comment_length']"
      ],
      "metadata": {
        "execution": {
          "iopub.status.busy": "2022-05-16T10:03:45.926230Z",
          "iopub.status.idle": "2022-05-16T10:03:45.926696Z"
        },
        "trusted": true,
        "id": "O830SpFTsrTJ"
      },
      "execution_count": null,
      "outputs": []
    },
    {
      "cell_type": "markdown",
      "source": [
        "Теперь напишем функцию для финального этапа обработки данных:"
      ],
      "metadata": {
        "id": "er5zb5fHsrTJ"
      }
    },
    {
      "cell_type": "code",
      "source": [
        "def preproc_data(df_input):\n",
        "\n",
        "    df_output = df_input.copy()\n",
        "\n",
        "    # Удалим неиспользуемые столбцы\n",
        "    df_output.drop(['description', 'sell_id', 'vehicleConfiguration',\n",
        "                    'Владение', 'name', 'modelDate'], axis=1, inplace=True)\n",
        "\n",
        "    ############################### Нормализация ####################################################################\n",
        "\n",
        "    scaler = RobustScaler()  # показал наилучший результат из всех scaler'ов\n",
        "    for column in num_features:\n",
        "        df_output[column] = scaler.fit_transform(df_output[[column]])[:, 0]\n",
        "\n",
        "    #################### Работа с категориальными признаками ############################################################\n",
        "    # Label Encoding\n",
        "    for column in cat_features:\n",
        "        df_output[column], _ = pd.factorize(df_output[column])\n",
        "\n",
        "    # One-Hot Encoding:\n",
        "    df_output = pd.get_dummies(\n",
        "        df_output, columns=cat_features, dummy_na=False)\n",
        "\n",
        "    return df_output"
      ],
      "metadata": {
        "execution": {
          "iopub.status.busy": "2022-05-16T10:03:45.927519Z",
          "iopub.status.idle": "2022-05-16T10:03:45.927990Z"
        },
        "trusted": true,
        "id": "qGBy7AOXsrTK"
      },
      "execution_count": null,
      "outputs": []
    },
    {
      "cell_type": "markdown",
      "source": [
        "Применим полученную функцию для предобработки наших данных:"
      ],
      "metadata": {
        "id": "Jujr6mhKsrTK"
      }
    },
    {
      "cell_type": "code",
      "source": [
        "# Запускаем и проверяем, что получилось\n",
        "df_preproc = preproc_data(data)\n",
        "df_preproc.sample(10)"
      ],
      "metadata": {
        "execution": {
          "iopub.status.busy": "2022-05-16T10:03:45.928833Z",
          "iopub.status.idle": "2022-05-16T10:03:45.929254Z"
        },
        "trusted": true,
        "id": "8sSeb_YVsrTK"
      },
      "execution_count": null,
      "outputs": []
    },
    {
      "cell_type": "markdown",
      "source": [
        "Теперь, когда мы провели предобработку данных, можно приступать к формированию обучающей и валидационной выборок и исследованию различных моделей "
      ],
      "metadata": {
        "id": "knP5grFwsrTK"
      }
    },
    {
      "cell_type": "markdown",
      "source": [
        "## 3.2. Split data"
      ],
      "metadata": {
        "id": "wTCGppewsrTL"
      }
    },
    {
      "cell_type": "markdown",
      "source": [
        "Разделим данные обратно на тестовую и обучающую выборки:"
      ],
      "metadata": {
        "id": "okxGWHkisrTL"
      }
    },
    {
      "cell_type": "code",
      "source": [
        "# Теперь выделим тестовую часть\n",
        "train_data = df_preproc.query('sample == 1').drop(['sample'], axis=1)\n",
        "test_data = df_preproc.query('sample == 0').drop(['sample'], axis=1)\n",
        "\n",
        "y = train_data.price.values     # наш таргет\n",
        "X = train_data.drop(['price'], axis=1)\n",
        "X_sub = test_data.drop(['price'], axis=1)"
      ],
      "metadata": {
        "execution": {
          "iopub.status.busy": "2022-05-16T10:03:45.930092Z",
          "iopub.status.idle": "2022-05-16T10:03:45.930593Z"
        },
        "trusted": true,
        "id": "YKsl3e5UsrTL"
      },
      "execution_count": null,
      "outputs": []
    },
    {
      "cell_type": "markdown",
      "source": [
        "Посмотрим правильно ли все разделилось:"
      ],
      "metadata": {
        "id": "4aE4HRrhsrTL"
      }
    },
    {
      "cell_type": "code",
      "source": [
        "test_data.info()"
      ],
      "metadata": {
        "execution": {
          "iopub.status.busy": "2022-05-16T10:03:45.931821Z",
          "iopub.status.idle": "2022-05-16T10:03:45.932303Z"
        },
        "trusted": true,
        "id": "vfyj2Su9srTL"
      },
      "execution_count": null,
      "outputs": []
    },
    {
      "cell_type": "markdown",
      "source": [
        "Если посмотреть в самое начало, то мы увидим, что правильно: 1671 строка."
      ],
      "metadata": {
        "id": "F5dF7-zXsrTM"
      }
    },
    {
      "cell_type": "markdown",
      "source": [
        "Теперь создадим первую не \"наивную\" модель на основе CatBoost."
      ],
      "metadata": {
        "id": "K0MQ-mcRsrTM"
      }
    },
    {
      "cell_type": "markdown",
      "source": [
        "# 4. Model 2: CatBoostRegressor"
      ],
      "metadata": {
        "id": "nsd9yZ4asrTM"
      }
    },
    {
      "cell_type": "markdown",
      "source": [
        "Разделим наш train на обучающую и валидационную выборки:"
      ],
      "metadata": {
        "id": "2YKFCtG0srTM"
      }
    },
    {
      "cell_type": "code",
      "source": [
        "X_train, X_test, y_train, y_test = train_test_split(\n",
        "    X, y, test_size=0.15, shuffle=True, random_state=RANDOM_SEED)"
      ],
      "metadata": {
        "execution": {
          "iopub.status.busy": "2022-05-16T10:03:45.933447Z",
          "iopub.status.idle": "2022-05-16T10:03:45.933960Z"
        },
        "trusted": true,
        "id": "fV0ihOiesrTN"
      },
      "execution_count": null,
      "outputs": []
    },
    {
      "cell_type": "markdown",
      "source": [
        "Теперь обучим наш CatBoosRegressor:"
      ],
      "metadata": {
        "id": "KbSMFt5QsrTN"
      }
    },
    {
      "cell_type": "code",
      "source": [
        "model = CatBoostRegressor(iterations=6000,  # Количество итераций\n",
        "                          # depth=10,\n",
        "                          #learning_rate = 0.01,\n",
        "                          random_seed=RANDOM_SEED,\n",
        "                          eval_metric='MAPE',\n",
        "                          custom_metric=['RMSE', 'MAE'],\n",
        "                          od_wait=500,  # Прерывает выполнение, если нет улучшения 500 итераций\n",
        "                          # task_type='GPU',\n",
        "                          )\n",
        "# обучим модель\n",
        "model.fit(X_train, np.log(y_train),\n",
        "          eval_set=(X_test, np.log(y_test)),\n",
        "          verbose_eval=100,\n",
        "          use_best_model=True,\n",
        "          # plot=True\n",
        "          )"
      ],
      "metadata": {
        "_kg_hide-output": true,
        "execution": {
          "iopub.status.busy": "2022-05-16T10:03:45.935080Z",
          "iopub.status.idle": "2022-05-16T10:03:45.935543Z"
        },
        "trusted": true,
        "id": "N5PydrMgsrTN"
      },
      "execution_count": null,
      "outputs": []
    },
    {
      "cell_type": "markdown",
      "source": [
        "Посмотрим, какая у нас получилась метрика:"
      ],
      "metadata": {
        "id": "_BRGw-31srTN"
      }
    },
    {
      "cell_type": "code",
      "source": [
        "test_predict_catboost = np.exp(model.predict(X_test))\n",
        "print(f\"TEST mape: {(mape(y_test, test_predict_catboost))*100:0.2f}%\")"
      ],
      "metadata": {
        "execution": {
          "iopub.status.busy": "2022-05-16T10:03:45.936856Z",
          "iopub.status.idle": "2022-05-16T10:03:45.937339Z"
        },
        "trusted": true,
        "id": "PT-kWYymsrTO"
      },
      "execution_count": null,
      "outputs": []
    },
    {
      "cell_type": "markdown",
      "source": [
        "Пробовал различные варианты обучения:\n",
        "* без логарифмирования target'a и использовании modelDate вместо productionDate MAPE ~ 15%\n",
        "* с измененным learning rate MAPE ухудшается на ~1% (исследовались lr=0.01, lr=0.005,lr=0.001)\n",
        "* Различные соотношения тестовой и тренировочной выборки"
      ],
      "metadata": {
        "id": "O0ELGMzpsrTO"
      }
    },
    {
      "cell_type": "markdown",
      "source": [
        "### Submission"
      ],
      "metadata": {
        "id": "Umvvyax5srTO"
      }
    },
    {
      "cell_type": "markdown",
      "source": [
        "Создадим сабмит:"
      ],
      "metadata": {
        "id": "DpnjLbOAsrTO"
      }
    },
    {
      "cell_type": "code",
      "source": [
        "sub_predict_catboost = np.exp(model.predict(X_sub))\n",
        "sample_submission['price'] = sub_predict_catboost\n",
        "sample_submission.to_csv('cat_sub.csv', index=False)"
      ],
      "metadata": {
        "execution": {
          "iopub.status.busy": "2022-05-16T10:03:45.938462Z",
          "iopub.status.idle": "2022-05-16T10:03:45.938969Z"
        },
        "trusted": true,
        "id": "2tbO9NwBsrTO"
      },
      "execution_count": null,
      "outputs": []
    },
    {
      "cell_type": "markdown",
      "source": [
        "По итогам сабмита получили MAPE порядка 11.86%. Предыдущий сабмит был сделан с другим используемым в num_features столбцом и его MAPE была почти на процент хуже."
      ],
      "metadata": {
        "id": "whqK71eKsrTP"
      }
    },
    {
      "cell_type": "markdown",
      "source": [
        "Уже на данном этапе мы получили результат, который лучше значения baseline. Возможно, если провести еще более детальную предобработку данных и выделить больше фич, которые могут помочь, то метрика улучшится еще сильнее. Также, вероятно, она улучшится, если найти способ побороть высокую корреляцию между некоторыми столбцами.\n",
        "\n",
        "Тем не менее, результат вышел довольно неплохой, хотя при этом мы используем далеко не все столбцы, которые могли бы. В дальнейшем попробуем исправить это упущение, а сейчас перейдем к варианту обработки данных при помощи табличной нейронной сети."
      ],
      "metadata": {
        "id": "DKu08eLOsrTP"
      }
    },
    {
      "cell_type": "markdown",
      "source": [
        "# 5. Model 3: Табличная нейронная сеть"
      ],
      "metadata": {
        "id": "7uX5AIuasrTP"
      }
    },
    {
      "cell_type": "markdown",
      "source": [
        "Проверим наш обучающий дата-сет:"
      ],
      "metadata": {
        "id": "RrL3vfozsrTP"
      }
    },
    {
      "cell_type": "code",
      "source": [
        "X_train.head(5)"
      ],
      "metadata": {
        "execution": {
          "iopub.status.busy": "2022-05-16T10:03:45.940063Z",
          "iopub.status.idle": "2022-05-16T10:03:45.940564Z"
        },
        "trusted": true,
        "id": "GkPoLxHTsrTP"
      },
      "execution_count": null,
      "outputs": []
    },
    {
      "cell_type": "markdown",
      "source": [
        "### 5.1. Simple Dense NN"
      ],
      "metadata": {
        "id": "l_Cf-OrzsrTQ"
      }
    },
    {
      "cell_type": "markdown",
      "source": [
        "Создадим простую Dense сеть.\n",
        "\n",
        "На данном этапе было перепробовано несколько подходов с различным количеством и размером dense-слоев, функциями активации, количеством dropout-слоев. Наиболее удачным оказался вариант с активацией relu всех dense-слоев и kernel-регуляризацией. были исследованы другие способы регуляризации, но результат получался хуже.\n",
        "\n",
        "Финальный вариант исследуемой сети представлен ниже:"
      ],
      "metadata": {
        "id": "3GV_0ohssrTQ"
      }
    },
    {
      "cell_type": "code",
      "source": [
        "model = Sequential()\n",
        "model.add(L.Dense(512, input_dim=X_train.shape[1], activation=\"relu\"))\n",
        "model.add(L.Dropout(0.5))\n",
        "model.add(L.Dense(256, kernel_regularizer=regularizers.l2(\n",
        "    l2=1e-6), activation=\"relu\"))\n",
        "model.add(L.Dropout(0.5))\n",
        "model.add(L.Dense(128, kernel_regularizer=regularizers.l2(\n",
        "    l2=1e-5), activation=\"relu\"))\n",
        "model.add(L.Dropout(0.25))\n",
        "model.add(L.Dense(1, activation=\"linear\"))"
      ],
      "metadata": {
        "execution": {
          "iopub.status.busy": "2022-05-16T10:03:45.941728Z",
          "iopub.status.idle": "2022-05-16T10:03:45.942196Z"
        },
        "trusted": true,
        "id": "Ofer-j9ysrTQ"
      },
      "execution_count": null,
      "outputs": []
    },
    {
      "cell_type": "markdown",
      "source": [
        "Посмотрим структуру модели:"
      ],
      "metadata": {
        "id": "Zw2coVErsrTQ"
      }
    },
    {
      "cell_type": "code",
      "source": [
        "model.summary()"
      ],
      "metadata": {
        "execution": {
          "iopub.status.busy": "2022-05-16T10:03:45.943305Z",
          "iopub.status.idle": "2022-05-16T10:03:45.943814Z"
        },
        "trusted": true,
        "id": "3FFaTIrasrTR"
      },
      "execution_count": null,
      "outputs": []
    },
    {
      "cell_type": "markdown",
      "source": [
        "Укажем оптимизатор с скоростью обучения 0.005 и скомпилируем модель:"
      ],
      "metadata": {
        "id": "eFvG4_TesrTR"
      }
    },
    {
      "cell_type": "code",
      "source": [
        "# Compile model\n",
        "optimizer = tf.keras.optimizers.Adam(0.005)\n",
        "model.compile(loss='MAPE', optimizer=optimizer, metrics=['MAPE'])"
      ],
      "metadata": {
        "execution": {
          "iopub.status.busy": "2022-05-16T10:03:45.944852Z",
          "iopub.status.idle": "2022-05-16T10:03:45.945311Z"
        },
        "trusted": true,
        "id": "w7YDrG4ssrTR"
      },
      "execution_count": null,
      "outputs": []
    },
    {
      "cell_type": "markdown",
      "source": [
        "Пропишем наши коллбеки:\n",
        "* earlystop - Для прерывания обучения в случае, когда нет положительного результата на протяжении **patience** эпох.\n",
        "* checkpoint - Сохраняет лучшие веса модели"
      ],
      "metadata": {
        "id": "zLz4iYllsrTR"
      }
    },
    {
      "cell_type": "code",
      "source": [
        "checkpoint = ModelCheckpoint(\n",
        "    '../working/best_model.hdf5', monitor=['val_MAPE'], verbose=0, mode='min')\n",
        "earlystop = EarlyStopping(\n",
        "    monitor='val_MAPE', patience=50, restore_best_weights=True,)\n",
        "callbacks_list = [checkpoint, earlystop]"
      ],
      "metadata": {
        "execution": {
          "iopub.status.busy": "2022-05-16T10:03:45.946447Z",
          "iopub.status.idle": "2022-05-16T10:03:45.946956Z"
        },
        "trusted": true,
        "id": "EnacIGGVsrTR"
      },
      "execution_count": null,
      "outputs": []
    },
    {
      "cell_type": "markdown",
      "source": [
        "### 5.2. Fit"
      ],
      "metadata": {
        "id": "89Wn7wS9srTT"
      }
    },
    {
      "cell_type": "markdown",
      "source": [
        "Обучаем нашу простую модель в течение 500 эпох. По факту, до конца это обучение дойдет вряд ли, потому что рано или поздно сработает EarlyStopping, который прервет процесс обучения, если не было положительной динамики 50 эпох. Валидацию проводим на валидационной части нашего дата-сета."
      ],
      "metadata": {
        "id": "KnTvQ5tQsrTT"
      }
    },
    {
      "cell_type": "code",
      "source": [
        "history = model.fit(X_train, (y_train),\n",
        "                    batch_size=512,  # размер батча\n",
        "                    epochs=500,  # количество эпох для обучения\n",
        "                    validation_data=(X_test, (y_test)),  # данные для валидации\n",
        "                    callbacks=callbacks_list,  # список  наших коллбэков\n",
        "                    verbose=0,  # параметр, отвечающий за выведение прогресс-бара\n",
        "                    )"
      ],
      "metadata": {
        "execution": {
          "iopub.status.busy": "2022-05-16T10:03:45.947984Z",
          "iopub.status.idle": "2022-05-16T10:03:45.948473Z"
        },
        "trusted": true,
        "id": "GGI_NGf4srTU"
      },
      "execution_count": null,
      "outputs": []
    },
    {
      "cell_type": "markdown",
      "source": [
        "Посмотрим график Loss-функции:"
      ],
      "metadata": {
        "id": "W9rv-kmLsrTU"
      }
    },
    {
      "cell_type": "code",
      "source": [
        "plt.title('Loss Function')\n",
        "plt.plot(history.history['MAPE'], label='train')\n",
        "plt.plot(history.history['val_MAPE'], label='test')\n",
        "plt.show()"
      ],
      "metadata": {
        "execution": {
          "iopub.status.busy": "2022-05-16T10:03:45.949543Z",
          "iopub.status.idle": "2022-05-16T10:03:45.950045Z"
        },
        "trusted": true,
        "id": "N9g0oO1EsrTU"
      },
      "execution_count": null,
      "outputs": []
    },
    {
      "cell_type": "markdown",
      "source": [
        "Из графика видно, что вначале происходит резкий спад функции, но потом понижение происходит очень медленно, и к ~ 250 эпохе срабатывает прерывание выполнения из-за отсутствия положительного результата."
      ],
      "metadata": {
        "id": "OVAd1WprsrTU"
      }
    },
    {
      "cell_type": "markdown",
      "source": [
        "Сохраним модель и загрузим лучшие веса:"
      ],
      "metadata": {
        "id": "e-S1YCVTsrTV"
      }
    },
    {
      "cell_type": "code",
      "source": [
        "model.load_weights('../working/best_model.hdf5')\n",
        "model.save('../working/nn_1.hdf5')"
      ],
      "metadata": {
        "execution": {
          "iopub.status.busy": "2022-05-16T10:03:45.950993Z",
          "iopub.status.idle": "2022-05-16T10:03:45.951477Z"
        },
        "trusted": true,
        "id": "9JxWbE4gsrTV"
      },
      "execution_count": null,
      "outputs": []
    },
    {
      "cell_type": "markdown",
      "source": [
        "Проверим исследуемую метрику:"
      ],
      "metadata": {
        "id": "1tyA-b6isrTV"
      }
    },
    {
      "cell_type": "code",
      "source": [
        "test_predict_nn1 = model.predict(X_test)\n",
        "print(f\"TEST mape: {(mape(y_test, test_predict_nn1[:,0]))*100:0.2f}%\")"
      ],
      "metadata": {
        "execution": {
          "iopub.status.busy": "2022-05-16T10:03:45.952672Z",
          "iopub.status.idle": "2022-05-16T10:03:45.953234Z"
        },
        "trusted": true,
        "id": "c2k1p2SQsrTV"
      },
      "execution_count": null,
      "outputs": []
    },
    {
      "cell_type": "markdown",
      "source": [
        "Метрика получилась гораздо лучше, чем при использовании CatBoostRegressor'a, значит мы движемся в правильном направлении."
      ],
      "metadata": {
        "id": "lci0G8uIsrTV"
      }
    },
    {
      "cell_type": "markdown",
      "source": [
        "Сделаем сабмит:"
      ],
      "metadata": {
        "id": "Dpg7lTJJsrTW"
      }
    },
    {
      "cell_type": "code",
      "source": [
        "sub_predict_nn1 = model.predict(X_sub)\n",
        "sample_submission['price'] = sub_predict_nn1[:, 0]\n",
        "sample_submission.to_csv('nn1_submission.csv', index=False)"
      ],
      "metadata": {
        "execution": {
          "iopub.status.busy": "2022-05-16T10:03:45.954447Z",
          "iopub.status.idle": "2022-05-16T10:03:45.954991Z"
        },
        "trusted": true,
        "id": "fEpFPhAxsrTW"
      },
      "execution_count": null,
      "outputs": []
    },
    {
      "cell_type": "markdown",
      "source": [
        "На данном этапе я получил результат mape:11.36% на тестовой выборке, что улучшило предыдущий результат почти на пол процента.\n",
        "\n",
        "До этого был сабмит с modelDate вместо productionDate - результат mape был примерно 12.15%."
      ],
      "metadata": {
        "id": "xWl_hzWYsrTW"
      }
    },
    {
      "cell_type": "markdown",
      "source": [
        "Результат получился еще лучше, чем предыдущий. Значит, в данном случае наша нейронная сеть лучше решает поставленную задачу. Это дает несколько поводов для размышления, что делать дальше, чтобы еще сильнее улучшить исследуемую метрику. На данном этапе есть несколько вариантов: \n",
        "* Исследовать различные варианты архитектуры сети и ее параметры дальше\n",
        "* Исследовать известные готовые варианты табличных нейронных сетей\n",
        "* Попробовать дополнить архитектуру сети, сделав из нее multi-input сеть\n",
        "\n",
        "Мы выберем последний вариант, так как помним, есть данные, которые мы до сих пор не использовали в обучении. Перейдем к созданию первой multi-input сети."
      ],
      "metadata": {
        "id": "MTmF_n_6srTW"
      }
    },
    {
      "cell_type": "markdown",
      "source": [
        "# 6. Model 4: NLP + MLP Multi Input NN"
      ],
      "metadata": {
        "id": "5sZvfhJtsrTX"
      }
    },
    {
      "cell_type": "markdown",
      "source": [
        "Для данной модели мы будем использовать две сети:\n",
        "* NLP для обработки столбца description\n",
        "* MLP, созданная ранее, для табличных данных\n",
        "\n",
        "Для начала посмотрим, как выглядят данные в столбце:"
      ],
      "metadata": {
        "id": "7vpMxqG5srTX"
      }
    },
    {
      "cell_type": "code",
      "source": [
        "data.description"
      ],
      "metadata": {
        "execution": {
          "iopub.status.busy": "2022-05-16T10:03:45.956565Z",
          "iopub.status.idle": "2022-05-16T10:03:45.957061Z"
        },
        "trusted": true,
        "id": "jQ4KGFmGsrTX"
      },
      "execution_count": null,
      "outputs": []
    },
    {
      "cell_type": "markdown",
      "source": [
        "Мы видим, что столбец представляет собой комментарий к продаваемому автомобилю. В нем присутствует мусор, от которого нужно будет избавиться. План действий будет примерно следующим:\n",
        "* Очистим строки от ненужных символов\n",
        "* Проведем лемматизацию строк\n",
        "* Уберем стоп-слова из строк\n",
        "* Проведем токенизацию текста\n",
        "* Проведем векторизацию текста"
      ],
      "metadata": {
        "id": "FEwaWWp0srTX"
      }
    },
    {
      "cell_type": "markdown",
      "source": [
        "## 6.1. Лемматизация"
      ],
      "metadata": {
        "id": "_oO5ru6XsrTX"
      }
    },
    {
      "cell_type": "markdown",
      "source": [
        "    Данный этап стал для меня первым камнем преткновения. Сначала была идея использовать BERT, но моих знаний оказалось недостаточно, чтобы понять как его полноценно использовать. Потом я пытался использовать spacy для обработки текста, но она отказалась подгружать русскую библиотеку слов, а предлогаемые неофициальные решения со словарями мне показались не слишком подходящими. Поэтому я вернулся к тому, с чего начинал : pymorphy2 для лемматизации слов и nltk для удаления стоп-слов."
      ],
      "metadata": {
        "id": "MNMSLuO4srTY"
      }
    },
    {
      "cell_type": "markdown",
      "source": [
        "Суть лемматизации заключается в том, чтобы вернуть каждое слово к его изначальной словоформе. Это нужно, чтобы не считать разные формы слова \"уникальными\" при обработке текста."
      ],
      "metadata": {
        "id": "ZMLrHBx6srTY"
      }
    },
    {
      "cell_type": "markdown",
      "source": [
        "Загрузим морфологический анализатор и скопируем данные из исходного дата-сета:"
      ],
      "metadata": {
        "id": "KjvETnDisrTY"
      }
    },
    {
      "cell_type": "code",
      "source": [
        "morphy = pymorphy2.MorphAnalyzer()\n",
        "df_NLP = data.copy()"
      ],
      "metadata": {
        "execution": {
          "iopub.status.busy": "2022-05-16T10:03:45.958037Z",
          "iopub.status.idle": "2022-05-16T10:03:45.958499Z"
        },
        "trusted": true,
        "id": "-bVxPpZqsrTY"
      },
      "execution_count": null,
      "outputs": []
    },
    {
      "cell_type": "markdown",
      "source": [
        "Создадим паттерн с \"мусорными\" символами в строках ( обнавлялся несколько раз в процессе обработки текста, каждый раз находились новые уникальные значения) и напишем функцию для лемматизации:"
      ],
      "metadata": {
        "id": "wfRmH5LgsrTY"
      }
    },
    {
      "cell_type": "code",
      "source": [
        "# Паттерн с символами\n",
        "trash_sym = \"[A-Za-z0-9!#$%&'()*+,./:;<=>?@[\\]^_`{|}~—\\\"\\-–»«•∙·✔➥●☛“”°№₽®]+\"\n",
        "\n",
        "# функция для лемматизации текста:\n",
        "\n",
        "\n",
        "def lemma(text):\n",
        "    text = text.lower()  # понижаем регистр\n",
        "    text = re.sub(trash_sym, ' ', text)  # удаляем символы из паттерна\n",
        "    strings = []  # создаем массив, в котором будут храниться лемматизированные строки\n",
        "    for wrd in text.split():  # берем слово из строки\n",
        "        wrd = wrd.strip()  # убираем пробелы до и после слова\n",
        "        wrd = morphy.normal_forms(wrd)[0]  # приводим к нормальной форме\n",
        "        strings.append(wrd)  # добавляем слово в строку массива\n",
        "    return ' '.join(strings)  # вернем значения, разделив пробелами"
      ],
      "metadata": {
        "execution": {
          "iopub.status.busy": "2022-05-16T10:03:45.959727Z",
          "iopub.status.idle": "2022-05-16T10:03:45.960207Z"
        },
        "trusted": true,
        "id": "mxrKJgtTsrTZ"
      },
      "execution_count": null,
      "outputs": []
    },
    {
      "cell_type": "markdown",
      "source": [
        "Применим функцию к нашему nlp-датасету:"
      ],
      "metadata": {
        "id": "SnetcbIvsrTZ"
      }
    },
    {
      "cell_type": "code",
      "source": [
        "strings_set = []\n",
        "strings_set = df_NLP.apply(\n",
        "    lambda df_NLP: lemma(df_NLP.description), axis=1)"
      ],
      "metadata": {
        "execution": {
          "iopub.status.busy": "2022-05-16T10:03:45.961223Z",
          "iopub.status.idle": "2022-05-16T10:03:45.961726Z"
        },
        "trusted": true,
        "id": "agCCcSY-srTZ"
      },
      "execution_count": null,
      "outputs": []
    },
    {
      "cell_type": "markdown",
      "source": [
        "Загрузим список русских стоп-слов:"
      ],
      "metadata": {
        "id": "kKYng4EfsrTZ"
      }
    },
    {
      "cell_type": "code",
      "source": [
        "russian_stopwords = stopwords.words(\"russian\")"
      ],
      "metadata": {
        "execution": {
          "iopub.status.busy": "2022-05-16T10:03:45.962781Z",
          "iopub.status.idle": "2022-05-16T10:03:45.963294Z"
        },
        "trusted": true,
        "id": "n1QtiZVfsrTa"
      },
      "execution_count": null,
      "outputs": []
    },
    {
      "cell_type": "markdown",
      "source": [
        "Напишем функцию, которая которая будет проверять наши лемматизированные слова на наличие в списке стоп-слов:"
      ],
      "metadata": {
        "id": "x0ei0biysrTa"
      }
    },
    {
      "cell_type": "code",
      "source": [
        "# функция для проверки на стоп-слова\n",
        "def lineWithoutStopWords(line):\n",
        "    line = line.split()  # разделяем на слова\n",
        "    # возвращаем слово, если оно не в списке стоп-слов\n",
        "    return [word for word in line if word not in russian_stopwords]\n",
        "\n",
        "\n",
        "# применим функцию к нашим лемматизированым строкам слов\n",
        "str_without_stop = [lineWithoutStopWords(line) for line in strings_set]"
      ],
      "metadata": {
        "execution": {
          "iopub.status.busy": "2022-05-16T10:03:45.964397Z",
          "iopub.status.idle": "2022-05-16T10:03:45.964929Z"
        },
        "trusted": true,
        "id": "yl2afk1asrTa"
      },
      "execution_count": null,
      "outputs": []
    },
    {
      "cell_type": "markdown",
      "source": [
        "Укажем обучающую\\валидационную и тестовую выборки:"
      ],
      "metadata": {
        "id": "m3gi37-rsrTa"
      }
    },
    {
      "cell_type": "code",
      "source": [
        "# split данных\n",
        "text_train = data.description.iloc[X_train.index]\n",
        "text_test = data.description.iloc[X_test.index]\n",
        "text_sub = data.description.iloc[X_sub.index]"
      ],
      "metadata": {
        "execution": {
          "iopub.status.busy": "2022-05-16T10:03:45.966077Z",
          "iopub.status.idle": "2022-05-16T10:03:45.966659Z"
        },
        "trusted": true,
        "id": "wqJcAk40srTa"
      },
      "execution_count": null,
      "outputs": []
    },
    {
      "cell_type": "markdown",
      "source": [
        "## 6.2. Токенизация"
      ],
      "metadata": {
        "id": "pX0oekPOsrTb"
      }
    },
    {
      "cell_type": "markdown",
      "source": [
        "Пропишем параметры для токенизатора, с помощью которого будем проводить токенизацию текста:"
      ],
      "metadata": {
        "id": "3ZVv_HUlsrTb"
      }
    },
    {
      "cell_type": "code",
      "source": [
        "# The maximum number of words to be used. (most frequent)\n",
        "MAX_WORDS = 100000\n",
        "# Max number of words in each complaint.\n",
        "MAX_SEQUENCE_LENGTH = 256"
      ],
      "metadata": {
        "execution": {
          "iopub.status.busy": "2022-05-16T10:03:45.967790Z",
          "iopub.status.idle": "2022-05-16T10:03:45.968320Z"
        },
        "trusted": true,
        "id": "2X6EWQPUsrTb"
      },
      "execution_count": null,
      "outputs": []
    },
    {
      "cell_type": "markdown",
      "source": [
        "Обучим токенизатор на полученном списке лемматизированых слов:"
      ],
      "metadata": {
        "id": "LPHcjqdjsrTb"
      }
    },
    {
      "cell_type": "code",
      "source": [
        "%%time\n",
        "tokenize = Tokenizer(num_words=MAX_WORDS)\n",
        "tokenize.fit_on_texts(str_without_stop)"
      ],
      "metadata": {
        "execution": {
          "iopub.status.busy": "2022-05-16T10:03:45.969434Z",
          "iopub.status.idle": "2022-05-16T10:03:45.969960Z"
        },
        "trusted": true,
        "id": "46IO-3krsrTc"
      },
      "execution_count": null,
      "outputs": []
    },
    {
      "cell_type": "markdown",
      "source": [
        "Проверим результат:"
      ],
      "metadata": {
        "id": "DCYIrV-CsrTc"
      }
    },
    {
      "cell_type": "code",
      "source": [
        "tokenize.word_index"
      ],
      "metadata": {
        "_kg_hide-input": false,
        "_kg_hide-output": true,
        "execution": {
          "iopub.status.busy": "2022-05-16T10:03:45.971056Z",
          "iopub.status.idle": "2022-05-16T10:03:45.971527Z"
        },
        "trusted": true,
        "id": "fllvcetqsrTc"
      },
      "execution_count": null,
      "outputs": []
    },
    {
      "cell_type": "markdown",
      "source": [
        "Используем полученный список слов для векторизации текста из наших выборок:"
      ],
      "metadata": {
        "id": "LV0_UActsrTc"
      }
    },
    {
      "cell_type": "code",
      "source": [
        "%%time\n",
        "text_train_sequences = sequence.pad_sequences(\n",
        "    tokenize.texts_to_sequences(text_train), maxlen=MAX_SEQUENCE_LENGTH)\n",
        "text_test_sequences = sequence.pad_sequences(\n",
        "    tokenize.texts_to_sequences(text_test), maxlen=MAX_SEQUENCE_LENGTH)\n",
        "text_sub_sequences = sequence.pad_sequences(\n",
        "    tokenize.texts_to_sequences(text_sub), maxlen=MAX_SEQUENCE_LENGTH)\n",
        "\n",
        "print(text_train_sequences.shape,\n",
        "      text_test_sequences.shape, text_sub_sequences.shape, )"
      ],
      "metadata": {
        "execution": {
          "iopub.status.busy": "2022-05-16T10:03:45.972507Z",
          "iopub.status.idle": "2022-05-16T10:03:45.973023Z"
        },
        "trusted": true,
        "id": "qGHSviW8srTc"
      },
      "execution_count": null,
      "outputs": []
    },
    {
      "cell_type": "markdown",
      "source": [
        "Выведем пример того, как теперь выглядит текст:"
      ],
      "metadata": {
        "id": "35TDjrMXsrTd"
      }
    },
    {
      "cell_type": "code",
      "source": [
        "print(text_train.iloc[6])\n",
        "print(text_train_sequences[6])"
      ],
      "metadata": {
        "execution": {
          "iopub.status.busy": "2022-05-16T10:03:45.974142Z",
          "iopub.status.idle": "2022-05-16T10:03:45.974664Z"
        },
        "trusted": true,
        "id": "fmNfjJlgsrTd"
      },
      "execution_count": null,
      "outputs": []
    },
    {
      "cell_type": "markdown",
      "source": [
        "## 6.3. RNN NLP"
      ],
      "metadata": {
        "id": "brNmE_4NsrTd"
      }
    },
    {
      "cell_type": "markdown",
      "source": [
        "Создание сети для NLP забрало у меня довольно много времени по нескольким причинам:\n",
        "1. Я пытался понять, как использовать SoTA решения для данной задачи, например GPT-2 (так до конца и не разобрался)\n",
        "2. Я исследовал различные структуры NLP:\n",
        "   * Менял количество слоев dense\n",
        "   * Менял количество LSTM слоев\n",
        "   * Менял количество юнитов в слоях\n",
        "   * Менял количество Dropout слоев\n",
        "   * Менял функции активации в слоях\n",
        "   * Использовал различные варианты и положение слоев нормализации\n",
        "   \n",
        "Финальный вариант,представленный ниже, показал наиболее низкое значение MAPE, поэтому я оставил именно его:   "
      ],
      "metadata": {
        "id": "dS-YuNuVsrTd"
      }
    },
    {
      "cell_type": "code",
      "source": [
        "model_nlp = Sequential()\n",
        "model_nlp.add(L.Input(shape=MAX_SEQUENCE_LENGTH, name=\"seq_description\"))\n",
        "model_nlp.add(L.Embedding(len(tokenize.word_index)+1, MAX_SEQUENCE_LENGTH,))\n",
        "model_nlp.add(L.LayerNormalization())\n",
        "model_nlp.add(L.LSTM(256, return_sequences=True))\n",
        "model_nlp.add(L.Dropout(0.5))\n",
        "model_nlp.add(L.Dense(128, activation=\"sigmoid\"))\n",
        "model_nlp.add(L.Dropout(0.5))\n",
        "model_nlp.add(L.LSTM(64,))\n",
        "model_nlp.add(L.Dropout(0.25))\n",
        "model_nlp.add(L.Dense(64, activation=\"relu\"))\n",
        "model_nlp.add(L.Dropout(0.25))"
      ],
      "metadata": {
        "execution": {
          "iopub.status.busy": "2022-05-16T10:03:45.975845Z",
          "iopub.status.idle": "2022-05-16T10:03:45.976339Z"
        },
        "trusted": true,
        "id": "afGLq7XSsrTe"
      },
      "execution_count": null,
      "outputs": []
    },
    {
      "cell_type": "markdown",
      "source": [
        "После создания NLP-сети мы переходим к сети для табличной обработки данных"
      ],
      "metadata": {
        "id": "b-ahCwpbsrTe"
      }
    },
    {
      "cell_type": "markdown",
      "source": [
        "## 6.4. MLP-сеть"
      ],
      "metadata": {
        "id": "F48GcWu_srTe"
      }
    },
    {
      "cell_type": "markdown",
      "source": [
        "Здесь я тоже провел довольно много времени, перебирая различные варианты архитектуры сети, параметров слоев, вариантов регуляризации, в том числе ее значений, и функций активации. В начале была идея попробовать использовать для обработки данных TabNet, но, как и в предыдущем пункте, я не смог полностью разобраться, как мне ее включить в общую конструкцию.\n",
        "\n",
        "Финальным вариантом, на котором я остановился, является архитектура, представленная ниже:"
      ],
      "metadata": {
        "id": "dfbCAVJcsrTe"
      }
    },
    {
      "cell_type": "code",
      "source": [
        "model_mlp = Sequential()\n",
        "model_mlp.add(L.Dense(512, input_dim=X_train.shape[1], activation=\"relu\"))\n",
        "model_mlp.add(L.Dropout(0.5))\n",
        "model_mlp.add(L.Dense(256, kernel_regularizer=regularizers.l2(\n",
        "    l2=1e-6), activation=\"relu\"))\n",
        "model_mlp.add(L.Dropout(0.5))\n",
        "model_mlp.add(L.Dense(128, kernel_regularizer=regularizers.l2(\n",
        "    l2=1e-5), activation=\"relu\"))\n",
        "model_mlp.add(L.Dropout(0.25))"
      ],
      "metadata": {
        "execution": {
          "iopub.status.busy": "2022-05-16T10:03:45.977521Z",
          "iopub.status.idle": "2022-05-16T10:03:45.978093Z"
        },
        "trusted": true,
        "id": "CBOrVjUnsrT0"
      },
      "execution_count": null,
      "outputs": []
    },
    {
      "cell_type": "markdown",
      "source": [
        "Теперь, когда обе сети готовы, создадим \"голову\", которая будет объединять выходы наших сетей воедино."
      ],
      "metadata": {
        "id": "-4h72LUpsrT1"
      }
    },
    {
      "cell_type": "markdown",
      "source": [
        "## 6.5. Multiple Inputs NN"
      ],
      "metadata": {
        "id": "BDgZM0-wsrT2"
      }
    },
    {
      "cell_type": "markdown",
      "source": [
        "На этом этапе было рассмотрено несколько вариантов с различными функциями активации и количеством юнитов. Как и ранее, финальный вариант, который дал наиболее низкую MAPE, представлен ниже:"
      ],
      "metadata": {
        "id": "vPnFZDktsrT2"
      }
    },
    {
      "cell_type": "code",
      "source": [
        "combinedInput = L.concatenate([model_nlp.output, model_mlp.output])\n",
        "# being our regression head\n",
        "head = L.Dense(32, activation=\"relu\")(combinedInput)\n",
        "head = L.Dense(1, activation=\"linear\")(head)\n",
        "\n",
        "model = Model(inputs=[model_nlp.input, model_mlp.input], outputs=head)"
      ],
      "metadata": {
        "execution": {
          "iopub.status.busy": "2022-05-16T10:03:45.979197Z",
          "iopub.status.idle": "2022-05-16T10:03:45.979720Z"
        },
        "trusted": true,
        "id": "bbXeuN-ksrT2"
      },
      "execution_count": null,
      "outputs": []
    },
    {
      "cell_type": "markdown",
      "source": [
        "Выведем описание модели:"
      ],
      "metadata": {
        "id": "vHNvSkNlsrT3"
      }
    },
    {
      "cell_type": "code",
      "source": [
        "model.summary()"
      ],
      "metadata": {
        "_kg_hide-output": true,
        "execution": {
          "iopub.status.busy": "2022-05-16T10:03:45.980923Z",
          "iopub.status.idle": "2022-05-16T10:03:45.981394Z"
        },
        "trusted": true,
        "id": "KpAVQaCCsrT3"
      },
      "execution_count": null,
      "outputs": []
    },
    {
      "cell_type": "markdown",
      "source": [
        "## 6.6. Обучение"
      ],
      "metadata": {
        "id": "rT7cb2xUsrT3"
      }
    },
    {
      "cell_type": "markdown",
      "source": [
        "В качестве оптимизатора я исследовал Adam и Adamax. Adam в данном случае сходится гораздо быстрее и дает более стабильные значения исследуемой метрики. Начальную скорость обучения выберем 0.01. \n",
        "\n",
        "Проведем компиляцию модели:"
      ],
      "metadata": {
        "id": "Ox1QAc6AsrT3"
      }
    },
    {
      "cell_type": "code",
      "source": [
        "optimizer = tf.keras.optimizers.Adam(0.01)\n",
        "# Проведем компиляцию модели\n",
        "model.compile(loss='MAPE', optimizer=optimizer, metrics=['MAPE'])"
      ],
      "metadata": {
        "execution": {
          "iopub.status.busy": "2022-05-16T10:03:45.982294Z",
          "iopub.status.idle": "2022-05-16T10:03:45.982804Z"
        },
        "trusted": true,
        "id": "ZfN5FdRhsrT4"
      },
      "execution_count": null,
      "outputs": []
    },
    {
      "cell_type": "markdown",
      "source": [
        "В процессе исследования, было выявлено, что фиксированная скорость обучения дает не самый хороший результат. Поэтому, помимо уже имеющихся коллбэков, которые мы упоминали ранее при обучении табличной сети, я добавил ReduceLROnPlateau, который уменьшает скорость обучения, в случае когда нет улучшения исследуемой метрики в течение **patience** эпох. \n",
        "\n",
        "Объявим коллбэки:"
      ],
      "metadata": {
        "id": "pvtT4uABsrT4"
      }
    },
    {
      "cell_type": "code",
      "source": [
        "checkpoint = ModelCheckpoint(\n",
        "    '../working/best_model.hdf5', monitor=['val_MAPE'], verbose=0, mode='min')\n",
        "earlystop = EarlyStopping(\n",
        "    monitor='val_MAPE', patience=15, restore_best_weights=True,)\n",
        "lr_scheduler = ReduceLROnPlateau(monitor='val_MAPE',\n",
        "                                 factor=0.5,  # уменьшим lr в 2 раза\n",
        "                                 patience=5,  # если нет улучшения через 2 эпохи - уменьшить lr\n",
        "                                 min_lr=0.0001,  # минимальная скорость обучения\n",
        "                                 verbose=1,  # выводить сообщения об уменьшении скорости\n",
        "                                 mode='auto')  # выбранный способ отслеживания метрики\n",
        "callbacks_list = [checkpoint, earlystop, lr_scheduler]"
      ],
      "metadata": {
        "execution": {
          "iopub.status.busy": "2022-05-16T10:03:45.983720Z",
          "iopub.status.idle": "2022-05-16T10:03:45.984192Z"
        },
        "trusted": true,
        "id": "zws3b3y3srT4"
      },
      "execution_count": null,
      "outputs": []
    },
    {
      "cell_type": "markdown",
      "source": [
        "Теперь приступим к обучению модели. Оно проходит довольно быстро. Фактически, мы все равно сталкиваемся с тем, что процесс обучения прерывается с помощью EarlyStopping. Но с использованием ReduceLROnPlateau точность удалось несколько повысить по сравнению с предыдущими результатами исследований.\n",
        "\n",
        "Запустим обучение модели:"
      ],
      "metadata": {
        "id": "voQiznAksrT4"
      }
    },
    {
      "cell_type": "code",
      "source": [
        "# Запустим обучение модели\n",
        "history = model.fit([text_train_sequences, X_train], y_train,\n",
        "                    batch_size=512,\n",
        "                    epochs=500,\n",
        "                    validation_data=([text_test_sequences, X_test], y_test),\n",
        "                    callbacks=callbacks_list\n",
        "                    )"
      ],
      "metadata": {
        "_kg_hide-output": true,
        "execution": {
          "iopub.status.busy": "2022-05-16T10:03:45.985186Z",
          "iopub.status.idle": "2022-05-16T10:03:45.985665Z"
        },
        "trusted": true,
        "id": "Z17hCEE3srT5"
      },
      "execution_count": null,
      "outputs": []
    },
    {
      "cell_type": "markdown",
      "source": [
        "Когда обучение завершилось, посмотрим на график нашей функции потерь:"
      ],
      "metadata": {
        "id": "Fo9gqE61srT5"
      }
    },
    {
      "cell_type": "code",
      "source": [
        "plt.title('Loss')\n",
        "plt.plot(history.history['MAPE'], label='train')\n",
        "plt.plot(history.history['val_MAPE'], label='test')\n",
        "plt.show()"
      ],
      "metadata": {
        "execution": {
          "iopub.status.busy": "2022-05-16T10:03:45.986784Z",
          "iopub.status.idle": "2022-05-16T10:03:45.987253Z"
        },
        "trusted": true,
        "id": "cRma-olqsrT6"
      },
      "execution_count": null,
      "outputs": []
    },
    {
      "cell_type": "markdown",
      "source": [
        "Мы видим, что на определенном промежутке обучения график ведет себя \"неспокойно\". Это может быть связано с тем, что в начале мы используем довольно большую скорость обучения, быстро спускаемся в \"плато\", и пока скорость обучения не уменьшится, возникают те самые скачки функции потерь."
      ],
      "metadata": {
        "id": "MQHbX-S3srT6"
      }
    },
    {
      "cell_type": "markdown",
      "source": [
        "Сохраним лучшие веса модели:"
      ],
      "metadata": {
        "id": "pwyynlDhsrT6"
      }
    },
    {
      "cell_type": "code",
      "source": [
        "model.load_weights('../working/best_model.hdf5')\n",
        "model.save('../working/nn_mlp_nlp.hdf5')"
      ],
      "metadata": {
        "execution": {
          "iopub.status.busy": "2022-05-16T10:03:45.988136Z",
          "iopub.status.idle": "2022-05-16T10:03:45.988618Z"
        },
        "trusted": true,
        "id": "I8Mng5I2srT6"
      },
      "execution_count": null,
      "outputs": []
    },
    {
      "cell_type": "markdown",
      "source": [
        "Посмотрим значение полученной метрики:"
      ],
      "metadata": {
        "id": "sguvIwi2srT7"
      }
    },
    {
      "cell_type": "code",
      "source": [
        "test_predict_nn2 = model.predict([text_test_sequences, X_test])\n",
        "print(f\"TEST mape: {(mape(y_test, test_predict_nn2[:,0]))*100:0.2f}%\")"
      ],
      "metadata": {
        "execution": {
          "iopub.status.busy": "2022-05-16T10:03:45.989681Z",
          "iopub.status.idle": "2022-05-16T10:03:45.990116Z"
        },
        "trusted": true,
        "id": "7795fmcZsrT7"
      },
      "execution_count": null,
      "outputs": []
    },
    {
      "cell_type": "markdown",
      "source": [
        "Метрика получилась немного хуже, чем в предыдущем пункте. Имеется несколько догадок, почему это может быть, но об этом в конце пункта."
      ],
      "metadata": {
        "id": "nvRn1Z7csrT7"
      }
    },
    {
      "cell_type": "code",
      "source": [
        "sub_predict_nn2 = model.predict([text_sub_sequences, X_sub])\n",
        "sample_submission['price'] = sub_predict_nn2[:, 0]\n",
        "sample_submission.to_csv('nn2_submission.csv', index=False)"
      ],
      "metadata": {
        "execution": {
          "iopub.status.busy": "2022-05-16T10:03:45.991125Z",
          "iopub.status.idle": "2022-05-16T10:03:45.991600Z"
        },
        "trusted": true,
        "id": "ZrRYThkysrT8"
      },
      "execution_count": null,
      "outputs": []
    },
    {
      "cell_type": "markdown",
      "source": [
        "На данном этапе исследования было достигнуто значение MAPE=11.38%. Не самый хороший результат: на 0.03% хуже, чем у простой табличной сети. Я долго размышлял, с чем это может быть связано, и пришел к следующим вариантам:\n",
        "* Не совсем оптимальные архитектуры используемых сетей\n",
        "* Недостаточно хорошо очищены данные столбца description\n",
        "\n",
        "Решение, которое приходит в голову: \n",
        "1. необходимо очистить столбец от emoji, которые используются в тексте. Помимо прочего, возможно использовать готовые сети станет действительно хорошим, видимым результатом, если учесть о том, как хорошо отзываются о работе сети GPT-2\n",
        "2. добавить еще одну сеть в конструкцию multi-input сети, которая будет заниматься обработкой изображений\n",
        "\n",
        "Я выбрал второй вариант, чтобы улучшить исследуемую метрику. Перейдем к созданию multi-input сети, состоящей из трех нейронных сетей."
      ],
      "metadata": {
        "id": "B8ckN9hYsrT8"
      }
    },
    {
      "cell_type": "markdown",
      "source": [
        "# 7. Model 5: NLP+MLP+EffNetB6 Multi Input NN"
      ],
      "metadata": {
        "id": "hgFodqphsrT8"
      }
    },
    {
      "cell_type": "markdown",
      "source": [
        "На данном этапе, к multi-input сети, которую мы исследовали п.6. добавляется нейронная сеть, которая занимается обработкой изображений."
      ],
      "metadata": {
        "id": "Fyhb4KG_srT8"
      }
    },
    {
      "cell_type": "markdown",
      "source": [
        "## 7.1. Image Data"
      ],
      "metadata": {
        "id": "N-wQQlqVsrT8"
      }
    },
    {
      "cell_type": "markdown",
      "source": [
        "Загрузим изображения автомобилей, которые будет обрабатывать наша сеть. Для начала проверим, что все имеющиеся у нас в input'е данные подгружены корректтно, выведем 9 изображений из папки img, используя для этого sell_id (вот и пригодился), как название изображения:"
      ],
      "metadata": {
        "id": "xvfizToFsrT9"
      }
    },
    {
      "cell_type": "code",
      "source": [
        "# Укажем размер выводимого изображения\n",
        "plt.figure(figsize=(10, 6))\n",
        "# 9 случайных примеров из train\n",
        "random_image = train.sample(n=9)\n",
        "random_image_paths = random_image['sell_id'].values\n",
        "random_image_cat = random_image['price'].values\n",
        "# выведем 9 изображений автомобилей и цен к ним\n",
        "for index, path in enumerate(random_image_paths):\n",
        "    im = PIL.Image.open(DATA_DIR+'img/img/' + str(path) + '.jpg')\n",
        "    plt.subplot(3, 3, index + 1)\n",
        "    plt.imshow(im)\n",
        "    plt.title('price: ' + str(random_image_cat[index]))\n",
        "    plt.axis('off')\n",
        "plt.show()"
      ],
      "metadata": {
        "execution": {
          "iopub.status.busy": "2022-05-16T10:03:45.992463Z",
          "iopub.status.idle": "2022-05-16T10:03:45.992967Z"
        },
        "trusted": true,
        "id": "6Ao2W7eesrT9"
      },
      "execution_count": null,
      "outputs": []
    },
    {
      "cell_type": "markdown",
      "source": [
        "Как видно, все вывелось корректно, никаких нареканий не имеется. Теперь загрузим все имеющиеся изображения с форматом 320х240:"
      ],
      "metadata": {
        "id": "U8qM3FVosrT-"
      }
    },
    {
      "cell_type": "code",
      "source": [
        "# Установим размер изображения\n",
        "size = (320, 240)\n",
        "# функция для загрузки изображений\n",
        "\n",
        "\n",
        "def get_image_array(index):\n",
        "    images_set = []\n",
        "    for index, sell_id in enumerate(data['sell_id'].iloc[index].values):\n",
        "        image = cv2.imread(DATA_DIR + 'img/img/' + str(sell_id) + '.jpg')\n",
        "        assert(image is not None)\n",
        "        image = cv2.resize(image, size)  # изменение размера\n",
        "        images_set.append(image)  # добавляем изображение в массив\n",
        "    images_set = np.array(images_set)\n",
        "    print('images shape', images_set.shape, 'dtype', images_set.dtype)\n",
        "    return(images_set)\n",
        "\n",
        "\n",
        "# применим функцию для создания выборок\n",
        "images_train = get_image_array(X_train.index)\n",
        "images_test = get_image_array(X_test.index)\n",
        "images_sub = get_image_array(X_sub.index)"
      ],
      "metadata": {
        "execution": {
          "iopub.status.busy": "2022-05-16T10:03:45.993887Z",
          "iopub.status.idle": "2022-05-16T10:03:45.994339Z"
        },
        "trusted": true,
        "id": "BzeTx9pasrT-"
      },
      "execution_count": null,
      "outputs": []
    },
    {
      "cell_type": "markdown",
      "source": [
        "Теперь, когда мы загрузили изображения, стоит вспомнить основные этапы проекта Ford vs Ferrari, который мы выполняли ранее. Для начала перейдем к настройкам аугментации изображений."
      ],
      "metadata": {
        "id": "-rx-6z3UsrT-"
      }
    },
    {
      "cell_type": "markdown",
      "source": [
        "## 7.2. Настройки albumentations"
      ],
      "metadata": {
        "id": "92wRLgsysrT-"
      }
    },
    {
      "cell_type": "markdown",
      "source": [
        "Настройки, которые я использую для аугментации изображений, взяты из моего проекта [Ford vs Ferrari](https://www.kaggle.com/alexfoncrow/dst45-47-car-classification-sf/):"
      ],
      "metadata": {
        "id": "-ciwr5rgsrT_"
      }
    },
    {
      "cell_type": "code",
      "source": [
        "augment_module = a.Compose([\n",
        "    # добавляем размытие по Гауссу и шум с вероятностью 7%\n",
        "    a.Blur(p=0.07),\n",
        "    a.GaussNoise(p=0.07),\n",
        "    #  Установим параметры сдвига,поворота и масштабирования, а также укажем их вероятность.\n",
        "    a.ShiftScaleRotate(shift_limit=0.08,\n",
        "                       scale_limit=0.05,\n",
        "                       border_mode=4,\n",
        "                       rotate_limit=20,\n",
        "                       p=0.7),\n",
        "\n",
        "    a.RGBShift(),\n",
        "    a.HueSaturationValue(),  # случайный оттенок и насыщенность\n",
        "    a.HorizontalFlip(),\n",
        "\n",
        "    # установим случайную яркость и контрастность изображений с вероятностью 50%\n",
        "\n",
        "    a.OneOf([\n",
        "            a.RandomBrightnessContrast(\n",
        "                brightness_limit=0.3, contrast_limit=0.3),\n",
        "            a.RandomBrightnessContrast(brightness_limit=0.1, contrast_limit=0.1)],\n",
        "            p=0.3)\n",
        "])\n",
        "\n",
        "# Выведем пример аугментации\n",
        "plt.figure(figsize=(12, 8))\n",
        "for i in range(9):\n",
        "    img = augment_module(image=images_train[0])['image']\n",
        "    plt.subplot(3, 3, i + 1)\n",
        "    plt.imshow(img)\n",
        "    plt.axis('off')\n",
        "plt.show()"
      ],
      "metadata": {
        "execution": {
          "iopub.status.busy": "2022-05-16T10:03:45.995629Z",
          "iopub.status.idle": "2022-05-16T10:03:45.996130Z"
        },
        "trusted": true,
        "id": "WckfhbVwsrT_"
      },
      "execution_count": null,
      "outputs": []
    },
    {
      "cell_type": "markdown",
      "source": [
        "Выше показан пример аугментации для имеющихся изображений."
      ],
      "metadata": {
        "id": "t4Oy_3-YsrT_"
      }
    },
    {
      "cell_type": "markdown",
      "source": [
        "## 7.3. Использование tf.data.Dataset\n",
        "Если все изображения мы будем хранить в памяти, то может возникнуть проблема ее нехватки. Не храните все изображения в памяти целиком!\n",
        "\n",
        "Метод .fit() модели keras может принимать либо данные в виде массивов или тензоров, либо разного рода итераторы, из которых наиболее современным и гибким является [tf.data.Dataset](https://www.tensorflow.org/guide/data). Он представляет собой конвейер, то есть мы указываем, откуда берем данные и какую цепочку преобразований с ними выполняем. Далее мы будем работать с tf.data.Dataset.\n",
        "\n",
        "Dataset хранит информацию о конечном или бесконечном наборе кортежей (tuple) с данными и может возвращать эти наборы по очереди. Например, данными могут быть пары (input, target) для обучения нейросети. С данными можно осуществлять преобразования, которые осуществляются по мере необходимости ([lazy evaluation](https://ru.wikipedia.org/wiki/%D0%9B%D0%B5%D0%BD%D0%B8%D0%B2%D1%8B%D0%B5_%D0%B2%D1%8B%D1%87%D0%B8%D1%81%D0%BB%D0%B5%D0%BD%D0%B8%D1%8F)).\n",
        "\n",
        "`tf.data.Dataset.from_tensor_slices(data)` - создает датасет из данных, которые представляют собой либо массив, либо кортеж из массивов. Деление осуществляется по первому индексу каждого массива. Например, если `data = (np.zeros((128, 256, 256)), np.zeros(128))`, то датасет будет содержать 128 элементов, каждый из которых содержит один массив 256x256 и одно число.\n",
        "\n",
        "`dataset2 = dataset1.map(func)` - применение функции к датасету; функция должна принимать столько аргументов, каков размер кортежа в датасете 1 и возвращать столько, сколько нужно иметь в датасете 2. Пусть, например, датасет содержит изображения и метки, а нам нужно создать датасет только из изображений, тогда мы напишем так: `dataset2 = dataset.map(lambda img, label: img)`.\n",
        "\n",
        "`dataset2 = dataset1.batch(8)` - группировка по батчам; если датасет 2 должен вернуть один элемент, то он берет из датасета 1 восемь элементов, склеивает их (нулевой индекс результата - номер элемента) и возвращает.\n",
        "\n",
        "`dataset.__iter__()` - превращение датасета в итератор, из которого можно получать элементы методом `.__next__()`. Итератор, в отличие от самого датасета, хранит позицию текущего элемента. Можно также перебирать датасет циклом for.\n",
        "\n",
        "`dataset2 = dataset1.repeat(X)` - датасет 2 будет повторять датасет 1 X раз.\n",
        "\n",
        "Если нам нужно взять из датасета 1000 элементов и использовать их как тестовые, а остальные как обучающие, то мы напишем так:\n",
        "\n",
        "`test_dataset = dataset.take(1000)\n",
        "train_dataset = dataset.skip(1000)`\n",
        "\n",
        "Датасет по сути неизменен: такие операции, как map, batch, repeat, take, skip никак не затрагивают оригинальный датасет. Если датасет хранит элементы [1, 2, 3], то выполнив 3 раза подряд функцию dataset.take(1) мы получим 3 новых датасета, каждый из которых вернет число 1. Если же мы выполним функцию dataset.skip(1), мы получим датасет, возвращающий числа [2, 3], но исходный датасет все равно будет возвращать [1, 2, 3] каждый раз, когда мы его перебираем.\n",
        "\n",
        "tf.Dataset всегда выполняется в graph-режиме (в противоположность eager-режиму), поэтому либо преобразования (`.map()`) должны содержать только tensorflow-функции, либо мы должны использовать tf.py_function в качестве обертки для функций, вызываемых в `.map()`. Подробнее можно прочитать [здесь](https://www.tensorflow.org/guide/data#applying_arbitrary_python_logic)."
      ],
      "metadata": {
        "id": "dljMPUSosrUA"
      }
    },
    {
      "cell_type": "markdown",
      "source": [
        " Для обработки данных при помощи tf.data.Dataset необходимо провести некоторую подготовку данных. Начнем с обучения нашего токенизатора:"
      ],
      "metadata": {
        "id": "KTF4zdqUsrUA"
      }
    },
    {
      "cell_type": "code",
      "source": [
        "# обучение токенизатора для NLP\n",
        "tokenize = Tokenizer(num_words=MAX_WORDS)\n",
        "tokenize.fit_on_texts(str_without_stop)"
      ],
      "metadata": {
        "execution": {
          "iopub.status.busy": "2022-05-16T10:03:45.998445Z",
          "iopub.status.idle": "2022-05-16T10:03:45.999177Z"
        },
        "trusted": true,
        "id": "0z-oVTPtsrUA"
      },
      "execution_count": null,
      "outputs": []
    },
    {
      "cell_type": "markdown",
      "source": [
        "Теперь создадим функции, которые будут применяться к имеющимся у нас данным:"
      ],
      "metadata": {
        "id": "cM-qwSx2srUA"
      }
    },
    {
      "cell_type": "code",
      "source": [
        "# аугментация изображений\n",
        "def process_image(image):\n",
        "    return augment_module(image=image.numpy())['image']\n",
        "# векторизация строки\n",
        "\n",
        "\n",
        "def tokenize_(descriptions):\n",
        "    return sequence.pad_sequences(tokenize.texts_to_sequences(descriptions), maxlen=MAX_SEQUENCE_LENGTH)\n",
        "# применение векторизации к тексту\n",
        "\n",
        "\n",
        "def tokenize_text(text):\n",
        "    return tokenize_([text.numpy().decode('utf-8')])[0]\n",
        "# функция  для применения вышеупомянутых функций к входным данным обучающей выборки\n",
        "\n",
        "\n",
        "def tf_process_train_dataset_element(image, table_data, text, price):\n",
        "    im_shape = image.shape\n",
        "    [image, ] = tf.py_function(process_image, [image], [tf.uint8])\n",
        "    image.set_shape(im_shape)\n",
        "    [text, ] = tf.py_function(tokenize_text, [text], [tf.int32])\n",
        "    return (image, table_data, text), price\n",
        "# функция  для применения вышеупомянутых функций к входным данным валидационной и тестовой выборкок\n",
        "\n",
        "\n",
        "def tf_process_val_dataset_element(image, table_data, text, price):\n",
        "    [text, ] = tf.py_function(tokenize_text, [text], [tf.int32])\n",
        "    return (image, table_data, text), price\n",
        "\n",
        "\n",
        "# использование tf.data.Dataset с использованием функций для обучающей выборки\n",
        "train_dataset = tf.data.Dataset.from_tensor_slices((\n",
        "    images_train, X_train, data.description.iloc[X_train.index], y_train\n",
        ")).map(tf_process_train_dataset_element)\n",
        "# использование tf.data.Dataset с использованием функций для валидационной выборки\n",
        "test_dataset = tf.data.Dataset.from_tensor_slices((\n",
        "    images_test, X_test, data.description.iloc[X_test.index], y_test\n",
        ")).map(tf_process_val_dataset_element)\n",
        "# использование tf.data.Dataset с использованием функций для тестовой выборки\n",
        "y_sub = np.zeros(len(X_sub))\n",
        "sub_dataset = tf.data.Dataset.from_tensor_slices((\n",
        "    images_sub, X_sub, data.description.iloc[X_sub.index], y_sub\n",
        ")).map(tf_process_val_dataset_element)\n",
        "\n",
        "# проверяем, что нет ошибок (не будет выброшено исключение):\n",
        "train_dataset.__iter__().__next__()\n",
        "test_dataset.__iter__().__next__()\n",
        "sub_dataset.__iter__().__next__()"
      ],
      "metadata": {
        "_kg_hide-output": true,
        "execution": {
          "iopub.status.busy": "2022-05-16T10:03:46.000353Z",
          "iopub.status.idle": "2022-05-16T10:03:46.001079Z"
        },
        "trusted": true,
        "id": "lK8op9CdsrUB"
      },
      "execution_count": null,
      "outputs": []
    },
    {
      "cell_type": "markdown",
      "source": [
        "## 7.4. Fine-tune EfficientNet"
      ],
      "metadata": {
        "id": "s4o3FmSBsrUC"
      }
    },
    {
      "cell_type": "markdown",
      "source": [
        "На данном этапе я обращался к сайту paperswithcode, чтобы определить, какую сеть будет использовать оптимально. Были рассмотрены три сети, имеющиеся в tensorflow:\n",
        "* EfficientNetB3\n",
        "* EfficientNetB6\n",
        "* EfficientNetB7\n",
        "\n",
        "Я остановился на EffNetB6, т.к. она показалась мне наиболее оптимальной. Первоначально я взял B7, но она очень долго обучается, особенно если использовать ReduceLROnPLateau, я бы не уложился в квоту на сохранение.  B3 дал результат чуть хуже, чем B6."
      ],
      "metadata": {
        "id": "4FAFAaBosrUC"
      }
    },
    {
      "cell_type": "markdown",
      "source": [
        "Загрузим исследуемую модель:"
      ],
      "metadata": {
        "id": "ZnML7BfjsrUD"
      }
    },
    {
      "cell_type": "code",
      "source": [
        "# загрузим модель без \"головы\" и укажем, что она может обучаться\n",
        "efficientnet_model = tf.keras.applications.efficientnet.EfficientNetB6(\n",
        "    weights='imagenet', include_top=False, input_shape=(size[1], size[0], 3))\n",
        "efficientnet_model.trainable = True"
      ],
      "metadata": {
        "execution": {
          "iopub.status.busy": "2022-05-16T10:03:46.002091Z",
          "iopub.status.idle": "2022-05-16T10:03:46.002599Z"
        },
        "trusted": true,
        "id": "Eiu5ACcssrUD"
      },
      "execution_count": null,
      "outputs": []
    },
    {
      "cell_type": "markdown",
      "source": [
        "Проведем Fine-Tuning, заморозив 1\\4 нижних слоев модели:"
      ],
      "metadata": {
        "id": "825sOopAsrUD"
      }
    },
    {
      "cell_type": "code",
      "source": [
        "# Заморозим 1\\4 нижних слоев модели\n",
        "for layer in efficientnet_model.layers[:len(efficientnet_model.layers)//4]:\n",
        "    layer.trainable = False"
      ],
      "metadata": {
        "execution": {
          "iopub.status.busy": "2022-05-16T10:03:46.003695Z",
          "iopub.status.idle": "2022-05-16T10:03:46.004171Z"
        },
        "trusted": true,
        "id": "_HOQkrSgsrUD"
      },
      "execution_count": null,
      "outputs": []
    },
    {
      "cell_type": "markdown",
      "source": [
        "Посмотрим общее количество слоев в модели и какие из них могут обучаться:"
      ],
      "metadata": {
        "id": "KHqgP5R9srUD"
      }
    },
    {
      "cell_type": "code",
      "source": [
        "print(len(efficientnet_model.layers))\n",
        "\n",
        "for layer in efficientnet_model.layers:\n",
        "    print(layer, layer.trainable)"
      ],
      "metadata": {
        "_kg_hide-output": true,
        "execution": {
          "iopub.status.busy": "2022-05-16T10:03:46.005404Z",
          "iopub.status.idle": "2022-05-16T10:03:46.005930Z"
        },
        "trusted": true,
        "id": "MD5CbIlYsrUE"
      },
      "execution_count": null,
      "outputs": []
    },
    {
      "cell_type": "markdown",
      "source": [
        "Добавим output-слой для нашей EfficienNet модели:"
      ],
      "metadata": {
        "id": "PVkp0IHJsrUF"
      }
    },
    {
      "cell_type": "code",
      "source": [
        "efficientnet_output = L.GlobalAveragePooling2D()(efficientnet_model.output)"
      ],
      "metadata": {
        "execution": {
          "iopub.status.busy": "2022-05-16T10:03:46.006928Z",
          "iopub.status.idle": "2022-05-16T10:03:46.008483Z"
        },
        "trusted": true,
        "id": "LyzEsMNBsrUG"
      },
      "execution_count": null,
      "outputs": []
    },
    {
      "cell_type": "markdown",
      "source": [
        "Архитектура Табличной нейронной сети и RNN NLP взята из п.6."
      ],
      "metadata": {
        "id": "pww2moQcsrUG"
      }
    },
    {
      "cell_type": "code",
      "source": [
        "# Табличная нейронная сеть\n",
        "tabular_model = Sequential([\n",
        "    L.Input(shape=X.shape[1]),\n",
        "    L.Dense(512, input_dim=X_train.shape[1], activation=\"relu\"),\n",
        "    L.Dropout(0.5),\n",
        "    L.Dense(256, kernel_regularizer=regularizers.l2(\n",
        "        l2=1e-6), activation=\"relu\"),\n",
        "    L.Dropout(0.5),\n",
        "    L.Dense(128, kernel_regularizer=regularizers.l2(\n",
        "        l2=1e-5), activation=\"relu\"),\n",
        "    L.Dropout(0.25)\n",
        "])"
      ],
      "metadata": {
        "execution": {
          "iopub.status.busy": "2022-05-16T10:03:46.009612Z",
          "iopub.status.idle": "2022-05-16T10:03:46.010084Z"
        },
        "trusted": true,
        "id": "G4LyaOZ2srUG"
      },
      "execution_count": null,
      "outputs": []
    },
    {
      "cell_type": "code",
      "source": [
        "# Нейронная сеть для NLP\n",
        "nlp_model = Sequential([\n",
        "    L.Input(shape=MAX_SEQUENCE_LENGTH, name=\"seq_description\"),\n",
        "    L.Embedding(len(tokenize.word_index)+1, MAX_SEQUENCE_LENGTH,),\n",
        "    L.LayerNormalization(),\n",
        "    L.LSTM(256, return_sequences=True),\n",
        "    L.Dropout(0.5),\n",
        "    L.Dense(128, activation=\"sigmoid\"),\n",
        "    L.Dropout(0.5),\n",
        "    L.LSTM(64,),\n",
        "    L.Dropout(0.25),\n",
        "    L.Dense(64, activation=\"relu\"),\n",
        "    L.Dropout(0.25),\n",
        "])"
      ],
      "metadata": {
        "execution": {
          "iopub.status.busy": "2022-05-16T10:03:46.011150Z",
          "iopub.status.idle": "2022-05-16T10:03:46.011686Z"
        },
        "trusted": true,
        "id": "-PrhDWU8srUH"
      },
      "execution_count": null,
      "outputs": []
    },
    {
      "cell_type": "markdown",
      "source": [
        "Теперь, когда мы создали все три нейронных сети, объединим их с помощью единой \"головы\". Здесь было исследовано 2 варианта головы с различным количеством юнитов в dense-слое (256 и 128), финальный вариант представлен ниже:"
      ],
      "metadata": {
        "id": "e_KiwvSZsrUH"
      }
    },
    {
      "cell_type": "code",
      "source": [
        "# объединяем выходы трех нейросетей\n",
        "combinedInput = L.concatenate(\n",
        "    [efficientnet_output, tabular_model.output, nlp_model.output])\n",
        "\n",
        "# being our regression head\n",
        "head = L.Dense(128, activation=\"relu\")(combinedInput)\n",
        "head = L.Dense(1,)(head)\n",
        "# Соберем наши части в одну модель\n",
        "model = Model(inputs=[efficientnet_model.input,\n",
        "                      tabular_model.input, nlp_model.input], outputs=head)\n",
        "# посмотрим описание нашей модели\n",
        "model.summary()"
      ],
      "metadata": {
        "_kg_hide-output": true,
        "execution": {
          "iopub.status.busy": "2022-05-16T10:03:46.012782Z",
          "iopub.status.idle": "2022-05-16T10:03:46.013499Z"
        },
        "trusted": true,
        "id": "hK4J0Wz2srUH"
      },
      "execution_count": null,
      "outputs": []
    },
    {
      "cell_type": "markdown",
      "source": [
        "Теперь можно приступать к компиляции и обучению нашей модели:"
      ],
      "metadata": {
        "id": "xh70IXbasrUH"
      }
    },
    {
      "cell_type": "code",
      "source": [
        "# укажем используемый оптимизатор и начальную скорость обучения\n",
        "optimizer = tf.keras.optimizers.Adam(0.01)\n",
        "# компиляция модели\n",
        "model.compile(loss='MAPE', optimizer=optimizer, metrics=['MAPE'])"
      ],
      "metadata": {
        "execution": {
          "iopub.status.busy": "2022-05-16T10:03:46.014841Z",
          "iopub.status.idle": "2022-05-16T10:03:46.015369Z"
        },
        "trusted": true,
        "id": "EcaxS5yasrUI"
      },
      "execution_count": null,
      "outputs": []
    },
    {
      "cell_type": "markdown",
      "source": [
        "Немного изменим список наших коллбэков:\n",
        "1. Для EarlyStopping укажем 10 эпох для завершения обучения\n",
        "2. Для ReduceLROnPlateau:\n",
        "    * укажем 3 эпохи для изменения скорости обучения\n",
        "    * установим минимальную скорость обучения 0.00001"
      ],
      "metadata": {
        "id": "AMTuBAewsrUI"
      }
    },
    {
      "cell_type": "code",
      "source": [
        "checkpoint = ModelCheckpoint(\n",
        "    '../working/best_model.hdf5', monitor=['val_MAPE'], verbose=0, mode='min')\n",
        "earlystop1 = EarlyStopping(\n",
        "    monitor='val_MAPE', patience=10, restore_best_weights=True,)\n",
        "lr_scheduler1 = ReduceLROnPlateau(monitor='val_loss',\n",
        "                                  factor=0.5,  # уменьшим lr в 2 раза\n",
        "                                  patience=3,  # если нет улучшения через 3 эпохи - уменьшить lr\n",
        "                                  min_lr=0.00001,  # минимальная скорость обучения\n",
        "                                  verbose=1,  # выводить сообщения об уменьшении скорости\n",
        "                                  mode='auto')  # выбранный способ отслеживания метрики\n",
        "callbacks_list1 = [checkpoint, earlystop1, lr_scheduler1]"
      ],
      "metadata": {
        "execution": {
          "iopub.status.busy": "2022-05-16T10:03:46.016460Z",
          "iopub.status.idle": "2022-05-16T10:03:46.017048Z"
        },
        "trusted": true,
        "id": "CvCLj1yasrUI"
      },
      "execution_count": null,
      "outputs": []
    },
    {
      "cell_type": "markdown",
      "source": [
        "Теперь обучим нашу модель (максимальное количество эпох = 60 для того, чтобы влезть в квоту на сохранение):"
      ],
      "metadata": {
        "id": "XzX7z-LcsrUI"
      }
    },
    {
      "cell_type": "code",
      "source": [
        "history = model.fit(train_dataset.batch(30),\n",
        "                    epochs=60,\n",
        "                    validation_data=test_dataset.batch(30),\n",
        "                    callbacks=callbacks_list1\n",
        "                    )"
      ],
      "metadata": {
        "_kg_hide-output": true,
        "execution": {
          "iopub.status.busy": "2022-05-16T10:03:46.018667Z",
          "iopub.status.idle": "2022-05-16T10:03:46.019204Z"
        },
        "trusted": true,
        "id": "019KGLxjsrUJ"
      },
      "execution_count": null,
      "outputs": []
    },
    {
      "cell_type": "markdown",
      "source": [
        "Посмотрим, как выглядит функция потерь:"
      ],
      "metadata": {
        "id": "L85wgWBlsrUJ"
      }
    },
    {
      "cell_type": "code",
      "source": [
        "plt.title('Loss')\n",
        "plt.plot(history.history['MAPE'], label='train')\n",
        "plt.plot(history.history['val_MAPE'], label='test')\n",
        "plt.show()"
      ],
      "metadata": {
        "execution": {
          "iopub.status.busy": "2022-05-16T10:03:46.020435Z",
          "iopub.status.idle": "2022-05-16T10:03:46.021034Z"
        },
        "trusted": true,
        "id": "WTYM7LOWsrUK"
      },
      "execution_count": null,
      "outputs": []
    },
    {
      "cell_type": "markdown",
      "source": [
        "Как можно увидеть, в начале функция потерь валидационной выборки ведет себя нестабильно, то растет, то падает. Однако, при уменьшении скорости обучения, она становится более гладкой, резких скачков уже не наблюдается."
      ],
      "metadata": {
        "id": "YG4GCaCwsrUK"
      }
    },
    {
      "cell_type": "markdown",
      "source": [
        "Загрузим лучшие веса модели и сохраним модель:"
      ],
      "metadata": {
        "id": "sb7P289csrUL"
      }
    },
    {
      "cell_type": "code",
      "source": [
        "model.load_weights('../working/best_model.hdf5')\n",
        "model.save('../working/nn_final.hdf5')"
      ],
      "metadata": {
        "execution": {
          "iopub.status.busy": "2022-05-16T10:03:46.022372Z",
          "iopub.status.idle": "2022-05-16T10:03:46.022936Z"
        },
        "trusted": true,
        "id": "-4v66lfYsrUM"
      },
      "execution_count": null,
      "outputs": []
    },
    {
      "cell_type": "markdown",
      "source": [
        "Посмотрим, как себя будет вести MAPE:"
      ],
      "metadata": {
        "id": "e3VyXmE5srUM"
      }
    },
    {
      "cell_type": "code",
      "source": [
        "test_predict_nn3 = model.predict(test_dataset.batch(30))\n",
        "print(f\"TEST mape: {(mape(y_test, test_predict_nn3[:,0]))*100:0.2f}%\")"
      ],
      "metadata": {
        "execution": {
          "iopub.status.busy": "2022-05-16T10:03:46.024265Z",
          "iopub.status.idle": "2022-05-16T10:03:46.024866Z"
        },
        "trusted": true,
        "id": "cR3xACzYsrUM"
      },
      "execution_count": null,
      "outputs": []
    },
    {
      "cell_type": "markdown",
      "source": [
        "На валидационных данных мы получили метрику немного хуже, чем у простой табличной сети, но лучше чем у multi-input сети без обработки изображений. Это говорит нам о том, что работа проделана не зря и положительный результат наблюдается. Сделаем сабмит:"
      ],
      "metadata": {
        "id": "TzBfB141srUM"
      }
    },
    {
      "cell_type": "code",
      "source": [
        "sub_predict_nn3 = model.predict(sub_dataset.batch(30))\n",
        "sample_submission['price'] = sub_predict_nn3[:, 0]\n",
        "sample_submission.to_csv('nn3_submission.csv', index=False)"
      ],
      "metadata": {
        "execution": {
          "iopub.status.busy": "2022-05-16T10:03:46.025990Z",
          "iopub.status.idle": "2022-05-16T10:03:46.026472Z"
        },
        "trusted": true,
        "id": "i3YLEk3TsrUM"
      },
      "execution_count": null,
      "outputs": []
    },
    {
      "cell_type": "markdown",
      "source": [
        "На тестовых данных нам удалось улучшить метрику до 11.27%, это очень хороший результат.\n",
        "\n",
        "Для дальнейшего улучшения модели, возможно, стоит рассмотреть более сложные сети, которые необходимо подгружать извне, руководствуясь paperswithcode. Это поможет улучшить обработку изображений, а если к этому добавить передовые нейронные сети для обработки табличных данных и NLP-сети, то метрика может вырасти довольно сильно.\n",
        "\n",
        "Я же попробую применить Blending."
      ],
      "metadata": {
        "id": "YQ9w_fCusrUN"
      }
    },
    {
      "cell_type": "markdown",
      "source": [
        "# 8. Blending и Final Submission"
      ],
      "metadata": {
        "id": "O1kSdFZCsrUO"
      }
    },
    {
      "cell_type": "markdown",
      "source": [
        "В качестве конечного результата используем комбинацию из результатов предсказаний некоторых предыдущих моделей:\n",
        "1. CatBoostRegressor\n",
        "2. Табличная нейронная сеть\n",
        "3. NLP+MLP+EffNetB6 Multi Input NN"
      ],
      "metadata": {
        "id": "oiXonnzrsrUO"
      }
    },
    {
      "cell_type": "code",
      "source": [
        "blend_predict = (test_predict_catboost +\n",
        "                 test_predict_nn1[:, 0] + test_predict_nn3[:, 0]) / 3\n",
        "print(f\"TEST mape: {(mape(y_test, blend_predict))*100:0.2f}%\")"
      ],
      "metadata": {
        "execution": {
          "iopub.status.busy": "2022-05-16T10:03:46.027773Z",
          "iopub.status.idle": "2022-05-16T10:03:46.028272Z"
        },
        "trusted": true,
        "id": "j__2_XHosrUO"
      },
      "execution_count": null,
      "outputs": []
    },
    {
      "cell_type": "markdown",
      "source": [
        "Мы добились самой хорошей метрики, которая у нас была! На этом этапе сделаем финальный сабмит:"
      ],
      "metadata": {
        "id": "CBZsJ2jdsrUP"
      }
    },
    {
      "cell_type": "code",
      "source": [
        "blend_sub_predict = (sub_predict_catboost +\n",
        "                     sub_predict_nn1[:, 0] + sub_predict_nn3[:, 0]) / 3\n",
        "sample_submission['price'] = blend_sub_predict\n",
        "sample_submission.to_csv('blend_submission.csv', index=False)"
      ],
      "metadata": {
        "execution": {
          "iopub.status.busy": "2022-05-16T10:03:46.029321Z",
          "iopub.status.idle": "2022-05-16T10:03:46.029867Z"
        },
        "trusted": true,
        "id": "teksCPudsrUP"
      },
      "execution_count": null,
      "outputs": []
    },
    {
      "cell_type": "markdown",
      "source": [
        "Мы получили результат MAPE=10.87%! Данный результат является довольно хорошим достижением, с учетом того, что мы не затрагивали наиболее современные способы решения части задач. Этот сабмит является конечным, перейдем к выводам."
      ],
      "metadata": {
        "id": "S7mz6zLisrUP"
      }
    },
    {
      "cell_type": "markdown",
      "source": [
        "# 9. Выводы"
      ],
      "metadata": {
        "id": "ZU5LwC6QsrUP"
      }
    },
    {
      "cell_type": "markdown",
      "source": [
        "Как и в предыдущих проектах, скажу - я не уверен, что все параметры и архитектуры сетей подобраны лучшим образом, но результат получился хороший. Была проведена предварительная обработка данных, выделены новые фичи, которые использовались при обучении модели. Здесь хочется отметить, что лучшим решением было бы найти фичу, которая еще сильнее погасила бы взаимную корреляцию между столбцами model_time и productionDate. Я думаю, это бы привело к улучшению метрики.\n",
        "\n",
        "Были исследованы различные способы обработки текста для RNN NLP. Здесь, возможно, стоило бы избавиться от используемых в тексте emoji, либо же применить, например, BERT. Насколько я успел прочитать, он очень хорошо справляется с поставленными задачами. Плюс На основе BERT можно создать модель, которая будет работать вместо нашей RNN NLP.\n",
        "\n",
        "С табличными данными примерно та же история, вместо стандартной сборки модели можно использовать сеть TabNet. Насколько я изучил материал по ней, в большинстве задач она показывает себя очень хорошо при работе с табличными данными.\n",
        "\n",
        "Для обработки изображений - есть множество вариантов - от изменения настроек и способа аугментации до изменения обучаемой нами модели. Для достоверности - лучше выбирать модель в соответствии с современными решениями, но не забывать про ограничение на используемой платформе.\n",
        "\n",
        "Проект получился очень интересный, я узнал много различных вещей, которые могут помочь мне в дальнейшем. Также сформировал несколько вопросов, на которые бы очень хотелось получить ответ.\n",
        "\n",
        "По результатам выполнения  проекта были получены следующие метрики MAPE:\n",
        "1. CatBoostRegressor - 11.87%\n",
        "2. Smiple Dense NN - 11.36%\n",
        "3. MLP + RNN NLP  - 11.38%\n",
        "4. MLP + NLP + EffNetB6 - 11.27%\n",
        "5. Blending(1+2+4) - 10.87%"
      ],
      "metadata": {
        "id": "P-UefFvJsrUP"
      }
    },
    {
      "cell_type": "code",
      "source": [
        ""
      ],
      "metadata": {
        "id": "0ZOFHES9srUQ"
      },
      "execution_count": null,
      "outputs": []
    },
    {
      "cell_type": "code",
      "source": [
        ""
      ],
      "metadata": {
        "id": "j5WFmpExsrUQ"
      },
      "execution_count": null,
      "outputs": []
    },
    {
      "cell_type": "code",
      "source": [
        ""
      ],
      "metadata": {
        "id": "f5LdnXIqsrUQ"
      },
      "execution_count": null,
      "outputs": []
    }
  ]
}