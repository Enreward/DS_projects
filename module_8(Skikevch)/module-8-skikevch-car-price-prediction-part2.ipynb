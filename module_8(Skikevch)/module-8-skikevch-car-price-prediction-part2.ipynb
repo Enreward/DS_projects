{
  "cells": [
    {
      "cell_type": "markdown",
      "metadata": {
        "id": "NOm2J2uOu_1R"
      },
      "source": [
        "Вспомогательный флаг для удобства использования на раных платформах"
      ]
    },
    {
      "cell_type": "code",
      "execution_count": 14,
      "metadata": {
        "id": "rSIyrt3yu5cS"
      },
      "outputs": [],
      "source": [
        "# True - для Google Colab\n",
        "# False - для Kaggle\n",
        "is_colab = True"
      ]
    },
    {
      "cell_type": "markdown",
      "metadata": {
        "id": "M_5Mtw8gsrRE"
      },
      "source": [
        "# Прогнозирование стоимости автомобиля по характеристикам\n",
        "Цель:  \n",
        "Разработать Multi-input модель для предсказания стоимости автомобиля по различным данным - табличным, текстовым и графическим.\n",
        "\n",
        "Задачи:  \n"
      ]
    },
    {
      "cell_type": "markdown",
      "metadata": {
        "id": "Rv8EzkJIsrRV"
      },
      "source": [
        "## Этапы проекта:\n"
      ]
    },
    {
      "cell_type": "markdown",
      "metadata": {
        "id": "vy0Eu4_EsrRb"
      },
      "source": [
        "# 0. Установка и загрузка библиотек"
      ]
    },
    {
      "cell_type": "code",
      "execution_count": 1,
      "metadata": {
        "colab": {
          "base_uri": "https://localhost:8080/"
        },
        "id": "Q2rDkbZGsrRc",
        "outputId": "846b459c-4805-4ee0-ed45-050a39e288b7"
      },
      "outputs": [
        {
          "output_type": "stream",
          "name": "stdout",
          "text": [
            "Looking in indexes: https://pypi.org/simple, https://us-python.pkg.dev/colab-wheels/public/simple/\n",
            "Requirement already satisfied: pip in /usr/local/lib/python3.7/dist-packages (21.1.3)\n",
            "Collecting pip\n",
            "  Downloading pip-22.1.2-py3-none-any.whl (2.1 MB)\n",
            "\u001b[K     |████████████████████████████████| 2.1 MB 5.2 MB/s \n",
            "\u001b[?25hInstalling collected packages: pip\n",
            "  Attempting uninstall: pip\n",
            "    Found existing installation: pip 21.1.3\n",
            "    Uninstalling pip-21.1.3:\n",
            "      Successfully uninstalled pip-21.1.3\n",
            "Successfully installed pip-22.1.2\n"
          ]
        }
      ],
      "source": [
        "!pip install --upgrade pip"
      ]
    },
    {
      "cell_type": "code",
      "execution_count": 2,
      "metadata": {
        "colab": {
          "base_uri": "https://localhost:8080/"
        },
        "id": "kbbOnx05srRl",
        "outputId": "0cfe32ab-4336-460d-8536-330fb1d512d8"
      },
      "outputs": [
        {
          "output_type": "stream",
          "name": "stdout",
          "text": [
            "\u001b[?25l     \u001b[90m━━━━━━━━━━━━━━━━━━━━━━━━━━━━━━━━━━━━━━━━\u001b[0m \u001b[32m0.0/631.4 kB\u001b[0m \u001b[31m?\u001b[0m eta \u001b[36m-:--:--\u001b[0m\r\u001b[2K     \u001b[90m━━━━━━━━━━━━━━━━━━━━━━━━━━━━━━━━━━━━━━\u001b[0m \u001b[32m631.4/631.4 kB\u001b[0m \u001b[31m21.4 MB/s\u001b[0m eta \u001b[36m0:00:00\u001b[0m\n",
            "\u001b[?25h  Preparing metadata (setup.py) ... \u001b[?25l\u001b[?25hdone\n",
            "  Building wheel for imgaug (setup.py) ... \u001b[?25l\u001b[?25hdone\n",
            "\u001b[33mWARNING: Running pip as the 'root' user can result in broken permissions and conflicting behaviour with the system package manager. It is recommended to use a virtual environment instead: https://pip.pypa.io/warnings/venv\u001b[0m\u001b[33m\n",
            "\u001b[0m"
          ]
        }
      ],
      "source": [
        "# аугментации изображений\n",
        "!pip install albumentations -q"
      ]
    },
    {
      "cell_type": "code",
      "execution_count": 3,
      "metadata": {
        "colab": {
          "base_uri": "https://localhost:8080/"
        },
        "id": "s975UpWlsrRv",
        "outputId": "ac7fcc84-854e-42a8-d84b-2332c47871cd"
      },
      "outputs": [
        {
          "output_type": "stream",
          "name": "stdout",
          "text": [
            "Looking in indexes: https://pypi.org/simple, https://us-python.pkg.dev/colab-wheels/public/simple/\n",
            "Collecting pymorphy2\n",
            "  Downloading pymorphy2-0.9.1-py3-none-any.whl (55 kB)\n",
            "\u001b[?25l     \u001b[90m━━━━━━━━━━━━━━━━━━━━━━━━━━━━━━━━━━━━━━━━\u001b[0m \u001b[32m0.0/55.5 kB\u001b[0m \u001b[31m?\u001b[0m eta \u001b[36m-:--:--\u001b[0m\r\u001b[2K     \u001b[90m━━━━━━━━━━━━━━━━━━━━━━━━━━━━━━━━━━━━━━━━\u001b[0m \u001b[32m55.5/55.5 kB\u001b[0m \u001b[31m8.9 MB/s\u001b[0m eta \u001b[36m0:00:00\u001b[0m\n",
            "\u001b[?25hCollecting dawg-python>=0.7.1\n",
            "  Downloading DAWG_Python-0.7.2-py2.py3-none-any.whl (11 kB)\n",
            "Requirement already satisfied: docopt>=0.6 in /usr/local/lib/python3.7/dist-packages (from pymorphy2) (0.6.2)\n",
            "Collecting pymorphy2-dicts-ru<3.0,>=2.4\n",
            "  Downloading pymorphy2_dicts_ru-2.4.417127.4579844-py2.py3-none-any.whl (8.2 MB)\n",
            "\u001b[2K     \u001b[90m━━━━━━━━━━━━━━━━━━━━━━━━━━━━━━━━━━━━━━━━\u001b[0m \u001b[32m8.2/8.2 MB\u001b[0m \u001b[31m84.4 MB/s\u001b[0m eta \u001b[36m0:00:00\u001b[0m\n",
            "\u001b[?25hInstalling collected packages: pymorphy2-dicts-ru, dawg-python, pymorphy2\n",
            "Successfully installed dawg-python-0.7.2 pymorphy2-0.9.1 pymorphy2-dicts-ru-2.4.417127.4579844\n",
            "\u001b[33mWARNING: Running pip as the 'root' user can result in broken permissions and conflicting behaviour with the system package manager. It is recommended to use a virtual environment instead: https://pip.pypa.io/warnings/venv\u001b[0m\u001b[33m\n",
            "\u001b[0mLooking in indexes: https://pypi.org/simple, https://us-python.pkg.dev/colab-wheels/public/simple/\n",
            "Collecting pymorphy2-dicts\n",
            "  Downloading pymorphy2_dicts-2.4.393442.3710985-py2.py3-none-any.whl (7.1 MB)\n",
            "\u001b[2K     \u001b[90m━━━━━━━━━━━━━━━━━━━━━━━━━━━━━━━━━━━━━━━━\u001b[0m \u001b[32m7.1/7.1 MB\u001b[0m \u001b[31m53.9 MB/s\u001b[0m eta \u001b[36m0:00:00\u001b[0m\n",
            "\u001b[?25hInstalling collected packages: pymorphy2-dicts\n",
            "Successfully installed pymorphy2-dicts-2.4.393442.3710985\n",
            "\u001b[33mWARNING: Running pip as the 'root' user can result in broken permissions and conflicting behaviour with the system package manager. It is recommended to use a virtual environment instead: https://pip.pypa.io/warnings/venv\u001b[0m\u001b[33m\n",
            "\u001b[0m"
          ]
        }
      ],
      "source": [
        "!pip install pymorphy2\n",
        "!pip install pymorphy2-dicts"
      ]
    },
    {
      "cell_type": "code",
      "execution_count": 4,
      "metadata": {
        "colab": {
          "base_uri": "https://localhost:8080/"
        },
        "id": "3IJxMSrL1jNg",
        "outputId": "9734cc98-b6e1-4f0c-ac98-6dff0218c964"
      },
      "outputs": [
        {
          "output_type": "stream",
          "name": "stdout",
          "text": [
            "Looking in indexes: https://pypi.org/simple, https://us-python.pkg.dev/colab-wheels/public/simple/\n",
            "Collecting catboost\n",
            "  Downloading catboost-1.0.6-cp37-none-manylinux1_x86_64.whl (76.6 MB)\n",
            "\u001b[2K     \u001b[90m━━━━━━━━━━━━━━━━━━━━━━━━━━━━━━━━━━━━━━━━\u001b[0m \u001b[32m76.6/76.6 MB\u001b[0m \u001b[31m10.8 MB/s\u001b[0m eta \u001b[36m0:00:00\u001b[0m\n",
            "\u001b[?25hRequirement already satisfied: pandas>=0.24.0 in /usr/local/lib/python3.7/dist-packages (from catboost) (1.3.5)\n",
            "Requirement already satisfied: matplotlib in /usr/local/lib/python3.7/dist-packages (from catboost) (3.2.2)\n",
            "Requirement already satisfied: graphviz in /usr/local/lib/python3.7/dist-packages (from catboost) (0.10.1)\n",
            "Requirement already satisfied: scipy in /usr/local/lib/python3.7/dist-packages (from catboost) (1.4.1)\n",
            "Requirement already satisfied: numpy>=1.16.0 in /usr/local/lib/python3.7/dist-packages (from catboost) (1.21.6)\n",
            "Requirement already satisfied: six in /usr/local/lib/python3.7/dist-packages (from catboost) (1.15.0)\n",
            "Requirement already satisfied: plotly in /usr/local/lib/python3.7/dist-packages (from catboost) (5.5.0)\n",
            "Requirement already satisfied: python-dateutil>=2.7.3 in /usr/local/lib/python3.7/dist-packages (from pandas>=0.24.0->catboost) (2.8.2)\n",
            "Requirement already satisfied: pytz>=2017.3 in /usr/local/lib/python3.7/dist-packages (from pandas>=0.24.0->catboost) (2022.1)\n",
            "Requirement already satisfied: cycler>=0.10 in /usr/local/lib/python3.7/dist-packages (from matplotlib->catboost) (0.11.0)\n",
            "Requirement already satisfied: kiwisolver>=1.0.1 in /usr/local/lib/python3.7/dist-packages (from matplotlib->catboost) (1.4.2)\n",
            "Requirement already satisfied: pyparsing!=2.0.4,!=2.1.2,!=2.1.6,>=2.0.1 in /usr/local/lib/python3.7/dist-packages (from matplotlib->catboost) (3.0.9)\n",
            "Requirement already satisfied: tenacity>=6.2.0 in /usr/local/lib/python3.7/dist-packages (from plotly->catboost) (8.0.1)\n",
            "Requirement already satisfied: typing-extensions in /usr/local/lib/python3.7/dist-packages (from kiwisolver>=1.0.1->matplotlib->catboost) (4.2.0)\n",
            "Installing collected packages: catboost\n",
            "Successfully installed catboost-1.0.6\n",
            "\u001b[33mWARNING: Running pip as the 'root' user can result in broken permissions and conflicting behaviour with the system package manager. It is recommended to use a virtual environment instead: https://pip.pypa.io/warnings/venv\u001b[0m\u001b[33m\n",
            "\u001b[0m"
          ]
        }
      ],
      "source": [
        "!pip install catboost"
      ]
    },
    {
      "cell_type": "code",
      "execution_count": 5,
      "metadata": {
        "colab": {
          "base_uri": "https://localhost:8080/"
        },
        "id": "LFPIF2TzLa-d",
        "outputId": "ad1770a1-8781-4ba2-e7f6-1e3defcc01a9"
      },
      "outputs": [
        {
          "output_type": "stream",
          "name": "stdout",
          "text": [
            "Looking in indexes: https://pypi.org/simple, https://us-python.pkg.dev/colab-wheels/public/simple/\n",
            "Collecting category_encoders\n",
            "  Downloading category_encoders-2.5.0-py2.py3-none-any.whl (69 kB)\n",
            "\u001b[2K     \u001b[90m━━━━━━━━━━━━━━━━━━━━━━━━━━━━━━━━━━━━━━━━\u001b[0m \u001b[32m69.1/69.1 kB\u001b[0m \u001b[31m5.7 MB/s\u001b[0m eta \u001b[36m0:00:00\u001b[0m\n",
            "\u001b[?25hRequirement already satisfied: numpy>=1.14.0 in /usr/local/lib/python3.7/dist-packages (from category_encoders) (1.21.6)\n",
            "Requirement already satisfied: scipy>=1.0.0 in /usr/local/lib/python3.7/dist-packages (from category_encoders) (1.4.1)\n",
            "Requirement already satisfied: patsy>=0.5.1 in /usr/local/lib/python3.7/dist-packages (from category_encoders) (0.5.2)\n",
            "Requirement already satisfied: pandas>=1.0.5 in /usr/local/lib/python3.7/dist-packages (from category_encoders) (1.3.5)\n",
            "Requirement already satisfied: scikit-learn>=0.20.0 in /usr/local/lib/python3.7/dist-packages (from category_encoders) (1.0.2)\n",
            "Requirement already satisfied: statsmodels>=0.9.0 in /usr/local/lib/python3.7/dist-packages (from category_encoders) (0.10.2)\n",
            "Requirement already satisfied: python-dateutil>=2.7.3 in /usr/local/lib/python3.7/dist-packages (from pandas>=1.0.5->category_encoders) (2.8.2)\n",
            "Requirement already satisfied: pytz>=2017.3 in /usr/local/lib/python3.7/dist-packages (from pandas>=1.0.5->category_encoders) (2022.1)\n",
            "Requirement already satisfied: six in /usr/local/lib/python3.7/dist-packages (from patsy>=0.5.1->category_encoders) (1.15.0)\n",
            "Requirement already satisfied: threadpoolctl>=2.0.0 in /usr/local/lib/python3.7/dist-packages (from scikit-learn>=0.20.0->category_encoders) (3.1.0)\n",
            "Requirement already satisfied: joblib>=0.11 in /usr/local/lib/python3.7/dist-packages (from scikit-learn>=0.20.0->category_encoders) (1.1.0)\n",
            "Installing collected packages: category_encoders\n",
            "Successfully installed category_encoders-2.5.0\n",
            "\u001b[33mWARNING: Running pip as the 'root' user can result in broken permissions and conflicting behaviour with the system package manager. It is recommended to use a virtual environment instead: https://pip.pypa.io/warnings/venv\u001b[0m\u001b[33m\n",
            "\u001b[0m"
          ]
        }
      ],
      "source": [
        "!pip install category_encoders\n"
      ]
    },
    {
      "cell_type": "code",
      "source": [
        "!pip install git+https://github.com/titu1994/tf-TabNet.git"
      ],
      "metadata": {
        "colab": {
          "base_uri": "https://localhost:8080/"
        },
        "id": "_zVN32M5PGAe",
        "outputId": "c241101c-1cad-4f2b-8a16-aeb90adfcae5"
      },
      "execution_count": 6,
      "outputs": [
        {
          "output_type": "stream",
          "name": "stdout",
          "text": [
            "Looking in indexes: https://pypi.org/simple, https://us-python.pkg.dev/colab-wheels/public/simple/\n",
            "Collecting git+https://github.com/titu1994/tf-TabNet.git\n",
            "  Cloning https://github.com/titu1994/tf-TabNet.git to /tmp/pip-req-build-ne0x74yw\n",
            "  Running command git clone --filter=blob:none --quiet https://github.com/titu1994/tf-TabNet.git /tmp/pip-req-build-ne0x74yw\n",
            "  Resolved https://github.com/titu1994/tf-TabNet.git to commit 58854410baade338c924382c3a9ff6b685810751\n",
            "  Preparing metadata (setup.py) ... \u001b[?25l\u001b[?25hdone\n",
            "Building wheels for collected packages: tabnet\n",
            "  Building wheel for tabnet (setup.py) ... \u001b[?25l\u001b[?25hdone\n",
            "  Created wheel for tabnet: filename=tabnet-0.1.6-py2.py3-none-any.whl size=16206 sha256=be0e4a9c0581a42f276f2df2aad0ddbaa4f0b5ec85d6548659d48cc492b1aede\n",
            "  Stored in directory: /tmp/pip-ephem-wheel-cache-hezt_mb2/wheels/ed/f4/a5/1e028b195ef60cabf0c8324b664297f1c901990c310b54d2ed\n",
            "Successfully built tabnet\n",
            "Installing collected packages: tabnet\n",
            "Successfully installed tabnet-0.1.6\n",
            "\u001b[33mWARNING: Running pip as the 'root' user can result in broken permissions and conflicting behaviour with the system package manager. It is recommended to use a virtual environment instead: https://pip.pypa.io/warnings/venv\u001b[0m\u001b[33m\n",
            "\u001b[0m"
          ]
        }
      ]
    },
    {
      "cell_type": "markdown",
      "metadata": {
        "id": "SKiEEWuQwW6w"
      },
      "source": [
        "# Импорты"
      ]
    },
    {
      "cell_type": "code",
      "execution_count": 7,
      "metadata": {
        "colab": {
          "base_uri": "https://localhost:8080/"
        },
        "id": "F5byfXjnsrRy",
        "outputId": "d77be013-0778-4dd4-d571-7346cfa45edc"
      },
      "outputs": [
        {
          "output_type": "stream",
          "name": "stderr",
          "text": [
            "/usr/local/lib/python3.7/dist-packages/statsmodels/tools/_testing.py:19: FutureWarning: pandas.util.testing is deprecated. Use the functions in the public API at pandas.testing instead.\n",
            "  import pandas.util.testing as tm\n"
          ]
        }
      ],
      "source": [
        "import os\n",
        "import re\n",
        "import cv2 \n",
        "import sys\n",
        "import csv\n",
        "import random\n",
        "import pickle\n",
        "import zipfile\n",
        "import pymorphy2\n",
        "import numpy as np\n",
        "import pandas as pd\n",
        "import seaborn as sns\n",
        "import matplotlib.pyplot as plt\n",
        "\n",
        "from datetime import datetime\n",
        "from catboost import CatBoostRegressor\n",
        "from sklearn.preprocessing import MinMaxScaler, RobustScaler, StandardScaler\n",
        "from sklearn.model_selection import train_test_split\n",
        "\n",
        "from category_encoders.binary import BinaryEncoder\n",
        "from category_encoders import LeaveOneOutEncoder\n",
        "from category_encoders.helmert import HelmertEncoder\n",
        "\n",
        "\n",
        "# keras\n",
        "import tensorflow as tf\n",
        "import tensorflow.keras as keras\n",
        "import tensorflow.keras.models as M\n",
        "import tensorflow.keras.layers as L\n",
        "import tensorflow.keras.backend as K\n",
        "import tensorflow.keras.callbacks as C\n",
        "import albumentations as a\n",
        "\n",
        "from tensorflow.keras import regularizers\n",
        "from tensorflow.keras import optimizers\n",
        "from tensorflow.keras.preprocessing import image\n",
        "from tensorflow.keras.preprocessing.image import ImageDataGenerator\n",
        "from tensorflow.keras.preprocessing.text import Tokenizer\n",
        "from tensorflow.keras.preprocessing import sequence\n",
        "\n",
        "from tensorflow.keras.callbacks import (\n",
        "    Callback, \n",
        "    ModelCheckpoint, \n",
        "    EarlyStopping,\n",
        "    ReduceLROnPlateau,\n",
        "    LearningRateScheduler, \n",
        ")\n",
        "from tensorflow.keras.optimizers.schedules import *\n",
        "\n",
        "from tabnet import TabNetRegression\n",
        "\n",
        "import PIL\n",
        "from PIL import ImageOps, ImageFilter\n",
        "\n",
        "# plt\n",
        "import matplotlib.pyplot as plt\n",
        "# увеличим дефолтный размер графиков\n",
        "from pylab import rcParams\n",
        "rcParams['figure.figsize'] = 10, 5\n",
        "# графики в svg выглядят более четкими\n",
        "%config InlineBackend.figure_format = 'svg'\n",
        "%matplotlib inline\n",
        "\n",
        "#pandas\n",
        "pd.set_option('display.max_columns', None)\n",
        "pd.set_option('display.max_rows', 30)"
      ]
    },
    {
      "cell_type": "code",
      "execution_count": 8,
      "metadata": {
        "colab": {
          "base_uri": "https://localhost:8080/"
        },
        "id": "wHyKp4SJWekm",
        "outputId": "b2127bff-d888-43b7-f120-20394409071a"
      },
      "outputs": [
        {
          "output_type": "stream",
          "name": "stdout",
          "text": [
            "[nltk_data] Downloading package stopwords to /root/nltk_data...\n",
            "[nltk_data]   Unzipping corpora/stopwords.zip.\n"
          ]
        },
        {
          "output_type": "execute_result",
          "data": {
            "text/plain": [
              "True"
            ]
          },
          "metadata": {},
          "execution_count": 8
        }
      ],
      "source": [
        "import nltk\n",
        "nltk.download('stopwords')"
      ]
    },
    {
      "cell_type": "code",
      "execution_count": 9,
      "metadata": {
        "id": "zlTUMBqd5C3D"
      },
      "outputs": [],
      "source": [
        "from nltk.stem import PorterStemmer\n",
        "from nltk.stem import WordNetLemmatizer\n",
        "from nltk.corpus import stopwords\n",
        "from tqdm import tqdm"
      ]
    },
    {
      "cell_type": "markdown",
      "metadata": {
        "id": "LvI0DHnT3vuq"
      },
      "source": [
        "# Версии"
      ]
    },
    {
      "cell_type": "markdown",
      "metadata": {
        "id": "MXzBG-MZsrR1"
      },
      "source": [
        "Посмотрим версии используемых библиотек"
      ]
    },
    {
      "cell_type": "code",
      "execution_count": 10,
      "metadata": {
        "colab": {
          "base_uri": "https://localhost:8080/"
        },
        "id": "9Yus0AUXsrR3",
        "outputId": "35447fb4-b3bb-4701-ff89-3ea1067125af"
      },
      "outputs": [
        {
          "output_type": "stream",
          "name": "stdout",
          "text": [
            "Python       : 3.7.13 (default, Apr 24 2022, 01:04:09) \n",
            "Numpy        : 1.21.6\n",
            "Tensorflow   : 2.8.2\n"
          ]
        }
      ],
      "source": [
        "print('Python       :', sys.version.split('\\n')[0])\n",
        "print('Numpy        :', np.__version__)\n",
        "print('Tensorflow   :', tf.__version__)"
      ]
    },
    {
      "cell_type": "markdown",
      "metadata": {
        "id": "VpXovwb3srR9"
      },
      "source": [
        "Зафиксируем версию пакетов:"
      ]
    },
    {
      "cell_type": "code",
      "execution_count": 11,
      "metadata": {
        "id": "tY5gY2q-srR-"
      },
      "outputs": [],
      "source": [
        "!pip freeze > requirements.txt"
      ]
    },
    {
      "cell_type": "markdown",
      "metadata": {
        "id": "5lRZT-sKwfbm"
      },
      "source": [
        "# Основные настройки"
      ]
    },
    {
      "cell_type": "code",
      "execution_count": 12,
      "metadata": {
        "id": "BecHIOqPwsCx"
      },
      "outputs": [],
      "source": [
        "# ACTIVATION           = 'sigmoid' # функция активации\n",
        "# ACTIVATION           = 'tanh' # функция активации\n",
        "# ACTIVATION           = 'relu' # функция активации\n",
        "ACTIVATION           = L.LeakyReLU(0.15) # функция активации\n",
        "BATCH_SIZE           = 512  # размер батча\n",
        "EPOCHS               = 500  # количество эпох для обучения"
      ]
    },
    {
      "cell_type": "markdown",
      "metadata": {
        "id": "YtH_UyjTsrR6"
      },
      "source": [
        "Установим random seed:"
      ]
    },
    {
      "cell_type": "code",
      "execution_count": 13,
      "metadata": {
        "id": "55i5V2FbsrR8"
      },
      "outputs": [],
      "source": [
        "RANDOM_SEED = 13\n",
        "np.random.seed(RANDOM_SEED)"
      ]
    },
    {
      "cell_type": "markdown",
      "metadata": {
        "id": "V3bI-AJX_A-Z"
      },
      "source": [
        "# Вспомогательные функции"
      ]
    },
    {
      "cell_type": "markdown",
      "metadata": {
        "id": "udUxC_UGsrR4"
      },
      "source": [
        "Пропишем функцию для вычисления метрики MAPE"
      ]
    },
    {
      "cell_type": "code",
      "execution_count": 15,
      "metadata": {
        "id": "lKCXVjP8srR4"
      },
      "outputs": [],
      "source": [
        "def mape(y_test, y_pred):\n",
        "    return np.mean(np.abs((y_pred-y_test)/y_test))"
      ]
    },
    {
      "cell_type": "code",
      "execution_count": 16,
      "metadata": {
        "id": "TV4vnxnWaOHQ"
      },
      "outputs": [],
      "source": [
        "def veiw_sample_predicts(pred, y_test):\n",
        "    for i in range(20):\n",
        "      print(\"Сеть предсказала: \", pred[i][0], \n",
        "            \", верный ответ: \", y_test[i], \n",
        "            \", отклонение: \", pred[i][0] - y_test[i])\n"
      ]
    },
    {
      "cell_type": "code",
      "source": [
        "def make_save(model, name):\n",
        "    if is_colab:\n",
        "        model.save(os.path.join(SAVE_PATH, name+'.hdf5'))\n",
        "        model.load_weights(os.path.join(SAVE_PATH, name+'_best.hdf5'))\n",
        "    else:\n",
        "        model.save(os.path.join(WORK_PATH, name+'.hdf5'))\n",
        "        model.load_weights(os.path.join(WORK_PATH, name+'_best.hdf5'))\n",
        "    return model"
      ],
      "metadata": {
        "id": "l37jFvNyW6k4"
      },
      "execution_count": 17,
      "outputs": []
    },
    {
      "cell_type": "code",
      "source": [
        "def make_sub(model, submission_df, sub, name):\n",
        "    sub_predict = np.round(model.predict(sub))\n",
        "    submission_df['price'] = sub_predict[:, 0]\n",
        "    if is_colab:\n",
        "        submission_df.to_csv(os.path.join(SAVE_PATH, name),\n",
        "                            index=False)\n",
        "    else:\n",
        "        submission_df.to_csv(os.path.join(WORK_PATH, name),\n",
        "                            index=False)\n",
        "    return submission_df"
      ],
      "metadata": {
        "id": "rEb0kr9TmqCV"
      },
      "execution_count": 18,
      "outputs": []
    },
    {
      "cell_type": "code",
      "execution_count": 19,
      "metadata": {
        "id": "oDjclILnWky7"
      },
      "outputs": [],
      "source": [
        "def plot_history(history):\n",
        "    plt.figure(figsize=(10,5))\n",
        "    mape = history.history['MAPE']\n",
        "    val_mape = history.history['val_MAPE']\n",
        "    loss = history.history['loss']\n",
        "    val_loss = history.history['val_loss']\n",
        "\n",
        "    epochs = range(len(mape))\n",
        "\n",
        "    plt.figure(figsize=(10,5))\n",
        "\n",
        "    plt.plot(epochs, mape, 'b', label='Training acc')\n",
        "    plt.plot(epochs, val_mape, 'g', label='Validation acc')\n",
        "    plt.title('Training and validation accuracy')\n",
        "    plt.legend()\n",
        "\n",
        "    # plt.plot(epochs, loss, 'b', label='Training loss')\n",
        "    # plt.plot(epochs, val_loss, 'g', label='Validation loss')\n",
        "    # plt.title('Training and validation loss')\n",
        "    #plt.style.use('dark_background')\n",
        "    plt.legend()\n",
        "\n",
        "    plt.show()"
      ]
    },
    {
      "cell_type": "markdown",
      "metadata": {
        "id": "pb_6BOkzsrSB"
      },
      "source": [
        "# Загружаем данные"
      ]
    },
    {
      "cell_type": "markdown",
      "metadata": {
        "id": "U9nvMrSvuK8o"
      },
      "source": [
        "Пути к данным и рабочим папкам"
      ]
    },
    {
      "cell_type": "code",
      "execution_count": 20,
      "metadata": {
        "colab": {
          "base_uri": "https://localhost:8080/"
        },
        "id": "YiE3cBVpuQ8e",
        "outputId": "549b9cfb-a207-4eb4-ed2e-e478925aae69"
      },
      "outputs": [
        {
          "output_type": "stream",
          "name": "stdout",
          "text": [
            "Mounted at /content/drive\n"
          ]
        }
      ],
      "source": [
        "if is_colab:\n",
        "    from google.colab import drive\n",
        "    drive.mount('/content/drive')\n",
        "\n",
        "if is_colab:\n",
        "    # Colab\n",
        "    DATA_PATH = os.path.abspath('/content/drive/MyDrive/Colab Notebooks'\n",
        "                                '/project_8/input'\n",
        "                                '/sf-dst-car-price-prediction-part2/')\n",
        "    SAVE_PATH = os.path.abspath('/content/drive/MyDrive/Colab Notebooks'\n",
        "                                '/project_8/saves')\n",
        "    WORK_PATH = os.path.join(os.getcwd(), 'working')\n",
        "else:\n",
        "    # Kaggle\n",
        "    DATA_PATH = os.path.abspath('../input/sf-dst-car-price-prediction-part2/')\n",
        "    SAVE_PATH = os.path.abspath('../input/input-saves')\n",
        "    WORK_PATH = os.path.abspath('./')"
      ]
    },
    {
      "cell_type": "markdown",
      "metadata": {
        "id": "2IqMaUnvsrSB"
      },
      "source": [
        "Загрузим наш обучающий и тестовый фреймы:"
      ]
    },
    {
      "cell_type": "code",
      "execution_count": 21,
      "metadata": {
        "id": "0N4dVHb6srSB"
      },
      "outputs": [],
      "source": [
        "train = pd.read_csv(os.path.join(DATA_PATH,'train.csv'))\n",
        "test = pd.read_csv(os.path.join(DATA_PATH,'test.csv'))\n",
        "sample_submission = pd.read_csv(os.path.join(DATA_PATH,'sample_submission.csv'))"
      ]
    },
    {
      "cell_type": "markdown",
      "source": [
        "Объединим тестовый и обучающий фреймы в один для последующей обработки признаков:"
      ],
      "metadata": {
        "id": "IKreBFgS2EPt"
      }
    },
    {
      "cell_type": "code",
      "source": [
        "# Для корректной обработки признаков объединяем трейн и тест в один датасет\n",
        "train['sample'] = 1  # трейн\n",
        "test['sample'] = 0  # тест\n",
        "test['price'] = 0  # в тесте нет значения price,  заполняем нулями\n",
        "\n",
        "data = test.append(train, sort=False).reset_index(drop=True)  # объединяем\n",
        "print(train.shape, test.shape, data.shape)"
      ],
      "metadata": {
        "colab": {
          "base_uri": "https://localhost:8080/"
        },
        "id": "F7e-JmuM17aZ",
        "outputId": "0ab360a6-dd4f-46b6-e780-536818bf3c2e"
      },
      "execution_count": 22,
      "outputs": [
        {
          "output_type": "stream",
          "name": "stdout",
          "text": [
            "(6682, 23) (1671, 23) (8353, 23)\n"
          ]
        }
      ]
    },
    {
      "cell_type": "code",
      "source": [
        "raise KeyboardInterrupt"
      ],
      "metadata": {
        "colab": {
          "base_uri": "https://localhost:8080/",
          "height": 165
        },
        "id": "YJzJLbnSMt3U",
        "outputId": "402b1934-baaa-47b1-94f8-b2852a69a1f5"
      },
      "execution_count": 23,
      "outputs": [
        {
          "output_type": "error",
          "ename": "RuntimeError",
          "evalue": "ignored",
          "traceback": [
            "\u001b[0;31m---------------------------------------------------------------------------\u001b[0m",
            "\u001b[0;31mRuntimeError\u001b[0m                              Traceback (most recent call last)",
            "\u001b[0;32m<ipython-input-23-9c9a2cba73bf>\u001b[0m in \u001b[0;36m<module>\u001b[0;34m()\u001b[0m\n\u001b[0;32m----> 1\u001b[0;31m \u001b[0;32mraise\u001b[0m\u001b[0;34m\u001b[0m\u001b[0;34m\u001b[0m\u001b[0m\n\u001b[0m",
            "\u001b[0;31mRuntimeError\u001b[0m: No active exception to reraise"
          ]
        }
      ]
    },
    {
      "cell_type": "markdown",
      "metadata": {
        "id": "RnE25L_vsrSC"
      },
      "source": [
        "Проверим, что у нас находится в обучающем и тестовом фреймах"
      ]
    },
    {
      "cell_type": "code",
      "execution_count": null,
      "metadata": {
        "id": "_IcCxa9zsrSC"
      },
      "outputs": [],
      "source": [
        "train.info()"
      ]
    },
    {
      "cell_type": "code",
      "execution_count": null,
      "metadata": {
        "id": "CUERUUA0srSD"
      },
      "outputs": [],
      "source": [
        "train.nunique()"
      ]
    },
    {
      "cell_type": "code",
      "execution_count": null,
      "metadata": {
        "id": "qsypjXlDsrSE"
      },
      "outputs": [],
      "source": [
        "train.isna().sum()"
      ]
    },
    {
      "cell_type": "markdown",
      "metadata": {
        "id": "Noeggd08srSE"
      },
      "source": [
        "Мы видим, что присутствуют пропуски, которые в дальнейшем придется обработать каким-либо способом.  \n",
        "\n",
        "Проверим что находится в тестовом фрейме:"
      ]
    },
    {
      "cell_type": "code",
      "execution_count": null,
      "metadata": {
        "id": "IE5V6HW1srSF"
      },
      "outputs": [],
      "source": [
        "test.info()"
      ]
    },
    {
      "cell_type": "code",
      "execution_count": null,
      "metadata": {
        "id": "OTOEfAB8srSF"
      },
      "outputs": [],
      "source": [
        "test.nunique()"
      ]
    },
    {
      "cell_type": "code",
      "execution_count": null,
      "metadata": {
        "id": "Wd6gGCsKsrSF"
      },
      "outputs": [],
      "source": [
        "test.isna().sum()"
      ]
    },
    {
      "cell_type": "markdown",
      "metadata": {
        "id": "Px8mMBDBsrSG"
      },
      "source": [
        "Здесь пропуски имеются только в столбце \"владение\". В дальнейшем нужно будет обработать."
      ]
    },
    {
      "cell_type": "code",
      "execution_count": null,
      "metadata": {
        "id": "ORlh9MK5A84J"
      },
      "outputs": [],
      "source": [
        "train.sample(7)"
      ]
    },
    {
      "cell_type": "code",
      "execution_count": null,
      "metadata": {
        "id": "wQUt3uvkBBjy"
      },
      "outputs": [],
      "source": [
        "test.sample(7)"
      ]
    },
    {
      "cell_type": "markdown",
      "metadata": {
        "id": "cfwypK8dC9qv"
      },
      "source": [
        "В обоих датафреймах столбцы совпадают."
      ]
    },
    {
      "cell_type": "markdown",
      "metadata": {
        "id": "Gn1NDpbfsrSG"
      },
      "source": [
        "Определим типы признаков:\n",
        "\n",
        "* bodyType - категориальный\n",
        "* brand - категориальный\n",
        "* color - категориальный\n",
        "* description - текстовый\n",
        "* engineDisplacement - числовой, представленный как текст\n",
        "* enginePower - числовой, представленный как текст\n",
        "* fuelType - категориальный\n",
        "* mileage - числовой\n",
        "* modelDate - числовой\n",
        "* model_info - категориальный\n",
        "* name - категориальный, желательно сократить размерность\n",
        "* numberOfDoors - категориальный\n",
        "* price - числовой, целевой\n",
        "* productionDate - числовой\n",
        "* sell_id - изображение (файл доступен по адресу, основанному на sell_id)\n",
        "* vehicleConfiguration - содержит информацию, содержащуюся в других признаках\n",
        "* vehicleTransmission - категориальный\n",
        "* Владельцы - категориальный\n",
        "* Владение - числовой, представленный как текст\n",
        "* ПТС - категориальный\n",
        "* Привод - категориальный\n",
        "* Руль - категориальный"
      ]
    },
    {
      "cell_type": "markdown",
      "metadata": {
        "id": "JVH1Db8HsrSH"
      },
      "source": [
        "Теперь попробуем создать наивную модель и посмотреть результат нашей метрики"
      ]
    },
    {
      "cell_type": "markdown",
      "metadata": {
        "id": "yC8lghPssrSH"
      },
      "source": [
        "# 2. Model 0: \"Наивная\" модель \n",
        "Эта модель будет предсказывать среднюю цену по модели и году выпуска. \n",
        "C ней будем сравнивать другие модели.\n",
        "\n"
      ]
    },
    {
      "cell_type": "markdown",
      "metadata": {
        "id": "qiNGR5GqsrSH"
      },
      "source": [
        "Первым делом проведем разделенение на обучающую и валидационную выборки:"
      ]
    },
    {
      "cell_type": "code",
      "execution_count": null,
      "metadata": {
        "id": "xodlbrm4srSI"
      },
      "outputs": [],
      "source": [
        "data_train, data_test = train_test_split(\n",
        "    train, test_size=0.2, shuffle=True, random_state=RANDOM_SEED)"
      ]
    },
    {
      "cell_type": "markdown",
      "metadata": {
        "id": "PZ4EpwzJsrSI"
      },
      "source": [
        "Создадим наивную модель и проведем оценку отчности:"
      ]
    },
    {
      "cell_type": "code",
      "execution_count": null,
      "metadata": {
        "id": "BPBwOEtgEkoG"
      },
      "outputs": [],
      "source": [
        "# Наивная модель\n",
        "predicts = []\n",
        "for index, row in pd.DataFrame(data_test[['model_info', \n",
        "                                          'productionDate']]).iterrows():\n",
        "    predicts.append(data_train.loc[(data_train['model_info'] == row[0]) & \n",
        "                                   (data_train['productionDate'] == row[1])]\n",
        "                    ['price'].median())\n",
        "\n",
        "# заполним не найденные совпадения\n",
        "predicts = pd.DataFrame(predicts)\n",
        "predicts = predicts.fillna(predicts.median())\n",
        "\n",
        "# округлим\n",
        "predicts = (predicts // 1000) * 1000\n",
        "# print(data_test['price'].values)\n",
        "# print(predicts.values[:, 0])\n",
        "\n",
        "# оцениваем точность\n",
        "print(f\"Ошибка по метрике MAPE: \"\n",
        "      f\"{(mape(data_test['price'].values, predicts.values[:, 0]))*100:0.2f}%\")\n"
      ]
    },
    {
      "cell_type": "markdown",
      "metadata": {
        "id": "7uZ_eEKXsrSJ"
      },
      "source": [
        "Мы получили достаточно плохой результат, но теперь появилось понимание - откуда отталкиваться. \n",
        "\n",
        "Первым делом проведем EDA и попробуем использовать CatBoost."
      ]
    },
    {
      "cell_type": "markdown",
      "metadata": {
        "id": "elPre1YksrSK"
      },
      "source": [
        "# 3. EDA и Feature-Engeneering"
      ]
    },
    {
      "cell_type": "markdown",
      "metadata": {
        "id": "ppmyCb6psrSK"
      },
      "source": [
        "Проведем быстрый анализ данных для того, чтобы понимать, сможет ли с этими данными работать наш алгоритм. По большей части EDA и Feature-Engeneering был произведен в одном из предыдущих проектов CarPricePrediction, поэтому многие вещи будут заимствованы оттуда."
      ]
    },
    {
      "cell_type": "markdown",
      "metadata": {
        "id": "nBob9dqksrSL"
      },
      "source": [
        "Итого:\n",
        "* CatBoost сможет работать с признаками и в таком виде, но для нейросети нужны нормированные данные."
      ]
    },
    {
      "cell_type": "markdown",
      "metadata": {
        "id": "qbYOlchKsrSL"
      },
      "source": [
        "## Предобработка табличных данных"
      ]
    },
    {
      "cell_type": "markdown",
      "metadata": {
        "id": "ji5c7gnq32Pb"
      },
      "source": [
        "## Сначала поработаем с числовыми признаками. "
      ]
    },
    {
      "cell_type": "markdown",
      "metadata": {
        "id": "ltGPsYoxsrSY"
      },
      "source": [
        "### engineDisplacement"
      ]
    },
    {
      "cell_type": "markdown",
      "metadata": {
        "id": "KPTRz0h2srSY"
      },
      "source": [
        "Этот признак описывает объем двигателя авто. Посмотрим количество уникальных значений :"
      ]
    },
    {
      "cell_type": "code",
      "execution_count": null,
      "metadata": {
        "id": "f-FLYEX4srSY"
      },
      "outputs": [],
      "source": [
        "data.engineDisplacement.unique()"
      ]
    },
    {
      "cell_type": "markdown",
      "metadata": {
        "id": "bI6yyCjXsrSY"
      },
      "source": [
        "Мы видим, что признак отражает литраж двигателя с припиской LTR. Попробуем ее убрать:"
      ]
    },
    {
      "cell_type": "code",
      "execution_count": null,
      "metadata": {
        "id": "wpP30d2MsrSZ"
      },
      "outputs": [],
      "source": [
        "data.engineDisplacement = data.engineDisplacement.apply(lambda x: x[:3])"
      ]
    },
    {
      "cell_type": "code",
      "execution_count": null,
      "metadata": {
        "id": "3mGq8IytsrSZ"
      },
      "outputs": [],
      "source": [
        "data.engineDisplacement.value_counts()"
      ]
    },
    {
      "cell_type": "markdown",
      "metadata": {
        "id": "vVGWdA1bsrSZ"
      },
      "source": [
        "Мы видим, что 6 значений имеют und ( остаток от undefined LTR). Заполним значением моды:"
      ]
    },
    {
      "cell_type": "code",
      "execution_count": null,
      "metadata": {
        "id": "FZ0k0d_DsrSZ"
      },
      "outputs": [],
      "source": [
        "data.engineDisplacement = data.engineDisplacement.replace(\n",
        "    'und', data.engineDisplacement.mode()[0])"
      ]
    },
    {
      "cell_type": "markdown",
      "metadata": {
        "id": "ERebfe9OsrSa"
      },
      "source": [
        "Проверим результат:"
      ]
    },
    {
      "cell_type": "code",
      "execution_count": null,
      "metadata": {
        "id": "k9gShCVvsrSa"
      },
      "outputs": [],
      "source": [
        "data.engineDisplacement.unique()"
      ]
    },
    {
      "cell_type": "markdown",
      "metadata": {
        "id": "FzjdOHQpsrSa"
      },
      "source": [
        "Преобразуем в числовой формат и посмотрим распределение:"
      ]
    },
    {
      "cell_type": "code",
      "execution_count": null,
      "metadata": {
        "id": "DtmEPw16srSa"
      },
      "outputs": [],
      "source": [
        "data.engineDisplacement = data.engineDisplacement.apply(lambda x: float(x))"
      ]
    },
    {
      "cell_type": "code",
      "execution_count": null,
      "metadata": {
        "id": "7br_JHC7srSb"
      },
      "outputs": [],
      "source": [
        "data.engineDisplacement.hist()"
      ]
    },
    {
      "cell_type": "markdown",
      "metadata": {
        "id": "uAMRaVlzsrSb"
      },
      "source": [
        "Как мы видим, распределение близко к нормальному, но возможно после логарифмирования показатели станут лучше."
      ]
    },
    {
      "cell_type": "markdown",
      "metadata": {
        "id": "ETUgE_n2srSb"
      },
      "source": [
        "### enginePower"
      ]
    },
    {
      "cell_type": "markdown",
      "metadata": {
        "id": "VgIqsqu-srSb"
      },
      "source": [
        "Признак отражает мощность двигателя автомобиля. Посмотрим на уникальные значения:"
      ]
    },
    {
      "cell_type": "code",
      "execution_count": null,
      "metadata": {
        "id": "ahrDlROvsrSc"
      },
      "outputs": [],
      "source": [
        "data.enginePower.unique()"
      ]
    },
    {
      "cell_type": "markdown",
      "metadata": {
        "id": "OP3cFM6fsrSc"
      },
      "source": [
        "Избавимся от дополнительной информации в данных:"
      ]
    },
    {
      "cell_type": "code",
      "execution_count": null,
      "metadata": {
        "id": "CUnKDzM22-HM"
      },
      "outputs": [],
      "source": [
        "data['enginePower'] = data['enginePower'].apply(lambda x: str(x).replace(' N12', ''))"
      ]
    },
    {
      "cell_type": "markdown",
      "metadata": {
        "id": "aizvtVIgsrSc"
      },
      "source": [
        "Проверим результат:"
      ]
    },
    {
      "cell_type": "code",
      "execution_count": null,
      "metadata": {
        "id": "Q6l96lIbsrSd"
      },
      "outputs": [],
      "source": [
        "data.enginePower.unique()"
      ]
    },
    {
      "cell_type": "markdown",
      "metadata": {
        "id": "e3vLz7LosrSd"
      },
      "source": [
        "Замечательно, теперь переведем в числовой формат и посмотрим распределение значений:"
      ]
    },
    {
      "cell_type": "code",
      "execution_count": null,
      "metadata": {
        "id": "UAL5_fUssrSh"
      },
      "outputs": [],
      "source": [
        "data['enginePower'] = data['enginePower'].apply(lambda x: int(x))\n",
        "data.enginePower.hist()"
      ]
    },
    {
      "cell_type": "markdown",
      "metadata": {
        "id": "oqSpCIHbsrSi"
      },
      "source": [
        "Распределение близко к нормальному, но возможно необходимо будет логарифмировать для улучшения показателей. Отнесем к числовым признакам"
      ]
    },
    {
      "cell_type": "markdown",
      "metadata": {
        "id": "pu6PB6dasrSj"
      },
      "source": [
        "### mileage"
      ]
    },
    {
      "cell_type": "markdown",
      "metadata": {
        "id": "FZuTMa6PsrSk"
      },
      "source": [
        "Признак содержит данные о пробеге продаваемого авто. Проверим данные:"
      ]
    },
    {
      "cell_type": "code",
      "execution_count": null,
      "metadata": {
        "id": "4qfBijHRsrSk"
      },
      "outputs": [],
      "source": [
        "data.mileage.unique()"
      ]
    },
    {
      "cell_type": "markdown",
      "metadata": {
        "id": "e3x3eTAdsrSk"
      },
      "source": [
        "Данные чистые. Посмотрим на распределение признака:"
      ]
    },
    {
      "cell_type": "code",
      "execution_count": null,
      "metadata": {
        "id": "JDuwJdiAsrSk"
      },
      "outputs": [],
      "source": [
        "data.mileage.hist(figsize=(8, 5), bins=100)"
      ]
    },
    {
      "cell_type": "markdown",
      "metadata": {
        "id": "QUjtKOwpsrSl"
      },
      "source": [
        "Проверим на выбросы:"
      ]
    },
    {
      "cell_type": "code",
      "execution_count": null,
      "metadata": {
        "id": "USfi9_xZsrSl"
      },
      "outputs": [],
      "source": [
        "IQR = data['mileage'].quantile(0.75) - data['mileage'].quantile(0.25)\n",
        "perc25 = data['mileage'].quantile(0.25)  # 25-й перцентиль\n",
        "perc75 = data['mileage'].quantile(0.75)  # 75-й перцентиль\n",
        "\n",
        "print(\n",
        "    '25-й перцентиль: {},'.format(perc25),\n",
        "    '75-й перцентиль: {},'.format(perc75),\n",
        "    \"IQR: {}, \".format(IQR),\n",
        "    \"Границы выбросов: [{f}, {l}].\".format(f=perc25 - 1.5*IQR,\n",
        "                                           l=perc75 + 1.5*IQR))"
      ]
    },
    {
      "cell_type": "markdown",
      "metadata": {
        "id": "vRYBvBmesrSl"
      },
      "source": [
        "Посмотрим, сколько значений превышает границу:"
      ]
    },
    {
      "cell_type": "code",
      "execution_count": null,
      "metadata": {
        "id": "PR1DiMi0srSm"
      },
      "outputs": [],
      "source": [
        "data.mileage[data.mileage > 328841].count()"
      ]
    },
    {
      "cell_type": "markdown",
      "metadata": {
        "id": "mWeAKVXZsrSm"
      },
      "source": [
        "Как мы видим, значений действительно мало. Возможно они действительно являются выбросами, но существуют автомобили, у которых очень большой пробег. Поэтому предполагаемые выбросы оставим без изменений."
      ]
    },
    {
      "cell_type": "markdown",
      "metadata": {
        "id": "WdCA8yMksrSm"
      },
      "source": [
        "### modelDate"
      ]
    },
    {
      "cell_type": "markdown",
      "metadata": {
        "id": "CAdt9NoysrSn"
      },
      "source": [
        "Данный признак содержит информацию о годе производства модели авто. Просмотрим уникальные значения:"
      ]
    },
    {
      "cell_type": "code",
      "execution_count": null,
      "metadata": {
        "id": "sTvPLAv_srSn"
      },
      "outputs": [],
      "source": [
        "data.modelDate.unique()"
      ]
    },
    {
      "cell_type": "markdown",
      "metadata": {
        "id": "rei0bE4UZxZU"
      },
      "source": [
        "Создадим признак - возраст автомобиля и заменим им текущий признак."
      ]
    },
    {
      "cell_type": "code",
      "execution_count": null,
      "metadata": {
        "id": "VyH3fDWIa8gZ"
      },
      "outputs": [],
      "source": [
        "datetime.now().year"
      ]
    },
    {
      "cell_type": "code",
      "execution_count": null,
      "metadata": {
        "id": "iKdhPUZdZuXH"
      },
      "outputs": [],
      "source": [
        "data['model_time'] = data['modelDate'].apply(lambda x: datetime.now().year - x)"
      ]
    },
    {
      "cell_type": "markdown",
      "metadata": {
        "id": "nTVpLKhysrSn"
      },
      "source": [
        "Теперь построим график распределения для наглядности:"
      ]
    },
    {
      "cell_type": "code",
      "execution_count": null,
      "metadata": {
        "id": "MFRR568esrSn"
      },
      "outputs": [],
      "source": [
        "data['model_time'].hist()"
      ]
    },
    {
      "cell_type": "markdown",
      "metadata": {
        "id": "Evoq-1rJsrSy"
      },
      "source": [
        "### productionDate"
      ]
    },
    {
      "cell_type": "markdown",
      "metadata": {
        "id": "T8O5HDbbsrSz"
      },
      "source": [
        "Признак содержит информацию о годе производства авто. Проверим корреляцию между productionDate и model_time:"
      ]
    },
    {
      "cell_type": "code",
      "execution_count": null,
      "metadata": {
        "id": "x2l9quCgsrS0"
      },
      "outputs": [],
      "source": [
        "data[['model_time', 'productionDate']].corr()"
      ]
    },
    {
      "cell_type": "markdown",
      "metadata": {
        "id": "WO1EdNqFsrS0"
      },
      "source": [
        "Очевидно, высокая корреляция. Для модели будет более чем достаточно признака model_time. productionDate можно удалять."
      ]
    },
    {
      "cell_type": "markdown",
      "metadata": {
        "id": "bIjGD4OqsrS7"
      },
      "source": [
        "### Владение"
      ]
    },
    {
      "cell_type": "markdown",
      "metadata": {
        "id": "1l-nkPlHsrS7"
      },
      "source": [
        "Данный столбец отражает,сколько времени продавец владеет автомобилем. Посмотрим, сколько пропусков в данном столбце:"
      ]
    },
    {
      "cell_type": "code",
      "execution_count": null,
      "metadata": {
        "id": "1ruO01NAsrS7"
      },
      "outputs": [],
      "source": [
        "data.Владение.isna().sum()"
      ]
    },
    {
      "cell_type": "markdown",
      "metadata": {
        "id": "WofRGWZssrS7"
      },
      "source": [
        "Посмотрим соотношение пропусков ко всему дата-сету:"
      ]
    },
    {
      "cell_type": "code",
      "execution_count": null,
      "metadata": {
        "id": "GCZceFPwsrS8"
      },
      "outputs": [],
      "source": [
        "data.Владение.isna().sum()/len(data.Владение)*100"
      ]
    },
    {
      "cell_type": "markdown",
      "metadata": {
        "id": "DJ3oTIsJsrS8"
      },
      "source": [
        "Как видно, пропусков почти 65% дата-сета. Заполнение их каким-либо одним значением сыграет только плохую роль. Лучше данный столбец вообще не включать в обучение."
      ]
    },
    {
      "cell_type": "markdown",
      "metadata": {
        "id": "XAKSuvHcsrSK"
      },
      "source": [
        "Посмотрим, как выглядят распределения числовых признаков:"
      ]
    },
    {
      "cell_type": "code",
      "execution_count": null,
      "metadata": {
        "id": "0ydCHMHeOOcf"
      },
      "outputs": [],
      "source": [
        "data[['mileage', 'modelDate', 'engineDisplacement', 'enginePower']]"
      ]
    },
    {
      "cell_type": "markdown",
      "metadata": {
        "id": "rWrWW5_ouCOu"
      },
      "source": [
        "## Теперь рассмотрим категориальные признаки."
      ]
    },
    {
      "cell_type": "markdown",
      "metadata": {
        "id": "FGR6AG7hsrSM"
      },
      "source": [
        "### bodyType"
      ]
    },
    {
      "cell_type": "markdown",
      "metadata": {
        "id": "CDkzEVAWsrSM"
      },
      "source": [
        "Данный столбец отражает тип кузова автомобиля. Посмотрим на количество вариантов:"
      ]
    },
    {
      "cell_type": "code",
      "execution_count": null,
      "metadata": {
        "id": "pj1XOkknsrSN"
      },
      "outputs": [],
      "source": [
        "data['bodyType'].unique()"
      ]
    },
    {
      "cell_type": "markdown",
      "metadata": {
        "id": "dnatq_4NsrSN"
      },
      "source": [
        "Проведем обработку данных:"
      ]
    },
    {
      "cell_type": "code",
      "execution_count": null,
      "metadata": {
        "id": "RuFvViCHsrSP"
      },
      "outputs": [],
      "source": [
        "# Выбираем первое слово для описания типа кузова\n",
        "data['bodyType'] = data['bodyType'].astype(\n",
        "    str).apply(lambda x: None if x.strip() == '' else x)\n",
        "# Понижаем регистр первого слова\n",
        "data['bodyType'] = data['bodyType'].apply(lambda x: x.split(' ')[0].lower())"
      ]
    },
    {
      "cell_type": "markdown",
      "metadata": {
        "id": "rDU8mebRsrSR"
      },
      "source": [
        "Проверим распределение значений по типу кузова:"
      ]
    },
    {
      "cell_type": "code",
      "execution_count": null,
      "metadata": {
        "id": "IQ7mHBiDsrSS"
      },
      "outputs": [],
      "source": [
        "data['bodyType'].value_counts().plot.barh()"
      ]
    },
    {
      "cell_type": "markdown",
      "metadata": {
        "id": "LTqzYcQHsrST"
      },
      "source": [
        "### brand"
      ]
    },
    {
      "cell_type": "markdown",
      "metadata": {
        "id": "mI3FWVLCsrST"
      },
      "source": [
        "Данный столбец отражает название фирмы-производителя автомобиля. Проверим уникальные значения:"
      ]
    },
    {
      "cell_type": "code",
      "execution_count": null,
      "metadata": {
        "id": "fo0QsSlJsrST"
      },
      "outputs": [],
      "source": [
        "data['brand'].unique()"
      ]
    },
    {
      "cell_type": "markdown",
      "metadata": {
        "id": "5CBSXaKcsrSU"
      },
      "source": [
        "Как мы видим, уникальных значений мало, можно оставить без изменений. Посмотрим распределение значений:"
      ]
    },
    {
      "cell_type": "code",
      "execution_count": null,
      "metadata": {
        "id": "paIm8AELsrSU"
      },
      "outputs": [],
      "source": [
        "data['brand'].value_counts().plot.barh()"
      ]
    },
    {
      "cell_type": "markdown",
      "metadata": {
        "id": "j0FHJnOJsrSU"
      },
      "source": [
        "### color"
      ]
    },
    {
      "cell_type": "markdown",
      "metadata": {
        "id": "meYAKVOcsrSV"
      },
      "source": [
        "Данный признак отражает цвет продаваемого автомобиля.  \n",
        "Посмотрим уникальные значения и их количество:"
      ]
    },
    {
      "cell_type": "code",
      "execution_count": null,
      "metadata": {
        "id": "CTpvxg8iQTYI"
      },
      "outputs": [],
      "source": [
        "data['color'].unique()"
      ]
    },
    {
      "cell_type": "code",
      "execution_count": null,
      "metadata": {
        "id": "yb9R-fAMsrSV"
      },
      "outputs": [],
      "source": [
        "data['color'].nunique()"
      ]
    },
    {
      "cell_type": "markdown",
      "metadata": {
        "id": "ZFCoXIg_srSW"
      },
      "source": [
        "Посмотрим распределение значений по цветам:"
      ]
    },
    {
      "cell_type": "code",
      "execution_count": null,
      "metadata": {
        "id": "trpJhIGXsrSW"
      },
      "outputs": [],
      "source": [
        "data['color'].value_counts().plot.barh()"
      ]
    },
    {
      "cell_type": "markdown",
      "metadata": {
        "id": "bM-aHKjqsrSi"
      },
      "source": [
        "### fuelType"
      ]
    },
    {
      "cell_type": "markdown",
      "metadata": {
        "id": "RSlazyPNsrSi"
      },
      "source": [
        "Данный признак содержит данные о типе топлива, используемого в автомобиле. Посмотрим на уникальные значения:\n"
      ]
    },
    {
      "cell_type": "code",
      "execution_count": null,
      "metadata": {
        "id": "TUFcYAaysrSi"
      },
      "outputs": [],
      "source": [
        "data['fuelType'].value_counts()"
      ]
    },
    {
      "cell_type": "markdown",
      "metadata": {
        "id": "amKwD71PsrSj"
      },
      "source": [
        "Посмотрим распределение признака:"
      ]
    },
    {
      "cell_type": "code",
      "execution_count": null,
      "metadata": {
        "id": "lC819A8wsrSj"
      },
      "outputs": [],
      "source": [
        "data['fuelType'].hist()"
      ]
    },
    {
      "cell_type": "markdown",
      "metadata": {
        "id": "JeaSZwFUsrSj"
      },
      "source": [
        "Как видно из графика, подавляющее большинство автомобилей используют бензиновое топливо. Отнесем признак к категориальным."
      ]
    },
    {
      "cell_type": "markdown",
      "metadata": {
        "id": "bXQOIFRfsrSo"
      },
      "source": [
        "### model_info"
      ]
    },
    {
      "cell_type": "markdown",
      "metadata": {
        "id": "3Xy6Ye_HsrSp"
      },
      "source": [
        "Данный столбец отражает информацию о модели продаваемого автомобиля. Посмотрим количество уникальных значений:"
      ]
    },
    {
      "cell_type": "code",
      "execution_count": null,
      "metadata": {
        "id": "UsZrcmgisrSr"
      },
      "outputs": [],
      "source": [
        "data['model_info'].value_counts()"
      ]
    },
    {
      "cell_type": "markdown",
      "metadata": {
        "id": "X8z7werdsrSs"
      },
      "source": [
        "Мы имеем одну строчку без указания модели. Посмотрим, что это за строка:"
      ]
    },
    {
      "cell_type": "code",
      "execution_count": null,
      "metadata": {
        "id": "BZDbXiJssrSs"
      },
      "outputs": [],
      "source": [
        "data.loc[data['model_info'] == 'None']"
      ]
    },
    {
      "cell_type": "markdown",
      "metadata": {
        "id": "k5IBf_KYsrSs"
      },
      "source": [
        "Видим, что это Mercedes-седан. Посмотрим, возможно в комментарии указана модель:"
      ]
    },
    {
      "cell_type": "code",
      "execution_count": null,
      "metadata": {
        "id": "lvfZfW6_srSs"
      },
      "outputs": [],
      "source": [
        "data.iloc[2803]['description']"
      ]
    },
    {
      "cell_type": "markdown",
      "metadata": {
        "id": "1-D6dzpfh36x"
      },
      "source": [
        "Посмотрим на фотографию автомобиля и попробуем по изображению найти информацию о модели в интернете."
      ]
    },
    {
      "cell_type": "code",
      "execution_count": null,
      "metadata": {
        "id": "tALE_0CCS3Wl"
      },
      "outputs": [],
      "source": [
        "im = PIL.Image.open(os.path.join(DATA_PATH, 'img', 'img', '1099323364.jpg'))\n",
        "\n",
        "plt.subplot(1, 1, 1)\n",
        "plt.subplots_adjust(hspace=0.5)\n",
        "plt.imshow(im)\n",
        "plt.show()"
      ]
    },
    {
      "cell_type": "markdown",
      "metadata": {
        "id": "6PKpfDgLiNZe"
      },
      "source": [
        "Исходя из имеющихся об автомобиле данных и его изображении скорее всего это Mercedes-Benz E-Класс AMG 63 AMG S IV. Отсюда следует что признако можно заполнить значением E_KLASSE."
      ]
    },
    {
      "cell_type": "code",
      "execution_count": null,
      "metadata": {
        "id": "XBZ9wTybfqVi"
      },
      "outputs": [],
      "source": [
        "data['model_info'] = 'E_KLASSE'"
      ]
    },
    {
      "cell_type": "markdown",
      "metadata": {
        "id": "cJpvJ7VZsrSt"
      },
      "source": [
        "### name"
      ]
    },
    {
      "cell_type": "markdown",
      "metadata": {
        "id": "9AmI2RfZsrSt"
      },
      "source": [
        "Столбец дублирует информацию из других столбцов. Единственное, что можно из него выделить - это наличие xDrive в автомобиле. Создадим новый признак:"
      ]
    },
    {
      "cell_type": "code",
      "execution_count": null,
      "metadata": {
        "id": "-hg_BTAcsrSt"
      },
      "outputs": [],
      "source": [
        "data['xDrive'] = data['name'].apply(lambda x: 1 if 'xDrive' in x else 0)"
      ]
    },
    {
      "cell_type": "markdown",
      "metadata": {
        "id": "Dx4a2cetsrSu"
      },
      "source": [
        "Посмотрим как распределен признак:"
      ]
    },
    {
      "cell_type": "code",
      "execution_count": null,
      "metadata": {
        "id": "AmDmUT5QsrSu"
      },
      "outputs": [],
      "source": [
        "sns.countplot(x='xDrive', data=data)"
      ]
    },
    {
      "cell_type": "markdown",
      "metadata": {
        "id": "_xUo8hTnsrSu"
      },
      "source": [
        "Как мы видим, большая часть представленных автомобилей не имеет xDrive. Отнесем к бинарным признакам."
      ]
    },
    {
      "cell_type": "markdown",
      "metadata": {
        "id": "gSYwbiqXsrSu"
      },
      "source": [
        "### numberOfDoors"
      ]
    },
    {
      "cell_type": "markdown",
      "metadata": {
        "id": "jPraZHo-srSu"
      },
      "source": [
        "Признак содержит информацию о количестве дверей авто. Посмотрим на уникальные значения:"
      ]
    },
    {
      "cell_type": "code",
      "execution_count": null,
      "metadata": {
        "id": "Y027LCytsrSv"
      },
      "outputs": [],
      "source": [
        "data['numberOfDoors'].unique()"
      ]
    },
    {
      "cell_type": "markdown",
      "metadata": {
        "id": "GnTdL2DLsrSv"
      },
      "source": [
        "Как видно, никаких значений, вызывающих сомнения, нет. Проверим распределение признака:"
      ]
    },
    {
      "cell_type": "code",
      "execution_count": null,
      "metadata": {
        "id": "Od4FOIz_srSw"
      },
      "outputs": [],
      "source": [
        "sns.countplot(x='numberOfDoors', data=data)"
      ]
    },
    {
      "cell_type": "code",
      "execution_count": null,
      "metadata": {
        "id": "L9qKhIUvQlLG"
      },
      "outputs": [],
      "source": [
        "data['numberOfDoors'] = data['numberOfDoors'].astype('object')"
      ]
    },
    {
      "cell_type": "markdown",
      "metadata": {
        "id": "hvGatXpfsrS1"
      },
      "source": [
        "### vehicleConfiguration"
      ]
    },
    {
      "cell_type": "code",
      "execution_count": null,
      "metadata": {
        "id": "8YJF-nYfrU-C"
      },
      "outputs": [],
      "source": [
        "data['vehicleConfiguration']"
      ]
    },
    {
      "cell_type": "markdown",
      "metadata": {
        "id": "6RqTGJtpsrS1"
      },
      "source": [
        "Столбец содержит информацию из других столбцов. Информативности не несет. Признак можно удалить."
      ]
    },
    {
      "cell_type": "markdown",
      "metadata": {
        "id": "XVkKTVvIsrS3"
      },
      "source": [
        "### Владельцы"
      ]
    },
    {
      "cell_type": "code",
      "execution_count": null,
      "metadata": {
        "id": "p8-hD-v8wsXJ"
      },
      "outputs": [],
      "source": [
        "data['Владельцы'].unique()"
      ]
    },
    {
      "cell_type": "markdown",
      "metadata": {
        "id": "qMjdZ1XfsrS3"
      },
      "source": [
        "Признак содержит информацию о количестве владельцев авто. Посмотрим пропуски:"
      ]
    },
    {
      "cell_type": "code",
      "execution_count": null,
      "metadata": {
        "id": "TtdRuGKYsrS3"
      },
      "outputs": [],
      "source": [
        "data['Владельцы'].isna().sum()"
      ]
    },
    {
      "cell_type": "markdown",
      "metadata": {
        "id": "8dY-OXzDsrS4"
      },
      "source": [
        "Всего один пропуск. Посмотрим, что это за строка:"
      ]
    },
    {
      "cell_type": "code",
      "execution_count": null,
      "metadata": {
        "id": "2OIZ8qqfsrS4"
      },
      "outputs": [],
      "source": [
        "data[data['Владельцы'].isnull()]"
      ]
    },
    {
      "cell_type": "markdown",
      "metadata": {
        "id": "SpKIQ930srS4"
      },
      "source": [
        "Посмотрим описание, возможно там указано, сколько было владельцев:"
      ]
    },
    {
      "cell_type": "code",
      "execution_count": null,
      "metadata": {
        "id": "l_0j1R3lsrS4"
      },
      "outputs": [],
      "source": [
        "data.iloc[6665]['description']"
      ]
    },
    {
      "cell_type": "markdown",
      "metadata": {
        "id": "c7Y0YD1wsrS4"
      },
      "source": [
        "К сожалению, комментарий оказался неинформативен. Заполним значение модой:"
      ]
    },
    {
      "cell_type": "code",
      "execution_count": null,
      "metadata": {
        "id": "2y3QPInIsrS5"
      },
      "outputs": [],
      "source": [
        "data['Владельцы'].fillna(data['Владельцы'].mode()[0], inplace=True)"
      ]
    },
    {
      "cell_type": "markdown",
      "metadata": {
        "id": "xJUu1BZusrS5"
      },
      "source": [
        "Посмотрим результат:"
      ]
    },
    {
      "cell_type": "code",
      "execution_count": null,
      "metadata": {
        "id": "795C5jTGsrS5"
      },
      "outputs": [],
      "source": [
        "data['Владельцы'].isna().sum()"
      ]
    },
    {
      "cell_type": "markdown",
      "metadata": {
        "id": "Y7fI95pGsrS5"
      },
      "source": [
        "Теперь оставим только числовые значения и приведем к числовому виду столбец:"
      ]
    },
    {
      "cell_type": "code",
      "execution_count": null,
      "metadata": {
        "id": "pJSuZE0ZsrS6"
      },
      "outputs": [],
      "source": [
        "data['Владельцы'] = data['Владельцы'].apply(lambda x: int(str(x)[0]))"
      ]
    },
    {
      "cell_type": "markdown",
      "metadata": {
        "id": "TflNvYjXsrS6"
      },
      "source": [
        "Посмотрим распределение:"
      ]
    },
    {
      "cell_type": "code",
      "execution_count": null,
      "metadata": {
        "id": "nDUIv3H8srS6"
      },
      "outputs": [],
      "source": [
        "data['Владельцы'].hist()"
      ]
    },
    {
      "cell_type": "markdown",
      "metadata": {
        "id": "dGOVkyUOsrS6"
      },
      "source": [
        "Видно что автомобили с 3 владельцами немного преобладают над всеми остальными, но не сильно."
      ]
    },
    {
      "cell_type": "markdown",
      "metadata": {
        "id": "JNnEA71FsuKL"
      },
      "source": [
        "Т.к. значения данного признака можно сравнивать между собой, заменим значения на те, что больше отражают суть признака - чем больше владельцев у авто, тем хуже. Для этого заменим:  \n",
        "1 - на 0,  \n",
        "2 - на -1,  \n",
        "3 - на -2."
      ]
    },
    {
      "cell_type": "code",
      "execution_count": null,
      "metadata": {
        "id": "Oz0OGpGwtkhK"
      },
      "outputs": [],
      "source": [
        "data['Владельцы'] = data['Владельцы'].apply(lambda x: x - (x*2-1))"
      ]
    },
    {
      "cell_type": "code",
      "execution_count": null,
      "metadata": {
        "id": "SJwzzVxYuQuN"
      },
      "outputs": [],
      "source": [
        "data['Владельцы'].hist()"
      ]
    },
    {
      "cell_type": "markdown",
      "metadata": {
        "id": "yPVAv17fsrS1"
      },
      "source": [
        "### vehicleTransmission"
      ]
    },
    {
      "cell_type": "markdown",
      "metadata": {
        "id": "PN0AzAQ0srS1"
      },
      "source": [
        "Признак содержит информацию о типе коробки передач, используемой в транспортном средстве. Проверим уникальные значения:"
      ]
    },
    {
      "cell_type": "code",
      "execution_count": null,
      "metadata": {
        "id": "afYNQ9d_srS2"
      },
      "outputs": [],
      "source": [
        "data['vehicleTransmission'].unique()"
      ]
    },
    {
      "cell_type": "markdown",
      "metadata": {
        "id": "SU_EpW-HsrS2"
      },
      "source": [
        "Посмотрим распределение признака:"
      ]
    },
    {
      "cell_type": "code",
      "execution_count": null,
      "metadata": {
        "id": "lLr7W-2CsrS2"
      },
      "outputs": [],
      "source": [
        "sns.countplot(x='vehicleTransmission', data=data)"
      ]
    },
    {
      "cell_type": "markdown",
      "metadata": {
        "id": "7EdSlucisrS2"
      },
      "source": [
        "Подавляющее большинство автомобилей имеют автоматическую коробку передач."
      ]
    },
    {
      "cell_type": "markdown",
      "metadata": {
        "id": "aRa95GDxsrS8"
      },
      "source": [
        "### ПТС"
      ]
    },
    {
      "cell_type": "markdown",
      "metadata": {
        "id": "SXW5AVAGsrS8"
      },
      "source": [
        "Данный признак содержит информацию о ПТС автомобиля. Проверим уникальные значения:"
      ]
    },
    {
      "cell_type": "code",
      "execution_count": null,
      "metadata": {
        "id": "mVIoSDShsrS8"
      },
      "outputs": [],
      "source": [
        "data['ПТС'].unique()"
      ]
    },
    {
      "cell_type": "markdown",
      "metadata": {
        "id": "xlG2q2cQsrS9"
      },
      "source": [
        "Выведем график распределения признака:"
      ]
    },
    {
      "cell_type": "code",
      "execution_count": null,
      "metadata": {
        "id": "wwbUz22VsrS9"
      },
      "outputs": [],
      "source": [
        "data.ПТС.hist()"
      ]
    },
    {
      "cell_type": "markdown",
      "metadata": {
        "id": "gAjPrz5osrS9"
      },
      "source": [
        "Как видно из распределения - большая часть продавцов имеет оригинал ПТС. Пропусков не наблюдается."
      ]
    },
    {
      "cell_type": "markdown",
      "metadata": {
        "id": "N5a4JpklsrS9"
      },
      "source": [
        "### Привод"
      ]
    },
    {
      "cell_type": "markdown",
      "metadata": {
        "id": "50IUg_MRsrS-"
      },
      "source": [
        "Признак содержит информацию о том, какой привод у транспортного средства. Посмотрим график распределения признака:"
      ]
    },
    {
      "cell_type": "code",
      "execution_count": null,
      "metadata": {
        "id": "lmLdJ-KysrS-"
      },
      "outputs": [],
      "source": [
        "sns.countplot(x='Привод', data=data)"
      ]
    },
    {
      "cell_type": "markdown",
      "metadata": {
        "id": "vDsb01HzsrS-"
      },
      "source": [
        "Видно, что большинство автомобилей имеют полный привод."
      ]
    },
    {
      "cell_type": "markdown",
      "metadata": {
        "id": "CZ52YOsXsrS-"
      },
      "source": [
        "### Руль"
      ]
    },
    {
      "cell_type": "markdown",
      "metadata": {
        "id": "Q3fEaw9SsrS-"
      },
      "source": [
        "Признак отражает положение руля в автомобиле. Посмотрим распределение признака:"
      ]
    },
    {
      "cell_type": "code",
      "execution_count": null,
      "metadata": {
        "id": "LHlAvjvgsrS_"
      },
      "outputs": [],
      "source": [
        "sns.countplot(x='Руль', data=data)"
      ]
    },
    {
      "cell_type": "markdown",
      "metadata": {
        "id": "RvXWoSUCsrS_"
      },
      "source": [
        "Почти все автомобили имеют левый руль."
      ]
    },
    {
      "cell_type": "markdown",
      "metadata": {
        "id": "WMQEYmhGRDGm"
      },
      "source": [
        "Остался текстовый признак и признак, указывающий на соответствующую фотографию автомобиля."
      ]
    },
    {
      "cell_type": "markdown",
      "metadata": {
        "id": "OoGfUN2UsrSW"
      },
      "source": [
        "### description"
      ]
    },
    {
      "cell_type": "markdown",
      "metadata": {
        "id": "O5SqrUAIsrSX"
      },
      "source": [
        "Данный столбец содержит комментарий о продаваемом автомобиле. В дальнейшем будет использоваться для NLP. Сейчас выделим на основе этого столбца признак, отражающий длину комментария:"
      ]
    },
    {
      "cell_type": "code",
      "execution_count": null,
      "metadata": {
        "id": "pBpg8R_KsrSX"
      },
      "outputs": [],
      "source": [
        "data['comment_length'] = data.description.apply(lambda x: len(str(x)))"
      ]
    },
    {
      "cell_type": "code",
      "execution_count": null,
      "metadata": {
        "id": "2TBDKrypsrSX"
      },
      "outputs": [],
      "source": [
        "data.comment_length.hist()"
      ]
    },
    {
      "cell_type": "markdown",
      "metadata": {
        "id": "B-XzJ5mQsrSX"
      },
      "source": [
        "Отнесем к числовым признакам"
      ]
    },
    {
      "cell_type": "markdown",
      "metadata": {
        "id": "bDzXVIucsrS0"
      },
      "source": [
        "### sell_id"
      ]
    },
    {
      "cell_type": "markdown",
      "metadata": {
        "id": "rUaWG4x9srS0"
      },
      "source": [
        "Этот признак нам в дальнейшем пригодится для того, чтобы находить изображения по идентификатору объявления. Для табличного обучения информативности не имеет."
      ]
    },
    {
      "cell_type": "markdown",
      "metadata": {
        "id": "B6iLz9CusrS_"
      },
      "source": [
        "### Целевой признак - price"
      ]
    },
    {
      "cell_type": "markdown",
      "metadata": {
        "id": "hStlUoTRsrTF"
      },
      "source": [
        "Посмотрим график распределения целевого признака:"
      ]
    },
    {
      "cell_type": "code",
      "execution_count": null,
      "metadata": {
        "id": "gUf7T7b2srTG"
      },
      "outputs": [],
      "source": [
        "plt.figure(figsize=(10, 3))\n",
        "plt.subplot(1, 2, 1)\n",
        "plt.title(f\"Histogramma {'price'}\")\n",
        "sns.distplot((data[data['sample'] == 1]['price']), bins=50)\n",
        "\n",
        "plt.subplot(1, 2, 2)\n",
        "sns.boxplot(data['price'])\n",
        "plt.xlabel('Price')\n",
        "plt.title(f\"Boxplot {'price'}\", fontsize=12)\n",
        "plt.show()\n",
        "data.price.describe()"
      ]
    },
    {
      "cell_type": "markdown",
      "metadata": {
        "id": "aSLQ8fQRsrTG"
      },
      "source": [
        "Видно, что данные сильно смещены влево. Посмотрим, как будет себя вести признак после логарифмирования:"
      ]
    },
    {
      "cell_type": "code",
      "execution_count": null,
      "metadata": {
        "id": "iCueYF4xsrTG"
      },
      "outputs": [],
      "source": [
        "plt.figure(figsize=(10, 3))\n",
        "plt.subplot(1, 2, 1)\n",
        "plt.title(f\"Histogramma log.{'price'} \")\n",
        "sns.distplot(np.log(data[data['sample'] == 1]['price']), bins=50)\n",
        "\n",
        "plt.subplot(1, 2, 2)\n",
        "sns.boxplot(np.log(data[data['sample'] == 1]['price']))\n",
        "plt.xlabel('Price')\n",
        "plt.title('Boxplot log.price', fontsize=12)\n",
        "plt.show()"
      ]
    },
    {
      "cell_type": "markdown",
      "metadata": {
        "id": "bBFpNyQAsrTH"
      },
      "source": [
        "Теперь посмотрим зависимости некоторых столбцов от целевого:"
      ]
    },
    {
      "cell_type": "markdown",
      "metadata": {
        "id": "Y2WsA_QdBKHk"
      },
      "source": [
        "Зависимость от возраста авто."
      ]
    },
    {
      "cell_type": "code",
      "execution_count": null,
      "metadata": {
        "id": "K0jb9pG9srTH"
      },
      "outputs": [],
      "source": [
        "plt.figure(figsize=(10, 5))\n",
        "plt.scatter((data.price), data.modelDate)"
      ]
    },
    {
      "cell_type": "markdown",
      "metadata": {
        "id": "PKLMxBVHsrTH"
      },
      "source": [
        "Из распределения видно, что чем более \"свежий\" автомобиль, тем выше на него цена. Но опять же, некоторые более старые автомобили могут стоить дорого из-за раритетности.  \n",
        "Посмотрим также зависимость от привода:"
      ]
    },
    {
      "cell_type": "code",
      "execution_count": null,
      "metadata": {
        "id": "wxlSRT1SsrTH"
      },
      "outputs": [],
      "source": [
        "plt.figure(figsize=(8, 5))\n",
        "plt.scatter((data.price), data['Привод'])"
      ]
    },
    {
      "cell_type": "markdown",
      "metadata": {
        "id": "b3loP-YwsrTI"
      },
      "source": [
        "Из распределения хорошо видно, что наиболее высокая цена у полного привода, что логично."
      ]
    },
    {
      "cell_type": "markdown",
      "metadata": {
        "id": "sLZFsqcOsrTI"
      },
      "source": [
        "Теперь сформируем перечень числовых признаков:\n",
        "\n",
        "\n"
      ]
    },
    {
      "cell_type": "code",
      "execution_count": null,
      "metadata": {
        "id": "6KOZXlbosrTI"
      },
      "outputs": [],
      "source": [
        "# числовые признаки\n",
        "num_features = ['mileage', 'model_time', 'engineDisplacement', \n",
        "                'enginePower', 'comment_length']"
      ]
    },
    {
      "cell_type": "markdown",
      "metadata": {
        "id": "fINYlwCtsrTI"
      },
      "source": [
        "Необходимо посмотреть корреляционную зависимость наших признаков:"
      ]
    },
    {
      "cell_type": "code",
      "execution_count": null,
      "metadata": {
        "id": "rkwlcw8usrTJ"
      },
      "outputs": [],
      "source": [
        "plt.figure(figsize=(12, 7))\n",
        "sns.heatmap(data[data['sample'] == 1]\n",
        "            [num_features + ['price']].corr(), annot=True)"
      ]
    },
    {
      "cell_type": "markdown",
      "metadata": {
        "id": "crD_43V4cGsW"
      },
      "source": [
        "Больше всего на таргет влияют признаки mileage, model_time, enginePower.  \n",
        "Прослеживается высокая корреляция между мощньстью и объёмом двигателя, что очевидно. Однако, на мой взгляд она не достаточно высока, чтобы удалять один из признаков."
      ]
    },
    {
      "cell_type": "markdown",
      "metadata": {
        "id": "er5zb5fHsrTJ"
      },
      "source": [
        "## Финальный этап обработки данных:"
      ]
    },
    {
      "cell_type": "markdown",
      "metadata": {
        "id": "o1Qpv0DB44K7"
      },
      "source": [
        "### Посмотрим, как выглядят распределения числовых признаков."
      ]
    },
    {
      "cell_type": "code",
      "execution_count": null,
      "metadata": {
        "id": "NW3_mmCHsrSK"
      },
      "outputs": [],
      "source": [
        "def visualize_distributions(titles_values_dict):\n",
        "    columns = min(3, len(titles_values_dict))\n",
        "    rows = (len(titles_values_dict) - 1) // columns + 1\n",
        "    fig = plt.figure(figsize=(columns * 6, rows * 4))\n",
        "    for i, (title, values) in enumerate(titles_values_dict.items()):\n",
        "        hist, bins = np.histogram(values, bins=20)\n",
        "        ax = fig.add_subplot(rows, columns, i + 1)\n",
        "        ax.bar(bins[:-1], hist, width=(bins[1] - bins[0]) * 0.7)\n",
        "        ax.set_title(title)\n",
        "    plt.show()\n",
        "\n",
        "\n",
        "visualize_distributions({\n",
        "    'mileage': data['mileage'].dropna(),\n",
        "    'modelDate': data['modelDate'].dropna(),\n",
        "    'engineDisplacement': data['engineDisplacement'].dropna(),\n",
        "    'enginePower': data['enginePower'].dropna(),\n",
        "    'comment_length': data['comment_length'].dropna()\n",
        "})"
      ]
    },
    {
      "cell_type": "markdown",
      "metadata": {
        "id": "af70Tk1VGt8T"
      },
      "source": [
        "### Просмотрим распределение после логарифмирования:"
      ]
    },
    {
      "cell_type": "code",
      "execution_count": null,
      "metadata": {
        "id": "RlGWCRCBG4AL"
      },
      "outputs": [],
      "source": [
        "visualize_distributions({\n",
        "    'mileage': np.log10(data['mileage'].dropna()),\n",
        "    'modelDate': np.log10(data['modelDate'].dropna()),\n",
        "    'engineDisplacement': np.log10(data['engineDisplacement'].dropna()),\n",
        "    'enginePower': np.log10(data['enginePower'].dropna()),\n",
        "    'comment_length': np.log10(data['comment_length'].dropna())\n",
        "})"
      ]
    },
    {
      "cell_type": "markdown",
      "metadata": {
        "id": "mFBXQDNDdh36"
      },
      "source": [
        "Распределения стали выглядеть лучше. Таким образом перед нормализацией возьмём логарифм для каждого числового признака."
      ]
    },
    {
      "cell_type": "markdown",
      "metadata": {
        "id": "rAGeOM5TkRCr"
      },
      "source": [
        "### Тестируем масштабаторы."
      ]
    },
    {
      "cell_type": "code",
      "execution_count": null,
      "metadata": {
        "id": "ZrlRlVCZhe5Y"
      },
      "outputs": [],
      "source": [
        "MinMaxScaler, RobustScaler, StandardScaler\n",
        "scaler1 = StandardScaler()\n",
        "scaler2 = MinMaxScaler()\n",
        "scaler3 = RobustScaler()\n",
        "\n",
        "scaler = scaler1\n",
        "\n",
        "visualize_distributions({\n",
        "    'mileage': scaler.fit_transform(np.log10(data[['mileage']].dropna()))[:, 0],\n",
        "    'modelDate': scaler.fit_transform(np.log10(data[['modelDate']].dropna()))[:, 0],\n",
        "    'engineDisplacement': scaler.fit_transform(np.log10(data[['engineDisplacement']].dropna()))[:, 0],\n",
        "    'enginePower': scaler.fit_transform(np.log10(data[['enginePower']].dropna()))[:, 0],\n",
        "    'comment_length': scaler.fit_transform(np.log10(data[['comment_length']].dropna()))[:, 0]\n",
        "})"
      ]
    },
    {
      "cell_type": "code",
      "execution_count": null,
      "metadata": {
        "id": "azrN5QeXjymH"
      },
      "outputs": [],
      "source": [
        "scaler = scaler2\n",
        "\n",
        "visualize_distributions({\n",
        "    'mileage': scaler.fit_transform(np.log10(data[['mileage']].dropna()))[:, 0],\n",
        "    'modelDate': scaler.fit_transform(np.log10(data[['modelDate']].dropna()))[:, 0],\n",
        "    'engineDisplacement': scaler.fit_transform(np.log10(data[['engineDisplacement']].dropna()))[:, 0],\n",
        "    'enginePower': scaler.fit_transform(np.log10(data[['enginePower']].dropna()))[:, 0],\n",
        "    'comment_length': scaler.fit_transform(np.log10(data[['comment_length']].dropna()))[:, 0]\n",
        "})"
      ]
    },
    {
      "cell_type": "code",
      "execution_count": null,
      "metadata": {
        "id": "XsPi7pg-jzlx"
      },
      "outputs": [],
      "source": [
        "scaler = scaler3\n",
        "\n",
        "visualize_distributions({\n",
        "    'mileage': scaler.fit_transform(np.log10(data[['mileage']].dropna()))[:, 0],\n",
        "    'modelDate': scaler.fit_transform(np.log10(data[['modelDate']].dropna()))[:, 0],\n",
        "    'engineDisplacement': scaler.fit_transform(np.log10(data[['engineDisplacement']].dropna()))[:, 0],\n",
        "    'enginePower': scaler.fit_transform(np.log10(data[['enginePower']].dropna()))[:, 0],\n",
        "    'comment_length': scaler.fit_transform(np.log10(data[['comment_length']].dropna()))[:, 0]\n",
        "})"
      ]
    },
    {
      "cell_type": "markdown",
      "metadata": {
        "id": "9Yv0CxmWlBMn"
      },
      "source": [
        "Лучше всего себя показал StandartScaler. Поэтому в финальной обработке будем использовать его."
      ]
    },
    {
      "cell_type": "markdown",
      "metadata": {
        "id": "znA2u6eMLtUo"
      },
      "source": [
        "### Преобразование категориальных признаков"
      ]
    },
    {
      "cell_type": "markdown",
      "metadata": {
        "id": "pgnG89_Ewri7"
      },
      "source": [
        "Преобразуем категориальные признаки следующим образом:  \n",
        "* {brand, ПТС, Привод, Руль} будут закодированы с помощью One-Hot Encoder;\n",
        "* {fuelType, numberOfDoors, vehicleTransmission} будут закодированы с помощью BinaryEncoder;\n",
        "* {bodyType, color, model_info} будут закодированы с помощью Target Encoder реализованного под капотом CatBoost;"
      ]
    },
    {
      "cell_type": "code",
      "execution_count": null,
      "metadata": {
        "id": "UK9XJb_8bpwW"
      },
      "outputs": [],
      "source": [
        "# категориальные признаки\n",
        "features_cat = ['brand', 'ПТС', 'Привод', 'Руль', 'fuelType', \n",
        "                'numberOfDoors', 'vehicleTransmission', 'bodyType',\n",
        "                'color', 'model_info', 'Владельцы']"
      ]
    },
    {
      "cell_type": "code",
      "execution_count": null,
      "metadata": {
        "id": "Gbe-unOXy1hM"
      },
      "outputs": [],
      "source": [
        "features_for_OneHot_Encoder = ['brand', 'ПТС', 'Привод', 'Руль', 'Владельцы']\n",
        "features_for_BinaryEncoder = ['fuelType', 'numberOfDoors', 'vehicleTransmission']\n",
        "features_for_CatBoost = ['bodyType', 'color', 'model_info']"
      ]
    },
    {
      "cell_type": "markdown",
      "metadata": {
        "id": "MUJEYMlkpicF"
      },
      "source": [
        ""
      ]
    },
    {
      "cell_type": "code",
      "execution_count": null,
      "metadata": {
        "id": "qGBy7AOXsrTK"
      },
      "outputs": [],
      "source": [
        "def process_data(df_input):\n",
        "\n",
        "    df_output = df_input.copy()\n",
        "\n",
        "    # Удалим неиспользуемые столбцы\n",
        "    df_output.drop(['modelDate', 'productionDate', 'description', 'sell_id', \n",
        "                    'vehicleConfiguration', 'Владение', 'name', ],\n",
        "                    axis=1, inplace=True)\n",
        "\n",
        "    ############################### Нормализация ###############################\n",
        "\n",
        "    scaler = StandardScaler()\n",
        "    for column in num_features:\n",
        "        df_output[column] = scaler.fit_transform(\n",
        "            df_output[[column]])[:, 0]\n",
        "\n",
        "    # scaler = RobustScaler()\n",
        "    # for column in num_features:\n",
        "    #     df_output[column] = scaler.fit_transform(\n",
        "    #         df_output[[column]])[:,0]\n",
        "\n",
        "    ################## Преобразование категориальных признаков #################    \n",
        "    # # Binary Encoding\n",
        "    # bn = BinaryEncoder(cols=features_for_BinaryEncoder)\n",
        "    # df_output = bn.fit_transform(df_output)\n",
        "    \n",
        "    # # Target Encoding\n",
        "    # loo = LeaveOneOutEncoder(cols=features_for_CatBoost)\n",
        "    # df_output = loo.fit_transform(df_output, df_output['price'])\n",
        "\n",
        "    # # либо\n",
        "    # loo = LeaveOneOutEncoder(cols=features_cat)\n",
        "    # df_output = loo.fit_transform(df_output, df_output['price'])\n",
        "\n",
        "    # scaler = RobustScaler()\n",
        "    # for column in df_output.drop(['sample','price'] , axis=1).columns:\n",
        "    #     df_output[column] = scaler.fit_transform(\n",
        "    #         df_output[[column]])[:,0]\n",
        "\n",
        "    # либо\n",
        "    # One-Hot Encoding:\n",
        "    df_output = pd.get_dummies(\n",
        "        df_output, columns=features_cat, dummy_na=False)\n",
        "    \n",
        "    return df_output"
      ]
    },
    {
      "cell_type": "markdown",
      "source": [
        "В обработке категориальных признаков применялся One-Hot encoding потому что нейронные сети показали лучшие результаты с этой обработкой\n",
        "а результаты catboost остались на том же уровне"
      ],
      "metadata": {
        "id": "GASf-_ABSoeN"
      }
    },
    {
      "cell_type": "markdown",
      "metadata": {
        "id": "Jujr6mhKsrTK"
      },
      "source": [
        "### Применение преобразования"
      ]
    },
    {
      "cell_type": "code",
      "execution_count": null,
      "metadata": {
        "id": "8sSeb_YVsrTK"
      },
      "outputs": [],
      "source": [
        "df = process_data(data)"
      ]
    },
    {
      "cell_type": "code",
      "execution_count": null,
      "metadata": {
        "id": "sVV8FMihNhBM"
      },
      "outputs": [],
      "source": [
        "df"
      ]
    },
    {
      "cell_type": "code",
      "source": [
        "if is_colab:\n",
        "    df.to_csv(os.path.join(SAVE_PATH, 'processed_df.csv'),\n",
        "                               index=False)\n",
        "else:\n",
        "    df.to_csv(os.path.join(WORK_PATH, 'processed_df.csv'),\n",
        "                               index=False)"
      ],
      "metadata": {
        "id": "Jp3qE_YJKxAP"
      },
      "execution_count": null,
      "outputs": []
    },
    {
      "cell_type": "code",
      "source": [
        "raise KeyboardInterrupt"
      ],
      "metadata": {
        "id": "fCNBu8wig5yG"
      },
      "execution_count": null,
      "outputs": []
    },
    {
      "cell_type": "markdown",
      "metadata": {
        "id": "wTCGppewsrTL"
      },
      "source": [
        "##  Split data"
      ]
    },
    {
      "cell_type": "code",
      "source": [
        "df = pd.read_csv(os.path.join(SAVE_PATH, 'processed_df.csv'))\n"
      ],
      "metadata": {
        "id": "NSfJ8q2cLG3Z"
      },
      "execution_count": 24,
      "outputs": []
    },
    {
      "cell_type": "markdown",
      "metadata": {
        "id": "okxGWHkisrTL"
      },
      "source": [
        "Разделим данные."
      ]
    },
    {
      "cell_type": "code",
      "execution_count": 25,
      "metadata": {
        "id": "YKsl3e5UsrTL"
      },
      "outputs": [],
      "source": [
        "train_df = df.loc[df[\"sample\"] == 1].drop(\"sample\", axis=1)\n",
        "test_df = df.loc[df[\"sample\"] == 0].drop(['sample'], axis=1)\n",
        "\n",
        "X = train_df.drop(['price'], axis=1)\n",
        "y = train_df['price'].values\n",
        "sub = test_df.drop(['price'], axis=1)\n"
      ]
    },
    {
      "cell_type": "markdown",
      "metadata": {
        "id": "pSUHlW8FoO8u"
      },
      "source": [
        "Разделим train на обучающую и валидационную выборку. На валидацию выделим 25%."
      ]
    },
    {
      "cell_type": "code",
      "execution_count": 26,
      "metadata": {
        "id": "fV0ihOiesrTN"
      },
      "outputs": [],
      "source": [
        "X_train, X_test, y_train, y_test = train_test_split(\n",
        "    X, y, test_size=0.25, shuffle=True, random_state=RANDOM_SEED)"
      ]
    },
    {
      "cell_type": "code",
      "execution_count": 27,
      "metadata": {
        "colab": {
          "base_uri": "https://localhost:8080/",
          "height": 165
        },
        "id": "OztTao8W2p-P",
        "outputId": "948c0e8b-5c5f-4682-ee85-7d6b84d33208"
      },
      "outputs": [
        {
          "output_type": "error",
          "ename": "RuntimeError",
          "evalue": "ignored",
          "traceback": [
            "\u001b[0;31m---------------------------------------------------------------------------\u001b[0m",
            "\u001b[0;31mRuntimeError\u001b[0m                              Traceback (most recent call last)",
            "\u001b[0;32m<ipython-input-27-9c9a2cba73bf>\u001b[0m in \u001b[0;36m<module>\u001b[0;34m()\u001b[0m\n\u001b[0;32m----> 1\u001b[0;31m \u001b[0;32mraise\u001b[0m\u001b[0;34m\u001b[0m\u001b[0;34m\u001b[0m\u001b[0m\n\u001b[0m",
            "\u001b[0;31mRuntimeError\u001b[0m: No active exception to reraise"
          ]
        }
      ],
      "source": [
        "raise KeyboardInterrupt"
      ]
    },
    {
      "cell_type": "markdown",
      "metadata": {
        "id": "nsd9yZ4asrTM"
      },
      "source": [
        "# Model 1: CatBoostRegressor"
      ]
    },
    {
      "cell_type": "markdown",
      "metadata": {
        "id": "j8T2xCVLwW1j"
      },
      "source": [
        "### Обучение"
      ]
    },
    {
      "cell_type": "markdown",
      "metadata": {
        "id": "KbSMFt5QsrTN"
      },
      "source": [
        "Теперь обучим наш CatBoosRegressor:"
      ]
    },
    {
      "cell_type": "code",
      "execution_count": null,
      "metadata": {
        "id": "N5PydrMgsrTN"
      },
      "outputs": [],
      "source": [
        "cat_boost_model = CatBoostRegressor(iterations=5000,\n",
        "                          depth=12,\n",
        "                          learning_rate = 0.02,\n",
        "                          random_seed=RANDOM_SEED,\n",
        "                          eval_metric='MAPE',\n",
        "                          custom_metric=['RMSE', 'MAE'],\n",
        "                          od_wait=500,  # Прерывание, если метрика не меняется\n",
        "                          # task_type='GPU',\n",
        "                          silent=True,\n",
        "                          l2_leaf_reg=6, \n",
        "                          random_strength=0.3,\n",
        "                          # cat_features=features_for_CatBoost\n",
        "                          )\n",
        "# обучим модель\n",
        "cat_boost_model.fit(X_train, np.log(y_train),\n",
        "          eval_set=(X_test, np.log(y_test)),\n",
        "          verbose_eval=100,\n",
        "          use_best_model=True,\n",
        "          )\n",
        "\n",
        "# оцениваем точность\n",
        "predict_catboost = np.round(np.exp(cat_boost_model.predict(X_test)))\n",
        "print(\"Точность модели по метрике MAPE: \"\n",
        "      f\"{(mape(y_test, predict_catboost))*100:0.2f}%\")\n"
      ]
    },
    {
      "cell_type": "markdown",
      "metadata": {
        "id": "VCbrl6BaEZ0f"
      },
      "source": [
        "![image.png](data:image/png;base64,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)![image.png](data:image/png;base64,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)"
      ]
    },
    {
      "cell_type": "markdown",
      "metadata": {
        "id": "l90s34Gn-rVw"
      },
      "source": [
        "### Валидация"
      ]
    },
    {
      "cell_type": "code",
      "execution_count": null,
      "metadata": {
        "id": "yA8t3wEf-Wdu"
      },
      "outputs": [],
      "source": [
        "predict_catboost = np.round(np.exp(cat_boost_model.predict(X_test)))\n",
        "print(f\"TEST mape: {(mape(y_test, predict_catboost))*100:0.2f}%\")"
      ]
    },
    {
      "cell_type": "code",
      "execution_count": null,
      "metadata": {
        "id": "ZJKGj4RZIwJt"
      },
      "outputs": [],
      "source": [
        "for i in range(len(predict_catboost)):\n",
        "  print(\"Сеть предсказала: \", round(predict_catboost[i],2), \n",
        "        \", верный ответ: \", round(y_test[i],2), \n",
        "        \", отклонение: \", round(predict_catboost[i] - y_test[i],2))"
      ]
    },
    {
      "cell_type": "markdown",
      "metadata": {
        "id": "dGDa2B4PWgm8"
      },
      "source": [
        "Результаты неплохие.\n",
        "При уменьшении learning_rate модель сильно переобучается и  результаты ухудшаются на порядок."
      ]
    },
    {
      "cell_type": "markdown",
      "metadata": {
        "id": "Umvvyax5srTO"
      },
      "source": [
        "### Submission"
      ]
    },
    {
      "cell_type": "markdown",
      "metadata": {
        "id": "DpnjLbOAsrTO"
      },
      "source": [
        "Создадим сабмит:"
      ]
    },
    {
      "cell_type": "code",
      "execution_count": null,
      "metadata": {
        "id": "2tbO9NwBsrTO"
      },
      "outputs": [],
      "source": [
        "if is_colab:\n",
        "    path = SAVE_PATH\n",
        "else:\n",
        "    path = WORK_PATH\n",
        "\n",
        "sub_predict_catboost = np.round(np.exp(cat_boost_model.predict(sub)))\n",
        "\n",
        "sample_submission['price'] = sub_predict_catboost\n",
        "sample_submission.to_csv(os.path.join(path, 'cat_boost_subm.csv'), \n",
        "                         index=False)"
      ]
    },
    {
      "cell_type": "code",
      "execution_count": null,
      "metadata": {
        "id": "mCIiX_Ay4RBt"
      },
      "outputs": [],
      "source": [
        "raise KeyboardInterrupt"
      ]
    },
    {
      "cell_type": "markdown",
      "metadata": {
        "id": "DKu08eLOsrTP"
      },
      "source": [
        "Теперь разработаем нейронную сеть для решения поставленной задачи."
      ]
    },
    {
      "cell_type": "markdown",
      "metadata": {
        "id": "7uX5AIuasrTP"
      },
      "source": [
        "# Model 2: Нейронная сеть"
      ]
    },
    {
      "cell_type": "code",
      "execution_count": null,
      "metadata": {
        "id": "o548ivDaz_ou"
      },
      "outputs": [],
      "source": [
        "file_name = 'simple_dnn'"
      ]
    },
    {
      "cell_type": "code",
      "execution_count": null,
      "metadata": {
        "id": "ugNpOIdpG5YT"
      },
      "outputs": [],
      "source": [
        "simple_dnn = M.Sequential()\n",
        "\n",
        "simple_dnn.add(L.Dense(4096, \n",
        "                       input_dim = X_train.shape[1],  \n",
        "                       activation=ACTIVATION))\n",
        "simple_dnn.add(L.Dropout(0.15))\n",
        "\n",
        "simple_dnn.add(L.Dense(4096,\n",
        "                       kernel_regularizer=regularizers.l1_l2(l1=1e-6, l2=1e-6), \n",
        "                       kernel_initializer='normal', \n",
        "                       activation=ACTIVATION))\n",
        "simple_dnn.add(L.Dropout(0.15))\n",
        "\n",
        "simple_dnn.add(L.Dense(4096,\n",
        "                       kernel_regularizer=regularizers.l1_l2(l1=1e-6, l2=1e-6), \n",
        "                       kernel_initializer='normal', \n",
        "                       activation=ACTIVATION))\n",
        "simple_dnn.add(L.Dropout(0.15))\n",
        "\n",
        "simple_dnn.add(L.Dense(4096,\n",
        "                       kernel_regularizer=regularizers.l1_l2(l1=1e-6, l2=1e-6), \n",
        "                       kernel_initializer='normal', \n",
        "                       activation=ACTIVATION))\n",
        "simple_dnn.add(L.Dropout(0.15))\n",
        "\n",
        "simple_dnn.add(L.Dense(4096,\n",
        "                       kernel_regularizer=regularizers.l1_l2(l1=1e-6, l2=1e-6), \n",
        "                       kernel_initializer='normal', \n",
        "                       activation=ACTIVATION))\n",
        "simple_dnn.add(L.Dropout(0.15))\n",
        "\n",
        "simple_dnn.add(L.Dense(4096,\n",
        "                       kernel_regularizer=regularizers.l1_l2(l1=1e-6, l2=1e-6), \n",
        "                       kernel_initializer='normal', \n",
        "                       activation=ACTIVATION))\n",
        "# simple_dnn.add(L.Dropout(0.15))\n",
        "\n",
        "# The Output Layer :\n",
        "simple_dnn.add(L.Dense(1, activation='linear'))"
      ]
    },
    {
      "cell_type": "code",
      "source": [
        "# # лучшая\n",
        "# simple_dnn = M.Sequential()\n",
        "\n",
        "# simple_dnn.add(L.Dense(2048, \n",
        "#                        input_dim = X_train.shape[1],  \n",
        "#                        activation=ACTIVATION))\n",
        "# simple_dnn.add(L.Dropout(0.15))\n",
        "\n",
        "# simple_dnn.add(L.Dense(16384,\n",
        "#                        kernel_regularizer=regularizers.l1_l2(l1=1e-6, l2=1e-6), \n",
        "#                        kernel_initializer='normal', \n",
        "#                        activation=ACTIVATION))\n",
        "# simple_dnn.add(L.Dropout(0.15))\n",
        "\n",
        "# simple_dnn.add(L.Dense(4096,\n",
        "#                        kernel_regularizer=regularizers.l1_l2(l1=1e-6, l2=1e-6), \n",
        "#                        kernel_initializer='normal', \n",
        "#                        activation=ACTIVATION))\n",
        "# simple_dnn.add(L.Dropout(0.15))\n",
        "\n",
        "# simple_dnn.add(L.Dense(4096,\n",
        "#                        kernel_regularizer=regularizers.l1_l2(l1=1e-6, l2=1e-6), \n",
        "#                        kernel_initializer='normal', \n",
        "#                        activation=ACTIVATION))\n",
        "# # simple_dnn.add(L.Dropout(0.15))\n",
        "\n",
        "# # The Output Layer :\n",
        "# simple_dnn.add(L.Dense(1, activation='linear'))"
      ],
      "metadata": {
        "id": "4CILcPBZX-PN"
      },
      "execution_count": null,
      "outputs": []
    },
    {
      "cell_type": "markdown",
      "metadata": {
        "id": "Zw2coVErsrTQ"
      },
      "source": [
        "Посмотрим структуру модели:"
      ]
    },
    {
      "cell_type": "code",
      "source": [
        "# file_name = 'simple_dnn'\n",
        "# simple_dnn = keras.models.load_model(os.path.join(SAVE_PATH, \n",
        "#                                                       file_name+'.hdf5'))\n",
        "# LR = 0.0001\n",
        "\n",
        "# simple_dnn.compile(loss='MAPE', optimizer=optimizers.Adam(learning_rate=LR),\n",
        "#                    metrics=['MAPE'])"
      ],
      "metadata": {
        "id": "-uFpAha8XBQE"
      },
      "execution_count": null,
      "outputs": []
    },
    {
      "cell_type": "code",
      "execution_count": null,
      "metadata": {
        "id": "3FFaTIrasrTR"
      },
      "outputs": [],
      "source": [
        "simple_dnn.summary()"
      ]
    },
    {
      "cell_type": "markdown",
      "metadata": {
        "id": "eFvG4_TesrTR"
      },
      "source": [
        "Скомпилируем модель:"
      ]
    },
    {
      "cell_type": "code",
      "execution_count": null,
      "metadata": {
        "id": "w7YDrG4ssrTR"
      },
      "outputs": [],
      "source": [
        "LR = 0.0001\n",
        "\n",
        "# Compile model\n",
        "simple_dnn.compile(loss='MAPE', optimizer=optimizers.Adam(learning_rate=LR),\n",
        "                   metrics=['MAPE'])"
      ]
    },
    {
      "cell_type": "markdown",
      "metadata": {
        "id": "zLz4iYllsrTR"
      },
      "source": [
        "### Коллбеки\n",
        "* EarlyStop - Для прерывания обучения в случае, когда нет положительного результата на протяжении n эпох.\n",
        "* Checkpoint - Сохраняет лучшие веса модели.\n",
        "* LearningRateSheduler - постепенное уменьшение LR."
      ]
    },
    {
      "cell_type": "code",
      "execution_count": null,
      "metadata": {
        "id": "1_hBx6HL4njU"
      },
      "outputs": [],
      "source": [
        "def scheduler(epoch, lr):\n",
        "    if epoch < 10 or lr <= 0.00000009:\n",
        "        return lr\n",
        "    else:\n",
        "        return lr * tf.math.exp(-0.1)"
      ]
    },
    {
      "cell_type": "code",
      "execution_count": null,
      "metadata": {
        "id": "KM6I28i7y45A"
      },
      "outputs": [],
      "source": [
        "if is_colab:\n",
        "    cb_checkpoint = ModelCheckpoint(os.path.join(SAVE_PATH, \n",
        "                                                 file_name+'_best.hdf5'), \n",
        "                                    monitor = ['val_MAPE'], \n",
        "                                    verbose = 0, mode = 'min')\n",
        "else:\n",
        "    cb_checkpoint = ModelCheckpoint(os.path.join(WORK_PATH, \n",
        "                                                 file_name+'_best.hdf5'), \n",
        "                                    monitor = ['val_MAPE'], \n",
        "                                    verbose = 0, mode = 'min')\n",
        "\n",
        "cb_earlystop = EarlyStopping(monitor='val_MAPE', patience=25, verbose=1, \n",
        "                             restore_best_weights=True)\n",
        "# cb_schedul = LearningRateScheduler(scheduler, verbose=1)\n",
        "\n",
        "cb_schedul = ReduceLROnPlateau(monitor='val_MAPE',\n",
        "                                 factor=tf.math.exp(-0.3),  # new_lr = lp*factor\n",
        "                                 patience=1,  # эпох без изменений\n",
        "                                 min_lr=0.0000005,\n",
        "                                 verbose=1,  # выводить сообщения\n",
        "                                 mode='min')  # способ отслеживания метрики\n",
        "\n",
        "callbacks_list = [cb_checkpoint, cb_earlystop, cb_schedul]"
      ]
    },
    {
      "cell_type": "markdown",
      "metadata": {
        "id": "89Wn7wS9srTT"
      },
      "source": [
        "### Обучение"
      ]
    },
    {
      "cell_type": "code",
      "source": [
        "BATCH_SIZE = 16"
      ],
      "metadata": {
        "id": "p8vrgPtV7Z0a"
      },
      "execution_count": null,
      "outputs": []
    },
    {
      "cell_type": "code",
      "execution_count": null,
      "metadata": {
        "id": "GGI_NGf4srTU"
      },
      "outputs": [],
      "source": [
        "history = simple_dnn.fit(X_train, y_train,\n",
        "                    batch_size=BATCH_SIZE,\n",
        "                    epochs=1000,\n",
        "                    validation_data=(X_test, y_test), \n",
        "                    callbacks=callbacks_list, \n",
        "                    verbose=1,\n",
        "                    )"
      ]
    },
    {
      "cell_type": "markdown",
      "metadata": {
        "id": "cznF4GFY_dbV"
      },
      "source": [
        "### График"
      ]
    },
    {
      "cell_type": "markdown",
      "metadata": {
        "id": "W9rv-kmLsrTU"
      },
      "source": [
        "Посмотрим график обучения:"
      ]
    },
    {
      "cell_type": "code",
      "execution_count": null,
      "metadata": {
        "id": "N9g0oO1EsrTU"
      },
      "outputs": [],
      "source": [
        "plot_history(history)"
      ]
    },
    {
      "cell_type": "markdown",
      "metadata": {
        "id": "e-S1YCVTsrTV"
      },
      "source": [
        "Сохраним модель и подгрузим лучшие веса:"
      ]
    },
    {
      "cell_type": "code",
      "source": [
        "simple_dnn = make_save(simple_dnn, file_name)"
      ],
      "metadata": {
        "id": "RG_hhZswNnN1"
      },
      "execution_count": null,
      "outputs": []
    },
    {
      "cell_type": "markdown",
      "metadata": {
        "id": "A-kE_aANxAzy"
      },
      "source": [
        "### Валидация"
      ]
    },
    {
      "cell_type": "code",
      "execution_count": null,
      "metadata": {
        "id": "c2k1p2SQsrTV"
      },
      "outputs": [],
      "source": [
        "predict_simple_dnn = np.round(simple_dnn.predict(X_test))\n",
        "print(f\"TEST mape: {(mape(y_test, predict_simple_dnn[:,0]))*100:0.2f}%\")"
      ]
    },
    {
      "cell_type": "code",
      "source": [
        "veiw_sample_predicts(predict_simple_dnn, y_test)"
      ],
      "metadata": {
        "id": "oQ-iFOL6VyaA"
      },
      "execution_count": null,
      "outputs": []
    },
    {
      "cell_type": "markdown",
      "metadata": {
        "id": "OVAd1WprsrTU"
      },
      "source": [
        "График показывает что архитектура сети не лучшая - модель переобучается, однако на валидации она показывает лучшей результат из всех опробованных архитектур.  \n",
        "Проблема нейронных сетей всегда заключалась в их высокой дисперсии и склонности к переобучению.  \n",
        "Нейронная сеть хорошо справляется с обучающими данными, но лучше использовать регрессию с усеченным деревом решений, которая эмулирует линейную и высокодисперсную нейронную сеть, но позволяет лучше контролировать глубину, ширину и другие атрибуты для контроля переобучения."
      ]
    },
    {
      "cell_type": "markdown",
      "metadata": {
        "id": "Dpg7lTJJsrTW"
      },
      "source": [
        "### Submission"
      ]
    },
    {
      "cell_type": "code",
      "source": [
        "sample_submission = make_sub(simple_dnn, sample_submission, sub, 'simple_dnn_submission.csv')"
      ],
      "metadata": {
        "id": "4MLW3T-kObU_"
      },
      "execution_count": null,
      "outputs": []
    },
    {
      "cell_type": "code",
      "execution_count": null,
      "metadata": {
        "id": "lEXPfAV42zk9"
      },
      "outputs": [],
      "source": [
        "sample_submission.head()"
      ]
    },
    {
      "cell_type": "code",
      "execution_count": null,
      "metadata": {
        "id": "2Z1bCaYm2boq"
      },
      "outputs": [],
      "source": [
        "raise KeyboardInterrupt"
      ]
    },
    {
      "cell_type": "markdown",
      "metadata": {
        "id": "5sZvfhJtsrTX"
      },
      "source": [
        "# 6. Model 3: NLP + MLP"
      ]
    },
    {
      "cell_type": "markdown",
      "metadata": {
        "id": "7vpMxqG5srTX"
      },
      "source": [
        "Для данной модели мы будем использовать две сети:\n",
        "* NLP для обработки столбца description\n",
        "* MLP, созданная ранее, для табличных данных\n",
        "\n",
        "Для начала посмотрим, как выглядят данные в столбце:"
      ]
    },
    {
      "cell_type": "code",
      "execution_count": null,
      "metadata": {
        "id": "jQ4KGFmGsrTX"
      },
      "outputs": [],
      "source": [
        "for s in data['description'].head(5):\n",
        "    print('*'*50, '\\n', s)"
      ]
    },
    {
      "cell_type": "markdown",
      "metadata": {
        "id": "FEwaWWp0srTX"
      },
      "source": [
        "Мы видим, что столбец представляет собой комментарий к продаваемому автомобилю. В нем присутствует мусор, от которого нужно будет избавиться. План действий будет примерно следующим:\n",
        "* Очистим строки от ненужных символов\n",
        "* Проведем лемматизацию строк\n",
        "* Уберем стоп-слова из строк\n",
        "* Проведем токенизацию текста\n",
        "* Проведем векторизацию текста"
      ]
    },
    {
      "cell_type": "markdown",
      "metadata": {
        "id": "_oO5ru6XsrTX"
      },
      "source": [
        "### Лемматизация"
      ]
    },
    {
      "cell_type": "markdown",
      "metadata": {
        "id": "ZMLrHBx6srTY"
      },
      "source": [
        "Суть лемматизации заключается в том, чтобы вернуть каждое слово к его изначальной словоформе. Это нужно, чтобы не считать разные формы слова \"уникальными\" при обработке текста."
      ]
    },
    {
      "cell_type": "markdown",
      "metadata": {
        "id": "KjvETnDisrTY"
      },
      "source": [
        "Загрузим морфологический анализатор и скопируем данные из исходного дата-сета:"
      ]
    },
    {
      "cell_type": "code",
      "execution_count": null,
      "metadata": {
        "id": "-bVxPpZqsrTY"
      },
      "outputs": [],
      "source": [
        "morphy = pymorphy2.MorphAnalyzer()\n",
        "df_NLP = data.copy()"
      ]
    },
    {
      "cell_type": "markdown",
      "metadata": {
        "id": "wfRmH5LgsrTY"
      },
      "source": [
        "Создадим паттерн с \"мусорными\" символами в строках ( обнавлялся несколько раз в процессе обработки текста, каждый раз находились новые уникальные значения) и напишем функцию для лемматизации:"
      ]
    },
    {
      "cell_type": "code",
      "execution_count": null,
      "metadata": {
        "id": "mxrKJgtTsrTZ"
      },
      "outputs": [],
      "source": [
        "# функция для лемматизации текста:\n",
        "def lemma(text):\n",
        "    # Паттерн с символами\n",
        "    trash_sym = \"[A-Za-z0-9!#$%&'()*+,./:;<=>?@[\\]^_`{|}~—\\\"\\-–»«•∙·✔➥●☛“”°№₽®]+\"\n",
        "\n",
        "    text = text.lower()  # понижаем регистр\n",
        "    text = re.sub(trash_sym, ' ', text)  # удаляем символы из паттерна\n",
        "    strings = []  # создаем массив, в котором будут храниться лемматизированные строки\n",
        "    for wrd in text.split():  # берем слово из строки\n",
        "        wrd = wrd.strip()  # убираем пробелы до и после слова\n",
        "        wrd = morphy.normal_forms(wrd)[0]  # приводим к нормальной форме\n",
        "        strings.append(wrd)  # добавляем слово в строку массива\n",
        "    return ' '.join(strings)  # вернем значения, разделив пробелами\n"
      ]
    },
    {
      "cell_type": "markdown",
      "metadata": {
        "id": "SnetcbIvsrTZ"
      },
      "source": [
        "Применим функцию к нашему nlp-датасету:"
      ]
    },
    {
      "cell_type": "code",
      "execution_count": null,
      "metadata": {
        "id": "agCCcSY-srTZ"
      },
      "outputs": [],
      "source": [
        "strings_set = []\n",
        "strings_set = df_NLP.apply(\n",
        "    lambda df_NLP: lemma(df_NLP['description']), axis=1)"
      ]
    },
    {
      "cell_type": "markdown",
      "metadata": {
        "id": "kKYng4EfsrTZ"
      },
      "source": [
        "Загрузим список русских стоп-слов:"
      ]
    },
    {
      "cell_type": "code",
      "execution_count": null,
      "metadata": {
        "id": "n1QtiZVfsrTa"
      },
      "outputs": [],
      "source": [
        "russian_stopwords = stopwords.words(\"russian\")"
      ]
    },
    {
      "cell_type": "markdown",
      "metadata": {
        "id": "x0ei0biysrTa"
      },
      "source": [
        "Напишем функцию, которая которая будет проверять наши лемматизированные слова на наличие в списке стоп-слов:"
      ]
    },
    {
      "cell_type": "code",
      "execution_count": null,
      "metadata": {
        "id": "yl2afk1asrTa"
      },
      "outputs": [],
      "source": [
        "# функция для проверки на стоп-слова\n",
        "def lineWithoutStopWords(line):\n",
        "    line = line.split()  # разделяем на слова\n",
        "    # возвращаем слово, если оно не в списке стоп-слов\n",
        "    return [word for word in line if word not in russian_stopwords]\n",
        "\n",
        "\n",
        "# применим функцию к нашим лемматизированым строкам слов\n",
        "data['description'] = [lineWithoutStopWords(line) for line in strings_set]"
      ]
    },
    {
      "cell_type": "code",
      "source": [
        "if is_colab:\n",
        "    path = SAVE_PATH\n",
        "else:\n",
        "    path =  WORK_PATH\n",
        "    \n",
        "data['description'].to_csv(os.path.join(path, 'processed_description.csv'),\n",
        "                               index=False)"
      ],
      "metadata": {
        "id": "OG4_WmNkJGTJ"
      },
      "execution_count": null,
      "outputs": []
    },
    {
      "cell_type": "code",
      "source": [
        "raise KeyboardInterrupt"
      ],
      "metadata": {
        "id": "eoAQzX0lKd6r"
      },
      "execution_count": null,
      "outputs": []
    },
    {
      "cell_type": "markdown",
      "source": [
        "### Split description"
      ],
      "metadata": {
        "id": "c4eFcnp-I_W0"
      }
    },
    {
      "cell_type": "code",
      "source": [
        "data['description'] = pd.read_csv(os.path.join(SAVE_PATH, \n",
        "                                                  'processed_description.csv'))"
      ],
      "metadata": {
        "id": "QLrZqMEVJFZb"
      },
      "execution_count": 28,
      "outputs": []
    },
    {
      "cell_type": "code",
      "execution_count": 29,
      "metadata": {
        "id": "wqJcAk40srTa"
      },
      "outputs": [],
      "source": [
        "text_train = data['description'].iloc[X_train.index]\n",
        "text_test = data['description'].iloc[X_test.index]\n",
        "text_sub = data['description'].iloc[sub.index]"
      ]
    },
    {
      "cell_type": "markdown",
      "metadata": {
        "id": "pX0oekPOsrTb"
      },
      "source": [
        "### Токенизация"
      ]
    },
    {
      "cell_type": "code",
      "execution_count": 30,
      "metadata": {
        "id": "2X6EWQPUsrTb"
      },
      "outputs": [],
      "source": [
        "# The maximum number of words to be used. (most frequent)\n",
        "MAX_WORDS = 100000\n",
        "# Max number of words in each complaint.\n",
        "MAX_SEQUENCE_LENGTH = 256"
      ]
    },
    {
      "cell_type": "markdown",
      "metadata": {
        "id": "LPHcjqdjsrTb"
      },
      "source": [
        "Обучим токенизатор на полученном списке лемматизированых слов:"
      ]
    },
    {
      "cell_type": "code",
      "execution_count": 31,
      "metadata": {
        "id": "46IO-3krsrTc",
        "colab": {
          "base_uri": "https://localhost:8080/"
        },
        "outputId": "5ed52d1b-15b2-4d73-cf70-4baf4d8a4aea"
      },
      "outputs": [
        {
          "output_type": "stream",
          "name": "stdout",
          "text": [
            "CPU times: user 989 ms, sys: 7.42 ms, total: 997 ms\n",
            "Wall time: 1.01 s\n"
          ]
        }
      ],
      "source": [
        "%%time\n",
        "tokenize = Tokenizer(num_words=MAX_WORDS)\n",
        "tokenize.fit_on_texts(data['description'])"
      ]
    },
    {
      "cell_type": "markdown",
      "metadata": {
        "id": "DCYIrV-CsrTc"
      },
      "source": [
        "Проверим результат:"
      ]
    },
    {
      "cell_type": "code",
      "execution_count": 32,
      "metadata": {
        "id": "fllvcetqsrTc",
        "colab": {
          "base_uri": "https://localhost:8080/"
        },
        "outputId": "b42c64ff-05ed-453b-e58b-85d09ec39578"
      },
      "outputs": [
        {
          "output_type": "execute_result",
          "data": {
            "text/plain": [
              "{\"'автомобиль'\": 1,\n",
              " \"'система'\": 2,\n",
              " \"'пробег'\": 3,\n",
              " \"'всё'\": 4,\n",
              " \"'задний'\": 5,\n",
              " \"'салон'\": 6,\n",
              " \"'сидение'\": 7,\n",
              " \"'год'\": 8,\n",
              " \"'состояние'\": 9,\n",
              " \"'передний'\": 10,\n",
              " \"'машина'\": 11,\n",
              " \"'диск'\": 12,\n",
              " \"'комплект'\": 13,\n",
              " \"'дилер'\": 14,\n",
              " \"'новый'\": 15,\n",
              " \"'официальный'\": 16,\n",
              " \"'ваш'\": 17,\n",
              " \"'кредит'\": 18,\n",
              " \"'фара'\": 19,\n",
              " \"'авто'\": 20,\n",
              " \"'гарантия'\": 21,\n",
              " \"'руль'\": 22,\n",
              " \"'пакет'\": 23,\n",
              " \"'колесо'\": 24,\n",
              " \"'безопасность'\": 25,\n",
              " \"'комплектация'\": 26,\n",
              " \"'обмен'\": 27,\n",
              " \"'птс'\": 28,\n",
              " \"'контроль'\": 29,\n",
              " \"'зеркало'\": 30,\n",
              " \"'проверка'\": 31,\n",
              " \"'покупка'\": 32,\n",
              " \"'весь'\": 33,\n",
              " \"'продажа'\": 34,\n",
              " \"'водитель'\": 35,\n",
              " \"'полный'\": 36,\n",
              " \"'шина'\": 37,\n",
              " \"'км'\": 38,\n",
              " \"'датчик'\": 39,\n",
              " \"'отличный'\": 40,\n",
              " \"'пассажир'\": 41,\n",
              " \"'двигатель'\": 42,\n",
              " \"'резина'\": 43,\n",
              " \"'условие'\": 44,\n",
              " \"'владелец'\": 45,\n",
              " \"'ключ'\": 46,\n",
              " \"'хороший'\": 47,\n",
              " \"'кузов'\": 48,\n",
              " \"'подогрев'\": 49,\n",
              " \"'подушка'\": 50,\n",
              " \"'технический'\": 51,\n",
              " \"'любой'\": 52,\n",
              " \"'обслуживание'\": 53,\n",
              " \"'обогрев'\": 54,\n",
              " \"'юридический'\": 55,\n",
              " \"'оригинал'\": 56,\n",
              " \"'стекло'\": 57,\n",
              " \"'торг'\": 58,\n",
              " \"'масло'\": 59,\n",
              " \"'м'\": 60,\n",
              " \"'дверь'\": 61,\n",
              " \"'замена'\": 62,\n",
              " \"'чёрный'\": 63,\n",
              " \"'пройти'\": 64,\n",
              " \"'рулевой'\": 65,\n",
              " \"'оригинальный'\": 66,\n",
              " \"'наш'\": 67,\n",
              " \"'купить'\": 68,\n",
              " \"'климат'\": 69,\n",
              " \"'электропривод'\": 70,\n",
              " \"'кожа'\": 71,\n",
              " \"'сервисный'\": 72,\n",
              " \"'дтп'\": 73,\n",
              " \"'дополнительный'\": 74,\n",
              " \"'рольф'\": 75,\n",
              " \"'это'\": 76,\n",
              " \"'зимний'\": 77,\n",
              " \"'свет'\": 78,\n",
              " \"'проверить'\": 79,\n",
              " \"'каждый'\": 80,\n",
              " \"'автоматический'\": 81,\n",
              " \"'документ'\": 82,\n",
              " \"'функция'\": 83,\n",
              " \"'продавать'\": 84,\n",
              " \"'кожаный'\": 85,\n",
              " \"'центр'\": 86,\n",
              " \"'коробка'\": 87,\n",
              " \"'часть'\": 88,\n",
              " \"'идеальный'\": 89,\n",
              " \"'управление'\": 90,\n",
              " \"'цвет'\": 91,\n",
              " \"'день'\": 92,\n",
              " \"'работать'\": 93,\n",
              " \"'память'\": 94,\n",
              " \"'подготовка'\": 95,\n",
              " \"'программа'\": 96,\n",
              " \"'защита'\": 97,\n",
              " \"'камера'\": 98,\n",
              " \"'полностью'\": 99,\n",
              " \"'чистота'\": 100,\n",
              " \"'вид'\": 101,\n",
              " \"'свой'\": 102,\n",
              " \"'центральный'\": 103,\n",
              " \"'багажник'\": 104,\n",
              " \"'телефон'\": 105,\n",
              " \"'очень'\": 106,\n",
              " \"'спортивный'\": 107,\n",
              " \"'кредитование'\": 108,\n",
              " \"'боковой'\": 109,\n",
              " \"'родный'\": 110,\n",
              " \"'сделать'\": 111,\n",
              " \"'л'\": 112,\n",
              " \"'звонить'\": 113,\n",
              " \"'компания'\": 114,\n",
              " \"'время'\": 115,\n",
              " \"'возможный'\": 116,\n",
              " \"'электрорегулировка'\": 117,\n",
              " \"'заменить'\": 118,\n",
              " \"'отделка'\": 119,\n",
              " \"'история'\": 120,\n",
              " \"'тормозной'\": 121,\n",
              " \"'комплексный'\": 122,\n",
              " \"'наличие'\": 123,\n",
              " \"'г'\": 124,\n",
              " \"'регулировка'\": 125,\n",
              " \"'адаптивный'\": 126,\n",
              " \"'мочь'\": 127,\n",
              " \"'обивка'\": 128,\n",
              " \"'возможность'\": 129,\n",
              " \"'помощь'\": 130,\n",
              " \"'специальный'\": 131,\n",
              " \"'эксплуатация'\": 132,\n",
              " \"'срок'\": 133,\n",
              " \"'потолок'\": 134,\n",
              " \"'летний'\": 135,\n",
              " \"'замок'\": 136,\n",
              " \"'цена'\": 137,\n",
              " \"'крыша'\": 138,\n",
              " \"'круиз'\": 139,\n",
              " \"'активный'\": 140,\n",
              " \"'каско'\": 141,\n",
              " \"'месяц'\": 142,\n",
              " \"'банк'\": 143,\n",
              " \"'ставка'\": 144,\n",
              " \"'код'\": 145,\n",
              " \"'ремонт'\": 146,\n",
              " \"'оформление'\": 147,\n",
              " \"'установить'\": 148,\n",
              " \"'предложение'\": 149,\n",
              " \"'подвеска'\": 150,\n",
              " \"'сигнализация'\": 151,\n",
              " \"'россия'\": 152,\n",
              " \"'парктроника'\": 153,\n",
              " \"'первый'\": 154,\n",
              " \"'бампер'\": 155,\n",
              " \"'час'\": 156,\n",
              " \"'светодиодный'\": 157,\n",
              " \"'комфортный'\": 158,\n",
              " \"'выкуп'\": 159,\n",
              " \"'вопрос'\": 160,\n",
              " \"'ждать'\": 161,\n",
              " \"'фото'\": 162,\n",
              " \"'капот'\": 163,\n",
              " \"'диагностик'\": 164,\n",
              " \"'вложение'\": 165,\n",
              " \"'бортовый'\": 166,\n",
              " \"'требовать'\": 167,\n",
              " \"'большой'\": 168,\n",
              " \"'взнос'\": 169,\n",
              " \"'давление'\": 170,\n",
              " \"'дилерский'\": 171,\n",
              " \"'готовый'\": 172,\n",
              " \"'размер'\": 173,\n",
              " \"'дождь'\": 174,\n",
              " \"'парковка'\": 175,\n",
              " \"'ездить'\": 176,\n",
              " \"'первоначальный'\": 177,\n",
              " \"'оборудование'\": 178,\n",
              " \"'крышка'\": 179,\n",
              " \"'руб'\": 180,\n",
              " \"'второй'\": 181,\n",
              " \"'подарок'\": 182,\n",
              " \"'фильтр'\": 183,\n",
              " \"'скидка'\": 184,\n",
              " \"'сервис'\": 185,\n",
              " \"'шторка'\": 186,\n",
              " \"'москва'\": 187,\n",
              " \"'доступ'\": 188,\n",
              " \"'привод'\": 189,\n",
              " \"'усилитель'\": 190,\n",
              " \"'кредитный'\": 191,\n",
              " \"'осмотр'\": 192,\n",
              " \"'обслуживаться'\": 193,\n",
              " \"'зонный'\": 194,\n",
              " \"'выгодный'\": 195,\n",
              " \"'мобильный'\": 196,\n",
              " \"'сайт'\": 197,\n",
              " \"'приложение'\": 198,\n",
              " \"'книжка'\": 199,\n",
              " \"'услуга'\": 200,\n",
              " \"'р'\": 201,\n",
              " \"'далее'\": 202,\n",
              " \"'диагностика'\": 203,\n",
              " \"'уникальный'\": 204,\n",
              " \"'выгода'\": 205,\n",
              " \"'старт'\": 206,\n",
              " \"'положение'\": 207,\n",
              " \"'коврик'\": 208,\n",
              " \"'предпродажный'\": 209,\n",
              " \"'беспокоить'\": 210,\n",
              " \"'данный'\": 211,\n",
              " \"'лобовой'\": 212,\n",
              " \"'компьютер'\": 213,\n",
              " \"'внешний'\": 214,\n",
              " \"'лето'\": 215,\n",
              " \"'вентиляция'\": 216,\n",
              " \"'клиент'\": 217,\n",
              " \"'номер'\": 218,\n",
              " \"'легкосплавной'\": 219,\n",
              " \"'тыс'\": 220,\n",
              " \"'собственник'\": 221,\n",
              " \"'люк'\": 222,\n",
              " \"'поменять'\": 223,\n",
              " \"'предлагать'\": 224,\n",
              " \"'продать'\": 225,\n",
              " \"'автосалон'\": 226,\n",
              " \"'колодка'\": 227,\n",
              " \"'страна'\": 228,\n",
              " \"'зима'\": 229,\n",
              " \"'продаваться'\": 230,\n",
              " \"'также'\": 231,\n",
              " \"'самый'\": 232,\n",
              " \"'который'\": 233,\n",
              " \"'навигация'\": 234,\n",
              " \"'реальный'\": 235,\n",
              " \"'никакой'\": 236,\n",
              " \"'аварийный'\": 237,\n",
              " \"'обслужить'\": 238,\n",
              " \"'просьба'\": 239,\n",
              " \"'акпп'\": 240,\n",
              " \"'момент'\": 241,\n",
              " \"'дальний'\": 242,\n",
              " \"'находиться'\": 243,\n",
              " \"'антиблокировочный'\": 244,\n",
              " \"'своевременный'\": 245,\n",
              " \"'автокредит'\": 246,\n",
              " \"'передача'\": 247,\n",
              " \"'участвовать'\": 248,\n",
              " \"'последний'\": 249,\n",
              " \"'ауди'\": 250,\n",
              " \"'выпуск'\": 251,\n",
              " \"'провести'\": 252,\n",
              " \"'русский'\": 253,\n",
              " \"'криминалистический'\": 254,\n",
              " \"'устойчивость'\": 255,\n",
              " \"'литой'\": 256,\n",
              " \"'противотуманный'\": 257,\n",
              " \"'мотор'\": 258,\n",
              " \"'плёнка'\": 259,\n",
              " \"'экстренный'\": 260,\n",
              " \"'кнопка'\": 261,\n",
              " \"'место'\": 262,\n",
              " \"'сертифицированный'\": 263,\n",
              " \"'элемент'\": 264,\n",
              " \"'исполнение'\": 265,\n",
              " \"'проходить'\": 266,\n",
              " \"'дисплей'\": 267,\n",
              " \"'информация'\": 268,\n",
              " \"'подлокотник'\": 269,\n",
              " \"'запуск'\": 270,\n",
              " \"'электростеклоподъёмник'\": 271,\n",
              " \"'назад'\": 272,\n",
              " \"'заводский'\": 273,\n",
              " \"'иммобилайзер'\": 274,\n",
              " \"'знак'\": 275,\n",
              " \"'крепление'\": 276,\n",
              " \"'омыватель'\": 277,\n",
              " \"'курсовой'\": 278,\n",
              " \"'рф'\": 279,\n",
              " \"'страхование'\": 280,\n",
              " \"'освещение'\": 281,\n",
              " \"'ремень'\": 282,\n",
              " \"'мерседес'\": 283,\n",
              " \"'представить'\": 284,\n",
              " \"'ходовой'\": 285,\n",
              " \"'курить'\": 286,\n",
              " \"'третий'\": 287,\n",
              " \"'х'\": 288,\n",
              " \"'хозяин'\": 289,\n",
              " \"'небольшой'\": 290,\n",
              " \"'связь'\": 291,\n",
              " \"'панорамный'\": 292,\n",
              " \"'порог'\": 293,\n",
              " \"'стоить'\": 294,\n",
              " \"'причина'\": 295,\n",
              " \"'рука'\": 296,\n",
              " \"'панель'\": 297,\n",
              " \"'выбор'\": 298,\n",
              " \"'краска'\": 299,\n",
              " \"'обзор'\": 300,\n",
              " \"'детский'\": 301,\n",
              " \"'перекуп'\": 302,\n",
              " \"'навигационный'\": 303,\n",
              " \"'декоративный'\": 304,\n",
              " \"'интересовать'\": 305,\n",
              " \"'работа'\": 306,\n",
              " \"'кузовной'\": 307,\n",
              " \"'комфорт'\": 308,\n",
              " \"'приобрести'\": 309,\n",
              " \"'одобрение'\": 310,\n",
              " \"'течение'\": 311,\n",
              " \"'максимальный'\": 312,\n",
              " \"'музыка'\": 313,\n",
              " \"'ряд'\": 314,\n",
              " \"'накладка'\": 315,\n",
              " \"'подсветка'\": 316,\n",
              " \"'мультифункциональный'\": 317,\n",
              " \"'стоп'\": 318,\n",
              " \"'трейд'\": 319,\n",
              " \"'менять'\": 320,\n",
              " \"'чистый'\": 321,\n",
              " \"'крупный'\": 322,\n",
              " \"'ход'\": 323,\n",
              " \"'факт'\": 324,\n",
              " \"'уходить'\": 325,\n",
              " \"'партнёр'\": 326,\n",
              " \"'предоставлять'\": 327,\n",
              " \"'деталь'\": 328,\n",
              " \"'подробный'\": 329,\n",
              " \"'преимущество'\": 330,\n",
              " \"'тысяча'\": 331,\n",
              " \"'поставить'\": 332,\n",
              " \"'поддержка'\": 333,\n",
              " \"'внимание'\": 334,\n",
              " \"'нарекание'\": 335,\n",
              " \"'доводчик'\": 336,\n",
              " \"'движение'\": 337,\n",
              " \"'покрытие'\": 338,\n",
              " \"'тёмный'\": 339,\n",
              " \"'специалист'\": 340,\n",
              " \"'крыло'\": 341,\n",
              " \"'драйв'\": 342,\n",
              " \"'рычаг'\": 343,\n",
              " \"'семья'\": 344,\n",
              " \"'покупать'\": 345,\n",
              " \"'минимальный'\": 346,\n",
              " \"'противоугонный'\": 347,\n",
              " \"'окрас'\": 348,\n",
              " \"'сторона'\": 349,\n",
              " \"'левый'\": 350,\n",
              " \"'торможение'\": 351,\n",
              " \"'рубль'\": 352,\n",
              " \"'складываться'\": 353,\n",
              " \"'марка'\": 354,\n",
              " \"'царапина'\": 355,\n",
              " \"'мультимедиа'\": 356,\n",
              " \"'колёсный'\": 357,\n",
              " \"'отдать'\": 358,\n",
              " \"'приобретение'\": 359,\n",
              " \"'ещё'\": 360,\n",
              " \"'деньга'\": 361,\n",
              " \"'гарантировать'\": 362,\n",
              " \"'проблема'\": 363,\n",
              " \"'тормоз'\": 364,\n",
              " \"'ограничение'\": 365,\n",
              " \"'являться'\": 366,\n",
              " \"'выходной'\": 367,\n",
              " \"'зона'\": 368,\n",
              " \"'платёж'\": 369,\n",
              " \"'конец'\": 370,\n",
              " \"'европа'\": 371,\n",
              " \"'доплата'\": 372,\n",
              " \"'кондиционер'\": 373,\n",
              " \"'подголовник'\": 374,\n",
              " \"'антипробуксовочный'\": 375,\n",
              " \"'ассистент'\": 376,\n",
              " \"'режим'\": 377,\n",
              " \"'прибор'\": 378,\n",
              " \"'расширить'\": 379,\n",
              " \"'хранение'\": 380,\n",
              " \"'заказ'\": 381,\n",
              " \"'смотреть'\": 382,\n",
              " \"'тест'\": 383,\n",
              " \"'индивидуальный'\": 384,\n",
              " \"'покупатель'\": 385,\n",
              " \"'срочный'\": 386,\n",
              " \"'делать'\": 387,\n",
              " \"'кпп'\": 388,\n",
              " \"'остановка'\": 389,\n",
              " \"'оконный'\": 390,\n",
              " \"'качество'\": 391,\n",
              " \"'затемнение'\": 392,\n",
              " \"'получать'\": 393,\n",
              " \"'″'\": 394,\n",
              " \"'бесплатный'\": 395,\n",
              " \"'парковочный'\": 396,\n",
              " \"'увеличить'\": 397,\n",
              " \"'стиль'\": 398,\n",
              " \"'спица'\": 399,\n",
              " \"'объём'\": 400,\n",
              " \"'☑️'\": 401,\n",
              " \"'автокресло'\": 402,\n",
              " \"'богатый'\": 403,\n",
              " \"'радиатор'\": 404,\n",
              " \"'надёжный'\": 405,\n",
              " \"'площадка'\": 406,\n",
              " \"'город'\": 407,\n",
              " \"'стоимость'\": 408,\n",
              " \"'внутренний'\": 409,\n",
              " \"'сделка'\": 410,\n",
              " \"'дорога'\": 411,\n",
              " \"'сзади'\": 412,\n",
              " \"'меняться'\": 413,\n",
              " \"'расход'\": 414,\n",
              " \"'бенц'\": 415,\n",
              " \"'розетка'\": 416,\n",
              " \"'осаго'\": 417,\n",
              " \"'жидкость'\": 418,\n",
              " \"'остальной'\": 419,\n",
              " \"'недостаток'\": 420,\n",
              " \"'правый'\": 421,\n",
              " \"'регламент'\": 422,\n",
              " \"'иметься'\": 423,\n",
              " \"'цепь'\": 424,\n",
              " \"'скол'\": 425,\n",
              " \"'обвес'\": 426,\n",
              " \"'ткань'\": 427,\n",
              " \"'картер'\": 428,\n",
              " \"'автодом'\": 429,\n",
              " \"'форсунка'\": 430,\n",
              " \"'электро'\": 431,\n",
              " \"'группа'\": 432,\n",
              " \"'перекупщик'\": 433,\n",
              " \"'запасный'\": 434,\n",
              " \"'тип'\": 435,\n",
              " \"'счёт'\": 436,\n",
              " \"'дорожный'\": 437,\n",
              " \"'ин'\": 438,\n",
              " \"'класс'\": 439,\n",
              " \"'крашеный'\": 440,\n",
              " \"'настоящий'\": 441,\n",
              " \"'бережный'\": 442,\n",
              " \"'холодный'\": 443,\n",
              " \"'опция'\": 444,\n",
              " \"'ежедневно'\": 445,\n",
              " \"'учёт'\": 446,\n",
              " \"'штатный'\": 447,\n",
              " \"'сумма'\": 448,\n",
              " \"'аптечка'\": 449,\n",
              " \"'дистанционный'\": 450,\n",
              " \"'красить'\": 451,\n",
              " \"'ксеноновый'\": 452,\n",
              " \"'аудиосистема'\": 453,\n",
              " \"'процентный'\": 454,\n",
              " \"'лицо'\": 455,\n",
              " \"'бмв'\": 456,\n",
              " \"'блокировка'\": 457,\n",
              " \"'вызов'\": 458,\n",
              " \"'гора'\": 459,\n",
              " \"'плоскость'\": 460,\n",
              " \"'покупаться'\": 461,\n",
              " \"'получить'\": 462,\n",
              " \"'сбор'\": 463,\n",
              " \"'круг'\": 464,\n",
              " \"'комиссионный'\": 465,\n",
              " \"'паркинг'\": 466,\n",
              " \"'тонировать'\": 467,\n",
              " \"'багажный'\": 468,\n",
              " \"'ао'\": 469,\n",
              " \"'дом'\": 470,\n",
              " \"'регистрация'\": 471,\n",
              " \"'парк'\": 472,\n",
              " \"'металлик'\": 473,\n",
              " \"'версия'\": 474,\n",
              " \"'широкий'\": 475,\n",
              " \"'технически'\": 476,\n",
              " \"'электрический'\": 477,\n",
              " \"'север'\": 478,\n",
              " \"'пепельница'\": 479,\n",
              " \"'оплата'\": 480,\n",
              " \"'отсутствовать'\": 481,\n",
              " \"'полис'\": 482,\n",
              " \"'спорт'\": 483,\n",
              " \"'кондиционирование'\": 484,\n",
              " \"'солнцезащитный'\": 485,\n",
              " \"'й'\": 486,\n",
              " \"'ответить'\": 487,\n",
              " \"'пасс'\": 488,\n",
              " \"'снизить'\": 489,\n",
              " \"'стеклоомыватель'\": 490,\n",
              " \"'соответствие'\": 491,\n",
              " \"'наличный'\": 492,\n",
              " \"'лизинг'\": 493,\n",
              " \"'доп'\": 494,\n",
              " \"'спереди'\": 495,\n",
              " \"'б'\": 496,\n",
              " \"'огонь'\": 497,\n",
              " \"'германия'\": 498,\n",
              " \"'электронный'\": 499,\n",
              " \"'нужный'\": 500,\n",
              " \"'наряд'\": 501,\n",
              " \"'распознавание'\": 502,\n",
              " \"'либо'\": 503,\n",
              " \"'обязательный'\": 504,\n",
              " \"'поехать'\": 505,\n",
              " \"'угон'\": 506,\n",
              " \"'алькантар'\": 507,\n",
              " \"'проекция'\": 508,\n",
              " \"'параметр'\": 509,\n",
              " \"'смартфон'\": 510,\n",
              " \"'установка'\": 511,\n",
              " \"'запись'\": 512,\n",
              " \"'водительский'\": 513,\n",
              " \"'защитный'\": 514,\n",
              " \"'топливный'\": 515,\n",
              " \"'свеча'\": 516,\n",
              " \"'высокий'\": 517,\n",
              " \"'чек'\": 518,\n",
              " \"'писать'\": 519,\n",
              " \"'корректор'\": 520,\n",
              " \"'идеал'\": 521,\n",
              " \"'ти'\": 522,\n",
              " \"'наружное'\": 523,\n",
              " \"'особый'\": 524,\n",
              " \"'выявить'\": 525,\n",
              " \"'владеть'\": 526,\n",
              " \"'сборка'\": 527,\n",
              " \"'экстерьер'\": 528,\n",
              " \"'дополнительно'\": 529,\n",
              " \"'приезжать'\": 530,\n",
              " \"'финансовый'\": 531,\n",
              " \"'непрокурить'\": 532,\n",
              " \"'эксплуатироваться'\": 533,\n",
              " \"'антрацит'\": 534,\n",
              " \"'менеджер'\": 535,\n",
              " \"'оценка'\": 536,\n",
              " \"'аудиоподготовка'\": 537,\n",
              " \"'штраф'\": 538,\n",
              " \"'показать'\": 539,\n",
              " \"'включая'\": 540,\n",
              " \"'продавец'\": 541,\n",
              " \"'сезон'\": 542,\n",
              " \"'язык'\": 543,\n",
              " \"'произвести'\": 544,\n",
              " \"'включение'\": 545,\n",
              " \"'керамика'\": 546,\n",
              " \"'комиссия'\": 547,\n",
              " \"'эл'\": 548,\n",
              " \"'снижение'\": 549,\n",
              " \"'посмотреть'\": 550,\n",
              " \"'аккумулятор'\": 551,\n",
              " \"'отделение'\": 552,\n",
              " \"'литр'\": 553,\n",
              " \"'обеспечивать'\": 554,\n",
              " \"'монитор'\": 555,\n",
              " \"'прикуриватель'\": 556,\n",
              " \"'вставка'\": 557,\n",
              " \"'аэродинамический'\": 558,\n",
              " \"'скорость'\": 559,\n",
              " \"'рассказать'\": 560,\n",
              " \"'позвонить'\": 561,\n",
              " \"'обременение'\": 562,\n",
              " \"'ежемесячный'\": 563,\n",
              " \"'узнать'\": 564,\n",
              " \"'дерево'\": 565,\n",
              " \"'расчёт'\": 566,\n",
              " \"'курящий'\": 567,\n",
              " \"'серия'\": 568,\n",
              " \"'зарядка'\": 569,\n",
              " \"'выхлоп'\": 570,\n",
              " \"'колонка'\": 571,\n",
              " \"'вариант'\": 572,\n",
              " \"'предложить'\": 573,\n",
              " \"'единственный'\": 574,\n",
              " \"'действовать'\": 575,\n",
              " \"'станция'\": 576,\n",
              " \"'стоять'\": 577,\n",
              " \"'панавто'\": 578,\n",
              " \"'абсолютно'\": 579,\n",
              " \"'поясничный'\": 580,\n",
              " \"'внутро'\": 581,\n",
              " \"'интеграция'\": 582,\n",
              " \"'✅'\": 583,\n",
              " \"'красивый'\": 584,\n",
              " \"'устройство'\": 585,\n",
              " \"'переключение'\": 586,\n",
              " \"'пневмоподвеска'\": 587,\n",
              " \"'многое'\": 588,\n",
              " \"'свидетельство'\": 589,\n",
              " \"'безналичный'\": 590,\n",
              " \"'сертификат'\": 591,\n",
              " \"'прозрачность'\": 592,\n",
              " \"'остекление'\": 593,\n",
              " \"'сесть'\": 594,\n",
              " \"'беспроводный'\": 595,\n",
              " \"'бензин'\": 596,\n",
              " \"'зад'\": 597,\n",
              " \"'тщательный'\": 598,\n",
              " \"'фонарь'\": 599,\n",
              " \"'суммироваться'\": 600,\n",
              " \"'налог'\": 601,\n",
              " \"'получение'\": 602,\n",
              " \"'уточнять'\": 603,\n",
              " \"'недавно'\": 604,\n",
              " \"'девушка'\": 605,\n",
              " \"'ооо'\": 606,\n",
              " \"'просить'\": 607,\n",
              " \"'гк'\": 608,\n",
              " \"'спидометр'\": 609,\n",
              " \"'законодательство'\": 610,\n",
              " \"'поэтому'\": 611,\n",
              " \"'тепло'\": 612,\n",
              " \"'владение'\": 613,\n",
              " \"'больший'\": 614,\n",
              " \"'успешно'\": 615,\n",
              " \"'коммерческий'\": 616,\n",
              " \"'трасса'\": 617,\n",
              " \"'видео'\": 618,\n",
              " \"'массаж'\": 619,\n",
              " \"'авария'\": 620,\n",
              " \"'поездка'\": 621,\n",
              " \"'легковой'\": 622,\n",
              " \"'движ'\": 623,\n",
              " \"'языковой'\": 624,\n",
              " \"'исправный'\": 625,\n",
              " \"'покрыть'\": 626,\n",
              " \"'аукцион'\": 627,\n",
              " \"'премиум'\": 628,\n",
              " \"'воспользоваться'\": 629,\n",
              " \"'норма'\": 630,\n",
              " \"'бесключевой'\": 631,\n",
              " \"'спецпредложение'\": 632,\n",
              " \"'систый'\": 633,\n",
              " \"'перерасчёт'\": 634,\n",
              " \"'исключать'\": 635,\n",
              " \"'нужно'\": 636,\n",
              " \"'лист'\": 637,\n",
              " \"'видно'\": 638,\n",
              " \"'паспорт'\": 639,\n",
              " \"'звезда'\": 640,\n",
              " \"'многофункциональный'\": 641,\n",
              " \"'решётка'\": 642,\n",
              " \"'битый'\": 643,\n",
              " \"'официально'\": 644,\n",
              " \"'использоваться'\": 645,\n",
              " \"'немецкий'\": 646,\n",
              " \"'белый'\": 647,\n",
              " \"'проникновение'\": 648,\n",
              " \"'двойной'\": 649,\n",
              " \"'опора'\": 650,\n",
              " \"'мелкий'\": 651,\n",
              " \"'декабрь'\": 652,\n",
              " \"'лепесток'\": 653,\n",
              " \"'пункт'\": 654,\n",
              " \"'динамик'\": 655,\n",
              " \"'автодоводчик'\": 656,\n",
              " \"'п'\": 657,\n",
              " \"'переключатель'\": 658,\n",
              " \"'подрулевой'\": 659,\n",
              " \"'заключение'\": 660,\n",
              " \"'зимой'\": 661,\n",
              " \"'документация'\": 662,\n",
              " \"'светлый'\": 663,\n",
              " \"'гараж'\": 664,\n",
              " \"'тд'\": 665,\n",
              " \"'стойка'\": 666,\n",
              " \"'разноширокий'\": 667,\n",
              " \"'предоставление'\": 668,\n",
              " \"'ассортимент'\": 669,\n",
              " \"'запчасть'\": 670,\n",
              " \"'смочь'\": 671,\n",
              " \"'стать'\": 672,\n",
              " \"'двс'\": 673,\n",
              " \"'выбрать'\": 674,\n",
              " \"'модель'\": 675,\n",
              " \"'полоса'\": 676,\n",
              " \"'подробность'\": 677,\n",
              " \"'рынок'\": 678,\n",
              " \"'комбинированный'\": 679,\n",
              " \"'дизайн'\": 680,\n",
              " \"'живой'\": 681,\n",
              " \"'завод'\": 682,\n",
              " \"'международный'\": 683,\n",
              " \"'погашение'\": 684,\n",
              " \"'оформить'\": 685,\n",
              " \"'индикация'\": 686,\n",
              " \"'иметь'\": 687,\n",
              " \"'рейлинга'\": 688,\n",
              " \"'входящий'\": 689,\n",
              " \"'комбинация'\": 690,\n",
              " \"'обогра'\": 691,\n",
              " \"'бак'\": 692,\n",
              " \"'выходить'\": 693,\n",
              " \"'наименование'\": 694,\n",
              " \"'критический'\": 695,\n",
              " \"'принимать'\": 696,\n",
              " \"'сиден'\": 697,\n",
              " \"'мб'\": 698,\n",
              " \"'эксклюзивный'\": 699,\n",
              " \"'гипермаркет'\": 700,\n",
              " \"'касса'\": 701,\n",
              " \"'спойлер'\": 702,\n",
              " \"'дневный'\": 703,\n",
              " \"'карбон'\": 704,\n",
              " \"'оф'\": 705,\n",
              " \"'независимо'\": 706,\n",
              " \"'спинка'\": 707,\n",
              " \"'адрес'\": 708,\n",
              " \"'тюнинг'\": 709,\n",
              " \"'сразу'\": 710,\n",
              " \"'серый'\": 711,\n",
              " \"'\": 712,\n",
              " \"'ручка'\": 713,\n",
              " \"'мощность'\": 714,\n",
              " \"'модельный'\": 715,\n",
              " \"'практически'\": 716,\n",
              " \"'постгарантийный'\": 717,\n",
              " \"'дизель'\": 718,\n",
              " \"'гаражный'\": 719,\n",
              " \"'кроме'\": 720,\n",
              " \"'лакокрасочный'\": 721,\n",
              " \"'видеть'\": 722,\n",
              " \"'акустический'\": 723,\n",
              " \"'залог'\": 724,\n",
              " \"'состав'\": 725,\n",
              " \"'коричневый'\": 726,\n",
              " \"'уместный'\": 727,\n",
              " \"'база'\": 728,\n",
              " \"'рестайлинга'\": 729,\n",
              " \"'выхлопной'\": 730,\n",
              " \"'хотеть'\": 731,\n",
              " \"'ознакомиться'\": 732,\n",
              " \"'карта'\": 733,\n",
              " \"'столкновение'\": 734,\n",
              " \"'число'\": 735,\n",
              " \"'подтвердить'\": 736,\n",
              " \"'блок'\": 737,\n",
              " \"'руководство'\": 738,\n",
              " \"'радио'\": 739,\n",
              " \"'отлично'\": 740,\n",
              " \"'тонировка'\": 741,\n",
              " \"'воздух'\": 742,\n",
              " \"'повреждение'\": 743,\n",
              " \"'строго'\": 744,\n",
              " \"'сколоть'\": 745,\n",
              " \"'приобретаться'\": 746,\n",
              " \"'ог'\": 747,\n",
              " \"'юридически'\": 748,\n",
              " \"'сдвижной'\": 749,\n",
              " \"'редуктор'\": 750,\n",
              " \"'пд'\": 751,\n",
              " \"'подтверждать'\": 752,\n",
              " \"'маленький'\": 753,\n",
              " \"'вложить'\": 754,\n",
              " \"'авар'\": 755,\n",
              " \"'разумный'\": 756,\n",
              " \"'приглашать'\": 757,\n",
              " \"'мкад'\": 758,\n",
              " \"'видеокамера'\": 759,\n",
              " \"'резиновый'\": 760,\n",
              " \"'подобрать'\": 761,\n",
              " \"'регулировать'\": 762,\n",
              " \"'краситься'\": 763,\n",
              " \"'плюс'\": 764,\n",
              " \"'возможно'\": 765,\n",
              " \"'головной'\": 766,\n",
              " \"'март'\": 767,\n",
              " \"'ошибка'\": 768,\n",
              " \"'производитель'\": 769,\n",
              " \"'выездной'\": 770,\n",
              " \"'просто'\": 771,\n",
              " \"'стеклоподъёмник'\": 772,\n",
              " \"'пара'\": 773,\n",
              " \"'сдать'\": 774,\n",
              " \"'индикатор'\": 775,\n",
              " \"'добрый'\": 776,\n",
              " \"'гибдд'\": 777,\n",
              " \"'просмотр'\": 778,\n",
              " \"'выдача'\": 779,\n",
              " \"'дорогой'\": 780,\n",
              " \"'столица'\": 781,\n",
              " \"'оптика'\": 782,\n",
              " \"'прокурить'\": 783,\n",
              " \"'дефект'\": 784,\n",
              " \"'блеск'\": 785,\n",
              " \"'прекрасный'\": 786,\n",
              " \"'онлайн'\": 787,\n",
              " \"'рассмотреть'\": 788,\n",
              " \"'специализировать'\": 789,\n",
              " \"'мультимедийный'\": 790,\n",
              " \"'около'\": 791,\n",
              " \"'допускать'\": 792,\n",
              " \"'человек'\": 793,\n",
              " \"'нуждаться'\": 794,\n",
              " \"'достойный'\": 795,\n",
              " \"'варшавка'\": 796,\n",
              " \"'арка'\": 797,\n",
              " \"'звучание'\": 798,\n",
              " \"'ссылка'\": 799,\n",
              " \"'ветровый'\": 800,\n",
              " \"'мост'\": 801,\n",
              " \"'притертость'\": 802,\n",
              " \"'модуль'\": 803,\n",
              " \"'поворот'\": 804,\n",
              " \"'редкий'\": 805,\n",
              " \"'вода'\": 806,\n",
              " \"'досрочный'\": 807,\n",
              " \"'следующий'\": 808,\n",
              " \"'круговой'\": 809,\n",
              " \"'минута'\": 810,\n",
              " \"'право'\": 811,\n",
              " \"'нажать'\": 812,\n",
              " \"'контактный'\": 813,\n",
              " \"'седан'\": 814,\n",
              " \"'грм'\": 815,\n",
              " \"'турбина'\": 816,\n",
              " \"'интерьер'\": 817,\n",
              " \"'зеркальный'\": 818,\n",
              " \"'русый'\": 819,\n",
              " \"'вовремя'\": 820,\n",
              " \"'спешить'\": 821,\n",
              " \"'прочее'\": 822,\n",
              " \"'приборный'\": 823,\n",
              " \"'крытый'\": 824,\n",
              " \"'сила'\": 825,\n",
              " \"'климатический'\": 826,\n",
              " \"'порядок'\": 827,\n",
              " \"'автомат'\": 828,\n",
              " \"'отметка'\": 829,\n",
              " \"'пуск'\": 830,\n",
              " \"'зд'\": 831,\n",
              " \"'лкп'\": 832,\n",
              " \"'тратить'\": 833,\n",
              " \"'велюровый'\": 834,\n",
              " \"'результат'\": 835,\n",
              " \"'исключительно'\": 836,\n",
              " \"'ехать'\": 837,\n",
              " \"'болт'\": 838,\n",
              " \"'расходник'\": 839,\n",
              " \"'пневма'\": 840,\n",
              " \"'вообще'\": 841,\n",
              " \"'планка'\": 842,\n",
              " \"'своевременно'\": 843,\n",
              " \"'рег'\": 844,\n",
              " \"'внуково'\": 845,\n",
              " \"'незначительный'\": 846,\n",
              " \"'серьёзный'\": 847,\n",
              " \"'стеклянный'\": 848,\n",
              " \"'помощник'\": 849,\n",
              " \"'повышенный'\": 850,\n",
              " \"'бренд'\": 851,\n",
              " \"'честный'\": 852,\n",
              " \"'прозрачный'\": 853,\n",
              " \"'жалеть'\": 854,\n",
              " \"'соответствовать'\": 855,\n",
              " \"'таможня'\": 856,\n",
              " \"'рамка'\": 857,\n",
              " \"'недочёт'\": 858,\n",
              " \"'динамический'\": 859,\n",
              " \"'обслуживать'\": 860,\n",
              " \"'памавто'\": 861,\n",
              " \"'предыдущий'\": 862,\n",
              " \"'повыш'\": 863,\n",
              " \"'аудио'\": 864,\n",
              " \"'официал'\": 865,\n",
              " \"'апрель'\": 866,\n",
              " \"'прокладка'\": 867,\n",
              " \"'фактически'\": 868,\n",
              " \"'сблизить'\": 869,\n",
              " \"'стыдно'\": 870,\n",
              " \"'случай'\": 871,\n",
              " \"'автоматич'\": 872,\n",
              " \"'подземный'\": 873,\n",
              " \"'биксеноновый'\": 874,\n",
              " \"'страховой'\": 875,\n",
              " \"'быстро'\": 876,\n",
              " \"'представлять'\": 877,\n",
              " \"'ножной'\": 878,\n",
              " \"'несколько'\": 879,\n",
              " \"'комплекс'\": 880,\n",
              " \"'перебрать'\": 881,\n",
              " \"'объёмный'\": 882,\n",
              " \"'рейка'\": 883,\n",
              " \"'знать'\": 884,\n",
              " \"'объявление'\": 885,\n",
              " \"'ч'\": 886,\n",
              " \"'жена'\": 887,\n",
              " \"'регион'\": 888,\n",
              " \"'протяжение'\": 889,\n",
              " \"'пробка'\": 890,\n",
              " \"'зорг'\": 891,\n",
              " \"'правильный'\": 892,\n",
              " \"'слева'\": 893,\n",
              " \"'потёртость'\": 894,\n",
              " \"'май'\": 895,\n",
              " \"'зерк'\": 896,\n",
              " \"'цветной'\": 897,\n",
              " \"'убедиться'\": 898,\n",
              " \"'растаможня'\": 899,\n",
              " \"'форма'\": 900,\n",
              " \"'авилон'\": 901,\n",
              " \"'косяк'\": 902,\n",
              " \"'госномер'\": 903,\n",
              " \"'оба'\": 904,\n",
              " \"'следить'\": 905,\n",
              " \"'август'\": 906,\n",
              " \"'динамика'\": 907,\n",
              " \"'панорама'\": 908,\n",
              " \"'звук'\": 909,\n",
              " \"'амортизатор'\": 910,\n",
              " \"'комфортность'\": 911,\n",
              " \"'ребёнок'\": 912,\n",
              " \"'проекционный'\": 913,\n",
              " \"'начало'\": 914,\n",
              " \"'покрасить'\": 915,\n",
              " \"'подробно'\": 916,\n",
              " \"'рабочий'\": 917,\n",
              " \"'приветствоваться'\": 918,\n",
              " \"'перерыв'\": 919,\n",
              " \"'управлять'\": 920,\n",
              " \"'обсидиан'\": 921,\n",
              " \"'срочно'\": 922,\n",
              " \"'прочий'\": 923,\n",
              " \"'возраст'\": 924,\n",
              " \"'синий'\": 925,\n",
              " \"'необходимость'\": 926,\n",
              " \"'функца'\": 927,\n",
              " \"'отношение'\": 928,\n",
              " \"'многий'\": 929,\n",
              " \"'голосовой'\": 930,\n",
              " \"'тканевый'\": 931,\n",
              " \"'устранить'\": 932,\n",
              " \"'гидро'\": 933,\n",
              " \"'охлаждение'\": 934,\n",
              " \"'оплатить'\": 935,\n",
              " \"'стайлинга'\": 936,\n",
              " \"'метро'\": 937,\n",
              " \"'справа'\": 938,\n",
              " \"'лак'\": 939,\n",
              " \"'телефония'\": 940,\n",
              " \"'облегчение'\": 941,\n",
              " \"'зависеть'\": 942,\n",
              " \"'интересный'\": 943,\n",
              " \"'использование'\": 944,\n",
              " \"'храниться'\": 945,\n",
              " \"'выгодно'\": 946,\n",
              " \"'дать'\": 947,\n",
              " \"'н'\": 948,\n",
              " \"'сигнал'\": 949,\n",
              " \"'экспортный'\": 950,\n",
              " \"'ролик'\": 951,\n",
              " \"'требоваться'\": 952,\n",
              " \"'российский'\": 953,\n",
              " \"'ясеневый'\": 954,\n",
              " \"'юр'\": 955,\n",
              " \"'филиал'\": 956,\n",
              " \"'окрасить'\": 957,\n",
              " \"'максимально'\": 958,\n",
              " \"'близкий'\": 959,\n",
              " \"'общий'\": 960,\n",
              " \"'трещина'\": 961,\n",
              " \"'удобный'\": 962,\n",
              " \"'евро'\": 963,\n",
              " \"'проигрыватель'\": 964,\n",
              " \"'педаль'\": 965,\n",
              " \"'нпб'\": 966,\n",
              " \"'сопровождать'\": 967,\n",
              " \"'обязательно'\": 968,\n",
              " \"'вмятина'\": 969,\n",
              " \"'делаться'\": 970,\n",
              " \"'чейнджер'\": 971,\n",
              " \"'сток'\": 972,\n",
              " \"'ампер'\": 973,\n",
              " \"'ясень'\": 974,\n",
              " \"'честно'\": 975,\n",
              " \"'годовой'\": 976,\n",
              " \"'мимо'\": 977,\n",
              " \"'среди'\": 978,\n",
              " \"'автоспеццентр'\": 979,\n",
              " \"'ставить'\": 980,\n",
              " \"'модификация'\": 981,\n",
              " \"'экран'\": 982,\n",
              " \"'заявка'\": 983,\n",
              " \"'молдинга'\": 984,\n",
              " \"'экономичный'\": 985,\n",
              " \"'сенсорный'\": 986,\n",
              " \"'идеально'\": 987,\n",
              " \"'запоминание'\": 988,\n",
              " \"'сабвуфер'\": 989,\n",
              " \"'указать'\": 990,\n",
              " \"'красный'\": 991,\n",
              " \"'диз'\": 992,\n",
              " \"'топливо'\": 993,\n",
              " \"'спутниковый'\": 994,\n",
              " \"'личный'\": 995,\n",
              " \"'вкл'\": 996,\n",
              " \"'именно'\": 997,\n",
              " \"'ксенон'\": 998,\n",
              " \"'брать'\": 999,\n",
              " \"'нары'\": 1000,\n",
              " ...}"
            ]
          },
          "metadata": {},
          "execution_count": 32
        }
      ],
      "source": [
        "tokenize.word_index"
      ]
    },
    {
      "cell_type": "markdown",
      "metadata": {
        "id": "LV0_UActsrTc"
      },
      "source": [
        "Используем полученный список слов для векторизации текста из наших выборок:"
      ]
    },
    {
      "cell_type": "code",
      "execution_count": 33,
      "metadata": {
        "id": "qGHSviW8srTc",
        "colab": {
          "base_uri": "https://localhost:8080/"
        },
        "outputId": "f642786d-17f7-4a13-d48c-070975064a52"
      },
      "outputs": [
        {
          "output_type": "stream",
          "name": "stdout",
          "text": [
            "(5011, 256) (1671, 256) (1671, 256)\n",
            "CPU times: user 894 ms, sys: 5.62 ms, total: 900 ms\n",
            "Wall time: 901 ms\n"
          ]
        }
      ],
      "source": [
        "%%time\n",
        "text_train_sequences = sequence.pad_sequences(\n",
        "    tokenize.texts_to_sequences(text_train), maxlen=MAX_SEQUENCE_LENGTH)\n",
        "text_test_sequences = sequence.pad_sequences(\n",
        "    tokenize.texts_to_sequences(text_test), maxlen=MAX_SEQUENCE_LENGTH)\n",
        "text_sub_sequences = sequence.pad_sequences(\n",
        "    tokenize.texts_to_sequences(text_sub), maxlen=MAX_SEQUENCE_LENGTH)\n",
        "\n",
        "print(text_train_sequences.shape,\n",
        "      text_test_sequences.shape, text_sub_sequences.shape, )"
      ]
    },
    {
      "cell_type": "code",
      "execution_count": 34,
      "metadata": {
        "id": "tG0jvEbjCTP3",
        "colab": {
          "base_uri": "https://localhost:8080/"
        },
        "outputId": "d10a70e0-8b84-4179-f695-8f54c87ab95f"
      },
      "outputs": [
        {
          "output_type": "stream",
          "name": "stdout",
          "text": [
            "(5011, 256) (1671, 256) (1671, 256)\n",
            "CPU times: user 912 ms, sys: 790 µs, total: 913 ms\n",
            "Wall time: 915 ms\n"
          ]
        }
      ],
      "source": [
        "%%time\n",
        "text_train_sequences = sequence.pad_sequences(tokenize.texts_to_sequences(text_train), maxlen=MAX_SEQUENCE_LENGTH)\n",
        "text_test_sequences = sequence.pad_sequences(tokenize.texts_to_sequences(text_test), maxlen=MAX_SEQUENCE_LENGTH)\n",
        "text_sub_sequences = sequence.pad_sequences(tokenize.texts_to_sequences(text_sub), maxlen=MAX_SEQUENCE_LENGTH)\n",
        "\n",
        "print(text_train_sequences.shape, text_test_sequences.shape, text_sub_sequences.shape, )"
      ]
    },
    {
      "cell_type": "markdown",
      "metadata": {
        "id": "35TDjrMXsrTd"
      },
      "source": [
        "Выведем пример того, как теперь выглядит текст:"
      ]
    },
    {
      "cell_type": "code",
      "execution_count": 35,
      "metadata": {
        "id": "fmNfjJlgsrTd",
        "colab": {
          "base_uri": "https://localhost:8080/"
        },
        "outputId": "03fd7d20-fade-476d-89bf-a6247b645a5c"
      },
      "outputs": [
        {
          "output_type": "stream",
          "name": "stdout",
          "text": [
            "['л', 'цвет', 'белый', 'металлик', 'автомобиль', 'отличный', 'состояние', 'использоваться', 'курящий', 'владелец', 'своевременный', 'обслуживание', 'пройти', 'всё', 'купить', 'кредит', 'комплект', 'зимний', 'шина', 'подарок', 'теплоизолировать', 'лобовой', 'стекло', 'тонирование', 'верхний', 'часть', 'зеркало', 'задний', 'вид', 'салон', 'автоматический', 'затемнение', 'функция', 'противоослепление', 'датчик', 'свет', 'дождь', 'аудиосистема', 'подсветка', 'салон', 'багажный', 'отделение', 'перчаточный', 'ящик', 'пол', 'багажный', 'отделение', 'мягкий', 'покрытие', 'домкрат', 'комплект', 'летний', 'шина', 'подарок']\n",
            "[    0     0     0     0     0     0     0     0     0     0     0     0\n",
            "     0     0     0     0     0     0     0     0     0     0     0     0\n",
            "     0     0     0     0     0     0     0     0     0     0     0     0\n",
            "     0     0     0     0     0     0     0     0     0     0     0     0\n",
            "     0     0     0     0     0     0     0     0     0     0     0     0\n",
            "     0     0     0     0     0     0     0     0     0     0     0     0\n",
            "     0     0     0     0     0     0     0     0     0     0     0     0\n",
            "     0     0     0     0     0     0     0     0     0     0     0     0\n",
            "     0     0     0     0     0     0     0     0     0     0     0     0\n",
            "     0     0     0     0     0     0     0     0     0     0     0     0\n",
            "     0     0     0     0     0     0     0     0     0     0     0     0\n",
            "     0     0     0     0     0     0     0     0     0     0     0     0\n",
            "     0     0     0     0     0     0     0     0     0     0     0     0\n",
            "     0     0     0     0     0     0     0     0     0     0     0     0\n",
            "     0     0     0     0     0     0     0     0     0     0     0     0\n",
            "     0     0     0     0     0     0     0     0     0     0     0     0\n",
            "     0     0     0     0     0     0     0     0     0     0   112    91\n",
            "   647   473     1    40     9   645   567    45   245    53    64     4\n",
            "    68    18    13    77    37   182  7649   212    57  5452  1539    88\n",
            "    30     5   101     6    81   392    83 12651    39    78   174   453\n",
            "   316     6   468   552  1292  1056  1150   468   552  1881   338  1256\n",
            "    13   135    37   182]\n"
          ]
        }
      ],
      "source": [
        "print(text_train.iloc[6])\n",
        "print(text_train_sequences[6])"
      ]
    },
    {
      "cell_type": "markdown",
      "metadata": {
        "id": "brNmE_4NsrTd"
      },
      "source": [
        "### NLP-сеть"
      ]
    },
    {
      "cell_type": "code",
      "execution_count": 42,
      "metadata": {
        "id": "afGLq7XSsrTe"
      },
      "outputs": [],
      "source": [
        "model_nlp = M.Sequential()\n",
        "\n",
        "model_nlp.add(L.Input(shape=MAX_SEQUENCE_LENGTH, name=\"seq_description\"))\n",
        "\n",
        "model_nlp.add(L.Embedding(len(tokenize.word_index)+1, MAX_SEQUENCE_LENGTH))\n",
        "\n",
        "model_nlp.add(L.LayerNormalization())\n",
        "\n",
        "model_nlp.add(L.LSTM(32, return_sequences=True))\n",
        "# model_nlp.add(L.Dropout(0.15))\n",
        "\n",
        "model_nlp.add(L.Dense(4096, \n",
        "                      kernel_regularizer=regularizers.l1_l2(l1=1e-6, l2=1e-6), \n",
        "                      kernel_initializer='normal', \n",
        "                      activation=ACTIVATION))\n",
        "# model_nlp.add(L.Dropout(0.15))\n",
        "\n",
        "model_nlp.add(L.LSTM(32, return_sequences=True))\n",
        "model_nlp.add(L.Dropout(0.15))\n",
        "\n",
        "model_nlp.add(L.Dense(4096, \n",
        "                      kernel_regularizer=regularizers.l1_l2(l1=1e-6, l2=1e-6), \n",
        "                      kernel_initializer='normal', \n",
        "                      activation=ACTIVATION))\n",
        "model_nlp.add(L.Dropout(0.15))\n",
        "\n",
        "model_nlp.add(L.LSTM(64, return_sequences=True))\n",
        "model_nlp.add(L.Dropout(0.15))\n",
        "\n",
        "model_nlp.add(L.Dense(8192, \n",
        "                      kernel_regularizer=regularizers.l1_l2(l1=1e-6, l2=1e-6), \n",
        "                      kernel_initializer='normal', \n",
        "                      activation=ACTIVATION))\n",
        "model_nlp.add(L.Dropout(0.15))\n",
        "\n",
        "model_nlp.add(L.Dense(8192, \n",
        "                      kernel_regularizer=regularizers.l1_l2(l1=1e-6, l2=1e-6), \n",
        "                      kernel_initializer='normal', \n",
        "                      activation=ACTIVATION))\n",
        "model_nlp.add(L.Dropout(0.15))\n",
        "\n",
        "model_nlp.add(L.LSTM(128,))\n",
        "model_nlp.add(L.Dropout(0.15))\n",
        "\n",
        "model_nlp.add(L.Dense(16384, \n",
        "                      kernel_regularizer=regularizers.l1_l2(l1=1e-6, l2=1e-6), \n",
        "                      kernel_initializer='normal', \n",
        "                      activation=ACTIVATION))\n",
        "# model_nlp.add(L.Dropout(0.15))"
      ]
    },
    {
      "cell_type": "code",
      "source": [
        "# model_nlp = M.Sequential()\n",
        "\n",
        "# model_nlp.add(L.Input(shape=MAX_SEQUENCE_LENGTH, name=\"seq_description\"))\n",
        "\n",
        "# model_nlp.add(L.Embedding(len(tokenize.word_index)+1, MAX_SEQUENCE_LENGTH))\n",
        "\n",
        "# model_nlp.add(L.LayerNormalization())\n",
        "\n",
        "# model_nlp.add(L.LSTM(64, return_sequences=True))\n",
        "# model_nlp.add(L.Dropout(0.15))\n",
        "\n",
        "# model_nlp.add(L.Dense(4096, \n",
        "#                       kernel_regularizer=regularizers.l1_l2(l1=1e-6, l2=1e-6), \n",
        "#                       kernel_initializer='normal', \n",
        "#                       activation=ACTIVATION))\n",
        "# model_nlp.add(L.Dropout(0.15))\n",
        "\n",
        "# model_nlp.add(L.LSTM(64, return_sequences=True))\n",
        "# model_nlp.add(L.Dropout(0.15))\n",
        "\n",
        "# model_nlp.add(L.Dense(16384, \n",
        "#                       kernel_regularizer=regularizers.l1_l2(l1=1e-6, l2=1e-6), \n",
        "#                       kernel_initializer='normal', \n",
        "#                       activation=ACTIVATION))\n",
        "# model_nlp.add(L.Dropout(0.15))\n",
        "\n",
        "# model_nlp.add(L.LSTM(64, return_sequences=True))\n",
        "# model_nlp.add(L.Dropout(0.15))\n",
        "\n",
        "# model_nlp.add(L.Dense(8192, \n",
        "#                       kernel_regularizer=regularizers.l1_l2(l1=1e-6, l2=1e-6), \n",
        "#                       kernel_initializer='normal', \n",
        "#                       activation=ACTIVATION))\n",
        "# model_nlp.add(L.Dropout(0.15))\n",
        "\n",
        "# model_nlp.add(L.Dense(4096, \n",
        "#                       kernel_regularizer=regularizers.l1_l2(l1=1e-6, l2=1e-6), \n",
        "#                       kernel_initializer='normal', \n",
        "#                       activation=ACTIVATION))\n",
        "# model_nlp.add(L.Dropout(0.15))\n",
        "\n",
        "# model_nlp.add(L.LSTM(64,))\n",
        "# model_nlp.add(L.Dropout(0.15))\n",
        "\n",
        "# model_nlp.add(L.Dense(4096, \n",
        "#                       kernel_regularizer=regularizers.l1_l2(l1=1e-6, l2=1e-6), \n",
        "#                       kernel_initializer='normal', \n",
        "#                       activation=ACTIVATION))\n",
        "# # model_nlp.add(L.Dropout(0.15))"
      ],
      "metadata": {
        "id": "7I0COBHa0Oqx"
      },
      "execution_count": null,
      "outputs": []
    },
    {
      "cell_type": "markdown",
      "metadata": {
        "id": "F48GcWu_srTe"
      },
      "source": [
        "### MLP-сеть"
      ]
    },
    {
      "cell_type": "code",
      "execution_count": 43,
      "metadata": {
        "id": "GhxzyaSxLMoB"
      },
      "outputs": [],
      "source": [
        "model_mlp = M.Sequential()\n",
        "\n",
        "model_mlp.add(L.Dense(4096, \n",
        "                       input_dim = X_train.shape[1],  \n",
        "                       activation=ACTIVATION))\n",
        "# model_mlp.add(L.Dropout(0.15))\n",
        "\n",
        "model_mlp.add(L.Dense(4096,\n",
        "                       kernel_regularizer=regularizers.l1_l2(l1=1e-6, l2=1e-6), \n",
        "                       kernel_initializer='normal', \n",
        "                       activation=ACTIVATION))\n",
        "# model_mlp.add(L.Dropout(0.15))\n",
        "\n",
        "model_mlp.add(L.Dense(4096,\n",
        "                       kernel_regularizer=regularizers.l1_l2(l1=1e-6, l2=1e-6), \n",
        "                       kernel_initializer='normal', \n",
        "                       activation=ACTIVATION))\n",
        "model_mlp.add(L.Dropout(0.15))\n",
        "\n",
        "model_mlp.add(L.Dense(8192,\n",
        "                       kernel_regularizer=regularizers.l1_l2(l1=1e-6, l2=1e-6), \n",
        "                       kernel_initializer='normal', \n",
        "                       activation=ACTIVATION))\n",
        "model_mlp.add(L.Dropout(0.15))\n",
        "\n",
        "model_mlp.add(L.Dense(8192,\n",
        "                       kernel_regularizer=regularizers.l1_l2(l1=1e-6, l2=1e-6), \n",
        "                       kernel_initializer='normal', \n",
        "                       activation=ACTIVATION))\n",
        "model_mlp.add(L.Dropout(0.15))\n",
        "\n",
        "model_mlp.add(L.Dense(16384,\n",
        "                       kernel_regularizer=regularizers.l1_l2(l1=1e-6, l2=1e-6), \n",
        "                       kernel_initializer='normal', \n",
        "                       activation=ACTIVATION))\n",
        "# model_mlp.add(L.Dropout(0.15))"
      ]
    },
    {
      "cell_type": "code",
      "source": [
        "# model_mlp = M.Sequential()\n",
        "\n",
        "# model_mlp.add(L.Dense(4096, \n",
        "#                        input_dim = X_train.shape[1],  \n",
        "#                        activation=ACTIVATION))\n",
        "# model_mlp.add(L.Dropout(0.15))\n",
        "\n",
        "# model_mlp.add(L.Dense(16384,\n",
        "#                        kernel_regularizer=regularizers.l1_l2(l1=1e-6, l2=1e-6), \n",
        "#                        kernel_initializer='normal', \n",
        "#                        activation=ACTIVATION))\n",
        "# model_mlp.add(L.Dropout(0.15))\n",
        "\n",
        "# model_mlp.add(L.Dense(8192,\n",
        "#                        kernel_regularizer=regularizers.l1_l2(l1=1e-6, l2=1e-6), \n",
        "#                        kernel_initializer='normal', \n",
        "#                        activation=ACTIVATION))\n",
        "# model_mlp.add(L.Dropout(0.15))\n",
        "\n",
        "# model_mlp.add(L.Dense(8192,\n",
        "#                        kernel_regularizer=regularizers.l1_l2(l1=1e-6, l2=1e-6), \n",
        "#                        kernel_initializer='normal', \n",
        "#                        activation=ACTIVATION))\n",
        "# model_mlp.add(L.Dropout(0.15))\n",
        "\n",
        "# model_mlp.add(L.Dense(4096,\n",
        "#                        kernel_regularizer=regularizers.l1_l2(l1=1e-6, l2=1e-6), \n",
        "#                        kernel_initializer='normal', \n",
        "#                        activation=ACTIVATION))\n",
        "# model_mlp.add(L.Dropout(0.15))\n",
        "\n",
        "# model_mlp.add(L.Dense(4096,\n",
        "#                        kernel_regularizer=regularizers.l1_l2(l1=1e-6, l2=1e-6), \n",
        "#                        kernel_initializer='normal', \n",
        "#                        activation=ACTIVATION))\n",
        "# # model_mlp.add(L.Dropout(0.15))"
      ],
      "metadata": {
        "id": "KSNsGruC0I9e"
      },
      "execution_count": null,
      "outputs": []
    },
    {
      "cell_type": "markdown",
      "metadata": {
        "id": "BDgZM0-wsrT2"
      },
      "source": [
        "### Multiple Inputs NN"
      ]
    },
    {
      "cell_type": "code",
      "execution_count": 44,
      "metadata": {
        "id": "bbXeuN-ksrT2"
      },
      "outputs": [],
      "source": [
        "combinedInput = L.concatenate([model_nlp.output, model_mlp.output])\n",
        "# being our regression head\n",
        "head = L.Dense(4096, activation=ACTIVATION)(combinedInput)\n",
        "head = L.Dense(1, activation=\"linear\")(head)\n",
        "\n",
        "model_mi = M.Model(inputs=[model_nlp.input, model_mlp.input], outputs=head)"
      ]
    },
    {
      "cell_type": "markdown",
      "metadata": {
        "id": "vHNvSkNlsrT3"
      },
      "source": [
        "Выведем описание модели:"
      ]
    },
    {
      "cell_type": "code",
      "execution_count": 45,
      "metadata": {
        "id": "KpAVQaCCsrT3",
        "colab": {
          "base_uri": "https://localhost:8080/"
        },
        "outputId": "187cd8ac-9aeb-490e-a861-03a9a4c3c44f"
      },
      "outputs": [
        {
          "output_type": "stream",
          "name": "stdout",
          "text": [
            "Model: \"model\"\n",
            "__________________________________________________________________________________________________\n",
            " Layer (type)                   Output Shape         Param #     Connected to                     \n",
            "==================================================================================================\n",
            " seq_description (InputLayer)   [(None, 256)]        0           []                               \n",
            "                                                                                                  \n",
            " embedding_2 (Embedding)        (None, 256, 256)     3541760     ['seq_description[0][0]']        \n",
            "                                                                                                  \n",
            " layer_normalization_2 (LayerNo  (None, 256, 256)    512         ['embedding_2[0][0]']            \n",
            " rmalization)                                                                                     \n",
            "                                                                                                  \n",
            " lstm_5 (LSTM)                  (None, 256, 64)      82176       ['layer_normalization_2[0][0]']  \n",
            "                                                                                                  \n",
            " dropout_17 (Dropout)           (None, 256, 64)      0           ['lstm_5[0][0]']                 \n",
            "                                                                                                  \n",
            " dense_16 (Dense)               (None, 256, 4096)    266240      ['dropout_17[0][0]']             \n",
            "                                                                                                  \n",
            " dropout_18 (Dropout)           (None, 256, 4096)    0           ['dense_16[0][0]']               \n",
            "                                                                                                  \n",
            " dense_20_input (InputLayer)    [(None, 61)]         0           []                               \n",
            "                                                                                                  \n",
            " lstm_6 (LSTM)                  (None, 256, 64)      1065216     ['dropout_18[0][0]']             \n",
            "                                                                                                  \n",
            " dense_20 (Dense)               (None, 4096)         253952      ['dense_20_input[0][0]']         \n",
            "                                                                                                  \n",
            " dropout_19 (Dropout)           (None, 256, 64)      0           ['lstm_6[0][0]']                 \n",
            "                                                                                                  \n",
            " dropout_24 (Dropout)           (None, 4096)         0           ['dense_20[0][0]']               \n",
            "                                                                                                  \n",
            " dense_17 (Dense)               (None, 256, 12288)   798720      ['dropout_19[0][0]']             \n",
            "                                                                                                  \n",
            " dense_21 (Dense)               (None, 8192)         33562624    ['dropout_24[0][0]']             \n",
            "                                                                                                  \n",
            " dropout_20 (Dropout)           (None, 256, 12288)   0           ['dense_17[0][0]']               \n",
            "                                                                                                  \n",
            " dropout_25 (Dropout)           (None, 8192)         0           ['dense_21[0][0]']               \n",
            "                                                                                                  \n",
            " lstm_7 (LSTM)                  (None, 256, 64)      3162368     ['dropout_20[0][0]']             \n",
            "                                                                                                  \n",
            " dense_22 (Dense)               (None, 8192)         67117056    ['dropout_25[0][0]']             \n",
            "                                                                                                  \n",
            " dropout_21 (Dropout)           (None, 256, 64)      0           ['lstm_7[0][0]']                 \n",
            "                                                                                                  \n",
            " dropout_26 (Dropout)           (None, 8192)         0           ['dense_22[0][0]']               \n",
            "                                                                                                  \n",
            " dense_18 (Dense)               (None, 256, 8192)    532480      ['dropout_21[0][0]']             \n",
            "                                                                                                  \n",
            " dense_23 (Dense)               (None, 8192)         67117056    ['dropout_26[0][0]']             \n",
            "                                                                                                  \n",
            " dropout_22 (Dropout)           (None, 256, 8192)    0           ['dense_18[0][0]']               \n",
            "                                                                                                  \n",
            " dropout_27 (Dropout)           (None, 8192)         0           ['dense_23[0][0]']               \n",
            "                                                                                                  \n",
            " lstm_8 (LSTM)                  (None, 64)           2113792     ['dropout_22[0][0]']             \n",
            "                                                                                                  \n",
            " dense_24 (Dense)               (None, 8192)         67117056    ['dropout_27[0][0]']             \n",
            "                                                                                                  \n",
            " dropout_23 (Dropout)           (None, 64)           0           ['lstm_8[0][0]']                 \n",
            "                                                                                                  \n",
            " dropout_28 (Dropout)           (None, 8192)         0           ['dense_24[0][0]']               \n",
            "                                                                                                  \n",
            " dense_19 (Dense)               (None, 4096)         266240      ['dropout_23[0][0]']             \n",
            "                                                                                                  \n",
            " dense_25 (Dense)               (None, 4096)         33558528    ['dropout_28[0][0]']             \n",
            "                                                                                                  \n",
            " concatenate_2 (Concatenate)    (None, 8192)         0           ['dense_19[0][0]',               \n",
            "                                                                  'dense_25[0][0]']               \n",
            "                                                                                                  \n",
            " dense_26 (Dense)               (None, 4096)         33558528    ['concatenate_2[0][0]']          \n",
            "                                                                                                  \n",
            " dense_27 (Dense)               (None, 1)            4097        ['dense_26[0][0]']               \n",
            "                                                                                                  \n",
            "==================================================================================================\n",
            "Total params: 314,118,401\n",
            "Trainable params: 314,118,401\n",
            "Non-trainable params: 0\n",
            "__________________________________________________________________________________________________\n"
          ]
        }
      ],
      "source": [
        "model_mi.summary()"
      ]
    },
    {
      "cell_type": "markdown",
      "metadata": {
        "id": "Ox1QAc6AsrT3"
      },
      "source": [
        "В качестве оптимизатора я исследовал Adam и Adamax. Adam в данном случае сходится гораздо быстрее и дает более стабильные значения исследуемой метрики. Начальную скорость обучения выберем 0.01. \n",
        "\n",
        "Проведем компиляцию модели:"
      ]
    },
    {
      "cell_type": "code",
      "execution_count": 46,
      "metadata": {
        "id": "ZfN5FdRhsrT4"
      },
      "outputs": [],
      "source": [
        "LR = 0.0001\n",
        "\n",
        "model_mi.compile(loss='MAPE', optimizer=optimizers.Adam(learning_rate=LR),\n",
        "                   metrics=['MAPE'])\n"
      ]
    },
    {
      "cell_type": "markdown",
      "source": [
        "### Коллбеки"
      ],
      "metadata": {
        "id": "u8KO1MVbCHOh"
      }
    },
    {
      "cell_type": "code",
      "source": [
        "file_name = 'model_mi'"
      ],
      "metadata": {
        "id": "EJpa_mVaulbO"
      },
      "execution_count": 47,
      "outputs": []
    },
    {
      "cell_type": "code",
      "source": [
        "if is_colab:\n",
        "    path = SAVE_PATH\n",
        "else:\n",
        "    path = WORK_PATH\n",
        "                                                 \n",
        "cb_checkpoint = ModelCheckpoint(os.path.join(path, \n",
        "                                                 file_name+'_best.hdf5'), \n",
        "                                    monitor = ['val_MAPE'], \n",
        "                                    verbose = 0, mode = 'min')\n",
        "\n",
        "cb_earlystop = EarlyStopping(monitor='val_MAPE', patience=10, verbose=1, \n",
        "                             mode='min',\n",
        "                             restore_best_weights=True)\n",
        "# cb_schedul = LearningRateScheduler(scheduler, verbose=1)\n",
        "\n",
        "cb_schedul = ReduceLROnPlateau(monitor='val_MAPE',\n",
        "                                 factor=tf.math.exp(-0.3),  # new_lr = lr*factor\n",
        "                                 patience=1,  # эпох без изменений\n",
        "                                 min_lr=0,\n",
        "                                 verbose=1,  # выводить сообщения\n",
        "                                 mode='min')  # способ отслеживания метрики\n",
        "\n",
        "callbacks_list = [cb_checkpoint, cb_earlystop, cb_schedul]"
      ],
      "metadata": {
        "id": "0BL7E8X3CGb3"
      },
      "execution_count": 48,
      "outputs": []
    },
    {
      "cell_type": "markdown",
      "metadata": {
        "id": "rT7cb2xUsrT3"
      },
      "source": [
        "### Обучение"
      ]
    },
    {
      "cell_type": "code",
      "source": [
        "BATCH_SIZE = 32"
      ],
      "metadata": {
        "id": "vbHLniihAtww"
      },
      "execution_count": 49,
      "outputs": []
    },
    {
      "cell_type": "code",
      "execution_count": 50,
      "metadata": {
        "id": "Z17hCEE3srT5",
        "colab": {
          "base_uri": "https://localhost:8080/"
        },
        "outputId": "746f1831-6db6-43c0-ac0c-f280131dfbed"
      },
      "outputs": [
        {
          "output_type": "stream",
          "name": "stdout",
          "text": [
            "Epoch 1/1000\n",
            "157/157 [==============================] - 105s 582ms/step - loss: 47.6414 - MAPE: 36.3325 - val_loss: 31.8547 - val_MAPE: 20.6209 - lr: 1.0000e-04\n",
            "Epoch 2/1000\n",
            "157/157 [==============================] - 156s 996ms/step - loss: 29.4520 - MAPE: 18.2884 - val_loss: 30.2455 - val_MAPE: 19.1522 - lr: 1.0000e-04\n",
            "Epoch 3/1000\n",
            "157/157 [==============================] - 113s 723ms/step - loss: 28.0828 - MAPE: 17.0556 - val_loss: 27.3521 - val_MAPE: 16.3909 - lr: 1.0000e-04\n",
            "Epoch 4/1000\n",
            "157/157 [==============================] - ETA: 0s - loss: 27.7194 - MAPE: 16.8204\n",
            "Epoch 4: ReduceLROnPlateau reducing learning rate to 7.408182136714458e-05.\n",
            "157/157 [==============================] - 110s 702ms/step - loss: 27.7194 - MAPE: 16.8204 - val_loss: 27.5616 - val_MAPE: 16.7243 - lr: 1.0000e-04\n",
            "Epoch 5/1000\n",
            "157/157 [==============================] - ETA: 0s - loss: 26.9029 - MAPE: 16.1101\n",
            "Epoch 5: ReduceLROnPlateau reducing learning rate to 5.488116221386008e-05.\n",
            "157/157 [==============================] - 102s 650ms/step - loss: 26.9029 - MAPE: 16.1101 - val_loss: 27.3357 - val_MAPE: 16.5878 - lr: 7.4082e-05\n",
            "Epoch 6/1000\n",
            "157/157 [==============================] - 120s 768ms/step - loss: 26.0186 - MAPE: 15.3035 - val_loss: 25.7549 - val_MAPE: 15.0733 - lr: 5.4881e-05\n",
            "Epoch 7/1000\n",
            "157/157 [==============================] - ETA: 0s - loss: 25.8075 - MAPE: 15.1590\n",
            "Epoch 7: ReduceLROnPlateau reducing learning rate to 4.0656963392393664e-05.\n",
            "157/157 [==============================] - 102s 652ms/step - loss: 25.8075 - MAPE: 15.1590 - val_loss: 25.7884 - val_MAPE: 15.1736 - lr: 5.4881e-05\n",
            "Epoch 8/1000\n",
            "157/157 [==============================] - ETA: 0s - loss: 25.4191 - MAPE: 14.8292\n",
            "Epoch 8: ReduceLROnPlateau reducing learning rate to 3.0119417715468444e-05.\n",
            "157/157 [==============================] - 103s 657ms/step - loss: 25.4191 - MAPE: 14.8292 - val_loss: 26.5932 - val_MAPE: 16.0286 - lr: 4.0657e-05\n",
            "Epoch 9/1000\n",
            "157/157 [==============================] - ETA: 0s - loss: 25.2369 - MAPE: 14.6910\n",
            "Epoch 9: ReduceLROnPlateau reducing learning rate to 2.231301368738059e-05.\n",
            "157/157 [==============================] - 113s 720ms/step - loss: 25.2369 - MAPE: 14.6910 - val_loss: 26.5727 - val_MAPE: 16.0458 - lr: 3.0119e-05\n",
            "Epoch 10/1000\n",
            "157/157 [==============================] - 135s 860ms/step - loss: 24.9339 - MAPE: 14.4213 - val_loss: 25.5108 - val_MAPE: 15.0124 - lr: 2.2313e-05\n",
            "Epoch 11/1000\n",
            "157/157 [==============================] - ETA: 0s - loss: 24.8495 - MAPE: 14.3656\n",
            "Epoch 11: ReduceLROnPlateau reducing learning rate to 1.652988612477202e-05.\n",
            "157/157 [==============================] - 152s 973ms/step - loss: 24.8495 - MAPE: 14.3656 - val_loss: 25.4972 - val_MAPE: 15.0280 - lr: 2.2313e-05\n",
            "Epoch 12/1000\n",
            "157/157 [==============================] - ETA: 0s - loss: 24.7801 - MAPE: 14.3218\n",
            "Epoch 12: ReduceLROnPlateau reducing learning rate to 1.2245640391483903e-05.\n",
            "157/157 [==============================] - 152s 972ms/step - loss: 24.7801 - MAPE: 14.3218 - val_loss: 25.9822 - val_MAPE: 15.5350 - lr: 1.6530e-05\n",
            "Epoch 13/1000\n",
            "157/157 [==============================] - ETA: 0s - loss: 24.6299 - MAPE: 14.1909\n",
            "Epoch 13: ReduceLROnPlateau reducing learning rate to 9.071793101611547e-06.\n",
            "157/157 [==============================] - 144s 921ms/step - loss: 24.6299 - MAPE: 14.1909 - val_loss: 25.5097 - val_MAPE: 15.0792 - lr: 1.2246e-05\n",
            "Epoch 14/1000\n",
            "157/157 [==============================] - ETA: 0s - loss: 24.5547 - MAPE: 14.1305\n",
            "Epoch 14: ReduceLROnPlateau reducing learning rate to 6.7205496634414885e-06.\n",
            "157/157 [==============================] - 135s 862ms/step - loss: 24.5547 - MAPE: 14.1305 - val_loss: 25.9437 - val_MAPE: 15.5259 - lr: 9.0718e-06\n",
            "Epoch 15/1000\n",
            "157/157 [==============================] - 146s 933ms/step - loss: 24.3594 - MAPE: 13.9463 - val_loss: 25.3310 - val_MAPE: 14.9228 - lr: 6.7205e-06\n",
            "Epoch 16/1000\n",
            "157/157 [==============================] - ETA: 0s - loss: 24.2838 - MAPE: 13.8804\n",
            "Epoch 16: ReduceLROnPlateau reducing learning rate to 4.978705419489415e-06.\n",
            "157/157 [==============================] - 137s 873ms/step - loss: 24.2838 - MAPE: 13.8804 - val_loss: 25.3271 - val_MAPE: 14.9286 - lr: 6.7205e-06\n",
            "Epoch 17/1000\n",
            "157/157 [==============================] - ETA: 0s - loss: 24.2285 - MAPE: 13.8337\n",
            "Epoch 17: ReduceLROnPlateau reducing learning rate to 3.6883157008560374e-06.\n",
            "157/157 [==============================] - 144s 921ms/step - loss: 24.2285 - MAPE: 13.8337 - val_loss: 25.3142 - val_MAPE: 14.9232 - lr: 4.9787e-06\n",
            "Epoch 18/1000\n",
            "157/157 [==============================] - 165s 1s/step - loss: 24.0849 - MAPE: 13.6967 - val_loss: 25.1493 - val_MAPE: 14.7638 - lr: 3.6883e-06\n",
            "Epoch 19/1000\n",
            "157/157 [==============================] - ETA: 0s - loss: 24.1848 - MAPE: 13.8022\n",
            "Epoch 19: ReduceLROnPlateau reducing learning rate to 2.7323715130478377e-06.\n",
            "157/157 [==============================] - 133s 852ms/step - loss: 24.1848 - MAPE: 13.8022 - val_loss: 25.1939 - val_MAPE: 14.8142 - lr: 3.6883e-06\n",
            "Epoch 20/1000\n",
            "157/157 [==============================] - ETA: 0s - loss: 24.1470 - MAPE: 13.7695\n",
            "Epoch 20: ReduceLROnPlateau reducing learning rate to 2.0241905076545663e-06.\n",
            "157/157 [==============================] - 118s 751ms/step - loss: 24.1470 - MAPE: 13.7695 - val_loss: 25.4575 - val_MAPE: 15.0821 - lr: 2.7324e-06\n",
            "Epoch 21/1000\n",
            "157/157 [==============================] - ETA: 0s - loss: 24.0944 - MAPE: 13.7207\n",
            "Epoch 21: ReduceLROnPlateau reducing learning rate to 1.4995571291365195e-06.\n",
            "157/157 [==============================] - 142s 910ms/step - loss: 24.0944 - MAPE: 13.7207 - val_loss: 25.3024 - val_MAPE: 14.9304 - lr: 2.0242e-06\n",
            "Epoch 22/1000\n",
            "157/157 [==============================] - ETA: 0s - loss: 24.0908 - MAPE: 13.7200\n",
            "Epoch 22: ReduceLROnPlateau reducing learning rate to 1.1108992339359247e-06.\n",
            "157/157 [==============================] - 146s 933ms/step - loss: 24.0908 - MAPE: 13.7200 - val_loss: 25.3025 - val_MAPE: 14.9329 - lr: 1.4996e-06\n",
            "Epoch 23/1000\n",
            "157/157 [==============================] - ETA: 0s - loss: 24.0462 - MAPE: 13.6776\n",
            "Epoch 23: ReduceLROnPlateau reducing learning rate to 8.229743571064319e-07.\n",
            "157/157 [==============================] - 144s 921ms/step - loss: 24.0462 - MAPE: 13.6776 - val_loss: 25.2824 - val_MAPE: 14.9147 - lr: 1.1109e-06\n",
            "Epoch 24/1000\n",
            "157/157 [==============================] - ETA: 0s - loss: 24.0885 - MAPE: 13.7215\n",
            "Epoch 24: ReduceLROnPlateau reducing learning rate to 6.096743732086907e-07.\n",
            "157/157 [==============================] - 171s 1s/step - loss: 24.0885 - MAPE: 13.7215 - val_loss: 25.2260 - val_MAPE: 14.8598 - lr: 8.2297e-07\n",
            "Epoch 25/1000\n",
            "157/157 [==============================] - ETA: 0s - loss: 24.0720 - MAPE: 13.7062\n",
            "Epoch 25: ReduceLROnPlateau reducing learning rate to 4.5165788264966977e-07.\n",
            "157/157 [==============================] - 163s 1s/step - loss: 24.0720 - MAPE: 13.7062 - val_loss: 25.3723 - val_MAPE: 15.0071 - lr: 6.0967e-07\n",
            "Epoch 26/1000\n",
            "157/157 [==============================] - ETA: 0s - loss: 24.1745 - MAPE: 13.8096\n",
            "Epoch 26: ReduceLROnPlateau reducing learning rate to 3.345963932588347e-07.\n",
            "157/157 [==============================] - 150s 959ms/step - loss: 24.1745 - MAPE: 13.8096 - val_loss: 25.3282 - val_MAPE: 14.9637 - lr: 4.5166e-07\n",
            "Epoch 27/1000\n",
            "157/157 [==============================] - ETA: 0s - loss: 24.0633 - MAPE: 13.6992\n",
            "Epoch 27: ReduceLROnPlateau reducing learning rate to 2.478751071066654e-07.\n",
            "157/157 [==============================] - 140s 895ms/step - loss: 24.0633 - MAPE: 13.6992 - val_loss: 25.2989 - val_MAPE: 14.9351 - lr: 3.3460e-07\n",
            "Epoch 28/1000\n",
            "157/157 [==============================] - ETA: 0s - loss: 24.0237 - MAPE: 13.6601\n",
            "Epoch 28: ReduceLROnPlateau reducing learning rate to 1.8363039089308586e-07.\n",
            "157/157 [==============================] - 159s 1s/step - loss: 24.0237 - MAPE: 13.6601 - val_loss: 25.3094 - val_MAPE: 14.9460 - lr: 2.4788e-07\n",
            "Epoch 29/1000\n",
            "157/157 [==============================] - ETA: 0s - loss: 24.0415 - MAPE: 13.6783\n",
            "Epoch 29: ReduceLROnPlateau reducing learning rate to 1.3603673210127454e-07.\n",
            "157/157 [==============================] - 128s 821ms/step - loss: 24.0415 - MAPE: 13.6783 - val_loss: 25.2788 - val_MAPE: 14.9158 - lr: 1.8363e-07\n",
            "Epoch 30/1000\n",
            "157/157 [==============================] - ETA: 0s - loss: 24.0352 - MAPE: 13.6723\n",
            "Epoch 30: ReduceLROnPlateau reducing learning rate to 1.0077848600076322e-07.\n",
            "157/157 [==============================] - 157s 1s/step - loss: 24.0352 - MAPE: 13.6723 - val_loss: 25.3046 - val_MAPE: 14.9418 - lr: 1.3604e-07\n",
            "Epoch 31/1000\n",
            "157/157 [==============================] - ETA: 0s - loss: 24.0540 - MAPE: 13.6913\n",
            "Epoch 31: ReduceLROnPlateau reducing learning rate to 7.465853713028991e-08.\n",
            "157/157 [==============================] - 145s 928ms/step - loss: 24.0540 - MAPE: 13.6913 - val_loss: 25.3235 - val_MAPE: 14.9609 - lr: 1.0078e-07\n",
            "Epoch 32/1000\n",
            "157/157 [==============================] - ETA: 0s - loss: 24.0256 - MAPE: 13.6631\n",
            "Epoch 32: ReduceLROnPlateau reducing learning rate to 5.530840496703604e-08.\n",
            "157/157 [==============================] - 157s 1s/step - loss: 24.0256 - MAPE: 13.6631 - val_loss: 25.3001 - val_MAPE: 14.9377 - lr: 7.4659e-08\n",
            "Epoch 33/1000\n",
            "157/157 [==============================] - ETA: 0s - loss: 24.0786 - MAPE: 13.7162\n",
            "Epoch 33: ReduceLROnPlateau reducing learning rate to 4.097347172660193e-08.\n",
            "157/157 [==============================] - 124s 795ms/step - loss: 24.0786 - MAPE: 13.7162 - val_loss: 25.2886 - val_MAPE: 14.9263 - lr: 5.5308e-08\n",
            "Epoch 34/1000\n",
            "157/157 [==============================] - ETA: 0s - loss: 24.0815 - MAPE: 13.7192\n",
            "Epoch 34: ReduceLROnPlateau reducing learning rate to 3.0353895397183805e-08.\n",
            "157/157 [==============================] - 128s 815ms/step - loss: 24.0815 - MAPE: 13.7192 - val_loss: 25.3032 - val_MAPE: 14.9410 - lr: 4.0973e-08\n",
            "Epoch 35/1000\n",
            "157/157 [==============================] - ETA: 0s - loss: 24.0188 - MAPE: 13.6566\n",
            "Epoch 35: ReduceLROnPlateau reducing learning rate to 2.2486718265213312e-08.\n",
            "157/157 [==============================] - 148s 949ms/step - loss: 24.0188 - MAPE: 13.6566 - val_loss: 25.3014 - val_MAPE: 14.9392 - lr: 3.0354e-08\n",
            "Epoch 36/1000\n",
            "157/157 [==============================] - ETA: 0s - loss: 24.0371 - MAPE: 13.6749\n",
            "Epoch 36: ReduceLROnPlateau reducing learning rate to 1.6658569634842024e-08.\n",
            "157/157 [==============================] - 157s 1s/step - loss: 24.0371 - MAPE: 13.6749 - val_loss: 25.3004 - val_MAPE: 14.9382 - lr: 2.2487e-08\n",
            "Epoch 37/1000\n",
            "157/157 [==============================] - ETA: 0s - loss: 24.0736 - MAPE: 13.7114\n",
            "Epoch 37: ReduceLROnPlateau reducing learning rate to 1.234097180002891e-08.\n",
            "157/157 [==============================] - 160s 1s/step - loss: 24.0736 - MAPE: 13.7114 - val_loss: 25.3015 - val_MAPE: 14.9394 - lr: 1.6659e-08\n",
            "Epoch 38/1000\n",
            "157/157 [==============================] - ETA: 0s - loss: 24.0848 - MAPE: 13.7227\n",
            "Epoch 38: ReduceLROnPlateau reducing learning rate to 9.142416601548575e-09.\n",
            "157/157 [==============================] - 122s 781ms/step - loss: 24.0848 - MAPE: 13.7227 - val_loss: 25.3052 - val_MAPE: 14.9431 - lr: 1.2341e-08\n",
            "Epoch 39/1000\n",
            "157/157 [==============================] - ETA: 0s - loss: 24.0260 - MAPE: 13.6639\n",
            "Epoch 39: ReduceLROnPlateau reducing learning rate to 6.772868488269523e-09.\n",
            "157/157 [==============================] - 153s 976ms/step - loss: 24.0260 - MAPE: 13.6639 - val_loss: 25.3073 - val_MAPE: 14.9452 - lr: 9.1424e-09\n",
            "Epoch 40/1000\n",
            "157/157 [==============================] - ETA: 0s - loss: 24.0838 - MAPE: 13.7217\n",
            "Epoch 40: ReduceLROnPlateau reducing learning rate to 5.017464221879209e-09.\n",
            "157/157 [==============================] - 131s 837ms/step - loss: 24.0838 - MAPE: 13.7217 - val_loss: 25.3061 - val_MAPE: 14.9440 - lr: 6.7729e-09\n",
            "Epoch 41/1000\n",
            "157/157 [==============================] - ETA: 0s - loss: 24.0344 - MAPE: 13.6724\n",
            "Epoch 41: ReduceLROnPlateau reducing learning rate to 3.7170289068910733e-09.\n",
            "157/157 [==============================] - 132s 842ms/step - loss: 24.0344 - MAPE: 13.6724 - val_loss: 25.3054 - val_MAPE: 14.9433 - lr: 5.0175e-09\n",
            "Epoch 42/1000\n",
            "157/157 [==============================] - ETA: 0s - loss: 24.0252 - MAPE: 13.6632\n",
            "Epoch 42: ReduceLROnPlateau reducing learning rate to 2.7536426472352105e-09.\n",
            "157/157 [==============================] - 130s 828ms/step - loss: 24.0252 - MAPE: 13.6632 - val_loss: 25.3063 - val_MAPE: 14.9442 - lr: 3.7170e-09\n",
            "Epoch 43/1000\n",
            "157/157 [==============================] - ETA: 0s - loss: 24.0524 - MAPE: 13.6904Restoring model weights from the end of the best epoch: 18.\n",
            "\n",
            "Epoch 43: ReduceLROnPlateau reducing learning rate to 2.0399486544420142e-09.\n",
            "157/157 [==============================] - 127s 811ms/step - loss: 24.0524 - MAPE: 13.6904 - val_loss: 25.3064 - val_MAPE: 14.9444 - lr: 2.7536e-09\n",
            "Epoch 43: early stopping\n"
          ]
        }
      ],
      "source": [
        "history = model_mi.fit([text_train_sequences, X_train], y_train,\n",
        "                    batch_size=BATCH_SIZE,\n",
        "                    epochs=1000,\n",
        "                    validation_data=([text_test_sequences, X_test], y_test),\n",
        "                    callbacks=callbacks_list\n",
        "                    )"
      ]
    },
    {
      "cell_type": "markdown",
      "source": [
        "![image.png](data:image/png;base64,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)"
      ],
      "metadata": {
        "id": "AoztCaRooC8q"
      }
    },
    {
      "cell_type": "markdown",
      "metadata": {
        "id": "Fo9gqE61srT5"
      },
      "source": [
        "### График"
      ]
    },
    {
      "cell_type": "code",
      "execution_count": 51,
      "metadata": {
        "id": "oV9x5j4-AEfJ",
        "colab": {
          "base_uri": "https://localhost:8080/",
          "height": 463
        },
        "outputId": "3fc74269-717d-4821-f167-be4c1ac65976"
      },
      "outputs": [
        {
          "output_type": "display_data",
          "data": {
            "text/plain": [
              "<Figure size 720x360 with 0 Axes>"
            ]
          },
          "metadata": {}
        },
        {
          "output_type": "display_data",
          "data": {
            "text/plain": [
              "<Figure size 720x360 with 1 Axes>"
            ],
            "image/svg+xml": "<?xml version=\"1.0\" encoding=\"utf-8\" standalone=\"no\"?>\n<!DOCTYPE svg PUBLIC \"-//W3C//DTD SVG 1.1//EN\"\n  \"http://www.w3.org/Graphics/SVG/1.1/DTD/svg11.dtd\">\n<!-- Created with matplotlib (https://matplotlib.org/) -->\n<svg height=\"317.99625pt\" version=\"1.1\" viewBox=\"0 0 592.125 317.99625\" width=\"592.125pt\" xmlns=\"http://www.w3.org/2000/svg\" xmlns:xlink=\"http://www.w3.org/1999/xlink\">\n <defs>\n  <style type=\"text/css\">\n*{stroke-linecap:butt;stroke-linejoin:round;}\n  </style>\n </defs>\n <g id=\"figure_1\">\n  <g id=\"patch_1\">\n   <path d=\"M 0 317.99625 \nL 592.125 317.99625 \nL 592.125 0 \nL 0 0 \nz\n\" style=\"fill:none;\"/>\n  </g>\n  <g id=\"axes_1\">\n   <g id=\"patch_2\">\n    <path d=\"M 26.925 294.118125 \nL 584.925 294.118125 \nL 584.925 22.318125 \nL 26.925 22.318125 \nz\n\" style=\"fill:#ffffff;\"/>\n   </g>\n   <g id=\"matplotlib.axis_1\">\n    <g id=\"xtick_1\">\n     <g id=\"line2d_1\">\n      <defs>\n       <path d=\"M 0 0 \nL 0 3.5 \n\" id=\"mf2ea65374a\" style=\"stroke:#000000;stroke-width:0.8;\"/>\n      </defs>\n      <g>\n       <use style=\"stroke:#000000;stroke-width:0.8;\" x=\"52.288636\" xlink:href=\"#mf2ea65374a\" y=\"294.118125\"/>\n      </g>\n     </g>\n     <g id=\"text_1\">\n      <!-- 0 -->\n      <defs>\n       <path d=\"M 31.78125 66.40625 \nQ 24.171875 66.40625 20.328125 58.90625 \nQ 16.5 51.421875 16.5 36.375 \nQ 16.5 21.390625 20.328125 13.890625 \nQ 24.171875 6.390625 31.78125 6.390625 \nQ 39.453125 6.390625 43.28125 13.890625 \nQ 47.125 21.390625 47.125 36.375 \nQ 47.125 51.421875 43.28125 58.90625 \nQ 39.453125 66.40625 31.78125 66.40625 \nz\nM 31.78125 74.21875 \nQ 44.046875 74.21875 50.515625 64.515625 \nQ 56.984375 54.828125 56.984375 36.375 \nQ 56.984375 17.96875 50.515625 8.265625 \nQ 44.046875 -1.421875 31.78125 -1.421875 \nQ 19.53125 -1.421875 13.0625 8.265625 \nQ 6.59375 17.96875 6.59375 36.375 \nQ 6.59375 54.828125 13.0625 64.515625 \nQ 19.53125 74.21875 31.78125 74.21875 \nz\n\" id=\"DejaVuSans-48\"/>\n      </defs>\n      <g transform=\"translate(49.107386 308.716563)scale(0.1 -0.1)\">\n       <use xlink:href=\"#DejaVuSans-48\"/>\n      </g>\n     </g>\n    </g>\n    <g id=\"xtick_2\">\n     <g id=\"line2d_2\">\n      <g>\n       <use style=\"stroke:#000000;stroke-width:0.8;\" x=\"173.067857\" xlink:href=\"#mf2ea65374a\" y=\"294.118125\"/>\n      </g>\n     </g>\n     <g id=\"text_2\">\n      <!-- 10 -->\n      <defs>\n       <path d=\"M 12.40625 8.296875 \nL 28.515625 8.296875 \nL 28.515625 63.921875 \nL 10.984375 60.40625 \nL 10.984375 69.390625 \nL 28.421875 72.90625 \nL 38.28125 72.90625 \nL 38.28125 8.296875 \nL 54.390625 8.296875 \nL 54.390625 0 \nL 12.40625 0 \nz\n\" id=\"DejaVuSans-49\"/>\n      </defs>\n      <g transform=\"translate(166.705357 308.716563)scale(0.1 -0.1)\">\n       <use xlink:href=\"#DejaVuSans-49\"/>\n       <use x=\"63.623047\" xlink:href=\"#DejaVuSans-48\"/>\n      </g>\n     </g>\n    </g>\n    <g id=\"xtick_3\">\n     <g id=\"line2d_3\">\n      <g>\n       <use style=\"stroke:#000000;stroke-width:0.8;\" x=\"293.847078\" xlink:href=\"#mf2ea65374a\" y=\"294.118125\"/>\n      </g>\n     </g>\n     <g id=\"text_3\">\n      <!-- 20 -->\n      <defs>\n       <path d=\"M 19.1875 8.296875 \nL 53.609375 8.296875 \nL 53.609375 0 \nL 7.328125 0 \nL 7.328125 8.296875 \nQ 12.9375 14.109375 22.625 23.890625 \nQ 32.328125 33.6875 34.8125 36.53125 \nQ 39.546875 41.84375 41.421875 45.53125 \nQ 43.3125 49.21875 43.3125 52.78125 \nQ 43.3125 58.59375 39.234375 62.25 \nQ 35.15625 65.921875 28.609375 65.921875 \nQ 23.96875 65.921875 18.8125 64.3125 \nQ 13.671875 62.703125 7.8125 59.421875 \nL 7.8125 69.390625 \nQ 13.765625 71.78125 18.9375 73 \nQ 24.125 74.21875 28.421875 74.21875 \nQ 39.75 74.21875 46.484375 68.546875 \nQ 53.21875 62.890625 53.21875 53.421875 \nQ 53.21875 48.921875 51.53125 44.890625 \nQ 49.859375 40.875 45.40625 35.40625 \nQ 44.1875 33.984375 37.640625 27.21875 \nQ 31.109375 20.453125 19.1875 8.296875 \nz\n\" id=\"DejaVuSans-50\"/>\n      </defs>\n      <g transform=\"translate(287.484578 308.716563)scale(0.1 -0.1)\">\n       <use xlink:href=\"#DejaVuSans-50\"/>\n       <use x=\"63.623047\" xlink:href=\"#DejaVuSans-48\"/>\n      </g>\n     </g>\n    </g>\n    <g id=\"xtick_4\">\n     <g id=\"line2d_4\">\n      <g>\n       <use style=\"stroke:#000000;stroke-width:0.8;\" x=\"414.626299\" xlink:href=\"#mf2ea65374a\" y=\"294.118125\"/>\n      </g>\n     </g>\n     <g id=\"text_4\">\n      <!-- 30 -->\n      <defs>\n       <path d=\"M 40.578125 39.3125 \nQ 47.65625 37.796875 51.625 33 \nQ 55.609375 28.21875 55.609375 21.1875 \nQ 55.609375 10.40625 48.1875 4.484375 \nQ 40.765625 -1.421875 27.09375 -1.421875 \nQ 22.515625 -1.421875 17.65625 -0.515625 \nQ 12.796875 0.390625 7.625 2.203125 \nL 7.625 11.71875 \nQ 11.71875 9.328125 16.59375 8.109375 \nQ 21.484375 6.890625 26.8125 6.890625 \nQ 36.078125 6.890625 40.9375 10.546875 \nQ 45.796875 14.203125 45.796875 21.1875 \nQ 45.796875 27.640625 41.28125 31.265625 \nQ 36.765625 34.90625 28.71875 34.90625 \nL 20.21875 34.90625 \nL 20.21875 43.015625 \nL 29.109375 43.015625 \nQ 36.375 43.015625 40.234375 45.921875 \nQ 44.09375 48.828125 44.09375 54.296875 \nQ 44.09375 59.90625 40.109375 62.90625 \nQ 36.140625 65.921875 28.71875 65.921875 \nQ 24.65625 65.921875 20.015625 65.03125 \nQ 15.375 64.15625 9.8125 62.3125 \nL 9.8125 71.09375 \nQ 15.4375 72.65625 20.34375 73.4375 \nQ 25.25 74.21875 29.59375 74.21875 \nQ 40.828125 74.21875 47.359375 69.109375 \nQ 53.90625 64.015625 53.90625 55.328125 \nQ 53.90625 49.265625 50.4375 45.09375 \nQ 46.96875 40.921875 40.578125 39.3125 \nz\n\" id=\"DejaVuSans-51\"/>\n      </defs>\n      <g transform=\"translate(408.263799 308.716563)scale(0.1 -0.1)\">\n       <use xlink:href=\"#DejaVuSans-51\"/>\n       <use x=\"63.623047\" xlink:href=\"#DejaVuSans-48\"/>\n      </g>\n     </g>\n    </g>\n    <g id=\"xtick_5\">\n     <g id=\"line2d_5\">\n      <g>\n       <use style=\"stroke:#000000;stroke-width:0.8;\" x=\"535.405519\" xlink:href=\"#mf2ea65374a\" y=\"294.118125\"/>\n      </g>\n     </g>\n     <g id=\"text_5\">\n      <!-- 40 -->\n      <defs>\n       <path d=\"M 37.796875 64.3125 \nL 12.890625 25.390625 \nL 37.796875 25.390625 \nz\nM 35.203125 72.90625 \nL 47.609375 72.90625 \nL 47.609375 25.390625 \nL 58.015625 25.390625 \nL 58.015625 17.1875 \nL 47.609375 17.1875 \nL 47.609375 0 \nL 37.796875 0 \nL 37.796875 17.1875 \nL 4.890625 17.1875 \nL 4.890625 26.703125 \nz\n\" id=\"DejaVuSans-52\"/>\n      </defs>\n      <g transform=\"translate(529.043019 308.716563)scale(0.1 -0.1)\">\n       <use xlink:href=\"#DejaVuSans-52\"/>\n       <use x=\"63.623047\" xlink:href=\"#DejaVuSans-48\"/>\n      </g>\n     </g>\n    </g>\n   </g>\n   <g id=\"matplotlib.axis_2\">\n    <g id=\"ytick_1\">\n     <g id=\"line2d_6\">\n      <defs>\n       <path d=\"M 0 0 \nL -3.5 0 \n\" id=\"m594805ae81\" style=\"stroke:#000000;stroke-width:0.8;\"/>\n      </defs>\n      <g>\n       <use style=\"stroke:#000000;stroke-width:0.8;\" x=\"26.925\" xlink:href=\"#m594805ae81\" y=\"267.124843\"/>\n      </g>\n     </g>\n     <g id=\"text_6\">\n      <!-- 15 -->\n      <defs>\n       <path d=\"M 10.796875 72.90625 \nL 49.515625 72.90625 \nL 49.515625 64.59375 \nL 19.828125 64.59375 \nL 19.828125 46.734375 \nQ 21.96875 47.46875 24.109375 47.828125 \nQ 26.265625 48.1875 28.421875 48.1875 \nQ 40.625 48.1875 47.75 41.5 \nQ 54.890625 34.8125 54.890625 23.390625 \nQ 54.890625 11.625 47.5625 5.09375 \nQ 40.234375 -1.421875 26.90625 -1.421875 \nQ 22.3125 -1.421875 17.546875 -0.640625 \nQ 12.796875 0.140625 7.71875 1.703125 \nL 7.71875 11.625 \nQ 12.109375 9.234375 16.796875 8.0625 \nQ 21.484375 6.890625 26.703125 6.890625 \nQ 35.15625 6.890625 40.078125 11.328125 \nQ 45.015625 15.765625 45.015625 23.390625 \nQ 45.015625 31 40.078125 35.4375 \nQ 35.15625 39.890625 26.703125 39.890625 \nQ 22.75 39.890625 18.8125 39.015625 \nQ 14.890625 38.140625 10.796875 36.28125 \nz\n\" id=\"DejaVuSans-53\"/>\n      </defs>\n      <g transform=\"translate(7.2 270.924062)scale(0.1 -0.1)\">\n       <use xlink:href=\"#DejaVuSans-49\"/>\n       <use x=\"63.623047\" xlink:href=\"#DejaVuSans-53\"/>\n      </g>\n     </g>\n    </g>\n    <g id=\"ytick_2\">\n     <g id=\"line2d_7\">\n      <g>\n       <use style=\"stroke:#000000;stroke-width:0.8;\" x=\"26.925\" xlink:href=\"#m594805ae81\" y=\"212.64167\"/>\n      </g>\n     </g>\n     <g id=\"text_7\">\n      <!-- 20 -->\n      <g transform=\"translate(7.2 216.440889)scale(0.1 -0.1)\">\n       <use xlink:href=\"#DejaVuSans-50\"/>\n       <use x=\"63.623047\" xlink:href=\"#DejaVuSans-48\"/>\n      </g>\n     </g>\n    </g>\n    <g id=\"ytick_3\">\n     <g id=\"line2d_8\">\n      <g>\n       <use style=\"stroke:#000000;stroke-width:0.8;\" x=\"26.925\" xlink:href=\"#m594805ae81\" y=\"158.158497\"/>\n      </g>\n     </g>\n     <g id=\"text_8\">\n      <!-- 25 -->\n      <g transform=\"translate(7.2 161.957715)scale(0.1 -0.1)\">\n       <use xlink:href=\"#DejaVuSans-50\"/>\n       <use x=\"63.623047\" xlink:href=\"#DejaVuSans-53\"/>\n      </g>\n     </g>\n    </g>\n    <g id=\"ytick_4\">\n     <g id=\"line2d_9\">\n      <g>\n       <use style=\"stroke:#000000;stroke-width:0.8;\" x=\"26.925\" xlink:href=\"#m594805ae81\" y=\"103.675323\"/>\n      </g>\n     </g>\n     <g id=\"text_9\">\n      <!-- 30 -->\n      <g transform=\"translate(7.2 107.474542)scale(0.1 -0.1)\">\n       <use xlink:href=\"#DejaVuSans-51\"/>\n       <use x=\"63.623047\" xlink:href=\"#DejaVuSans-48\"/>\n      </g>\n     </g>\n    </g>\n    <g id=\"ytick_5\">\n     <g id=\"line2d_10\">\n      <g>\n       <use style=\"stroke:#000000;stroke-width:0.8;\" x=\"26.925\" xlink:href=\"#m594805ae81\" y=\"49.19215\"/>\n      </g>\n     </g>\n     <g id=\"text_10\">\n      <!-- 35 -->\n      <g transform=\"translate(7.2 52.991369)scale(0.1 -0.1)\">\n       <use xlink:href=\"#DejaVuSans-51\"/>\n       <use x=\"63.623047\" xlink:href=\"#DejaVuSans-53\"/>\n      </g>\n     </g>\n    </g>\n   </g>\n   <g id=\"line2d_11\">\n    <path clip-path=\"url(#pc7b106bc65)\" d=\"M 52.288636 34.67267 \nL 64.366558 231.292758 \nL 76.444481 244.726083 \nL 88.522403 247.28896 \nL 100.600325 255.02872 \nL 112.678247 263.817702 \nL 124.756169 265.392274 \nL 136.834091 268.985928 \nL 148.912013 270.492018 \nL 160.989935 273.431256 \nL 173.067857 274.037153 \nL 185.145779 274.514928 \nL 197.223701 275.940865 \nL 209.301623 276.59977 \nL 221.379545 278.606549 \nL 233.457468 279.32476 \nL 245.53539 279.833056 \nL 257.613312 281.326187 \nL 269.691234 280.176517 \nL 281.769156 280.533684 \nL 293.847078 281.064832 \nL 305.925 281.072138 \nL 318.002922 281.535063 \nL 330.080844 281.055947 \nL 342.158766 281.222643 \nL 354.236688 280.095783 \nL 366.31461 281.299418 \nL 378.392532 281.724943 \nL 390.470455 281.527352 \nL 402.548377 281.592301 \nL 414.626299 281.385327 \nL 426.704221 281.692312 \nL 438.782143 281.11356 \nL 450.860065 281.081314 \nL 462.937987 281.76358 \nL 475.015909 281.563932 \nL 487.093831 281.165747 \nL 499.171753 281.043176 \nL 511.249675 281.684051 \nL 523.327597 281.053754 \nL 535.405519 281.591657 \nL 547.483442 281.691491 \nL 559.561364 281.395397 \n\" style=\"fill:none;stroke:#0000ff;stroke-linecap:square;stroke-width:1.5;\"/>\n   </g>\n   <g id=\"line2d_12\">\n    <path clip-path=\"url(#pc7b106bc65)\" d=\"M 52.288636 205.876436 \nL 64.366558 221.879538 \nL 76.444481 251.968593 \nL 88.522403 248.336042 \nL 100.600325 249.823676 \nL 112.678247 266.325939 \nL 124.756169 265.232801 \nL 136.834091 255.916266 \nL 148.912013 255.728652 \nL 160.989935 266.989604 \nL 173.067857 266.819624 \nL 185.145779 261.294667 \nL 197.223701 266.261364 \nL 209.301623 261.393826 \nL 221.379545 267.965979 \nL 233.457468 267.902537 \nL 245.53539 267.961584 \nL 257.613312 269.698372 \nL 269.691234 269.149205 \nL 281.769156 266.230002 \nL 293.847078 267.883551 \nL 305.925 267.855971 \nL 318.002922 268.054549 \nL 330.080844 268.652932 \nL 342.158766 267.047777 \nL 354.236688 267.519889 \nL 366.31461 267.831873 \nL 378.392532 267.713125 \nL 390.470455 268.042661 \nL 402.548377 267.759192 \nL 414.626299 267.551064 \nL 426.704221 267.803794 \nL 438.782143 267.928382 \nL 450.860065 267.768285 \nL 462.937987 267.786876 \nL 475.015909 267.797881 \nL 487.093831 267.785494 \nL 499.171753 267.744457 \nL 511.249675 267.721875 \nL 523.327597 267.735197 \nL 535.405519 267.742305 \nL 547.483442 267.732755 \nL 559.561364 267.731186 \n\" style=\"fill:none;stroke:#008000;stroke-linecap:square;stroke-width:1.5;\"/>\n   </g>\n   <g id=\"patch_3\">\n    <path d=\"M 26.925 294.118125 \nL 26.925 22.318125 \n\" style=\"fill:none;stroke:#000000;stroke-linecap:square;stroke-linejoin:miter;stroke-width:0.8;\"/>\n   </g>\n   <g id=\"patch_4\">\n    <path d=\"M 584.925 294.118125 \nL 584.925 22.318125 \n\" style=\"fill:none;stroke:#000000;stroke-linecap:square;stroke-linejoin:miter;stroke-width:0.8;\"/>\n   </g>\n   <g id=\"patch_5\">\n    <path d=\"M 26.925 294.118125 \nL 584.925 294.118125 \n\" style=\"fill:none;stroke:#000000;stroke-linecap:square;stroke-linejoin:miter;stroke-width:0.8;\"/>\n   </g>\n   <g id=\"patch_6\">\n    <path d=\"M 26.925 22.318125 \nL 584.925 22.318125 \n\" style=\"fill:none;stroke:#000000;stroke-linecap:square;stroke-linejoin:miter;stroke-width:0.8;\"/>\n   </g>\n   <g id=\"text_11\">\n    <!-- Training and validation accuracy -->\n    <defs>\n     <path d=\"M -0.296875 72.90625 \nL 61.375 72.90625 \nL 61.375 64.59375 \nL 35.5 64.59375 \nL 35.5 0 \nL 25.59375 0 \nL 25.59375 64.59375 \nL -0.296875 64.59375 \nz\n\" id=\"DejaVuSans-84\"/>\n     <path d=\"M 41.109375 46.296875 \nQ 39.59375 47.171875 37.8125 47.578125 \nQ 36.03125 48 33.890625 48 \nQ 26.265625 48 22.1875 43.046875 \nQ 18.109375 38.09375 18.109375 28.8125 \nL 18.109375 0 \nL 9.078125 0 \nL 9.078125 54.6875 \nL 18.109375 54.6875 \nL 18.109375 46.1875 \nQ 20.953125 51.171875 25.484375 53.578125 \nQ 30.03125 56 36.53125 56 \nQ 37.453125 56 38.578125 55.875 \nQ 39.703125 55.765625 41.0625 55.515625 \nz\n\" id=\"DejaVuSans-114\"/>\n     <path d=\"M 34.28125 27.484375 \nQ 23.390625 27.484375 19.1875 25 \nQ 14.984375 22.515625 14.984375 16.5 \nQ 14.984375 11.71875 18.140625 8.90625 \nQ 21.296875 6.109375 26.703125 6.109375 \nQ 34.1875 6.109375 38.703125 11.40625 \nQ 43.21875 16.703125 43.21875 25.484375 \nL 43.21875 27.484375 \nz\nM 52.203125 31.203125 \nL 52.203125 0 \nL 43.21875 0 \nL 43.21875 8.296875 \nQ 40.140625 3.328125 35.546875 0.953125 \nQ 30.953125 -1.421875 24.3125 -1.421875 \nQ 15.921875 -1.421875 10.953125 3.296875 \nQ 6 8.015625 6 15.921875 \nQ 6 25.140625 12.171875 29.828125 \nQ 18.359375 34.515625 30.609375 34.515625 \nL 43.21875 34.515625 \nL 43.21875 35.40625 \nQ 43.21875 41.609375 39.140625 45 \nQ 35.0625 48.390625 27.6875 48.390625 \nQ 23 48.390625 18.546875 47.265625 \nQ 14.109375 46.140625 10.015625 43.890625 \nL 10.015625 52.203125 \nQ 14.9375 54.109375 19.578125 55.046875 \nQ 24.21875 56 28.609375 56 \nQ 40.484375 56 46.34375 49.84375 \nQ 52.203125 43.703125 52.203125 31.203125 \nz\n\" id=\"DejaVuSans-97\"/>\n     <path d=\"M 9.421875 54.6875 \nL 18.40625 54.6875 \nL 18.40625 0 \nL 9.421875 0 \nz\nM 9.421875 75.984375 \nL 18.40625 75.984375 \nL 18.40625 64.59375 \nL 9.421875 64.59375 \nz\n\" id=\"DejaVuSans-105\"/>\n     <path d=\"M 54.890625 33.015625 \nL 54.890625 0 \nL 45.90625 0 \nL 45.90625 32.71875 \nQ 45.90625 40.484375 42.875 44.328125 \nQ 39.84375 48.1875 33.796875 48.1875 \nQ 26.515625 48.1875 22.3125 43.546875 \nQ 18.109375 38.921875 18.109375 30.90625 \nL 18.109375 0 \nL 9.078125 0 \nL 9.078125 54.6875 \nL 18.109375 54.6875 \nL 18.109375 46.1875 \nQ 21.34375 51.125 25.703125 53.5625 \nQ 30.078125 56 35.796875 56 \nQ 45.21875 56 50.046875 50.171875 \nQ 54.890625 44.34375 54.890625 33.015625 \nz\n\" id=\"DejaVuSans-110\"/>\n     <path d=\"M 45.40625 27.984375 \nQ 45.40625 37.75 41.375 43.109375 \nQ 37.359375 48.484375 30.078125 48.484375 \nQ 22.859375 48.484375 18.828125 43.109375 \nQ 14.796875 37.75 14.796875 27.984375 \nQ 14.796875 18.265625 18.828125 12.890625 \nQ 22.859375 7.515625 30.078125 7.515625 \nQ 37.359375 7.515625 41.375 12.890625 \nQ 45.40625 18.265625 45.40625 27.984375 \nz\nM 54.390625 6.78125 \nQ 54.390625 -7.171875 48.1875 -13.984375 \nQ 42 -20.796875 29.203125 -20.796875 \nQ 24.46875 -20.796875 20.265625 -20.09375 \nQ 16.0625 -19.390625 12.109375 -17.921875 \nL 12.109375 -9.1875 \nQ 16.0625 -11.328125 19.921875 -12.34375 \nQ 23.78125 -13.375 27.78125 -13.375 \nQ 36.625 -13.375 41.015625 -8.765625 \nQ 45.40625 -4.15625 45.40625 5.171875 \nL 45.40625 9.625 \nQ 42.625 4.78125 38.28125 2.390625 \nQ 33.9375 0 27.875 0 \nQ 17.828125 0 11.671875 7.65625 \nQ 5.515625 15.328125 5.515625 27.984375 \nQ 5.515625 40.671875 11.671875 48.328125 \nQ 17.828125 56 27.875 56 \nQ 33.9375 56 38.28125 53.609375 \nQ 42.625 51.21875 45.40625 46.390625 \nL 45.40625 54.6875 \nL 54.390625 54.6875 \nz\n\" id=\"DejaVuSans-103\"/>\n     <path id=\"DejaVuSans-32\"/>\n     <path d=\"M 45.40625 46.390625 \nL 45.40625 75.984375 \nL 54.390625 75.984375 \nL 54.390625 0 \nL 45.40625 0 \nL 45.40625 8.203125 \nQ 42.578125 3.328125 38.25 0.953125 \nQ 33.9375 -1.421875 27.875 -1.421875 \nQ 17.96875 -1.421875 11.734375 6.484375 \nQ 5.515625 14.40625 5.515625 27.296875 \nQ 5.515625 40.1875 11.734375 48.09375 \nQ 17.96875 56 27.875 56 \nQ 33.9375 56 38.25 53.625 \nQ 42.578125 51.265625 45.40625 46.390625 \nz\nM 14.796875 27.296875 \nQ 14.796875 17.390625 18.875 11.75 \nQ 22.953125 6.109375 30.078125 6.109375 \nQ 37.203125 6.109375 41.296875 11.75 \nQ 45.40625 17.390625 45.40625 27.296875 \nQ 45.40625 37.203125 41.296875 42.84375 \nQ 37.203125 48.484375 30.078125 48.484375 \nQ 22.953125 48.484375 18.875 42.84375 \nQ 14.796875 37.203125 14.796875 27.296875 \nz\n\" id=\"DejaVuSans-100\"/>\n     <path d=\"M 2.984375 54.6875 \nL 12.5 54.6875 \nL 29.59375 8.796875 \nL 46.6875 54.6875 \nL 56.203125 54.6875 \nL 35.6875 0 \nL 23.484375 0 \nz\n\" id=\"DejaVuSans-118\"/>\n     <path d=\"M 9.421875 75.984375 \nL 18.40625 75.984375 \nL 18.40625 0 \nL 9.421875 0 \nz\n\" id=\"DejaVuSans-108\"/>\n     <path d=\"M 18.3125 70.21875 \nL 18.3125 54.6875 \nL 36.8125 54.6875 \nL 36.8125 47.703125 \nL 18.3125 47.703125 \nL 18.3125 18.015625 \nQ 18.3125 11.328125 20.140625 9.421875 \nQ 21.96875 7.515625 27.59375 7.515625 \nL 36.8125 7.515625 \nL 36.8125 0 \nL 27.59375 0 \nQ 17.1875 0 13.234375 3.875 \nQ 9.28125 7.765625 9.28125 18.015625 \nL 9.28125 47.703125 \nL 2.6875 47.703125 \nL 2.6875 54.6875 \nL 9.28125 54.6875 \nL 9.28125 70.21875 \nz\n\" id=\"DejaVuSans-116\"/>\n     <path d=\"M 30.609375 48.390625 \nQ 23.390625 48.390625 19.1875 42.75 \nQ 14.984375 37.109375 14.984375 27.296875 \nQ 14.984375 17.484375 19.15625 11.84375 \nQ 23.34375 6.203125 30.609375 6.203125 \nQ 37.796875 6.203125 41.984375 11.859375 \nQ 46.1875 17.53125 46.1875 27.296875 \nQ 46.1875 37.015625 41.984375 42.703125 \nQ 37.796875 48.390625 30.609375 48.390625 \nz\nM 30.609375 56 \nQ 42.328125 56 49.015625 48.375 \nQ 55.71875 40.765625 55.71875 27.296875 \nQ 55.71875 13.875 49.015625 6.21875 \nQ 42.328125 -1.421875 30.609375 -1.421875 \nQ 18.84375 -1.421875 12.171875 6.21875 \nQ 5.515625 13.875 5.515625 27.296875 \nQ 5.515625 40.765625 12.171875 48.375 \nQ 18.84375 56 30.609375 56 \nz\n\" id=\"DejaVuSans-111\"/>\n     <path d=\"M 48.78125 52.59375 \nL 48.78125 44.1875 \nQ 44.96875 46.296875 41.140625 47.34375 \nQ 37.3125 48.390625 33.40625 48.390625 \nQ 24.65625 48.390625 19.8125 42.84375 \nQ 14.984375 37.3125 14.984375 27.296875 \nQ 14.984375 17.28125 19.8125 11.734375 \nQ 24.65625 6.203125 33.40625 6.203125 \nQ 37.3125 6.203125 41.140625 7.25 \nQ 44.96875 8.296875 48.78125 10.40625 \nL 48.78125 2.09375 \nQ 45.015625 0.34375 40.984375 -0.53125 \nQ 36.96875 -1.421875 32.421875 -1.421875 \nQ 20.0625 -1.421875 12.78125 6.34375 \nQ 5.515625 14.109375 5.515625 27.296875 \nQ 5.515625 40.671875 12.859375 48.328125 \nQ 20.21875 56 33.015625 56 \nQ 37.15625 56 41.109375 55.140625 \nQ 45.0625 54.296875 48.78125 52.59375 \nz\n\" id=\"DejaVuSans-99\"/>\n     <path d=\"M 8.5 21.578125 \nL 8.5 54.6875 \nL 17.484375 54.6875 \nL 17.484375 21.921875 \nQ 17.484375 14.15625 20.5 10.265625 \nQ 23.53125 6.390625 29.59375 6.390625 \nQ 36.859375 6.390625 41.078125 11.03125 \nQ 45.3125 15.671875 45.3125 23.6875 \nL 45.3125 54.6875 \nL 54.296875 54.6875 \nL 54.296875 0 \nL 45.3125 0 \nL 45.3125 8.40625 \nQ 42.046875 3.421875 37.71875 1 \nQ 33.40625 -1.421875 27.6875 -1.421875 \nQ 18.265625 -1.421875 13.375 4.4375 \nQ 8.5 10.296875 8.5 21.578125 \nz\nM 31.109375 56 \nz\n\" id=\"DejaVuSans-117\"/>\n     <path d=\"M 32.171875 -5.078125 \nQ 28.375 -14.84375 24.75 -17.8125 \nQ 21.140625 -20.796875 15.09375 -20.796875 \nL 7.90625 -20.796875 \nL 7.90625 -13.28125 \nL 13.1875 -13.28125 \nQ 16.890625 -13.28125 18.9375 -11.515625 \nQ 21 -9.765625 23.484375 -3.21875 \nL 25.09375 0.875 \nL 2.984375 54.6875 \nL 12.5 54.6875 \nL 29.59375 11.921875 \nL 46.6875 54.6875 \nL 56.203125 54.6875 \nz\n\" id=\"DejaVuSans-121\"/>\n    </defs>\n    <g transform=\"translate(208.633125 16.318125)scale(0.12 -0.12)\">\n     <use xlink:href=\"#DejaVuSans-84\"/>\n     <use x=\"46.333984\" xlink:href=\"#DejaVuSans-114\"/>\n     <use x=\"87.447266\" xlink:href=\"#DejaVuSans-97\"/>\n     <use x=\"148.726562\" xlink:href=\"#DejaVuSans-105\"/>\n     <use x=\"176.509766\" xlink:href=\"#DejaVuSans-110\"/>\n     <use x=\"239.888672\" xlink:href=\"#DejaVuSans-105\"/>\n     <use x=\"267.671875\" xlink:href=\"#DejaVuSans-110\"/>\n     <use x=\"331.050781\" xlink:href=\"#DejaVuSans-103\"/>\n     <use x=\"394.527344\" xlink:href=\"#DejaVuSans-32\"/>\n     <use x=\"426.314453\" xlink:href=\"#DejaVuSans-97\"/>\n     <use x=\"487.59375\" xlink:href=\"#DejaVuSans-110\"/>\n     <use x=\"550.972656\" xlink:href=\"#DejaVuSans-100\"/>\n     <use x=\"614.449219\" xlink:href=\"#DejaVuSans-32\"/>\n     <use x=\"646.236328\" xlink:href=\"#DejaVuSans-118\"/>\n     <use x=\"705.416016\" xlink:href=\"#DejaVuSans-97\"/>\n     <use x=\"766.695312\" xlink:href=\"#DejaVuSans-108\"/>\n     <use x=\"794.478516\" xlink:href=\"#DejaVuSans-105\"/>\n     <use x=\"822.261719\" xlink:href=\"#DejaVuSans-100\"/>\n     <use x=\"885.738281\" xlink:href=\"#DejaVuSans-97\"/>\n     <use x=\"947.017578\" xlink:href=\"#DejaVuSans-116\"/>\n     <use x=\"986.226562\" xlink:href=\"#DejaVuSans-105\"/>\n     <use x=\"1014.009766\" xlink:href=\"#DejaVuSans-111\"/>\n     <use x=\"1075.191406\" xlink:href=\"#DejaVuSans-110\"/>\n     <use x=\"1138.570312\" xlink:href=\"#DejaVuSans-32\"/>\n     <use x=\"1170.357422\" xlink:href=\"#DejaVuSans-97\"/>\n     <use x=\"1231.636719\" xlink:href=\"#DejaVuSans-99\"/>\n     <use x=\"1286.617188\" xlink:href=\"#DejaVuSans-99\"/>\n     <use x=\"1341.597656\" xlink:href=\"#DejaVuSans-117\"/>\n     <use x=\"1404.976562\" xlink:href=\"#DejaVuSans-114\"/>\n     <use x=\"1446.089844\" xlink:href=\"#DejaVuSans-97\"/>\n     <use x=\"1507.369141\" xlink:href=\"#DejaVuSans-99\"/>\n     <use x=\"1562.349609\" xlink:href=\"#DejaVuSans-121\"/>\n    </g>\n   </g>\n   <g id=\"legend_1\">\n    <g id=\"patch_7\">\n     <path d=\"M 476.240625 59.674375 \nL 577.925 59.674375 \nQ 579.925 59.674375 579.925 57.674375 \nL 579.925 29.318125 \nQ 579.925 27.318125 577.925 27.318125 \nL 476.240625 27.318125 \nQ 474.240625 27.318125 474.240625 29.318125 \nL 474.240625 57.674375 \nQ 474.240625 59.674375 476.240625 59.674375 \nz\n\" style=\"fill:#ffffff;opacity:0.8;stroke:#cccccc;stroke-linejoin:miter;\"/>\n    </g>\n    <g id=\"line2d_13\">\n     <path d=\"M 478.240625 35.416562 \nL 498.240625 35.416562 \n\" style=\"fill:none;stroke:#0000ff;stroke-linecap:square;stroke-width:1.5;\"/>\n    </g>\n    <g id=\"line2d_14\"/>\n    <g id=\"text_12\">\n     <!-- Training acc -->\n     <g transform=\"translate(506.240625 38.916562)scale(0.1 -0.1)\">\n      <use xlink:href=\"#DejaVuSans-84\"/>\n      <use x=\"46.333984\" xlink:href=\"#DejaVuSans-114\"/>\n      <use x=\"87.447266\" xlink:href=\"#DejaVuSans-97\"/>\n      <use x=\"148.726562\" xlink:href=\"#DejaVuSans-105\"/>\n      <use x=\"176.509766\" xlink:href=\"#DejaVuSans-110\"/>\n      <use x=\"239.888672\" xlink:href=\"#DejaVuSans-105\"/>\n      <use x=\"267.671875\" xlink:href=\"#DejaVuSans-110\"/>\n      <use x=\"331.050781\" xlink:href=\"#DejaVuSans-103\"/>\n      <use x=\"394.527344\" xlink:href=\"#DejaVuSans-32\"/>\n      <use x=\"426.314453\" xlink:href=\"#DejaVuSans-97\"/>\n      <use x=\"487.59375\" xlink:href=\"#DejaVuSans-99\"/>\n      <use x=\"542.574219\" xlink:href=\"#DejaVuSans-99\"/>\n     </g>\n    </g>\n    <g id=\"line2d_15\">\n     <path d=\"M 478.240625 50.094688 \nL 498.240625 50.094688 \n\" style=\"fill:none;stroke:#008000;stroke-linecap:square;stroke-width:1.5;\"/>\n    </g>\n    <g id=\"line2d_16\"/>\n    <g id=\"text_13\">\n     <!-- Validation acc -->\n     <defs>\n      <path d=\"M 28.609375 0 \nL 0.78125 72.90625 \nL 11.078125 72.90625 \nL 34.1875 11.53125 \nL 57.328125 72.90625 \nL 67.578125 72.90625 \nL 39.796875 0 \nz\n\" id=\"DejaVuSans-86\"/>\n     </defs>\n     <g transform=\"translate(506.240625 53.594688)scale(0.1 -0.1)\">\n      <use xlink:href=\"#DejaVuSans-86\"/>\n      <use x=\"60.658203\" xlink:href=\"#DejaVuSans-97\"/>\n      <use x=\"121.9375\" xlink:href=\"#DejaVuSans-108\"/>\n      <use x=\"149.720703\" xlink:href=\"#DejaVuSans-105\"/>\n      <use x=\"177.503906\" xlink:href=\"#DejaVuSans-100\"/>\n      <use x=\"240.980469\" xlink:href=\"#DejaVuSans-97\"/>\n      <use x=\"302.259766\" xlink:href=\"#DejaVuSans-116\"/>\n      <use x=\"341.46875\" xlink:href=\"#DejaVuSans-105\"/>\n      <use x=\"369.251953\" xlink:href=\"#DejaVuSans-111\"/>\n      <use x=\"430.433594\" xlink:href=\"#DejaVuSans-110\"/>\n      <use x=\"493.8125\" xlink:href=\"#DejaVuSans-32\"/>\n      <use x=\"525.599609\" xlink:href=\"#DejaVuSans-97\"/>\n      <use x=\"586.878906\" xlink:href=\"#DejaVuSans-99\"/>\n      <use x=\"641.859375\" xlink:href=\"#DejaVuSans-99\"/>\n     </g>\n    </g>\n   </g>\n  </g>\n </g>\n <defs>\n  <clipPath id=\"pc7b106bc65\">\n   <rect height=\"271.8\" width=\"558\" x=\"26.925\" y=\"22.318125\"/>\n  </clipPath>\n </defs>\n</svg>\n"
          },
          "metadata": {
            "needs_background": "light"
          }
        }
      ],
      "source": [
        "plot_history(history)"
      ]
    },
    {
      "cell_type": "markdown",
      "source": [
        "![image.png](data:image/png;base64,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)"
      ],
      "metadata": {
        "id": "_AEjSkWanwpi"
      }
    },
    {
      "cell_type": "code",
      "execution_count": 52,
      "metadata": {
        "id": "I8Mng5I2srT6"
      },
      "outputs": [],
      "source": [
        "model_mi = make_save(model_mi, file_name)"
      ]
    },
    {
      "cell_type": "markdown",
      "metadata": {
        "id": "sguvIwi2srT7"
      },
      "source": [
        "### Валидация"
      ]
    },
    {
      "cell_type": "code",
      "execution_count": null,
      "metadata": {
        "id": "7795fmcZsrT7"
      },
      "outputs": [],
      "source": [
        "predict_mi = model_mi.predict([text_test_sequences, X_test])\n",
        "print(f\"TEST mape: {(mape(y_test, predict_mi[:,0]))*100:0.2f}%\")"
      ]
    },
    {
      "cell_type": "markdown",
      "source": [
        "![image.png](data:image/png;base64,iVBORw0KGgoAAAANSUhEUgAAALgAAAAfCAYAAABUKgeRAAAAAXNSR0IArs4c6QAAAARnQU1BAACxjwv8YQUAAAAJcEhZcwAADsMAAA7DAcdvqGQAAASVSURBVHhe7ZtNKHVbGMfXvTOS8jUw0itGSpIipQwkKSSlDExIBigDwoAxMRAmMmCmTHwOJANlQiGRgYgMJPkqiuG99/fcvU7b13uO+57t7az7/Gq1z1prr3X2fvZ//dezT50//voHoyiO8qd3VBQnUYErTqMCV5xGBa44jQpccRoVuOI0KnDFaVTgitOowJUQLy8vprOz02RmZsqROszNzZmhoSH5HGuEFfj29rbc8NtSW1tr7u/vXwXFXxhnIUD+Phu8cHO7zunpqSkpKflUPDa2nMO5kWLntfH0Pws/fK+//+DgQI47OztypM5cq6urpqWlRdpijbACLywsNGdnZ+bo6MhUV1ebwcFBqc/Pz5vk5GTvLGNmZ2el3RbGAcGjj6DZvtHRURMXFxfx3C7Cop+YmDClpaVey3uWl5flmJ2dLcdIwBi6u7vNyMiIxHJtbU3i+naB8FyOj4/ffX96ero8G3h+fpZrbG1tjdnnEXiKsrGxYYqKiqIeINytv7/fzMzMiAvhRm8dCfy7h98J7XjOZceg/+3OQd9HY/3wnV/dcZjn5uZGFnpCQoLX+hrOwRgaGhq8lshYX183GRkZJjc3V+pZWVkS/729PakD14roGxsbTWJiotdqZMzV1ZXJycmR+sXFhQjemlUsErjAcYjJyclPt+Ff4enpyezv75uFhQWzsrJifvz4IQ+ORQWIBAHZnaOjo0McCXED47u6uszw8LD0I4SpqSnpYyxz4YD04Yg4YzRSJ0TX1tbm1d7D9XGdiPsr7m3xuzAQl/Pzc69m5B65V4ofxrDouN+BgQGJbaymJpaoCZyH8ZHbsfpJT7a2tj50yV+F742PjxchlJWVea3/gpAqKyu9mjH5+fnm8fExJHBAuJwHLEYcjH4cj7ltH+6GM56cnEjd0tPTE/WUyubCVVVVcvwK3COxtvHnOD4+Lp+BOqlJOOGyCIqLi2M+VYyawP05+ObmZkgYQJAQgXXJmpqa0AMIEoTqfwEuLy83Dw8PXu/HsC0zDsfr7e0NjWXbXlpa8s4KDhY/O157e/srF44U4s7C5F65bnaC5uZmcXG7M4TLqUnNWOhpaWmh+yfVi0UCT1HegnOkpqaau7s7ryU4xsbG5MhLLIuLdCMpKUnaPgOXtsKyL73+EnQ+yg5BimUFWlBQEKpHmubV19eHrpeU4/r6Wu7r8vLS7O7uhnZbu2ip21+27AJramoyi4uLYlzE7fDwUPpjjW8XOA/w9vbWpKSkeC3BYvNR616fObh98WJb5nzSFbb2cDvNf3nJ/Bn2lyVbSO+4FkRGOmThukgFrTA/wy4K5sXd2V3t3PbXK0Rsf9kiNamoqHiV+2NGvK/EIoHk4BS2OQLvTxEovNRNT0+/SmGCoq6uTl4++V7cKi8v752D2+vGKfmM+wGCID+3TkqJlpCZg7mYE7ek8DkaL+L+uSmkJv6F8TNsakLuj9iJh7/YnS2W+N/+ZY3F19fXJw8u6LRD+X18e4qiKN+JClxxGv1XveI06uCK06jAFadRgStOowJXnEYFrjiNClxxGhW44jQqcMVhjPkbVTyxRnRXXcwAAAAASUVORK5CYII=)"
      ],
      "metadata": {
        "id": "qnZ7fuk8oKQH"
      }
    },
    {
      "cell_type": "markdown",
      "metadata": {
        "id": "nvRn1Z7csrT7"
      },
      "source": [
        "### Submission"
      ]
    },
    {
      "cell_type": "code",
      "execution_count": null,
      "metadata": {
        "id": "ZrRYThkysrT8"
      },
      "outputs": [],
      "source": [
        "sample_submission = make_sub(model_mi, sample_submission, \n",
        "                             [text_sub_sequences, sub], \n",
        "                             'mi_submission.csv')"
      ]
    },
    {
      "cell_type": "markdown",
      "source": [
        "### Промежуточный вывод"
      ],
      "metadata": {
        "id": "zyNCm2TSxLPN"
      }
    },
    {
      "cell_type": "code",
      "source": [
        "raise KeyboardInterrupt"
      ],
      "metadata": {
        "id": "agRmHw2qQ8AI",
        "colab": {
          "base_uri": "https://localhost:8080/",
          "height": 165
        },
        "outputId": "30936412-4e24-4898-fc73-c4fbdfd071a9"
      },
      "execution_count": 56,
      "outputs": [
        {
          "output_type": "error",
          "ename": "RuntimeError",
          "evalue": "ignored",
          "traceback": [
            "\u001b[0;31m---------------------------------------------------------------------------\u001b[0m",
            "\u001b[0;31mRuntimeError\u001b[0m                              Traceback (most recent call last)",
            "\u001b[0;32m<ipython-input-56-9c9a2cba73bf>\u001b[0m in \u001b[0;36m<module>\u001b[0;34m()\u001b[0m\n\u001b[0;32m----> 1\u001b[0;31m \u001b[0;32mraise\u001b[0m\u001b[0;34m\u001b[0m\u001b[0;34m\u001b[0m\u001b[0m\n\u001b[0m",
            "\u001b[0;31mRuntimeError\u001b[0m: No active exception to reraise"
          ]
        }
      ]
    },
    {
      "cell_type": "markdown",
      "metadata": {
        "id": "hgFodqphsrT8"
      },
      "source": [
        "# Model 5: NLP+MLP+EffNetB6 Multi Input NN"
      ]
    },
    {
      "cell_type": "markdown",
      "metadata": {
        "id": "N-wQQlqVsrT8"
      },
      "source": [
        "### Подгружаем изображения"
      ]
    },
    {
      "cell_type": "code",
      "execution_count": null,
      "metadata": {
        "id": "6Ao2W7eesrT9"
      },
      "outputs": [],
      "source": [
        "# Укажем размер выводимого изображения\n",
        "plt.figure(figsize=(10, 6))\n",
        "# 9 случайных примеров из train\n",
        "random_image = train.sample(n=9)\n",
        "random_image_paths = random_image['sell_id'].values\n",
        "random_image_cat = random_image['price'].values\n",
        "# выведем 9 изображений автомобилей и цен к ним\n",
        "for index, path in enumerate(random_image_paths):\n",
        "    im = PIL.Image.open(DATA_DIR+'img/img/' + str(path) + '.jpg')\n",
        "    plt.subplot(3, 3, index + 1)\n",
        "    plt.imshow(im)\n",
        "    plt.title('price: ' + str(random_image_cat[index]))\n",
        "    plt.axis('off')\n",
        "plt.show()"
      ]
    },
    {
      "cell_type": "markdown",
      "metadata": {
        "id": "U8qM3FVosrT-"
      },
      "source": [
        "Как видно, все вывелось корректно, никаких нареканий не имеется. Теперь загрузим все имеющиеся изображения с форматом 320х240:"
      ]
    },
    {
      "cell_type": "code",
      "execution_count": null,
      "metadata": {
        "id": "BzeTx9pasrT-"
      },
      "outputs": [],
      "source": [
        "# Установим размер изображения\n",
        "size = (320, 240)\n",
        "\n",
        "# функция для загрузки изображений\n",
        "def get_image_array(index):\n",
        "    images_set = []\n",
        "    for index, sell_id in enumerate(data['sell_id'].iloc[index].values):\n",
        "        image = cv2.imread(DATA_DIR + 'img/img/' + str(sell_id) + '.jpg')\n",
        "        assert(image is not None)\n",
        "        image = cv2.resize(image, size)  # изменение размера\n",
        "        images_set.append(image)  # добавляем изображение в массив\n",
        "    images_set = np.array(images_set)\n",
        "    print('images shape', images_set.shape, 'dtype', images_set.dtype)\n",
        "    return(images_set)\n",
        "\n",
        "\n",
        "# применим функцию для создания выборок\n",
        "images_train = get_image_array(X_train.index)\n",
        "images_test = get_image_array(X_test.index)\n",
        "images_sub = get_image_array(X_sub.index)"
      ]
    },
    {
      "cell_type": "markdown",
      "metadata": {
        "id": "92wRLgsysrT-"
      },
      "source": [
        "### Аугментация"
      ]
    },
    {
      "cell_type": "markdown",
      "metadata": {
        "id": "-ciwr5rgsrT_"
      },
      "source": [
        "Настройки, которые я использую для аугментации изображений, взяты из моего проекта [Ford vs Ferrari](https://www.kaggle.com/alexfoncrow/dst45-47-car-classification-sf/):"
      ]
    },
    {
      "cell_type": "code",
      "execution_count": null,
      "metadata": {
        "id": "WckfhbVwsrT_"
      },
      "outputs": [],
      "source": [
        "augment_module = a.Compose([\n",
        "    # добавляем размытие по Гауссу и шум с вероятностью 7%\n",
        "    a.Blur(p=0.07),\n",
        "    a.GaussNoise(p=0.07),\n",
        "    #  параметры сдвига,поворота и масштабирования, а также их вероятность.\n",
        "    a.ShiftScaleRotate(shift_limit=0.08,\n",
        "                       scale_limit=0.05,\n",
        "                       border_mode=4,\n",
        "                       rotate_limit=20,\n",
        "                       p=0.7),\n",
        "\n",
        "    a.RGBShift(),\n",
        "    a.HueSaturationValue(),  # случайный оттенок и насыщенность\n",
        "    a.HorizontalFlip(),\n",
        "\n",
        "    # установим случайную яркость и контрастность изображений с вероятностью 50%\n",
        "\n",
        "    a.OneOf([\n",
        "            a.RandomBrightnessContrast(\n",
        "                brightness_limit=0.3, contrast_limit=0.3),\n",
        "            a.RandomBrightnessContrast(brightness_limit=0.1, contrast_limit=0.1)],\n",
        "            p=0.3)\n",
        "])\n",
        "\n",
        "# Выведем пример аугментации\n",
        "plt.figure(figsize=(12, 8))\n",
        "for i in range(9):\n",
        "    img = augment_module(image=images_train[0])['image']\n",
        "    plt.subplot(3, 3, i + 1)\n",
        "    plt.imshow(img)\n",
        "    plt.axis('off')\n",
        "plt.show()"
      ]
    },
    {
      "cell_type": "markdown",
      "metadata": {
        "id": "t4Oy_3-YsrT_"
      },
      "source": [
        "Выше показан пример аугментации для имеющихся изображений."
      ]
    },
    {
      "cell_type": "markdown",
      "metadata": {
        "id": "dljMPUSosrUA"
      },
      "source": [
        "### Использование tf.data.Dataset\n",
        "Если все изображения мы будем хранить в памяти, то может возникнуть проблема ее нехватки. Не храните все изображения в памяти целиком!\n",
        "\n",
        "Метод .fit() модели keras может принимать либо данные в виде массивов или тензоров, либо разного рода итераторы, из которых наиболее современным и гибким является [tf.data.Dataset](https://www.tensorflow.org/guide/data). Он представляет собой конвейер, то есть мы указываем, откуда берем данные и какую цепочку преобразований с ними выполняем. Далее мы будем работать с tf.data.Dataset.\n",
        "\n",
        "Dataset хранит информацию о конечном или бесконечном наборе кортежей (tuple) с данными и может возвращать эти наборы по очереди. Например, данными могут быть пары (input, target) для обучения нейросети. С данными можно осуществлять преобразования, которые осуществляются по мере необходимости ([lazy evaluation](https://ru.wikipedia.org/wiki/%D0%9B%D0%B5%D0%BD%D0%B8%D0%B2%D1%8B%D0%B5_%D0%B2%D1%8B%D1%87%D0%B8%D1%81%D0%BB%D0%B5%D0%BD%D0%B8%D1%8F)).\n",
        "\n",
        "`tf.data.Dataset.from_tensor_slices(data)` - создает датасет из данных, которые представляют собой либо массив, либо кортеж из массивов. Деление осуществляется по первому индексу каждого массива. Например, если `data = (np.zeros((128, 256, 256)), np.zeros(128))`, то датасет будет содержать 128 элементов, каждый из которых содержит один массив 256x256 и одно число.\n",
        "\n",
        "`dataset2 = dataset1.map(func)` - применение функции к датасету; функция должна принимать столько аргументов, каков размер кортежа в датасете 1 и возвращать столько, сколько нужно иметь в датасете 2. Пусть, например, датасет содержит изображения и метки, а нам нужно создать датасет только из изображений, тогда мы напишем так: `dataset2 = dataset.map(lambda img, label: img)`.\n",
        "\n",
        "`dataset2 = dataset1.batch(8)` - группировка по батчам; если датасет 2 должен вернуть один элемент, то он берет из датасета 1 восемь элементов, склеивает их (нулевой индекс результата - номер элемента) и возвращает.\n",
        "\n",
        "`dataset.__iter__()` - превращение датасета в итератор, из которого можно получать элементы методом `.__next__()`. Итератор, в отличие от самого датасета, хранит позицию текущего элемента. Можно также перебирать датасет циклом for.\n",
        "\n",
        "`dataset2 = dataset1.repeat(X)` - датасет 2 будет повторять датасет 1 X раз.\n",
        "\n",
        "Если нам нужно взять из датасета 1000 элементов и использовать их как тестовые, а остальные как обучающие, то мы напишем так:\n",
        "\n",
        "`test_dataset = dataset.take(1000)\n",
        "train_dataset = dataset.skip(1000)`\n",
        "\n",
        "Датасет по сути неизменен: такие операции, как map, batch, repeat, take, skip никак не затрагивают оригинальный датасет. Если датасет хранит элементы [1, 2, 3], то выполнив 3 раза подряд функцию dataset.take(1) мы получим 3 новых датасета, каждый из которых вернет число 1. Если же мы выполним функцию dataset.skip(1), мы получим датасет, возвращающий числа [2, 3], но исходный датасет все равно будет возвращать [1, 2, 3] каждый раз, когда мы его перебираем.\n",
        "\n",
        "tf.Dataset всегда выполняется в graph-режиме (в противоположность eager-режиму), поэтому либо преобразования (`.map()`) должны содержать только tensorflow-функции, либо мы должны использовать tf.py_function в качестве обертки для функций, вызываемых в `.map()`. Подробнее можно прочитать [здесь](https://www.tensorflow.org/guide/data#applying_arbitrary_python_logic)."
      ]
    },
    {
      "cell_type": "markdown",
      "metadata": {
        "id": "KTF4zdqUsrUA"
      },
      "source": [
        " Для обработки данных при помощи tf.data.Dataset необходимо провести некоторую подготовку данных. Начнем с обучения нашего токенизатора:"
      ]
    },
    {
      "cell_type": "code",
      "execution_count": null,
      "metadata": {
        "id": "0z-oVTPtsrUA"
      },
      "outputs": [],
      "source": [
        "# обучение токенизатора для NLP\n",
        "tokenize = Tokenizer(num_words=MAX_WORDS)\n",
        "tokenize.fit_on_texts(str_without_stop)"
      ]
    },
    {
      "cell_type": "markdown",
      "metadata": {
        "id": "cM-qwSx2srUA"
      },
      "source": [
        "Теперь создадим функции, которые будут применяться к имеющимся у нас данным:"
      ]
    },
    {
      "cell_type": "code",
      "execution_count": null,
      "metadata": {
        "id": "lK8op9CdsrUB"
      },
      "outputs": [],
      "source": [
        "# аугментация изображений\n",
        "def process_image(image):\n",
        "    return augment_module(image=image.numpy())['image']\n",
        "# векторизация строки\n",
        "\n",
        "\n",
        "def tokenize_(descriptions):\n",
        "    return sequence.pad_sequences(tokenize.texts_to_sequences(descriptions), maxlen=MAX_SEQUENCE_LENGTH)\n",
        "# применение векторизации к тексту\n",
        "\n",
        "\n",
        "def tokenize_text(text):\n",
        "    return tokenize_([text.numpy().decode('utf-8')])[0]\n",
        "# функция  для применения вышеупомянутых функций к входным данным обучающей выборки\n",
        "\n",
        "\n",
        "def tf_process_train_dataset_element(image, table_data, text, price):\n",
        "    im_shape = image.shape\n",
        "    [image, ] = tf.py_function(process_image, [image], [tf.uint8])\n",
        "    image.set_shape(im_shape)\n",
        "    [text, ] = tf.py_function(tokenize_text, [text], [tf.int32])\n",
        "    return (image, table_data, text), price\n",
        "# функция  для применения вышеупомянутых функций к входным данным валидационной и тестовой выборкок\n",
        "\n",
        "\n",
        "def tf_process_val_dataset_element(image, table_data, text, price):\n",
        "    [text, ] = tf.py_function(tokenize_text, [text], [tf.int32])\n",
        "    return (image, table_data, text), price\n",
        "\n",
        "\n",
        "# использование tf.data.Dataset с использованием функций для обучающей выборки\n",
        "train_dataset = tf.data.Dataset.from_tensor_slices((\n",
        "    images_train, X_train, data.description.iloc[X_train.index], y_train\n",
        ")).map(tf_process_train_dataset_element)\n",
        "# использование tf.data.Dataset с использованием функций для валидационной выборки\n",
        "test_dataset = tf.data.Dataset.from_tensor_slices((\n",
        "    images_test, X_test, data.description.iloc[X_test.index], y_test\n",
        ")).map(tf_process_val_dataset_element)\n",
        "# использование tf.data.Dataset с использованием функций для тестовой выборки\n",
        "y_sub = np.zeros(len(X_sub))\n",
        "sub_dataset = tf.data.Dataset.from_tensor_slices((\n",
        "    images_sub, X_sub, data.description.iloc[X_sub.index], y_sub\n",
        ")).map(tf_process_val_dataset_element)\n",
        "\n",
        "# проверяем, что нет ошибок (не будет выброшено исключение):\n",
        "train_dataset.__iter__().__next__()\n",
        "test_dataset.__iter__().__next__()\n",
        "sub_dataset.__iter__().__next__()"
      ]
    },
    {
      "cell_type": "markdown",
      "metadata": {
        "id": "s4o3FmSBsrUC"
      },
      "source": [
        "### EfficientNet or DenseNet201"
      ]
    },
    {
      "cell_type": "markdown",
      "metadata": {
        "id": "ZnML7BfjsrUD"
      },
      "source": [
        "Загрузим исследуемую модель:"
      ]
    },
    {
      "cell_type": "code",
      "source": [
        "# image_model = tf.keras.applications.DenseNet201(weights='imagenet', \n",
        "#                                                include_top=False, \n",
        "#                                                input_shape=INPUT_SHAPE)"
      ],
      "metadata": {
        "id": "GBCZ82wHS6ba"
      },
      "execution_count": null,
      "outputs": []
    },
    {
      "cell_type": "code",
      "execution_count": null,
      "metadata": {
        "id": "Eiu5ACcssrUD"
      },
      "outputs": [],
      "source": [
        "# загрузим модель без \"головы\" и укажем, что она может обучаться\n",
        "image_model = tf.keras.applications.efficientnet.EfficientNetB6(\n",
        "    weights='imagenet', include_top=False, input_shape=(size[1], size[0], 3))"
      ]
    },
    {
      "cell_type": "markdown",
      "metadata": {
        "id": "825sOopAsrUD"
      },
      "source": [
        "Проведем Fine-Tuning, заморозив 1\\4 нижних слоев модели:"
      ]
    },
    {
      "cell_type": "code",
      "execution_count": null,
      "metadata": {
        "id": "_HOQkrSgsrUD"
      },
      "outputs": [],
      "source": [
        "# Заморозим 1\\4 нижних слоев модели\n",
        "image_model.trainable = True\n",
        "for layer in image_model.layers[:len(efficientnet_model.layers)//4]:\n",
        "    layer.trainable = False"
      ]
    },
    {
      "cell_type": "markdown",
      "metadata": {
        "id": "KHqgP5R9srUD"
      },
      "source": [
        "Посмотрим общее количество слоев в модели и какие из них могут обучаться:"
      ]
    },
    {
      "cell_type": "code",
      "execution_count": null,
      "metadata": {
        "id": "MD5CbIlYsrUE"
      },
      "outputs": [],
      "source": [
        "print(len(image_model.layers))\n",
        "\n",
        "for layer in image_model.layers:\n",
        "    print(layer, layer.trainable)"
      ]
    },
    {
      "cell_type": "markdown",
      "metadata": {
        "id": "PVkp0IHJsrUF"
      },
      "source": [
        "Добавим output-слой для нашей EfficienNet модели:"
      ]
    },
    {
      "cell_type": "code",
      "execution_count": null,
      "metadata": {
        "id": "LyzEsMNBsrUG"
      },
      "outputs": [],
      "source": [
        "image_model_output = L.GlobalAveragePooling2D()(image_model.output)"
      ]
    },
    {
      "cell_type": "markdown",
      "source": [
        "### MLP"
      ],
      "metadata": {
        "id": "2s4C_felSZo5"
      }
    },
    {
      "cell_type": "code",
      "execution_count": null,
      "metadata": {
        "id": "G4LyaOZ2srUG"
      },
      "outputs": [],
      "source": [
        "# Табличная нейронная сеть\n",
        "tabular_model = Sequential([\n",
        "    L.Input(shape=X.shape[1]),\n",
        "    L.Dense(512, input_dim=X_train.shape[1], activation=\"relu\"),\n",
        "    L.Dropout(0.5),\n",
        "    L.Dense(256, kernel_regularizer=regularizers.l2(\n",
        "        l2=1e-6), activation=\"relu\"),\n",
        "    L.Dropout(0.5),\n",
        "    L.Dense(128, kernel_regularizer=regularizers.l2(\n",
        "        l2=1e-5), activation=\"relu\"),\n",
        "    L.Dropout(0.25)\n",
        "])"
      ]
    },
    {
      "cell_type": "markdown",
      "source": [
        "### NLP"
      ],
      "metadata": {
        "id": "sB12V5iUSU6w"
      }
    },
    {
      "cell_type": "code",
      "source": [
        ""
      ],
      "metadata": {
        "id": "Es7QfBUzSUg9"
      },
      "execution_count": null,
      "outputs": []
    },
    {
      "cell_type": "code",
      "execution_count": null,
      "metadata": {
        "id": "-PrhDWU8srUH"
      },
      "outputs": [],
      "source": [
        "# Нейронная сеть для NLP\n",
        "mlp_model = Sequential([\n",
        "    L.Input(shape=MAX_SEQUENCE_LENGTH, name=\"seq_description\"),\n",
        "    L.Embedding(len(tokenize.word_index)+1, MAX_SEQUENCE_LENGTH,),\n",
        "    L.LayerNormalization(),\n",
        "    L.LSTM(256, return_sequences=True),\n",
        "    L.Dropout(0.5),\n",
        "    L.Dense(128, activation=\"sigmoid\"),\n",
        "    L.Dropout(0.5),\n",
        "    L.LSTM(64,),\n",
        "    L.Dropout(0.25),\n",
        "    L.Dense(64, activation=\"relu\"),\n",
        "    L.Dropout(0.25),\n",
        "])"
      ]
    },
    {
      "cell_type": "markdown",
      "source": [
        "### Head"
      ],
      "metadata": {
        "id": "XNOMeZWUSRJb"
      }
    },
    {
      "cell_type": "code",
      "execution_count": null,
      "metadata": {
        "id": "hK4J0Wz2srUH"
      },
      "outputs": [],
      "source": [
        "# объединяем выходы трех нейросетей\n",
        "combinedInput = L.concatenate(\n",
        "    [image_model_output, mlp_model.output, nlp_model.output])\n",
        "\n",
        "# being our regression head\n",
        "head = L.Dense(128, activation=\"relu\")(combinedInput)\n",
        "head = L.Dense(1,)(head)\n",
        "# Соберем наши части в одну модель\n",
        "model_3mi = Model(inputs=[efficientnet_model.input,\n",
        "                      tabular_model.input, nlp_model.input], outputs=head)\n",
        "# посмотрим описание нашей модели\n",
        "model_3mi.summary()"
      ]
    },
    {
      "cell_type": "code",
      "execution_count": null,
      "metadata": {
        "id": "EcaxS5yasrUI"
      },
      "outputs": [],
      "source": [
        "LR = 0.0001\n",
        "\n",
        "model_3mi.compile(loss='MAPE', optimizer=optimizers.Adam(learning_rate=LR),\n",
        "                   metrics=['MAPE'])"
      ]
    },
    {
      "cell_type": "code",
      "source": [
        "file_name = 'model_3mi'"
      ],
      "metadata": {
        "id": "d5tyBzwsR16p"
      },
      "execution_count": null,
      "outputs": []
    },
    {
      "cell_type": "markdown",
      "source": [
        "### Коллбеки"
      ],
      "metadata": {
        "id": "JNGa4rHpH3mv"
      }
    },
    {
      "cell_type": "markdown",
      "metadata": {
        "id": "AMTuBAewsrUI"
      },
      "source": [
        "Немного изменим список наших коллбэков:\n",
        "1. Для EarlyStopping укажем 10 эпох для завершения обучения\n",
        "2. Для ReduceLROnPlateau:\n",
        "    * укажем 3 эпохи для изменения скорости обучения\n",
        "    * установим минимальную скорость обучения 0.00001"
      ]
    },
    {
      "cell_type": "code",
      "execution_count": null,
      "metadata": {
        "id": "CvCLj1yasrUI"
      },
      "outputs": [],
      "source": [
        "if is_colab:\n",
        "    cb_checkpoint = ModelCheckpoint(os.path.join(SAVE_PATH, \n",
        "                                                 file_name+'_best.hdf5'), \n",
        "                                    monitor = ['val_MAPE'], \n",
        "                                    verbose = 0, mode = 'min')\n",
        "else:\n",
        "    cb_checkpoint = ModelCheckpoint(os.path.join(WORK_PATH, \n",
        "                                                 file_name+'_best.hdf5'), \n",
        "                                    monitor = ['val_MAPE'], \n",
        "                                    verbose = 0, mode = 'min')\n",
        "\n",
        "cb_earlystop = EarlyStopping(monitor='val_MAPE', patience=10, verbose=1, \n",
        "                             restore_best_weights=True)\n",
        "\n",
        "cb_schedul = ReduceLROnPlateau(monitor='val_MAPE',\n",
        "                                 factor=tf.math.exp(-0.1),  # new_lr = lp*factor\n",
        "                                 patience=1,  # эпох без изменений\n",
        "                                 min_lr=0.0000005,\n",
        "                                 verbose=1,  # выводить сообщения\n",
        "                                 mode='min')  # способ отслеживания метрики\n",
        "\n",
        "callbacks_list = [cb_checkpoint, cb_earlystop, cb_schedul]"
      ]
    },
    {
      "cell_type": "markdown",
      "metadata": {
        "id": "XzX7z-LcsrUI"
      },
      "source": [
        "Теперь обучим нашу модель (максимальное количество эпох = 60 для того, чтобы влезть в квоту на сохранение):"
      ]
    },
    {
      "cell_type": "code",
      "execution_count": null,
      "metadata": {
        "id": "019KGLxjsrUJ"
      },
      "outputs": [],
      "source": [
        "history = model_3mi.fit(train_dataset.batch(30),\n",
        "                    epochs=1000,\n",
        "                    validation_data=test_dataset.batch(30),\n",
        "                    callbacks=callbacks_list\n",
        "                    )"
      ]
    },
    {
      "cell_type": "markdown",
      "metadata": {
        "id": "L85wgWBlsrUJ"
      },
      "source": [
        "### График"
      ]
    },
    {
      "cell_type": "code",
      "execution_count": null,
      "metadata": {
        "id": "WTYM7LOWsrUK"
      },
      "outputs": [],
      "source": [
        "plot_history(history)"
      ]
    },
    {
      "cell_type": "code",
      "execution_count": null,
      "metadata": {
        "id": "-4v66lfYsrUM"
      },
      "outputs": [],
      "source": [
        "model_3mi = make_save(model_3mi, file_name)"
      ]
    },
    {
      "cell_type": "markdown",
      "metadata": {
        "id": "e3VyXmE5srUM"
      },
      "source": [
        "### Валидация"
      ]
    },
    {
      "cell_type": "code",
      "execution_count": null,
      "metadata": {
        "id": "cR3xACzYsrUM"
      },
      "outputs": [],
      "source": [
        "test_predict_3mi = model.predict(test_dataset.batch(30))\n",
        "print(f\"TEST mape: {(mape(y_test, test_predict_3mi[:,0]))*100:0.2f}%\")"
      ]
    },
    {
      "cell_type": "markdown",
      "metadata": {
        "id": "TzBfB141srUM"
      },
      "source": [
        "На валидационных данных мы получили метрику немного хуже, чем у простой табличной сети, но лучше чем у multi-input сети без обработки изображений. Это говорит нам о том, что работа проделана не зря и положительный результат наблюдается. Сделаем сабмит:"
      ]
    },
    {
      "cell_type": "markdown",
      "source": [
        "### Submission"
      ],
      "metadata": {
        "id": "FR458LGJTh2W"
      }
    },
    {
      "cell_type": "code",
      "execution_count": null,
      "metadata": {
        "id": "i3YLEk3TsrUM"
      },
      "outputs": [],
      "source": [
        "# sub_predict_nn3 = model_3mi.predict(sub_dataset.batch(30))\n",
        "# sample_submission['price'] = sub_predict_nn3[:, 0]\n",
        "# sample_submission.to_csv('nn3_submission.csv', index=False)\n",
        "\n",
        "sample_submission = make_sub(model_3mi, sample_submission, \n",
        "                             sub_dataset.batch(30), \n",
        "                             '3mi_submission.csv')"
      ]
    },
    {
      "cell_type": "code",
      "source": [
        "raise KeyboardInterrupt"
      ],
      "metadata": {
        "id": "Uu1XnvlQUuVo"
      },
      "execution_count": null,
      "outputs": []
    },
    {
      "cell_type": "markdown",
      "metadata": {
        "id": "O1kSdFZCsrUO"
      },
      "source": [
        "# Ансамблирование"
      ]
    },
    {
      "cell_type": "markdown",
      "metadata": {
        "id": "oiXonnzrsrUO"
      },
      "source": [
        "В качестве конечного результата используем комбинацию из результатов предсказаний некоторых предыдущих моделей:\n",
        "1. CatBoostRegressor\n",
        "2. Табличная нейронная сеть\n",
        "3. NLP+MLP+EffNetB6 Multi Input NN"
      ]
    },
    {
      "cell_type": "code",
      "source": [
        "# загрузить ранее сделанные предсказания"
      ],
      "metadata": {
        "id": "-dOQ-M9DUo1C"
      },
      "execution_count": null,
      "outputs": []
    },
    {
      "cell_type": "code",
      "execution_count": null,
      "metadata": {
        "id": "j__2_XHosrUO"
      },
      "outputs": [],
      "source": [
        "ensemble_predict = (test_predict_catboost +\n",
        "                 test_predict_nn1[:, 0] + test_predict_nn3[:, 0]) / 3\n",
        "print(f\"TEST mape: {(mape(y_test, blend_predict))*100:0.2f}%\")"
      ]
    },
    {
      "cell_type": "markdown",
      "metadata": {
        "id": "CBZsJ2jdsrUP"
      },
      "source": [
        "Мы добились самой хорошей метрики, которая у нас была! На этом этапе сделаем финальный сабмит:"
      ]
    },
    {
      "cell_type": "code",
      "execution_count": null,
      "metadata": {
        "id": "teksCPudsrUP"
      },
      "outputs": [],
      "source": [
        "# blend_sub_predict = (sub_predict_catboost +\n",
        "#                      sub_predict_nn1[:, 0] + sub_predict_nn3[:, 0]) / 3\n",
        "# sample_submission['price'] = blend_sub_predict\n",
        "# sample_submission.to_csv('blend_submission.csv', index=False)\n",
        "\n",
        "sample_submission = make_sub(model, sample_submission, \n",
        "                             ensemble_predict, \n",
        "                             '3mi_submission.csv')"
      ]
    },
    {
      "cell_type": "markdown",
      "metadata": {
        "id": "ZU5LwC6QsrUP"
      },
      "source": [
        "# 9. Выводы"
      ]
    },
    {
      "cell_type": "markdown",
      "metadata": {
        "id": "P-UefFvJsrUP"
      },
      "source": [
        "Как и в предыдущих проектах, скажу - я не уверен, что все параметры и архитектуры сетей подобраны лучшим образом, но результат получился хороший. Была проведена предварительная обработка данных, выделены новые фичи, которые использовались при обучении модели. Здесь хочется отметить, что лучшим решением было бы найти фичу, которая еще сильнее погасила бы взаимную корреляцию между столбцами model_time и productionDate. Я думаю, это бы привело к улучшению метрики.\n",
        "\n",
        "Были исследованы различные способы обработки текста для RNN NLP. Здесь, возможно, стоило бы избавиться от используемых в тексте emoji, либо же применить, например, BERT. Насколько я успел прочитать, он очень хорошо справляется с поставленными задачами. Плюс На основе BERT можно создать модель, которая будет работать вместо нашей RNN NLP.\n",
        "\n",
        "С табличными данными примерно та же история, вместо стандартной сборки модели можно использовать сеть TabNet. Насколько я изучил материал по ней, в большинстве задач она показывает себя очень хорошо при работе с табличными данными.\n",
        "\n",
        "Для обработки изображений - есть множество вариантов - от изменения настроек и способа аугментации до изменения обучаемой нами модели. Для достоверности - лучше выбирать модель в соответствии с современными решениями, но не забывать про ограничение на используемой платформе.\n",
        "\n",
        "Проект получился очень интересный, я узнал много различных вещей, которые могут помочь мне в дальнейшем. Также сформировал несколько вопросов, на которые бы очень хотелось получить ответ.\n",
        "\n",
        "По результатам выполнения  проекта были получены следующие метрики MAPE:\n",
        "1. CatBoostRegressor - 11.87%\n",
        "2. Smiple Dense NN - 11.36%\n",
        "3. MLP + RNN NLP  - 11.38%\n",
        "4. MLP + NLP + EffNetB6 - 11.27%\n",
        "5. Blending(1+2+4) - 10.87%"
      ]
    },
    {
      "cell_type": "code",
      "execution_count": null,
      "metadata": {
        "id": "0ZOFHES9srUQ"
      },
      "outputs": [],
      "source": [
        ""
      ]
    },
    {
      "cell_type": "code",
      "execution_count": null,
      "metadata": {
        "id": "j5WFmpExsrUQ"
      },
      "outputs": [],
      "source": [
        ""
      ]
    },
    {
      "cell_type": "code",
      "execution_count": null,
      "metadata": {
        "id": "f5LdnXIqsrUQ"
      },
      "outputs": [],
      "source": [
        ""
      ]
    }
  ],
  "metadata": {
    "accelerator": "GPU",
    "colab": {
      "collapsed_sections": [],
      "name": "module-8-skikevch-car-price-prediction-part2.ipynb",
      "toc_visible": true,
      "provenance": []
    },
    "kernelspec": {
      "display_name": "Python 3",
      "language": "python",
      "name": "python3"
    },
    "language_info": {
      "codemirror_mode": {
        "name": "ipython",
        "version": 3
      },
      "file_extension": ".py",
      "mimetype": "text/x-python",
      "name": "python",
      "nbconvert_exporter": "python",
      "pygments_lexer": "ipython3",
      "version": "3.7.6"
    }
  },
  "nbformat": 4,
  "nbformat_minor": 0
}