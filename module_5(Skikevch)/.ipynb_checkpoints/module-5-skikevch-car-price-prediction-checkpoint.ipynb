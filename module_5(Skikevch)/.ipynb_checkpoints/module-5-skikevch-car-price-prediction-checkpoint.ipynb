{
 "cells": [
  {
   "cell_type": "markdown",
   "metadata": {},
   "source": [
    "# Постановка задачи."
   ]
  },
  {
   "cell_type": "markdown",
   "metadata": {},
   "source": [
    "В данном соревновании требуется обучить модель предсказывать стоимость автомобиля по его характеристикам."
   ]
  },
  {
   "cell_type": "markdown",
   "metadata": {},
   "source": [
    "# Стартовая подготовка."
   ]
  },
  {
   "cell_type": "code",
   "execution_count": 587,
   "metadata": {
    "execution": {
     "iopub.execute_input": "2022-02-09T17:25:00.793443Z",
     "iopub.status.busy": "2022-02-09T17:25:00.793078Z",
     "iopub.status.idle": "2022-02-09T17:25:00.809840Z",
     "shell.execute_reply": "2022-02-09T17:25:00.809010Z",
     "shell.execute_reply.started": "2022-02-09T17:25:00.793391Z"
    }
   },
   "outputs": [],
   "source": [
    "import os\n",
    "import re\n",
    "import sys\n",
    "import json \n",
    "import random\n",
    "import numpy as np\n",
    "import pandas as pd\n",
    "import seaborn as sns\n",
    "import pandas_profiling\n",
    "\n",
    "from pprint import pprint\n",
    "\n",
    "from datetime import (\n",
    "    date,\n",
    "    datetime,\n",
    "    timedelta,\n",
    ")\n",
    "\n",
    "from sklearn.model_selection import (\n",
    "    train_test_split,\n",
    "    KFold,\n",
    "    GridSearchCV,\n",
    ")\n",
    "from tqdm.notebook import tqdm\n",
    "from sklearn.preprocessing import OneHotEncoder\n",
    "import xgboost as xgb\n",
    "from catboost import CatBoostRegressor\n",
    "from sklearn.neighbors import KNeighborsRegressor\n",
    "from sklearn.linear_model import (\n",
    "    LogisticRegression,\n",
    "    LinearRegression,\n",
    ")\n",
    "from sklearn.ensemble import (\n",
    "    StackingRegressor,\n",
    "    RandomForestRegressor,\n",
    "    GradientBoostingRegressor,\n",
    ")\n",
    "\n",
    "\n",
    "import matplotlib.pyplot as plt\n",
    "%matplotlib inline\n",
    "\n",
    "pd.set_option(\"max_column\", None)\n",
    "\n",
    "import warnings\n",
    "warnings.filterwarnings(\"ignore\")"
   ]
  },
  {
   "cell_type": "code",
   "execution_count": 588,
   "metadata": {
    "execution": {
     "iopub.execute_input": "2022-02-09T17:25:00.811596Z",
     "iopub.status.busy": "2022-02-09T17:25:00.811346Z",
     "iopub.status.idle": "2022-02-09T17:25:03.634243Z",
     "shell.execute_reply": "2022-02-09T17:25:03.633398Z",
     "shell.execute_reply.started": "2022-02-09T17:25:00.811567Z"
    }
   },
   "outputs": [],
   "source": [
    "# зафиксируем версию пакетов и random_seed, чтобы эксперименты были воспроизводимы:\n",
    "!pip freeze > requirements.txt\n",
    "\n",
    "TEST_SIZE = 0.25\n",
    "RANDOM_SEED = 13\n",
    "random.seed(RANDOM_SEED)"
   ]
  },
  {
   "cell_type": "markdown",
   "metadata": {},
   "source": [
    "# Вспомогательные функции"
   ]
  },
  {
   "cell_type": "code",
   "execution_count": 589,
   "metadata": {
    "execution": {
     "iopub.execute_input": "2022-02-09T17:25:03.636430Z",
     "iopub.status.busy": "2022-02-09T17:25:03.635835Z",
     "iopub.status.idle": "2022-02-09T17:25:03.667947Z",
     "shell.execute_reply": "2022-02-09T17:25:03.667199Z",
     "shell.execute_reply.started": "2022-02-09T17:25:03.636395Z"
    }
   },
   "outputs": [],
   "source": [
    "def body_type_revork(row):\n",
    "    try:\n",
    "        reg = re.compile(r'(l1)|(l2)|(l3)|([a-z]-)|[a-z0-146-9]')\n",
    "        return reg.sub('', str(row).lower()).strip()\n",
    "    except TypeError:\n",
    "        return row\n",
    "\n",
    "# Визуализация числовых данных\n",
    "def veiw_numeric(column, size = 7, title=None):\n",
    "    if not title:\n",
    "        title = column.name\n",
    "    fig, (g1, g2) = plt.subplots(1, 2, figsize = (2*size,size))\n",
    "    fig.suptitle(f'Histogram and boxplot for {title} ', fontsize=14)\n",
    "    g1.hist(column, bins = 20, histtype = 'bar', align = 'mid', rwidth = 0.8, color = 'red') # гистограмма\n",
    "    g2.boxplot(column, vert = False)  # выбросы\n",
    "    plt.figtext(0.5, 0, title, fontsize = 14, ha='center')\n",
    "    plt.legend()\n",
    "\n",
    "def fill_numeric_nan(column, min_v=None, max_v=None, replace=None): \n",
    "    if not min_v:\n",
    "        min_v = column.min()\n",
    "    if not max_v:\n",
    "        max_v=column.max()\n",
    "    if max_v < min_v:\n",
    "        max_v, min_v = min_v, max_v\n",
    "    \n",
    "    if replace:\n",
    "        if column.dtypes == 'float64':\n",
    "            random_fill = column.replace(replace, round(random.uniform(min_v, max_v+0.1), 1))\n",
    "        else:\n",
    "            random_fill = column.replace(replace, random.randint(min_v, max_v))\n",
    "        veiw_numeric(random_fill, title=f'{column.name}_random')\n",
    "        mode = column.mode()[0]\n",
    "        mode_fill = column.replace(replace, mode)\n",
    "        veiw_numeric(mode_fill, title=f'{column.name}_mode')\n",
    "    else:\n",
    "        if column.dtypes == 'float64':\n",
    "            random_fill = column.fillna(round(random.uniform(min_v, max_v+0.1), 1))\n",
    "        else:\n",
    "            random_fill = column.fillna(random.randint(min_v, max_v))\n",
    "        veiw_numeric(random_fill, title=f'{column.name}_random')\n",
    "        mode = column.mode()[0]\n",
    "        mode_fill = column.fillna(mode)\n",
    "        veiw_numeric(mode_fill, title=f'{column.name}_mode')\n",
    "    return random_fill, mode_fill\n",
    "\n",
    "def receive_engine_capacity(row):\n",
    "    reg = re.compile('(\\d\\.\\d)')\n",
    "    try:\n",
    "        return float(reg.search(str(row)).group())\n",
    "    except AttributeError:\n",
    "        return row\n",
    "\n",
    "def receive_electro_capacity(row):\n",
    "    if isinstance(row, str):\n",
    "        reg = re.compile('(\\d+ кВт)')\n",
    "        Ah = round(float(reg.search(str(row)).group().split()[0]) * 94 / 126, 5)\n",
    "        return round(Ah, 1)\n",
    "    else:\n",
    "        return row\n",
    "\n",
    "def find_cat(df):\n",
    "    cat_list = []\n",
    "    for column in df.columns:\n",
    "        if df[column].dtypes == 'object':\n",
    "            cat_list.append(column)\n",
    "    return cat_list\n",
    "\n",
    "def mape(y_test, y_predicted):\n",
    "    return np.mean(np.abs(y_test - y_predicted)/y_test)*100\n",
    "\n",
    "def outliers_iqr(column):\n",
    "    quartile_1, quartile_3 = np.percentile(column, [25, 75])\n",
    "    iqr = quartile_3 - quartile_1\n",
    "    lower_bound = quartile_1 - (iqr * 1.5)\n",
    "    upper_bound = quartile_3 + (iqr * 1.5)\n",
    "    \n",
    "    new = column.loc[(column < lower_bound) | (column > upper_bound)]    \n",
    "    \n",
    "    print(f\"{len(new)} выбросов\")\n",
    "    print(f'25-й перцентиль: {quartile_1},', f'75-й перцентиль: {quartile_3},', \n",
    "          f'IQR: {iqr}, ', f'Границы выбросов: [{lower_bound}, {upper_bound}].')\n",
    "    \n",
    "    return new\n",
    "\n",
    "# гистограммы логарифмирования\n",
    "def sqrt_log_veiw(column, a=1):\n",
    "    # логарифмирование\n",
    "    log = np.log(column + a)\n",
    "    veiw_numeric(log, title=f\"логарифм {column.name}\")\n",
    "\n",
    "    # взятие квадратного корня\n",
    "    sqrt = np.sqrt(column)\n",
    "    veiw_numeric(sqrt, title=f\"квадратный корень {column.name}\")\n",
    "    \n",
    "    # логарифмирование квадратного корня\n",
    "    log_sqrt = np.log(sqrt + a)\n",
    "    veiw_numeric(log_sqrt, title=f\"логарифм квадратного корня {column.name}\")\n",
    "    \n",
    "    # взятие квадратного корня логарифма\n",
    "    sqrt_log = np.sqrt(log)\n",
    "    veiw_numeric(sqrt_log, title=f\"квадратный корень логарифма {column.name}\")\n",
    "    \n",
    "    return log, sqrt, log_sqrt, sqrt_log"
   ]
  },
  {
   "cell_type": "markdown",
   "metadata": {},
   "source": [
    "# Data upload"
   ]
  },
  {
   "cell_type": "code",
   "execution_count": 590,
   "metadata": {
    "_cell_guid": "b1076dfc-b9ad-4769-8c92-a6c4dae69d19",
    "_uuid": "8f2839f25d086af736a60e9eeb907d3b93b6e0e5",
    "execution": {
     "iopub.execute_input": "2022-02-09T17:25:03.670232Z",
     "iopub.status.busy": "2022-02-09T17:25:03.669639Z",
     "iopub.status.idle": "2022-02-09T17:25:03.682897Z",
     "shell.execute_reply": "2022-02-09T17:25:03.682004Z",
     "shell.execute_reply.started": "2022-02-09T17:25:03.670187Z"
    }
   },
   "outputs": [],
   "source": [
    "for dirname, _, filenames in os.walk('/kaggle/input'):\n",
    "    for filename in filenames:\n",
    "        print(os.path.join(dirname, filename))\n"
   ]
  },
  {
   "cell_type": "code",
   "execution_count": 591,
   "metadata": {
    "execution": {
     "iopub.execute_input": "2022-02-09T17:25:03.684385Z",
     "iopub.status.busy": "2022-02-09T17:25:03.684160Z",
     "iopub.status.idle": "2022-02-09T17:25:03.687818Z",
     "shell.execute_reply": "2022-02-09T17:25:03.687134Z",
     "shell.execute_reply.started": "2022-02-09T17:25:03.684358Z"
    }
   },
   "outputs": [],
   "source": [
    "VERSION    = 1\n",
    "DIR_TRAIN  = '../input/parsing-all-moscow-auto-ru-09-09-2020/' # внешний датасет\n",
    "DIR_TEST   = '../input/sf-dst-car-price-prediction/'\n",
    "VAL_SIZE   = 0.25   # 25%\n"
   ]
  },
  {
   "cell_type": "code",
   "execution_count": 592,
   "metadata": {
    "execution": {
     "iopub.execute_input": "2022-02-09T17:25:03.689181Z",
     "iopub.status.busy": "2022-02-09T17:25:03.688957Z",
     "iopub.status.idle": "2022-02-09T17:25:10.967780Z",
     "shell.execute_reply": "2022-02-09T17:25:10.967019Z",
     "shell.execute_reply.started": "2022-02-09T17:25:03.689155Z"
    }
   },
   "outputs": [],
   "source": [
    "df_train = pd.read_csv(DIR_TRAIN+'all_auto_ru_09_09_2020.csv') # датасет для обучения модели\n",
    "df_test = pd.read_csv(DIR_TEST+'test.csv') # датасет для тестирования модели\n",
    "sample_submission = pd.read_csv(DIR_TEST+'sample_submission.csv')"
   ]
  },
  {
   "cell_type": "markdown",
   "metadata": {},
   "source": [
    "# Raw Data Inspection. Осмотр сырых данных."
   ]
  },
  {
   "cell_type": "markdown",
   "metadata": {},
   "source": [
    "## train"
   ]
  },
  {
   "cell_type": "markdown",
   "metadata": {},
   "source": [
    "### размер"
   ]
  },
  {
   "cell_type": "code",
   "execution_count": 593,
   "metadata": {
    "execution": {
     "iopub.execute_input": "2022-02-09T17:25:10.969629Z",
     "iopub.status.busy": "2022-02-09T17:25:10.969429Z",
     "iopub.status.idle": "2022-02-09T17:25:10.976108Z",
     "shell.execute_reply": "2022-02-09T17:25:10.975120Z",
     "shell.execute_reply.started": "2022-02-09T17:25:10.969604Z"
    }
   },
   "outputs": [],
   "source": [
    "print('train', df_train.shape)\n",
    "print('test', df_test.shape)"
   ]
  },
  {
   "cell_type": "markdown",
   "metadata": {},
   "source": [
    "### описание"
   ]
  },
  {
   "cell_type": "code",
   "execution_count": 594,
   "metadata": {
    "execution": {
     "iopub.execute_input": "2022-02-09T17:25:10.977898Z",
     "iopub.status.busy": "2022-02-09T17:25:10.977597Z",
     "iopub.status.idle": "2022-02-09T17:25:11.285079Z",
     "shell.execute_reply": "2022-02-09T17:25:11.284314Z",
     "shell.execute_reply.started": "2022-02-09T17:25:10.977867Z"
    }
   },
   "outputs": [],
   "source": [
    "display('train')\n",
    "display(df_train.info())\n",
    "print('\\n')\n",
    "display('test')\n",
    "display(df_test.info())"
   ]
  },
  {
   "cell_type": "markdown",
   "metadata": {},
   "source": [
    "### статистики"
   ]
  },
  {
   "cell_type": "code",
   "execution_count": 595,
   "metadata": {
    "execution": {
     "iopub.execute_input": "2022-02-09T17:25:11.287987Z",
     "iopub.status.busy": "2022-02-09T17:25:11.287750Z",
     "iopub.status.idle": "2022-02-09T17:25:11.388615Z",
     "shell.execute_reply": "2022-02-09T17:25:11.387836Z",
     "shell.execute_reply.started": "2022-02-09T17:25:11.287958Z"
    }
   },
   "outputs": [],
   "source": [
    "display('train', df_train.describe().round(2))\n",
    "display('test', df_test.describe().round(2))"
   ]
  },
  {
   "cell_type": "markdown",
   "metadata": {},
   "source": [
    "### уникальные значения"
   ]
  },
  {
   "cell_type": "code",
   "execution_count": 596,
   "metadata": {
    "execution": {
     "iopub.execute_input": "2022-02-09T17:25:11.390192Z",
     "iopub.status.busy": "2022-02-09T17:25:11.389966Z",
     "iopub.status.idle": "2022-02-09T17:25:12.414512Z",
     "shell.execute_reply": "2022-02-09T17:25:12.413695Z",
     "shell.execute_reply.started": "2022-02-09T17:25:11.390165Z"
    }
   },
   "outputs": [],
   "source": [
    "display('train')\n",
    "display(df_train.nunique())\n",
    "print('\\n')\n",
    "display('test')\n",
    "display(df_test.nunique())"
   ]
  },
  {
   "cell_type": "markdown",
   "metadata": {},
   "source": [
    "### пример"
   ]
  },
  {
   "cell_type": "code",
   "execution_count": 597,
   "metadata": {
    "execution": {
     "iopub.execute_input": "2022-02-09T17:25:12.416579Z",
     "iopub.status.busy": "2022-02-09T17:25:12.415791Z",
     "iopub.status.idle": "2022-02-09T17:25:12.477671Z",
     "shell.execute_reply": "2022-02-09T17:25:12.476865Z",
     "shell.execute_reply.started": "2022-02-09T17:25:12.416536Z"
    }
   },
   "outputs": [],
   "source": [
    "display('train', df_train.sample(5))\n",
    "print('\\n')\n",
    "display('test', df_test.sample(5))"
   ]
  },
  {
   "cell_type": "markdown",
   "metadata": {},
   "source": [
    "Для точности, приведём названия признаков к единому формату."
   ]
  },
  {
   "cell_type": "code",
   "execution_count": 598,
   "metadata": {
    "execution": {
     "iopub.execute_input": "2022-02-09T17:25:12.479172Z",
     "iopub.status.busy": "2022-02-09T17:25:12.478960Z",
     "iopub.status.idle": "2022-02-09T17:25:12.486476Z",
     "shell.execute_reply": "2022-02-09T17:25:12.485668Z",
     "shell.execute_reply.started": "2022-02-09T17:25:12.479145Z"
    }
   },
   "outputs": [],
   "source": [
    "df_train.rename(columns={'bodyType': 'body_type',\n",
    "                         'fuelType': 'fuel_type',\n",
    "                         'modelDate': 'model_date',\n",
    "                         'name':'modification',\n",
    "                         'numberOfDoors': 'number_of_doors',\n",
    "                         'productionDate': 'prod_date',\n",
    "                         'vehicleConfiguration': 'vehicle_config',\n",
    "                         'vehicleTransmission': 'vehicle_transmission',\n",
    "                         'engineDisplacement': 'engine_capacity',\n",
    "                         'enginePower': 'engine_power',\n",
    "                         'Комплектация': 'specification',\n",
    "                         'Привод': 'type_of_drive',\n",
    "                         'Руль': 'steering_wheel',\n",
    "                         'Состояние': 'condition',\n",
    "                         'Владельцы': 'owners',\n",
    "                         'ПТС': 'licence',\n",
    "                         'Таможня': 'customs',\n",
    "                         'Владение': 'ownership_time',\n",
    "                         'Price': 'price',\n",
    "                        }, inplace=True)"
   ]
  },
  {
   "cell_type": "code",
   "execution_count": 599,
   "metadata": {
    "execution": {
     "iopub.execute_input": "2022-02-09T17:25:12.487727Z",
     "iopub.status.busy": "2022-02-09T17:25:12.487512Z",
     "iopub.status.idle": "2022-02-09T17:25:12.500238Z",
     "shell.execute_reply": "2022-02-09T17:25:12.499697Z",
     "shell.execute_reply.started": "2022-02-09T17:25:12.487701Z"
    }
   },
   "outputs": [],
   "source": [
    "df_test.rename(columns={'bodyType': 'body_type',\n",
    "                        'complectation_dict': 'specification',\n",
    "                        'engineDisplacement': 'engine_capacity',\n",
    "                        'enginePower': 'engine_power',\n",
    "                        'equipment_dict': 'equipment',\n",
    "                        'fuelType': 'fuel_type',\n",
    "                        'modelDate': 'model_date',\n",
    "                        'name':'modification',\n",
    "                        'numberOfDoors': 'number_of_doors',\n",
    "                        'priceCurrency': 'price_currency',\n",
    "                        'productionDate': 'prod_date',\n",
    "                        'vehicleConfiguration': 'vehicle_config',\n",
    "                        'vehicleTransmission': 'vehicle_transmission',\n",
    "                        'Владельцы': 'owners',\n",
    "                        'Владение': 'ownership_time',\n",
    "                        'ПТС': 'licence',\n",
    "                        'Привод': 'type_of_drive',\n",
    "                        'Руль': 'steering_wheel', \n",
    "                        'Состояние': 'condition', \n",
    "                        'Таможня': 'customs',\n",
    "                        }, inplace=True)"
   ]
  },
  {
   "cell_type": "markdown",
   "metadata": {},
   "source": [
    "## пример submission"
   ]
  },
  {
   "cell_type": "code",
   "execution_count": 600,
   "metadata": {
    "execution": {
     "iopub.execute_input": "2022-02-09T17:25:12.502407Z",
     "iopub.status.busy": "2022-02-09T17:25:12.501874Z",
     "iopub.status.idle": "2022-02-09T17:25:12.520132Z",
     "shell.execute_reply": "2022-02-09T17:25:12.519382Z",
     "shell.execute_reply.started": "2022-02-09T17:25:12.502362Z"
    }
   },
   "outputs": [],
   "source": [
    "display(sample_submission.sample(5))"
   ]
  },
  {
   "cell_type": "code",
   "execution_count": null,
   "metadata": {},
   "outputs": [],
   "source": []
  },
  {
   "cell_type": "markdown",
   "metadata": {},
   "source": [
    "Определим какие признаки есть в обоих наборах данных одновременно"
   ]
  },
  {
   "cell_type": "code",
   "execution_count": 601,
   "metadata": {
    "execution": {
     "iopub.execute_input": "2022-02-09T17:25:12.521810Z",
     "iopub.status.busy": "2022-02-09T17:25:12.521501Z",
     "iopub.status.idle": "2022-02-09T17:25:12.527687Z",
     "shell.execute_reply": "2022-02-09T17:25:12.526729Z",
     "shell.execute_reply.started": "2022-02-09T17:25:12.521771Z"
    }
   },
   "outputs": [],
   "source": [
    "cross_features = list(set(df_test.columns).intersection(df_train.columns))\n",
    "print('Совпадающие признаки в обоих датасетах:\\n', ',\\n'.join(cross_features))"
   ]
  },
  {
   "cell_type": "markdown",
   "metadata": {},
   "source": [
    "Не имеет смысла обучаться на данных которых нет в test. Аналогично не имеют значимости признаки, которых нет в обучающем датасете. Поэтому, оставим в датасетах только те признаки, которые есть в обоих, но после обработки данных в train добавим price, а в test добавим cell_id для submission."
   ]
  },
  {
   "cell_type": "code",
   "execution_count": 602,
   "metadata": {
    "execution": {
     "iopub.execute_input": "2022-02-09T17:25:12.529452Z",
     "iopub.status.busy": "2022-02-09T17:25:12.528990Z",
     "iopub.status.idle": "2022-02-09T17:25:12.558841Z",
     "shell.execute_reply": "2022-02-09T17:25:12.558223Z",
     "shell.execute_reply.started": "2022-02-09T17:25:12.529417Z"
    }
   },
   "outputs": [],
   "source": [
    "train = df_train[cross_features]\n",
    "test = df_test[cross_features]"
   ]
  },
  {
   "cell_type": "markdown",
   "metadata": {},
   "source": [
    "Объединим датасеты"
   ]
  },
  {
   "cell_type": "code",
   "execution_count": 603,
   "metadata": {
    "execution": {
     "iopub.execute_input": "2022-02-09T17:25:12.560682Z",
     "iopub.status.busy": "2022-02-09T17:25:12.560089Z",
     "iopub.status.idle": "2022-02-09T17:25:12.731546Z",
     "shell.execute_reply": "2022-02-09T17:25:12.730747Z",
     "shell.execute_reply.started": "2022-02-09T17:25:12.560647Z"
    }
   },
   "outputs": [],
   "source": [
    "train['sample'] = 0\n",
    "test['sample'] = 1\n",
    "train['price'] = df_train['price']\n",
    "test['price'] = 0\n",
    "\n",
    "df = train.append(test, sort=False).reset_index(drop=True)"
   ]
  },
  {
   "cell_type": "code",
   "execution_count": 604,
   "metadata": {
    "execution": {
     "iopub.execute_input": "2022-02-09T17:25:12.733067Z",
     "iopub.status.busy": "2022-02-09T17:25:12.732830Z",
     "iopub.status.idle": "2022-02-09T17:25:12.767483Z",
     "shell.execute_reply": "2022-02-09T17:25:12.766621Z",
     "shell.execute_reply.started": "2022-02-09T17:25:12.733037Z"
    }
   },
   "outputs": [],
   "source": [
    "df.sample(5)"
   ]
  },
  {
   "cell_type": "markdown",
   "metadata": {},
   "source": [
    "# EDA. Разведывательный анализ."
   ]
  },
  {
   "cell_type": "code",
   "execution_count": 605,
   "metadata": {
    "execution": {
     "iopub.execute_input": "2022-02-09T17:25:12.770070Z",
     "iopub.status.busy": "2022-02-09T17:25:12.769075Z",
     "iopub.status.idle": "2022-02-09T17:26:57.082938Z",
     "shell.execute_reply": "2022-02-09T17:26:57.081722Z",
     "shell.execute_reply.started": "2022-02-09T17:25:12.769999Z"
    }
   },
   "outputs": [],
   "source": [
    "pandas_profiling.ProfileReport(df.drop(\"sample\", axis=1))"
   ]
  },
  {
   "cell_type": "markdown",
   "metadata": {},
   "source": [
    " - mileage - пробег автомобиля. Числовой признак, есть выбросы, пропусков нет.\n",
    " - modification - содержит информацию о других признаках: объём, мощность двигателя. Пропусков мало.\n",
    " - description - комментарий. Пропусков много.\n",
    " - steering_wheel - расположение руля. Бинарный, пропусков нет, одинаковые данные записаны по-разному.\n",
    " - vehicle_config - содержит информацию о других признаках: тип кузова, трансмиссия, объём двигателя. Пропусков мало.\n",
    " - ownership_time - время владения автомобилем. Очень много пропусков.\n",
    " - model_date - год выпуска авто. Числовой признак, пропусков мало.\n",
    " - type_of_drive - привод автомобиля. Пропусков мало.\n",
    " - condition - комментарий о состоянии автомобиля. Очень много пропусков.\n",
    " - engine_power - мощность двигателя. Пропусков мало.\n",
    " - licence - ПТС. Бинарный признак, пропусков мало, одинаковые данные записаны по-разному.\n",
    " - customs - растаможенн ли автомобиль.\n",
    " - number_of_doors - количество дверей. Числовой признак, пропусков мало, одинаковые данные записаны по-разному.\n",
    " - body_type - тип кузова. Пропусков мало, одинаковые данные записаны по-разному.\n",
    " - color - цвет автомобиля. Пропусков нет, одинаковые данные записаны по-разному.\n",
    " - vehicle_transmission - трансмиссия. Пропусков мало, одинаковые данные записаны по-разному.\n",
    " - owners - количество владельцев. Числовой признак, пропусков много.\n",
    " - specification - словарь, содержащий перечень комплектации автомобиля. Пропусков очень много.\n",
    " - fuel_type - тип топлива. Пропусков нет.\n",
    " - prod_date - дата последней продажи. Числовой признак, пропусков нет.\n",
    " - engine_capacity - объём двигателя. Числовой признак, пропусков мало, одинаковые данные записаны по-разному.\n",
    " - brand - марка автомобиля. Пропусков нет.\n",
    " - price - наш таргет."
   ]
  },
  {
   "cell_type": "markdown",
   "metadata": {},
   "source": [
    "# Primary visualization. Первичная визуализация."
   ]
  },
  {
   "cell_type": "markdown",
   "metadata": {},
   "source": [
    "## Осмотрим пропуски."
   ]
  },
  {
   "cell_type": "code",
   "execution_count": 606,
   "metadata": {
    "execution": {
     "iopub.execute_input": "2022-02-09T17:26:57.085472Z",
     "iopub.status.busy": "2022-02-09T17:26:57.084814Z",
     "iopub.status.idle": "2022-02-09T17:26:57.356897Z",
     "shell.execute_reply": "2022-02-09T17:26:57.356103Z",
     "shell.execute_reply.started": "2022-02-09T17:26:57.085427Z"
    }
   },
   "outputs": [],
   "source": [
    "df.isnull().sum()"
   ]
  },
  {
   "cell_type": "code",
   "execution_count": 607,
   "metadata": {
    "execution": {
     "iopub.execute_input": "2022-02-09T17:26:57.358329Z",
     "iopub.status.busy": "2022-02-09T17:26:57.358126Z",
     "iopub.status.idle": "2022-02-09T17:27:01.498468Z",
     "shell.execute_reply": "2022-02-09T17:27:01.497425Z",
     "shell.execute_reply.started": "2022-02-09T17:26:57.358304Z"
    }
   },
   "outputs": [],
   "source": [
    "fig, ax = plt.subplots(figsize=(17,13))\n",
    "sns_heatmap = sns.heatmap(df.isnull(), yticklabels=False, cbar=False)"
   ]
  },
  {
   "cell_type": "code",
   "execution_count": null,
   "metadata": {},
   "outputs": [],
   "source": []
  },
  {
   "cell_type": "markdown",
   "metadata": {},
   "source": [
    "В четырёх признаках крайне много пропусков - specification, condition, owners, ownership_time, description."
   ]
  },
  {
   "cell_type": "markdown",
   "metadata": {},
   "source": [
    "# Data porcessing. Обработка данных."
   ]
  },
  {
   "cell_type": "markdown",
   "metadata": {},
   "source": [
    "Осмотр показал что многие данные имеют разный формат при одних и тех же значениях. Приведём каждый признак к единому формату."
   ]
  },
  {
   "cell_type": "code",
   "execution_count": 608,
   "metadata": {
    "execution": {
     "iopub.execute_input": "2022-02-09T17:27:01.500066Z",
     "iopub.status.busy": "2022-02-09T17:27:01.499800Z",
     "iopub.status.idle": "2022-02-09T17:27:01.520789Z",
     "shell.execute_reply": "2022-02-09T17:27:01.519943Z",
     "shell.execute_reply.started": "2022-02-09T17:27:01.500037Z"
    }
   },
   "outputs": [],
   "source": [
    "df['vehicle_transmission'].unique()"
   ]
  },
  {
   "cell_type": "code",
   "execution_count": 609,
   "metadata": {
    "execution": {
     "iopub.execute_input": "2022-02-09T17:27:01.522817Z",
     "iopub.status.busy": "2022-02-09T17:27:01.522206Z",
     "iopub.status.idle": "2022-02-09T17:27:01.575608Z",
     "shell.execute_reply": "2022-02-09T17:27:01.574852Z",
     "shell.execute_reply.started": "2022-02-09T17:27:01.522768Z"
    }
   },
   "outputs": [],
   "source": [
    "replace_dict = {\n",
    "    'MECHANICAL': 'mechanical', \n",
    "    'AUTOMATIC': 'automatic', \n",
    "    'ROBOT': 'robot', \n",
    "    'VARIATOR': 'variator',\n",
    "    'роботизированная': 'robot', \n",
    "    'механическая': 'mechanical', \n",
    "    'автоматическая': 'automatic', \n",
    "    'вариатор': 'variator'\n",
    "}\n",
    "df['vehicle_transmission'] = df['vehicle_transmission'].apply(lambda i: replace_dict[i] if i is not np.nan else i)"
   ]
  },
  {
   "cell_type": "code",
   "execution_count": 610,
   "metadata": {
    "execution": {
     "iopub.execute_input": "2022-02-09T17:27:01.580584Z",
     "iopub.status.busy": "2022-02-09T17:27:01.580161Z",
     "iopub.status.idle": "2022-02-09T17:27:01.599485Z",
     "shell.execute_reply": "2022-02-09T17:27:01.598436Z",
     "shell.execute_reply.started": "2022-02-09T17:27:01.580547Z"
    }
   },
   "outputs": [],
   "source": [
    "print(str(df['licence'].unique()))"
   ]
  },
  {
   "cell_type": "code",
   "execution_count": 611,
   "metadata": {
    "execution": {
     "iopub.execute_input": "2022-02-09T17:27:01.601428Z",
     "iopub.status.busy": "2022-02-09T17:27:01.600848Z",
     "iopub.status.idle": "2022-02-09T17:27:01.718285Z",
     "shell.execute_reply": "2022-02-09T17:27:01.717334Z",
     "shell.execute_reply.started": "2022-02-09T17:27:01.601238Z"
    }
   },
   "outputs": [],
   "source": [
    "replace_dict = {\n",
    "    'ORIGINAL': 1, \n",
    "    'DUPLICATE': 0, \n",
    "    'Оригинал': 1, \n",
    "    'Дубликат': 0\n",
    "}\n",
    "df['licence'] = df['licence'].apply(lambda i: replace_dict[i] if i is not np.nan else i)"
   ]
  },
  {
   "cell_type": "code",
   "execution_count": 612,
   "metadata": {
    "execution": {
     "iopub.execute_input": "2022-02-09T17:27:01.720003Z",
     "iopub.status.busy": "2022-02-09T17:27:01.719657Z",
     "iopub.status.idle": "2022-02-09T17:27:01.742331Z",
     "shell.execute_reply": "2022-02-09T17:27:01.741218Z",
     "shell.execute_reply.started": "2022-02-09T17:27:01.719954Z"
    }
   },
   "outputs": [],
   "source": [
    "print(str(df['type_of_drive'].unique()))"
   ]
  },
  {
   "cell_type": "code",
   "execution_count": 613,
   "metadata": {
    "execution": {
     "iopub.execute_input": "2022-02-09T17:27:01.743761Z",
     "iopub.status.busy": "2022-02-09T17:27:01.743552Z",
     "iopub.status.idle": "2022-02-09T17:27:01.796217Z",
     "shell.execute_reply": "2022-02-09T17:27:01.795447Z",
     "shell.execute_reply.started": "2022-02-09T17:27:01.743735Z"
    }
   },
   "outputs": [],
   "source": [
    "replace_dict = {\n",
    "    'полный': 'four-wheel', \n",
    "    'передний': 'front-wheel', \n",
    "    'задний': 'rear', \n",
    "}\n",
    "df['type_of_drive'] = df['type_of_drive'].apply(lambda i: replace_dict[i] if i is not np.nan else i)"
   ]
  },
  {
   "cell_type": "code",
   "execution_count": 614,
   "metadata": {
    "execution": {
     "iopub.execute_input": "2022-02-09T17:27:01.797809Z",
     "iopub.status.busy": "2022-02-09T17:27:01.797199Z",
     "iopub.status.idle": "2022-02-09T17:27:01.826480Z",
     "shell.execute_reply": "2022-02-09T17:27:01.825444Z",
     "shell.execute_reply.started": "2022-02-09T17:27:01.797774Z"
    }
   },
   "outputs": [],
   "source": [
    "print(str(df['engine_power'].unique()))"
   ]
  },
  {
   "cell_type": "code",
   "execution_count": 615,
   "metadata": {
    "execution": {
     "iopub.execute_input": "2022-02-09T17:27:01.828771Z",
     "iopub.status.busy": "2022-02-09T17:27:01.828220Z",
     "iopub.status.idle": "2022-02-09T17:27:01.944284Z",
     "shell.execute_reply": "2022-02-09T17:27:01.943424Z",
     "shell.execute_reply.started": "2022-02-09T17:27:01.828722Z"
    }
   },
   "outputs": [],
   "source": [
    "df['engine_power'] = df['engine_power'].apply(lambda i: float(str(i).split()[0]) if i is not np.nan and not isinstance(i, float) else i)"
   ]
  },
  {
   "cell_type": "code",
   "execution_count": 616,
   "metadata": {
    "execution": {
     "iopub.execute_input": "2022-02-09T17:27:01.945813Z",
     "iopub.status.busy": "2022-02-09T17:27:01.945582Z",
     "iopub.status.idle": "2022-02-09T17:27:01.972222Z",
     "shell.execute_reply": "2022-02-09T17:27:01.971198Z",
     "shell.execute_reply.started": "2022-02-09T17:27:01.945787Z"
    }
   },
   "outputs": [],
   "source": [
    "print(str(df['owners'].unique()))"
   ]
  },
  {
   "cell_type": "code",
   "execution_count": 617,
   "metadata": {
    "execution": {
     "iopub.execute_input": "2022-02-09T17:27:01.974185Z",
     "iopub.status.busy": "2022-02-09T17:27:01.973678Z",
     "iopub.status.idle": "2022-02-09T17:27:02.088304Z",
     "shell.execute_reply": "2022-02-09T17:27:02.087629Z",
     "shell.execute_reply.started": "2022-02-09T17:27:01.974136Z"
    }
   },
   "outputs": [],
   "source": [
    "df['owners'] = df['owners'].apply(lambda i: float(str(i).split()[0]) if i is not np.nan and not isinstance(i, float) else i)"
   ]
  },
  {
   "cell_type": "code",
   "execution_count": 618,
   "metadata": {
    "execution": {
     "iopub.execute_input": "2022-02-09T17:27:02.091537Z",
     "iopub.status.busy": "2022-02-09T17:27:02.089880Z",
     "iopub.status.idle": "2022-02-09T17:27:02.107273Z",
     "shell.execute_reply": "2022-02-09T17:27:02.106393Z",
     "shell.execute_reply.started": "2022-02-09T17:27:02.091497Z"
    }
   },
   "outputs": [],
   "source": [
    "print(str(df['brand'].unique()))"
   ]
  },
  {
   "cell_type": "code",
   "execution_count": 619,
   "metadata": {
    "execution": {
     "iopub.execute_input": "2022-02-09T17:27:02.108901Z",
     "iopub.status.busy": "2022-02-09T17:27:02.108489Z",
     "iopub.status.idle": "2022-02-09T17:27:02.174849Z",
     "shell.execute_reply": "2022-02-09T17:27:02.174038Z",
     "shell.execute_reply.started": "2022-02-09T17:27:02.108867Z"
    }
   },
   "outputs": [],
   "source": [
    "df['brand'] = df['brand'].apply(lambda i: str(i).lower())"
   ]
  },
  {
   "cell_type": "code",
   "execution_count": 620,
   "metadata": {
    "execution": {
     "iopub.execute_input": "2022-02-09T17:27:02.176337Z",
     "iopub.status.busy": "2022-02-09T17:27:02.176014Z",
     "iopub.status.idle": "2022-02-09T17:27:02.191030Z",
     "shell.execute_reply": "2022-02-09T17:27:02.190080Z",
     "shell.execute_reply.started": "2022-02-09T17:27:02.176305Z"
    }
   },
   "outputs": [],
   "source": [
    "print(str(df['steering_wheel'].unique()))"
   ]
  },
  {
   "cell_type": "code",
   "execution_count": 621,
   "metadata": {
    "execution": {
     "iopub.execute_input": "2022-02-09T17:27:02.192472Z",
     "iopub.status.busy": "2022-02-09T17:27:02.192218Z",
     "iopub.status.idle": "2022-02-09T17:27:02.303395Z",
     "shell.execute_reply": "2022-02-09T17:27:02.302660Z",
     "shell.execute_reply.started": "2022-02-09T17:27:02.192432Z"
    }
   },
   "outputs": [],
   "source": [
    "replace_dict = {\n",
    "    'LEFT': 1, \n",
    "    'RIGHT': 0, \n",
    "    'Левый': 1, \n",
    "    'Правый': 0\n",
    "}\n",
    "df['steering_wheel'] = df['steering_wheel'].apply(lambda i: replace_dict[i] if i is not np.nan else i)"
   ]
  },
  {
   "cell_type": "code",
   "execution_count": 622,
   "metadata": {
    "execution": {
     "iopub.execute_input": "2022-02-09T17:27:02.304833Z",
     "iopub.status.busy": "2022-02-09T17:27:02.304467Z",
     "iopub.status.idle": "2022-02-09T17:27:02.319167Z",
     "shell.execute_reply": "2022-02-09T17:27:02.318271Z",
     "shell.execute_reply.started": "2022-02-09T17:27:02.304804Z"
    }
   },
   "outputs": [],
   "source": [
    "print(str(df['color'].unique()))"
   ]
  },
  {
   "cell_type": "code",
   "execution_count": 623,
   "metadata": {
    "execution": {
     "iopub.execute_input": "2022-02-09T17:27:02.321017Z",
     "iopub.status.busy": "2022-02-09T17:27:02.320421Z",
     "iopub.status.idle": "2022-02-09T17:27:02.374538Z",
     "shell.execute_reply": "2022-02-09T17:27:02.373592Z",
     "shell.execute_reply.started": "2022-02-09T17:27:02.320983Z"
    }
   },
   "outputs": [],
   "source": [
    "replace_dict = {\n",
    "    '040001': 'black',\n",
    "    'EE1D19': 'red',\n",
    "    '0000CC': 'dark_blue',\n",
    "    'CACECB': 'silver',\n",
    "    '007F00': 'green',\n",
    "    'FAFBFB': 'white',\n",
    "    '97948F': 'gray',\n",
    "    '22A0F8': 'blue',\n",
    "    '660099': 'purpule',\n",
    "    '200204': 'brown',\n",
    "    'C49648': 'beige',\n",
    "    'DEA522': 'golden',\n",
    "    '4A2197': 'violet',\n",
    "    'FFD600': 'yelow',\n",
    "    'FF8649': 'orange',\n",
    "    'FFC0CB': 'pink',\n",
    "    'синий': 'dark_blue',\n",
    "    'чёрный': 'black',\n",
    "    'серый': 'gray',\n",
    "    'коричневый': 'brown',\n",
    "    'белый': 'white',\n",
    "    'пурпурный': 'purpule',\n",
    "    'бежевый': 'beige',\n",
    "    'серебристый': 'silver',\n",
    "    'красный': 'red',\n",
    "    'зелёный': 'green',\n",
    "    'жёлтый': 'yelow',\n",
    "    'голубой': 'blue',\n",
    "    'оранжевый': 'orange',\n",
    "    'фиолетовый': 'violet',\n",
    "    'золотистый': 'golden',\n",
    "    'розовый': 'pink',\n",
    "}\n",
    "df['color'] = df['color'].apply(lambda i: replace_dict[i] if i is not np.nan else i)"
   ]
  },
  {
   "cell_type": "code",
   "execution_count": 624,
   "metadata": {
    "execution": {
     "iopub.execute_input": "2022-02-09T17:27:02.376286Z",
     "iopub.status.busy": "2022-02-09T17:27:02.375878Z",
     "iopub.status.idle": "2022-02-09T17:27:02.398846Z",
     "shell.execute_reply": "2022-02-09T17:27:02.398326Z",
     "shell.execute_reply.started": "2022-02-09T17:27:02.376243Z"
    }
   },
   "outputs": [],
   "source": [
    "print(str(df['body_type'].unique()))"
   ]
  },
  {
   "cell_type": "code",
   "execution_count": 625,
   "metadata": {
    "execution": {
     "iopub.execute_input": "2022-02-09T17:27:02.400918Z",
     "iopub.status.busy": "2022-02-09T17:27:02.400297Z",
     "iopub.status.idle": "2022-02-09T17:27:03.047770Z",
     "shell.execute_reply": "2022-02-09T17:27:03.046799Z",
     "shell.execute_reply.started": "2022-02-09T17:27:02.400871Z"
    }
   },
   "outputs": [],
   "source": [
    "\n",
    "df['body_type'] = df['body_type'].apply(lambda row: body_type_revork(row))\n"
   ]
  },
  {
   "cell_type": "code",
   "execution_count": 626,
   "metadata": {
    "execution": {
     "iopub.execute_input": "2022-02-09T17:27:03.049910Z",
     "iopub.status.busy": "2022-02-09T17:27:03.049473Z",
     "iopub.status.idle": "2022-02-09T17:27:03.069133Z",
     "shell.execute_reply": "2022-02-09T17:27:03.068245Z",
     "shell.execute_reply.started": "2022-02-09T17:27:03.049878Z"
    }
   },
   "outputs": [],
   "source": [
    "print(str(df['engine_capacity'].unique()))"
   ]
  },
  {
   "cell_type": "markdown",
   "metadata": {},
   "source": [
    "Признак содержит много лишней информации. Попробуем восстановить данные из признаков."
   ]
  },
  {
   "cell_type": "code",
   "execution_count": 627,
   "metadata": {
    "execution": {
     "iopub.execute_input": "2022-02-09T17:27:03.070430Z",
     "iopub.status.busy": "2022-02-09T17:27:03.070202Z",
     "iopub.status.idle": "2022-02-09T17:27:03.092928Z",
     "shell.execute_reply": "2022-02-09T17:27:03.092075Z",
     "shell.execute_reply.started": "2022-02-09T17:27:03.070401Z"
    }
   },
   "outputs": [],
   "source": [
    "df['customs'].unique()"
   ]
  },
  {
   "cell_type": "markdown",
   "metadata": {},
   "source": [
    "Не смотря на различие представления, признак содержит во всех записях одно и то же значение. Признак можно удалить."
   ]
  },
  {
   "cell_type": "code",
   "execution_count": 628,
   "metadata": {
    "execution": {
     "iopub.execute_input": "2022-02-09T17:27:03.094990Z",
     "iopub.status.busy": "2022-02-09T17:27:03.094598Z",
     "iopub.status.idle": "2022-02-09T17:27:03.137790Z",
     "shell.execute_reply": "2022-02-09T17:27:03.136692Z",
     "shell.execute_reply.started": "2022-02-09T17:27:03.094945Z"
    }
   },
   "outputs": [],
   "source": [
    "df = df.drop('customs', axis=1)"
   ]
  },
  {
   "cell_type": "markdown",
   "metadata": {},
   "source": [
    "Обработаем признаки с пропусками:\n",
    "- пройдёмся по каждому признаку, содержащему пропуски;\n",
    "- оценим процентное соотношение с общим числом записей; \n",
    "- выберем подходящий способ избавиться от пропусков."
   ]
  },
  {
   "cell_type": "code",
   "execution_count": 629,
   "metadata": {
    "execution": {
     "iopub.execute_input": "2022-02-09T17:27:03.139434Z",
     "iopub.status.busy": "2022-02-09T17:27:03.139199Z",
     "iopub.status.idle": "2022-02-09T17:27:03.331871Z",
     "shell.execute_reply": "2022-02-09T17:27:03.330880Z",
     "shell.execute_reply.started": "2022-02-09T17:27:03.139406Z"
    }
   },
   "outputs": [],
   "source": [
    "for i in df:\n",
    "    null_count = df[i].isnull().sum()\n",
    "    if null_count > 0:\n",
    "        print(f\"{i}: {round((null_count/df.shape[0])*100, 4)}% пропущенных значений.\")"
   ]
  },
  {
   "cell_type": "markdown",
   "metadata": {},
   "source": [
    "Рассмотрим каждый признак из этого списка в отдельности.  \n",
    "Начнём с начала."
   ]
  },
  {
   "cell_type": "markdown",
   "metadata": {},
   "source": [
    "description - признак содержит комментарий к лоту.\n",
    "Пропусков довольно много, поэтому признак стоит удалить. Однако, прежде, можно выделить из него несколько признаков, например, количество слов в комментарии, общая длина комментария, наличие комментария."
   ]
  },
  {
   "cell_type": "markdown",
   "metadata": {},
   "source": [
    "Количество слов в комментарии."
   ]
  },
  {
   "cell_type": "code",
   "execution_count": 630,
   "metadata": {
    "execution": {
     "iopub.execute_input": "2022-02-09T17:27:03.333527Z",
     "iopub.status.busy": "2022-02-09T17:27:03.333161Z",
     "iopub.status.idle": "2022-02-09T17:27:05.062661Z",
     "shell.execute_reply": "2022-02-09T17:27:05.061789Z",
     "shell.execute_reply.started": "2022-02-09T17:27:03.333491Z"
    }
   },
   "outputs": [],
   "source": [
    "df['count_word_description'] = df['description'].apply(lambda i: len(str(i).split()))\n",
    "df['count_word_description'].sample(5)"
   ]
  },
  {
   "cell_type": "markdown",
   "metadata": {},
   "source": [
    "Общая длина комментария."
   ]
  },
  {
   "cell_type": "code",
   "execution_count": 631,
   "metadata": {
    "execution": {
     "iopub.execute_input": "2022-02-09T17:27:05.064959Z",
     "iopub.status.busy": "2022-02-09T17:27:05.064400Z",
     "iopub.status.idle": "2022-02-09T17:27:05.203549Z",
     "shell.execute_reply": "2022-02-09T17:27:05.202850Z",
     "shell.execute_reply.started": "2022-02-09T17:27:05.064913Z"
    }
   },
   "outputs": [],
   "source": [
    "df['len_description'] = df['description'].apply(lambda i: len(str(i)))\n",
    "df['len_description'].sample(5)"
   ]
  },
  {
   "cell_type": "markdown",
   "metadata": {},
   "source": [
    "Наличие комментария."
   ]
  },
  {
   "cell_type": "code",
   "execution_count": 632,
   "metadata": {
    "execution": {
     "iopub.execute_input": "2022-02-09T17:27:05.205144Z",
     "iopub.status.busy": "2022-02-09T17:27:05.204769Z",
     "iopub.status.idle": "2022-02-09T17:27:05.325299Z",
     "shell.execute_reply": "2022-02-09T17:27:05.324234Z",
     "shell.execute_reply.started": "2022-02-09T17:27:05.205115Z"
    }
   },
   "outputs": [],
   "source": [
    "df['description_comment'] = df['description'].apply(lambda i: int(i is not np.nan))\n",
    "df['description_comment'].unique()"
   ]
  },
  {
   "cell_type": "code",
   "execution_count": 633,
   "metadata": {
    "execution": {
     "iopub.execute_input": "2022-02-09T17:27:05.327260Z",
     "iopub.status.busy": "2022-02-09T17:27:05.326844Z",
     "iopub.status.idle": "2022-02-09T17:27:05.368021Z",
     "shell.execute_reply": "2022-02-09T17:27:05.367166Z",
     "shell.execute_reply.started": "2022-02-09T17:27:05.327214Z"
    }
   },
   "outputs": [],
   "source": [
    "df = df.drop('description', axis=1)"
   ]
  },
  {
   "cell_type": "code",
   "execution_count": 634,
   "metadata": {
    "execution": {
     "iopub.execute_input": "2022-02-09T17:27:05.369370Z",
     "iopub.status.busy": "2022-02-09T17:27:05.369157Z",
     "iopub.status.idle": "2022-02-09T17:27:05.378622Z",
     "shell.execute_reply": "2022-02-09T17:27:05.377827Z",
     "shell.execute_reply.started": "2022-02-09T17:27:05.369331Z"
    }
   },
   "outputs": [],
   "source": [
    "df['model_date'].unique()"
   ]
  },
  {
   "cell_type": "markdown",
   "metadata": {},
   "source": [
    "Посмотрим на распределение признака пи заполнении модой и случайными значениями в диапазоне от min до max."
   ]
  },
  {
   "cell_type": "code",
   "execution_count": 635,
   "metadata": {
    "execution": {
     "iopub.execute_input": "2022-02-09T17:27:05.380194Z",
     "iopub.status.busy": "2022-02-09T17:27:05.379866Z",
     "iopub.status.idle": "2022-02-09T17:27:06.494047Z",
     "shell.execute_reply": "2022-02-09T17:27:06.493231Z",
     "shell.execute_reply.started": "2022-02-09T17:27:05.380150Z"
    }
   },
   "outputs": [],
   "source": [
    "random_fill, mode_fill = fill_numeric_nan(df['model_date'])"
   ]
  },
  {
   "cell_type": "markdown",
   "metadata": {},
   "source": [
    "Визуально распределения не различимы. Выберем вариант с заполнением случайными величинами."
   ]
  },
  {
   "cell_type": "code",
   "execution_count": 636,
   "metadata": {
    "execution": {
     "iopub.execute_input": "2022-02-09T17:27:06.495521Z",
     "iopub.status.busy": "2022-02-09T17:27:06.495267Z",
     "iopub.status.idle": "2022-02-09T17:27:06.500705Z",
     "shell.execute_reply": "2022-02-09T17:27:06.499795Z",
     "shell.execute_reply.started": "2022-02-09T17:27:06.495490Z"
    }
   },
   "outputs": [],
   "source": [
    "df['model_date'] = random_fill"
   ]
  },
  {
   "cell_type": "code",
   "execution_count": 637,
   "metadata": {
    "execution": {
     "iopub.execute_input": "2022-02-09T17:27:06.502752Z",
     "iopub.status.busy": "2022-02-09T17:27:06.502459Z",
     "iopub.status.idle": "2022-02-09T17:27:06.526342Z",
     "shell.execute_reply": "2022-02-09T17:27:06.525445Z",
     "shell.execute_reply.started": "2022-02-09T17:27:06.502712Z"
    }
   },
   "outputs": [],
   "source": [
    "df['condition'].unique()"
   ]
  },
  {
   "cell_type": "markdown",
   "metadata": {},
   "source": [
    "condition - признак описывает состояние авто.\n",
    "Пропусков чрезвычайно много. Признак однозначно подлежит удалению, но, прежде, выделим признак condition comment, который характеризует наличие или отсутствие комментария condition."
   ]
  },
  {
   "cell_type": "code",
   "execution_count": 638,
   "metadata": {
    "execution": {
     "iopub.execute_input": "2022-02-09T17:27:06.528320Z",
     "iopub.status.busy": "2022-02-09T17:27:06.528085Z",
     "iopub.status.idle": "2022-02-09T17:27:06.643557Z",
     "shell.execute_reply": "2022-02-09T17:27:06.642581Z",
     "shell.execute_reply.started": "2022-02-09T17:27:06.528290Z"
    }
   },
   "outputs": [],
   "source": [
    "df['condition_comment'] = df['condition'].apply(lambda i: int(isinstance(i, str)))\n",
    "df['condition_comment'].unique()"
   ]
  },
  {
   "cell_type": "code",
   "execution_count": 639,
   "metadata": {
    "execution": {
     "iopub.execute_input": "2022-02-09T17:27:06.644914Z",
     "iopub.status.busy": "2022-02-09T17:27:06.644695Z",
     "iopub.status.idle": "2022-02-09T17:27:06.682606Z",
     "shell.execute_reply": "2022-02-09T17:27:06.681643Z",
     "shell.execute_reply.started": "2022-02-09T17:27:06.644887Z"
    }
   },
   "outputs": [],
   "source": [
    "df = df.drop('condition', axis=1)"
   ]
  },
  {
   "cell_type": "code",
   "execution_count": 640,
   "metadata": {
    "execution": {
     "iopub.execute_input": "2022-02-09T17:27:06.684673Z",
     "iopub.status.busy": "2022-02-09T17:27:06.684117Z",
     "iopub.status.idle": "2022-02-09T17:27:06.704757Z",
     "shell.execute_reply": "2022-02-09T17:27:06.703882Z",
     "shell.execute_reply.started": "2022-02-09T17:27:06.684633Z"
    }
   },
   "outputs": [],
   "source": [
    "print(df['modification'].unique())"
   ]
  },
  {
   "cell_type": "markdown",
   "metadata": {},
   "source": [
    "modification - комбинированный признак, содержащий несколько параметров атомобиля один из которых - объём двигателя, подходит для восстановления признака engine_capacity. В остальном признак не несёт полезной информации и, не смотря на малое количество пропусков, признак подлежит удалению."
   ]
  },
  {
   "cell_type": "code",
   "execution_count": 641,
   "metadata": {
    "execution": {
     "iopub.execute_input": "2022-02-09T17:27:06.706400Z",
     "iopub.status.busy": "2022-02-09T17:27:06.706056Z",
     "iopub.status.idle": "2022-02-09T17:27:06.725852Z",
     "shell.execute_reply": "2022-02-09T17:27:06.724882Z",
     "shell.execute_reply.started": "2022-02-09T17:27:06.706330Z"
    }
   },
   "outputs": [],
   "source": [
    "df['type_of_drive'].unique()"
   ]
  },
  {
   "cell_type": "markdown",
   "metadata": {},
   "source": [
    "type_of_drive - заполним наиболее частым значением."
   ]
  },
  {
   "cell_type": "code",
   "execution_count": 642,
   "metadata": {
    "execution": {
     "iopub.execute_input": "2022-02-09T17:27:06.727226Z",
     "iopub.status.busy": "2022-02-09T17:27:06.726807Z",
     "iopub.status.idle": "2022-02-09T17:27:06.764878Z",
     "shell.execute_reply": "2022-02-09T17:27:06.763914Z",
     "shell.execute_reply.started": "2022-02-09T17:27:06.727194Z"
    }
   },
   "outputs": [],
   "source": [
    "mode = df['type_of_drive'].mode()\n",
    "df['type_of_drive'].fillna(mode[0], inplace=True)"
   ]
  },
  {
   "cell_type": "code",
   "execution_count": 643,
   "metadata": {
    "execution": {
     "iopub.execute_input": "2022-02-09T17:27:06.766308Z",
     "iopub.status.busy": "2022-02-09T17:27:06.766070Z",
     "iopub.status.idle": "2022-02-09T17:27:06.779884Z",
     "shell.execute_reply": "2022-02-09T17:27:06.779080Z",
     "shell.execute_reply.started": "2022-02-09T17:27:06.766278Z"
    }
   },
   "outputs": [],
   "source": [
    "df['licence'].unique()"
   ]
  },
  {
   "cell_type": "markdown",
   "metadata": {},
   "source": [
    "licence - заполним модой"
   ]
  },
  {
   "cell_type": "code",
   "execution_count": 644,
   "metadata": {
    "execution": {
     "iopub.execute_input": "2022-02-09T17:27:06.782196Z",
     "iopub.status.busy": "2022-02-09T17:27:06.781534Z",
     "iopub.status.idle": "2022-02-09T17:27:06.793605Z",
     "shell.execute_reply": "2022-02-09T17:27:06.792595Z",
     "shell.execute_reply.started": "2022-02-09T17:27:06.782149Z"
    }
   },
   "outputs": [],
   "source": [
    "mode = df['licence'].mode()\n",
    "df['licence'].fillna(mode[0], inplace=True)\n",
    "df['licence'] = df['licence'].astype(int)"
   ]
  },
  {
   "cell_type": "code",
   "execution_count": 645,
   "metadata": {
    "execution": {
     "iopub.execute_input": "2022-02-09T17:27:06.797509Z",
     "iopub.status.busy": "2022-02-09T17:27:06.797023Z",
     "iopub.status.idle": "2022-02-09T17:27:06.813145Z",
     "shell.execute_reply": "2022-02-09T17:27:06.812485Z",
     "shell.execute_reply.started": "2022-02-09T17:27:06.797474Z"
    }
   },
   "outputs": [],
   "source": [
    "df['engine_power'].unique()"
   ]
  },
  {
   "cell_type": "markdown",
   "metadata": {},
   "source": [
    "engine_power - признак означает мощность двигателя в лошадиных силах.  \n",
    "Посмотрим распределение заполнений случайными велиинами (от min до max) и модой."
   ]
  },
  {
   "cell_type": "code",
   "execution_count": 646,
   "metadata": {
    "execution": {
     "iopub.execute_input": "2022-02-09T17:27:06.815229Z",
     "iopub.status.busy": "2022-02-09T17:27:06.814511Z",
     "iopub.status.idle": "2022-02-09T17:27:08.010699Z",
     "shell.execute_reply": "2022-02-09T17:27:08.010031Z",
     "shell.execute_reply.started": "2022-02-09T17:27:06.815194Z"
    }
   },
   "outputs": [],
   "source": [
    "random_fill, mode_fill = fill_numeric_nan(df['engine_power'])"
   ]
  },
  {
   "cell_type": "markdown",
   "metadata": {},
   "source": [
    "Пропусков на столько мало, что различные варианты заполнений ни как не влияют на распределение признака. Выберем вариант с заполнением случайными величинами."
   ]
  },
  {
   "cell_type": "code",
   "execution_count": 647,
   "metadata": {
    "execution": {
     "iopub.execute_input": "2022-02-09T17:27:08.012311Z",
     "iopub.status.busy": "2022-02-09T17:27:08.011722Z",
     "iopub.status.idle": "2022-02-09T17:27:08.017407Z",
     "shell.execute_reply": "2022-02-09T17:27:08.016221Z",
     "shell.execute_reply.started": "2022-02-09T17:27:08.012278Z"
    }
   },
   "outputs": [],
   "source": [
    "df['engine_power'] = random_fill"
   ]
  },
  {
   "cell_type": "code",
   "execution_count": 648,
   "metadata": {
    "execution": {
     "iopub.execute_input": "2022-02-09T17:27:08.019424Z",
     "iopub.status.busy": "2022-02-09T17:27:08.018894Z",
     "iopub.status.idle": "2022-02-09T17:27:08.037065Z",
     "shell.execute_reply": "2022-02-09T17:27:08.036113Z",
     "shell.execute_reply.started": "2022-02-09T17:27:08.019381Z"
    }
   },
   "outputs": [],
   "source": [
    "df['owners'].unique()"
   ]
  },
  {
   "cell_type": "markdown",
   "metadata": {},
   "source": [
    "owners - количество владельцев. Пропусков больше 10%, однако удалять признак не стоит, и удалять записи с пропуском в данном признаке тоже. Можно заполнить пропуски случайными значениями в диапазоне от 1 до 3 (целыми значениями) или модой. Рассмотрим оба варианта и выберем тот, где распределение будет равномернее."
   ]
  },
  {
   "cell_type": "code",
   "execution_count": 649,
   "metadata": {
    "execution": {
     "iopub.execute_input": "2022-02-09T17:27:08.038866Z",
     "iopub.status.busy": "2022-02-09T17:27:08.038614Z",
     "iopub.status.idle": "2022-02-09T17:27:09.276614Z",
     "shell.execute_reply": "2022-02-09T17:27:09.275527Z",
     "shell.execute_reply.started": "2022-02-09T17:27:08.038836Z"
    }
   },
   "outputs": [],
   "source": [
    "df['owners'].fillna(5, inplace=True)\n",
    "df['owners'] = df['owners'].apply(lambda i: int(i))\n",
    "random_fill, mode_fill = fill_numeric_nan(df['owners'], replace=5)"
   ]
  },
  {
   "cell_type": "markdown",
   "metadata": {},
   "source": [
    "Очевидно что распределение лучше в случае с заполнением рандомными значениями."
   ]
  },
  {
   "cell_type": "code",
   "execution_count": 650,
   "metadata": {
    "execution": {
     "iopub.execute_input": "2022-02-09T17:27:09.279303Z",
     "iopub.status.busy": "2022-02-09T17:27:09.278451Z",
     "iopub.status.idle": "2022-02-09T17:27:09.284532Z",
     "shell.execute_reply": "2022-02-09T17:27:09.283864Z",
     "shell.execute_reply.started": "2022-02-09T17:27:09.279253Z"
    }
   },
   "outputs": [],
   "source": [
    "df['owners'] = random_fill"
   ]
  },
  {
   "cell_type": "code",
   "execution_count": 651,
   "metadata": {
    "execution": {
     "iopub.execute_input": "2022-02-09T17:27:09.286707Z",
     "iopub.status.busy": "2022-02-09T17:27:09.285948Z",
     "iopub.status.idle": "2022-02-09T17:27:09.306894Z",
     "shell.execute_reply": "2022-02-09T17:27:09.306099Z",
     "shell.execute_reply.started": "2022-02-09T17:27:09.286655Z"
    }
   },
   "outputs": [],
   "source": [
    "df['vehicle_transmission'].unique()"
   ]
  },
  {
   "cell_type": "markdown",
   "metadata": {},
   "source": [
    "vehicle_transmission - тип трансмиссии авто. Заполним модой."
   ]
  },
  {
   "cell_type": "code",
   "execution_count": 652,
   "metadata": {
    "execution": {
     "iopub.execute_input": "2022-02-09T17:27:09.309016Z",
     "iopub.status.busy": "2022-02-09T17:27:09.308552Z",
     "iopub.status.idle": "2022-02-09T17:27:09.347367Z",
     "shell.execute_reply": "2022-02-09T17:27:09.346426Z",
     "shell.execute_reply.started": "2022-02-09T17:27:09.308975Z"
    }
   },
   "outputs": [],
   "source": [
    "mode = df['vehicle_transmission'].mode()\n",
    "df['vehicle_transmission'].fillna(mode[0], inplace=True)"
   ]
  },
  {
   "cell_type": "code",
   "execution_count": 653,
   "metadata": {
    "execution": {
     "iopub.execute_input": "2022-02-09T17:27:09.349276Z",
     "iopub.status.busy": "2022-02-09T17:27:09.348872Z",
     "iopub.status.idle": "2022-02-09T17:27:09.356951Z",
     "shell.execute_reply": "2022-02-09T17:27:09.356401Z",
     "shell.execute_reply.started": "2022-02-09T17:27:09.349230Z"
    }
   },
   "outputs": [],
   "source": [
    "df['number_of_doors'].unique()"
   ]
  },
  {
   "cell_type": "markdown",
   "metadata": {},
   "source": [
    "Поступим уже привычным способом - посмотрим распределение заполнения модой и случайными величинами."
   ]
  },
  {
   "cell_type": "code",
   "execution_count": 654,
   "metadata": {
    "execution": {
     "iopub.execute_input": "2022-02-09T17:27:09.358473Z",
     "iopub.status.busy": "2022-02-09T17:27:09.358015Z",
     "iopub.status.idle": "2022-02-09T17:27:10.420658Z",
     "shell.execute_reply": "2022-02-09T17:27:10.419912Z",
     "shell.execute_reply.started": "2022-02-09T17:27:09.358440Z"
    }
   },
   "outputs": [],
   "source": [
    "random_fill, mode_fill = fill_numeric_nan(df['number_of_doors'])"
   ]
  },
  {
   "cell_type": "markdown",
   "metadata": {},
   "source": [
    "Выберем заполнение случайными величинами."
   ]
  },
  {
   "cell_type": "code",
   "execution_count": 655,
   "metadata": {
    "execution": {
     "iopub.execute_input": "2022-02-09T17:27:10.429401Z",
     "iopub.status.busy": "2022-02-09T17:27:10.429129Z",
     "iopub.status.idle": "2022-02-09T17:27:10.433847Z",
     "shell.execute_reply": "2022-02-09T17:27:10.433288Z",
     "shell.execute_reply.started": "2022-02-09T17:27:10.429361Z"
    }
   },
   "outputs": [],
   "source": [
    "df['number_of_doors'] = random_fill"
   ]
  },
  {
   "cell_type": "code",
   "execution_count": 656,
   "metadata": {
    "execution": {
     "iopub.execute_input": "2022-02-09T17:27:10.435427Z",
     "iopub.status.busy": "2022-02-09T17:27:10.434750Z",
     "iopub.status.idle": "2022-02-09T17:27:10.463882Z",
     "shell.execute_reply": "2022-02-09T17:27:10.462962Z",
     "shell.execute_reply.started": "2022-02-09T17:27:10.435385Z"
    }
   },
   "outputs": [],
   "source": [
    "df['engine_capacity'].unique()"
   ]
  },
  {
   "cell_type": "code",
   "execution_count": 657,
   "metadata": {
    "execution": {
     "iopub.execute_input": "2022-02-09T17:27:10.465814Z",
     "iopub.status.busy": "2022-02-09T17:27:10.465520Z",
     "iopub.status.idle": "2022-02-09T17:27:10.779108Z",
     "shell.execute_reply": "2022-02-09T17:27:10.778104Z",
     "shell.execute_reply.started": "2022-02-09T17:27:10.465774Z"
    }
   },
   "outputs": [],
   "source": [
    "df['engine_capacity'] = df['modification'].apply(receive_engine_capacity)\n",
    "print(df['engine_capacity'].unique())"
   ]
  },
  {
   "cell_type": "markdown",
   "metadata": {},
   "source": [
    "В данных пристутствуют электромобили, для которых не указана ёмкость батареи (можно считать аналогом объёма двигателя). В имеющихся данных есть два примера ёмкости батареи:  \n",
    "- 94Ah Electro AT (126 кВт);\n",
    "- 30kWh Electro AT (81 кВт).\n",
    "\n",
    "В киловаттчасах выражается полная ёмкость аккумуляторной батареи авто, а вот в амперчасах выражается ёмкость из расчёта величины тока, который может обеспечить аккумуляторная батарея за 1 час.\n",
    "Возьмём этот показатель (амперчас) за основу и с помощью пропорции рассчитаем примерные значения ёкости."
   ]
  },
  {
   "cell_type": "code",
   "execution_count": 658,
   "metadata": {
    "execution": {
     "iopub.execute_input": "2022-02-09T17:27:10.781086Z",
     "iopub.status.busy": "2022-02-09T17:27:10.780786Z",
     "iopub.status.idle": "2022-02-09T17:27:10.863163Z",
     "shell.execute_reply": "2022-02-09T17:27:10.862392Z",
     "shell.execute_reply.started": "2022-02-09T17:27:10.781043Z"
    }
   },
   "outputs": [],
   "source": [
    "df['engine_capacity'] = df['engine_capacity'].apply(receive_electro_capacity)"
   ]
  },
  {
   "cell_type": "code",
   "execution_count": 659,
   "metadata": {
    "execution": {
     "iopub.execute_input": "2022-02-09T17:27:10.864991Z",
     "iopub.status.busy": "2022-02-09T17:27:10.864243Z",
     "iopub.status.idle": "2022-02-09T17:27:11.925011Z",
     "shell.execute_reply": "2022-02-09T17:27:11.924429Z",
     "shell.execute_reply.started": "2022-02-09T17:27:10.864958Z"
    }
   },
   "outputs": [],
   "source": [
    "random_fill, mode_fill = fill_numeric_nan(df['engine_capacity'].apply(receive_electro_capacity))"
   ]
  },
  {
   "cell_type": "code",
   "execution_count": 660,
   "metadata": {
    "execution": {
     "iopub.execute_input": "2022-02-09T17:27:11.926501Z",
     "iopub.status.busy": "2022-02-09T17:27:11.925946Z",
     "iopub.status.idle": "2022-02-09T17:27:11.961480Z",
     "shell.execute_reply": "2022-02-09T17:27:11.960706Z",
     "shell.execute_reply.started": "2022-02-09T17:27:11.926465Z"
    }
   },
   "outputs": [],
   "source": [
    "df['engine_capacity'] = random_fill\n",
    "df = df.drop('modification', axis=1)"
   ]
  },
  {
   "cell_type": "markdown",
   "metadata": {},
   "source": [
    "ownership_time - признак содердит слишком много пропусков и воостановить данные из других признаков не представляется возможным. Удалим его."
   ]
  },
  {
   "cell_type": "code",
   "execution_count": 661,
   "metadata": {
    "execution": {
     "iopub.execute_input": "2022-02-09T17:27:11.963096Z",
     "iopub.status.busy": "2022-02-09T17:27:11.962835Z",
     "iopub.status.idle": "2022-02-09T17:27:11.986547Z",
     "shell.execute_reply": "2022-02-09T17:27:11.985479Z",
     "shell.execute_reply.started": "2022-02-09T17:27:11.963062Z"
    }
   },
   "outputs": [],
   "source": [
    "df = df.drop('ownership_time', axis=1)"
   ]
  },
  {
   "cell_type": "markdown",
   "metadata": {},
   "source": [
    "specification - так же как и предыдущий признак содержит много пропусков. Более того, содержит даные, которые есть в других признаках. Удалим его."
   ]
  },
  {
   "cell_type": "code",
   "execution_count": 662,
   "metadata": {
    "execution": {
     "iopub.execute_input": "2022-02-09T17:27:11.988520Z",
     "iopub.status.busy": "2022-02-09T17:27:11.988170Z",
     "iopub.status.idle": "2022-02-09T17:27:12.016189Z",
     "shell.execute_reply": "2022-02-09T17:27:12.015250Z",
     "shell.execute_reply.started": "2022-02-09T17:27:11.988484Z"
    }
   },
   "outputs": [],
   "source": [
    "df = df.drop('specification', axis=1)"
   ]
  },
  {
   "cell_type": "code",
   "execution_count": 663,
   "metadata": {
    "execution": {
     "iopub.execute_input": "2022-02-09T17:27:12.020611Z",
     "iopub.status.busy": "2022-02-09T17:27:12.020235Z",
     "iopub.status.idle": "2022-02-09T17:27:12.042150Z",
     "shell.execute_reply": "2022-02-09T17:27:12.041380Z",
     "shell.execute_reply.started": "2022-02-09T17:27:12.020576Z"
    }
   },
   "outputs": [],
   "source": [
    "df['vehicle_config'].unique()"
   ]
  },
  {
   "cell_type": "markdown",
   "metadata": {},
   "source": [
    "vehicle_config - комбинированный признак, содержит данные, представленные другими признаками. Подлежит удалению."
   ]
  },
  {
   "cell_type": "code",
   "execution_count": 664,
   "metadata": {
    "execution": {
     "iopub.execute_input": "2022-02-09T17:27:12.044326Z",
     "iopub.status.busy": "2022-02-09T17:27:12.043582Z",
     "iopub.status.idle": "2022-02-09T17:27:12.065772Z",
     "shell.execute_reply": "2022-02-09T17:27:12.065009Z",
     "shell.execute_reply.started": "2022-02-09T17:27:12.044282Z"
    }
   },
   "outputs": [],
   "source": [
    "df = df.drop('vehicle_config', axis=1)"
   ]
  },
  {
   "cell_type": "markdown",
   "metadata": {},
   "source": [
    "Наш таргет имеет немного пропусков. Заполним их."
   ]
  },
  {
   "cell_type": "code",
   "execution_count": 665,
   "metadata": {
    "execution": {
     "iopub.execute_input": "2022-02-09T17:27:12.067460Z",
     "iopub.status.busy": "2022-02-09T17:27:12.066979Z",
     "iopub.status.idle": "2022-02-09T17:27:13.096558Z",
     "shell.execute_reply": "2022-02-09T17:27:13.095645Z",
     "shell.execute_reply.started": "2022-02-09T17:27:12.067425Z"
    }
   },
   "outputs": [],
   "source": [
    "random_fill, mode_fill = fill_numeric_nan(df['price'].loc[df['sample'] == 0])"
   ]
  },
  {
   "cell_type": "code",
   "execution_count": 666,
   "metadata": {
    "execution": {
     "iopub.execute_input": "2022-02-09T17:27:13.098582Z",
     "iopub.status.busy": "2022-02-09T17:27:13.097996Z",
     "iopub.status.idle": "2022-02-09T17:27:13.108220Z",
     "shell.execute_reply": "2022-02-09T17:27:13.107410Z",
     "shell.execute_reply.started": "2022-02-09T17:27:13.098547Z"
    }
   },
   "outputs": [],
   "source": [
    "df['price'] = random_fill\n",
    "df['price'].fillna(0, inplace=True)"
   ]
  },
  {
   "cell_type": "markdown",
   "metadata": {},
   "source": [
    "# Feature design. Проектирование признаков."
   ]
  },
  {
   "cell_type": "markdown",
   "metadata": {},
   "source": [
    "## Восстановим признак vendor по имеющимся данным и информации из интернета. "
   ]
  },
  {
   "cell_type": "code",
   "execution_count": 667,
   "metadata": {
    "execution": {
     "iopub.execute_input": "2022-02-09T17:27:13.110634Z",
     "iopub.status.busy": "2022-02-09T17:27:13.110319Z",
     "iopub.status.idle": "2022-02-09T17:27:13.121983Z",
     "shell.execute_reply": "2022-02-09T17:27:13.121107Z",
     "shell.execute_reply.started": "2022-02-09T17:27:13.110604Z"
    }
   },
   "outputs": [],
   "source": [
    "df_test['vendor'].isnull().sum()"
   ]
  },
  {
   "cell_type": "markdown",
   "metadata": {},
   "source": [
    "Пропусков нет."
   ]
  },
  {
   "cell_type": "code",
   "execution_count": 668,
   "metadata": {
    "execution": {
     "iopub.execute_input": "2022-02-09T17:27:13.124067Z",
     "iopub.status.busy": "2022-02-09T17:27:13.123759Z",
     "iopub.status.idle": "2022-02-09T17:27:13.223188Z",
     "shell.execute_reply": "2022-02-09T17:27:13.222402Z",
     "shell.execute_reply.started": "2022-02-09T17:27:13.124026Z"
    }
   },
   "outputs": [],
   "source": [
    "group = list(pd.DataFrame(df_test.groupby(['vendor', 'brand']))[0])\n",
    "vendor_dict = {i:j for j,i in group}\n",
    "pprint(vendor_dict)\n",
    "\n",
    "train['brand'].unique()"
   ]
  },
  {
   "cell_type": "code",
   "execution_count": 669,
   "metadata": {
    "execution": {
     "iopub.execute_input": "2022-02-09T17:27:13.226188Z",
     "iopub.status.busy": "2022-02-09T17:27:13.225968Z",
     "iopub.status.idle": "2022-02-09T17:27:13.248157Z",
     "shell.execute_reply": "2022-02-09T17:27:13.247489Z",
     "shell.execute_reply.started": "2022-02-09T17:27:13.226161Z"
    }
   },
   "outputs": [],
   "source": [
    "vendor_dict = {'AUDI': 'EUROPEAN', 'BMW': 'EUROPEAN','CADILLAC': 'USA',\n",
    "            'CHERY': 'CHINESE', 'CHEVROLET': 'USA','CHRYSLER': 'USA',\n",
    "            'CITROEN': 'EUROPEAN', 'DAEWOO': 'KOREAN', 'DODGE': 'USA',\n",
    "            'FORD': 'USA', 'GEELY': 'CHINESE', 'HONDA': 'JAPANESE',\n",
    "            'HYUNDAI': 'KOREAN', 'INFINITI': 'JAPANESE', 'JAGUAR': 'EUROPEAN',\n",
    "            'JEEP': 'USA', 'KIA': 'KOREAN', 'LEXUS': 'JAPANESE',\n",
    "            'MAZDA': 'JAPANESE', 'MINI': 'EUROPEAN', 'MITSUBISHI': 'JAPANESE',\n",
    "            'NISSAN': 'JAPANESE', 'OPEL': 'EUROPEAN', 'PEUGEOT': 'EUROPEAN',\n",
    "            'PORSCHE': 'EUROPEAN', 'RENAULT': 'EUROPEAN', 'SKODA': 'EUROPEAN',\n",
    "            'SUBARU': 'JAPANESE', 'SUZUKI': 'JAPANESE', 'TOYOTA': 'JAPANESE',\n",
    "            'VOLKSWAGEN': 'EUROPEAN', 'VOLVO': 'EUROPEAN', 'GREAT_WALL': 'CHINESE',\n",
    "            'LAND_ROVER': 'EUROPEAN', 'MERCEDES': 'EUROPEAN', 'SSANG_YONG': 'KOREAN'}\n",
    "train['vendor'] = train['brand'].map(vendor_dict)"
   ]
  },
  {
   "cell_type": "markdown",
   "metadata": {},
   "source": [
    "Объединим серии и внесём признак в общий датасет."
   ]
  },
  {
   "cell_type": "code",
   "execution_count": 670,
   "metadata": {
    "execution": {
     "iopub.execute_input": "2022-02-09T17:27:13.249761Z",
     "iopub.status.busy": "2022-02-09T17:27:13.249525Z",
     "iopub.status.idle": "2022-02-09T17:27:13.258703Z",
     "shell.execute_reply": "2022-02-09T17:27:13.257982Z",
     "shell.execute_reply.started": "2022-02-09T17:27:13.249733Z"
    }
   },
   "outputs": [],
   "source": [
    "vendor = train['vendor'].append(df_test['vendor']).reset_index(drop=True)\n",
    "df['vendor'] = vendor"
   ]
  },
  {
   "cell_type": "markdown",
   "metadata": {},
   "source": [
    "Заколируем категориальные признаки."
   ]
  },
  {
   "cell_type": "code",
   "execution_count": 671,
   "metadata": {
    "execution": {
     "iopub.execute_input": "2022-02-09T17:27:13.260230Z",
     "iopub.status.busy": "2022-02-09T17:27:13.259959Z",
     "iopub.status.idle": "2022-02-09T17:27:13.435299Z",
     "shell.execute_reply": "2022-02-09T17:27:13.434121Z",
     "shell.execute_reply.started": "2022-02-09T17:27:13.260201Z"
    }
   },
   "outputs": [],
   "source": [
    "cat_columns = find_cat(df)\n",
    "\n",
    "df = pd.get_dummies(df, columns=cat_columns)\n",
    "\n",
    "# for colum in cat_columns:\n",
    "#     df[colum] = df[colum].astype('category').cat.codes"
   ]
  },
  {
   "cell_type": "markdown",
   "metadata": {},
   "source": [
    "# Корреляционный анализ."
   ]
  },
  {
   "cell_type": "code",
   "execution_count": 672,
   "metadata": {
    "execution": {
     "iopub.execute_input": "2022-02-09T17:27:13.437149Z",
     "iopub.status.busy": "2022-02-09T17:27:13.436920Z",
     "iopub.status.idle": "2022-02-09T17:27:13.467175Z",
     "shell.execute_reply": "2022-02-09T17:27:13.466452Z",
     "shell.execute_reply.started": "2022-02-09T17:27:13.437121Z"
    }
   },
   "outputs": [],
   "source": [
    "# выделим все числовые признаки в список.\n",
    "numeric_list = []\n",
    "for col in df.columns:\n",
    "    if df[col].dtypes in ['int64', 'float64'] and len(df[col].unique()) > 2:\n",
    "        numeric_list.append(col)"
   ]
  },
  {
   "cell_type": "code",
   "execution_count": 673,
   "metadata": {
    "execution": {
     "iopub.execute_input": "2022-02-09T17:27:13.468832Z",
     "iopub.status.busy": "2022-02-09T17:27:13.468611Z",
     "iopub.status.idle": "2022-02-09T17:27:14.451179Z",
     "shell.execute_reply": "2022-02-09T17:27:14.450393Z",
     "shell.execute_reply.started": "2022-02-09T17:27:13.468794Z"
    }
   },
   "outputs": [],
   "source": [
    "sns.set(rc = {'figure.figsize':(19,11)})\n",
    "sns.heatmap(df[numeric_list].corr(), \n",
    "            annot = True, fmt='.1g', linewidths = 1, cmap='coolwarm')"
   ]
  },
  {
   "cell_type": "markdown",
   "metadata": {},
   "source": [
    "Многие признаки коррелируют между собой. Исправим это."
   ]
  },
  {
   "cell_type": "markdown",
   "metadata": {},
   "source": [
    "Признаки len_description и count_word_description полностью скоррелированы между собой.  \n",
    "Оставим count_word_description."
   ]
  },
  {
   "cell_type": "code",
   "execution_count": 674,
   "metadata": {
    "execution": {
     "iopub.execute_input": "2022-02-09T17:27:14.453541Z",
     "iopub.status.busy": "2022-02-09T17:27:14.452673Z",
     "iopub.status.idle": "2022-02-09T17:27:14.472573Z",
     "shell.execute_reply": "2022-02-09T17:27:14.471497Z",
     "shell.execute_reply.started": "2022-02-09T17:27:14.453497Z"
    }
   },
   "outputs": [],
   "source": [
    "df = df.drop('len_description', axis=1)"
   ]
  },
  {
   "cell_type": "markdown",
   "metadata": {},
   "source": [
    "prod_date и model_date также полностью скоррелированы.\n",
    "Оставим model_date."
   ]
  },
  {
   "cell_type": "code",
   "execution_count": 675,
   "metadata": {
    "execution": {
     "iopub.execute_input": "2022-02-09T17:27:14.474064Z",
     "iopub.status.busy": "2022-02-09T17:27:14.473769Z",
     "iopub.status.idle": "2022-02-09T17:27:14.493909Z",
     "shell.execute_reply": "2022-02-09T17:27:14.493281Z",
     "shell.execute_reply.started": "2022-02-09T17:27:14.474021Z"
    }
   },
   "outputs": [],
   "source": [
    "df = df.drop('prod_date', axis=1)"
   ]
  },
  {
   "cell_type": "markdown",
   "metadata": {},
   "source": [
    "Пройдёмся по числовым признакам и уберём выбросы."
   ]
  },
  {
   "cell_type": "code",
   "execution_count": 676,
   "metadata": {
    "execution": {
     "iopub.execute_input": "2022-02-09T17:27:14.495080Z",
     "iopub.status.busy": "2022-02-09T17:27:14.494857Z",
     "iopub.status.idle": "2022-02-09T17:27:18.698181Z",
     "shell.execute_reply": "2022-02-09T17:27:18.697420Z",
     "shell.execute_reply.started": "2022-02-09T17:27:14.495050Z"
    }
   },
   "outputs": [],
   "source": [
    "numeric_list = []\n",
    "for col in df.columns:\n",
    "    if df[col].dtypes in ['int64', 'float64'] and len(df[col].unique()) > 2:\n",
    "        numeric_list.append(col)\n",
    "# посмотрим гистограммы\n",
    "for col in numeric_list:\n",
    "    veiw_numeric(df[col])"
   ]
  },
  {
   "cell_type": "markdown",
   "metadata": {},
   "source": [
    "Уберём выбросы в milleage."
   ]
  },
  {
   "cell_type": "code",
   "execution_count": 677,
   "metadata": {
    "execution": {
     "iopub.execute_input": "2022-02-09T17:27:18.700574Z",
     "iopub.status.busy": "2022-02-09T17:27:18.699803Z",
     "iopub.status.idle": "2022-02-09T17:27:18.711287Z",
     "shell.execute_reply": "2022-02-09T17:27:18.710189Z",
     "shell.execute_reply.started": "2022-02-09T17:27:18.700523Z"
    }
   },
   "outputs": [],
   "source": [
    "outliers = outliers_iqr(df['mileage'])"
   ]
  },
  {
   "cell_type": "code",
   "execution_count": 678,
   "metadata": {
    "execution": {
     "iopub.execute_input": "2022-02-09T17:27:18.713478Z",
     "iopub.status.busy": "2022-02-09T17:27:18.713174Z",
     "iopub.status.idle": "2022-02-09T17:27:19.329094Z",
     "shell.execute_reply": "2022-02-09T17:27:19.328449Z",
     "shell.execute_reply.started": "2022-02-09T17:27:18.713432Z"
    }
   },
   "outputs": [],
   "source": [
    "veiw_numeric(df.drop(outliers.index)['mileage'])"
   ]
  },
  {
   "cell_type": "code",
   "execution_count": 679,
   "metadata": {
    "execution": {
     "iopub.execute_input": "2022-02-09T17:27:19.330834Z",
     "iopub.status.busy": "2022-02-09T17:27:19.330439Z",
     "iopub.status.idle": "2022-02-09T17:27:21.598969Z",
     "shell.execute_reply": "2022-02-09T17:27:21.598060Z",
     "shell.execute_reply.started": "2022-02-09T17:27:19.330803Z"
    }
   },
   "outputs": [],
   "source": [
    "sqrt_log = sqrt_log_veiw(df['mileage'])"
   ]
  },
  {
   "cell_type": "markdown",
   "metadata": {},
   "source": [
    "Дабы не терять данные возьмём квадратный корень признака."
   ]
  },
  {
   "cell_type": "code",
   "execution_count": 680,
   "metadata": {
    "execution": {
     "iopub.execute_input": "2022-02-09T17:27:21.600576Z",
     "iopub.status.busy": "2022-02-09T17:27:21.600295Z",
     "iopub.status.idle": "2022-02-09T17:27:21.608039Z",
     "shell.execute_reply": "2022-02-09T17:27:21.607277Z",
     "shell.execute_reply.started": "2022-02-09T17:27:21.600545Z"
    }
   },
   "outputs": [],
   "source": [
    "df['mileage'] = sqrt_log[1]"
   ]
  },
  {
   "cell_type": "markdown",
   "metadata": {},
   "source": [
    "Попробуем уменьшить масштаб engine_capacity."
   ]
  },
  {
   "cell_type": "code",
   "execution_count": 681,
   "metadata": {
    "execution": {
     "iopub.execute_input": "2022-02-09T17:27:21.611768Z",
     "iopub.status.busy": "2022-02-09T17:27:21.611257Z",
     "iopub.status.idle": "2022-02-09T17:27:23.761527Z",
     "shell.execute_reply": "2022-02-09T17:27:23.760716Z",
     "shell.execute_reply.started": "2022-02-09T17:27:21.611733Z"
    }
   },
   "outputs": [],
   "source": [
    "# гистограммы логарифмирования\n",
    "sqrt_log = sqrt_log_veiw(df['engine_capacity'], a=1)"
   ]
  },
  {
   "cell_type": "markdown",
   "metadata": {},
   "source": [
    "Лучший результат показал квадратный корень логарифма."
   ]
  },
  {
   "cell_type": "code",
   "execution_count": 682,
   "metadata": {
    "execution": {
     "iopub.execute_input": "2022-02-09T17:27:23.763495Z",
     "iopub.status.busy": "2022-02-09T17:27:23.762901Z",
     "iopub.status.idle": "2022-02-09T17:27:23.767435Z",
     "shell.execute_reply": "2022-02-09T17:27:23.766909Z",
     "shell.execute_reply.started": "2022-02-09T17:27:23.763462Z"
    }
   },
   "outputs": [],
   "source": [
    "df['engine_capacity'] = sqrt_log[3]"
   ]
  },
  {
   "cell_type": "code",
   "execution_count": 683,
   "metadata": {
    "execution": {
     "iopub.execute_input": "2022-02-09T17:27:23.769133Z",
     "iopub.status.busy": "2022-02-09T17:27:23.768500Z",
     "iopub.status.idle": "2022-02-09T17:27:25.792108Z",
     "shell.execute_reply": "2022-02-09T17:27:25.791166Z",
     "shell.execute_reply.started": "2022-02-09T17:27:23.769103Z"
    }
   },
   "outputs": [],
   "source": [
    "sqrt_log = sqrt_log_veiw(df['price'])"
   ]
  },
  {
   "cell_type": "code",
   "execution_count": 684,
   "metadata": {
    "execution": {
     "iopub.execute_input": "2022-02-09T17:27:25.794282Z",
     "iopub.status.busy": "2022-02-09T17:27:25.793960Z",
     "iopub.status.idle": "2022-02-09T17:27:25.800891Z",
     "shell.execute_reply": "2022-02-09T17:27:25.800066Z",
     "shell.execute_reply.started": "2022-02-09T17:27:25.794237Z"
    }
   },
   "outputs": [],
   "source": [
    "df['price'] = sqrt_log[0]"
   ]
  },
  {
   "cell_type": "markdown",
   "metadata": {},
   "source": [
    "Повторно посмотрим корреляцию."
   ]
  },
  {
   "cell_type": "code",
   "execution_count": 685,
   "metadata": {
    "execution": {
     "iopub.execute_input": "2022-02-09T17:27:25.802471Z",
     "iopub.status.busy": "2022-02-09T17:27:25.802229Z",
     "iopub.status.idle": "2022-02-09T17:27:26.565683Z",
     "shell.execute_reply": "2022-02-09T17:27:26.564903Z",
     "shell.execute_reply.started": "2022-02-09T17:27:25.802443Z"
    }
   },
   "outputs": [],
   "source": [
    "sns.set(rc = {'figure.figsize':(19,11)})\n",
    "sns.heatmap(df[numeric_list].corr(), \n",
    "            annot = True, fmt='.1g', linewidths = 1, cmap='coolwarm')"
   ]
  },
  {
   "cell_type": "code",
   "execution_count": 686,
   "metadata": {
    "execution": {
     "iopub.execute_input": "2022-02-09T17:27:26.567308Z",
     "iopub.status.busy": "2022-02-09T17:27:26.567036Z",
     "iopub.status.idle": "2022-02-09T17:27:26.586021Z",
     "shell.execute_reply": "2022-02-09T17:27:26.585421Z",
     "shell.execute_reply.started": "2022-02-09T17:27:26.567275Z"
    }
   },
   "outputs": [],
   "source": [
    "df = df.drop(['engine_capacity', 'model_date', 'count_word_description'], axis=1)"
   ]
  },
  {
   "cell_type": "markdown",
   "metadata": {},
   "source": [
    "### Разделим датасеты."
   ]
  },
  {
   "cell_type": "code",
   "execution_count": 687,
   "metadata": {
    "execution": {
     "iopub.execute_input": "2022-02-09T17:27:26.587983Z",
     "iopub.status.busy": "2022-02-09T17:27:26.587224Z",
     "iopub.status.idle": "2022-02-09T17:27:26.694766Z",
     "shell.execute_reply": "2022-02-09T17:27:26.693835Z",
     "shell.execute_reply.started": "2022-02-09T17:27:26.587947Z"
    }
   },
   "outputs": [],
   "source": [
    "train = df.loc[df[\"sample\"] == 0].drop(\"sample\", axis=1)\n",
    "test = df.loc[df[\"sample\"] == 1].drop(['sample', 'price'], axis=1)\n",
    "\n",
    "# разделим данные\n",
    "X = train.drop(['price'], axis = 1)\n",
    "y = train['price'] \n",
    "X_train, X_test, y_train, y_test = train_test_split(X, y, test_size=TEST_SIZE, \n",
    "                                                    shuffle=True, random_state=RANDOM_SEED)"
   ]
  },
  {
   "cell_type": "markdown",
   "metadata": {},
   "source": [
    "# Naive model. Наивная модель."
   ]
  },
  {
   "cell_type": "markdown",
   "metadata": {},
   "source": [
    "Наивная модель будет предсказывать цену авто по медианному пробегу."
   ]
  },
  {
   "cell_type": "code",
   "execution_count": 688,
   "metadata": {
    "execution": {
     "iopub.execute_input": "2022-02-09T17:27:26.697343Z",
     "iopub.status.busy": "2022-02-09T17:27:26.697115Z",
     "iopub.status.idle": "2022-02-09T17:27:26.718844Z",
     "shell.execute_reply": "2022-02-09T17:27:26.718067Z",
     "shell.execute_reply.started": "2022-02-09T17:27:26.697317Z"
    }
   },
   "outputs": [],
   "source": [
    "predict = X_test['mileage'].map(train.groupby('mileage')['price'].median())\n",
    "print(f\"Точность модели по метрике MAPE: {(mape(y_test, predict)):0.2f}%\")"
   ]
  },
  {
   "cell_type": "markdown",
   "metadata": {},
   "source": [
    "Даже такая примитивная модель поазывает отличные результаты.\n",
    "\n",
    "Попробуем побить этот результат."
   ]
  },
  {
   "cell_type": "markdown",
   "metadata": {},
   "source": [
    "# Research. Исследование."
   ]
  },
  {
   "cell_type": "markdown",
   "metadata": {},
   "source": [
    "Следующие 4 модели были выбраны как самые понятные, в надежде что они покажут хороший результат. Больше всего надежд возлагается на CatBoost."
   ]
  },
  {
   "cell_type": "markdown",
   "metadata": {},
   "source": [
    "## Простая линейная регрессия"
   ]
  },
  {
   "cell_type": "code",
   "execution_count": 689,
   "metadata": {
    "execution": {
     "iopub.execute_input": "2022-02-09T17:27:26.720224Z",
     "iopub.status.busy": "2022-02-09T17:27:26.720016Z",
     "iopub.status.idle": "2022-02-09T17:27:27.123534Z",
     "shell.execute_reply": "2022-02-09T17:27:27.122578Z",
     "shell.execute_reply.started": "2022-02-09T17:27:26.720199Z"
    }
   },
   "outputs": [],
   "source": [
    "linear_regr = LinearRegression().fit(X_train, y_train)\n",
    "lin_predict = linear_regr.predict(X_test)\n",
    "print(f\"Точность модели по метрике MAPE: {(mape(y_test, lin_predict)):0.2f}%\")"
   ]
  },
  {
   "cell_type": "markdown",
   "metadata": {},
   "source": [
    "Линейная регрессия прекрасно справляется с поставленной задачей."
   ]
  },
  {
   "cell_type": "markdown",
   "metadata": {},
   "source": [
    "## Cat_Boost"
   ]
  },
  {
   "cell_type": "code",
   "execution_count": 690,
   "metadata": {
    "execution": {
     "iopub.execute_input": "2022-02-09T17:27:27.126038Z",
     "iopub.status.busy": "2022-02-09T17:27:27.125453Z",
     "iopub.status.idle": "2022-02-09T17:27:57.582822Z",
     "shell.execute_reply": "2022-02-09T17:27:57.581881Z",
     "shell.execute_reply.started": "2022-02-09T17:27:27.125990Z"
    }
   },
   "outputs": [],
   "source": [
    "cat_boost_model = CatBoostRegressor(iterations = 700,\n",
    "                       random_seed = RANDOM_SEED,\n",
    "                       eval_metric='MAPE',\n",
    "                       custom_metric=['R2', 'MAE'],\n",
    "                       silent=True,\n",
    "                       learning_rate=0.13, depth=12,\n",
    "                       l2_leaf_reg=8, random_strength=0.3)\n",
    "\n",
    "cat_boost_model.fit(X_train, y_train,\n",
    "         eval_set=(X_test, y_test),\n",
    "         verbose_eval=0,\n",
    "         use_best_model=True,\n",
    "         plot=True\n",
    "         )\n",
    "\n",
    "# оцениваем точность\n",
    "predict_cb = cat_boost_model.predict(X_test)\n",
    "print(f\"Точность модели по метрике MAPE: {(mape(y_test, predict_cb)):0.2f}%\")"
   ]
  },
  {
   "cell_type": "markdown",
   "metadata": {},
   "source": [
    "Как и ожидалось CatBoost показывает отличный результат.\n",
    "\n",
    "Предполагаю что данная модель будет лучшей."
   ]
  },
  {
   "cell_type": "markdown",
   "metadata": {},
   "source": [
    "## Случайный лес."
   ]
  },
  {
   "cell_type": "code",
   "execution_count": 691,
   "metadata": {
    "execution": {
     "iopub.execute_input": "2022-02-09T17:27:57.584325Z",
     "iopub.status.busy": "2022-02-09T17:27:57.584114Z",
     "iopub.status.idle": "2022-02-09T17:29:31.189033Z",
     "shell.execute_reply": "2022-02-09T17:29:31.186979Z",
     "shell.execute_reply.started": "2022-02-09T17:27:57.584299Z"
    }
   },
   "outputs": [],
   "source": [
    "rfr_model = RandomForestRegressor(random_state=RANDOM_SEED,\n",
    "                                  n_estimators=300,\n",
    "                                  min_samples_split=2,\n",
    "                                  min_samples_leaf=1,\n",
    "                                  max_features='sqrt',\n",
    "                                  max_depth=None,\n",
    "                                  bootstrap=False)\n",
    "\n",
    "rfr_model.fit(X_train, y_train)\n",
    "\n",
    "\n",
    "predict_rfr = rfr_model.predict(X_test)\n",
    "print(f\"Точность модели по метрике MAPE: {(mape(y_test, predict_rfr)):0.2f}%\")"
   ]
  },
  {
   "cell_type": "markdown",
   "metadata": {},
   "source": [
    "Случайный лес дал хороший результат, за малым хуже CatBoost."
   ]
  },
  {
   "cell_type": "markdown",
   "metadata": {},
   "source": [
    "## Градиентный бустинг"
   ]
  },
  {
   "cell_type": "code",
   "execution_count": 692,
   "metadata": {
    "execution": {
     "iopub.execute_input": "2022-02-09T17:29:31.191338Z",
     "iopub.status.busy": "2022-02-09T17:29:31.191070Z",
     "iopub.status.idle": "2022-02-09T17:30:20.680763Z",
     "shell.execute_reply": "2022-02-09T17:30:20.679796Z",
     "shell.execute_reply.started": "2022-02-09T17:29:31.191303Z"
    }
   },
   "outputs": [],
   "source": [
    "gbr_model = GradientBoostingRegressor(random_state=RANDOM_SEED,\n",
    "                                      n_estimators=800,\n",
    "                                      min_samples_split=5,\n",
    "                                      min_samples_leaf=4,\n",
    "                                      max_features='sqrt',\n",
    "                                      max_depth=9)\n",
    "gbr_model.fit(X_train, y_train)\n",
    "\n",
    "predict_gbr = gbr_model.predict(X_test)\n",
    "print(f\"Точность модели по метрике MAPE: {(mape(y_test, predict_gbr)):0.2f}%\")"
   ]
  },
  {
   "cell_type": "markdown",
   "metadata": {},
   "source": [
    "Градиентный бустинг так же превосходно справился со своей задачей, но всё же несколько хуже CatBoost."
   ]
  },
  {
   "cell_type": "markdown",
   "metadata": {},
   "source": [
    "# Final model. Финальная модель."
   ]
  },
  {
   "cell_type": "markdown",
   "metadata": {},
   "source": [
    "Все модели показали отличный результат.  \n",
    "В качестве финальной модели выберем CatBoost потому что она показала наилучший результат."
   ]
  },
  {
   "cell_type": "code",
   "execution_count": 693,
   "metadata": {
    "execution": {
     "iopub.execute_input": "2022-02-09T17:30:20.682406Z",
     "iopub.status.busy": "2022-02-09T17:30:20.682105Z",
     "iopub.status.idle": "2022-02-09T17:30:20.760740Z",
     "shell.execute_reply": "2022-02-09T17:30:20.759870Z",
     "shell.execute_reply.started": "2022-02-09T17:30:20.682372Z"
    }
   },
   "outputs": [],
   "source": [
    "subm =np.exp(cat_boost_model.predict(test)).astype('int')\n",
    "subm"
   ]
  },
  {
   "cell_type": "code",
   "execution_count": 694,
   "metadata": {
    "execution": {
     "iopub.execute_input": "2022-02-09T17:30:20.762921Z",
     "iopub.status.busy": "2022-02-09T17:30:20.762044Z",
     "iopub.status.idle": "2022-02-09T17:30:20.849798Z",
     "shell.execute_reply": "2022-02-09T17:30:20.849050Z",
     "shell.execute_reply.started": "2022-02-09T17:30:20.762887Z"
    }
   },
   "outputs": [],
   "source": [
    "sample_submission['price'] = subm\n",
    "sample_submission.to_csv('submission.csv', index=False)"
   ]
  },
  {
   "cell_type": "markdown",
   "metadata": {},
   "source": [
    "# Выводы\n",
    "Были изучены новые алгоритмы и обучена модель, которая показывает результат высокого уровня.  \n",
    "Можно считать что поставленная задача выполнена."
   ]
  }
 ],
 "metadata": {
  "kernelspec": {
   "display_name": "Python 3 (ipykernel)",
   "language": "python",
   "name": "python3"
  },
  "language_info": {
   "codemirror_mode": {
    "name": "ipython",
    "version": 3
   },
   "file_extension": ".py",
   "mimetype": "text/x-python",
   "name": "python",
   "nbconvert_exporter": "python",
   "pygments_lexer": "ipython3",
   "version": "3.9.13"
  },
  "varInspector": {
   "cols": {
    "lenName": 16,
    "lenType": 16,
    "lenVar": 40
   },
   "kernels_config": {
    "python": {
     "delete_cmd_postfix": "",
     "delete_cmd_prefix": "del ",
     "library": "var_list.py",
     "varRefreshCmd": "print(var_dic_list())"
    },
    "r": {
     "delete_cmd_postfix": ") ",
     "delete_cmd_prefix": "rm(",
     "library": "var_list.r",
     "varRefreshCmd": "cat(var_dic_list()) "
    }
   },
   "types_to_exclude": [
    "module",
    "function",
    "builtin_function_or_method",
    "instance",
    "_Feature"
   ],
   "window_display": false
  }
 },
 "nbformat": 4,
 "nbformat_minor": 4
}
