{
 "cells": [
  {
   "cell_type": "markdown",
   "id": "7de06f48",
   "metadata": {},
   "source": [
    "# 7.1. О чём этот модуль"
   ]
  },
  {
   "cell_type": "markdown",
   "id": "547ec1b7",
   "metadata": {},
   "source": []
  },
  {
   "cell_type": "markdown",
   "id": "ae32a8ef",
   "metadata": {},
   "source": []
  },
  {
   "cell_type": "markdown",
   "id": "aa6b44c2",
   "metadata": {},
   "source": []
  },
  {
   "cell_type": "markdown",
   "id": "e95732a9",
   "metadata": {},
   "source": []
  },
  {
   "cell_type": "markdown",
   "id": "724587a4",
   "metadata": {},
   "source": []
  },
  {
   "cell_type": "markdown",
   "id": "fd2c6310",
   "metadata": {},
   "source": []
  },
  {
   "cell_type": "markdown",
   "id": "8ec51221",
   "metadata": {},
   "source": []
  },
  {
   "cell_type": "markdown",
   "id": "b54fc167",
   "metadata": {},
   "source": []
  },
  {
   "cell_type": "markdown",
   "id": "39d0f704",
   "metadata": {},
   "source": []
  },
  {
   "cell_type": "markdown",
   "id": "961648f6",
   "metadata": {},
   "source": []
  },
  {
   "cell_type": "markdown",
   "id": "80e95683",
   "metadata": {},
   "source": []
  },
  {
   "cell_type": "markdown",
   "id": "2e5b8a62",
   "metadata": {},
   "source": []
  },
  {
   "cell_type": "markdown",
   "id": "f6822b7b",
   "metadata": {},
   "source": []
  },
  {
   "cell_type": "markdown",
   "id": "8bb6bec8",
   "metadata": {},
   "source": []
  },
  {
   "cell_type": "markdown",
   "id": "64cc3acf",
   "metadata": {},
   "source": []
  },
  {
   "cell_type": "markdown",
   "id": "c7bc570c",
   "metadata": {},
   "source": []
  },
  {
   "cell_type": "markdown",
   "id": "f10ce408",
   "metadata": {},
   "source": []
  },
  {
   "cell_type": "markdown",
   "id": "cca76157",
   "metadata": {},
   "source": []
  },
  {
   "cell_type": "markdown",
   "id": "e5627104",
   "metadata": {},
   "source": []
  },
  {
   "cell_type": "markdown",
   "id": "05d24aae",
   "metadata": {},
   "source": []
  },
  {
   "cell_type": "markdown",
   "id": "b0f53a81",
   "metadata": {},
   "source": []
  },
  {
   "cell_type": "markdown",
   "id": "17f6af6f",
   "metadata": {},
   "source": []
  },
  {
   "cell_type": "markdown",
   "id": "273ab1b1",
   "metadata": {},
   "source": []
  },
  {
   "cell_type": "markdown",
   "id": "2a8e9d1a",
   "metadata": {},
   "source": []
  },
  {
   "cell_type": "markdown",
   "id": "1071350e",
   "metadata": {},
   "source": []
  },
  {
   "cell_type": "markdown",
   "id": "41a99ac6",
   "metadata": {},
   "source": []
  },
  {
   "cell_type": "markdown",
   "id": "79c72141",
   "metadata": {},
   "source": []
  },
  {
   "cell_type": "markdown",
   "id": "b574bc1e",
   "metadata": {},
   "source": []
  },
  {
   "cell_type": "markdown",
   "id": "4d8dd9c9",
   "metadata": {},
   "source": []
  },
  {
   "cell_type": "markdown",
   "id": "2e3eb322",
   "metadata": {},
   "source": []
  },
  {
   "cell_type": "markdown",
   "id": "00fb6bea",
   "metadata": {},
   "source": []
  },
  {
   "cell_type": "markdown",
   "id": "f78b2318",
   "metadata": {},
   "source": []
  },
  {
   "cell_type": "markdown",
   "id": "144e8e93",
   "metadata": {},
   "source": []
  },
  {
   "cell_type": "markdown",
   "id": "9eb8d025",
   "metadata": {},
   "source": []
  },
  {
   "cell_type": "markdown",
   "id": "490b69d1",
   "metadata": {},
   "source": []
  },
  {
   "cell_type": "markdown",
   "id": "5a70b66d",
   "metadata": {},
   "source": []
  },
  {
   "cell_type": "markdown",
   "id": "bbef3c16",
   "metadata": {},
   "source": []
  },
  {
   "cell_type": "markdown",
   "id": "26f71434",
   "metadata": {},
   "source": []
  },
  {
   "cell_type": "markdown",
   "id": "687905e3",
   "metadata": {},
   "source": []
  },
  {
   "cell_type": "markdown",
   "id": "05422513",
   "metadata": {},
   "source": []
  },
  {
   "cell_type": "markdown",
   "id": "b109f347",
   "metadata": {},
   "source": []
  },
  {
   "cell_type": "markdown",
   "id": "127c2736",
   "metadata": {},
   "source": []
  },
  {
   "cell_type": "markdown",
   "id": "3a4f42c1",
   "metadata": {},
   "source": []
  },
  {
   "cell_type": "markdown",
   "id": "1c3b92fc",
   "metadata": {},
   "source": []
  },
  {
   "cell_type": "markdown",
   "id": "50c6aa9a",
   "metadata": {},
   "source": []
  },
  {
   "cell_type": "markdown",
   "id": "21d88264",
   "metadata": {},
   "source": []
  },
  {
   "cell_type": "markdown",
   "id": "d0c13c98",
   "metadata": {},
   "source": []
  },
  {
   "cell_type": "markdown",
   "id": "bb2efb40",
   "metadata": {},
   "source": []
  },
  {
   "cell_type": "markdown",
   "id": "0208e331",
   "metadata": {},
   "source": []
  },
  {
   "cell_type": "markdown",
   "id": "d3ac2f31",
   "metadata": {},
   "source": []
  },
  {
   "cell_type": "markdown",
   "id": "ba15b05c",
   "metadata": {},
   "source": []
  },
  {
   "cell_type": "markdown",
   "id": "2594e5b4",
   "metadata": {},
   "source": []
  },
  {
   "cell_type": "markdown",
   "id": "6cf6e234",
   "metadata": {},
   "source": []
  },
  {
   "cell_type": "markdown",
   "id": "dc8e13f0",
   "metadata": {},
   "source": []
  },
  {
   "cell_type": "markdown",
   "id": "18d57b4c",
   "metadata": {},
   "source": []
  },
  {
   "cell_type": "markdown",
   "id": "2dceb64c",
   "metadata": {},
   "source": []
  },
  {
   "cell_type": "markdown",
   "id": "92868fb2",
   "metadata": {},
   "source": []
  },
  {
   "cell_type": "markdown",
   "id": "b17ef6aa",
   "metadata": {},
   "source": []
  },
  {
   "cell_type": "markdown",
   "id": "3eab97f9",
   "metadata": {},
   "source": []
  },
  {
   "cell_type": "markdown",
   "id": "10561e02",
   "metadata": {},
   "source": []
  },
  {
   "cell_type": "markdown",
   "id": "5b61daee",
   "metadata": {},
   "source": []
  },
  {
   "cell_type": "markdown",
   "id": "fe39b34c",
   "metadata": {},
   "source": []
  },
  {
   "cell_type": "markdown",
   "id": "9d62029f",
   "metadata": {},
   "source": []
  },
  {
   "cell_type": "markdown",
   "id": "a10a7550",
   "metadata": {},
   "source": []
  },
  {
   "cell_type": "markdown",
   "id": "cd4f2b02",
   "metadata": {},
   "source": []
  },
  {
   "cell_type": "markdown",
   "id": "f0cf16dd",
   "metadata": {},
   "source": []
  }
 ],
 "metadata": {
  "kernelspec": {
   "display_name": "Python 3",
   "language": "python",
   "name": "python3"
  },
  "language_info": {
   "codemirror_mode": {
    "name": "ipython",
    "version": 3
   },
   "file_extension": ".py",
   "mimetype": "text/x-python",
   "name": "python",
   "nbconvert_exporter": "python",
   "pygments_lexer": "ipython3",
   "version": "3.8.8"
  },
  "varInspector": {
   "cols": {
    "lenName": 16,
    "lenType": 16,
    "lenVar": 40
   },
   "kernels_config": {
    "python": {
     "delete_cmd_postfix": "",
     "delete_cmd_prefix": "del ",
     "library": "var_list.py",
     "varRefreshCmd": "print(var_dic_list())"
    },
    "r": {
     "delete_cmd_postfix": ") ",
     "delete_cmd_prefix": "rm(",
     "library": "var_list.r",
     "varRefreshCmd": "cat(var_dic_list()) "
    }
   },
   "types_to_exclude": [
    "module",
    "function",
    "builtin_function_or_method",
    "instance",
    "_Feature"
   ],
   "window_display": false
  }
 },
 "nbformat": 4,
 "nbformat_minor": 5
}
