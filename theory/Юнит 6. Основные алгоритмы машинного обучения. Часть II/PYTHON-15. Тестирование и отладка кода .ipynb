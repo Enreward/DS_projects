{
 "cells": [
  {
   "cell_type": "markdown",
   "id": "8d3a37de",
   "metadata": {},
   "source": [
    "# 1. Введение\n"
   ]
  },
  {
   "cell_type": "markdown",
   "id": "b9443a2b",
   "metadata": {},
   "source": []
  },
  {
   "cell_type": "markdown",
   "id": "b8e40c1f",
   "metadata": {},
   "source": []
  },
  {
   "cell_type": "markdown",
   "id": "5ba6002c",
   "metadata": {},
   "source": []
  },
  {
   "cell_type": "markdown",
   "id": "1dc3002b",
   "metadata": {},
   "source": []
  },
  {
   "cell_type": "markdown",
   "id": "dedd122f",
   "metadata": {},
   "source": []
  },
  {
   "cell_type": "markdown",
   "id": "a23dea0d",
   "metadata": {},
   "source": []
  },
  {
   "cell_type": "markdown",
   "id": "025b2944",
   "metadata": {},
   "source": []
  },
  {
   "cell_type": "markdown",
   "id": "0793d7e7",
   "metadata": {},
   "source": []
  },
  {
   "cell_type": "markdown",
   "id": "0a958494",
   "metadata": {},
   "source": []
  },
  {
   "cell_type": "markdown",
   "id": "712efbcd",
   "metadata": {},
   "source": []
  },
  {
   "cell_type": "markdown",
   "id": "8e6b22f7",
   "metadata": {},
   "source": []
  },
  {
   "cell_type": "markdown",
   "id": "e1840976",
   "metadata": {},
   "source": []
  },
  {
   "cell_type": "markdown",
   "id": "b7f2d5e2",
   "metadata": {},
   "source": []
  },
  {
   "cell_type": "markdown",
   "id": "56f7bc43",
   "metadata": {},
   "source": []
  },
  {
   "cell_type": "markdown",
   "id": "8ede7b0e",
   "metadata": {},
   "source": []
  },
  {
   "cell_type": "markdown",
   "id": "de926bd0",
   "metadata": {},
   "source": []
  },
  {
   "cell_type": "markdown",
   "id": "f9381e7f",
   "metadata": {},
   "source": []
  },
  {
   "cell_type": "markdown",
   "id": "7cd57932",
   "metadata": {},
   "source": []
  },
  {
   "cell_type": "markdown",
   "id": "1979ae4b",
   "metadata": {},
   "source": []
  },
  {
   "cell_type": "markdown",
   "id": "1445b39f",
   "metadata": {},
   "source": []
  },
  {
   "cell_type": "markdown",
   "id": "2cf11c67",
   "metadata": {},
   "source": []
  },
  {
   "cell_type": "markdown",
   "id": "f7dd7191",
   "metadata": {},
   "source": []
  },
  {
   "cell_type": "markdown",
   "id": "ba857ee2",
   "metadata": {},
   "source": []
  },
  {
   "cell_type": "markdown",
   "id": "786324c8",
   "metadata": {},
   "source": []
  },
  {
   "cell_type": "markdown",
   "id": "1d6ec15e",
   "metadata": {},
   "source": []
  },
  {
   "cell_type": "markdown",
   "id": "84a28866",
   "metadata": {},
   "source": []
  },
  {
   "cell_type": "markdown",
   "id": "636f73fc",
   "metadata": {},
   "source": []
  },
  {
   "cell_type": "markdown",
   "id": "c5ba6548",
   "metadata": {},
   "source": []
  },
  {
   "cell_type": "markdown",
   "id": "c356e620",
   "metadata": {},
   "source": []
  },
  {
   "cell_type": "markdown",
   "id": "1a6abdcd",
   "metadata": {},
   "source": []
  },
  {
   "cell_type": "markdown",
   "id": "2e28c431",
   "metadata": {},
   "source": []
  },
  {
   "cell_type": "markdown",
   "id": "454d3022",
   "metadata": {},
   "source": []
  },
  {
   "cell_type": "markdown",
   "id": "a7705c7a",
   "metadata": {},
   "source": []
  },
  {
   "cell_type": "markdown",
   "id": "b6d50200",
   "metadata": {},
   "source": []
  },
  {
   "cell_type": "markdown",
   "id": "f28f02d1",
   "metadata": {},
   "source": []
  },
  {
   "cell_type": "markdown",
   "id": "69e1b857",
   "metadata": {},
   "source": []
  },
  {
   "cell_type": "markdown",
   "id": "582004a8",
   "metadata": {},
   "source": []
  },
  {
   "cell_type": "markdown",
   "id": "20224671",
   "metadata": {},
   "source": []
  },
  {
   "cell_type": "markdown",
   "id": "21e0a481",
   "metadata": {},
   "source": []
  },
  {
   "cell_type": "markdown",
   "id": "6219dae9",
   "metadata": {},
   "source": []
  },
  {
   "cell_type": "markdown",
   "id": "b9419399",
   "metadata": {},
   "source": []
  },
  {
   "cell_type": "markdown",
   "id": "1c24324f",
   "metadata": {},
   "source": []
  },
  {
   "cell_type": "markdown",
   "id": "b4a0fec8",
   "metadata": {},
   "source": []
  },
  {
   "cell_type": "markdown",
   "id": "1feb3ef7",
   "metadata": {},
   "source": []
  },
  {
   "cell_type": "markdown",
   "id": "9305d697",
   "metadata": {},
   "source": []
  },
  {
   "cell_type": "markdown",
   "id": "cf12218e",
   "metadata": {},
   "source": []
  },
  {
   "cell_type": "markdown",
   "id": "d6ea89ae",
   "metadata": {},
   "source": []
  },
  {
   "cell_type": "markdown",
   "id": "a6383708",
   "metadata": {},
   "source": []
  },
  {
   "cell_type": "markdown",
   "id": "23007295",
   "metadata": {},
   "source": []
  },
  {
   "cell_type": "markdown",
   "id": "084ca2d7",
   "metadata": {},
   "source": []
  },
  {
   "cell_type": "markdown",
   "id": "56a879ec",
   "metadata": {},
   "source": []
  },
  {
   "cell_type": "markdown",
   "id": "2c835629",
   "metadata": {},
   "source": []
  },
  {
   "cell_type": "markdown",
   "id": "9379b125",
   "metadata": {},
   "source": []
  },
  {
   "cell_type": "markdown",
   "id": "239ba4e8",
   "metadata": {},
   "source": []
  },
  {
   "cell_type": "markdown",
   "id": "5ea7b307",
   "metadata": {},
   "source": []
  },
  {
   "cell_type": "markdown",
   "id": "3b47a301",
   "metadata": {},
   "source": []
  },
  {
   "cell_type": "markdown",
   "id": "71b69079",
   "metadata": {},
   "source": []
  },
  {
   "cell_type": "markdown",
   "id": "3c3c8471",
   "metadata": {},
   "source": []
  },
  {
   "cell_type": "markdown",
   "id": "67959f10",
   "metadata": {},
   "source": []
  },
  {
   "cell_type": "markdown",
   "id": "c6ec64ce",
   "metadata": {},
   "source": []
  },
  {
   "cell_type": "markdown",
   "id": "71994444",
   "metadata": {},
   "source": []
  }
 ],
 "metadata": {
  "kernelspec": {
   "display_name": "Python 3",
   "language": "python",
   "name": "python3"
  },
  "language_info": {
   "codemirror_mode": {
    "name": "ipython",
    "version": 3
   },
   "file_extension": ".py",
   "mimetype": "text/x-python",
   "name": "python",
   "nbconvert_exporter": "python",
   "pygments_lexer": "ipython3",
   "version": "3.8.8"
  },
  "varInspector": {
   "cols": {
    "lenName": 16,
    "lenType": 16,
    "lenVar": 40
   },
   "kernels_config": {
    "python": {
     "delete_cmd_postfix": "",
     "delete_cmd_prefix": "del ",
     "library": "var_list.py",
     "varRefreshCmd": "print(var_dic_list())"
    },
    "r": {
     "delete_cmd_postfix": ") ",
     "delete_cmd_prefix": "rm(",
     "library": "var_list.r",
     "varRefreshCmd": "cat(var_dic_list()) "
    }
   },
   "types_to_exclude": [
    "module",
    "function",
    "builtin_function_or_method",
    "instance",
    "_Feature"
   ],
   "window_display": false
  }
 },
 "nbformat": 4,
 "nbformat_minor": 5
}
