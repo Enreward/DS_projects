{
 "cells": [
  {
   "cell_type": "markdown",
   "id": "3e6ce22b",
   "metadata": {},
   "source": [
    "# Введение\n",
    "В предыдущих модулях вы видели, как работать с данными. В реальных проектах данные зачастую не лежат в готовом виде, и для анализа вам нужно сначала их собрать, например, скопировав со сторонних веб-сайтов.\n",
    "\n",
    "В этом модуле мы рассмотрим, как Python позволяет упростить подобный сбор информации и даже получить доступ к данным, которые руками собрать невозможно. В частности, мы рассмотрим:\n",
    "- в каком виде информация обычно располагается в интернете;\n",
    "- напишем скрипты, которые собирают данные с веб-сайтов, используя библиотеки requests и BeautifulSoup;\n",
    "- разберёмся, что такое программный интерфейс веб-сервисов (API) и как его использовать; для примера мы будем забирать данные из ВКонтакте.\n",
    "\n",
    "К концу модуля вы сможете писать программы, которые могут избавить вас от многих часов монотонной работы и расширят спектр собираемой информации."
   ]
  },
  {
   "cell_type": "markdown",
   "id": "fbf7ae54",
   "metadata": {},
   "source": []
  },
  {
   "cell_type": "markdown",
   "id": "c3f8add3",
   "metadata": {},
   "source": []
  },
  {
   "cell_type": "markdown",
   "id": "0a8de3dd",
   "metadata": {},
   "source": []
  },
  {
   "cell_type": "markdown",
   "id": "b62b78b4",
   "metadata": {},
   "source": []
  },
  {
   "cell_type": "markdown",
   "id": "cc0cfcf5",
   "metadata": {},
   "source": []
  },
  {
   "cell_type": "markdown",
   "id": "462825d0",
   "metadata": {},
   "source": []
  },
  {
   "cell_type": "markdown",
   "id": "63d17f8a",
   "metadata": {},
   "source": []
  },
  {
   "cell_type": "markdown",
   "id": "7237c769",
   "metadata": {},
   "source": []
  },
  {
   "cell_type": "markdown",
   "id": "a9e8a702",
   "metadata": {},
   "source": []
  },
  {
   "cell_type": "markdown",
   "id": "baa78615",
   "metadata": {},
   "source": []
  },
  {
   "cell_type": "markdown",
   "id": "eba0dda0",
   "metadata": {},
   "source": []
  },
  {
   "cell_type": "markdown",
   "id": "159d7e20",
   "metadata": {},
   "source": []
  },
  {
   "cell_type": "markdown",
   "id": "3bd1b5cc",
   "metadata": {},
   "source": []
  },
  {
   "cell_type": "markdown",
   "id": "9ecf915f",
   "metadata": {},
   "source": []
  },
  {
   "cell_type": "markdown",
   "id": "aa7c94a7",
   "metadata": {},
   "source": []
  },
  {
   "cell_type": "markdown",
   "id": "6f0afcca",
   "metadata": {},
   "source": []
  },
  {
   "cell_type": "markdown",
   "id": "456bfab9",
   "metadata": {},
   "source": []
  },
  {
   "cell_type": "markdown",
   "id": "7e81d2b4",
   "metadata": {},
   "source": []
  },
  {
   "cell_type": "markdown",
   "id": "26ac8172",
   "metadata": {},
   "source": []
  },
  {
   "cell_type": "markdown",
   "id": "951253f4",
   "metadata": {},
   "source": []
  },
  {
   "cell_type": "markdown",
   "id": "b3834386",
   "metadata": {},
   "source": []
  },
  {
   "cell_type": "markdown",
   "id": "aaede657",
   "metadata": {},
   "source": []
  },
  {
   "cell_type": "markdown",
   "id": "22b3c6da",
   "metadata": {},
   "source": []
  },
  {
   "cell_type": "markdown",
   "id": "3956fa21",
   "metadata": {},
   "source": []
  },
  {
   "cell_type": "markdown",
   "id": "313d4adc",
   "metadata": {},
   "source": []
  },
  {
   "cell_type": "markdown",
   "id": "e9bf2cf0",
   "metadata": {},
   "source": []
  },
  {
   "cell_type": "markdown",
   "id": "c8b16cdc",
   "metadata": {},
   "source": []
  },
  {
   "cell_type": "markdown",
   "id": "26ed5e34",
   "metadata": {},
   "source": []
  },
  {
   "cell_type": "markdown",
   "id": "c2ba1eca",
   "metadata": {},
   "source": []
  },
  {
   "cell_type": "markdown",
   "id": "232725ec",
   "metadata": {},
   "source": []
  },
  {
   "cell_type": "markdown",
   "id": "9c8c4f19",
   "metadata": {},
   "source": []
  },
  {
   "cell_type": "markdown",
   "id": "035b8daa",
   "metadata": {},
   "source": []
  },
  {
   "cell_type": "markdown",
   "id": "ec5961a0",
   "metadata": {},
   "source": []
  },
  {
   "cell_type": "markdown",
   "id": "812348ba",
   "metadata": {},
   "source": []
  },
  {
   "cell_type": "markdown",
   "id": "cfe8d5c0",
   "metadata": {},
   "source": []
  },
  {
   "cell_type": "markdown",
   "id": "76bf2364",
   "metadata": {},
   "source": []
  },
  {
   "cell_type": "markdown",
   "id": "9eb72972",
   "metadata": {},
   "source": []
  },
  {
   "cell_type": "markdown",
   "id": "a06b1c77",
   "metadata": {},
   "source": []
  },
  {
   "cell_type": "markdown",
   "id": "bbfa9d15",
   "metadata": {},
   "source": []
  },
  {
   "cell_type": "markdown",
   "id": "29a65341",
   "metadata": {},
   "source": []
  },
  {
   "cell_type": "markdown",
   "id": "b0bc2755",
   "metadata": {},
   "source": []
  },
  {
   "cell_type": "markdown",
   "id": "d2050acc",
   "metadata": {},
   "source": []
  }
 ],
 "metadata": {
  "kernelspec": {
   "display_name": "Python 3",
   "language": "python",
   "name": "python3"
  },
  "language_info": {
   "codemirror_mode": {
    "name": "ipython",
    "version": 3
   },
   "file_extension": ".py",
   "mimetype": "text/x-python",
   "name": "python",
   "nbconvert_exporter": "python",
   "pygments_lexer": "ipython3",
   "version": "3.8.8"
  },
  "varInspector": {
   "cols": {
    "lenName": 16,
    "lenType": 16,
    "lenVar": 40
   },
   "kernels_config": {
    "python": {
     "delete_cmd_postfix": "",
     "delete_cmd_prefix": "del ",
     "library": "var_list.py",
     "varRefreshCmd": "print(var_dic_list())"
    },
    "r": {
     "delete_cmd_postfix": ") ",
     "delete_cmd_prefix": "rm(",
     "library": "var_list.r",
     "varRefreshCmd": "cat(var_dic_list()) "
    }
   },
   "types_to_exclude": [
    "module",
    "function",
    "builtin_function_or_method",
    "instance",
    "_Feature"
   ],
   "window_display": false
  }
 },
 "nbformat": 4,
 "nbformat_minor": 5
}
