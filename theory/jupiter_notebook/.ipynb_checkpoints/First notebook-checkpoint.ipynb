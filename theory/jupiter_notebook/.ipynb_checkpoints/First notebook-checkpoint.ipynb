{
 "cells": [
  {
   "cell_type": "code",
   "execution_count": 5,
   "id": "74ab1779",
   "metadata": {},
   "outputs": [],
   "source": [
    "import pandas as pd\n",
    "import sweetviz as sv"
   ]
  },
  {
   "cell_type": "code",
   "execution_count": 14,
   "id": "27c18285",
   "metadata": {},
   "outputs": [],
   "source": [
    "# # Чтение файла .csv\n",
    "# df = pd.read_csv('data_sf.csv')"
   ]
  },
  {
   "cell_type": "code",
   "execution_count": 7,
   "id": "b2bafa9c",
   "metadata": {},
   "outputs": [],
   "source": [
    "# # Полный вывод данных\n",
    "# with pd.option_context('display.max_rows', None, 'display.max_columns', None):\n",
    "#     display(df)"
   ]
  },
  {
   "cell_type": "code",
   "execution_count": 15,
   "id": "b474eafb",
   "metadata": {
    "scrolled": true
   },
   "outputs": [],
   "source": [
    "# # Полный вывод основных характеристик данных по числовому признаку (int64, float64)\n",
    "# with pd.option_context('display.max_rows', None, 'display.max_columns', None):\n",
    "#     display(df.describe())"
   ]
  },
  {
   "cell_type": "code",
   "execution_count": 8,
   "id": "aac23fa5",
   "metadata": {
    "scrolled": true
   },
   "outputs": [],
   "source": [
    "# # Полный вывод основных характеристик данных по не числовому признаку (bool, object)\n",
    "# with pd.option_context('display.max_rows', None, 'display.max_columns', None):\n",
    "#     display(df.describe(include=['bool', 'object']))"
   ]
  },
  {
   "cell_type": "code",
   "execution_count": null,
   "id": "c35a9f00",
   "metadata": {},
   "outputs": [],
   "source": []
  }
 ],
 "metadata": {
  "kernelspec": {
   "display_name": "Python 3",
   "language": "python",
   "name": "python3"
  },
  "language_info": {
   "codemirror_mode": {
    "name": "ipython",
    "version": 3
   },
   "file_extension": ".py",
   "mimetype": "text/x-python",
   "name": "python",
   "nbconvert_exporter": "python",
   "pygments_lexer": "ipython3",
   "version": "3.8.8"
  }
 },
 "nbformat": 4,
 "nbformat_minor": 5
}
