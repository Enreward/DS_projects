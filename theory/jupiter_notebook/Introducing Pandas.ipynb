{
 "cells": [
  {
   "cell_type": "code",
   "execution_count": 3,
   "id": "74ab1779",
   "metadata": {},
   "outputs": [],
   "source": [
    "import pandas as pd"
   ]
  },
  {
   "cell_type": "code",
   "execution_count": 4,
   "id": "27c18285",
   "metadata": {},
   "outputs": [],
   "source": [
    "# Чтение файла .csv (Переменная df)\n",
    "\n",
    "df = pd.read_csv('data_sf.csv')"
   ]
  },
  {
   "cell_type": "code",
   "execution_count": 19,
   "id": "b2bafa9c",
   "metadata": {},
   "outputs": [],
   "source": [
    "# # Полный вывод данных\n",
    "\n",
    "# with pd.option_context('display.max_rows', None, 'display.max_columns', None):\n",
    "#     display(df)"
   ]
  },
  {
   "cell_type": "code",
   "execution_count": 20,
   "id": "b474eafb",
   "metadata": {
    "scrolled": true
   },
   "outputs": [],
   "source": [
    "# # Полный вывод основных характеристик данных по числовому признаку (int64, float64)\n",
    "\n",
    "# with pd.option_context('display.max_rows', None, 'display.max_columns', None):\n",
    "#     display(df.describe())"
   ]
  },
  {
   "cell_type": "code",
   "execution_count": 21,
   "id": "aac23fa5",
   "metadata": {
    "scrolled": true
   },
   "outputs": [],
   "source": [
    "# # Полный вывод основных характеристик данных по не числовому признаку (bool, object)\n",
    "\n",
    "# with pd.option_context('display.max_rows', None, 'display.max_columns', None):\n",
    "#     display(df.describe(include=['bool', 'object']))"
   ]
  },
  {
   "cell_type": "code",
   "execution_count": 22,
   "id": "51c077c0",
   "metadata": {},
   "outputs": [],
   "source": [
    "# # Какова самая частая национальность (Nationality) футболистов?\n",
    "\n",
    "# display(df.Nationality.describe().top)"
   ]
  },
  {
   "cell_type": "code",
   "execution_count": 23,
   "id": "5cbab0b6",
   "metadata": {},
   "outputs": [],
   "source": [
    "# # Отбор по условию\n",
    "\n",
    "# display(df[(df['Age'] > 20) & (df.Wage > df.Wage.mean())])"
   ]
  },
  {
   "cell_type": "code",
   "execution_count": 24,
   "id": "b36f3dbf",
   "metadata": {},
   "outputs": [],
   "source": [
    "# # Возраст самого молодого футболиста у которого хладнокровие (Composure) \n",
    "# # и реакция (Reactions) превышают 90% от максимального значения\n",
    "\n",
    "# composure_90percent = df.Composure.max() * 90 / 100\n",
    "# reactions_90percent = df.Reactions.max() * 90 / 100\n",
    "# display(df[(df.Composure > composure_90percent) & (df.Reactions > reactions_90percent)].Age.min())"
   ]
  },
  {
   "cell_type": "code",
   "execution_count": 25,
   "id": "7b9b8e75",
   "metadata": {},
   "outputs": [],
   "source": [
    "# # На сколько средняя реакция (Reactions) самых взрослых игроков \n",
    "# # (т.е. игроков, чей возраст (Age) равен максимальному) \n",
    "# # больше средней реакции самых молодых игроков. Ответ округлите до сотых.\n",
    "# mean_reactions_old = df[df.Age == df.Age.max()].Reactions.mean()\n",
    "# mean_reactions_young = df[df.Age == df.Age.min()].Reactions.mean()\n",
    "\n",
    "# result = mean_reactions_old - mean_reactions_young\n",
    "# print(round(result, 2))"
   ]
  },
  {
   "cell_type": "code",
   "execution_count": 26,
   "id": "59895a9c",
   "metadata": {},
   "outputs": [],
   "source": [
    "# # Из какой страны (Nationality) происходит больше всего игроков, \n",
    "# # чья стоимость (Value) превышает среднее значение?\n",
    "# \n",
    "# display(df[df.Value > df.Value.mean()].Nationality.describe().top)"
   ]
  },
  {
   "cell_type": "code",
   "execution_count": 40,
   "id": "eb21e535",
   "metadata": {},
   "outputs": [],
   "source": [
    "# # во сколько раз средняя зарплата (Wage) голкипера (Position, GK) \n",
    "# # с максимальным значением показателя \" Рефлексы\" (GKReflexes) \n",
    "# # выше средней зарплаты голкипера с максимальным значением \n",
    "# # показателя \"Владение мячом\" (GKHandling). Ответ округлите до сотых.\n",
    "\n",
    "# avg_Wage_GKReflexes = df[df.GKReflexes == df.GKReflexes.max()].Wage.mean()\n",
    "# avg_Wage_GKHandling = df[df.GKHandling == df.GKHandling.max()].Wage.mean()\n",
    "# display(round(avg_Wage_GKReflexes / avg_Wage_GKHandling, 2))"
   ]
  },
  {
   "cell_type": "code",
   "execution_count": 54,
   "id": "158d853f",
   "metadata": {},
   "outputs": [],
   "source": [
    "# # Определите, во сколько раз средняя сила удара (ShotPower) \n",
    "# # самых агрессивных игроков (игроков с максимальным значением показателя \"Агрессивность\" (Aggression)) \n",
    "# # выше средней силы удара игроков с минимальной агрессией. \n",
    "# # Ответ округлите до сотых.\n",
    "\n",
    "# avg_ShotPower_maxAggression = df[df.Aggression == df.Aggression.max()].ShotPower.mean()\n",
    "# avg_ShotPower_minAggression = df[df.Aggression == df.Aggression.min()].ShotPower.mean()\n",
    "# display(round(avg_ShotPower_maxAggression / avg_ShotPower_minAggression, 2))"
   ]
  },
  {
   "cell_type": "code",
   "execution_count": null,
   "id": "f6768d01",
   "metadata": {},
   "outputs": [],
   "source": []
  }
 ],
 "metadata": {
  "kernelspec": {
   "display_name": "Python 3",
   "language": "python",
   "name": "python3"
  },
  "language_info": {
   "codemirror_mode": {
    "name": "ipython",
    "version": 3
   },
   "file_extension": ".py",
   "mimetype": "text/x-python",
   "name": "python",
   "nbconvert_exporter": "python",
   "pygments_lexer": "ipython3",
   "version": "3.8.8"
  }
 },
 "nbformat": 4,
 "nbformat_minor": 5
}
