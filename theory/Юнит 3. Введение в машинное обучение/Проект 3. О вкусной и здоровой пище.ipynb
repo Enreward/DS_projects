{
 "cells": [
  {
   "cell_type": "markdown",
   "id": "daf76502",
   "metadata": {},
   "source": [
    "# 1. Война войной, а обед по расписанию!\n",
    "### ЧТО ВЫ ПОЛУЧИТЕ В РЕЗУЛЬТАТЕ РАБОТЫ?\n",
    "\n",
    "Cоздадите свою первую модель, основанную на алгоритмах машинного обучения.\n",
    "Примете участие в соревновании на kaggle.\n",
    "Поймёте, как правильно «готовить» данные, чтобы ваша модель работала лучше.\n",
    "\n",
    "### ОРГАНИЗАЦИОННАЯ ИНФОРМАЦИЯ\n",
    "\n",
    "### Что нужно сделать?\n",
    "- разобраться с подробным описанием того, как будет организовано изучение модуля;\n",
    "\n",
    "- зарегистрироваться в соревновании на kaggle;\n",
    "\n",
    "- проанализировать baseline к соревнованию;\n",
    "\n",
    "- следуя подсказкам в модуле, обработать оставшиеся признаки и подготовить собственное решение;\n",
    "\n",
    "- победить в соревновании :)\n",
    "\n",
    "### Критерии оценки прохождения модуля:\n",
    "- вы участвовали в соревновании;\n",
    "- вы сдали ноутбук со своим решением ментору на проверку и получили обратную связь по нему.\n",
    "\n",
    "### ЧЕМ МЫ БУДЕМ ЗАНИМАТЬСЯ?\n",
    "- В этом модуле вы попробуете решить свой первый настоящий кейс и создадите первую модель, использующую алгоритмы машинного обучения.\n",
    "\n",
    "Не пугайтесь, вам не придётся совершать академический подвиг и изучать машинное обучение в экстремально короткие сроки! На самом деле код для создания и обучения модели мы вам предоставим в готовом виде, и этот код будет довольно простым: в нём не будет предусмотрен подбор параметров и тонкая настройка модели (всему этому вы научитесь позже, в курсе по ML). Пока ваша задача будет состоять в том, чтобы качественно подготовить данные для обучения модели. Скоро вы убедитесь, что тщательная очистка данных и генерация новых признаков (Feature Engineering) способны повысить точность модели в два и более раз, и владение этими навыками играют в машинном обучении не меньшую роль, чем умение выбрать алгоритм и настроить модель.\n",
    "\n",
    "Итак, факт остаётся фактом: свою первую модель вы создадите уже через пару недель, а после этого, в следующие две недели, используете свои наработки для участия в первом в вашей жизни соревновании на платформе kaggle.com.\n",
    "\n",
    "Последующие разделы модуля помогут вам сориентироваться в данных, но не являются обязательными к прохождению. Если вы чувствуете в себе силы, можете сразу приступать к соревнованию на kaggle. Ссылку на соревнование вы найдёте в разделе \"6. Kaggle. Начало\" этого модуля. Удачи!\n",
    "\n",
    "### КАКОЙ КЕЙС РЕШАЕМ?\n",
    "Представьте, что вы работаете DS в компании TripAdvisor. Одна из проблем компании — это нечестные рестораны, которые накручивают себе рейтинг. Одним из способов нахождения таких ресторанов является построение модели, которая предсказывает рейтинг ресторана. Если предсказания модели сильно отличаются от фактического результата, то, возможно, ресторан играет нечестно, и его стоит проверить.\n",
    "\n",
    "Вам поставлена задача создать такую модель. Готовы приступить?"
   ]
  },
  {
   "cell_type": "markdown",
   "id": "bce62023",
   "metadata": {},
   "source": [
    "# 2. Разбираемся с данными\n",
    "## ОРГАНИЗАЦИОННАЯ ИНФОРМАЦИЯ\n",
    "\n",
    "### Что мы сделаем на этом шаге?\n",
    "- Посмотрим на данные.\n",
    "\n",
    "- Посмотрим, где у нас пропуски.\n",
    "\n",
    "- Определим тип признаков.\n",
    "\n",
    "### А ПРИ ЧЁМ ЗДЕСЬ ЕДА?\n",
    "\n",
    "На самом деле всё предельно просто: в этом модуле вы будете работать с датасетом, содержащим сведения о 40 000 ресторанах Европы, а модель, которую вы будете обучать, должна будет предсказывать рейтинг ресторана по данным сайта TripAdvisor на основе имеющихся в датасете данных.\n",
    "\n",
    "СКАЧАТЬ ФАЙЛ С ДАННЫМИ(https://lms.skillfactory.ru/assets/courseware/v1/c00e440dce1926e20bcf7b959cbeebbb/asset-v1:Skillfactory+DST-WEEKLY-2.0+08JULY2020+type@asset+block/main_task_new.csv)\n",
    "\n",
    "Первоначальная версия датасета состоит из десяти столбцов, содержащих следующую информацию:\n",
    "\n",
    "- Restaurant_id — идентификационный номер ресторана / сети ресторанов;\n",
    "- City — город, в котором находится ресторан;\n",
    "- Cuisine Style — кухня или кухни, к которым можно отнести блюда, предлагаемые в ресторане;\n",
    "- Ranking — место, которое занимает данный ресторан среди всех ресторанов своего города;\n",
    "- Rating — рейтинг ресторана по данным TripAdvisor (именно это значение должна будет предсказывать модель);\n",
    "- Price Range — диапазон цен в ресторане;\n",
    "- Number of Reviews — количество отзывов о ресторане;\n",
    "- Reviews — данные о двух отзывах, которые отображаются на сайте ресторана;\n",
    "- URL_TA — URL страницы ресторана на TripAdvisor;\n",
    "- ID_TA — идентификатор ресторана в базе данных TripAdvisor."
   ]
  },
  {
   "cell_type": "code",
   "execution_count": 173,
   "id": "b5ccc7c7",
   "metadata": {},
   "outputs": [
    {
     "name": "stdout",
     "output_type": "stream",
     "text": [
      "<class 'pandas.core.frame.DataFrame'>\n",
      "RangeIndex: 40000 entries, 0 to 39999\n",
      "Data columns (total 10 columns):\n",
      " #   Column             Non-Null Count  Dtype  \n",
      "---  ------             --------------  -----  \n",
      " 0   Restaurant_id      40000 non-null  object \n",
      " 1   City               40000 non-null  object \n",
      " 2   Cuisine Style      30717 non-null  object \n",
      " 3   Ranking            40000 non-null  float64\n",
      " 4   Rating             40000 non-null  float64\n",
      " 5   Price Range        26114 non-null  object \n",
      " 6   Number of Reviews  37457 non-null  float64\n",
      " 7   Reviews            40000 non-null  object \n",
      " 8   URL_TA             40000 non-null  object \n",
      " 9   ID_TA              40000 non-null  object \n",
      "dtypes: float64(3), object(7)\n",
      "memory usage: 3.1+ MB\n"
     ]
    }
   ],
   "source": [
    "import pandas as pd\n",
    "\n",
    "main_df = pd.read_csv('main_task_new.csv', encoding='utf-8')\n",
    "main_df.info()"
   ]
  },
  {
   "attachments": {
    "image.png": {
     "image/png": "[encoded data removed]"
    }
   },
   "cell_type": "markdown",
   "id": "44083aac",
   "metadata": {},
   "source": [
    "# ТРЕНИРОВКА\n",
    "Ответы на вопросы ниже помогут вам лучше сориентироваться в файле, а также покажут некоторые важные особенности, которые нужно будет учесть при создании модели.\n",
    "\n",
    "# 2.1 Задание 1\n",
    "Какие столбцы НЕ содержат пропущенных (None) значений?\n",
    "![image.png](attachment:image.png)"
   ]
  },
  {
   "cell_type": "code",
   "execution_count": 174,
   "id": "ce223166",
   "metadata": {},
   "outputs": [
    {
     "data": {
      "text/html": [
       "<div>\n",
       "<style scoped>\n",
       "    .dataframe tbody tr th:only-of-type {\n",
       "        vertical-align: middle;\n",
       "    }\n",
       "\n",
       "    .dataframe tbody tr th {\n",
       "        vertical-align: top;\n",
       "    }\n",
       "\n",
       "    .dataframe thead th {\n",
       "        text-align: right;\n",
       "    }\n",
       "</style>\n",
       "<table border=\"1\" class=\"dataframe\">\n",
       "  <thead>\n",
       "    <tr style=\"text-align: right;\">\n",
       "      <th></th>\n",
       "      <th>Restaurant_id</th>\n",
       "      <th>City</th>\n",
       "      <th>Ranking</th>\n",
       "      <th>Rating</th>\n",
       "      <th>Reviews</th>\n",
       "      <th>URL_TA</th>\n",
       "      <th>ID_TA</th>\n",
       "    </tr>\n",
       "  </thead>\n",
       "  <tbody>\n",
       "    <tr>\n",
       "      <th>0</th>\n",
       "      <td>id_5569</td>\n",
       "      <td>Paris</td>\n",
       "      <td>5570.0</td>\n",
       "      <td>3.5</td>\n",
       "      <td>[['Good food at your doorstep', 'A good hotel ...</td>\n",
       "      <td>/Restaurant_Review-g187147-d1912643-Reviews-R_...</td>\n",
       "      <td>d1912643</td>\n",
       "    </tr>\n",
       "    <tr>\n",
       "      <th>1</th>\n",
       "      <td>id_1535</td>\n",
       "      <td>Stockholm</td>\n",
       "      <td>1537.0</td>\n",
       "      <td>4.0</td>\n",
       "      <td>[['Unique cuisine', 'Delicious Nepalese food']...</td>\n",
       "      <td>/Restaurant_Review-g189852-d7992032-Reviews-Bu...</td>\n",
       "      <td>d7992032</td>\n",
       "    </tr>\n",
       "    <tr>\n",
       "      <th>2</th>\n",
       "      <td>id_352</td>\n",
       "      <td>London</td>\n",
       "      <td>353.0</td>\n",
       "      <td>4.5</td>\n",
       "      <td>[['Catch up with friends', 'Not exceptional'],...</td>\n",
       "      <td>/Restaurant_Review-g186338-d8632781-Reviews-RO...</td>\n",
       "      <td>d8632781</td>\n",
       "    </tr>\n",
       "    <tr>\n",
       "      <th>3</th>\n",
       "      <td>id_3456</td>\n",
       "      <td>Berlin</td>\n",
       "      <td>3458.0</td>\n",
       "      <td>5.0</td>\n",
       "      <td>[[], []]</td>\n",
       "      <td>/Restaurant_Review-g187323-d1358776-Reviews-Es...</td>\n",
       "      <td>d1358776</td>\n",
       "    </tr>\n",
       "    <tr>\n",
       "      <th>4</th>\n",
       "      <td>id_615</td>\n",
       "      <td>Munich</td>\n",
       "      <td>621.0</td>\n",
       "      <td>4.0</td>\n",
       "      <td>[['Best place to try a Bavarian food', 'Nice b...</td>\n",
       "      <td>/Restaurant_Review-g187309-d6864963-Reviews-Au...</td>\n",
       "      <td>d6864963</td>\n",
       "    </tr>\n",
       "  </tbody>\n",
       "</table>\n",
       "</div>"
      ],
      "text/plain": [
       "  Restaurant_id       City  Ranking  Rating  \\\n",
       "0       id_5569      Paris   5570.0     3.5   \n",
       "1       id_1535  Stockholm   1537.0     4.0   \n",
       "2        id_352     London    353.0     4.5   \n",
       "3       id_3456     Berlin   3458.0     5.0   \n",
       "4        id_615     Munich    621.0     4.0   \n",
       "\n",
       "                                             Reviews  \\\n",
       "0  [['Good food at your doorstep', 'A good hotel ...   \n",
       "1  [['Unique cuisine', 'Delicious Nepalese food']...   \n",
       "2  [['Catch up with friends', 'Not exceptional'],...   \n",
       "3                                           [[], []]   \n",
       "4  [['Best place to try a Bavarian food', 'Nice b...   \n",
       "\n",
       "                                              URL_TA     ID_TA  \n",
       "0  /Restaurant_Review-g187147-d1912643-Reviews-R_...  d1912643  \n",
       "1  /Restaurant_Review-g189852-d7992032-Reviews-Bu...  d7992032  \n",
       "2  /Restaurant_Review-g186338-d8632781-Reviews-RO...  d8632781  \n",
       "3  /Restaurant_Review-g187323-d1358776-Reviews-Es...  d1358776  \n",
       "4  /Restaurant_Review-g187309-d6864963-Reviews-Au...  d6864963  "
      ]
     },
     "execution_count": 174,
     "metadata": {},
     "output_type": "execute_result"
    }
   ],
   "source": [
    "test = main_df.dropna(axis=1)\n",
    "test.head()"
   ]
  },
  {
   "attachments": {
    "image.png": {
     "image/png": "[encoded data removed]"
    }
   },
   "cell_type": "markdown",
   "id": "46405b18",
   "metadata": {},
   "source": [
    "![image.png](attachment:image.png)"
   ]
  },
  {
   "attachments": {
    "image.png": {
     "image/png": "[encoded data removed]"
    }
   },
   "cell_type": "markdown",
   "id": "63fa5e23",
   "metadata": {},
   "source": [
    "# 2.2 Задание 2\n",
    "В каких столбцах данные хранятся в числовом формате?\n",
    "![image.png](attachment:image.png)"
   ]
  },
  {
   "attachments": {
    "image.png": {
     "image/png": "[encoded data removed]"
    }
   },
   "cell_type": "markdown",
   "id": "6ae1df23",
   "metadata": {},
   "source": [
    "![image.png](attachment:image.png)"
   ]
  },
  {
   "attachments": {
    "image.png": {
     "image/png": "[encoded data removed]"
    }
   },
   "cell_type": "markdown",
   "id": "003a9154",
   "metadata": {},
   "source": [
    "# 2.3 Задание 3\n",
    "В каких столбцах хранящиеся данные представляют собой список?\n",
    "![image.png](attachment:image.png)"
   ]
  },
  {
   "cell_type": "code",
   "execution_count": 175,
   "id": "9d0640ac",
   "metadata": {},
   "outputs": [
    {
     "name": "stdout",
     "output_type": "stream",
     "text": [
      "<class 'str'>\n",
      "<class 'str'>\n",
      "<class 'str'>\n",
      "<class 'numpy.float64'>\n",
      "<class 'numpy.float64'>\n",
      "<class 'str'>\n",
      "<class 'numpy.float64'>\n",
      "<class 'str'>\n",
      "<class 'str'>\n",
      "<class 'str'>\n"
     ]
    }
   ],
   "source": [
    "for i in main_df.columns:\n",
    "    print(type(main_df[i][0]))"
   ]
  },
  {
   "attachments": {
    "image.png": {
     "image/png": "[encoded data removed]"
    }
   },
   "cell_type": "markdown",
   "id": "3f32b49a",
   "metadata": {},
   "source": [
    "![image.png](attachment:image.png)"
   ]
  },
  {
   "attachments": {
    "image.png": {
     "image/png": "[encoded data removed]"
    }
   },
   "cell_type": "markdown",
   "id": "d40e4bc2",
   "metadata": {},
   "source": [
    "# 3. Машинное обучение для чайников\n",
    "## ОРГАНИЗАЦИОННАЯ ИНФОРМАЦИЯ\n",
    "### Что нужно сделать на этом шаге?\n",
    "Создать свою первую модель, основанную на алгоритмах машинного обучения. Код для создания модели мы предоставим, но чтобы модель заработала, в неё нужно загрузить правильные данные. Приведение данных в нужный вид и будет вашей задачей.\n",
    "\n",
    "### АЛИСА, ЭТО ПУДИНГ. ПУДИНГ, ЭТО АЛИСА\n",
    "Ну что же, настал момент истины. Сейчас вы попробуете создать свою первую модель, работающую на основе одного из довольно мощных алгоритмов машинного обучения — RandomForestRegression.\n",
    "\n",
    "Ноутбук с кодом для создания, обучения и тестирования модели можно скачать здесь(https://cms.skillfactory.ru/assets/courseware/v1/6f6569b6505892f53c50cb07282c33e5/asset-v1:Skillfactory+DST-WEEKLY-2.0+08JULY2020+type@asset+block/your_first_model.ipynb).\n",
    "Давайте вкратце ознакомимся с тем, что будет происходить с вашими данными после их загрузки в датафрейм:\n",
    "\n",
    "### 1 РАЗДЕЛЕНИЕ ДАТАФРЕЙМА\n",
    "![image.png](attachment:image.png)\n",
    "Далее каждый из полученных наборов мы делим на тренировочный (train, используется для обучения модели) и тестовый (test, используется для оценки точности модели). Такое деление осуществляется с помощью специального метода, входящего в состав библиотеки Scikit-Learn (sklearn). В параметрах метода мы указываем, какую часть исходного датафрейма нужно оставить для тестирования модели. В нашем коде эта часть составляет 25%, или 0.25."
   ]
  },
  {
   "cell_type": "code",
   "execution_count": 176,
   "id": "14772757",
   "metadata": {},
   "outputs": [],
   "source": [
    "# Разбиваем датафрейм на части, необходимые для обучения и тестирования модели  \n",
    "# Х - данные с информацией о ресторанах, у - целевая переменная (рейтинги ресторанов)  \n",
    "X = main_df.drop(['Restaurant_id', 'Rating'], axis = 1)  \n",
    "y = main_df['Rating']  \n",
    "\n",
    "# Загружаем специальный инструмент для разбивки:  \n",
    "from sklearn.model_selection import train_test_split  \n",
    "\n",
    "# Наборы данных с меткой \"train\" будут использоваться для обучения модели, \"test\" - для тестирования.  \n",
    "# Для тестирования мы будем использовать 25% от исходного датасета.  \n",
    "X_train, X_test, y_train, y_test = train_test_split(X, y, test_size=0.25)"
   ]
  },
  {
   "cell_type": "markdown",
   "id": "a22dcf8f",
   "metadata": {},
   "source": [
    "### 2 СОЗДАНИЕ, ОБУЧЕНИЕ И ТЕСТИРОВАНИЕ МОДЕЛИ\n",
    "Сам процесс создания и тестирования модели занимает всего четыре строчки кода (при условии, что мы используем параметры по умолчанию):"
   ]
  },
  {
   "cell_type": "code",
   "execution_count": 177,
   "id": "4803aacf",
   "metadata": {},
   "outputs": [],
   "source": [
    "# # Импортируем необходимые библиотеки:  \n",
    "# from sklearn.ensemble import RandomForestRegressor # инструмент для создания и обучения модели  \n",
    "# from sklearn import metrics # инструменты для оценки точности модели  \n",
    "\n",
    "# # Создаём модель  \n",
    "# regr = RandomForestRegressor(n_estimators=100)  \n",
    "\n",
    "# # Обучаем модель на тестовом наборе данных  \n",
    "# regr.fit(X_train, y_train)  \n",
    "\n",
    "# # Используем обученную модель для предсказания рейтинга ресторанов в тестовой выборке.  \n",
    "# # Предсказанные значения записываем в переменную y_pred  \n",
    "# y_pred = regr.predict(X_test)  "
   ]
  },
  {
   "cell_type": "markdown",
   "id": "1e720ac3",
   "metadata": {},
   "source": [
    "Попробуйте запустить этот код. Что происходит? Мы видим сообщение об ошибке ValueError. Что-то явно пошло не по плану... Давайте попробуем разобраться в причинах произошедшего."
   ]
  },
  {
   "attachments": {
    "image.png": {
     "image/png": "[encoded data removed]"
    }
   },
   "cell_type": "markdown",
   "id": "4a7e66d0",
   "metadata": {},
   "source": [
    "# 3.1 Вопрос для размышления\n",
    "По какой причине во время обучения модели возникла ошибка Value Error?\n",
    "![image.png](attachment:image.png)"
   ]
  },
  {
   "attachments": {
    "image.png": {
     "image/png": "[encoded data removed]"
    }
   },
   "cell_type": "markdown",
   "id": "2f36e60d",
   "metadata": {},
   "source": [
    "![image.png](attachment:image.png)"
   ]
  },
  {
   "attachments": {
    "image.png": {
     "image/png": "[encoded data removed]"
    }
   },
   "cell_type": "markdown",
   "id": "e8b06adf",
   "metadata": {},
   "source": [
    "# В ЦИФРОВОМ КАЧЕСТВЕ\n",
    "\n",
    "Итак, мы выяснили, что для корректной работы все данные в датафрейме, который вы будете использовать при обучении модели, должны быть в форматах int или float. Есть и ещё одно жёсткое ограничение: в столбцах не должно быть None-значений. В реальных проектах в индустрии используются разные подходы к работе с None-значениями. Если позволяют условия, то строки, содержащие неполные данные, просто удаляют из датасета. Однако в задачах по машинному обучению эта стратегия не используется никогда, потому что настоящие герои никогда не ищут лёгких путей :) Вместо каждого NaN вам нужно будет вычислить и поместить в ячейку максимально близкое к реальности значение.\n",
    "\n",
    "Таким образом, чтобы код, отвечающий за обучение модели, заработал, мы должны использовать в нём датафрейм, содержащий только количественные признаки и не содержащий None-значений. \n",
    "\n",
    "На первом этапе для создания такого датафрейма давайте просто удалим столбцы, содержащие данные типа object, и заполним пропущенные значения (None или NaN) каким-то одним значением (нулём или средним арифметическим) для всего столбца.\n",
    "\n",
    "Для выполнения этих операций вам понадобятся следующие методы библиотеки Pandas:\n",
    "- drop(https://pandas.pydata.org/pandas-docs/stable/reference/api/pandas.DataFrame.drop.html) — метод для удаления ненужных строк и столбцов (обратите внимание, что в материалах данного модуля метод разрешается использовать только для удаления столбцов);\n",
    "- fillna(https://pandas.pydata.org/pandas-docs/stable/reference/api/pandas.DataFrame.fillna.html) — метод для заполнения пропущенных значений в столбце или во всём датафрейме.\n",
    "\n",
    "После выполнения всех преобразований попробуйте заново запустить код уже с очищенными данными.\n",
    "\n",
    "### КАК УЗНАТЬ, ЧТО МОЯ МОДЕЛЬ ХОРОШАЯ?\n",
    "\n",
    "Прежде всего давайте скажем, что ваша модель в любом случае отличная, потому что она умеет обрабатывать данные и делать прогнозы по результатам этой обработки. Другой вопрос, насколько точны эти прогнозы и можно ли как-то управлять точностью предсказаний?\n",
    "\n",
    "Для оценки точности прогнозов, сделанных моделью, мы будем использовать метрику (показатель), которая называется Mean Absolute Error, и представляет собой среднее абсолютное значение отклонения предсказанных значений от фактических:\n",
    "![image.png](attachment:image.png)\n",
    "Иными словами, если у вас получился результат MAE = 0.5, то это значит, что модель при расчёте рейтинга ошибается в среднем на 0.5 баллов.\n",
    "\n",
    "В последней ячейке ноутбука, который вы скачали, прилагается код для расчёта MAE:"
   ]
  },
  {
   "cell_type": "code",
   "execution_count": 178,
   "id": "35527373",
   "metadata": {},
   "outputs": [],
   "source": [
    "# # Сравниваем предсказанные значения (y_pred) с реальными (y_test), и смотрим насколько они в среднем отличаются  \n",
    "# # Метрика называется Mean Absolute Error (MAE) и показывает среднее отклонение предсказанных значений от фактических.  \n",
    "# print('MAE:', metrics.mean_absolute_error(y_test, y_pred))"
   ]
  },
  {
   "cell_type": "markdown",
   "id": "aaf90e58",
   "metadata": {},
   "source": [
    "Попробуйте применить этот код для вычисления MAE вашей модели. Какой результат у вас получился?\n",
    "\n",
    "Автору этого модуля удалось очистить данные таким образом, что модель отработала с точностью MAE = 0.21. Как приблизиться к этому результату и по возможности улучшить его? Об этом вы узнаете на следующем шаге."
   ]
  },
  {
   "cell_type": "markdown",
   "id": "4c6388da",
   "metadata": {},
   "source": [
    "# Задание 3.1\n",
    "Какое значение метрики MAE вам удалось получить на этом этапе?"
   ]
  },
  {
   "cell_type": "code",
   "execution_count": 179,
   "id": "9884aa51",
   "metadata": {},
   "outputs": [
    {
     "name": "stdout",
     "output_type": "stream",
     "text": [
      "<class 'pandas.core.frame.DataFrame'>\n",
      "RangeIndex: 40000 entries, 0 to 39999\n",
      "Data columns (total 10 columns):\n",
      " #   Column             Non-Null Count  Dtype  \n",
      "---  ------             --------------  -----  \n",
      " 0   Restaurant_id      40000 non-null  object \n",
      " 1   City               40000 non-null  object \n",
      " 2   Cuisine Style      30717 non-null  object \n",
      " 3   Ranking            40000 non-null  float64\n",
      " 4   Rating             40000 non-null  float64\n",
      " 5   Price Range        26114 non-null  object \n",
      " 6   Number of Reviews  37457 non-null  float64\n",
      " 7   Reviews            40000 non-null  object \n",
      " 8   URL_TA             40000 non-null  object \n",
      " 9   ID_TA              40000 non-null  object \n",
      "dtypes: float64(3), object(7)\n",
      "memory usage: 3.1+ MB\n"
     ]
    },
    {
     "data": {
      "text/plain": [
       "None"
      ]
     },
     "metadata": {},
     "output_type": "display_data"
    }
   ],
   "source": [
    "import numpy as np\n",
    "import pandas as pd\n",
    "\n",
    "main_df = pd.read_csv('main_task_new.csv', encoding='utf-8')\n",
    "display(main_df.info())"
   ]
  },
  {
   "cell_type": "code",
   "execution_count": 180,
   "id": "277ad447",
   "metadata": {},
   "outputs": [
    {
     "name": "stderr",
     "output_type": "stream",
     "text": [
      "D:\\Programs\\anaconda3\\lib\\site-packages\\pandas\\core\\generic.py:6392: SettingWithCopyWarning: \n",
      "A value is trying to be set on a copy of a slice from a DataFrame\n",
      "\n",
      "See the caveats in the documentation: https://pandas.pydata.org/pandas-docs/stable/user_guide/indexing.html#returning-a-view-versus-a-copy\n",
      "  return self._update_inplace(result)\n"
     ]
    },
    {
     "name": "stdout",
     "output_type": "stream",
     "text": [
      "MAE: 0.4322019450577201\n"
     ]
    }
   ],
   "source": [
    "# отбираем данные типа float64\n",
    "copy_df = main_df.select_dtypes(include=['float64'])\n",
    "mean = copy_df['Number of Reviews'].mean()\n",
    "median = copy_df['Number of Reviews'].median()\n",
    "copy_df['Number of Reviews'].fillna(mean, inplace=True)\n",
    "\n",
    "# Разбиваем датафрейм на части, необходимые для обучения и тестирования модели  \n",
    "# Х - данные с информацией о ресторанах, у - целевая переменная (рейтинги ресторанов)  \n",
    "X = copy_df.drop(['Rating'], axis = 1)  \n",
    "y = copy_df['Rating']  \n",
    "\n",
    "# Загружаем специальный инструмент для разбивки:  \n",
    "from sklearn.model_selection import train_test_split  \n",
    "\n",
    "# Наборы данных с меткой \"train\" будут использоваться для обучения модели, \"test\" - для тестирования.  \n",
    "# Для тестирования мы будем использовать 25% от исходного датасета.  \n",
    "X_train, X_test, y_train, y_test = train_test_split(X, y, test_size=0.25)\n",
    "\n",
    "# Импортируем необходимые библиотеки:  \n",
    "from sklearn.ensemble import RandomForestRegressor # инструмент для создания и обучения модели  \n",
    "from sklearn import metrics # инструменты для оценки точности модели  \n",
    "\n",
    "# Создаём модель  \n",
    "regr = RandomForestRegressor(n_estimators=100)  \n",
    "\n",
    "# Обучаем модель на тестовом наборе данных  \n",
    "regr.fit(X_train, y_train)  \n",
    "\n",
    "\n",
    "# Используем обученную модель для предсказания рейтинга ресторанов в тестовой выборке.  \n",
    "# Предсказанные значения записываем в переменную y_pred  \n",
    "y_pred = regr.predict(X_test)  \n",
    "\n",
    "# Сравниваем предсказанные значения (y_pred) с реальными (y_test), и смотрим насколько они в среднем отличаются  \n",
    "# Метрика называется Mean Absolute Error (MAE) и показывает среднее отклонение предсказанных значений от фактических.  \n",
    "\n",
    "print('MAE:', metrics.mean_absolute_error(y_test, y_pred))"
   ]
  },
  {
   "cell_type": "markdown",
   "id": "7a4da9dd",
   "metadata": {},
   "source": [
    "# 4. Сделайте с этим что-нибудь!\n",
    "## ОРГАНИЗАЦИОННАЯ ИНФОРМАЦИЯ\n",
    "### Что нужно сделать на этом шаге?\n",
    "\n",
    "Повысить точность прогнозов, которые делает модель, с помощью более тщательной подготовки данных. При подготовке датасета нужно будет не только избавиться от пропущенных (None) значений и нечисловых признаков, но и сгенерировать новые признаки (добавить в датафрейм новые столбцы) на основе информации, уже содержащейся в данных.\n",
    "\n",
    "### А ЧТО ДЕЛАТЬ-ТО?\n",
    "С одной стороны, всё просто. Задачу, которая стоит перед вами, можно свести к трём пунктам:\n",
    "1. Удалить из датафрейма столбцы, данные в которых представлены не числами (это вы уже сделали, и нужно просто повторить знакомые действия, но в этот раз выполнить данный шаг в последнюю очередь).\n",
    "2. Избавиться от пропущенных (None) значений (на предыдущем шаге мы делали это самым грубым из всех возможных способов; сейчас попробуем подойти к процессу более гибко).\n",
    "3. Создать новые столбцы с данными, используя для этого информацию, содержащуюся в других столбцах датафрейма (например, можно добавить столбец, сообщающий, сколько дней прошло со дня публикации последнего отзыва, отображённого на сайте).\n",
    "\n",
    "### ⛔ С другой стороны, в этом задании масса подводных камней.\n",
    "#### Строковые данные\n",
    "В исходном наборе данных всего три столбца содержат числовые данные, причём один из этих столбцов — это целевая переменная, значение которой должна предсказывать наша модель. Так что просто удалить все object-значения и считать задачу выполненной не получится. Для создания качественной модели нам сначала придётся очень основательно поработать со строковыми данными и извлечь из них как можно больше информации, которую можно представить в числовом виде.\n",
    "#### Пропущенные значения\n",
    "Мы уже говорили о том, что в задачах по машинному обучению принято не удалять строки с пустыми значениями, а заполнять их максимально близкими к реальности данными. Как найти такие данные — большой вопрос, требующий не только знания синтаксиса, но и креативности, изобретательности, хорошего понимания контента, а иногда ещё и интуиции.\n",
    "#### Новые признаки\n",
    "Это, пожалуй, самая сложная, но и самая интригующая, увлекательная и творческая часть работы на данном шаге. Создание новых признаков (Feature Engineering) потребует от вас не только хорошего владения разными библиотеками Python, но и способность вникать в контент, умение подключать к работе интуицию, творческий подход и готовность к экспериментам.\n",
    "\n",
    "## Попробуем?\n",
    "### ПОДСКАЗКИ БЕЗ ПОДСКАЗОК\n",
    "По условию нашего курса при выполнении этого задания у каждого студента должен получиться свой уникальный датафрейм, содержащий уникальный набор признаков. Иными словами, мы не стремимся привести всех к единому результату и одинаковому «единственно правильному» набору признаков. В то же время у нас есть определённое представление о том, какие признаки точно можно сгенерировать на основе набора данных, который вы получили для работы.\n",
    "\n",
    "Ниже мы разместили несколько вопросов, для ответов на которые вам нужно будет создать столбцы с теми самыми числовыми признаками, которые в дальнейшем могут быть полезны при обучении модели. Отвечать на них не обязательно, но проработав эти вопросы, вам будет проще понять, какие признаки можно извлечь из данных.\n",
    "\n",
    "### Для удобства мы также предлагаем вам список ссылок на методы, которые наверняка понадобятся при работе с данными:\n",
    "#### Библиотека Pandas:\n",
    "- drop(https://pandas.pydata.org/pandas-docs/stable/reference/api/pandas.DataFrame.drop.html) — метод для удаления ненужных строк и столбцов (обратите внимание, что в материалах данного модуля метод разрешается использовать только для удаления столбцов);\n",
    "- fillna(https://pandas.pydata.org/pandas-docs/stable/reference/api/pandas.DataFrame.fillna.html) — метод для заполнения пропущенных значений в столбце или во всём датафрейме;\n",
    "- isnull(https://pandas.pydata.org/pandas-docs/stable/reference/api/pandas.DataFrame.isnull.html) — функция, позволяющая определить, содержит ли переменная или структура данных, переданная в качестве параметра, None-значения;\n",
    "- apply(https://pandas.pydata.org/pandas-docs/stable/reference/api/pandas.DataFrame.apply.html) — метод, позволяющий применить заданную функцию ко всему датафрейму или к отдельному столбцу;\n",
    "- unique(https://pandas.pydata.org/pandas-docs/stable/reference/api/pandas.Series.unique.html) — метод для получения всех уникальных значений, встречающихся в заданном столбце.\n",
    "#### Дополнительные модули:\n",
    "- datetime(https://docs.python.org/3.7/library/datetime.html) — модуль для работы с датой и временем;\n",
    "- re(https://docs.python.org/3.7/library/re.html) — модуль для работы с регулярными выражениями;\n",
    "- requests(https://requests.kennethreitz.org/en/master/), BeautifulSoup(https://www.crummy.com/software/BeautifulSoup/), selenium(https://pypi.org/project/selenium/) — модули для парсинга данных."
   ]
  },
  {
   "cell_type": "markdown",
   "id": "0dad2b2f",
   "metadata": {},
   "source": [
    "# Загружаем данные"
   ]
  },
  {
   "cell_type": "code",
   "execution_count": 181,
   "id": "c42eb55e",
   "metadata": {},
   "outputs": [
    {
     "name": "stdout",
     "output_type": "stream",
     "text": [
      "<class 'pandas.core.frame.DataFrame'>\n",
      "RangeIndex: 40000 entries, 0 to 39999\n",
      "Data columns (total 10 columns):\n",
      " #   Column             Non-Null Count  Dtype  \n",
      "---  ------             --------------  -----  \n",
      " 0   Restaurant_id      40000 non-null  object \n",
      " 1   City               40000 non-null  object \n",
      " 2   Cuisine Style      30717 non-null  object \n",
      " 3   Ranking            40000 non-null  float64\n",
      " 4   Rating             40000 non-null  float64\n",
      " 5   Price Range        26114 non-null  object \n",
      " 6   Number of Reviews  37457 non-null  float64\n",
      " 7   Reviews            40000 non-null  object \n",
      " 8   URL_TA             40000 non-null  object \n",
      " 9   ID_TA              40000 non-null  object \n",
      "dtypes: float64(3), object(7)\n",
      "memory usage: 3.1+ MB\n"
     ]
    },
    {
     "data": {
      "text/plain": [
       "None"
      ]
     },
     "metadata": {},
     "output_type": "display_data"
    }
   ],
   "source": [
    "import numpy as np\n",
    "import pandas as pd\n",
    "\n",
    "main_df = pd.read_csv('main_task_new.csv', encoding='utf-8')\n",
    "display(main_df.info())"
   ]
  },
  {
   "cell_type": "markdown",
   "id": "fb414f5d",
   "metadata": {},
   "source": [
    "# 4.1 Вопросы о ценах\n",
    "Сколько вариантов непустых значений встречается в столбце Price Range?"
   ]
  },
  {
   "cell_type": "code",
   "execution_count": 182,
   "id": "f530408a",
   "metadata": {
    "scrolled": true
   },
   "outputs": [
    {
     "data": {
      "text/plain": [
       "array(['$$ - $$$', nan, '$$$$', '$'], dtype=object)"
      ]
     },
     "metadata": {},
     "output_type": "display_data"
    }
   ],
   "source": [
    "display(main_df['Price Range'].unique())"
   ]
  },
  {
   "attachments": {
    "image.png": {
     "image/png": "[encoded data removed]"
    }
   },
   "cell_type": "markdown",
   "id": "04c81268",
   "metadata": {},
   "source": [
    "![image.png](attachment:image.png)"
   ]
  },
  {
   "attachments": {
    "image.png": {
     "image/png": "[encoded data removed]"
    }
   },
   "cell_type": "markdown",
   "id": "e9133cf5",
   "metadata": {},
   "source": [
    "Как в датафрейме обозначается самый низкий уровень цен?\n",
    "![image.png](attachment:image.png)"
   ]
  },
  {
   "attachments": {
    "image.png": {
     "image/png": "[encoded data removed]"
    }
   },
   "cell_type": "markdown",
   "id": "f9d828f1",
   "metadata": {},
   "source": [
    "![image.png](attachment:image.png)"
   ]
  },
  {
   "attachments": {
    "image.png": {
     "image/png": "[encoded data removed]"
    }
   },
   "cell_type": "markdown",
   "id": "9ead7c59",
   "metadata": {},
   "source": [
    "Как в датафрейме обозначается самый высокий уровень цен?\n",
    "![image.png](attachment:image.png)"
   ]
  },
  {
   "attachments": {
    "image.png": {
     "image/png": "[encoded data removed]"
    }
   },
   "cell_type": "markdown",
   "id": "a8b9b682",
   "metadata": {},
   "source": [
    "![image.png](attachment:image.png)"
   ]
  },
  {
   "cell_type": "markdown",
   "id": "96cd30b7",
   "metadata": {},
   "source": [
    "Сколько ресторанов относятся к среднему ценовому сегменту?"
   ]
  },
  {
   "cell_type": "code",
   "execution_count": 183,
   "id": "86e8d1d5",
   "metadata": {},
   "outputs": [
    {
     "name": "stdout",
     "output_type": "stream",
     "text": [
      "18412\n"
     ]
    }
   ],
   "source": [
    "print(len(main_df['Price Range'][main_df['Price Range'] == '$$ - $$$']))"
   ]
  },
  {
   "cell_type": "markdown",
   "id": "c8607080",
   "metadata": {},
   "source": [
    "# 4.2 Вопрос о городах\n",
    "Сколько городов представлено в наборе данных?"
   ]
  },
  {
   "cell_type": "code",
   "execution_count": 184,
   "id": "a293b167",
   "metadata": {},
   "outputs": [
    {
     "data": {
      "text/plain": [
       "31"
      ]
     },
     "metadata": {},
     "output_type": "display_data"
    }
   ],
   "source": [
    "display(len(main_df['City'].unique()))"
   ]
  },
  {
   "cell_type": "markdown",
   "id": "0dc2393f",
   "metadata": {},
   "source": [
    "# 4.3 Вопросы о кухнях"
   ]
  },
  {
   "cell_type": "markdown",
   "id": "1a6853f6",
   "metadata": {},
   "source": [
    "преобразовать столбец Cuisine Style из строки в массив"
   ]
  },
  {
   "cell_type": "code",
   "execution_count": 185,
   "id": "46d919f5",
   "metadata": {},
   "outputs": [],
   "source": [
    "import re\n",
    "def to_list(row):\n",
    "    pattern = re.compile(r'\\[|\\\"|\\'|\\]')\n",
    "    if isinstance(row, str):\n",
    "        row = re.sub(pattern, '', row).split(', ')\n",
    "    return row\n",
    "\n",
    "def count(name_column):\n",
    "    cuisines = {}\n",
    "    for row in main_df[name_column]:\n",
    "        if row is not np.nan:\n",
    "            for i in row:\n",
    "                if i in cuisines.keys():\n",
    "                    cuisines[i] += 1\n",
    "                else:\n",
    "                    cuisines[i] = 1\n",
    "\n",
    "    return cuisines\n",
    "\n",
    "def max_count(count_dict):\n",
    "    max_value = 0\n",
    "    key_max = list(count_dict.keys())[0]\n",
    "    for key, value in count_dict.items():\n",
    "        if value > max_value:\n",
    "            max_value = value\n",
    "            key_max = key\n",
    "    return key_max"
   ]
  },
  {
   "cell_type": "markdown",
   "id": "3df7eb4b",
   "metadata": {},
   "source": [
    "Сколько типов кухонь представлено в наборе данных?"
   ]
  },
  {
   "cell_type": "code",
   "execution_count": 186,
   "id": "3f112c69",
   "metadata": {},
   "outputs": [
    {
     "name": "stdout",
     "output_type": "stream",
     "text": [
      "125\n"
     ]
    }
   ],
   "source": [
    "main_df['Cuisine Style'] = main_df['Cuisine Style'].apply(to_list)\n",
    "cuisine_count = count('Cuisine Style')\n",
    "print(len(cuisine_count))"
   ]
  },
  {
   "cell_type": "markdown",
   "id": "3f501784",
   "metadata": {},
   "source": [
    "Какая кухня представлена в наибольшем количестве ресторанов? Введите название кухни без кавычек или апострофов."
   ]
  },
  {
   "cell_type": "code",
   "execution_count": 187,
   "id": "f2c2d636",
   "metadata": {},
   "outputs": [
    {
     "name": "stdout",
     "output_type": "stream",
     "text": [
      "Vegetarian Friendly\n"
     ]
    }
   ],
   "source": [
    "print(max_count(cuisine_count))"
   ]
  },
  {
   "cell_type": "markdown",
   "id": "dd7f8aca",
   "metadata": {},
   "source": [
    "Какое среднее количество кухонь предлагается в одном ресторане? Если в данных отсутствует информация о типах кухонь, то считайте, что в этом ресторане предлагается только один тип кухни. Ответ округлите до одного знака после запятой."
   ]
  },
  {
   "cell_type": "code",
   "execution_count": 188,
   "id": "50430453",
   "metadata": {},
   "outputs": [
    {
     "name": "stdout",
     "output_type": "stream",
     "text": [
      "2.6\n"
     ]
    }
   ],
   "source": [
    "# сумму всех кухонь в ресторанах поделить на число ресторанов\n",
    "# число всех кухонь\n",
    "none_cuisine_count = len(main_df.index) - main_df['Cuisine Style'].count()\n",
    "all_cuisine_count = sum(cuisine_count.values()) + none_cuisine_count\n",
    "# число всех ресторанов по мнению составителей курса\n",
    "all_restaurant_count = len(main_df['Restaurant_id'])\n",
    "print(round(all_cuisine_count / all_restaurant_count, 1))"
   ]
  },
  {
   "cell_type": "markdown",
   "id": "2595669d",
   "metadata": {},
   "source": [
    "# 4.4 Вопросы об отзывах"
   ]
  },
  {
   "cell_type": "markdown",
   "id": "cbb90a49",
   "metadata": {},
   "source": [
    "Когда был оставлен самый свежий отзыв? Введите ответ в формате yyyy-mm-dd."
   ]
  },
  {
   "cell_type": "code",
   "execution_count": 189,
   "id": "10f5be4b",
   "metadata": {
    "scrolled": true
   },
   "outputs": [],
   "source": [
    "# представить данные в виде массива\n",
    "temp = main_df['Reviews'].apply(lambda x: str(x).split('], ['))\n",
    "\n",
    "# создать столбец дат\n",
    "new_date = temp.apply(lambda x: x[1]).apply(to_list)\n",
    "main_df['Date'] = new_date\n",
    "\n",
    "# переписать столбец Reviews так чтобы содержал только отзывы (текст)\n",
    "rev = temp.apply(lambda x: x[0]).apply(to_list)\n",
    "main_df['Reviews'] = rev"
   ]
  },
  {
   "cell_type": "code",
   "execution_count": 190,
   "id": "390573d4",
   "metadata": {},
   "outputs": [],
   "source": [
    "# пройтись по всем строкам и добавть в массив дат пустую строку если длина массива Reviews \n",
    "# больше длины массива Date \n",
    "# функция которая принимает строку и возвращает значение на основе условия выше\n",
    "def complete_date(row):\n",
    "    rev = row.Reviews\n",
    "    d = row.Date\n",
    "    len_rev = len(rev)\n",
    "    len_d = len(d)\n",
    "    if len_rev > len_d:\n",
    "        d += ['']* (len_rev - len_d)\n",
    "    return d\n",
    "\n",
    "main_df['Date'] = main_df.apply(lambda row: complete_date(row), axis=1)"
   ]
  },
  {
   "cell_type": "code",
   "execution_count": 191,
   "id": "d18d4eb0",
   "metadata": {
    "scrolled": true
   },
   "outputs": [],
   "source": [
    "# разбить столбец Reviews и Date на строки с помощью main_df.explode(['Reviews', 'Date'])\n",
    "main_df = main_df.explode(['Reviews', 'Date'], ignore_index=True)"
   ]
  },
  {
   "cell_type": "code",
   "execution_count": 192,
   "id": "122fd3ed",
   "metadata": {
    "scrolled": true
   },
   "outputs": [
    {
     "name": "stderr",
     "output_type": "stream",
     "text": [
      "C:\\Users\\User\\AppData\\Local\\Temp/ipykernel_5280/3143586568.py:5: FutureWarning: Inferring datetime64[ns] from data containing strings is deprecated and will be removed in a future version. To retain the old behavior explicitly pass Series(data, dtype={value.dtype})\n",
      "  main_df['Date'] = main_df['Date'].apply(lambda x:\n"
     ]
    }
   ],
   "source": [
    "# преобразовать дату из строки в datetime\n",
    "date_pattern = '%Y-%m-%d'\n",
    "\n",
    "from datetime import datetime as dt\n",
    "main_df['Date'] = main_df['Date'].apply(lambda x: \n",
    "    dt.strptime(x, '%m/%d/%Y') if x else x)"
   ]
  },
  {
   "cell_type": "code",
   "execution_count": 193,
   "id": "adb4ce53",
   "metadata": {},
   "outputs": [],
   "source": [
    "def get_max_date(data):\n",
    "    max_date = data[0]\n",
    "    for i in data:\n",
    "        if i:\n",
    "            if i > max_date:\n",
    "                max_date = i\n",
    "    return max_date\n",
    "\n",
    "def get_min_date(data):\n",
    "    min_date = data[0]\n",
    "    for i in data:\n",
    "        if i:\n",
    "            if i > min_date:\n",
    "                min_date = i\n",
    "    return min_date"
   ]
  },
  {
   "cell_type": "code",
   "execution_count": 194,
   "id": "6bb0fcf8",
   "metadata": {},
   "outputs": [
    {
     "data": {
      "text/plain": [
       "'2018-02-26'"
      ]
     },
     "metadata": {},
     "output_type": "display_data"
    }
   ],
   "source": [
    "# найти среди всех дат ту, у которой самый меленькие год, месяц и день\n",
    "display(dt.strftime(get_max_date(main_df['Date']), date_pattern))"
   ]
  },
  {
   "cell_type": "markdown",
   "id": "db585708",
   "metadata": {},
   "source": [
    "Какое максимальное количество дней отделяет даты публикации отзывов, размещённых на сайте ресторана? Введите количество дней в виде целого числа."
   ]
  },
  {
   "cell_type": "markdown",
   "id": "4256a5a4",
   "metadata": {},
   "source": [
    "**Альтернативный вариант: не разбивать датасет с помощью explode**"
   ]
  },
  {
   "cell_type": "code",
   "execution_count": 195,
   "id": "578cd863",
   "metadata": {},
   "outputs": [],
   "source": [
    "main_df = pd.read_csv('main_task_new.csv', encoding='utf-8')"
   ]
  },
  {
   "cell_type": "code",
   "execution_count": 196,
   "id": "07b15476",
   "metadata": {},
   "outputs": [],
   "source": [
    "import re\n",
    "from itertools import combinations\n",
    "from datetime import datetime as dt\n",
    "\n",
    "# строку в список\n",
    "def to_list(row):\n",
    "    pattern = re.compile(r'\\[|\\\"|\\'|\\]')\n",
    "    if isinstance(row, str):\n",
    "        row = re.sub(pattern, '', row).split(', ')\n",
    "    return row\n",
    "\n",
    "# массив строк дат в datetime\n",
    "def to_datetime(data):\n",
    "    result = []\n",
    "    for i in data:\n",
    "        if i:\n",
    "            result.append(dt.strptime(i, '%m/%d/%Y'))\n",
    "        else:\n",
    "            result.append(i)\n",
    "    return result\n",
    "\n",
    "# функция подсчёта максимальной разницы дат\n",
    "def date_difference(data):\n",
    "    pairs = combinations(data, 2)\n",
    "    max_diff = 0\n",
    "    for pair in pairs:\n",
    "        if pair[0] > pair[1]:\n",
    "            diff = (pair[0] - pair[1]).days\n",
    "        else:\n",
    "            diff = (pair[1] - pair[0]).days\n",
    "        if diff > max_diff:\n",
    "            max_diff = diff\n",
    "    return max_diff\n"
   ]
  },
  {
   "cell_type": "code",
   "execution_count": 197,
   "id": "37dad6fc",
   "metadata": {},
   "outputs": [],
   "source": [
    "# представить данные в виде массива\n",
    "temp = main_df['Reviews'].apply(lambda x: str(x).split('], ['))\n",
    "\n",
    "# создать столбец дат\n",
    "new_date = temp.apply(lambda x: x[1]).apply(to_list)\n",
    "main_df['Date'] = new_date\n",
    "\n",
    "# переписать столбец Reviews так чтобы содержал только отзывы (текст)\n",
    "rev = temp.apply(lambda x: x[0]).apply(to_list)\n",
    "main_df['Reviews'] = rev"
   ]
  },
  {
   "cell_type": "code",
   "execution_count": 198,
   "id": "5cd639e8",
   "metadata": {},
   "outputs": [],
   "source": [
    "main_df['Date'] = main_df['Date'].apply(to_datetime)"
   ]
  },
  {
   "cell_type": "code",
   "execution_count": 199,
   "id": "630866d8",
   "metadata": {},
   "outputs": [
    {
     "data": {
      "text/plain": [
       "3207"
      ]
     },
     "execution_count": 199,
     "metadata": {},
     "output_type": "execute_result"
    }
   ],
   "source": [
    " main_df['Date'].apply(date_difference).max()"
   ]
  },
  {
   "cell_type": "markdown",
   "id": "6e8c20ab",
   "metadata": {},
   "source": [
    "# 4.5 Итоги шага"
   ]
  },
  {
   "cell_type": "markdown",
   "id": "d6114c05",
   "metadata": {},
   "source": [
    "### Резюмируем все действия и выделяем новые признаки"
   ]
  },
  {
   "cell_type": "code",
   "execution_count": 200,
   "id": "1ccad764",
   "metadata": {},
   "outputs": [],
   "source": [
    "main_df = pd.read_csv('main_task_new.csv', encoding='utf-8')"
   ]
  },
  {
   "cell_type": "code",
   "execution_count": 201,
   "id": "db7c9ef0",
   "metadata": {},
   "outputs": [],
   "source": [
    "import re\n",
    "from itertools import combinations\n",
    "from datetime import datetime as dt\n",
    "\n",
    "# строку в список\n",
    "def to_list(row):\n",
    "    pattern = re.compile(r'\\[|\\\"|\\'|\\]')\n",
    "    if isinstance(row, str):\n",
    "        row = re.sub(pattern, '', row).split(', ')\n",
    "    return row\n",
    "\n",
    "# массив строк дат в datetime\n",
    "def to_datetime(data):\n",
    "    result = []\n",
    "    for i in data:\n",
    "        if i:\n",
    "            result.append(dt.strptime(i, '%m/%d/%Y'))\n",
    "        else:\n",
    "            result.append(i)\n",
    "    return result"
   ]
  },
  {
   "cell_type": "markdown",
   "id": "56641a92",
   "metadata": {},
   "source": [
    "Какое значение метрики MAE вам удалось получить на этом этапе?"
   ]
  },
  {
   "cell_type": "code",
   "execution_count": null,
   "id": "a07f8a53",
   "metadata": {},
   "outputs": [],
   "source": []
  },
  {
   "cell_type": "markdown",
   "id": "007d2125",
   "metadata": {},
   "source": [
    "Напишите список не менее чем из пяти признаков, которые вы добавили в датафрейм и дайте краткое пояснение, что означает каждый из признаков."
   ]
  },
  {
   "cell_type": "code",
   "execution_count": null,
   "id": "428a3170",
   "metadata": {},
   "outputs": [],
   "source": []
  },
  {
   "cell_type": "code",
   "execution_count": 202,
   "id": "91f27790",
   "metadata": {},
   "outputs": [
    {
     "data": {
      "text/html": [
       "<div>\n",
       "<style scoped>\n",
       "    .dataframe tbody tr th:only-of-type {\n",
       "        vertical-align: middle;\n",
       "    }\n",
       "\n",
       "    .dataframe tbody tr th {\n",
       "        vertical-align: top;\n",
       "    }\n",
       "\n",
       "    .dataframe thead th {\n",
       "        text-align: right;\n",
       "    }\n",
       "</style>\n",
       "<table border=\"1\" class=\"dataframe\">\n",
       "  <thead>\n",
       "    <tr style=\"text-align: right;\">\n",
       "      <th></th>\n",
       "      <th>Restaurant_id</th>\n",
       "      <th>City</th>\n",
       "      <th>Cuisine Style</th>\n",
       "      <th>Ranking</th>\n",
       "      <th>Rating</th>\n",
       "      <th>Price Range</th>\n",
       "      <th>Number of Reviews</th>\n",
       "      <th>Reviews</th>\n",
       "      <th>URL_TA</th>\n",
       "      <th>ID_TA</th>\n",
       "    </tr>\n",
       "  </thead>\n",
       "  <tbody>\n",
       "    <tr>\n",
       "      <th>0</th>\n",
       "      <td>id_5569</td>\n",
       "      <td>Paris</td>\n",
       "      <td>['European', 'French', 'International']</td>\n",
       "      <td>5570.0</td>\n",
       "      <td>3.5</td>\n",
       "      <td>$$ - $$$</td>\n",
       "      <td>194.0</td>\n",
       "      <td>[['Good food at your doorstep', 'A good hotel ...</td>\n",
       "      <td>/Restaurant_Review-g187147-d1912643-Reviews-R_...</td>\n",
       "      <td>d1912643</td>\n",
       "    </tr>\n",
       "    <tr>\n",
       "      <th>1</th>\n",
       "      <td>id_1535</td>\n",
       "      <td>Stockholm</td>\n",
       "      <td>NaN</td>\n",
       "      <td>1537.0</td>\n",
       "      <td>4.0</td>\n",
       "      <td>NaN</td>\n",
       "      <td>10.0</td>\n",
       "      <td>[['Unique cuisine', 'Delicious Nepalese food']...</td>\n",
       "      <td>/Restaurant_Review-g189852-d7992032-Reviews-Bu...</td>\n",
       "      <td>d7992032</td>\n",
       "    </tr>\n",
       "    <tr>\n",
       "      <th>2</th>\n",
       "      <td>id_352</td>\n",
       "      <td>London</td>\n",
       "      <td>['Japanese', 'Sushi', 'Asian', 'Grill', 'Veget...</td>\n",
       "      <td>353.0</td>\n",
       "      <td>4.5</td>\n",
       "      <td>$$$$</td>\n",
       "      <td>688.0</td>\n",
       "      <td>[['Catch up with friends', 'Not exceptional'],...</td>\n",
       "      <td>/Restaurant_Review-g186338-d8632781-Reviews-RO...</td>\n",
       "      <td>d8632781</td>\n",
       "    </tr>\n",
       "    <tr>\n",
       "      <th>3</th>\n",
       "      <td>id_3456</td>\n",
       "      <td>Berlin</td>\n",
       "      <td>NaN</td>\n",
       "      <td>3458.0</td>\n",
       "      <td>5.0</td>\n",
       "      <td>NaN</td>\n",
       "      <td>3.0</td>\n",
       "      <td>[[], []]</td>\n",
       "      <td>/Restaurant_Review-g187323-d1358776-Reviews-Es...</td>\n",
       "      <td>d1358776</td>\n",
       "    </tr>\n",
       "    <tr>\n",
       "      <th>4</th>\n",
       "      <td>id_615</td>\n",
       "      <td>Munich</td>\n",
       "      <td>['German', 'Central European', 'Vegetarian Fri...</td>\n",
       "      <td>621.0</td>\n",
       "      <td>4.0</td>\n",
       "      <td>$$ - $$$</td>\n",
       "      <td>84.0</td>\n",
       "      <td>[['Best place to try a Bavarian food', 'Nice b...</td>\n",
       "      <td>/Restaurant_Review-g187309-d6864963-Reviews-Au...</td>\n",
       "      <td>d6864963</td>\n",
       "    </tr>\n",
       "    <tr>\n",
       "      <th>...</th>\n",
       "      <td>...</td>\n",
       "      <td>...</td>\n",
       "      <td>...</td>\n",
       "      <td>...</td>\n",
       "      <td>...</td>\n",
       "      <td>...</td>\n",
       "      <td>...</td>\n",
       "      <td>...</td>\n",
       "      <td>...</td>\n",
       "      <td>...</td>\n",
       "    </tr>\n",
       "    <tr>\n",
       "      <th>39995</th>\n",
       "      <td>id_499</td>\n",
       "      <td>Milan</td>\n",
       "      <td>['Italian', 'Vegetarian Friendly', 'Vegan Opti...</td>\n",
       "      <td>500.0</td>\n",
       "      <td>4.5</td>\n",
       "      <td>$$ - $$$</td>\n",
       "      <td>79.0</td>\n",
       "      <td>[['The real Italian experience!', 'Wonderful f...</td>\n",
       "      <td>/Restaurant_Review-g187849-d2104414-Reviews-Ro...</td>\n",
       "      <td>d2104414</td>\n",
       "    </tr>\n",
       "    <tr>\n",
       "      <th>39996</th>\n",
       "      <td>id_6340</td>\n",
       "      <td>Paris</td>\n",
       "      <td>['French', 'American', 'Bar', 'European', 'Veg...</td>\n",
       "      <td>6341.0</td>\n",
       "      <td>3.5</td>\n",
       "      <td>$$ - $$$</td>\n",
       "      <td>542.0</td>\n",
       "      <td>[['Parisian atmosphere', 'Bit pricey but inter...</td>\n",
       "      <td>/Restaurant_Review-g187147-d1800036-Reviews-La...</td>\n",
       "      <td>d1800036</td>\n",
       "    </tr>\n",
       "    <tr>\n",
       "      <th>39997</th>\n",
       "      <td>id_1649</td>\n",
       "      <td>Stockholm</td>\n",
       "      <td>['Japanese', 'Sushi']</td>\n",
       "      <td>1652.0</td>\n",
       "      <td>4.5</td>\n",
       "      <td>NaN</td>\n",
       "      <td>4.0</td>\n",
       "      <td>[['Good by swedish standards', 'A hidden jewel...</td>\n",
       "      <td>/Restaurant_Review-g189852-d947615-Reviews-Sus...</td>\n",
       "      <td>d947615</td>\n",
       "    </tr>\n",
       "    <tr>\n",
       "      <th>39998</th>\n",
       "      <td>id_640</td>\n",
       "      <td>Warsaw</td>\n",
       "      <td>['Polish', 'European', 'Eastern European', 'Ce...</td>\n",
       "      <td>641.0</td>\n",
       "      <td>4.0</td>\n",
       "      <td>$$ - $$$</td>\n",
       "      <td>70.0</td>\n",
       "      <td>[['Underground restaurant', 'Oldest Restaurant...</td>\n",
       "      <td>/Restaurant_Review-g274856-d1100838-Reviews-Ho...</td>\n",
       "      <td>d1100838</td>\n",
       "    </tr>\n",
       "    <tr>\n",
       "      <th>39999</th>\n",
       "      <td>id_4824</td>\n",
       "      <td>Milan</td>\n",
       "      <td>['Spanish']</td>\n",
       "      <td>4827.0</td>\n",
       "      <td>3.0</td>\n",
       "      <td>$$ - $$$</td>\n",
       "      <td>260.0</td>\n",
       "      <td>[['Average', 'Nice an informal'], ['01/31/2016...</td>\n",
       "      <td>/Restaurant_Review-g187849-d1109020-Reviews-Ta...</td>\n",
       "      <td>d1109020</td>\n",
       "    </tr>\n",
       "  </tbody>\n",
       "</table>\n",
       "<p>40000 rows × 10 columns</p>\n",
       "</div>"
      ],
      "text/plain": [
       "      Restaurant_id       City  \\\n",
       "0           id_5569      Paris   \n",
       "1           id_1535  Stockholm   \n",
       "2            id_352     London   \n",
       "3           id_3456     Berlin   \n",
       "4            id_615     Munich   \n",
       "...             ...        ...   \n",
       "39995        id_499      Milan   \n",
       "39996       id_6340      Paris   \n",
       "39997       id_1649  Stockholm   \n",
       "39998        id_640     Warsaw   \n",
       "39999       id_4824      Milan   \n",
       "\n",
       "                                           Cuisine Style  Ranking  Rating  \\\n",
       "0                ['European', 'French', 'International']   5570.0     3.5   \n",
       "1                                                    NaN   1537.0     4.0   \n",
       "2      ['Japanese', 'Sushi', 'Asian', 'Grill', 'Veget...    353.0     4.5   \n",
       "3                                                    NaN   3458.0     5.0   \n",
       "4      ['German', 'Central European', 'Vegetarian Fri...    621.0     4.0   \n",
       "...                                                  ...      ...     ...   \n",
       "39995  ['Italian', 'Vegetarian Friendly', 'Vegan Opti...    500.0     4.5   \n",
       "39996  ['French', 'American', 'Bar', 'European', 'Veg...   6341.0     3.5   \n",
       "39997                              ['Japanese', 'Sushi']   1652.0     4.5   \n",
       "39998  ['Polish', 'European', 'Eastern European', 'Ce...    641.0     4.0   \n",
       "39999                                        ['Spanish']   4827.0     3.0   \n",
       "\n",
       "      Price Range  Number of Reviews  \\\n",
       "0        $$ - $$$              194.0   \n",
       "1             NaN               10.0   \n",
       "2            $$$$              688.0   \n",
       "3             NaN                3.0   \n",
       "4        $$ - $$$               84.0   \n",
       "...           ...                ...   \n",
       "39995    $$ - $$$               79.0   \n",
       "39996    $$ - $$$              542.0   \n",
       "39997         NaN                4.0   \n",
       "39998    $$ - $$$               70.0   \n",
       "39999    $$ - $$$              260.0   \n",
       "\n",
       "                                                 Reviews  \\\n",
       "0      [['Good food at your doorstep', 'A good hotel ...   \n",
       "1      [['Unique cuisine', 'Delicious Nepalese food']...   \n",
       "2      [['Catch up with friends', 'Not exceptional'],...   \n",
       "3                                               [[], []]   \n",
       "4      [['Best place to try a Bavarian food', 'Nice b...   \n",
       "...                                                  ...   \n",
       "39995  [['The real Italian experience!', 'Wonderful f...   \n",
       "39996  [['Parisian atmosphere', 'Bit pricey but inter...   \n",
       "39997  [['Good by swedish standards', 'A hidden jewel...   \n",
       "39998  [['Underground restaurant', 'Oldest Restaurant...   \n",
       "39999  [['Average', 'Nice an informal'], ['01/31/2016...   \n",
       "\n",
       "                                                  URL_TA     ID_TA  \n",
       "0      /Restaurant_Review-g187147-d1912643-Reviews-R_...  d1912643  \n",
       "1      /Restaurant_Review-g189852-d7992032-Reviews-Bu...  d7992032  \n",
       "2      /Restaurant_Review-g186338-d8632781-Reviews-RO...  d8632781  \n",
       "3      /Restaurant_Review-g187323-d1358776-Reviews-Es...  d1358776  \n",
       "4      /Restaurant_Review-g187309-d6864963-Reviews-Au...  d6864963  \n",
       "...                                                  ...       ...  \n",
       "39995  /Restaurant_Review-g187849-d2104414-Reviews-Ro...  d2104414  \n",
       "39996  /Restaurant_Review-g187147-d1800036-Reviews-La...  d1800036  \n",
       "39997  /Restaurant_Review-g189852-d947615-Reviews-Sus...   d947615  \n",
       "39998  /Restaurant_Review-g274856-d1100838-Reviews-Ho...  d1100838  \n",
       "39999  /Restaurant_Review-g187849-d1109020-Reviews-Ta...  d1109020  \n",
       "\n",
       "[40000 rows x 10 columns]"
      ]
     },
     "metadata": {},
     "output_type": "display_data"
    }
   ],
   "source": [
    "display(main_df)"
   ]
  },
  {
   "cell_type": "markdown",
   "id": "4f4c9ca3",
   "metadata": {},
   "source": []
  },
  {
   "cell_type": "markdown",
   "id": "c8c5898a",
   "metadata": {},
   "source": []
  },
  {
   "cell_type": "markdown",
   "id": "d2a41366",
   "metadata": {},
   "source": []
  },
  {
   "cell_type": "markdown",
   "id": "3d6ee644",
   "metadata": {},
   "source": []
  },
  {
   "cell_type": "markdown",
   "id": "f3452517",
   "metadata": {},
   "source": []
  }
 ],
 "metadata": {
  "kernelspec": {
   "display_name": "Python 3 (ipykernel)",
   "language": "python",
   "name": "python3"
  },
  "language_info": {
   "codemirror_mode": {
    "name": "ipython",
    "version": 3
   },
   "file_extension": ".py",
   "mimetype": "text/x-python",
   "name": "python",
   "nbconvert_exporter": "python",
   "pygments_lexer": "ipython3",
   "version": "3.8.8"
  },
  "varInspector": {
   "cols": {
    "lenName": 16,
    "lenType": 16,
    "lenVar": 40
   },
   "kernels_config": {
    "python": {
     "delete_cmd_postfix": "",
     "delete_cmd_prefix": "del ",
     "library": "var_list.py",
     "varRefreshCmd": "print(var_dic_list())"
    },
    "r": {
     "delete_cmd_postfix": ") ",
     "delete_cmd_prefix": "rm(",
     "library": "var_list.r",
     "varRefreshCmd": "cat(var_dic_list()) "
    }
   },
   "types_to_exclude": [
    "module",
    "function",
    "builtin_function_or_method",
    "instance",
    "_Feature"
   ],
   "window_display": false
  }
 },
 "nbformat": 4,
 "nbformat_minor": 5
}
