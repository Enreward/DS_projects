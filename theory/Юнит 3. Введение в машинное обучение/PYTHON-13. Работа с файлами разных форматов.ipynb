{
 "cells": [
  {
   "cell_type": "markdown",
   "id": "27f75e4c",
   "metadata": {},
   "source": [
    "# 13.0 О чём этот модуль\n",
    "### О чём этот модуль\n",
    "Вы уже умеете делать много полезных трюков с данными, представленными в CSV-формате. Наверняка многие из этих трюков вы уже пробовали применить для решения реальных задач, и, скорее всего, это неплохо у вас получилось. Тем не менее нет предела совершенству.\n",
    "\n",
    "В реальной практике далеко не все данные, которые мы получаем для работы, упакованы в структурированные, готовые к обработке в библиотеке Pandas CSV-файлы. Данные могут поступать к нам в разных форматах: это и таблицы Excel со сложной и не всегда логичной структурой, и загруженные из интернета файлы в формате JSON и XML, которые имеют далеко не табличную структуру.\n",
    "\n",
    "Для работы с такими данными нужно не только понимать особенности их структуры, но и уметь использовать специальные инструменты: библиотеки, функции и методы. Всем этим мы и займёмся в данном модуле.\n",
    "\n",
    "### Чему я научусь в этом модуле?\n",
    "В этом модуле мы будем учиться работать с тремя форматами данных, с которыми, помимо CSV, чаще всего приходится иметь дело аналитику: Excel, JSON и XML. Вы научитесь:\n",
    "\n",
    "- открывать файлы указанных форматов;\n",
    "- анализировать структуру данных и разрабатывать план работы с данными в зависимости от их структуры;\n",
    "- преобразовывать данные из одного формата в другой и создавать Pandas DataFrame на основе данных указанных форматов;\n",
    "- создавать файлы форматов Excel, JSON и XML.\n",
    "\n",
    "### Полезные ссылки\n",
    "В этом модуле мы будем работать с новыми библиотеками, поэтому будет полезным иметь под рукой ссылки на документацию этих библиотек:\n",
    "\n",
    "Модуль JSON (https://docs.python.org/3/library/json.html) стандартной библиотеки Python.  \n",
    "Метод read_excel (https://pandas.pydata.org/pandas-docs/stable/reference/api/pandas.read_excel.html) библиотеки Pandas.  \n",
    "Модуль xml.etree.ElementTree (https://docs.python.org/3.7/library/xml.etree.elementtree.html) стандартной библиотеки Python."
   ]
  },
  {
   "cell_type": "markdown",
   "id": "d762c3a8",
   "metadata": {},
   "source": [
    "# 13.1 Формат JSON\n"
   ]
  },
  {
   "cell_type": "markdown",
   "id": "9b70391b",
   "metadata": {},
   "source": []
  },
  {
   "cell_type": "markdown",
   "id": "8976acab",
   "metadata": {},
   "source": []
  },
  {
   "cell_type": "markdown",
   "id": "84190f0c",
   "metadata": {},
   "source": []
  },
  {
   "cell_type": "markdown",
   "id": "d971408f",
   "metadata": {},
   "source": []
  },
  {
   "cell_type": "markdown",
   "id": "dee0d8f2",
   "metadata": {},
   "source": []
  },
  {
   "cell_type": "markdown",
   "id": "e107eecb",
   "metadata": {},
   "source": []
  },
  {
   "cell_type": "markdown",
   "id": "cf932a5b",
   "metadata": {},
   "source": []
  }
 ],
 "metadata": {
  "kernelspec": {
   "display_name": "Python 3",
   "language": "python",
   "name": "python3"
  },
  "language_info": {
   "codemirror_mode": {
    "name": "ipython",
    "version": 3
   },
   "file_extension": ".py",
   "mimetype": "text/x-python",
   "name": "python",
   "nbconvert_exporter": "python",
   "pygments_lexer": "ipython3",
   "version": "3.8.8"
  }
 },
 "nbformat": 4,
 "nbformat_minor": 5
}
