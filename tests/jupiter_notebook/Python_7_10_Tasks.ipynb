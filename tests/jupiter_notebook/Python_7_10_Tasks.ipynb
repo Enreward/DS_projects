{
 "cells": [
  {
   "cell_type": "code",
   "execution_count": 1,
   "id": "c9efa2e5",
   "metadata": {},
   "outputs": [],
   "source": [
    "import pandas as pd\n",
    "\n",
    "# Информация о наличии товара на складе:\n",
    "items_dict = {\n",
    "\n",
    "    'item_id': [417283, 849734, 132223, 573943, 19475, 3294095, 382043, 302948, 100132, 312394], \n",
    "\n",
    "    'vendor': ['Samsung', 'LG', 'Apple', 'Apple', 'LG', 'Apple', 'Samsung', 'Samsung', 'LG', 'ZTE'],\n",
    "\n",
    "    'stock_count': [54, 33, 122, 18, 102, 43, 77, 143, 60, 19]\n",
    "\n",
    "}\n",
    "# Данные о покупках товаров\n",
    "purchase_log = {\n",
    "\n",
    "    'purchase_id': [101, 101, 101, 112, 121, 145, 145, 145, 145, 221],\n",
    "\n",
    "    'item_id': [417283, 849734, 132223, 573943, 19475, 3294095, 382043, 302948, 103845, 100132], \n",
    "\n",
    "    'price': [13900, 5330, 38200, 49990, 9890, 33000, 67500, 34500, 89900, 11400]\n",
    "\n",
    "}\n",
    "items_df = pd.DataFrame(items_dict)\n",
    "purchase_df = pd.DataFrame(purchase_log)"
   ]
  },
  {
   "cell_type": "code",
   "execution_count": 11,
   "id": "66362570",
   "metadata": {},
   "outputs": [],
   "source": [
    "# # Объедините получившиеся датафреймы по столбцу item_id с типом outer.\n",
    "# # Определите, модель с каким item_id есть в статистике продаж purchase_df, \n",
    "# # но не учтена на складе (подсказка: подумайте, какой датафрейм должен быть \"левым\", \n",
    "# # а какой \"правым\", чтобы получить необходимые данные). Введите ответ в виде целого числа.\n",
    "# # Решите обратную задачу: модель с каким item_id есть на складе, \n",
    "# # но не имела ни одной продажи? Введите ответ в виде целого числа.\n",
    "# joined = items_df.merge(purchase_df, on='item_id', how='outer')\n",
    "# display(joined)"
   ]
  },
  {
   "cell_type": "code",
   "execution_count": 15,
   "id": "f316a976",
   "metadata": {},
   "outputs": [],
   "source": [
    "# # Сформируйте датафрейм merged, в котором в результате объединения purchase_df и items_df останутся модели, \n",
    "# # которые учтены на складе и имели продажи. Сколько всего таких моделей?\n",
    "# joined = items_df.merge(purchase_df, on='item_id', how='inner')\n",
    "# display(len(joined))"
   ]
  },
  {
   "cell_type": "code",
   "execution_count": 39,
   "id": "602fb7f4",
   "metadata": {},
   "outputs": [],
   "source": [
    "# # Посчитайте объем выручки для каждой модели, которую можно получить, распродав все остатки на складе. \n",
    "# # Модель с каким item_id имеет максимальное значение выручки после распродажи остатков? Ответ дайте в виде целого числа.\n",
    "# # Примечание: перемножение столбцов датафрейма можно производить разными способами, но \n",
    "# # самый простой - перемножение \"в лоб\" вида df['col1'] = df['col2'] * df['col3'].\n",
    "# joined = items_df.merge(purchase_df, on='item_id', how='inner')\n",
    "# joined['proceeds'] = joined['stock_count'] * joined['price']\n",
    "# joined = joined.sort_values(['proceeds'],ascending=False)\n",
    "# display(joined[joined['proceeds'] == joined['proceeds'].max()]['item_id'])\n",
    "\n",
    "# # Посчитайте итоговую выручку из прошлого задания по всем моделям. Ответ дайте в виде целого числа.\n",
    "# display(joined['proceeds'].sum())"
   ]
  },
  {
   "cell_type": "code",
   "execution_count": null,
   "id": "e6146957",
   "metadata": {},
   "outputs": [],
   "source": []
  }
 ],
 "metadata": {
  "kernelspec": {
   "display_name": "Python 3",
   "language": "python",
   "name": "python3"
  },
  "language_info": {
   "codemirror_mode": {
    "name": "ipython",
    "version": 3
   },
   "file_extension": ".py",
   "mimetype": "text/x-python",
   "name": "python",
   "nbconvert_exporter": "python",
   "pygments_lexer": "ipython3",
   "version": "3.8.8"
  },
  "varInspector": {
   "cols": {
    "lenName": 16,
    "lenType": 16,
    "lenVar": 40
   },
   "kernels_config": {
    "python": {
     "delete_cmd_postfix": "",
     "delete_cmd_prefix": "del ",
     "library": "var_list.py",
     "varRefreshCmd": "print(var_dic_list())"
    },
    "r": {
     "delete_cmd_postfix": ") ",
     "delete_cmd_prefix": "rm(",
     "library": "var_list.r",
     "varRefreshCmd": "cat(var_dic_list()) "
    }
   },
   "types_to_exclude": [
    "module",
    "function",
    "builtin_function_or_method",
    "instance",
    "_Feature"
   ],
   "window_display": false
  }
 },
 "nbformat": 4,
 "nbformat_minor": 5
}
