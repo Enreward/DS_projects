{
 "cells": [
  {
   "cell_type": "code",
   "execution_count": 128,
   "id": "74ab1779",
   "metadata": {},
   "outputs": [],
   "source": [
    "import pandas as pd\n",
    "import sweetviz as sv"
   ]
  },
  {
   "cell_type": "code",
   "execution_count": 129,
   "id": "27c18285",
   "metadata": {},
   "outputs": [],
   "source": [
    "# Чтение файла .csv\n",
    "df = pd.read_csv('data_sf.csv')"
   ]
  },
  {
   "cell_type": "code",
   "execution_count": 130,
   "id": "b2bafa9c",
   "metadata": {},
   "outputs": [],
   "source": [
    "# # Полный вывод данных\n",
    "# with pd.option_context('display.max_rows', None, 'display.max_columns', None):\n",
    "#     display(df)"
   ]
  },
  {
   "cell_type": "code",
   "execution_count": 131,
   "id": "b474eafb",
   "metadata": {
    "scrolled": true
   },
   "outputs": [],
   "source": [
    "# # Полный вывод основных характеристик данных по числовому признаку (int64, float64)\n",
    "# with pd.option_context('display.max_rows', None, 'display.max_columns', None):\n",
    "#     display(df.describe())"
   ]
  },
  {
   "cell_type": "code",
   "execution_count": 132,
   "id": "aac23fa5",
   "metadata": {
    "scrolled": true
   },
   "outputs": [],
   "source": [
    "# # Полный вывод основных характеристик данных по не числовому признаку (bool, object)\n",
    "# with pd.option_context('display.max_rows', None, 'display.max_columns', None):\n",
    "#     display(df.describe(include=['bool', 'object']))"
   ]
  },
  {
   "cell_type": "code",
   "execution_count": 137,
   "id": "51c077c0",
   "metadata": {},
   "outputs": [
    {
     "ename": "AttributeError",
     "evalue": "'DataFrame' object has no attribute 'Nationality'",
     "output_type": "error",
     "traceback": [
      "\u001b[1;31m---------------------------------------------------------------------------\u001b[0m",
      "\u001b[1;31mAttributeError\u001b[0m                            Traceback (most recent call last)",
      "\u001b[1;32m<ipython-input-137-cb9d5a2087d0>\u001b[0m in \u001b[0;36m<module>\u001b[1;34m\u001b[0m\n\u001b[0;32m      1\u001b[0m \u001b[1;31m# Какова самая частая национальность (Nationality) футболистов?\u001b[0m\u001b[1;33m\u001b[0m\u001b[1;33m\u001b[0m\u001b[1;33m\u001b[0m\u001b[0m\n\u001b[1;32m----> 2\u001b[1;33m \u001b[0mdisplay\u001b[0m\u001b[1;33m(\u001b[0m\u001b[0mdf\u001b[0m\u001b[1;33m.\u001b[0m\u001b[0mdescribe\u001b[0m\u001b[1;33m(\u001b[0m\u001b[1;33m)\u001b[0m\u001b[1;33m.\u001b[0m\u001b[0mNationality\u001b[0m\u001b[1;33m)\u001b[0m\u001b[1;33m\u001b[0m\u001b[1;33m\u001b[0m\u001b[0m\n\u001b[0m",
      "\u001b[1;32mD:\\Programs\\anaconda3\\lib\\site-packages\\pandas\\core\\generic.py\u001b[0m in \u001b[0;36m__getattr__\u001b[1;34m(self, name)\u001b[0m\n\u001b[0;32m   5463\u001b[0m             \u001b[1;32mif\u001b[0m \u001b[0mself\u001b[0m\u001b[1;33m.\u001b[0m\u001b[0m_info_axis\u001b[0m\u001b[1;33m.\u001b[0m\u001b[0m_can_hold_identifiers_and_holds_name\u001b[0m\u001b[1;33m(\u001b[0m\u001b[0mname\u001b[0m\u001b[1;33m)\u001b[0m\u001b[1;33m:\u001b[0m\u001b[1;33m\u001b[0m\u001b[1;33m\u001b[0m\u001b[0m\n\u001b[0;32m   5464\u001b[0m                 \u001b[1;32mreturn\u001b[0m \u001b[0mself\u001b[0m\u001b[1;33m[\u001b[0m\u001b[0mname\u001b[0m\u001b[1;33m]\u001b[0m\u001b[1;33m\u001b[0m\u001b[1;33m\u001b[0m\u001b[0m\n\u001b[1;32m-> 5465\u001b[1;33m             \u001b[1;32mreturn\u001b[0m \u001b[0mobject\u001b[0m\u001b[1;33m.\u001b[0m\u001b[0m__getattribute__\u001b[0m\u001b[1;33m(\u001b[0m\u001b[0mself\u001b[0m\u001b[1;33m,\u001b[0m \u001b[0mname\u001b[0m\u001b[1;33m)\u001b[0m\u001b[1;33m\u001b[0m\u001b[1;33m\u001b[0m\u001b[0m\n\u001b[0m\u001b[0;32m   5466\u001b[0m \u001b[1;33m\u001b[0m\u001b[0m\n\u001b[0;32m   5467\u001b[0m     \u001b[1;32mdef\u001b[0m \u001b[0m__setattr__\u001b[0m\u001b[1;33m(\u001b[0m\u001b[0mself\u001b[0m\u001b[1;33m,\u001b[0m \u001b[0mname\u001b[0m\u001b[1;33m:\u001b[0m \u001b[0mstr\u001b[0m\u001b[1;33m,\u001b[0m \u001b[0mvalue\u001b[0m\u001b[1;33m)\u001b[0m \u001b[1;33m->\u001b[0m \u001b[1;32mNone\u001b[0m\u001b[1;33m:\u001b[0m\u001b[1;33m\u001b[0m\u001b[1;33m\u001b[0m\u001b[0m\n",
      "\u001b[1;31mAttributeError\u001b[0m: 'DataFrame' object has no attribute 'Nationality'"
     ]
    }
   ],
   "source": [
    "# Какова самая частая национальность (Nationality) футболистов?\n",
    "display(df.describe().Nationality)"
   ]
  },
  {
   "cell_type": "code",
   "execution_count": 82,
   "id": "5cbab0b6",
   "metadata": {},
   "outputs": [],
   "source": [
    "# # Отбор по условию\n",
    "# display(df[(df['Age'] > 20) & (df.Wage > df.Wage.mean())])"
   ]
  },
  {
   "cell_type": "code",
   "execution_count": 83,
   "id": "b36f3dbf",
   "metadata": {},
   "outputs": [],
   "source": [
    "# # Возраст самого молодого футболиста у которого хладнокровие (Composure) \n",
    "# # и реакция (Reactions) превышают 90% от максимального значения\n",
    "# composure_90percent = df.Composure.max() * 90 / 100\n",
    "# reactions_90percent = df.Reactions.max() * 90 / 100\n",
    "# display(df[(df.Composure > composure_90percent) & (df.Reactions > reactions_90percent)].Age.min())"
   ]
  },
  {
   "cell_type": "code",
   "execution_count": 85,
   "id": "7b9b8e75",
   "metadata": {},
   "outputs": [],
   "source": [
    "# # На сколько средняя реакция (Reactions) самых взрослых игроков \n",
    "# # (т.е. игроков, чей возраст (Age) равен максимальному) \n",
    "# # больше средней реакции самых молодых игроков. Ответ округлите до сотых.\n",
    "# mean_reactions_old = df[df.Age == df.Age.max()].Reactions.mean()\n",
    "# mean_reactions_young = df[df.Age == df.Age.min()].Reactions.mean()\n",
    "\n",
    "# result = mean_reactions_old - mean_reactions_young\n",
    "# print(round(result, 2))"
   ]
  },
  {
   "cell_type": "code",
   "execution_count": 135,
   "id": "59895a9c",
   "metadata": {},
   "outputs": [
    {
     "data": {
      "text/plain": [
       "'Spain'"
      ]
     },
     "execution_count": 135,
     "metadata": {},
     "output_type": "execute_result"
    }
   ],
   "source": [
    "# Из какой страны (Nationality) происходит больше всего игроков, \n",
    "# чья стоимость (Value) превышает среднее значение?\n",
    "display(df[df.Value > df.Value.mean()].Nationality.describe().top)"
   ]
  }
 ],
 "metadata": {
  "kernelspec": {
   "display_name": "Python 3",
   "language": "python",
   "name": "python3"
  },
  "language_info": {
   "codemirror_mode": {
    "name": "ipython",
    "version": 3
   },
   "file_extension": ".py",
   "mimetype": "text/x-python",
   "name": "python",
   "nbconvert_exporter": "python",
   "pygments_lexer": "ipython3",
   "version": "3.8.8"
  }
 },
 "nbformat": 4,
 "nbformat_minor": 5
}
