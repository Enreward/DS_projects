{
 "cells": [
  {
   "cell_type": "code",
   "execution_count": 10,
   "id": "fcbe9314",
   "metadata": {},
   "outputs": [],
   "source": [
    "# # Остаток\n",
    "# r = 13%-3   # результат -2, а должно быть 1\n",
    "# # Неполное частное\n",
    "# q = 13//-3  # результат -5, а должно быть -4\n",
    "# # Применяем формулу <неполное частное> * <делитель> + <остаток> = <делимое>\n",
    "# if (q * -3 + r) == 13:\n",
    "#     print(\"Магия математики в Python\")"
   ]
  },
  {
   "cell_type": "code",
   "execution_count": 177,
   "id": "a64af779",
   "metadata": {},
   "outputs": [],
   "source": [
    "import pandas as pd\n",
    "\n",
    "df = pd.read_csv('data_sf.csv')\n",
    "# display(df)\n",
    "\n",
    "small_df = df[df.columns[1:8]].head(25)\n",
    "# display(small_df)"
   ]
  },
  {
   "cell_type": "code",
   "execution_count": 88,
   "id": "58d627e2",
   "metadata": {},
   "outputs": [],
   "source": [
    "# # Количество наблюдений по каждой позиции Nationality\n",
    "# nationality_counts = small_df[\"Nationality\"].value_counts()\n",
    "# display(nationality_counts)"
   ]
  },
  {
   "cell_type": "code",
   "execution_count": 35,
   "id": "6ca4a8be",
   "metadata": {},
   "outputs": [],
   "source": [
    "# # Сколько футбольных клубов (Club) представлено в датасете?\n",
    "# club_counts = df[\"Club\"].value_counts()\n",
    "# display(len(club_counts))"
   ]
  },
  {
   "cell_type": "code",
   "execution_count": 36,
   "id": "86af73cd",
   "metadata": {},
   "outputs": [],
   "source": [
    "# # Названия футбольных клубов, представленных в датасете наибольшим количеством игроков.\n",
    "# club_counts = df[\"Club\"].value_counts()\n",
    "# display(club_counts.loc[club_counts == club_counts.max()])"
   ]
  },
  {
   "cell_type": "code",
   "execution_count": 37,
   "id": "446f81c0",
   "metadata": {},
   "outputs": [],
   "source": [
    "# # Как называется футбольный клуб, представленный наименьшим количеством игроков в датасете\n",
    "# club_counts = df[\"Club\"].value_counts()\n",
    "# display(club_counts.loc[club_counts == club_counts.min()].index[0])\n",
    "\n",
    "# # Данные о скольких игроках этого клуба имеются в датасете?\n",
    "# display(club_counts.loc[club_counts == club_counts.min()][0])"
   ]
  },
  {
   "cell_type": "code",
   "execution_count": 43,
   "id": "1a5e5a1c",
   "metadata": {},
   "outputs": [],
   "source": [
    "# # Данные об игроках каких позиций (Position) занимают более 10% датасета?\n",
    "# position_counts = df[\"Position\"].value_counts(normalize=True)\n",
    "# display(position_counts.loc[position_counts > 0.1])"
   ]
  },
  {
   "cell_type": "code",
   "execution_count": 44,
   "id": "2487fd49",
   "metadata": {},
   "outputs": [],
   "source": [
    "# # Данные об игроках каких позиций (Position) занимают менее 1% датасета?\n",
    "# position_counts = df[\"Position\"].value_counts(normalize=True)\n",
    "# display(position_counts.loc[position_counts < 0.01])"
   ]
  },
  {
   "cell_type": "code",
   "execution_count": 57,
   "id": "e7971216",
   "metadata": {},
   "outputs": [],
   "source": [
    "# # Вывод футболистов попадающий в диапазон самых высоких ЗП\n",
    "# small_df = df[df.columns[0:7]].head(25)\n",
    "\n",
    "# s = small_df['Wage'].value_counts(bins=4)\n",
    "\n",
    "# display(small_df.loc[(small_df['Wage'] > s.index[-1].left) & (small_df['Wage'] <= s.index[-1].right)])\n"
   ]
  },
  {
   "cell_type": "code",
   "execution_count": 81,
   "id": "469a65fb",
   "metadata": {},
   "outputs": [],
   "source": [
    "# # В каких пределах находятся худшие 20% показателей точности ударов ногой (FKAccuracy)?\n",
    "# s = df['FKAccuracy'].value_counts(normalize=True, bins=5)\n",
    "\n",
    "# display(s.loc[(s > 0.1) & (s <= 0.2)].index[-1])"
   ]
  },
  {
   "cell_type": "code",
   "execution_count": 86,
   "id": "47fc99e5",
   "metadata": {},
   "outputs": [],
   "source": [
    "# # Какие показатели точности ударов ногой демонстрирует большинство футболистов?\n",
    "# s = df['FKAccuracy'].value_counts(bins=5)\n",
    "\n",
    "# display(s)"
   ]
  },
  {
   "cell_type": "code",
   "execution_count": 101,
   "id": "e0ab42b3",
   "metadata": {},
   "outputs": [],
   "source": [
    "# # Список уникальных значений серии\n",
    "# small_df['Nationality'].unique()\n",
    "\n",
    "# # Способы получить количество уникальных значений серии\n",
    "# display(small_df['Nationality'].nunique())\n",
    "# display(len(small_df['Nationality'].unique()))\n",
    "# display(len(small_df['Nationality'].value_counts()))"
   ]
  },
  {
   "cell_type": "code",
   "execution_count": 108,
   "id": "f3cb94f8",
   "metadata": {},
   "outputs": [],
   "source": [
    "# # Преобразование серии value_counts в DataFrame\n",
    "# s = df['Nationality'].value_counts()\n",
    "# s_df = s.reset_index()\n",
    "# s_df.columns = ['Nationality', 'Players Count']\n",
    "# display(s_df)"
   ]
  },
  {
   "cell_type": "code",
   "execution_count": 48,
   "id": "a87f8c4d",
   "metadata": {},
   "outputs": [],
   "source": [
    "# # У какого процента испанских футболистов (Nationality = 'Spain') зарплата (Wage) \n",
    "# # находится в пределах 25% минимума от наблюдаемого уровня зарплат среди испанских игроков? \n",
    "# # Ответ дайте в виде целого числа (округлите полученный результат) без знака %.\n",
    "\n",
    "# s = df[df['Nationality'] == 'Spain']\n",
    "# s = s.Wage.value_counts(bins=4, normalize=True)\n",
    "# i = s.index.min()\n",
    "# s = round(s[i] * 100)\n",
    "# display(s, i)"
   ]
  },
  {
   "cell_type": "code",
   "execution_count": 55,
   "id": "34e0a752",
   "metadata": {},
   "outputs": [],
   "source": [
    "# # Укажите количество национальностей (Nationality), к которым относятся футболисты, \n",
    "# # выступающие за клуб (Club) \"Manchester United\".\n",
    "\n",
    "# s = df[df['Club'] == 'Manchester United']\n",
    "# s = s.Nationality.nunique()\n",
    "# display(s)"
   ]
  },
  {
   "cell_type": "code",
   "execution_count": 81,
   "id": "db7676c0",
   "metadata": {},
   "outputs": [],
   "source": [
    "# # С помощью функции unique определите двух футболистов из Бразилии (Nationality = 'Brazil'), \n",
    "# # выступающих за клуб (Club) 'Juventus'. \n",
    "# # Перечислите их имена (Name, как в датафрейме) через запятую в алфавитном порядке.\n",
    "\n",
    "# s = df[(df['Club'] == 'Juventus') & (df['Nationality'] == 'Brazil')].Name.unique()\n",
    "# display(s)"
   ]
  },
  {
   "cell_type": "code",
   "execution_count": 92,
   "id": "3ccdf6a8",
   "metadata": {},
   "outputs": [],
   "source": [
    "# # Укажите, какой из клубов (Club) насчитывает большее количество футболистов возрастом (Age) старше 35 лет.\n",
    "\n",
    "# s = df[df['Age'] > 35].Club.value_counts()\n",
    "# s = s.index[0]\n",
    "# display(s)"
   ]
  },
  {
   "cell_type": "code",
   "execution_count": 101,
   "id": "7c10de36",
   "metadata": {},
   "outputs": [],
   "source": [
    "# # С помощью функции value_counts с параметром bins разбейте всех футболистов \n",
    "# # родом из Аргентины (Nationality = 'Argentina') на 4 равные группы по возрасту. \n",
    "# # Сколько футболистов из Аргентины в возрасте от 34,75 до 41 года?\n",
    "\n",
    "# s = df[df['Nationality'] == 'Argentina'].Age.value_counts(bins=4)\n",
    "# s = s[s[s.index.left == 34.75].index[0]]\n",
    "# display(s)"
   ]
  },
  {
   "cell_type": "code",
   "execution_count": 119,
   "id": "a51f8716",
   "metadata": {},
   "outputs": [],
   "source": [
    "# # Сколько процентов футболистов из Испании (Nationality = 'Spain') имеют возраст (Age) 21 год? \n",
    "# # Введите с точностью до 2 знаков после запятой без указания знака % (например, 12.35).\n",
    "\n",
    "# s = df[df['Nationality'] == 'Spain']\n",
    "# s = s.Age.value_counts(normalize=True)\n",
    "# s = round(s[21] * 100, 2)\n",
    "# display(s)"
   ]
  },
  {
   "cell_type": "code",
   "execution_count": 15,
   "id": "b7e0ffa1",
   "metadata": {},
   "outputs": [],
   "source": [
    "# # Позиции (Position), по которым общая сумма зарплат (Wage) игроков превышает 5 млн евро в год.\n",
    "\n",
    "# g_df = df.groupby(['Position'])['Wage'].sum()\n",
    "# g_df = g_df[g_df > (5 * 10**6)]\n",
    "# display(g_df)"
   ]
  },
  {
   "cell_type": "code",
   "execution_count": 20,
   "id": "7248af6f",
   "metadata": {},
   "outputs": [],
   "source": [
    "# # Построим такую таблицу, где сгруппируем игроков по национальностям (Nationality) \n",
    "# # и посчитаем среднюю зарплату, средний возраст и среднюю силу удара.\n",
    "\n",
    "# g_df = df.groupby(['Nationality'])[['Wage','Age','ShotPower']].mean()\n",
    "\n",
    "# # Сортируем ЗП по убыванию\n",
    "# g_df = g_df.sort_values(['Wage'],ascending=False)\n",
    "# display(g_df)\n",
    "\n",
    "# # Отбор по Dominican Republic, отобразить 'Name','Club','Wage','Age','ShotPower'\n",
    "# dominican_republic = df.loc[df['Nationality'] == 'Dominican Republic'][['Name','Club','Wage','Age','ShotPower']]\n",
    "# display(dominican_republic)"
   ]
  },
  {
   "cell_type": "code",
   "execution_count": 95,
   "id": "6753b087",
   "metadata": {},
   "outputs": [],
   "source": [
    "# # Посчитайте среднюю зарплату (Wage) и цену (Value) игроков разных позиций (Position). \n",
    "# # Представители какой позиции имеют самую высокую среднюю ценность?\n",
    "# g_df = df.groupby(['Position'])[['Wage','Value']].mean()\n",
    "# g_df = g_df.sort_values(['Value'], ascending=False)\n",
    "# g_df = g_df[g_df['Value'] == g_df['Value'].max()]\n",
    "# display(list(g_df.index)[0])\n",
    "\n",
    "# # Какова средняя зарплата футболистов на данной позиции?\n",
    "# display(list(g_df['Wage'])[0])"
   ]
  },
  {
   "cell_type": "code",
   "execution_count": 157,
   "id": "bd2ad1ac",
   "metadata": {},
   "outputs": [],
   "source": [
    "# # Посчитайте среднюю (mean) и медианную (median) зарплату (Wage) футболистов из разных клубов (Club). \n",
    "# # В скольких клубах средняя и медианная зарплаты совпадают?\n",
    "# # Xтобы в процессе группировки применить к данным одновременно две агрегирующие функции, \n",
    "# # необходимо указать их как аргументы метода agg\n",
    "\n",
    "# g_df = df.groupby('Club')['Wage'].agg(['mean', 'median'])\n",
    "# g_df = g_df[g_df['mean'] == g_df['median']]\n",
    "# display(len(g_df.index))\n",
    "\n",
    "# # Каков максимальный размер средней зарплаты в этой группе клубов?\n",
    "# g_df.columns = ['mean', 'median']\n",
    "# display(g_df['mean'].max())\n",
    "\n",
    "# # Как называется клуб, где игроки получают такую зарплату?\n",
    "# g_df = g_df.sort_values(['mean'], ascending=False)\n",
    "# display(g_df.index[0])"
   ]
  },
  {
   "cell_type": "code",
   "execution_count": 169,
   "id": "5f4acc27",
   "metadata": {},
   "outputs": [],
   "source": [
    "# # С помощью функции groupby посчитайте сумму зарплат (Wage) футболистов клуба (Club) \"Chelsea\".\n",
    "\n",
    "# g_df = df.groupby('Club')['Wage'].sum()\n",
    "# g_df = g_df['Chelsea']\n",
    "# display(g_df)"
   ]
  },
  {
   "cell_type": "code",
   "execution_count": 204,
   "id": "c9f1fcb8",
   "metadata": {},
   "outputs": [],
   "source": [
    "# # Определите максимальную зарплату футболиста национальности (Nationality) \n",
    "# # Аргентина (\"Argentina\") в возрасте 20 лет.\n",
    "\n",
    "# g_df = df[(df['Nationality'] == 'Argentina') & (df['Age'] == 20)]\n",
    "# display(g_df['Wage'].max())\n",
    "\n",
    "# # Определите максимальную зарплату футболиста национальности (Nationality) \n",
    "# # Аргентина (\"Argentina\") в возрасте 30 лет.\n",
    "\n",
    "# g_df = df[(df['Nationality'] == 'Argentina') & (df['Age'] == 30)]\n",
    "# display(g_df['Wage'].max())\n",
    "\n",
    "# # Определите минимальную зарплату футболиста национальности (Nationality) \n",
    "# # Аргентина (\"Argentina\") в возрасте 30 лет.\n",
    "# g_df = df[(df['Nationality'] == 'Argentina') & (df['Age'] == 30)]\n",
    "# display(g_df['Wage'].min())"
   ]
  },
  {
   "cell_type": "code",
   "execution_count": 208,
   "id": "af5ceb5c",
   "metadata": {},
   "outputs": [],
   "source": [
    "# # Определите максимальную силу (Strength) и баланс (Balance) среди игроков клуба (Club) \"FC Barcelona\" \n",
    "# # из Аргентины (\"Argentina\"). Ответ введите через точку с запятой без пробела.\n",
    "\n",
    "# g_df = df[(df['Nationality'] == 'Argentina') & (df['Club'] == 'FC Barcelona')]\n",
    "# display(g_df['Strength'].max())\n",
    "# display(g_df['Balance'].max())"
   ]
  },
  {
   "cell_type": "code",
   "execution_count": 39,
   "id": "998efcc5",
   "metadata": {},
   "outputs": [],
   "source": [
    "# # Сводная таблица сумм ЗП (Wage) футболистов всех национальностей (Nationality) \n",
    "# # по клубам 'FC Barcelona','Real Madrid','Juventus','Manchester United'\n",
    "# pivot = df.loc[df['Club'].isin(['FC Barcelona','Real Madrid','Juventus','Manchester United'])].pivot_table(\n",
    "#     values=['Wage'],    # Обрати внимание на вывод ячейки Argentina/FC Barcelona\n",
    "#     index='Nationality',\n",
    "#     columns='Club',\n",
    "#     aggfunc='sum',\n",
    "#     margins=True,    # Собавляет строку и столбец с итоговыми значениями\n",
    "#     fill_value=0)    # Заменяет NaN на 0\n",
    "# display(pivot)\n",
    "# print('Сумма ЗП Аргентинских футболистов из клуба FC Barcelona', end=': ')\n",
    "# print(pivot.loc['Argentina']['Wage']['FC Barcelona'])"
   ]
  },
  {
   "cell_type": "code",
   "execution_count": 38,
   "id": "e4a4faaf",
   "metadata": {},
   "outputs": [],
   "source": [
    "# # Сводная таблица, показывающая максимальные зарплаты игроков на разных позициях, играющих за разные клубы\n",
    "# df2 = df.pivot_table(\n",
    "#     columns = 'Position', \n",
    "#     index = 'Club', \n",
    "#     values = 'Wage',   # Обрати внимание на вывод ячейки Manchester City/GK\n",
    "#     aggfunc = 'max', \n",
    "#     fill_value=0)\n",
    "# display(df2)\n",
    "# print('Максимальная зарплата вратаря (GK), играющего за футбольный клуб \"Manchester City\"', end=': ')\n",
    "# print(df2.loc['Manchester City']['GK'])"
   ]
  },
  {
   "cell_type": "code",
   "execution_count": 97,
   "id": "703e5c5e",
   "metadata": {},
   "outputs": [],
   "source": [
    "# # Создайте сводную таблицу, содержащую сведения о количестве игроков, \n",
    "# # занимающих разные позиции в каждом клубе. Отсутствующие значения замените нулями.\n",
    "# pivot = df.pivot_table(\n",
    "#     values='Name',\n",
    "#     index='Club',\n",
    "#     columns='Position',\n",
    "#     aggfunc='count',\n",
    "#     fill_value=0)\n",
    "# # display(pivot)\n",
    "\n",
    "# print('Каково среднее количество вратарей (GK) в клубе? Ответ округлите до трёх цифр после запятой.', end=': ')\n",
    "# print(round(pivot['GK'].mean(), 3))\n",
    " \n",
    "# print('Клубов не содержат данных о центральных полузащитниках. (CM)', end=': ')\n",
    "# # Подсказка: для выполнения этого задания желательно сохранить сводную таблицу в виде отдельного датафрейма \n",
    "# # и сгруппировать часть данных этого датафрейма с помощью value_counts().\n",
    "# zero_CM = pivot['CM'].value_counts()[0]\n",
    "# print(zero_CM)"
   ]
  },
  {
   "cell_type": "code",
   "execution_count": 114,
   "id": "25c135a2",
   "metadata": {},
   "outputs": [],
   "source": [
    "# print('Сколько получают (\"Wage\") русские футболисты (\"Russia\"), играющие за ФК \"AS Monaco\"', end=': ')\n",
    "# pivot = df.loc[(df['Nationality'] == 'Russia') & (df['Club'] == 'AS Monaco')].pivot_table(\n",
    "#     values='Wage',\n",
    "#     index='Name',\n",
    "#     columns='Club',\n",
    "#     fill_value=0)\n",
    "# print(pivot['AS Monaco'][0])"
   ]
  },
  {
   "cell_type": "code",
   "execution_count": 209,
   "id": "5bcc374e",
   "metadata": {},
   "outputs": [
    {
     "data": {
      "text/plain": [
       "Index(['LM', 'RS', 'RM'], dtype='object', name='Position')"
      ]
     },
     "metadata": {},
     "output_type": "display_data"
    },
    {
     "data": {
      "text/plain": [
       "Index(['Vitória', 'Sydney FC', 'CD Lugo'], dtype='object', name='Club')"
      ]
     },
     "metadata": {},
     "output_type": "display_data"
    }
   ],
   "source": [
    "# Создайте сводную таблицу, содержащую сведения о средней скорости футболистов (SprintSpeed), \n",
    "# занимающих разные позиции (Position) в разных футбольных клубах (Club).\n",
    "# Отметьте три позиции, представители которых в среднем обладают самой высокой скоростью.\n",
    "pivot = df.pivot_table(\n",
    "    values='SprintSpeed',\n",
    "    index='Club',\n",
    "    columns='Position',\n",
    "    aggfunc='mean',\n",
    "    fill_value=0)\n",
    "\n",
    "display(pivot.max().sort_values(ascending=False).head(3).index)\n",
    "\n",
    "# Отметьте названия трёх клубов, в которых центральные форварды (ST) обладают наибольшей средней скоростью.\n",
    "display(pivot['ST'].sort_values(ascending=False).head(3).index)"
   ]
  },
  {
   "cell_type": "code",
   "execution_count": null,
   "id": "7c37abc8",
   "metadata": {},
   "outputs": [],
   "source": []
  }
 ],
 "metadata": {
  "kernelspec": {
   "display_name": "Python 3",
   "language": "python",
   "name": "python3"
  },
  "language_info": {
   "codemirror_mode": {
    "name": "ipython",
    "version": 3
   },
   "file_extension": ".py",
   "mimetype": "text/x-python",
   "name": "python",
   "nbconvert_exporter": "python",
   "pygments_lexer": "ipython3",
   "version": "3.8.8"
  }
 },
 "nbformat": 4,
 "nbformat_minor": 5
}
