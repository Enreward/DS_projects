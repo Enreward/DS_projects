{
 "cells": [
  {
   "cell_type": "code",
   "execution_count": 10,
   "id": "fcbe9314",
   "metadata": {},
   "outputs": [],
   "source": [
    "# # Остаток\n",
    "# r = 13%-3   # результат -2, а должно быть 1\n",
    "# # Неполное частное\n",
    "# q = 13//-3  # результат -5, а должно быть -4\n",
    "# # Применяем формулу <неполное частное> * <делитель> + <остаток> = <делимое>\n",
    "# if (q * -3 + r) == 13:\n",
    "#     print(\"Магия математики в Python\")"
   ]
  },
  {
   "cell_type": "code",
   "execution_count": 9,
   "id": "a64af779",
   "metadata": {},
   "outputs": [],
   "source": [
    "import pandas as pd\n",
    "\n",
    "df = pd.read_csv('data_sf.csv')\n",
    "# display(df)\n",
    "\n",
    "small_df = df[df.columns[1:8]].head(25)\n",
    "# display(small_df)"
   ]
  },
  {
   "cell_type": "code",
   "execution_count": 88,
   "id": "58d627e2",
   "metadata": {},
   "outputs": [],
   "source": [
    "# # Количество наблюдений по каждой позиции Nationality\n",
    "# nationality_counts = small_df[\"Nationality\"].value_counts()\n",
    "# display(nationality_counts)"
   ]
  },
  {
   "cell_type": "code",
   "execution_count": 35,
   "id": "6ca4a8be",
   "metadata": {},
   "outputs": [],
   "source": [
    "# # Сколько футбольных клубов (Club) представлено в датасете?\n",
    "# club_counts = df[\"Club\"].value_counts()\n",
    "# display(len(club_counts))"
   ]
  },
  {
   "cell_type": "code",
   "execution_count": 36,
   "id": "86af73cd",
   "metadata": {},
   "outputs": [],
   "source": [
    "# # Названия футбольных клубов, представленных в датасете наибольшим количеством игроков.\n",
    "# club_counts = df[\"Club\"].value_counts()\n",
    "# display(club_counts.loc[club_counts == club_counts.max()])"
   ]
  },
  {
   "cell_type": "code",
   "execution_count": 37,
   "id": "446f81c0",
   "metadata": {},
   "outputs": [],
   "source": [
    "# # Как называется футбольный клуб, представленный наименьшим количеством игроков в датасете\n",
    "# club_counts = df[\"Club\"].value_counts()\n",
    "# display(club_counts.loc[club_counts == club_counts.min()].index[0])\n",
    "\n",
    "# # Данные о скольких игроках этого клуба имеются в датасете?\n",
    "# display(club_counts.loc[club_counts == club_counts.min()][0])"
   ]
  },
  {
   "cell_type": "code",
   "execution_count": 43,
   "id": "1a5e5a1c",
   "metadata": {},
   "outputs": [],
   "source": [
    "# # Данные об игроках каких позиций (Position) занимают более 10% датасета?\n",
    "# position_counts = df[\"Position\"].value_counts(normalize=True)\n",
    "# display(position_counts.loc[position_counts > 0.1])"
   ]
  },
  {
   "cell_type": "code",
   "execution_count": 44,
   "id": "2487fd49",
   "metadata": {},
   "outputs": [],
   "source": [
    "# # Данные об игроках каких позиций (Position) занимают менее 1% датасета?\n",
    "# position_counts = df[\"Position\"].value_counts(normalize=True)\n",
    "# display(position_counts.loc[position_counts < 0.01])"
   ]
  },
  {
   "cell_type": "code",
   "execution_count": 57,
   "id": "e7971216",
   "metadata": {},
   "outputs": [],
   "source": [
    "# # Вывод футболистов попадающий в диапазон самых высоких ЗП\n",
    "# small_df = df[df.columns[0:7]].head(25)\n",
    "\n",
    "# s = small_df['Wage'].value_counts(bins=4)\n",
    "\n",
    "# display(small_df.loc[(small_df['Wage'] > s.index[-1].left) & (small_df['Wage'] <= s.index[-1].right)])\n"
   ]
  },
  {
   "cell_type": "code",
   "execution_count": 81,
   "id": "469a65fb",
   "metadata": {},
   "outputs": [],
   "source": [
    "# # В каких пределах находятся худшие 20% показателей точности ударов ногой (FKAccuracy)?\n",
    "# s = df['FKAccuracy'].value_counts(normalize=True, bins=5)\n",
    "\n",
    "# display(s.loc[(s > 0.1) & (s <= 0.2)].index[-1])"
   ]
  },
  {
   "cell_type": "code",
   "execution_count": 86,
   "id": "47fc99e5",
   "metadata": {},
   "outputs": [],
   "source": [
    "# # Какие показатели точности ударов ногой демонстрирует большинство футболистов?\n",
    "# s = df['FKAccuracy'].value_counts(bins=5)\n",
    "\n",
    "# display(s)"
   ]
  },
  {
   "cell_type": "code",
   "execution_count": 101,
   "id": "e0ab42b3",
   "metadata": {},
   "outputs": [],
   "source": [
    "# # Список уникальных значений серии\n",
    "# small_df['Nationality'].unique()\n",
    "\n",
    "# # Способы получить количество уникальных значений серии\n",
    "# display(small_df['Nationality'].nunique())\n",
    "# display(len(small_df['Nationality'].unique()))\n",
    "# display(len(small_df['Nationality'].value_counts()))"
   ]
  },
  {
   "cell_type": "code",
   "execution_count": 108,
   "id": "f3cb94f8",
   "metadata": {},
   "outputs": [],
   "source": [
    "# # Преобразование серии value_counts в DataFrame\n",
    "# s = df['Nationality'].value_counts()\n",
    "# s_df = s.reset_index()\n",
    "# s_df.columns = ['Nationality', 'Players Count']\n",
    "# display(s_df)"
   ]
  },
  {
   "cell_type": "code",
   "execution_count": 48,
   "id": "a87f8c4d",
   "metadata": {},
   "outputs": [],
   "source": [
    "# # У какого процента испанских футболистов (Nationality = 'Spain') зарплата (Wage) \n",
    "# # находится в пределах 25% минимума от наблюдаемого уровня зарплат среди испанских игроков? \n",
    "# # Ответ дайте в виде целого числа (округлите полученный результат) без знака %.\n",
    "\n",
    "# s = df[df['Nationality'] == 'Spain']\n",
    "# s = s.Wage.value_counts(bins=4, normalize=True)\n",
    "# i = s.index.min()\n",
    "# s = round(s[i] * 100)\n",
    "# display(s, i)"
   ]
  },
  {
   "cell_type": "code",
   "execution_count": 55,
   "id": "34e0a752",
   "metadata": {},
   "outputs": [],
   "source": [
    "# # Укажите количество национальностей (Nationality), к которым относятся футболисты, \n",
    "# # выступающие за клуб (Club) \"Manchester United\".\n",
    "\n",
    "# s = df[df['Club'] == 'Manchester United']\n",
    "# s = s.Nationality.nunique()\n",
    "# display(s)"
   ]
  },
  {
   "cell_type": "code",
   "execution_count": 81,
   "id": "db7676c0",
   "metadata": {},
   "outputs": [],
   "source": [
    "# # С помощью функции unique определите двух футболистов из Бразилии (Nationality = 'Brazil'), \n",
    "# # выступающих за клуб (Club) 'Juventus'. \n",
    "# # Перечислите их имена (Name, как в датафрейме) через запятую в алфавитном порядке.\n",
    "\n",
    "# s = df[(df['Club'] == 'Juventus') & (df['Nationality'] == 'Brazil')].Name.unique()\n",
    "# display(s)"
   ]
  },
  {
   "cell_type": "code",
   "execution_count": 92,
   "id": "3ccdf6a8",
   "metadata": {},
   "outputs": [],
   "source": [
    "# # Укажите, какой из клубов (Club) насчитывает большее количество футболистов возрастом (Age) старше 35 лет.\n",
    "\n",
    "# s = df[df['Age'] > 35].Club.value_counts()\n",
    "# s = s.index[0]\n",
    "# display(s)"
   ]
  },
  {
   "cell_type": "code",
   "execution_count": 101,
   "id": "7c10de36",
   "metadata": {},
   "outputs": [],
   "source": [
    "# # С помощью функции value_counts с параметром bins разбейте всех футболистов \n",
    "# # родом из Аргентины (Nationality = 'Argentina') на 4 равные группы по возрасту. \n",
    "# # Сколько футболистов из Аргентины в возрасте от 34,75 до 41 года?\n",
    "\n",
    "# s = df[df['Nationality'] == 'Argentina'].Age.value_counts(bins=4)\n",
    "# s = s[s[s.index.left == 34.75].index[0]]\n",
    "# display(s)"
   ]
  },
  {
   "cell_type": "code",
   "execution_count": 119,
   "id": "a51f8716",
   "metadata": {},
   "outputs": [],
   "source": [
    "# # Сколько процентов футболистов из Испании (Nationality = 'Spain') имеют возраст (Age) 21 год? \n",
    "# # Введите с точностью до 2 знаков после запятой без указания знака % (например, 12.35).\n",
    "\n",
    "# s = df[df['Nationality'] == 'Spain']\n",
    "# s = s.Age.value_counts(normalize=True)\n",
    "# s = round(s[21] * 100, 2)\n",
    "# display(s)"
   ]
  },
  {
   "cell_type": "code",
   "execution_count": null,
   "id": "b7e0ffa1",
   "metadata": {},
   "outputs": [],
   "source": []
  }
 ],
 "metadata": {
  "kernelspec": {
   "display_name": "Python 3",
   "language": "python",
   "name": "python3"
  },
  "language_info": {
   "codemirror_mode": {
    "name": "ipython",
    "version": 3
   },
   "file_extension": ".py",
   "mimetype": "text/x-python",
   "name": "python",
   "nbconvert_exporter": "python",
   "pygments_lexer": "ipython3",
   "version": "3.8.8"
  }
 },
 "nbformat": 4,
 "nbformat_minor": 5
}
