{
 "cells": [
  {
   "cell_type": "code",
   "execution_count": 5,
   "id": "a411a2ff",
   "metadata": {},
   "outputs": [
    {
     "data": {
      "application/vnd.jupyter.widget-view+json": {
       "model_id": "6c333a505d824bd79f7dd99909c614a2",
       "version_major": 2,
       "version_minor": 0
      },
      "text/plain": [
       "                                             |     | [  0%]   00:00 -> (? left)"
      ]
     },
     "metadata": {},
     "output_type": "display_data"
    },
    {
     "name": "stdout",
     "output_type": "stream",
     "text": [
      "Report SWEETVIZ_REPORT.html was generated! NOTEBOOK/COLAB USERS: the web browser MAY not pop up, regardless, the report IS saved in your notebook/colab files.\n"
     ]
    }
   ],
   "source": [
    "# # Анализ с помощью SweetViz\n",
    "\n",
    "# import sweetviz as sv\n",
    "# import pandas as pd\n",
    "\n",
    "# df = pd.read_csv(\"data_sf.csv\")\n",
    "# report = sv.analyze(df)\n",
    "# report.show_html()"
   ]
  }
 ],
 "metadata": {
  "kernelspec": {
   "display_name": "Python 3",
   "language": "python",
   "name": "python3"
  },
  "language_info": {
   "codemirror_mode": {
    "name": "ipython",
    "version": 3
   },
   "file_extension": ".py",
   "mimetype": "text/x-python",
   "name": "python",
   "nbconvert_exporter": "python",
   "pygments_lexer": "ipython3",
   "version": "3.8.8"
  }
 },
 "nbformat": 4,
 "nbformat_minor": 5
}
