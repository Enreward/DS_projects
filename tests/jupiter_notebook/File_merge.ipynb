{
 "cells": [
  {
   "cell_type": "code",
   "execution_count": 10,
   "id": "b3b0883d",
   "metadata": {},
   "outputs": [],
   "source": [
    "import os\n",
    "import pandas as pd\n",
    "\n",
    "# Для получения списка файлов воспользуемся методом listdir. В качестве аргумента указываем папку 'data':\n",
    "files = os.listdir('data')"
   ]
  },
  {
   "cell_type": "code",
   "execution_count": 20,
   "id": "37073fb5",
   "metadata": {},
   "outputs": [],
   "source": [
    "# # Создайте на основе списка files новый список data, в который поместите только файлы, содержащие в названии \"txt\".\n",
    "# data = list(filter(lambda x: '.txt' in x, files))\n",
    "# print(data)"
   ]
  },
  {
   "cell_type": "code",
   "execution_count": 21,
   "id": "1311368b",
   "metadata": {},
   "outputs": [],
   "source": [
    "# # Получение всех объектов в папке data\n",
    "# for root, dirs, files in os.walk(r'C:\\Users\\user-pc13\\DS projects\\data'):\n",
    "#     print(f'root: {root}, dirs: {dirs}, files: {files}')"
   ]
  },
  {
   "cell_type": "code",
   "execution_count": 36,
   "id": "0bbf2fff",
   "metadata": {},
   "outputs": [],
   "source": [
    "# # Создадим пустой датафрейм data с нужными названиями столбцов\n",
    "# data = pd.DataFrame(columns = ['userId', 'movieId', 'rating', 'timestamp'])\n",
    "\n",
    "# # Для каждого имени файла filename будем записывать его содержимое в датафрейм temp\n",
    "# for filename in files:\n",
    "#     temp = pd.read_csv(os.path.join('data', filename), names = ['userId', 'movieId', 'rating', 'timestamp'])\n",
    "#     # И «прибавлять» содержимое очередного файла к data\n",
    "#     data = pd.concat([data, temp])\n",
    "# # Использование временного датафрейма temp аналогично тому, как мы прибавляем значение к \n",
    "# # переменной i в цикле: i = i + 1. Только вместо i у нас датафрейм data, а вместо единицы — temp.\n",
    "# display(data.count()['userId'])"
   ]
  },
  {
   "cell_type": "code",
   "execution_count": null,
   "id": "0d13c3fb",
   "metadata": {},
   "outputs": [],
   "source": []
  }
 ],
 "metadata": {
  "kernelspec": {
   "display_name": "Python 3",
   "language": "python",
   "name": "python3"
  },
  "language_info": {
   "codemirror_mode": {
    "name": "ipython",
    "version": 3
   },
   "file_extension": ".py",
   "mimetype": "text/x-python",
   "name": "python",
   "nbconvert_exporter": "python",
   "pygments_lexer": "ipython3",
   "version": "3.8.8"
  },
  "varInspector": {
   "cols": {
    "lenName": 16,
    "lenType": 16,
    "lenVar": 40
   },
   "kernels_config": {
    "python": {
     "delete_cmd_postfix": "",
     "delete_cmd_prefix": "del ",
     "library": "var_list.py",
     "varRefreshCmd": "print(var_dic_list())"
    },
    "r": {
     "delete_cmd_postfix": ") ",
     "delete_cmd_prefix": "rm(",
     "library": "var_list.r",
     "varRefreshCmd": "cat(var_dic_list()) "
    }
   },
   "types_to_exclude": [
    "module",
    "function",
    "builtin_function_or_method",
    "instance",
    "_Feature"
   ],
   "window_display": false
  }
 },
 "nbformat": 4,
 "nbformat_minor": 5
}
