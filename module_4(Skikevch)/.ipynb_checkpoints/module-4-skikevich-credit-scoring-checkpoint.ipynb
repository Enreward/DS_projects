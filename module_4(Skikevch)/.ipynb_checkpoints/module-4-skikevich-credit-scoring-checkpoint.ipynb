{
 "cells": [
  {
   "cell_type": "markdown",
   "metadata": {},
   "source": [
    "# Постановка задачи.\n",
    "Необходимо подготовить данные и обучить модель отпределять дефолтных клиентов."
   ]
  },
  {
   "cell_type": "markdown",
   "metadata": {},
   "source": [
    "# 0. Стартовая подготовка."
   ]
  },
  {
   "cell_type": "code",
   "execution_count": 1,
   "metadata": {
    "execution": {
     "iopub.execute_input": "2021-12-06T10:26:57.170211Z",
     "iopub.status.busy": "2021-12-06T10:26:57.169855Z",
     "iopub.status.idle": "2021-12-06T10:26:59.836748Z",
     "shell.execute_reply": "2021-12-06T10:26:59.835849Z",
     "shell.execute_reply.started": "2021-12-06T10:26:57.170097Z"
    }
   },
   "outputs": [],
   "source": [
    "import datetime\n",
    "import numpy as np\n",
    "import pandas as pd\n",
    "import seaborn as sns\n",
    "import pandas_profiling\n",
    "\n",
    "from sklearn.feature_selection import mutual_info_classif\n",
    "from sklearn.preprocessing import LabelEncoder\n",
    "\n",
    "from sklearn.metrics import (\n",
    "    confusion_matrix,\n",
    "    ConfusionMatrixDisplay,\n",
    "    auc,\n",
    "    roc_auc_score,\n",
    "    roc_curve,\n",
    "    f1_score,\n",
    "    accuracy_score,\n",
    "    precision_score,\n",
    "    recall_score\n",
    ")\n",
    "from sklearn.model_selection import GridSearchCV, train_test_split\n",
    "from sklearn.linear_model import LogisticRegression\n",
    "\n",
    "import matplotlib.pyplot as plt\n",
    "%matplotlib inline\n",
    "\n",
    "pd.set_option(\"max_column\", None)\n",
    "\n",
    "import warnings\n",
    "warnings.filterwarnings(\"ignore\")"
   ]
  },
  {
   "cell_type": "code",
   "execution_count": 2,
   "metadata": {
    "execution": {
     "iopub.execute_input": "2021-12-06T10:26:59.838655Z",
     "iopub.status.busy": "2021-12-06T10:26:59.838357Z",
     "iopub.status.idle": "2021-12-06T10:26:59.847607Z",
     "shell.execute_reply": "2021-12-06T10:26:59.846510Z",
     "shell.execute_reply.started": "2021-12-06T10:26:59.838621Z"
    }
   },
   "outputs": [],
   "source": [
    "import os\n",
    "for dirname, _, filenames in os.walk('/kaggle/input'):\n",
    "    for filename in filenames:\n",
    "        print(os.path.join(dirname, filename))"
   ]
  },
  {
   "cell_type": "code",
   "execution_count": 3,
   "metadata": {
    "execution": {
     "iopub.execute_input": "2021-12-06T10:26:59.849061Z",
     "iopub.status.busy": "2021-12-06T10:26:59.848590Z",
     "iopub.status.idle": "2021-12-06T10:26:59.859559Z",
     "shell.execute_reply": "2021-12-06T10:26:59.858705Z",
     "shell.execute_reply.started": "2021-12-06T10:26:59.849014Z"
    }
   },
   "outputs": [],
   "source": [
    "# всегда фиксируйте RANDOM_SEED, чтобы ваши эксперименты были воспроизводимы!\n",
    "RANDOM_SEED = 13"
   ]
  },
  {
   "cell_type": "code",
   "execution_count": 4,
   "metadata": {
    "execution": {
     "iopub.execute_input": "2021-12-06T10:26:59.862921Z",
     "iopub.status.busy": "2021-12-06T10:26:59.862284Z",
     "iopub.status.idle": "2021-12-06T10:27:04.230669Z",
     "shell.execute_reply": "2021-12-06T10:27:04.229791Z",
     "shell.execute_reply.started": "2021-12-06T10:26:59.862876Z"
    }
   },
   "outputs": [],
   "source": [
    "# зафиксируем версию пакетов, чтобы эксперименты были воспроизводимы:\n",
    "!pip freeze > requirements.txt"
   ]
  },
  {
   "cell_type": "code",
   "execution_count": 5,
   "metadata": {
    "execution": {
     "iopub.execute_input": "2021-12-06T10:27:04.233039Z",
     "iopub.status.busy": "2021-12-06T10:27:04.231969Z",
     "iopub.status.idle": "2021-12-06T10:27:04.593035Z",
     "shell.execute_reply": "2021-12-06T10:27:04.592344Z",
     "shell.execute_reply.started": "2021-12-06T10:27:04.232999Z"
    }
   },
   "outputs": [],
   "source": [
    "DATA_DIR = '/kaggle/input/sf-dst-scoring/'\n",
    "df_train = pd.read_csv(DATA_DIR+'train.csv')\n",
    "df_test = pd.read_csv(DATA_DIR+'test.csv')\n",
    "sample_submission = pd.read_csv(DATA_DIR+'/sample_submission.csv')"
   ]
  },
  {
   "cell_type": "markdown",
   "metadata": {},
   "source": [
    "# Вспомогательные функции"
   ]
  },
  {
   "cell_type": "code",
   "execution_count": 6,
   "metadata": {
    "execution": {
     "iopub.execute_input": "2021-12-06T10:27:04.597764Z",
     "iopub.status.busy": "2021-12-06T10:27:04.597336Z",
     "iopub.status.idle": "2021-12-06T10:27:04.620000Z",
     "shell.execute_reply": "2021-12-06T10:27:04.619169Z",
     "shell.execute_reply.started": "2021-12-06T10:27:04.597731Z"
    }
   },
   "outputs": [],
   "source": [
    "# Вывод метрик\n",
    "def veiw_model(model, y_test, y_pred, size=(11,9)):\n",
    "    # Вывод типа модели:\n",
    "    print()\n",
    "    print('Model Type: ' + str(model))\n",
    "    print()\n",
    "\n",
    "    # Вывод confusion matrix:\n",
    "    sns.set(rc = {'figure.figsize':size})\n",
    "    sns.set_context(context='paper', font_scale=2, rc=None)\n",
    "    group_names = ['True\\nNegative', 'False\\nPositive',\n",
    "                   'False\\nNegative', 'True\\nPositive']\n",
    "    group_counts = [f'{value}' for value in confusion_matrix(y_pred, y_test).flatten()]\n",
    "    labels = [f'{v1}\\n\\n{v2}' for v1, v2 in zip(group_names, group_counts)]\n",
    "    labels = np.asarray(labels).reshape(2, 2)\n",
    "    ax = sns.heatmap(confusion_matrix(y_pred, y_test),\n",
    "                     annot=labels, fmt='', cmap='Blues')\n",
    "    ax.set(xlabel='predicted', ylabel='real', title='Confusion Matrix')\n",
    "    plt.show()\n",
    "    print()\n",
    "\n",
    "def veiw_metrix(y_test, y_pred, y_pred_probs):\n",
    "    # Вывод значений метрик:\n",
    "    print('accuracy:', accuracy_score(y_test, y_pred))\n",
    "    print('precision_score', precision_score(y_test, y_pred))\n",
    "    print('recall_score:', recall_score(y_test, y_pred))\n",
    "    print('f1_score:', f1_score(y_test, y_pred))\n",
    "    \n",
    "    fpr, tpr, threshold = roc_curve(y_test, y_pred_probs)\n",
    "    roc_auc = roc_auc_score(y_test, y_pred_probs)\n",
    "    \n",
    "    fig, ax = plt.subplots(figsize=(13,7))\n",
    "    plt.plot([0, 1], label='Baseline', linestyle='--')\n",
    "    plt.plot(fpr, tpr, label = 'Regression')\n",
    "    ax.set_title('Logistic Regression ROC AUC = %0.3f'%roc_auc)\n",
    "    plt.ylabel('True Positive Rate')\n",
    "    plt.xlabel('False Positive Rate')\n",
    "    plt.legend(loc='lower right')\n",
    "\n",
    "# Визуализация числовых данных\n",
    "def veiw_numeric(column, size = 7, title=None):\n",
    "    if not title:\n",
    "        title = column.name\n",
    "    \n",
    "    fig, (g1, g2) = plt.subplots(1, 2, figsize = (2*size,size))\n",
    "    fig.suptitle(f'Histogram and boxplot for {title} ', fontsize=14)\n",
    "    g1.hist(column, bins = 20, histtype = 'bar', align = 'mid', rwidth = 0.8, color = 'red') # гистограмма\n",
    "    g2.boxplot(column, vert = False)  # выбросы\n",
    "    plt.figtext(0.5, 0, title, fontsize = 14, ha='center')\n",
    "    plt.legend()\n",
    "\n",
    "# Ищем выбросы\n",
    "def outliers_iqr(column):\n",
    "    quartile_1, quartile_3 = np.percentile(column, [25, 75])\n",
    "    iqr = quartile_3 - quartile_1\n",
    "    lower_bound = quartile_1 - (iqr * 1.5)\n",
    "    upper_bound = quartile_3 + (iqr * 1.5)\n",
    "    \n",
    "    new = column.loc[(column < lower_bound) | (column > upper_bound)]    \n",
    "    \n",
    "    print(f\"{len(new)} выбросов\")\n",
    "    print(f'25-й перцентиль: {quartile_1},', f'75-й перцентиль: {quartile_3},', f\"IQR: {iqr}, \", f\"Границы выбросов: [{lower_bound}, {upper_bound}].\")\n",
    "    \n",
    "    return new\n",
    "\n",
    "# гистограммы логарифмирования\n",
    "def sqrt_log_veiw(column, a=1):\n",
    "    # логарифмирование\n",
    "    log = np.log(column + a)\n",
    "    veiw_numeric(log, title=f\"логарифм {column.name}\")\n",
    "\n",
    "    # взятие квадратного корня\n",
    "    sqrt = np.sqrt(column)\n",
    "    veiw_numeric(sqrt, title=f\"квадратный корень {column.name}\")\n",
    "    \n",
    "    # логарифмирование квадратного корня\n",
    "    log_sqrt = np.log(sqrt + a)\n",
    "    veiw_numeric(log_sqrt, title=f\"логарифм квадратного корня {column.name}\")\n",
    "    \n",
    "    # взятие квадратного корня логарифма\n",
    "    sqrt_log = np.sqrt(log)\n",
    "    veiw_numeric(sqrt_log, title=f\"квадратный корень логарифма {column.name}\")\n",
    "    \n",
    "    return log, sqrt, log_sqrt, sqrt_log\n",
    "    "
   ]
  },
  {
   "cell_type": "markdown",
   "metadata": {},
   "source": [
    "# 1. Первичный осмотр данных."
   ]
  },
  {
   "cell_type": "code",
   "execution_count": 7,
   "metadata": {
    "execution": {
     "iopub.execute_input": "2021-12-06T10:27:04.621727Z",
     "iopub.status.busy": "2021-12-06T10:27:04.621044Z",
     "iopub.status.idle": "2021-12-06T10:27:04.749838Z",
     "shell.execute_reply": "2021-12-06T10:27:04.748871Z",
     "shell.execute_reply.started": "2021-12-06T10:27:04.621694Z"
    }
   },
   "outputs": [],
   "source": [
    "display(df_train.info())\n",
    "display(df_test.info())"
   ]
  },
  {
   "cell_type": "markdown",
   "metadata": {},
   "source": [
    "Признак | Описание\n",
    "--- | ---  \n",
    "client_id |\tидентификатор клиента  \n",
    "app_date | дата подачи заявки\n",
    "education |\tуровень образования  \n",
    "sex | пол заёмщика  \n",
    "age | возраст заёмщика  \n",
    "car | флаг наличия автомобиля  \n",
    "car_type | флаг автомобиля-иномарки  \n",
    "decline_app_cnt | количество отказанных прошлых заявок  \n",
    "good_work |\tфлаг наличия «хорошей» работы \n",
    "score_bki | скоринговый балл по данным из БКИ\n",
    "bki_request_cnt | количество запросов в БКИ  \n",
    "region_rating | рейтинг региона\n",
    "home_address | категоризатор домашнего адреса  \n",
    "work_address | категоризатор рабочего адреса  \n",
    "income | доход заёмщика  \n",
    "sna | связь заемщика с клиентами банка\n",
    "first_time| давность наличия информации о заемщике\n",
    "foreign_passport |\tналичие загранпаспорта  \n",
    "default | наличие дефолта  "
   ]
  },
  {
   "cell_type": "code",
   "execution_count": 8,
   "metadata": {
    "execution": {
     "iopub.execute_input": "2021-12-06T10:27:04.751527Z",
     "iopub.status.busy": "2021-12-06T10:27:04.751217Z",
     "iopub.status.idle": "2021-12-06T10:27:04.793428Z",
     "shell.execute_reply": "2021-12-06T10:27:04.792625Z",
     "shell.execute_reply.started": "2021-12-06T10:27:04.751484Z"
    }
   },
   "outputs": [],
   "source": [
    "display(df_train.head())\n",
    "display(df_test.head())\n",
    "display(sample_submission.head())"
   ]
  },
  {
   "cell_type": "markdown",
   "metadata": {},
   "source": [
    "# Объединим датасеты для обработки."
   ]
  },
  {
   "cell_type": "code",
   "execution_count": 9,
   "metadata": {
    "execution": {
     "iopub.execute_input": "2021-12-06T10:27:04.795036Z",
     "iopub.status.busy": "2021-12-06T10:27:04.794468Z",
     "iopub.status.idle": "2021-12-06T10:27:04.870047Z",
     "shell.execute_reply": "2021-12-06T10:27:04.869114Z",
     "shell.execute_reply.started": "2021-12-06T10:27:04.795006Z"
    }
   },
   "outputs": [],
   "source": [
    "df_train[\"sample\"] = 0\n",
    "df_test['default'] = 0\n",
    "df_test[\"sample\"] = 1\n",
    "df = df_train.append(df_test, sort=False).reset_index(drop=True)"
   ]
  },
  {
   "cell_type": "markdown",
   "metadata": {},
   "source": [
    "# Осмотрим пропуски."
   ]
  },
  {
   "cell_type": "code",
   "execution_count": 10,
   "metadata": {
    "execution": {
     "iopub.execute_input": "2021-12-06T10:27:04.874928Z",
     "iopub.status.busy": "2021-12-06T10:27:04.874005Z",
     "iopub.status.idle": "2021-12-06T10:27:04.961804Z",
     "shell.execute_reply": "2021-12-06T10:27:04.960878Z",
     "shell.execute_reply.started": "2021-12-06T10:27:04.874887Z"
    }
   },
   "outputs": [],
   "source": [
    "df.isnull().sum()"
   ]
  },
  {
   "cell_type": "code",
   "execution_count": 11,
   "metadata": {
    "execution": {
     "iopub.execute_input": "2021-12-06T10:27:04.963564Z",
     "iopub.status.busy": "2021-12-06T10:27:04.963173Z",
     "iopub.status.idle": "2021-12-06T10:27:08.099464Z",
     "shell.execute_reply": "2021-12-06T10:27:08.098513Z",
     "shell.execute_reply.started": "2021-12-06T10:27:04.963521Z"
    }
   },
   "outputs": [],
   "source": [
    "fig, ax = plt.subplots(figsize=(17,13))\n",
    "sns_heatmap = sns.heatmap(df.isnull(), yticklabels=False, cbar=False)"
   ]
  },
  {
   "cell_type": "markdown",
   "metadata": {},
   "source": [
    "Только один признак содержит пропуски - education."
   ]
  },
  {
   "cell_type": "markdown",
   "metadata": {},
   "source": [
    "# 2. Подготовим данные для обучения наивной модели."
   ]
  },
  {
   "cell_type": "markdown",
   "metadata": {},
   "source": [
    "## Посмотрим как пропуски относятся к общему числу строк в датасете."
   ]
  },
  {
   "cell_type": "code",
   "execution_count": 12,
   "metadata": {
    "execution": {
     "iopub.execute_input": "2021-12-06T10:27:08.101436Z",
     "iopub.status.busy": "2021-12-06T10:27:08.100840Z",
     "iopub.status.idle": "2021-12-06T10:27:08.205936Z",
     "shell.execute_reply": "2021-12-06T10:27:08.204783Z",
     "shell.execute_reply.started": "2021-12-06T10:27:08.101382Z"
    }
   },
   "outputs": [],
   "source": [
    "count=0\n",
    "for i in df.isnull().sum(axis=1):\n",
    "    if i>0:\n",
    "        count=count+1\n",
    "print('Общее количество строк: ', df.shape[0])\n",
    "print('Общее количество строк с пропущенными значениями: ', count)\n",
    "print(f\"{(count/df.shape[0])*100}% пропущенных значений.\")"
   ]
  },
  {
   "cell_type": "markdown",
   "metadata": {},
   "source": [
    "Как видно из данных - пропусков крайне мало - меньше 1%."
   ]
  },
  {
   "cell_type": "markdown",
   "metadata": {},
   "source": [
    "## Посмотрим на признак с пропусками поближе."
   ]
  },
  {
   "cell_type": "code",
   "execution_count": 13,
   "metadata": {
    "execution": {
     "iopub.execute_input": "2021-12-06T10:27:08.207494Z",
     "iopub.status.busy": "2021-12-06T10:27:08.207112Z",
     "iopub.status.idle": "2021-12-06T10:27:08.432072Z",
     "shell.execute_reply": "2021-12-06T10:27:08.431144Z",
     "shell.execute_reply.started": "2021-12-06T10:27:08.207463Z"
    }
   },
   "outputs": [],
   "source": [
    "display(df['education'].value_counts().plot.barh())"
   ]
  },
  {
   "cell_type": "markdown",
   "metadata": {},
   "source": [
    "## Заполним данные самым частым значением"
   ]
  },
  {
   "cell_type": "code",
   "execution_count": 14,
   "metadata": {
    "execution": {
     "iopub.execute_input": "2021-12-06T10:27:08.433567Z",
     "iopub.status.busy": "2021-12-06T10:27:08.433357Z",
     "iopub.status.idle": "2021-12-06T10:27:08.470071Z",
     "shell.execute_reply": "2021-12-06T10:27:08.469030Z",
     "shell.execute_reply.started": "2021-12-06T10:27:08.433541Z"
    }
   },
   "outputs": [],
   "source": [
    "df['education'] = df['education'].fillna(df['education'].mode()[0])"
   ]
  },
  {
   "cell_type": "markdown",
   "metadata": {},
   "source": [
    "## Удалим признаки, которые не несут смысла и не возможно быстро привести к численному виду."
   ]
  },
  {
   "cell_type": "code",
   "execution_count": 15,
   "metadata": {
    "execution": {
     "iopub.execute_input": "2021-12-06T10:27:08.472580Z",
     "iopub.status.busy": "2021-12-06T10:27:08.471984Z",
     "iopub.status.idle": "2021-12-06T10:27:08.488510Z",
     "shell.execute_reply": "2021-12-06T10:27:08.487887Z",
     "shell.execute_reply.started": "2021-12-06T10:27:08.472534Z"
    }
   },
   "outputs": [],
   "source": [
    "df = df.drop(['client_id', 'app_date'], axis=1)"
   ]
  },
  {
   "cell_type": "markdown",
   "metadata": {},
   "source": [
    "## Преобразуем бинарные признаки к виду 0/1."
   ]
  },
  {
   "cell_type": "code",
   "execution_count": 16,
   "metadata": {
    "execution": {
     "iopub.execute_input": "2021-12-06T10:27:08.490801Z",
     "iopub.status.busy": "2021-12-06T10:27:08.489925Z",
     "iopub.status.idle": "2021-12-06T10:27:08.526132Z",
     "shell.execute_reply": "2021-12-06T10:27:08.525181Z",
     "shell.execute_reply.started": "2021-12-06T10:27:08.490760Z"
    }
   },
   "outputs": [],
   "source": [
    "# выделим бинарные принзнаки\n",
    "bin_features = [\"car\", \"car_type\", \"foreign_passport\"]\n",
    "# посмотрим какие значения принимают признаки\n",
    "for feature in bin_features:\n",
    "    print(f\"Уникальные значения {feature}: {df[feature].unique()}\")"
   ]
  },
  {
   "cell_type": "markdown",
   "metadata": {},
   "source": [
    "## Выделенные признаки не содержат \"лишних\" значений."
   ]
  },
  {
   "cell_type": "code",
   "execution_count": 17,
   "metadata": {
    "execution": {
     "iopub.execute_input": "2021-12-06T10:27:08.527534Z",
     "iopub.status.busy": "2021-12-06T10:27:08.527294Z",
     "iopub.status.idle": "2021-12-06T10:27:08.648742Z",
     "shell.execute_reply": "2021-12-06T10:27:08.647930Z",
     "shell.execute_reply.started": "2021-12-06T10:27:08.527505Z"
    }
   },
   "outputs": [],
   "source": [
    "# Преобразуем выделенные признаки\n",
    "Le = LabelEncoder()\n",
    "\n",
    "for feature in bin_features:\n",
    "    Le.fit(df[feature]) \n",
    "    df[feature] = Le.transform(df[feature])"
   ]
  },
  {
   "cell_type": "markdown",
   "metadata": {},
   "source": [
    "# Преобразуем оставшиеся object признаки в dummy переменные."
   ]
  },
  {
   "cell_type": "code",
   "execution_count": 18,
   "metadata": {
    "execution": {
     "iopub.execute_input": "2021-12-06T10:27:08.650299Z",
     "iopub.status.busy": "2021-12-06T10:27:08.650065Z",
     "iopub.status.idle": "2021-12-06T10:27:08.704380Z",
     "shell.execute_reply": "2021-12-06T10:27:08.703379Z",
     "shell.execute_reply.started": "2021-12-06T10:27:08.650273Z"
    }
   },
   "outputs": [],
   "source": [
    "# выделим object признаки\n",
    "object_features = df.select_dtypes(include=[\"object\"]).columns\n",
    "print(object_features)\n",
    "df = pd.get_dummies(df, columns=object_features)"
   ]
  },
  {
   "cell_type": "markdown",
   "metadata": {},
   "source": [
    "# 3. Обучим наивную модель."
   ]
  },
  {
   "cell_type": "code",
   "execution_count": 19,
   "metadata": {
    "execution": {
     "iopub.execute_input": "2021-12-06T10:27:08.705970Z",
     "iopub.status.busy": "2021-12-06T10:27:08.705575Z",
     "iopub.status.idle": "2021-12-06T10:27:08.745137Z",
     "shell.execute_reply": "2021-12-06T10:27:08.744459Z",
     "shell.execute_reply.started": "2021-12-06T10:27:08.705898Z"
    }
   },
   "outputs": [],
   "source": [
    "# отделить test от train по sample\n",
    "df_train = df.loc[df[\"sample\"] == 0]\n",
    "# разделим данные\n",
    "X = df_train.drop(['default', 'sample'], axis = 1)\n",
    "y = df_train['default'] \n",
    "X_train, X_test, y_train, y_test = train_test_split(X, y, test_size=0.25, random_state=RANDOM_SEED)\n",
    "\n",
    "print('X_train:', X_train.shape)\n",
    "print('X_test:', X_test.shape)\n",
    "print('y_train:', y_train.shape)\n",
    "print('y_test:', y_test.shape)\n"
   ]
  },
  {
   "cell_type": "code",
   "execution_count": 20,
   "metadata": {
    "execution": {
     "iopub.execute_input": "2021-12-06T10:27:08.746673Z",
     "iopub.status.busy": "2021-12-06T10:27:08.746303Z",
     "iopub.status.idle": "2021-12-06T10:27:09.733692Z",
     "shell.execute_reply": "2021-12-06T10:27:09.732841Z",
     "shell.execute_reply.started": "2021-12-06T10:27:08.746635Z"
    }
   },
   "outputs": [],
   "source": [
    "naive_model = LogisticRegression(random_state=RANDOM_SEED, max_iter=1000)\n",
    "naive_model.fit(X_train, y_train)\n",
    "y_pred = naive_model.predict(X_test)\n",
    "y_pred_probs = naive_model.predict_proba(X_test)[:,1]\n",
    "\n",
    "veiw_model(naive_model, y_test, y_pred)\n",
    "veiw_metrix(y_test, y_pred, y_pred_probs)"
   ]
  },
  {
   "cell_type": "markdown",
   "metadata": {},
   "source": [
    "# 3.1. Вывод.\n",
    "Очевидно, модель очень плохого качества. Объективно - хорошая отправная точка."
   ]
  },
  {
   "cell_type": "markdown",
   "metadata": {},
   "source": [
    "# 4. Подробная визуализация\n",
    "## 4.1. Проведём разведывательный анализ данных."
   ]
  },
  {
   "cell_type": "code",
   "execution_count": 21,
   "metadata": {
    "execution": {
     "iopub.execute_input": "2021-12-06T10:27:09.735786Z",
     "iopub.status.busy": "2021-12-06T10:27:09.734953Z",
     "iopub.status.idle": "2021-12-06T10:27:09.942614Z",
     "shell.execute_reply": "2021-12-06T10:27:09.941604Z",
     "shell.execute_reply.started": "2021-12-06T10:27:09.735737Z"
    }
   },
   "outputs": [],
   "source": [
    "# снова загрузим данные, для чистоты анализа\n",
    "df_train = pd.read_csv(DATA_DIR+'train.csv')\n",
    "df_test = pd.read_csv(DATA_DIR+'test.csv')"
   ]
  },
  {
   "cell_type": "code",
   "execution_count": 22,
   "metadata": {
    "execution": {
     "iopub.execute_input": "2021-12-06T10:27:09.944155Z",
     "iopub.status.busy": "2021-12-06T10:27:09.943908Z",
     "iopub.status.idle": "2021-12-06T10:27:09.993966Z",
     "shell.execute_reply": "2021-12-06T10:27:09.993020Z",
     "shell.execute_reply.started": "2021-12-06T10:27:09.944115Z"
    }
   },
   "outputs": [],
   "source": [
    "# объединим данные в единый датасет, не забыв пометить тестовые данные\n",
    "df_train[\"sample\"] = 0\n",
    "df_test['default'] = 0\n",
    "df_test[\"sample\"] = 1\n",
    "df = df_train.append(df_test, sort=False).reset_index(drop=True)"
   ]
  },
  {
   "cell_type": "code",
   "execution_count": 23,
   "metadata": {
    "execution": {
     "iopub.execute_input": "2021-12-06T10:27:09.995791Z",
     "iopub.status.busy": "2021-12-06T10:27:09.995529Z",
     "iopub.status.idle": "2021-12-06T10:27:54.093208Z",
     "shell.execute_reply": "2021-12-06T10:27:54.092542Z",
     "shell.execute_reply.started": "2021-12-06T10:27:09.995758Z"
    }
   },
   "outputs": [],
   "source": [
    "pandas_profiling.ProfileReport(df.drop(\"sample\", axis=1))"
   ]
  },
  {
   "cell_type": "markdown",
   "metadata": {},
   "source": [
    "## Выводы по данным"
   ]
  },
  {
   "cell_type": "markdown",
   "metadata": {},
   "source": [
    "client_id - идентификатор клиента. Не имеет пропусков. Все значения уникальны. Для нас это значит что результаты модели будут честными. Признак можно удалить. \n",
    "\n",
    "app_date - дата подачи заявки. Категориальный признак. Пропусков нет. Записи имеют длину 9 знаков. Это говорит о том, что каждая запись имеет одинаковый формат. Скорее всего данные были сформированы автоматически, следовательно проблем с преобразованием в datetime не должно быть. При обработке можно попробовать выделить самый популярный месяц в новый признак.\n",
    "\n",
    "education - уровень образования. Категориальный признак. Содержит пропуски, но их меньше 1%. В данной ситуации обработать пропуски будет просто. Признак имеет пять категорий.\n",
    "\n",
    "sex - пол клиента. Категориальный признак. Пропусков нет. Две категории. Видно что клиентов-женщин больше.\n",
    "\n",
    "age - возраст заемщика. Числовой признак. Пропусков нет. Выбросы отсутствуют. Данные распределены между 21 и 72 годами. Основная масса данных сосредоточена между 30 и 48 годами.\n",
    "\n",
    "car - флаг наличия автомобиля. Бинарный признак. Пропуски отсутствуют. Не имеющих автомобиль в два раза больше.\n",
    "\n",
    "car_type - флаг автомобиля-иномарки. Бинарный признак. Пропуски отсутствуют. Этот признак непрерывно связан с предыдущим - клиенты не имеющие автомобиля вообще, автоматически попадают в категорию не имеющих автомобиль-иномарку. Один из этих признаков можно будет удалить.\n",
    "\n",
    "decline_app_cnt - количество отказанных прошлых заявок. Числовой признак. Без пропусков. Важнен для обучения модели. Возможно присутствуют выбросы.\n",
    "\n",
    "good_work - флаг наличия “хорошей” работы. Бинарный признак. Пропуски отсутствуют. Не совсем понятно что означает признак в действительности - отрицательный ответ может означат как работа с низким заработком, так и полное отсутствие работы.\n",
    "\n",
    "score_bki - скоринговый балл по данным из БКИ. Числовой признак. Без пропусков. Распределение непрерывное, на первый взгляд нормальное относительно медианы. Можно предположить, что данный признак будет очень важен для модели.\n",
    "\n",
    "bki_request_cnt - количество запросов в БКИ. Числовой признак. Без пропусков. Возможно присутствуют выбросы.\n",
    "\n",
    "region_rating - рейтинг региона. Числовой признак. Без пропусков. Возможно присутствуют выбросы.\n",
    "\n",
    "home_address - категоризатор домашнего адреса. Категориальный признак. Пропусков нет. Три категории. Смысловая нагрузка признака не ясна, нужно оценить влияние на модель.\n",
    "\n",
    "work_address - категоризатор рабочего адреса. Аналогичен предыдущему признаку. \n",
    "\n",
    "income - доход заемщика. Числовой признак. Без пропусков. Очень большой разброс. Возможно присутствуют выбросы. Скорее всего признак очень важен.\n",
    "\n",
    "sna - связь заемщика с клиентами банка. Категориальный признак. Пропусков нет. Четыре категории. Что означает каждая из категорий не ясно. Нужно оценить влияние на модель.\n",
    "\n",
    "first_time - давность наличия информации о заемщике. Категориальный признак. Пропусков нет. Четыре категории.\n",
    "\n",
    "foreign_passport - наличие загранпаспорта. Бинарный признак. Пропуски отсутствуют."
   ]
  },
  {
   "cell_type": "markdown",
   "metadata": {},
   "source": [
    "## 4.2. Посмотрим корреляцию признаков."
   ]
  },
  {
   "cell_type": "code",
   "execution_count": 24,
   "metadata": {
    "execution": {
     "iopub.execute_input": "2021-12-06T10:27:54.094680Z",
     "iopub.status.busy": "2021-12-06T10:27:54.094369Z",
     "iopub.status.idle": "2021-12-06T10:27:55.462083Z",
     "shell.execute_reply": "2021-12-06T10:27:55.461287Z",
     "shell.execute_reply.started": "2021-12-06T10:27:54.094652Z"
    }
   },
   "outputs": [],
   "source": [
    "sns.set(rc = {'figure.figsize':(13,11)})\n",
    "sns.heatmap(df.drop(\"sample\", axis=1).corr(), annot = True, fmt='.2g', cmap='BuPu')"
   ]
  },
  {
   "cell_type": "markdown",
   "metadata": {},
   "source": [
    "### По данным корреляции:\n",
    "- видим что home_address и work_address сильно скоррелированы. Оставим home_address.\n",
    "- присутствует высокая обратная корреляция между тем, новый заёмщик или нет и связью с клиентами банка (признаки sna и first_time), что весьма ожидаемо.\n",
    "- наблюдается выраженная корреляция между рейтингом региона и сразу тремя признаками: домашний адрес, рабочий адрес и уровень дохода.\n",
    "- логично присутствует корреляция между количеством отказанных прошлых заявок и двумя признаками: скоринговым баллом БКИ и количеством запросов в БКИ.\n",
    "- как и ожидалось скоринговый бал БКИ имеет выраженное влияние на целевой признак.\n",
    "\n",
    "Более подробно оценим корреляцию после преобразования признаков."
   ]
  },
  {
   "cell_type": "markdown",
   "metadata": {},
   "source": [
    "### Уберём из данных признак work_address"
   ]
  },
  {
   "cell_type": "code",
   "execution_count": 25,
   "metadata": {
    "execution": {
     "iopub.execute_input": "2021-12-06T10:27:55.464311Z",
     "iopub.status.busy": "2021-12-06T10:27:55.463758Z",
     "iopub.status.idle": "2021-12-06T10:27:55.479368Z",
     "shell.execute_reply": "2021-12-06T10:27:55.478521Z",
     "shell.execute_reply.started": "2021-12-06T10:27:55.464266Z"
    }
   },
   "outputs": [],
   "source": [
    "df = df.drop(\"work_address\", axis=1)"
   ]
  },
  {
   "cell_type": "markdown",
   "metadata": {},
   "source": [
    "# Иммем 3 группы признаков:\n",
    "- бинарные - [\"sex\", \"car\", \"car_type\", \"good_work\", \"foreign_passport\"]  \n",
    "- категориальные - [\"app_date\", \"education\", \"home_address\", \"sna\", \"first_time\"]  \n",
    "- числовые - [\"age\", \"decline_app_cnt\", \"score_bki\", \"bki_request_cnt\", \"region_rating\", \"income\"]"
   ]
  },
  {
   "cell_type": "markdown",
   "metadata": {},
   "source": [
    "## 4.3. Выделим бинарные признаки в список и преобразуем в числовой вид."
   ]
  },
  {
   "cell_type": "code",
   "execution_count": 26,
   "metadata": {
    "execution": {
     "iopub.execute_input": "2021-12-06T10:27:55.481323Z",
     "iopub.status.busy": "2021-12-06T10:27:55.480585Z",
     "iopub.status.idle": "2021-12-06T10:27:55.607237Z",
     "shell.execute_reply": "2021-12-06T10:27:55.606302Z",
     "shell.execute_reply.started": "2021-12-06T10:27:55.481290Z"
    }
   },
   "outputs": [],
   "source": [
    "bins = [\"car\", \"car_type\", \"good_work\", \"foreign_passport\"]\n",
    "Le = LabelEncoder()\n",
    "for column in bins:\n",
    "    Le.fit(df[column]) \n",
    "    df[column] = Le.transform(df[column])"
   ]
  },
  {
   "cell_type": "markdown",
   "metadata": {},
   "source": [
    "## 4.4. Поработаем с числовыми признаками."
   ]
  },
  {
   "cell_type": "markdown",
   "metadata": {},
   "source": [
    "## age - возраст заемщика."
   ]
  },
  {
   "cell_type": "code",
   "execution_count": 27,
   "metadata": {
    "execution": {
     "iopub.execute_input": "2021-12-06T10:27:55.609473Z",
     "iopub.status.busy": "2021-12-06T10:27:55.608946Z",
     "iopub.status.idle": "2021-12-06T10:27:56.118731Z",
     "shell.execute_reply": "2021-12-06T10:27:56.117744Z",
     "shell.execute_reply.started": "2021-12-06T10:27:55.609425Z"
    }
   },
   "outputs": [],
   "source": [
    "veiw_numeric(df[\"age\"])"
   ]
  },
  {
   "cell_type": "markdown",
   "metadata": {},
   "source": [
    "Попробуем прологарифмировать и взять квтадратный корень:"
   ]
  },
  {
   "cell_type": "code",
   "execution_count": 28,
   "metadata": {
    "execution": {
     "iopub.execute_input": "2021-12-06T10:27:56.125342Z",
     "iopub.status.busy": "2021-12-06T10:27:56.125067Z",
     "iopub.status.idle": "2021-12-06T10:27:58.291411Z",
     "shell.execute_reply": "2021-12-06T10:27:58.290379Z",
     "shell.execute_reply.started": "2021-12-06T10:27:56.125312Z"
    }
   },
   "outputs": [],
   "source": [
    "result = sqrt_log_veiw(df['age'])"
   ]
  },
  {
   "cell_type": "markdown",
   "metadata": {},
   "source": [
    "Квадратный корень признака имеет более однородную выпуклость вверх. Возьмём квадратный корень признака."
   ]
  },
  {
   "cell_type": "code",
   "execution_count": 29,
   "metadata": {
    "execution": {
     "iopub.execute_input": "2021-12-06T10:27:58.292838Z",
     "iopub.status.busy": "2021-12-06T10:27:58.292612Z",
     "iopub.status.idle": "2021-12-06T10:27:58.300097Z",
     "shell.execute_reply": "2021-12-06T10:27:58.299228Z",
     "shell.execute_reply.started": "2021-12-06T10:27:58.292810Z"
    }
   },
   "outputs": [],
   "source": [
    "df[\"age\"] = result[1]"
   ]
  },
  {
   "cell_type": "markdown",
   "metadata": {},
   "source": [
    "## decline_app_cnt - количество отказанных прошлых заявок."
   ]
  },
  {
   "cell_type": "code",
   "execution_count": 30,
   "metadata": {
    "execution": {
     "iopub.execute_input": "2021-12-06T10:27:58.301667Z",
     "iopub.status.busy": "2021-12-06T10:27:58.301423Z",
     "iopub.status.idle": "2021-12-06T10:27:58.868264Z",
     "shell.execute_reply": "2021-12-06T10:27:58.867398Z",
     "shell.execute_reply.started": "2021-12-06T10:27:58.301628Z"
    }
   },
   "outputs": [],
   "source": [
    "veiw_numeric(df[\"decline_app_cnt\"])"
   ]
  },
  {
   "cell_type": "markdown",
   "metadata": {},
   "source": [
    "Посмотрим выбросы:"
   ]
  },
  {
   "cell_type": "code",
   "execution_count": 31,
   "metadata": {
    "execution": {
     "iopub.execute_input": "2021-12-06T10:27:58.869745Z",
     "iopub.status.busy": "2021-12-06T10:27:58.869514Z",
     "iopub.status.idle": "2021-12-06T10:27:58.878968Z",
     "shell.execute_reply": "2021-12-06T10:27:58.878152Z",
     "shell.execute_reply.started": "2021-12-06T10:27:58.869716Z"
    }
   },
   "outputs": [],
   "source": [
    "outliers = outliers_iqr((df['decline_app_cnt']))"
   ]
  },
  {
   "cell_type": "markdown",
   "metadata": {},
   "source": [
    "Метот обнаружил очень много выбросов. Заметим что за выброс метод посчитал любое значение >0."
   ]
  },
  {
   "cell_type": "markdown",
   "metadata": {},
   "source": [
    "Посмотрим распределение логарифма и квадратного корня признака:"
   ]
  },
  {
   "cell_type": "code",
   "execution_count": 32,
   "metadata": {
    "execution": {
     "iopub.execute_input": "2021-12-06T10:27:58.880395Z",
     "iopub.status.busy": "2021-12-06T10:27:58.880174Z",
     "iopub.status.idle": "2021-12-06T10:28:01.208570Z",
     "shell.execute_reply": "2021-12-06T10:28:01.207556Z",
     "shell.execute_reply.started": "2021-12-06T10:27:58.880369Z"
    }
   },
   "outputs": [],
   "source": [
    "result = sqrt_log_veiw(df['decline_app_cnt'])"
   ]
  },
  {
   "cell_type": "markdown",
   "metadata": {},
   "source": [
    "Избавиться от большого перепада не выходит. Возьмём логарифм признака чтобы уменьшить масштаб."
   ]
  },
  {
   "cell_type": "code",
   "execution_count": 33,
   "metadata": {
    "execution": {
     "iopub.execute_input": "2021-12-06T10:28:01.210718Z",
     "iopub.status.busy": "2021-12-06T10:28:01.209952Z",
     "iopub.status.idle": "2021-12-06T10:28:01.215162Z",
     "shell.execute_reply": "2021-12-06T10:28:01.214215Z",
     "shell.execute_reply.started": "2021-12-06T10:28:01.210667Z"
    }
   },
   "outputs": [],
   "source": [
    "decline_app_cnt = result[0]"
   ]
  },
  {
   "cell_type": "markdown",
   "metadata": {},
   "source": [
    "## score_bki - скоринговый балл по данным из БКИ."
   ]
  },
  {
   "cell_type": "code",
   "execution_count": 34,
   "metadata": {
    "execution": {
     "iopub.execute_input": "2021-12-06T10:28:01.216863Z",
     "iopub.status.busy": "2021-12-06T10:28:01.216557Z",
     "iopub.status.idle": "2021-12-06T10:28:01.808140Z",
     "shell.execute_reply": "2021-12-06T10:28:01.807048Z",
     "shell.execute_reply.started": "2021-12-06T10:28:01.216822Z"
    }
   },
   "outputs": [],
   "source": [
    "veiw_numeric(df[\"score_bki\"])"
   ]
  },
  {
   "cell_type": "markdown",
   "metadata": {},
   "source": [
    "Распределение нормальное. Сдвинем на медиану вправо и больше не будем ничего менять."
   ]
  },
  {
   "cell_type": "code",
   "execution_count": 35,
   "metadata": {
    "execution": {
     "iopub.execute_input": "2021-12-06T10:28:01.810199Z",
     "iopub.status.busy": "2021-12-06T10:28:01.809861Z",
     "iopub.status.idle": "2021-12-06T10:28:01.814502Z",
     "shell.execute_reply": "2021-12-06T10:28:01.813650Z",
     "shell.execute_reply.started": "2021-12-06T10:28:01.810155Z"
    }
   },
   "outputs": [],
   "source": [
    "# df[\"score_bki\"] = (df[\"score_bki\"] - df[\"score_bki\"].median())"
   ]
  },
  {
   "cell_type": "markdown",
   "metadata": {},
   "source": [
    "## bki_request_cnt - количество запросов в БКИ."
   ]
  },
  {
   "cell_type": "code",
   "execution_count": 36,
   "metadata": {
    "execution": {
     "iopub.execute_input": "2021-12-06T10:28:01.815820Z",
     "iopub.status.busy": "2021-12-06T10:28:01.815611Z",
     "iopub.status.idle": "2021-12-06T10:28:02.406864Z",
     "shell.execute_reply": "2021-12-06T10:28:02.405883Z",
     "shell.execute_reply.started": "2021-12-06T10:28:01.815794Z"
    }
   },
   "outputs": [],
   "source": [
    "veiw_numeric(df[\"bki_request_cnt\"])"
   ]
  },
  {
   "cell_type": "markdown",
   "metadata": {},
   "source": [
    "Посмотрим выбросы:"
   ]
  },
  {
   "cell_type": "code",
   "execution_count": 37,
   "metadata": {
    "execution": {
     "iopub.execute_input": "2021-12-06T10:28:02.408727Z",
     "iopub.status.busy": "2021-12-06T10:28:02.408316Z",
     "iopub.status.idle": "2021-12-06T10:28:02.419196Z",
     "shell.execute_reply": "2021-12-06T10:28:02.418390Z",
     "shell.execute_reply.started": "2021-12-06T10:28:02.408678Z"
    }
   },
   "outputs": [],
   "source": [
    "outliers = outliers_iqr((df['bki_request_cnt']))"
   ]
  },
  {
   "cell_type": "code",
   "execution_count": 38,
   "metadata": {
    "execution": {
     "iopub.execute_input": "2021-12-06T10:28:02.421344Z",
     "iopub.status.busy": "2021-12-06T10:28:02.420494Z",
     "iopub.status.idle": "2021-12-06T10:28:02.984468Z",
     "shell.execute_reply": "2021-12-06T10:28:02.983488Z",
     "shell.execute_reply.started": "2021-12-06T10:28:02.421304Z"
    }
   },
   "outputs": [],
   "source": [
    "veiw_numeric(df['bki_request_cnt'].drop(outliers.index))"
   ]
  },
  {
   "cell_type": "markdown",
   "metadata": {},
   "source": [
    "Выбросов довольно много, но распределение стало лучше.\n",
    "\n",
    "Посмотрим распределение логарифма и квадратного корня признака:"
   ]
  },
  {
   "cell_type": "code",
   "execution_count": 39,
   "metadata": {
    "execution": {
     "iopub.execute_input": "2021-12-06T10:28:02.986373Z",
     "iopub.status.busy": "2021-12-06T10:28:02.986041Z",
     "iopub.status.idle": "2021-12-06T10:28:05.205396Z",
     "shell.execute_reply": "2021-12-06T10:28:05.204577Z",
     "shell.execute_reply.started": "2021-12-06T10:28:02.986329Z"
    }
   },
   "outputs": [],
   "source": [
    "result = sqrt_log_veiw(df['bki_request_cnt'])"
   ]
  },
  {
   "cell_type": "markdown",
   "metadata": {},
   "source": [
    "Не будем терять почти 3 тысячи данных. Оставим квадратный корень признака."
   ]
  },
  {
   "cell_type": "code",
   "execution_count": 40,
   "metadata": {
    "execution": {
     "iopub.execute_input": "2021-12-06T10:28:05.206733Z",
     "iopub.status.busy": "2021-12-06T10:28:05.206530Z",
     "iopub.status.idle": "2021-12-06T10:28:05.215409Z",
     "shell.execute_reply": "2021-12-06T10:28:05.214426Z",
     "shell.execute_reply.started": "2021-12-06T10:28:05.206708Z"
    }
   },
   "outputs": [],
   "source": [
    "df[\"bki_request_cnt\"] = result[1]"
   ]
  },
  {
   "cell_type": "markdown",
   "metadata": {},
   "source": [
    "## region_rating - рейтинг региона."
   ]
  },
  {
   "cell_type": "code",
   "execution_count": 41,
   "metadata": {
    "execution": {
     "iopub.execute_input": "2021-12-06T10:28:05.217099Z",
     "iopub.status.busy": "2021-12-06T10:28:05.216789Z",
     "iopub.status.idle": "2021-12-06T10:28:05.796919Z",
     "shell.execute_reply": "2021-12-06T10:28:05.795997Z",
     "shell.execute_reply.started": "2021-12-06T10:28:05.217059Z"
    }
   },
   "outputs": [],
   "source": [
    "veiw_numeric(df[\"region_rating\"])"
   ]
  },
  {
   "cell_type": "markdown",
   "metadata": {},
   "source": [
    "Посмотрим распределение логарифма и квадратного корня признака:"
   ]
  },
  {
   "cell_type": "code",
   "execution_count": 42,
   "metadata": {
    "execution": {
     "iopub.execute_input": "2021-12-06T10:28:05.798162Z",
     "iopub.status.busy": "2021-12-06T10:28:05.797945Z",
     "iopub.status.idle": "2021-12-06T10:28:08.215616Z",
     "shell.execute_reply": "2021-12-06T10:28:08.214703Z",
     "shell.execute_reply.started": "2021-12-06T10:28:05.798135Z"
    }
   },
   "outputs": [],
   "source": [
    "result = sqrt_log_veiw(df['region_rating'])"
   ]
  },
  {
   "cell_type": "markdown",
   "metadata": {},
   "source": [
    "Распределение практически не реагирует на манипуляции с данными. Оставим признак в изначальном виде."
   ]
  },
  {
   "cell_type": "markdown",
   "metadata": {},
   "source": [
    "## income - доход заемщика."
   ]
  },
  {
   "cell_type": "code",
   "execution_count": 43,
   "metadata": {
    "execution": {
     "iopub.execute_input": "2021-12-06T10:28:08.217338Z",
     "iopub.status.busy": "2021-12-06T10:28:08.217062Z",
     "iopub.status.idle": "2021-12-06T10:28:08.732914Z",
     "shell.execute_reply": "2021-12-06T10:28:08.732215Z",
     "shell.execute_reply.started": "2021-12-06T10:28:08.217307Z"
    }
   },
   "outputs": [],
   "source": [
    "veiw_numeric(df[\"income\"])"
   ]
  },
  {
   "cell_type": "code",
   "execution_count": 44,
   "metadata": {
    "execution": {
     "iopub.execute_input": "2021-12-06T10:28:08.734286Z",
     "iopub.status.busy": "2021-12-06T10:28:08.734006Z",
     "iopub.status.idle": "2021-12-06T10:28:09.930892Z",
     "shell.execute_reply": "2021-12-06T10:28:09.929946Z",
     "shell.execute_reply.started": "2021-12-06T10:28:08.734255Z"
    }
   },
   "outputs": [],
   "source": [
    "outliers = outliers_iqr(df[\"income\"])\n",
    "veiw_numeric(df.drop(outliers.index)[\"income\"])"
   ]
  },
  {
   "cell_type": "code",
   "execution_count": 45,
   "metadata": {
    "execution": {
     "iopub.execute_input": "2021-12-06T10:28:09.932914Z",
     "iopub.status.busy": "2021-12-06T10:28:09.932601Z",
     "iopub.status.idle": "2021-12-06T10:28:12.097034Z",
     "shell.execute_reply": "2021-12-06T10:28:12.096206Z",
     "shell.execute_reply.started": "2021-12-06T10:28:09.932867Z"
    }
   },
   "outputs": [],
   "source": [
    "result = sqrt_log_veiw(df['income'])"
   ]
  },
  {
   "cell_type": "markdown",
   "metadata": {},
   "source": [
    "Выбросов очень много, а логарифмирование даёт хороший результат. Его и оставим."
   ]
  },
  {
   "cell_type": "code",
   "execution_count": 46,
   "metadata": {
    "execution": {
     "iopub.execute_input": "2021-12-06T10:28:12.098999Z",
     "iopub.status.busy": "2021-12-06T10:28:12.098541Z",
     "iopub.status.idle": "2021-12-06T10:28:12.106504Z",
     "shell.execute_reply": "2021-12-06T10:28:12.105971Z",
     "shell.execute_reply.started": "2021-12-06T10:28:12.098958Z"
    }
   },
   "outputs": [],
   "source": [
    "df[\"income\"] = result[0]"
   ]
  },
  {
   "cell_type": "markdown",
   "metadata": {},
   "source": [
    "## 4.5. Поработаем с категориальными признаками."
   ]
  },
  {
   "cell_type": "markdown",
   "metadata": {},
   "source": [
    "## app_date - дата подачи заявки. "
   ]
  },
  {
   "cell_type": "markdown",
   "metadata": {},
   "source": [
    "Приведём к datetime."
   ]
  },
  {
   "cell_type": "code",
   "execution_count": 47,
   "metadata": {
    "execution": {
     "iopub.execute_input": "2021-12-06T10:28:12.108295Z",
     "iopub.status.busy": "2021-12-06T10:28:12.107843Z",
     "iopub.status.idle": "2021-12-06T10:28:12.155660Z",
     "shell.execute_reply": "2021-12-06T10:28:12.154778Z",
     "shell.execute_reply.started": "2021-12-06T10:28:12.108256Z"
    }
   },
   "outputs": [],
   "source": [
    "df['app_date'] = pd.to_datetime(df['app_date'])"
   ]
  },
  {
   "cell_type": "markdown",
   "metadata": {},
   "source": [
    "Посмотрим общщее распределение."
   ]
  },
  {
   "cell_type": "code",
   "execution_count": 48,
   "metadata": {
    "execution": {
     "iopub.execute_input": "2021-12-06T10:28:12.157016Z",
     "iopub.status.busy": "2021-12-06T10:28:12.156802Z",
     "iopub.status.idle": "2021-12-06T10:28:17.765014Z",
     "shell.execute_reply": "2021-12-06T10:28:17.764025Z",
     "shell.execute_reply.started": "2021-12-06T10:28:12.156990Z"
    }
   },
   "outputs": [],
   "source": [
    "df[\"app_date\"].value_counts().plot(kind='bar', figsize=(17,13), fontsize=9)"
   ]
  },
  {
   "cell_type": "markdown",
   "metadata": {},
   "source": [
    "Посмотрим распределение по месяцам."
   ]
  },
  {
   "cell_type": "code",
   "execution_count": 49,
   "metadata": {
    "execution": {
     "iopub.execute_input": "2021-12-06T10:28:17.766376Z",
     "iopub.status.busy": "2021-12-06T10:28:17.766163Z",
     "iopub.status.idle": "2021-12-06T10:28:18.779204Z",
     "shell.execute_reply": "2021-12-06T10:28:18.778142Z",
     "shell.execute_reply.started": "2021-12-06T10:28:17.766350Z"
    }
   },
   "outputs": [],
   "source": [
    "month = df['app_date'].apply(lambda x: x.month)\n",
    "month.value_counts().plot(kind='bar')"
   ]
  },
  {
   "cell_type": "markdown",
   "metadata": {},
   "source": [
    "Имеем распределение по 4 месяцам. Можно выделить месяцы в новый признак month, а так же выделить дамми-переменные."
   ]
  },
  {
   "cell_type": "markdown",
   "metadata": {},
   "source": [
    "Посмотрим на распределение по дням недели."
   ]
  },
  {
   "cell_type": "code",
   "execution_count": 50,
   "metadata": {
    "execution": {
     "iopub.execute_input": "2021-12-06T10:28:18.780953Z",
     "iopub.status.busy": "2021-12-06T10:28:18.780634Z",
     "iopub.status.idle": "2021-12-06T10:28:19.848813Z",
     "shell.execute_reply": "2021-12-06T10:28:19.848175Z",
     "shell.execute_reply.started": "2021-12-06T10:28:18.780913Z"
    }
   },
   "outputs": [],
   "source": [
    "weekday = df['app_date'].apply(lambda x: x.weekday())\n",
    "weekday.value_counts().plot(kind='bar')"
   ]
  },
  {
   "cell_type": "markdown",
   "metadata": {},
   "source": [
    "Распределение по дням недели выделим в новый признак weekday."
   ]
  },
  {
   "cell_type": "markdown",
   "metadata": {},
   "source": [
    "# education\n",
    "Образование клиента.  \n",
    "Посмотрим какие значения принимает признак.  "
   ]
  },
  {
   "cell_type": "code",
   "execution_count": 51,
   "metadata": {
    "execution": {
     "iopub.execute_input": "2021-12-06T10:28:19.850478Z",
     "iopub.status.busy": "2021-12-06T10:28:19.849753Z",
     "iopub.status.idle": "2021-12-06T10:28:20.127355Z",
     "shell.execute_reply": "2021-12-06T10:28:20.126455Z",
     "shell.execute_reply.started": "2021-12-06T10:28:19.850443Z"
    }
   },
   "outputs": [],
   "source": [
    "print(df['education'].unique())\n",
    "df['education'].value_counts().plot(kind='bar')"
   ]
  },
  {
   "cell_type": "markdown",
   "metadata": {},
   "source": [
    "Количество пропусков, как было выяснено ранее, не велико. Заполним их самым частым значением."
   ]
  },
  {
   "cell_type": "code",
   "execution_count": 52,
   "metadata": {
    "execution": {
     "iopub.execute_input": "2021-12-06T10:28:20.129053Z",
     "iopub.status.busy": "2021-12-06T10:28:20.128826Z",
     "iopub.status.idle": "2021-12-06T10:28:20.422950Z",
     "shell.execute_reply": "2021-12-06T10:28:20.421911Z",
     "shell.execute_reply.started": "2021-12-06T10:28:20.129025Z"
    }
   },
   "outputs": [],
   "source": [
    "# заполняем самым частым значением\n",
    "df['education'] = df['education'].fillna(df['education'].mode()[0])\n",
    "df['education'].value_counts().plot(kind='bar')"
   ]
  },
  {
   "cell_type": "code",
   "execution_count": 53,
   "metadata": {
    "execution": {
     "iopub.execute_input": "2021-12-06T10:28:20.424555Z",
     "iopub.status.busy": "2021-12-06T10:28:20.424320Z",
     "iopub.status.idle": "2021-12-06T10:28:20.470749Z",
     "shell.execute_reply": "2021-12-06T10:28:20.469783Z",
     "shell.execute_reply.started": "2021-12-06T10:28:20.424527Z"
    }
   },
   "outputs": [],
   "source": [
    "# Le = LabelEncoder()\n",
    "Le.fit(df['education']) \n",
    "df['education'] = Le.transform(df['education'])"
   ]
  },
  {
   "cell_type": "markdown",
   "metadata": {},
   "source": [
    "# 5. Сгенерируем новые признаки."
   ]
  },
  {
   "cell_type": "code",
   "execution_count": 54,
   "metadata": {
    "execution": {
     "iopub.execute_input": "2021-12-06T10:28:20.473186Z",
     "iopub.status.busy": "2021-12-06T10:28:20.472377Z",
     "iopub.status.idle": "2021-12-06T10:28:20.498710Z",
     "shell.execute_reply": "2021-12-06T10:28:20.497885Z",
     "shell.execute_reply.started": "2021-12-06T10:28:20.473151Z"
    }
   },
   "outputs": [],
   "source": [
    "# Добавим новые признаки weekday и month, и удалим app_date\n",
    "df['month'] = month\n",
    "df['weekday'] = weekday\n",
    "df = df.drop('app_date', axis=1)"
   ]
  },
  {
   "cell_type": "code",
   "execution_count": 55,
   "metadata": {
    "execution": {
     "iopub.execute_input": "2021-12-06T10:28:20.500778Z",
     "iopub.status.busy": "2021-12-06T10:28:20.500282Z",
     "iopub.status.idle": "2021-12-06T10:28:20.581661Z",
     "shell.execute_reply": "2021-12-06T10:28:20.580498Z",
     "shell.execute_reply.started": "2021-12-06T10:28:20.500744Z"
    }
   },
   "outputs": [],
   "source": [
    "# Выделим бинарный признак, где 0 - нет отказов, >0 - есть отказы на этапе проектирования признаков.\n",
    "df['decline'] = df['decline_app_cnt'].apply(lambda x: 0 if x == 0 else 1)\n",
    "# запишем в df['decline_app_cnt'] ранее полученные результаты обработки\n",
    "df['decline_app_cnt'] = decline_app_cnt"
   ]
  },
  {
   "cell_type": "code",
   "execution_count": 56,
   "metadata": {
    "execution": {
     "iopub.execute_input": "2021-12-06T10:28:20.583608Z",
     "iopub.status.busy": "2021-12-06T10:28:20.583179Z",
     "iopub.status.idle": "2021-12-06T10:28:20.619983Z",
     "shell.execute_reply": "2021-12-06T10:28:20.619231Z",
     "shell.execute_reply.started": "2021-12-06T10:28:20.583560Z"
    }
   },
   "outputs": [],
   "source": [
    "# sex получим дамми-переменные и удалим прзнак\n",
    "df = pd.get_dummies(df, columns=['sex'])"
   ]
  },
  {
   "cell_type": "code",
   "execution_count": 57,
   "metadata": {
    "execution": {
     "iopub.execute_input": "2021-12-06T10:28:20.621553Z",
     "iopub.status.busy": "2021-12-06T10:28:20.621044Z",
     "iopub.status.idle": "2021-12-06T10:28:20.641468Z",
     "shell.execute_reply": "2021-12-06T10:28:20.640470Z",
     "shell.execute_reply.started": "2021-12-06T10:28:20.621518Z"
    }
   },
   "outputs": [],
   "source": [
    "default = df[\"default\"].copy()\n",
    "df = df.drop(\"default\", axis=1)\n",
    "df.insert(0, \"default\", default)"
   ]
  },
  {
   "cell_type": "markdown",
   "metadata": {},
   "source": [
    "## Повторно посмотрим корреляцию."
   ]
  },
  {
   "cell_type": "code",
   "execution_count": 58,
   "metadata": {
    "execution": {
     "iopub.execute_input": "2021-12-06T10:28:20.643373Z",
     "iopub.status.busy": "2021-12-06T10:28:20.643040Z",
     "iopub.status.idle": "2021-12-06T10:28:23.186002Z",
     "shell.execute_reply": "2021-12-06T10:28:23.185176Z",
     "shell.execute_reply.started": "2021-12-06T10:28:20.643330Z"
    }
   },
   "outputs": [],
   "source": [
    "sns.set(rc = {'figure.figsize':(19,11)})\n",
    "sns.heatmap(df.drop([\"sample\", \"client_id\"], axis=1).corr(), annot = True, fmt='.1g', linewidths = 1, cmap='coolwarm')"
   ]
  },
  {
   "cell_type": "markdown",
   "metadata": {},
   "source": [
    "Удалим признак car_type из-за высокой корреляции с признаком car и отсутствием сильного влияния на дефолт заёмщика."
   ]
  },
  {
   "cell_type": "code",
   "execution_count": 59,
   "metadata": {
    "execution": {
     "iopub.execute_input": "2021-12-06T10:28:23.188070Z",
     "iopub.status.busy": "2021-12-06T10:28:23.187343Z",
     "iopub.status.idle": "2021-12-06T10:28:23.198524Z",
     "shell.execute_reply": "2021-12-06T10:28:23.197548Z",
     "shell.execute_reply.started": "2021-12-06T10:28:23.188024Z"
    }
   },
   "outputs": [],
   "source": [
    "df = df.drop('car_type', axis=1)"
   ]
  },
  {
   "cell_type": "markdown",
   "metadata": {},
   "source": [
    "Созданный признак decline не несёт новой информации, следовательно можно не включать его в итоговый набор."
   ]
  },
  {
   "cell_type": "code",
   "execution_count": 60,
   "metadata": {
    "execution": {
     "iopub.execute_input": "2021-12-06T10:28:23.199977Z",
     "iopub.status.busy": "2021-12-06T10:28:23.199746Z",
     "iopub.status.idle": "2021-12-06T10:28:23.210854Z",
     "shell.execute_reply": "2021-12-06T10:28:23.210114Z",
     "shell.execute_reply.started": "2021-12-06T10:28:23.199949Z"
    }
   },
   "outputs": [],
   "source": [
    "df = df.drop('decline', axis=1)"
   ]
  },
  {
   "cell_type": "markdown",
   "metadata": {},
   "source": [
    "Удалим признак sna из-за высокой корреляции с принаком first_time и более существенным влиянием на дефолт."
   ]
  },
  {
   "cell_type": "code",
   "execution_count": 61,
   "metadata": {
    "execution": {
     "iopub.execute_input": "2021-12-06T10:28:23.213074Z",
     "iopub.status.busy": "2021-12-06T10:28:23.212218Z",
     "iopub.status.idle": "2021-12-06T10:28:23.226514Z",
     "shell.execute_reply": "2021-12-06T10:28:23.225378Z",
     "shell.execute_reply.started": "2021-12-06T10:28:23.213029Z"
    }
   },
   "outputs": [],
   "source": [
    "df = df.drop('sna', axis=1)"
   ]
  },
  {
   "cell_type": "markdown",
   "metadata": {},
   "source": [
    "# 6. Обучение модели."
   ]
  },
  {
   "cell_type": "code",
   "execution_count": 62,
   "metadata": {
    "execution": {
     "iopub.execute_input": "2021-12-06T10:28:23.228549Z",
     "iopub.status.busy": "2021-12-06T10:28:23.227810Z",
     "iopub.status.idle": "2021-12-06T10:28:23.246930Z",
     "shell.execute_reply": "2021-12-06T10:28:23.246172Z",
     "shell.execute_reply.started": "2021-12-06T10:28:23.228512Z"
    }
   },
   "outputs": [],
   "source": [
    "df_train = df.loc[df[\"sample\"] == 0].drop(\"sample\", axis=1)"
   ]
  },
  {
   "cell_type": "markdown",
   "metadata": {},
   "source": [
    "## Модель 1."
   ]
  },
  {
   "cell_type": "code",
   "execution_count": 63,
   "metadata": {
    "execution": {
     "iopub.execute_input": "2021-12-06T10:28:23.249352Z",
     "iopub.status.busy": "2021-12-06T10:28:23.248274Z",
     "iopub.status.idle": "2021-12-06T10:28:25.929387Z",
     "shell.execute_reply": "2021-12-06T10:28:25.928500Z",
     "shell.execute_reply.started": "2021-12-06T10:28:23.249304Z"
    }
   },
   "outputs": [],
   "source": [
    "X = df_train.drop(['client_id', 'default'], axis = 1)\n",
    "y = df_train['default'] \n",
    "X_train, X_test, y_train, y_test = train_test_split(X, y, test_size=0.25, random_state=RANDOM_SEED)\n",
    "\n",
    "model_1 = LogisticRegression(random_state=RANDOM_SEED, max_iter=5000)\n",
    "model_1.fit(X_train, y_train)\n",
    "y_pred = model_1.predict(X_test)\n",
    "y_pred_probs = model_1.predict_proba(X_test)[:,1]\n",
    "\n",
    "veiw_model(model_1, y_test, y_pred)\n",
    "veiw_metrix(y_test, y_pred, y_pred_probs)"
   ]
  },
  {
   "cell_type": "markdown",
   "metadata": {},
   "source": [
    "Не смотря на высокий roc_aur модель всё ещё весьма не качественная.  \n",
    "Попробуем преобразовать категориальные признаки в dummy-переменные."
   ]
  },
  {
   "cell_type": "code",
   "execution_count": 64,
   "metadata": {
    "execution": {
     "iopub.execute_input": "2021-12-06T10:28:25.930879Z",
     "iopub.status.busy": "2021-12-06T10:28:25.930642Z",
     "iopub.status.idle": "2021-12-06T10:28:25.964359Z",
     "shell.execute_reply": "2021-12-06T10:28:25.963500Z",
     "shell.execute_reply.started": "2021-12-06T10:28:25.930849Z"
    }
   },
   "outputs": [],
   "source": [
    "new_df = df.copy()\n",
    "categorical = [\"education\", \"home_address\", \"first_time\", \"month\", \"weekday\"]\n",
    "new_df = pd.get_dummies(new_df, columns=categorical)"
   ]
  },
  {
   "cell_type": "code",
   "execution_count": 65,
   "metadata": {
    "execution": {
     "iopub.execute_input": "2021-12-06T10:28:25.966061Z",
     "iopub.status.busy": "2021-12-06T10:28:25.965815Z",
     "iopub.status.idle": "2021-12-06T10:28:25.986856Z",
     "shell.execute_reply": "2021-12-06T10:28:25.986210Z",
     "shell.execute_reply.started": "2021-12-06T10:28:25.966032Z"
    }
   },
   "outputs": [],
   "source": [
    "df_train = new_df.loc[new_df[\"sample\"] == 0].drop(\"sample\", axis=1)"
   ]
  },
  {
   "cell_type": "markdown",
   "metadata": {},
   "source": [
    "## Модель 2."
   ]
  },
  {
   "cell_type": "code",
   "execution_count": 66,
   "metadata": {
    "execution": {
     "iopub.execute_input": "2021-12-06T10:28:25.988426Z",
     "iopub.status.busy": "2021-12-06T10:28:25.988191Z",
     "iopub.status.idle": "2021-12-06T10:28:30.511294Z",
     "shell.execute_reply": "2021-12-06T10:28:30.510251Z",
     "shell.execute_reply.started": "2021-12-06T10:28:25.988397Z"
    }
   },
   "outputs": [],
   "source": [
    "X = df_train.drop(['client_id', 'default'], axis = 1)\n",
    "y = df_train['default'] \n",
    "X_train, X_test, y_train, y_test = train_test_split(X, y, test_size=0.25, random_state=RANDOM_SEED)\n",
    "\n",
    "model_2 = LogisticRegression(random_state=RANDOM_SEED, max_iter=5000)\n",
    "model_2.fit(X_train, y_train)\n",
    "y_pred = model_2.predict(X_test)\n",
    "y_pred_probs = model_2.predict_proba(X_test)[:,1]\n",
    "\n",
    "veiw_model(model_2, y_test, y_pred)\n",
    "veiw_metrix(y_test, y_pred, y_pred_probs)"
   ]
  },
  {
   "cell_type": "markdown",
   "metadata": {},
   "source": [
    "Модель улучшилась, но очень слабо.  \n",
    "Попробуем обучить модель на отбалансированных признаках."
   ]
  },
  {
   "cell_type": "markdown",
   "metadata": {},
   "source": [
    "## Балансируем признаки.\n",
    "## Модель 3."
   ]
  },
  {
   "cell_type": "code",
   "execution_count": 67,
   "metadata": {
    "execution": {
     "iopub.execute_input": "2021-12-06T10:28:30.512683Z",
     "iopub.status.busy": "2021-12-06T10:28:30.512480Z",
     "iopub.status.idle": "2021-12-06T10:28:35.374109Z",
     "shell.execute_reply": "2021-12-06T10:28:35.373283Z",
     "shell.execute_reply.started": "2021-12-06T10:28:30.512658Z"
    }
   },
   "outputs": [],
   "source": [
    "model_3 = LogisticRegression(class_weight='balanced', random_state=RANDOM_SEED, max_iter=5000)\n",
    "model_3.fit(X_train, y_train)\n",
    "y_pred = model_3.predict(X_test)\n",
    "y_pred_probs = model_3.predict_proba(X_test)[:,1]\n",
    "\n",
    "veiw_model(model_3, y_test, y_pred)\n",
    "veiw_metrix(y_test, y_pred, y_pred_probs)"
   ]
  },
  {
   "cell_type": "markdown",
   "metadata": {},
   "source": [
    "Модель стала лучше находить дефолтных клиентов. Не смотря на то, что появилось много ошибок второго рода, число ошибок первого рода резко сократилось, что, несомненно, лучше.  \n",
    "Попробуем подобрать гипер параметры чтобы ещё улучшить модель."
   ]
  },
  {
   "cell_type": "markdown",
   "metadata": {},
   "source": [
    "## Регуляризация"
   ]
  },
  {
   "cell_type": "code",
   "execution_count": 68,
   "metadata": {
    "execution": {
     "iopub.execute_input": "2021-12-06T10:28:35.376271Z",
     "iopub.status.busy": "2021-12-06T10:28:35.375454Z",
     "iopub.status.idle": "2021-12-06T10:30:09.185027Z",
     "shell.execute_reply": "2021-12-06T10:30:09.184174Z",
     "shell.execute_reply.started": "2021-12-06T10:28:35.376224Z"
    }
   },
   "outputs": [],
   "source": [
    "param_grid = [{'C': np.logspace(-4.0, 4.0, num=20)}]\n",
    "\n",
    "gridsearch = GridSearchCV(model_3, param_grid, scoring='f1', n_jobs=-1, cv=5)\n",
    "gridsearch.fit(X_train, y_train)\n",
    "model_4 = gridsearch.best_estimator_\n",
    "\n",
    "best_parameters = model_4.get_params()\n",
    "for param_name in sorted(best_parameters.keys()):\n",
    "        print('\\t%s: %r' % (param_name, best_parameters[param_name]))\n",
    "\n",
    "y_pred = model_4.predict(X_test)\n",
    "y_pred_probs = model_4.predict_proba(X_test)[:,1]\n",
    "\n",
    "veiw_model(model_4, y_test, y_pred)\n",
    "veiw_metrix(y_test, y_pred, y_pred_probs)"
   ]
  },
  {
   "cell_type": "markdown",
   "metadata": {},
   "source": [
    "Обучим модель с выявленными гиперпараметрами."
   ]
  },
  {
   "cell_type": "code",
   "execution_count": 69,
   "metadata": {
    "execution": {
     "iopub.execute_input": "2021-12-06T10:30:09.186547Z",
     "iopub.status.busy": "2021-12-06T10:30:09.186301Z",
     "iopub.status.idle": "2021-12-06T10:30:13.950580Z",
     "shell.execute_reply": "2021-12-06T10:30:13.949748Z",
     "shell.execute_reply.started": "2021-12-06T10:30:09.186517Z"
    }
   },
   "outputs": [],
   "source": [
    "model_4 = LogisticRegression(C=0.004832930238571752, class_weight='balanced', dual=False, fit_intercept=True, intercept_scaling=1, \\\n",
    "                    l1_ratio=None, max_iter=5000, multi_class='auto', n_jobs=None, penalty='l2', \\\n",
    "                    random_state=RANDOM_SEED, solver='lbfgs', tol=0.0001, verbose=0, warm_start=False)\n",
    "model_4.fit(X_train, y_train)\n",
    "\n",
    "y_pred_probs = model_4.predict_proba(X_test)[:,1]"
   ]
  },
  {
   "cell_type": "markdown",
   "metadata": {},
   "source": [
    "Регуляризация позволила улучшить результаты модели.  \n",
    "Не смотря на результаты, модель ещё слаба, но улучшить её при текущих знаниях не представляется возможным.\n",
    "В целом, результат удовлетворительный, можно фиксировать его в соревновании."
   ]
  },
  {
   "cell_type": "markdown",
   "metadata": {},
   "source": [
    "# 7. Запуск модели на новых данных и Сабмит."
   ]
  },
  {
   "cell_type": "code",
   "execution_count": 70,
   "metadata": {
    "execution": {
     "iopub.execute_input": "2021-12-06T10:30:13.958972Z",
     "iopub.status.busy": "2021-12-06T10:30:13.955921Z",
     "iopub.status.idle": "2021-12-06T10:30:14.174887Z",
     "shell.execute_reply": "2021-12-06T10:30:14.174166Z",
     "shell.execute_reply.started": "2021-12-06T10:30:13.958912Z"
    }
   },
   "outputs": [],
   "source": [
    "df_test = new_df.loc[new_df['sample'] == 1].drop(['sample', 'default'], axis=1)\n",
    "default = model_4.predict_proba(df_test.drop('client_id', axis=1))[:,1]\n",
    "\n",
    "df_test['default'] = default\n",
    "\n",
    "submission = df_test[['client_id', 'default']]\n",
    "submission.to_csv('submission.csv', index=False)"
   ]
  },
  {
   "cell_type": "markdown",
   "metadata": {},
   "source": [
    "# Выводы.\n",
    "Модель справляется с поставленной задачей примерно на 68% что весьма много. Возможно стоит поработать над обработкой данных, возможно нужно лучше подбирать гиперпараметры, возможно нужно найти больше дополнительных признаков. В любом случае Результат удовлетворительный и мне есть куда расти, как исследователю."
   ]
  }
 ],
 "metadata": {
  "kernelspec": {
   "display_name": "Python 3",
   "language": "python",
   "name": "python3"
  },
  "language_info": {
   "codemirror_mode": {
    "name": "ipython",
    "version": 3
   },
   "file_extension": ".py",
   "mimetype": "text/x-python",
   "name": "python",
   "nbconvert_exporter": "python",
   "pygments_lexer": "ipython3",
   "version": "3.8.8"
  },
  "varInspector": {
   "cols": {
    "lenName": 16,
    "lenType": 16,
    "lenVar": 40
   },
   "kernels_config": {
    "python": {
     "delete_cmd_postfix": "",
     "delete_cmd_prefix": "del ",
     "library": "var_list.py",
     "varRefreshCmd": "print(var_dic_list())"
    },
    "r": {
     "delete_cmd_postfix": ") ",
     "delete_cmd_prefix": "rm(",
     "library": "var_list.r",
     "varRefreshCmd": "cat(var_dic_list()) "
    }
   },
   "types_to_exclude": [
    "module",
    "function",
    "builtin_function_or_method",
    "instance",
    "_Feature"
   ],
   "window_display": false
  }
 },
 "nbformat": 4,
 "nbformat_minor": 4
}
