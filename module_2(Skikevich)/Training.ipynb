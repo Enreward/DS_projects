{
 "cells": [
  {
   "cell_type": "markdown",
   "id": "a50898b8",
   "metadata": {},
   "source": [
    "# 2.1. Описание задачи\n",
    "Вы работаете в крупной корпорации в сфере FMCG (Fast-Moving Consumer Goods) на позиции Junior Data Scientist.  \n",
    "Рынок бурлит новыми идеями и продуктами: даже Mars экспериментируют со второй палочкой Twix. Ваша компания не можете отставать, поэтому руководство решило запустить новую линейку продуктов. Было подготовлено несколько новых вариантов шоколадных батончиков, которые по прогнозам создателей должны взорвать рынок. Но насколько верны их предсказания?\n",
    "\n",
    "Итак, перед вами поставили задачу создать модель, которая бы предсказывала оценку нового продукта конечными пользователями.\n",
    "\n",
    "Данные о тестировании батончиков конкурентов собраны, можно приступать к задаче!"
   ]
  },
  {
   "cell_type": "markdown",
   "id": "76640075",
   "metadata": {},
   "source": [
    "# Разведывательный анализ данных (EDA)\n",
    "Итак, вспомним основные цели EDA:\n",
    "\n",
    "- Сформулировать предположения и гипотезы для дальнейшего построения модели.\n",
    "- Проверить качество данных и очистить их, если это необходимо.\n",
    "- Определиться с параметрами модели.\n",
    "\n",
    "Последовательность проведения анализа зависит от задачи. EDA — это своего рода искусство!\n",
    "\n",
    "Однако всё же можно выделить основные шаги:\n",
    "\n",
    "1. Посмотреть на данные.\n",
    "1. Проверить данные на пустые значения.\n",
    "1. Проверить данные на дублированные/полностью скоррелированные значения.\n",
    "1. Проверить данные на наличие выбросов.\n",
    "1. Отобрать данные, пригодные для дальнейшего построения модели.\n",
    "1. Снова и снова возвращаться к предыдущим пунктам, пока модель не заработает как надо.\n",
    "\n",
    "# Организационная информация\n",
    "## Что нужно сделать?\n",
    "\n",
    "1. Ознакомиться с дополнительными модулями этого юнита: *STAT&BASIC-2–STAT&BASIC-5.\n",
    "1. Вместе с автором модуля провести разведывательный анализ и найти ответ на вопрос: «Какие параметры влияют на оценку шоколадных батончиков?».\n",
    "1. Внимательно ознакомиться с описанием задачи для самостоятельной работы.\n",
    "1. Прочитать рекомендации по выполнению самостоятельного проекта.\n",
    "1. Активно принимать участие в канале Slack #0_project_2-анализ_данных.\n",
    "1. Выполнить проект и загрузить его на git.\n",
    "1. Сдать свой ноутбук с решением на проверку ментору.\n",
    "1. Получить обратную связь от ментора."
   ]
  },
  {
   "cell_type": "markdown",
   "id": "84f33e4a",
   "metadata": {},
   "source": [
    "# Окунёмся в работу!\n",
    "Наши данные лежат здесь(https://docviewer.yandex.ru/view/192452314/?*=2fHiKAZJAnVtO1AnWYE%2BJALavtt7InVybCI6InlhLWJyb3dzZXI6Ly80RFQxdVhFUFJySlJYbFVGb2V3cnVQN3J2ZlUtX0MyTGl3NE01Ry1aMUxfLW5SeDljbDM4TW1weXdHYTdtQXI0REZJLTUtY2pYQTFKRzYyUmgtbUFMdkNLYU9ydmdJakhKalJReF9ESXd0ZnlXQkdUWFdvSnNqRzEtVGxubU80RDRldmJDdjJ6YVNEaENMRGtPY3Z2N3c9PT9zaWduPVVDR2xEUXVxSjRScVlSX3ZKeUtYTGlyV2Faa0c2MXhWVkN1Vm51WU56X1E9IiwidGl0bGUiOiJjYWNhb19mbGF2b3JzLmNzdiIsIm5vaWZyYW1lIjpmYWxzZSwidWlkIjoiMTkyNDUyMzE0IiwidHMiOjE2Mjk4OTg3NTQ3MTcsInl1IjoiNTM5MjUwNjI0MTU1MTI3MDcwOCJ9)\n",
    "\n",
    "В этом кейсе мы познакомимся с тем, как проводить EDA на примере исследования о качестве шоколадных батончиков. EDA поможет нам первично проверить гипотезу о связи различных переменных с рейтингом батончика.\n",
    "\n",
    "В датасете представлены следующие данные:\n",
    "\n",
    "- Bar id — ID батончика в базе данных\n",
    "- Company (Maker-if known) — название компании, изготовившей батончик.\n",
    "- Specific Bean Origin or Bar Name — точное место происхождения какао-бобов.\n",
    "- Broad Bean Origin — название региона, где были выращены какао-бобы.\n",
    "- Company Location — страна, в которой произведён шоколадный батончик.\n",
    "- Bean Type — вид какао-бобов, используемых в батончике.\n",
    "- REF — числовое значение, показывающее, как давно ревью было добавлено в базу. Чем выше значение, тем более свежее ревью.\n",
    "- Review Date — год публикации рецензии.\n",
    "- Cocoa Percent — процент какао в шоколаде.\n",
    "- Rating — оценка батончика фокус-группой."
   ]
  },
  {
   "cell_type": "markdown",
   "id": "c96f8fa6",
   "metadata": {},
   "source": [
    "# 2.2. Первичный отсмотр данных"
   ]
  },
  {
   "cell_type": "code",
   "execution_count": 75,
   "id": "952d5249",
   "metadata": {},
   "outputs": [],
   "source": [
    "import pandas as pd\n",
    "import matplotlib.pyplot as plt\n",
    "import seaborn as sns\n",
    "from itertools import combinations\n",
    "from scipy.stats import ttest_ind\n",
    "\n",
    "pd.set_option('display.max_rows', 50) # показывать больше строк\n",
    "pd.set_option('display.max_columns', 50) # показывать больше колонок\n",
    "\n",
    "cacao = pd.read_csv('cacao_flavors.csv')"
   ]
  },
  {
   "cell_type": "code",
   "execution_count": 76,
   "id": "ce8ad2a6",
   "metadata": {},
   "outputs": [
    {
     "data": {
      "text/html": [
       "<div>\n",
       "<style scoped>\n",
       "    .dataframe tbody tr th:only-of-type {\n",
       "        vertical-align: middle;\n",
       "    }\n",
       "\n",
       "    .dataframe tbody tr th {\n",
       "        vertical-align: top;\n",
       "    }\n",
       "\n",
       "    .dataframe thead th {\n",
       "        text-align: right;\n",
       "    }\n",
       "</style>\n",
       "<table border=\"1\" class=\"dataframe\">\n",
       "  <thead>\n",
       "    <tr style=\"text-align: right;\">\n",
       "      <th></th>\n",
       "      <th>Bar id</th>\n",
       "      <th>Company \\n(Maker-if known)</th>\n",
       "      <th>Specific Bean Origin\\nor Bar Name</th>\n",
       "      <th>REF</th>\n",
       "      <th>Review\\nDate</th>\n",
       "      <th>Cocoa\\nPercent</th>\n",
       "      <th>Company\\nLocation</th>\n",
       "      <th>Rating</th>\n",
       "      <th>Bean\\nType</th>\n",
       "      <th>Broad Bean\\nOrigin</th>\n",
       "    </tr>\n",
       "  </thead>\n",
       "  <tbody>\n",
       "    <tr>\n",
       "      <th>0</th>\n",
       "      <td>1</td>\n",
       "      <td>A. Morin</td>\n",
       "      <td>Agua Grande</td>\n",
       "      <td>1876</td>\n",
       "      <td>2016</td>\n",
       "      <td>63%</td>\n",
       "      <td>France</td>\n",
       "      <td>11.50</td>\n",
       "      <td></td>\n",
       "      <td>Sao Tome</td>\n",
       "    </tr>\n",
       "    <tr>\n",
       "      <th>1</th>\n",
       "      <td>2</td>\n",
       "      <td>A. Morin</td>\n",
       "      <td>Kpime</td>\n",
       "      <td>1676</td>\n",
       "      <td>2015</td>\n",
       "      <td>70%</td>\n",
       "      <td>France</td>\n",
       "      <td>2.75</td>\n",
       "      <td></td>\n",
       "      <td>Togo</td>\n",
       "    </tr>\n",
       "    <tr>\n",
       "      <th>2</th>\n",
       "      <td>3</td>\n",
       "      <td>A. Morin</td>\n",
       "      <td>Atsane</td>\n",
       "      <td>1676</td>\n",
       "      <td>2015</td>\n",
       "      <td>670%</td>\n",
       "      <td>France</td>\n",
       "      <td>3.00</td>\n",
       "      <td></td>\n",
       "      <td>Togo</td>\n",
       "    </tr>\n",
       "    <tr>\n",
       "      <th>3</th>\n",
       "      <td>4</td>\n",
       "      <td>A. Morin</td>\n",
       "      <td>Akata</td>\n",
       "      <td>1680</td>\n",
       "      <td>2015</td>\n",
       "      <td>70%</td>\n",
       "      <td>France</td>\n",
       "      <td>3.50</td>\n",
       "      <td></td>\n",
       "      <td>Togo</td>\n",
       "    </tr>\n",
       "    <tr>\n",
       "      <th>4</th>\n",
       "      <td>5</td>\n",
       "      <td>A. Morin</td>\n",
       "      <td>Quilla</td>\n",
       "      <td>1704</td>\n",
       "      <td>2015</td>\n",
       "      <td>70%</td>\n",
       "      <td>France</td>\n",
       "      <td>3.50</td>\n",
       "      <td></td>\n",
       "      <td>Peru</td>\n",
       "    </tr>\n",
       "    <tr>\n",
       "      <th>5</th>\n",
       "      <td>6</td>\n",
       "      <td>A. Morin</td>\n",
       "      <td>Carenero</td>\n",
       "      <td>1315</td>\n",
       "      <td>2014</td>\n",
       "      <td>70%</td>\n",
       "      <td>France</td>\n",
       "      <td>2.75</td>\n",
       "      <td>Criollo</td>\n",
       "      <td>Venezuela</td>\n",
       "    </tr>\n",
       "    <tr>\n",
       "      <th>6</th>\n",
       "      <td>7</td>\n",
       "      <td>A. Morin</td>\n",
       "      <td>Cuba</td>\n",
       "      <td>1315</td>\n",
       "      <td>2014</td>\n",
       "      <td>70%</td>\n",
       "      <td>France</td>\n",
       "      <td>3.50</td>\n",
       "      <td></td>\n",
       "      <td>Cuba</td>\n",
       "    </tr>\n",
       "    <tr>\n",
       "      <th>7</th>\n",
       "      <td>8</td>\n",
       "      <td>A. Morin</td>\n",
       "      <td>Sur del Lago</td>\n",
       "      <td>1315</td>\n",
       "      <td>2014</td>\n",
       "      <td>70%</td>\n",
       "      <td>France</td>\n",
       "      <td>11.50</td>\n",
       "      <td>Criollo</td>\n",
       "      <td>Venezuela</td>\n",
       "    </tr>\n",
       "    <tr>\n",
       "      <th>8</th>\n",
       "      <td>9</td>\n",
       "      <td></td>\n",
       "      <td>Puerto Cabello</td>\n",
       "      <td>1319</td>\n",
       "      <td>2014</td>\n",
       "      <td>70%</td>\n",
       "      <td>France</td>\n",
       "      <td>3.75</td>\n",
       "      <td>Criollo</td>\n",
       "      <td>Venezuela</td>\n",
       "    </tr>\n",
       "    <tr>\n",
       "      <th>9</th>\n",
       "      <td>10</td>\n",
       "      <td>A. Morin</td>\n",
       "      <td>Pablino</td>\n",
       "      <td>1319</td>\n",
       "      <td>2014</td>\n",
       "      <td>70%</td>\n",
       "      <td>France</td>\n",
       "      <td>4.00</td>\n",
       "      <td></td>\n",
       "      <td>Peru</td>\n",
       "    </tr>\n",
       "  </tbody>\n",
       "</table>\n",
       "</div>"
      ],
      "text/plain": [
       "   Bar id Company \\n(Maker-if known) Specific Bean Origin\\nor Bar Name   REF  \\\n",
       "0       1                   A. Morin                       Agua Grande  1876   \n",
       "1       2                   A. Morin                             Kpime  1676   \n",
       "2       3                   A. Morin                            Atsane  1676   \n",
       "3       4                   A. Morin                             Akata  1680   \n",
       "4       5                   A. Morin                            Quilla  1704   \n",
       "5       6                   A. Morin                          Carenero  1315   \n",
       "6       7                   A. Morin                              Cuba  1315   \n",
       "7       8                   A. Morin                      Sur del Lago  1315   \n",
       "8       9                                               Puerto Cabello  1319   \n",
       "9      10                   A. Morin                           Pablino  1319   \n",
       "\n",
       "   Review\\nDate Cocoa\\nPercent Company\\nLocation  Rating Bean\\nType  \\\n",
       "0          2016            63%            France   11.50              \n",
       "1          2015            70%            France    2.75              \n",
       "2          2015           670%            France    3.00              \n",
       "3          2015            70%            France    3.50              \n",
       "4          2015            70%            France    3.50              \n",
       "5          2014            70%            France    2.75    Criollo   \n",
       "6          2014            70%            France    3.50              \n",
       "7          2014            70%            France   11.50    Criollo   \n",
       "8          2014            70%            France    3.75    Criollo   \n",
       "9          2014            70%            France    4.00              \n",
       "\n",
       "  Broad Bean\\nOrigin  \n",
       "0           Sao Tome  \n",
       "1               Togo  \n",
       "2               Togo  \n",
       "3               Togo  \n",
       "4               Peru  \n",
       "5          Venezuela  \n",
       "6               Cuba  \n",
       "7          Venezuela  \n",
       "8          Venezuela  \n",
       "9               Peru  "
      ]
     },
     "metadata": {},
     "output_type": "display_data"
    },
    {
     "name": "stdout",
     "output_type": "stream",
     "text": [
      "<class 'pandas.core.frame.DataFrame'>\n",
      "RangeIndex: 1795 entries, 0 to 1794\n",
      "Data columns (total 10 columns):\n",
      " #   Column                            Non-Null Count  Dtype  \n",
      "---  ------                            --------------  -----  \n",
      " 0   Bar id                            1795 non-null   int64  \n",
      " 1   Company \n",
      "(Maker-if known)         1795 non-null   object \n",
      " 2   Specific Bean Origin\n",
      "or Bar Name  1795 non-null   object \n",
      " 3   REF                               1795 non-null   int64  \n",
      " 4   Review\n",
      "Date                       1795 non-null   int64  \n",
      " 5   Cocoa\n",
      "Percent                     1795 non-null   object \n",
      " 6   Company\n",
      "Location                  1795 non-null   object \n",
      " 7   Rating                            1795 non-null   float64\n",
      " 8   Bean\n",
      "Type                         1794 non-null   object \n",
      " 9   Broad Bean\n",
      "Origin                 1794 non-null   object \n",
      "dtypes: float64(1), int64(3), object(6)\n",
      "memory usage: 140.4+ KB\n"
     ]
    }
   ],
   "source": [
    "# Рассмотрим, какие данные хранятся в файле и какие типы данных у столбцов:\n",
    "\n",
    "display(cacao.head(10))\n",
    "cacao.info() "
   ]
  },
  {
   "cell_type": "code",
   "execution_count": 77,
   "id": "b9d1fd0d",
   "metadata": {},
   "outputs": [],
   "source": [
    "# Задание 2.2.1\n",
    "# Сколько в датасете числовых столбцов?\n",
    "# float64(1), int64(3)\n",
    "# Ответ: 4\n",
    "\n",
    "# Задание 2.2.2\n",
    "# Сколько в датасете строковых столбцов?\n",
    "# object(6)\n",
    "# Ответ: 6"
   ]
  },
  {
   "cell_type": "markdown",
   "id": "de2e2749",
   "metadata": {},
   "source": [
    "# 2.3. Первичный анализ данных в столбцах. Часть I\n",
    "Для удобства использования pandas переименуем все столбцы:"
   ]
  },
  {
   "cell_type": "code",
   "execution_count": 78,
   "id": "bbb27934",
   "metadata": {},
   "outputs": [
    {
     "data": {
      "text/plain": [
       "Index(['bar_id', 'company', 'specific_origin', 'ref', 'review_date',\n",
       "       'cocoa_percent', 'company_location', 'rating', 'bean_type',\n",
       "       'broad_origin'],\n",
       "      dtype='object')"
      ]
     },
     "execution_count": 78,
     "metadata": {},
     "output_type": "execute_result"
    }
   ],
   "source": [
    "cacao.columns = ['bar_id', 'company',\n",
    "       'specific_origin', 'ref', 'review_date',\n",
    "       'cocoa_percent', 'company_location', 'rating', 'bean_type',\n",
    "       'broad_origin']\n",
    "cacao.columns"
   ]
  },
  {
   "cell_type": "code",
   "execution_count": 79,
   "id": "b2065463",
   "metadata": {},
   "outputs": [
    {
     "data": {
      "text/html": [
       "<div>\n",
       "<style scoped>\n",
       "    .dataframe tbody tr th:only-of-type {\n",
       "        vertical-align: middle;\n",
       "    }\n",
       "\n",
       "    .dataframe tbody tr th {\n",
       "        vertical-align: top;\n",
       "    }\n",
       "\n",
       "    .dataframe thead th {\n",
       "        text-align: right;\n",
       "    }\n",
       "</style>\n",
       "<table border=\"1\" class=\"dataframe\">\n",
       "  <thead>\n",
       "    <tr style=\"text-align: right;\">\n",
       "      <th></th>\n",
       "      <th>bar_id</th>\n",
       "      <th>company</th>\n",
       "      <th>specific_origin</th>\n",
       "      <th>ref</th>\n",
       "      <th>review_date</th>\n",
       "      <th>cocoa_percent</th>\n",
       "      <th>company_location</th>\n",
       "      <th>rating</th>\n",
       "      <th>bean_type</th>\n",
       "      <th>broad_origin</th>\n",
       "    </tr>\n",
       "  </thead>\n",
       "  <tbody>\n",
       "    <tr>\n",
       "      <th>0</th>\n",
       "      <td>1</td>\n",
       "      <td>A. Morin</td>\n",
       "      <td>Agua Grande</td>\n",
       "      <td>1876</td>\n",
       "      <td>2016</td>\n",
       "      <td>63%</td>\n",
       "      <td>France</td>\n",
       "      <td>11.50</td>\n",
       "      <td></td>\n",
       "      <td>Sao Tome</td>\n",
       "    </tr>\n",
       "    <tr>\n",
       "      <th>1</th>\n",
       "      <td>2</td>\n",
       "      <td>A. Morin</td>\n",
       "      <td>Kpime</td>\n",
       "      <td>1676</td>\n",
       "      <td>2015</td>\n",
       "      <td>70%</td>\n",
       "      <td>France</td>\n",
       "      <td>2.75</td>\n",
       "      <td></td>\n",
       "      <td>Togo</td>\n",
       "    </tr>\n",
       "    <tr>\n",
       "      <th>2</th>\n",
       "      <td>3</td>\n",
       "      <td>A. Morin</td>\n",
       "      <td>Atsane</td>\n",
       "      <td>1676</td>\n",
       "      <td>2015</td>\n",
       "      <td>670%</td>\n",
       "      <td>France</td>\n",
       "      <td>3.00</td>\n",
       "      <td></td>\n",
       "      <td>Togo</td>\n",
       "    </tr>\n",
       "    <tr>\n",
       "      <th>3</th>\n",
       "      <td>4</td>\n",
       "      <td>A. Morin</td>\n",
       "      <td>Akata</td>\n",
       "      <td>1680</td>\n",
       "      <td>2015</td>\n",
       "      <td>70%</td>\n",
       "      <td>France</td>\n",
       "      <td>3.50</td>\n",
       "      <td></td>\n",
       "      <td>Togo</td>\n",
       "    </tr>\n",
       "    <tr>\n",
       "      <th>4</th>\n",
       "      <td>5</td>\n",
       "      <td>A. Morin</td>\n",
       "      <td>Quilla</td>\n",
       "      <td>1704</td>\n",
       "      <td>2015</td>\n",
       "      <td>70%</td>\n",
       "      <td>France</td>\n",
       "      <td>3.50</td>\n",
       "      <td></td>\n",
       "      <td>Peru</td>\n",
       "    </tr>\n",
       "  </tbody>\n",
       "</table>\n",
       "</div>"
      ],
      "text/plain": [
       "   bar_id   company specific_origin   ref  review_date cocoa_percent  \\\n",
       "0       1  A. Morin     Agua Grande  1876         2016           63%   \n",
       "1       2  A. Morin           Kpime  1676         2015           70%   \n",
       "2       3  A. Morin          Atsane  1676         2015          670%   \n",
       "3       4  A. Morin           Akata  1680         2015           70%   \n",
       "4       5  A. Morin          Quilla  1704         2015           70%   \n",
       "\n",
       "  company_location  rating bean_type broad_origin  \n",
       "0           France   11.50               Sao Tome  \n",
       "1           France    2.75                   Togo  \n",
       "2           France    3.00                   Togo  \n",
       "3           France    3.50                   Togo  \n",
       "4           France    3.50                   Peru  "
      ]
     },
     "metadata": {},
     "output_type": "display_data"
    }
   ],
   "source": [
    "display(cacao.head())"
   ]
  },
  {
   "cell_type": "markdown",
   "id": "76c449b6",
   "metadata": {},
   "source": [
    "Теперь рассмотрим все 10 (!) столбцов по отдельности. Но мы с вами не боимся рутинной работы, не так ли?"
   ]
  },
  {
   "cell_type": "code",
   "execution_count": 80,
   "id": "36141c1b",
   "metadata": {},
   "outputs": [
    {
     "name": "stdout",
     "output_type": "stream",
     "text": [
      "1795\n"
     ]
    },
    {
     "data": {
      "text/plain": [
       "[<matplotlib.lines.Line2D at 0xe2dc5b0>]"
      ]
     },
     "execution_count": 80,
     "metadata": {},
     "output_type": "execute_result"
    },
    {
     "data": {
      "image/png": "[encoded data removed]",
      "text/plain": [
       "<Figure size 432x288 with 1 Axes>"
      ]
     },
     "metadata": {
      "needs_background": "light"
     },
     "output_type": "display_data"
    }
   ],
   "source": [
    "# Bar id\n",
    "print(cacao.bar_id.nunique())\n",
    "plt.plot(cacao.bar_id)"
   ]
  },
  {
   "cell_type": "code",
   "execution_count": 81,
   "id": "20c4567f",
   "metadata": {},
   "outputs": [],
   "source": [
    "# Тут все просто: это столбец индексов батончиков, \n",
    "# количество уникальных значений соответствует количеству строк. \n",
    "# Вряд ли он пригодится для дальнейшего анализа, удалим его.\n",
    "cacao.drop(['bar_id'], inplace = True, axis = 1)"
   ]
  },
  {
   "cell_type": "code",
   "execution_count": 82,
   "id": "55d97b4b",
   "metadata": {},
   "outputs": [
    {
     "data": {
      "text/html": [
       "<div>\n",
       "<style scoped>\n",
       "    .dataframe tbody tr th:only-of-type {\n",
       "        vertical-align: middle;\n",
       "    }\n",
       "\n",
       "    .dataframe tbody tr th {\n",
       "        vertical-align: top;\n",
       "    }\n",
       "\n",
       "    .dataframe thead th {\n",
       "        text-align: right;\n",
       "    }\n",
       "</style>\n",
       "<table border=\"1\" class=\"dataframe\">\n",
       "  <thead>\n",
       "    <tr style=\"text-align: right;\">\n",
       "      <th></th>\n",
       "      <th>company</th>\n",
       "    </tr>\n",
       "  </thead>\n",
       "  <tbody>\n",
       "    <tr>\n",
       "      <th></th>\n",
       "      <td>99</td>\n",
       "    </tr>\n",
       "    <tr>\n",
       "      <th>Soma</th>\n",
       "      <td>45</td>\n",
       "    </tr>\n",
       "    <tr>\n",
       "      <th>Fresco</th>\n",
       "      <td>26</td>\n",
       "    </tr>\n",
       "    <tr>\n",
       "      <th>Bonnat</th>\n",
       "      <td>26</td>\n",
       "    </tr>\n",
       "    <tr>\n",
       "      <th>Pralus</th>\n",
       "      <td>25</td>\n",
       "    </tr>\n",
       "    <tr>\n",
       "      <th>...</th>\n",
       "      <td>...</td>\n",
       "    </tr>\n",
       "    <tr>\n",
       "      <th>Ki' Xocolatl</th>\n",
       "      <td>1</td>\n",
       "    </tr>\n",
       "    <tr>\n",
       "      <th>Bronx Grrl Chocolate</th>\n",
       "      <td>1</td>\n",
       "    </tr>\n",
       "    <tr>\n",
       "      <th>Edelmond</th>\n",
       "      <td>1</td>\n",
       "    </tr>\n",
       "    <tr>\n",
       "      <th>Cacao de Origin</th>\n",
       "      <td>1</td>\n",
       "    </tr>\n",
       "    <tr>\n",
       "      <th>Friis Holm</th>\n",
       "      <td>1</td>\n",
       "    </tr>\n",
       "  </tbody>\n",
       "</table>\n",
       "<p>408 rows × 1 columns</p>\n",
       "</div>"
      ],
      "text/plain": [
       "                      company\n",
       "                           99\n",
       "Soma                       45\n",
       "Fresco                     26\n",
       "Bonnat                     26\n",
       "Pralus                     25\n",
       "...                       ...\n",
       "Ki' Xocolatl                1\n",
       "Bronx Grrl Chocolate        1\n",
       "Edelmond                    1\n",
       "Cacao de Origin             1\n",
       "Friis Holm                  1\n",
       "\n",
       "[408 rows x 1 columns]"
      ]
     },
     "execution_count": 82,
     "metadata": {},
     "output_type": "execute_result"
    }
   ],
   "source": [
    "# Company\n",
    "# Посмотрим, сколько компаний содержит наш датасет.\n",
    "pd.DataFrame(cacao.company.value_counts())"
   ]
  },
  {
   "cell_type": "code",
   "execution_count": 83,
   "id": "f28857e4",
   "metadata": {},
   "outputs": [
    {
     "name": "stdout",
     "output_type": "stream",
     "text": [
      "407\n"
     ]
    }
   ],
   "source": [
    "# Задание 2.3.1\n",
    "# Сколько уникальных компаний содержится в датасете?\n",
    "print(len(cacao.company.unique())-1)"
   ]
  },
  {
   "cell_type": "code",
   "execution_count": 84,
   "id": "0bd94806",
   "metadata": {},
   "outputs": [
    {
     "data": {
      "text/html": [
       "<div>\n",
       "<style scoped>\n",
       "    .dataframe tbody tr th:only-of-type {\n",
       "        vertical-align: middle;\n",
       "    }\n",
       "\n",
       "    .dataframe tbody tr th {\n",
       "        vertical-align: top;\n",
       "    }\n",
       "\n",
       "    .dataframe thead th {\n",
       "        text-align: right;\n",
       "    }\n",
       "</style>\n",
       "<table border=\"1\" class=\"dataframe\">\n",
       "  <thead>\n",
       "    <tr style=\"text-align: right;\">\n",
       "      <th></th>\n",
       "      <th>company</th>\n",
       "    </tr>\n",
       "  </thead>\n",
       "  <tbody>\n",
       "    <tr>\n",
       "      <th>Soma</th>\n",
       "      <td>45</td>\n",
       "    </tr>\n",
       "    <tr>\n",
       "      <th>Fresco</th>\n",
       "      <td>26</td>\n",
       "    </tr>\n",
       "    <tr>\n",
       "      <th>Bonnat</th>\n",
       "      <td>26</td>\n",
       "    </tr>\n",
       "    <tr>\n",
       "      <th>Pralus</th>\n",
       "      <td>25</td>\n",
       "    </tr>\n",
       "    <tr>\n",
       "      <th>Domori</th>\n",
       "      <td>22</td>\n",
       "    </tr>\n",
       "    <tr>\n",
       "      <th>...</th>\n",
       "      <td>...</td>\n",
       "    </tr>\n",
       "    <tr>\n",
       "      <th>Ki' Xocolatl</th>\n",
       "      <td>1</td>\n",
       "    </tr>\n",
       "    <tr>\n",
       "      <th>Bronx Grrl Chocolate</th>\n",
       "      <td>1</td>\n",
       "    </tr>\n",
       "    <tr>\n",
       "      <th>Cacao de Origin</th>\n",
       "      <td>1</td>\n",
       "    </tr>\n",
       "    <tr>\n",
       "      <th>Tobago Estate (Pralus)</th>\n",
       "      <td>1</td>\n",
       "    </tr>\n",
       "    <tr>\n",
       "      <th>Friis Holm</th>\n",
       "      <td>1</td>\n",
       "    </tr>\n",
       "  </tbody>\n",
       "</table>\n",
       "<p>407 rows × 1 columns</p>\n",
       "</div>"
      ],
      "text/plain": [
       "                        company\n",
       "Soma                         45\n",
       "Fresco                       26\n",
       "Bonnat                       26\n",
       "Pralus                       25\n",
       "Domori                       22\n",
       "...                         ...\n",
       "Ki' Xocolatl                  1\n",
       "Bronx Grrl Chocolate          1\n",
       "Cacao de Origin               1\n",
       "Tobago Estate (Pralus)        1\n",
       "Friis Holm                    1\n",
       "\n",
       "[407 rows x 1 columns]"
      ]
     },
     "metadata": {},
     "output_type": "display_data"
    },
    {
     "name": "stdout",
     "output_type": "stream",
     "text": [
      "Значений, встретившихся в столбце более 10 раз: 30\n",
      "<class 'pandas.core.frame.DataFrame'>\n",
      "RangeIndex: 1795 entries, 0 to 1794\n",
      "Data columns (total 1 columns):\n",
      " #   Column   Non-Null Count  Dtype \n",
      "---  ------   --------------  ----- \n",
      " 0   company  1696 non-null   object\n",
      "dtypes: object(1)\n",
      "memory usage: 14.1+ KB\n"
     ]
    }
   ],
   "source": [
    "# Да уж, немало.\n",
    "\n",
    "# Попробуем отфильтровать лишние данные и выведем только те компании, \n",
    "# у которых в рейтинге больше 10 продуктов.\n",
    "cacao.company = cacao.company.apply(lambda x: None if x.strip() == '' else x)\n",
    "\n",
    "display(pd.DataFrame(cacao.company.value_counts()))\n",
    "print(\"Значений, встретившихся в столбце более 10 раз:\"#Число 10 взято для ориентира, можно брать другое\n",
    "      , (cacao.company.value_counts()>10).sum())\n",
    "cacao.loc[:, ['company']].info()"
   ]
  },
  {
   "cell_type": "markdown",
   "id": "9ea025f5",
   "metadata": {},
   "source": [
    "Итого у нас 407 уникальных значений и 99 строк, в которых производитель неизвестен. А вот компаний, у которых в рейтинге больше 10 батончиков, всего 30. Заполнить пропуски на данный момент не представляется возможным, так как вариантов для заполнения слишком много."
   ]
  },
  {
   "cell_type": "code",
   "execution_count": 85,
   "id": "c1b10db8",
   "metadata": {},
   "outputs": [
    {
     "data": {
      "text/html": [
       "<div>\n",
       "<style scoped>\n",
       "    .dataframe tbody tr th:only-of-type {\n",
       "        vertical-align: middle;\n",
       "    }\n",
       "\n",
       "    .dataframe tbody tr th {\n",
       "        vertical-align: top;\n",
       "    }\n",
       "\n",
       "    .dataframe thead th {\n",
       "        text-align: right;\n",
       "    }\n",
       "</style>\n",
       "<table border=\"1\" class=\"dataframe\">\n",
       "  <thead>\n",
       "    <tr style=\"text-align: right;\">\n",
       "      <th></th>\n",
       "      <th>specific_origin</th>\n",
       "    </tr>\n",
       "  </thead>\n",
       "  <tbody>\n",
       "    <tr>\n",
       "      <th>Madagascar</th>\n",
       "      <td>55</td>\n",
       "    </tr>\n",
       "    <tr>\n",
       "      <th>Peru</th>\n",
       "      <td>44</td>\n",
       "    </tr>\n",
       "    <tr>\n",
       "      <th>Ecuador</th>\n",
       "      <td>39</td>\n",
       "    </tr>\n",
       "    <tr>\n",
       "      <th>Dominican Republic</th>\n",
       "      <td>33</td>\n",
       "    </tr>\n",
       "    <tr>\n",
       "      <th>Venezuela</th>\n",
       "      <td>21</td>\n",
       "    </tr>\n",
       "    <tr>\n",
       "      <th>...</th>\n",
       "      <td>...</td>\n",
       "    </tr>\n",
       "    <tr>\n",
       "      <th>Ghana, 2013</th>\n",
       "      <td>1</td>\n",
       "    </tr>\n",
       "    <tr>\n",
       "      <th>Piaroa, Amazonas, Batch 350</th>\n",
       "      <td>1</td>\n",
       "    </tr>\n",
       "    <tr>\n",
       "      <th>Sambirano, 2008</th>\n",
       "      <td>1</td>\n",
       "    </tr>\n",
       "    <tr>\n",
       "      <th>Tumbes, Batch 2</th>\n",
       "      <td>1</td>\n",
       "    </tr>\n",
       "    <tr>\n",
       "      <th>Rio Caribe, Macuro</th>\n",
       "      <td>1</td>\n",
       "    </tr>\n",
       "  </tbody>\n",
       "</table>\n",
       "<p>1012 rows × 1 columns</p>\n",
       "</div>"
      ],
      "text/plain": [
       "                             specific_origin\n",
       "Madagascar                                55\n",
       "Peru                                      44\n",
       "Ecuador                                   39\n",
       "Dominican Republic                        33\n",
       "Venezuela                                 21\n",
       "...                                      ...\n",
       "Ghana, 2013                                1\n",
       "Piaroa, Amazonas, Batch 350                1\n",
       "Sambirano, 2008                            1\n",
       "Tumbes, Batch 2                            1\n",
       "Rio Caribe, Macuro                         1\n",
       "\n",
       "[1012 rows x 1 columns]"
      ]
     },
     "metadata": {},
     "output_type": "display_data"
    },
    {
     "name": "stdout",
     "output_type": "stream",
     "text": [
      "Значений, встретившихся в столбце более 10 раз: 15\n"
     ]
    }
   ],
   "source": [
    "# specific_origin\n",
    "# Давайте сделаем то же самое для столбца с местом происхождения какао-бобов. \n",
    "# Сколько уникальных регионов в датасете?\n",
    "cacao.specific_origin = cacao.specific_origin.apply(lambda x: None if str(x).strip() == '' else x)\n",
    "display(pd.DataFrame(cacao.specific_origin.value_counts()))\n",
    "\n",
    "print(\"Значений, встретившихся в столбце более 10 раз:\", (cacao.specific_origin.value_counts()>10).sum())\n"
   ]
  },
  {
   "cell_type": "code",
   "execution_count": 86,
   "id": "673c5a4f",
   "metadata": {},
   "outputs": [],
   "source": [
    "# ref\n",
    "# Этот столбец числовой и без пропусков. Поэтому посмотрим на его распределение:\n"
   ]
  },
  {
   "cell_type": "code",
   "execution_count": 87,
   "id": "8efce2a7",
   "metadata": {},
   "outputs": [
    {
     "data": {
      "text/plain": [
       "count    1795.000000\n",
       "mean     1035.904735\n",
       "std       552.886365\n",
       "min         5.000000\n",
       "25%       576.000000\n",
       "50%      1069.000000\n",
       "75%      1502.000000\n",
       "max      1952.000000\n",
       "Name: ref, dtype: float64"
      ]
     },
     "execution_count": 87,
     "metadata": {},
     "output_type": "execute_result"
    },
    {
     "data": {
      "image/png": "[encoded data removed]",
      "text/plain": [
       "<Figure size 432x288 with 1 Axes>"
      ]
     },
     "metadata": {
      "needs_background": "light"
     },
     "output_type": "display_data"
    }
   ],
   "source": [
    "cacao.ref.hist()\n",
    "cacao.ref.describe()"
   ]
  },
  {
   "cell_type": "markdown",
   "id": "b41eeff5",
   "metadata": {},
   "source": [
    "Как видно, у этого признака распределение без аномалий, выбросов нет. Заметен тренд на возрастание количества отзывов со временем (так как REF обозначает время внесения отзыва в базу). Интересно, почему так происходит?"
   ]
  },
  {
   "cell_type": "code",
   "execution_count": 88,
   "id": "06783554",
   "metadata": {},
   "outputs": [
    {
     "data": {
      "text/plain": [
       "count    1795.000000\n",
       "mean     2012.325348\n",
       "std         2.927210\n",
       "min      2006.000000\n",
       "25%      2010.000000\n",
       "50%      2013.000000\n",
       "75%      2015.000000\n",
       "max      2017.000000\n",
       "Name: review_date, dtype: float64"
      ]
     },
     "execution_count": 88,
     "metadata": {},
     "output_type": "execute_result"
    },
    {
     "data": {
      "image/png": "[encoded data removed]",
      "text/plain": [
       "<Figure size 432x288 with 1 Axes>"
      ]
     },
     "metadata": {
      "needs_background": "light"
     },
     "output_type": "display_data"
    }
   ],
   "source": [
    "# review_date\n",
    "# Этот столбец также числовой и у него также нет пропусков. \n",
    "# Как ведет себя распределение этого признака?\n",
    "cacao.review_date.hist()\n",
    "cacao.review_date.describe()"
   ]
  },
  {
   "cell_type": "markdown",
   "id": "f10b6078",
   "metadata": {},
   "source": [
    "Здесь также заметен тренд на увеличение ревью со временем."
   ]
  },
  {
   "cell_type": "code",
   "execution_count": 89,
   "id": "5da8c2f2",
   "metadata": {},
   "outputs": [],
   "source": [
    "# Задание 2.3.4\n",
    "# Содержит ли этот столбец выбросы?\n",
    "# Ответ: нет"
   ]
  },
  {
   "cell_type": "code",
   "execution_count": 90,
   "id": "5d39c600",
   "metadata": {},
   "outputs": [
    {
     "data": {
      "text/plain": [
       "0        63%\n",
       "1        70%\n",
       "2       670%\n",
       "3        70%\n",
       "4        70%\n",
       "        ... \n",
       "1790     70%\n",
       "1791     65%\n",
       "1792     65%\n",
       "1793     62%\n",
       "1794     65%\n",
       "Name: cocoa_percent, Length: 1795, dtype: object"
      ]
     },
     "execution_count": 90,
     "metadata": {},
     "output_type": "execute_result"
    }
   ],
   "source": [
    "# cocoa_percent\n",
    "# Посмотрим на данные в столбце:\n",
    "cacao.cocoa_percent"
   ]
  },
  {
   "cell_type": "code",
   "execution_count": 91,
   "id": "ba3935ef",
   "metadata": {},
   "outputs": [
    {
     "data": {
      "text/plain": [
       "count    1795.000000\n",
       "mean       75.932312\n",
       "std        44.475981\n",
       "min        42.000000\n",
       "25%        70.000000\n",
       "50%        70.000000\n",
       "75%        75.000000\n",
       "max       682.000000\n",
       "Name: cocoa_percent, dtype: float64"
      ]
     },
     "execution_count": 91,
     "metadata": {},
     "output_type": "execute_result"
    },
    {
     "data": {
      "image/png": "[encoded data removed]",
      "text/plain": [
       "<Figure size 432x288 with 1 Axes>"
      ]
     },
     "metadata": {
      "needs_background": "light"
     },
     "output_type": "display_data"
    }
   ],
   "source": [
    "# Значения в столбцах представлены в виде процентов. \n",
    "# Для дальнейшего анализа будет проще, если они будут представлены числами. \n",
    "# Трансформируем столбец:\n",
    "cacao.cocoa_percent = cacao.cocoa_percent.apply(lambda x: float(x.replace('%', '')))\n",
    "\n",
    "# Посмотрим распределение признака:\n",
    "cacao.cocoa_percent.hist()\n",
    "cacao.cocoa_percent.describe()"
   ]
  },
  {
   "cell_type": "code",
   "execution_count": 92,
   "id": "feaa1688",
   "metadata": {},
   "outputs": [
    {
     "name": "stdout",
     "output_type": "stream",
     "text": [
      "25-й перцентиль: 70.0, 75-й перцентиль: 75.0, IQR: 5.0,  Границы выбросов: [62.5, 82.5].\n"
     ]
    },
    {
     "data": {
      "image/png": "[encoded data removed]",
      "text/plain": [
       "<Figure size 432x288 with 1 Axes>"
      ]
     },
     "metadata": {
      "needs_background": "light"
     },
     "output_type": "display_data"
    }
   ],
   "source": [
    "# Видим, что основное распределение лежит между  и  процентами \n",
    "# и есть потенциальные выбросы свыше 100% (об этом нам говорит здравый смысл).\n",
    "# Самый простой способ отфильтровать выбросы — \n",
    "# воспользоваться формулой интерквартильного расстояния (межквартильного размаха). \n",
    "# Выбросом считаются такие значения, которые лежат вне рамок\n",
    "\n",
    "# [percentile(25) -1.5*IQR : percentile(75)+1.5*IQR],\n",
    "# где IQR = percentile(75) - percentile(25).\n",
    "\n",
    "IQR = cacao.cocoa_percent.quantile(0.75) - cacao.cocoa_percent.quantile(0.25)\n",
    "perc25 = cacao.cocoa_percent.quantile(0.25)\n",
    "perc75 = cacao.cocoa_percent.quantile(0.75)\n",
    " \n",
    "print(\n",
    "'25-й перцентиль: {},'.format(perc25),\n",
    "'75-й перцентиль: {},'.format(perc75),\n",
    "\"IQR: {}, \".format(IQR),\n",
    "\"Границы выбросов: [{f}, {l}].\".format(f=perc25 - 1.5*IQR, l=perc75 + 1.5*IQR))\n",
    " \n",
    "cacao.cocoa_percent.loc[cacao.cocoa_percent.between(\n",
    "perc25 - 1.5*IQR,\n",
    "perc75 + 1.5*IQR)].hist(bins = 16, range = (40, 100), label = 'IQR')\n",
    " \n",
    "cacao.cocoa_percent.loc[cacao.cocoa_percent <= 100].hist(\n",
    "alpha = 0.5, bins = 16, range = (40, 100), label = 'Здравый смысл')\n",
    " \n",
    "plt.legend();"
   ]
  },
  {
   "cell_type": "markdown",
   "id": "c074b11d",
   "metadata": {},
   "source": [
    "Однако такой способ отбора выбросов работает не всегда. Когда мы знаем потенциальные характеристики распределения, лучше отобрать их, пользуясь здравым смыслом. Как видно, формула выбросов в нашем случае помечает как выбросы слишком много потенциально реальных значений, поэтому воспользуемся здравым смыслом. Очевидно, что при сборе данных произошла ошибка. К сожалению, такое случается нередко."
   ]
  },
  {
   "cell_type": "code",
   "execution_count": 93,
   "id": "6de71b22",
   "metadata": {},
   "outputs": [],
   "source": [
    "cacao = cacao.loc[cacao.cocoa_percent <= 100]"
   ]
  },
  {
   "cell_type": "code",
   "execution_count": 94,
   "id": "e0ab5cdf",
   "metadata": {},
   "outputs": [
    {
     "data": {
      "text/plain": [
       "0        France\n",
       "1        France\n",
       "3        France\n",
       "4        France\n",
       "5        France\n",
       "         ...   \n",
       "1790    Austria\n",
       "1791    Austria\n",
       "1792    Austria\n",
       "1793    Austria\n",
       "1794    Austria\n",
       "Name: company_location, Length: 1776, dtype: object"
      ]
     },
     "execution_count": 94,
     "metadata": {},
     "output_type": "execute_result"
    }
   ],
   "source": [
    "# company_location\n",
    "# Посмотрим на данные в столбце страны-производителя:\n",
    "cacao.company_location"
   ]
  },
  {
   "cell_type": "code",
   "execution_count": 95,
   "id": "785c8c90",
   "metadata": {},
   "outputs": [
    {
     "data": {
      "text/html": [
       "<div>\n",
       "<style scoped>\n",
       "    .dataframe tbody tr th:only-of-type {\n",
       "        vertical-align: middle;\n",
       "    }\n",
       "\n",
       "    .dataframe tbody tr th {\n",
       "        vertical-align: top;\n",
       "    }\n",
       "\n",
       "    .dataframe thead th {\n",
       "        text-align: right;\n",
       "    }\n",
       "</style>\n",
       "<table border=\"1\" class=\"dataframe\">\n",
       "  <thead>\n",
       "    <tr style=\"text-align: right;\">\n",
       "      <th></th>\n",
       "      <th>company_location</th>\n",
       "    </tr>\n",
       "  </thead>\n",
       "  <tbody>\n",
       "    <tr>\n",
       "      <th>U.S.A.</th>\n",
       "      <td>756</td>\n",
       "    </tr>\n",
       "    <tr>\n",
       "      <th>France</th>\n",
       "      <td>155</td>\n",
       "    </tr>\n",
       "    <tr>\n",
       "      <th>Canada</th>\n",
       "      <td>124</td>\n",
       "    </tr>\n",
       "    <tr>\n",
       "      <th>U.K.</th>\n",
       "      <td>94</td>\n",
       "    </tr>\n",
       "    <tr>\n",
       "      <th>Italy</th>\n",
       "      <td>63</td>\n",
       "    </tr>\n",
       "    <tr>\n",
       "      <th>...</th>\n",
       "      <td>...</td>\n",
       "    </tr>\n",
       "    <tr>\n",
       "      <th>Suriname</th>\n",
       "      <td>1</td>\n",
       "    </tr>\n",
       "    <tr>\n",
       "      <th>India</th>\n",
       "      <td>1</td>\n",
       "    </tr>\n",
       "    <tr>\n",
       "      <th>Niacragua</th>\n",
       "      <td>1</td>\n",
       "    </tr>\n",
       "    <tr>\n",
       "      <th>Russia</th>\n",
       "      <td>1</td>\n",
       "    </tr>\n",
       "    <tr>\n",
       "      <th>Martinique</th>\n",
       "      <td>1</td>\n",
       "    </tr>\n",
       "  </tbody>\n",
       "</table>\n",
       "<p>60 rows × 1 columns</p>\n",
       "</div>"
      ],
      "text/plain": [
       "            company_location\n",
       "U.S.A.                   756\n",
       "France                   155\n",
       "Canada                   124\n",
       "U.K.                      94\n",
       "Italy                     63\n",
       "...                      ...\n",
       "Suriname                   1\n",
       "India                      1\n",
       "Niacragua                  1\n",
       "Russia                     1\n",
       "Martinique                 1\n",
       "\n",
       "[60 rows x 1 columns]"
      ]
     },
     "metadata": {},
     "output_type": "display_data"
    },
    {
     "name": "stdout",
     "output_type": "stream",
     "text": [
      "Значений, встретившихся в столбце более 10 раз: 22\n",
      "<class 'pandas.core.frame.DataFrame'>\n",
      "Int64Index: 1776 entries, 0 to 1794\n",
      "Data columns (total 1 columns):\n",
      " #   Column            Non-Null Count  Dtype \n",
      "---  ------            --------------  ----- \n",
      " 0   company_location  1776 non-null   object\n",
      "dtypes: object(1)\n",
      "memory usage: 27.8+ KB\n"
     ]
    }
   ],
   "source": [
    "# Стран намного меньше, чем регионов — всего 60. \n",
    "# Стран, у которых больше 10 ревью — целых 22. Пустых значений нет (ура!).\n",
    "\n",
    "display(pd.DataFrame(cacao.company_location.value_counts()))\n",
    "print(\"Значений, встретившихся в столбце более 10 раз:\", (cacao.company_location.value_counts()>10).sum())\n",
    "cacao.loc[:, ['company_location']].info()"
   ]
  },
  {
   "cell_type": "code",
   "execution_count": 96,
   "id": "b6d22d74",
   "metadata": {},
   "outputs": [
    {
     "data": {
      "text/plain": [
       "0       11.50\n",
       "1        2.75\n",
       "3        3.50\n",
       "4        3.50\n",
       "5        2.75\n",
       "        ...  \n",
       "1790     3.75\n",
       "1791     3.00\n",
       "1792     3.50\n",
       "1793     3.25\n",
       "1794     3.00\n",
       "Name: rating, Length: 1776, dtype: float64"
      ]
     },
     "execution_count": 96,
     "metadata": {},
     "output_type": "execute_result"
    }
   ],
   "source": [
    "# rating\n",
    "# Rating — важный столбец, так как именно рейтинг шоколада будет учиться предсказывать будущая модель.\n",
    "# Изучим данные:\n",
    "cacao.rating"
   ]
  },
  {
   "cell_type": "code",
   "execution_count": 97,
   "id": "32f98f0b",
   "metadata": {},
   "outputs": [
    {
     "data": {
      "text/plain": [
       "count    1776.000000\n",
       "mean        3.425816\n",
       "std         1.759007\n",
       "min         1.000000\n",
       "25%         3.000000\n",
       "50%         3.250000\n",
       "75%         3.500000\n",
       "max        19.750000\n",
       "Name: rating, dtype: float64"
      ]
     },
     "execution_count": 97,
     "metadata": {},
     "output_type": "execute_result"
    },
    {
     "data": {
      "image/png": "[encoded data removed]",
      "text/plain": [
       "<Figure size 432x288 with 1 Axes>"
      ]
     },
     "metadata": {
      "needs_background": "light"
     },
     "output_type": "display_data"
    }
   ],
   "source": [
    "# Посмотрим на распределение оценок:\n",
    "cacao.rating.hist()\n",
    "cacao.rating.describe()"
   ]
  },
  {
   "cell_type": "code",
   "execution_count": 98,
   "id": "35eae45c",
   "metadata": {},
   "outputs": [
    {
     "name": "stdout",
     "output_type": "stream",
     "text": [
      "25-й перцентиль: 3.0, 75-й перцентиль: 3.5, IQR: 0.5,  Границы выбросов: [2.25, 4.25].\n"
     ]
    },
    {
     "data": {
      "image/png": "[encoded data removed]",
      "text/plain": [
       "<Figure size 432x288 with 1 Axes>"
      ]
     },
     "metadata": {
      "needs_background": "light"
     },
     "output_type": "display_data"
    }
   ],
   "source": [
    "# Как мы видим, большинство оценок распределены между 3 и 3.5 (медиана 3.25, 25-й перцентиль 3 и 75-й — 3.5), что позволяет сделать два предположения:\n",
    "\n",
    "# Скорее всего была использована пятибалльная шкала оценивания\n",
    "# 1. В данных есть выбросы.\n",
    "# 2. Давайте это проверим:\n",
    "\n",
    "IQR = cacao.rating.quantile(0.75) - cacao.rating.quantile(0.25)\n",
    "perc25 = cacao.rating.quantile(0.25)\n",
    "perc75 = cacao.rating.quantile(0.75)\n",
    "print('25-й перцентиль: {},'.format(perc25), '75-й перцентиль: {},'.format(perc75), \"IQR: {}, \".format(IQR), \"Границы выбросов: [{f}, {l}].\".format(f=perc25 - 1.5*IQR, l=perc75 + 1.5*IQR))\n",
    " \n",
    "cacao.rating.loc[cacao.rating.between(perc25 - 1.5*IQR, perc75 + 1.5*IQR)].hist(bins = 10, range = (0, 10), label = 'IQR')\n",
    " \n",
    "plt.legend();"
   ]
  },
  {
   "cell_type": "code",
   "execution_count": 99,
   "id": "18cd9ee1",
   "metadata": {},
   "outputs": [],
   "source": [
    "# Этот способ позволил нам отобрать экстремально низкие и экстремально высокие оценки. \n",
    "# Отфильтруем данные:\n",
    "cacao = cacao.loc[cacao.rating.between(perc25 - 1.5*IQR, perc75 + 1.5*IQR)]"
   ]
  },
  {
   "cell_type": "code",
   "execution_count": 100,
   "id": "f45d26b8",
   "metadata": {},
   "outputs": [
    {
     "data": {
      "text/html": [
       "<div>\n",
       "<style scoped>\n",
       "    .dataframe tbody tr th:only-of-type {\n",
       "        vertical-align: middle;\n",
       "    }\n",
       "\n",
       "    .dataframe tbody tr th {\n",
       "        vertical-align: top;\n",
       "    }\n",
       "\n",
       "    .dataframe thead th {\n",
       "        text-align: right;\n",
       "    }\n",
       "</style>\n",
       "<table border=\"1\" class=\"dataframe\">\n",
       "  <thead>\n",
       "    <tr style=\"text-align: right;\">\n",
       "      <th></th>\n",
       "      <th>bean_type</th>\n",
       "    </tr>\n",
       "  </thead>\n",
       "  <tbody>\n",
       "    <tr>\n",
       "      <th>Trinitario</th>\n",
       "      <td>401</td>\n",
       "    </tr>\n",
       "    <tr>\n",
       "      <th>Criollo</th>\n",
       "      <td>147</td>\n",
       "    </tr>\n",
       "    <tr>\n",
       "      <th>Forastero</th>\n",
       "      <td>81</td>\n",
       "    </tr>\n",
       "    <tr>\n",
       "      <th>Forastero (Nacional)</th>\n",
       "      <td>50</td>\n",
       "    </tr>\n",
       "    <tr>\n",
       "      <th>Criollo, Trinitario</th>\n",
       "      <td>37</td>\n",
       "    </tr>\n",
       "    <tr>\n",
       "      <th>Blend</th>\n",
       "      <td>36</td>\n",
       "    </tr>\n",
       "    <tr>\n",
       "      <th>Forastero (Arriba)</th>\n",
       "      <td>30</td>\n",
       "    </tr>\n",
       "    <tr>\n",
       "      <th>Criollo (Porcelana)</th>\n",
       "      <td>10</td>\n",
       "    </tr>\n",
       "    <tr>\n",
       "      <th>Trinitario, Criollo</th>\n",
       "      <td>9</td>\n",
       "    </tr>\n",
       "    <tr>\n",
       "      <th>Forastero (Parazinho)</th>\n",
       "      <td>8</td>\n",
       "    </tr>\n",
       "    <tr>\n",
       "      <th>Forastero (Arriba) ASS</th>\n",
       "      <td>5</td>\n",
       "    </tr>\n",
       "    <tr>\n",
       "      <th>Beniano</th>\n",
       "      <td>3</td>\n",
       "    </tr>\n",
       "    <tr>\n",
       "      <th>EET</th>\n",
       "      <td>3</td>\n",
       "    </tr>\n",
       "    <tr>\n",
       "      <th>Matina</th>\n",
       "      <td>3</td>\n",
       "    </tr>\n",
       "    <tr>\n",
       "      <th>Nacional (Arriba)</th>\n",
       "      <td>3</td>\n",
       "    </tr>\n",
       "    <tr>\n",
       "      <th>Amazon mix</th>\n",
       "      <td>2</td>\n",
       "    </tr>\n",
       "    <tr>\n",
       "      <th>Nacional</th>\n",
       "      <td>2</td>\n",
       "    </tr>\n",
       "    <tr>\n",
       "      <th>Criollo, Forastero</th>\n",
       "      <td>2</td>\n",
       "    </tr>\n",
       "    <tr>\n",
       "      <th>Trinitario, Forastero</th>\n",
       "      <td>2</td>\n",
       "    </tr>\n",
       "    <tr>\n",
       "      <th>Criollo (Ocumare 61)</th>\n",
       "      <td>2</td>\n",
       "    </tr>\n",
       "    <tr>\n",
       "      <th>Amazon, ICS</th>\n",
       "      <td>2</td>\n",
       "    </tr>\n",
       "    <tr>\n",
       "      <th>Criollo (Amarru)</th>\n",
       "      <td>2</td>\n",
       "    </tr>\n",
       "    <tr>\n",
       "      <th>Forastero (Catongo)</th>\n",
       "      <td>2</td>\n",
       "    </tr>\n",
       "    <tr>\n",
       "      <th>Trinitario (85% Criollo)</th>\n",
       "      <td>2</td>\n",
       "    </tr>\n",
       "    <tr>\n",
       "      <th>Trinitario, TCGA</th>\n",
       "      <td>1</td>\n",
       "    </tr>\n",
       "    <tr>\n",
       "      <th>Forastero (Arriba) ASSS</th>\n",
       "      <td>1</td>\n",
       "    </tr>\n",
       "    <tr>\n",
       "      <th>Criollo (Ocumare 77)</th>\n",
       "      <td>1</td>\n",
       "    </tr>\n",
       "    <tr>\n",
       "      <th>Amazon</th>\n",
       "      <td>1</td>\n",
       "    </tr>\n",
       "    <tr>\n",
       "      <th>nan</th>\n",
       "      <td>1</td>\n",
       "    </tr>\n",
       "    <tr>\n",
       "      <th>Trinitario (Amelonado)</th>\n",
       "      <td>1</td>\n",
       "    </tr>\n",
       "    <tr>\n",
       "      <th>Trinitario, Nacional</th>\n",
       "      <td>1</td>\n",
       "    </tr>\n",
       "    <tr>\n",
       "      <th>Forastero(Arriba, CCN)</th>\n",
       "      <td>1</td>\n",
       "    </tr>\n",
       "    <tr>\n",
       "      <th>Criollo, +</th>\n",
       "      <td>1</td>\n",
       "    </tr>\n",
       "    <tr>\n",
       "      <th>Forastero (Amelonado)</th>\n",
       "      <td>1</td>\n",
       "    </tr>\n",
       "    <tr>\n",
       "      <th>Criollo (Wild)</th>\n",
       "      <td>1</td>\n",
       "    </tr>\n",
       "    <tr>\n",
       "      <th>Forastero, Trinitario</th>\n",
       "      <td>1</td>\n",
       "    </tr>\n",
       "    <tr>\n",
       "      <th>Criollo (Ocumare 67)</th>\n",
       "      <td>1</td>\n",
       "    </tr>\n",
       "    <tr>\n",
       "      <th>CCN51</th>\n",
       "      <td>1</td>\n",
       "    </tr>\n",
       "    <tr>\n",
       "      <th>Trinitario (Scavina)</th>\n",
       "      <td>1</td>\n",
       "    </tr>\n",
       "    <tr>\n",
       "      <th>Criollo (Ocumare)</th>\n",
       "      <td>1</td>\n",
       "    </tr>\n",
       "    <tr>\n",
       "      <th>Blend-Forastero,Criollo</th>\n",
       "      <td>1</td>\n",
       "    </tr>\n",
       "  </tbody>\n",
       "</table>\n",
       "</div>"
      ],
      "text/plain": [
       "                          bean_type\n",
       "Trinitario                      401\n",
       "Criollo                         147\n",
       "Forastero                        81\n",
       "Forastero (Nacional)             50\n",
       "Criollo, Trinitario              37\n",
       "Blend                            36\n",
       "Forastero (Arriba)               30\n",
       "Criollo (Porcelana)              10\n",
       "Trinitario, Criollo               9\n",
       "Forastero (Parazinho)             8\n",
       "Forastero (Arriba) ASS            5\n",
       "Beniano                           3\n",
       "EET                               3\n",
       "Matina                            3\n",
       "Nacional (Arriba)                 3\n",
       "Amazon mix                        2\n",
       "Nacional                          2\n",
       "Criollo, Forastero                2\n",
       "Trinitario, Forastero             2\n",
       "Criollo (Ocumare 61)              2\n",
       "Amazon, ICS                       2\n",
       "Criollo (Amarru)                  2\n",
       "Forastero (Catongo)               2\n",
       "Trinitario (85% Criollo)          2\n",
       "Trinitario, TCGA                  1\n",
       "Forastero (Arriba) ASSS           1\n",
       "Criollo (Ocumare 77)              1\n",
       "Amazon                            1\n",
       "nan                               1\n",
       "Trinitario (Amelonado)            1\n",
       "Trinitario, Nacional              1\n",
       "Forastero(Arriba, CCN)            1\n",
       "Criollo, +                        1\n",
       "Forastero (Amelonado)             1\n",
       "Criollo (Wild)                    1\n",
       "Forastero, Trinitario             1\n",
       "Criollo (Ocumare 67)              1\n",
       "CCN51                             1\n",
       "Trinitario (Scavina)              1\n",
       "Criollo (Ocumare)                 1\n",
       "Blend-Forastero,Criollo           1"
      ]
     },
     "metadata": {},
     "output_type": "display_data"
    },
    {
     "name": "stdout",
     "output_type": "stream",
     "text": [
      "Значений, встретившихся в столбце более 10 раз: 7\n",
      "Уникальных значений: 41\n",
      "<class 'pandas.core.frame.DataFrame'>\n",
      "Int64Index: 1690 entries, 1 to 1794\n",
      "Data columns (total 1 columns):\n",
      " #   Column     Non-Null Count  Dtype \n",
      "---  ------     --------------  ----- \n",
      " 0   bean_type  861 non-null    object\n",
      "dtypes: object(1)\n",
      "memory usage: 26.4+ KB\n"
     ]
    }
   ],
   "source": [
    "# bean_type\n",
    "# Сразу заменим пропуски на None:\n",
    "cacao.bean_type = cacao.bean_type.astype(str).apply(lambda x: None if x.strip() == '' else x)\n",
    "\n",
    "display(pd.DataFrame(cacao.bean_type.value_counts()))\n",
    "\n",
    "print(\"Значений, встретившихся в столбце более 10 раз:\", (cacao.bean_type.value_counts()>10).sum())\n",
    "print(\"Уникальных значений:\", cacao.bean_type.nunique())\n",
    "\n",
    "cacao.loc[:, ['bean_type']].info()"
   ]
  },
  {
   "cell_type": "markdown",
   "id": "14849d95",
   "metadata": {},
   "source": [
    "Мы видим, что есть строка со значением nan, надо заменить её на None для удобства. Также мы видим, что многие типы бобов указаны с пояснением, например \"Criollo (Ocumare 67)\", такие значения стоит привести к общему виду.\n",
    "\n",
    "Также некоторые батончики сделаны из комбинации какао-бобов. Возможно, этот столбец для дальнейшего анализа нужно будет преобразовать через метод get_dummies(), однако сейчас мы делать этого не будем."
   ]
  },
  {
   "cell_type": "markdown",
   "id": "2d663a29",
   "metadata": {},
   "source": [
    "Метод get_dummies() позволяет сделать из одного параметра несколько путём векторизации. С этим методом вы подробно познакомитесь в следующем юните."
   ]
  },
  {
   "cell_type": "code",
   "execution_count": 101,
   "id": "f3d8782e",
   "metadata": {},
   "outputs": [
    {
     "data": {
      "text/html": [
       "<div>\n",
       "<style scoped>\n",
       "    .dataframe tbody tr th:only-of-type {\n",
       "        vertical-align: middle;\n",
       "    }\n",
       "\n",
       "    .dataframe tbody tr th {\n",
       "        vertical-align: top;\n",
       "    }\n",
       "\n",
       "    .dataframe thead th {\n",
       "        text-align: right;\n",
       "    }\n",
       "</style>\n",
       "<table border=\"1\" class=\"dataframe\">\n",
       "  <thead>\n",
       "    <tr style=\"text-align: right;\">\n",
       "      <th></th>\n",
       "      <th>bean_type</th>\n",
       "    </tr>\n",
       "  </thead>\n",
       "  <tbody>\n",
       "    <tr>\n",
       "      <th>Trinitario</th>\n",
       "      <td>405</td>\n",
       "    </tr>\n",
       "    <tr>\n",
       "      <th>Forastero</th>\n",
       "      <td>179</td>\n",
       "    </tr>\n",
       "    <tr>\n",
       "      <th>Criollo</th>\n",
       "      <td>165</td>\n",
       "    </tr>\n",
       "    <tr>\n",
       "      <th>Criollo, Trinitario</th>\n",
       "      <td>37</td>\n",
       "    </tr>\n",
       "    <tr>\n",
       "      <th>Blend</th>\n",
       "      <td>36</td>\n",
       "    </tr>\n",
       "    <tr>\n",
       "      <th>Trinitario, Criollo</th>\n",
       "      <td>9</td>\n",
       "    </tr>\n",
       "    <tr>\n",
       "      <th>Nacional</th>\n",
       "      <td>5</td>\n",
       "    </tr>\n",
       "    <tr>\n",
       "      <th>Beniano</th>\n",
       "      <td>3</td>\n",
       "    </tr>\n",
       "    <tr>\n",
       "      <th>Matina</th>\n",
       "      <td>3</td>\n",
       "    </tr>\n",
       "    <tr>\n",
       "      <th>EET</th>\n",
       "      <td>3</td>\n",
       "    </tr>\n",
       "    <tr>\n",
       "      <th>Criollo, Forastero</th>\n",
       "      <td>2</td>\n",
       "    </tr>\n",
       "    <tr>\n",
       "      <th>Amazon mix</th>\n",
       "      <td>2</td>\n",
       "    </tr>\n",
       "    <tr>\n",
       "      <th>Amazon, ICS</th>\n",
       "      <td>2</td>\n",
       "    </tr>\n",
       "    <tr>\n",
       "      <th>Trinitario, Forastero</th>\n",
       "      <td>2</td>\n",
       "    </tr>\n",
       "    <tr>\n",
       "      <th>Trinitario, Nacional</th>\n",
       "      <td>1</td>\n",
       "    </tr>\n",
       "    <tr>\n",
       "      <th>Trinitario, TCGA</th>\n",
       "      <td>1</td>\n",
       "    </tr>\n",
       "    <tr>\n",
       "      <th>Amazon</th>\n",
       "      <td>1</td>\n",
       "    </tr>\n",
       "    <tr>\n",
       "      <th>CCN51</th>\n",
       "      <td>1</td>\n",
       "    </tr>\n",
       "    <tr>\n",
       "      <th>Blend-Forastero,Criollo</th>\n",
       "      <td>1</td>\n",
       "    </tr>\n",
       "    <tr>\n",
       "      <th>Forastero, Trinitario</th>\n",
       "      <td>1</td>\n",
       "    </tr>\n",
       "    <tr>\n",
       "      <th>Criollo, +</th>\n",
       "      <td>1</td>\n",
       "    </tr>\n",
       "  </tbody>\n",
       "</table>\n",
       "</div>"
      ],
      "text/plain": [
       "                         bean_type\n",
       "Trinitario                     405\n",
       "Forastero                      179\n",
       "Criollo                        165\n",
       "Criollo, Trinitario             37\n",
       "Blend                           36\n",
       "Trinitario, Criollo              9\n",
       "Nacional                         5\n",
       "Beniano                          3\n",
       "Matina                           3\n",
       "EET                              3\n",
       "Criollo, Forastero               2\n",
       "Amazon mix                       2\n",
       "Amazon, ICS                      2\n",
       "Trinitario, Forastero            2\n",
       "Trinitario, Nacional             1\n",
       "Trinitario, TCGA                 1\n",
       "Amazon                           1\n",
       "CCN51                            1\n",
       "Blend-Forastero,Criollo          1\n",
       "Forastero, Trinitario            1\n",
       "Criollo, +                       1"
      ]
     },
     "metadata": {},
     "output_type": "display_data"
    },
    {
     "name": "stdout",
     "output_type": "stream",
     "text": [
      "Значений, встретившихся в столбце более 10 раз: 5\n",
      "Уникальных значений: 21\n",
      "<class 'pandas.core.frame.DataFrame'>\n",
      "Int64Index: 1690 entries, 1 to 1794\n",
      "Data columns (total 1 columns):\n",
      " #   Column     Non-Null Count  Dtype \n",
      "---  ------     --------------  ----- \n",
      " 0   bean_type  860 non-null    object\n",
      "dtypes: object(1)\n",
      "memory usage: 26.4+ KB\n"
     ]
    }
   ],
   "source": [
    "cacao.bean_type = cacao.bean_type.apply(lambda x: None if pd.isnull(x) else None if x == 'nan' \n",
    "                      else x if '(' not in x else x[:x.find('(')].strip())\n",
    "\n",
    "display(pd.DataFrame(cacao.bean_type.value_counts()))\n",
    "\n",
    "print(\"Значений, встретившихся в столбце более 10 раз:\", (cacao.bean_type.value_counts()>10).sum())\n",
    "print(\"Уникальных значений:\", cacao.bean_type.nunique())\n",
    "\n",
    "cacao.loc[:, ['bean_type']].info()"
   ]
  },
  {
   "cell_type": "markdown",
   "id": "9bd499b1",
   "metadata": {},
   "source": [
    "Мы сократили количество уникальных значений в столбце до 21. Пустые значения заполнить не получится, так как есть пять самых популярных (10+ батончиков) сортов какао."
   ]
  },
  {
   "cell_type": "code",
   "execution_count": 102,
   "id": "2f0af5c3",
   "metadata": {},
   "outputs": [
    {
     "data": {
      "text/html": [
       "<div>\n",
       "<style scoped>\n",
       "    .dataframe tbody tr th:only-of-type {\n",
       "        vertical-align: middle;\n",
       "    }\n",
       "\n",
       "    .dataframe tbody tr th {\n",
       "        vertical-align: top;\n",
       "    }\n",
       "\n",
       "    .dataframe thead th {\n",
       "        text-align: right;\n",
       "    }\n",
       "</style>\n",
       "<table border=\"1\" class=\"dataframe\">\n",
       "  <thead>\n",
       "    <tr style=\"text-align: right;\">\n",
       "      <th></th>\n",
       "      <th>broad_origin</th>\n",
       "    </tr>\n",
       "  </thead>\n",
       "  <tbody>\n",
       "    <tr>\n",
       "      <th>Venezuela</th>\n",
       "      <td>202</td>\n",
       "    </tr>\n",
       "    <tr>\n",
       "      <th>Ecuador</th>\n",
       "      <td>179</td>\n",
       "    </tr>\n",
       "    <tr>\n",
       "      <th>Peru</th>\n",
       "      <td>159</td>\n",
       "    </tr>\n",
       "    <tr>\n",
       "      <th>Madagascar</th>\n",
       "      <td>138</td>\n",
       "    </tr>\n",
       "    <tr>\n",
       "      <th>Dominican Republic</th>\n",
       "      <td>135</td>\n",
       "    </tr>\n",
       "    <tr>\n",
       "      <th>...</th>\n",
       "      <td>...</td>\n",
       "    </tr>\n",
       "    <tr>\n",
       "      <th>Trinidad, Ecuador</th>\n",
       "      <td>1</td>\n",
       "    </tr>\n",
       "    <tr>\n",
       "      <th>Venezuela, Dom. Rep.</th>\n",
       "      <td>1</td>\n",
       "    </tr>\n",
       "    <tr>\n",
       "      <th>Indonesia, Ghana</th>\n",
       "      <td>1</td>\n",
       "    </tr>\n",
       "    <tr>\n",
       "      <th>Carribean(DR/Jam/Tri)</th>\n",
       "      <td>1</td>\n",
       "    </tr>\n",
       "    <tr>\n",
       "      <th>Martinique</th>\n",
       "      <td>1</td>\n",
       "    </tr>\n",
       "  </tbody>\n",
       "</table>\n",
       "<p>97 rows × 1 columns</p>\n",
       "</div>"
      ],
      "text/plain": [
       "                       broad_origin\n",
       "Venezuela                       202\n",
       "Ecuador                         179\n",
       "Peru                            159\n",
       "Madagascar                      138\n",
       "Dominican Republic              135\n",
       "...                             ...\n",
       "Trinidad, Ecuador                 1\n",
       "Venezuela, Dom. Rep.              1\n",
       "Indonesia, Ghana                  1\n",
       "Carribean(DR/Jam/Tri)             1\n",
       "Martinique                        1\n",
       "\n",
       "[97 rows x 1 columns]"
      ]
     },
     "metadata": {},
     "output_type": "display_data"
    },
    {
     "name": "stdout",
     "output_type": "stream",
     "text": [
      "<class 'pandas.core.frame.DataFrame'>\n",
      "Int64Index: 1690 entries, 1 to 1794\n",
      "Data columns (total 1 columns):\n",
      " #   Column        Non-Null Count  Dtype \n",
      "---  ------        --------------  ----- \n",
      " 0   broad_origin  1631 non-null   object\n",
      "dtypes: object(1)\n",
      "memory usage: 26.4+ KB\n",
      "Уникальных значений: 97\n",
      "Значений, встретившихся в столбце более 10 раз: 25\n"
     ]
    }
   ],
   "source": [
    "# broad_origin\n",
    "# Задание 2.4.1\n",
    "# Самостоятельно обработайте пропуски в этом столбце, заменив их на None, и ответьте на вопросы:\n",
    "cacao.broad_origin = cacao.broad_origin.astype(str).apply(lambda x: None if x.strip() == '' else x)\n",
    "cacao.bean_type = cacao.bean_type.apply(lambda x: None if pd.isnull(x) else None if x == 'nan' \n",
    "                      else x if ',' not in x else x[:x.find(',')].strip())\n",
    "display(pd.DataFrame(cacao.broad_origin.value_counts()))\n",
    "\n",
    "cacao.loc[:, ['broad_origin']].info()\n",
    "# Сколько уникальных значений содержит столбец?\n",
    "print(\"Уникальных значений:\", cacao.broad_origin.nunique())\n",
    "# Сколько из них встречаются более 10 раз?\n",
    "print(\"Значений, встретившихся в столбце более 10 раз:\", (cacao.broad_origin.value_counts()>10).sum())"
   ]
  },
  {
   "attachments": {
    "image.png": {
     "image/png": "[encoded data removed]"
    }
   },
   "cell_type": "markdown",
   "id": "17e34834",
   "metadata": {},
   "source": [
    "Обратим внимание, что в столбце много повторяющихся значений с различным написанием.\n",
    "![image.png](attachment:image.png)"
   ]
  },
  {
   "cell_type": "code",
   "execution_count": 103,
   "id": "319de010",
   "metadata": {},
   "outputs": [],
   "source": [
    "# Давайте это исправим, написав дополнительную функцию:\n",
    "\n",
    "def fix_countries(x):\n",
    "    if pd.isnull(x):\n",
    "        return x\n",
    "    if x == 'nan':\n",
    "        return None\n",
    "    x = x.replace(' ', '')\n",
    "    x = x.replace('/', ',') # Venezuela/ Ghana\n",
    "    x = x.replace('&', ',')\n",
    "    if '(' in x:\n",
    "        x = x[:x.find('(')] #Peru(SMartin,Pangoa,nacional)\n",
    "    x = x.replace('Guat.', 'Guatemala')\n",
    "    \n",
    "    if 'Ven' in x and 'Venezuela' not in x:\n",
    "        x = x.replace('Venez', 'Venezuela') #Venez,Africa,Brasil,Peru,Mex\n",
    "        x = x.replace('Ven,', 'Venezuela,') #Ven, Trinidad, Ecuador\n",
    "        x = x.replace('Ven.', 'Venezuela') #Ven., Trinidad, Mad.\n",
    "        if 'Ven' in x and 'Venezuela' not in x:\n",
    "            x = x.replace('Ven', 'Venezuela')\n",
    "        \n",
    "    x = x.replace('Dom.Rep.', 'DomincanRepublic')\n",
    "    x = x.replace('DR', 'DomincanRepublic')\n",
    "    x = x.replace('Dom.Rep', 'DomincanRepublic')\n",
    "    x = x.replace('D.R.', 'DomincanRepublic')\n",
    "    x = x.replace('DominicanRep.', 'DomincanRepublic')\n",
    "    x = x.replace('Domin.Rep', 'DomincanRepublic')\n",
    "    x = x.replace('Domin.Re', 'DomincanRepublic')\n",
    "    x = x.replace('DominicanRepublic', 'DomincanRepublic')\n",
    "\n",
    "    if 'Jam' in x and 'Jamaica' not in x:\n",
    "        x = x.replace('Jam', 'Jamaica')\n",
    "        \n",
    "    if 'Mad.' in x and 'Madagascar' not in x:\n",
    "        x = x.replace('Mad.', 'Madagascar')\n",
    "    elif 'Mad' in x and 'Madagascar' not in x:\n",
    "        x = x.replace('Mad', 'Madagascar')\n",
    "    elif 'Ma' in x and 'Madagascar' not in x:\n",
    "        x = x.replace('Ma', 'Madagascar')\n",
    "        \n",
    "    if 'Hait' in x and 'Haiti' not in x:\n",
    "        x = x.replace('Hait', 'Haiti')\n",
    "        \n",
    "    if 'Per' in x and 'Peru'  not in x:\n",
    "        x = x.replace('Per', 'Peru')\n",
    "    \n",
    "    x = x.replace('Nic.', 'Nicaragua')\n",
    "\n",
    "    x = x.replace('Gre.', 'Grenada')\n",
    "    \n",
    "    x = x.replace('PNG', 'PapuaNewGuinea')\n",
    "    \n",
    "    if 'Mex' in x and 'Mexico' not in x:\n",
    "        x = x.replace('Mex', 'Mexico')\n",
    "        \n",
    "    x = x.replace('Haw.', 'Hawaii')\n",
    "    \n",
    "    x = x.replace('Ecuad.', 'Ecuador')\n",
    "    x = x.replace('Ecu.', 'Ecuador')\n",
    "    \n",
    "    return x\n",
    "cacao.broad_origin = cacao.broad_origin.apply(fix_countries)"
   ]
  },
  {
   "cell_type": "code",
   "execution_count": 104,
   "id": "5c192386",
   "metadata": {},
   "outputs": [
    {
     "data": {
      "text/html": [
       "<div>\n",
       "<style scoped>\n",
       "    .dataframe tbody tr th:only-of-type {\n",
       "        vertical-align: middle;\n",
       "    }\n",
       "\n",
       "    .dataframe tbody tr th {\n",
       "        vertical-align: top;\n",
       "    }\n",
       "\n",
       "    .dataframe thead th {\n",
       "        text-align: right;\n",
       "    }\n",
       "</style>\n",
       "<table border=\"1\" class=\"dataframe\">\n",
       "  <thead>\n",
       "    <tr style=\"text-align: right;\">\n",
       "      <th></th>\n",
       "      <th>broad_origin</th>\n",
       "    </tr>\n",
       "  </thead>\n",
       "  <tbody>\n",
       "    <tr>\n",
       "      <th>Venezuela</th>\n",
       "      <td>202</td>\n",
       "    </tr>\n",
       "    <tr>\n",
       "      <th>Ecuador</th>\n",
       "      <td>179</td>\n",
       "    </tr>\n",
       "    <tr>\n",
       "      <th>Peru</th>\n",
       "      <td>160</td>\n",
       "    </tr>\n",
       "    <tr>\n",
       "      <th>DomincanRepublic</th>\n",
       "      <td>159</td>\n",
       "    </tr>\n",
       "    <tr>\n",
       "      <th>Madagascar</th>\n",
       "      <td>138</td>\n",
       "    </tr>\n",
       "    <tr>\n",
       "      <th>...</th>\n",
       "      <td>...</td>\n",
       "    </tr>\n",
       "    <tr>\n",
       "      <th>Venezuela,Trinidad</th>\n",
       "      <td>1</td>\n",
       "    </tr>\n",
       "    <tr>\n",
       "      <th>Peru,Ecuador,Venezuela</th>\n",
       "      <td>1</td>\n",
       "    </tr>\n",
       "    <tr>\n",
       "      <th>Nigeria</th>\n",
       "      <td>1</td>\n",
       "    </tr>\n",
       "    <tr>\n",
       "      <th>Venezuela,Ecuador,Peru,Nicaragua</th>\n",
       "      <td>1</td>\n",
       "    </tr>\n",
       "    <tr>\n",
       "      <th>Guatemala,DomincanRepublic,Peru,Madagascar,PapuaNewGuinea</th>\n",
       "      <td>1</td>\n",
       "    </tr>\n",
       "  </tbody>\n",
       "</table>\n",
       "<p>92 rows × 1 columns</p>\n",
       "</div>"
      ],
      "text/plain": [
       "                                                    broad_origin\n",
       "Venezuela                                                    202\n",
       "Ecuador                                                      179\n",
       "Peru                                                         160\n",
       "DomincanRepublic                                             159\n",
       "Madagascar                                                   138\n",
       "...                                                          ...\n",
       "Venezuela,Trinidad                                             1\n",
       "Peru,Ecuador,Venezuela                                         1\n",
       "Nigeria                                                        1\n",
       "Venezuela,Ecuador,Peru,Nicaragua                               1\n",
       "Guatemala,DomincanRepublic,Peru,Madagascar,Papu...             1\n",
       "\n",
       "[92 rows x 1 columns]"
      ]
     },
     "metadata": {},
     "output_type": "display_data"
    },
    {
     "name": "stdout",
     "output_type": "stream",
     "text": [
      "Значений, упомянутых более 10 раз: 24\n",
      "Уникальных значений: 92\n",
      "<class 'pandas.core.frame.DataFrame'>\n",
      "Int64Index: 1690 entries, 1 to 1794\n",
      "Data columns (total 1 columns):\n",
      " #   Column        Non-Null Count  Dtype \n",
      "---  ------        --------------  ----- \n",
      " 0   broad_origin  1630 non-null   object\n",
      "dtypes: object(1)\n",
      "memory usage: 26.4+ KB\n"
     ]
    }
   ],
   "source": [
    "# Посмотрим, как изменились данные:\n",
    "display(pd.DataFrame(cacao.broad_origin.value_counts()))\n",
    "\n",
    "print('Значений, упомянутых более 10 раз:', (cacao.broad_origin.value_counts()>10).sum())\n",
    "print(\"Уникальных значений:\", cacao.broad_origin.nunique())\n",
    "\n",
    "cacao.loc[:, ['broad_origin']].info()"
   ]
  },
  {
   "cell_type": "markdown",
   "id": "91df1b65",
   "metadata": {},
   "source": [
    "Мы сократили количество уникальных значений (хотя и всего на 4). Однако такая трансформация в последствии поможет нам преобразовать данные через метод get_dummies(). Пропущенные значения заполнить не получится, так как данных всё ещё достаточно мало."
   ]
  },
  {
   "cell_type": "markdown",
   "id": "7186278a",
   "metadata": {},
   "source": [
    "# 2.5. Корреляционный анализ\n",
    "Выясним, какие столбцы коррелируют с оценкой шоколадных батончиков. Это поможет понять, какие параметры стоит оставить для модели, а какие — исключить. \n",
    "\n",
    "Корреляции рассмотрим только для числовых столбцов.\n",
    "\n",
    "Для быстрого построения графиков зависимости переменных можно воспользоваться функцией pairplot из модуля seaborn:"
   ]
  },
  {
   "cell_type": "code",
   "execution_count": 105,
   "id": "159bb298",
   "metadata": {},
   "outputs": [
    {
     "data": {
      "text/plain": [
       "<seaborn.axisgrid.PairGrid at 0xe2b8910>"
      ]
     },
     "execution_count": 105,
     "metadata": {},
     "output_type": "execute_result"
    },
    {
     "data": {
      "image/png": "[encoded data removed]",
      "text/plain": [
       "<Figure size 720x720 with 20 Axes>"
      ]
     },
     "metadata": {
      "needs_background": "light"
     },
     "output_type": "display_data"
    }
   ],
   "source": [
    "sns.pairplot(cacao, kind = 'reg')"
   ]
  },
  {
   "cell_type": "code",
   "execution_count": 107,
   "id": "fbe8d051",
   "metadata": {},
   "outputs": [
    {
     "data": {
      "text/html": [
       "<div>\n",
       "<style scoped>\n",
       "    .dataframe tbody tr th:only-of-type {\n",
       "        vertical-align: middle;\n",
       "    }\n",
       "\n",
       "    .dataframe tbody tr th {\n",
       "        vertical-align: top;\n",
       "    }\n",
       "\n",
       "    .dataframe thead th {\n",
       "        text-align: right;\n",
       "    }\n",
       "</style>\n",
       "<table border=\"1\" class=\"dataframe\">\n",
       "  <thead>\n",
       "    <tr style=\"text-align: right;\">\n",
       "      <th></th>\n",
       "      <th>ref</th>\n",
       "      <th>review_date</th>\n",
       "      <th>cocoa_percent</th>\n",
       "      <th>rating</th>\n",
       "    </tr>\n",
       "  </thead>\n",
       "  <tbody>\n",
       "    <tr>\n",
       "      <th>ref</th>\n",
       "      <td>1.000000</td>\n",
       "      <td>0.984913</td>\n",
       "      <td>0.083765</td>\n",
       "      <td>0.016189</td>\n",
       "    </tr>\n",
       "    <tr>\n",
       "      <th>review_date</th>\n",
       "      <td>0.984913</td>\n",
       "      <td>1.000000</td>\n",
       "      <td>0.086523</td>\n",
       "      <td>0.006703</td>\n",
       "    </tr>\n",
       "    <tr>\n",
       "      <th>cocoa_percent</th>\n",
       "      <td>0.083765</td>\n",
       "      <td>0.086523</td>\n",
       "      <td>1.000000</td>\n",
       "      <td>-0.078156</td>\n",
       "    </tr>\n",
       "    <tr>\n",
       "      <th>rating</th>\n",
       "      <td>0.016189</td>\n",
       "      <td>0.006703</td>\n",
       "      <td>-0.078156</td>\n",
       "      <td>1.000000</td>\n",
       "    </tr>\n",
       "  </tbody>\n",
       "</table>\n",
       "</div>"
      ],
      "text/plain": [
       "                    ref  review_date  cocoa_percent    rating\n",
       "ref            1.000000     0.984913       0.083765  0.016189\n",
       "review_date    0.984913     1.000000       0.086523  0.006703\n",
       "cocoa_percent  0.083765     0.086523       1.000000 -0.078156\n",
       "rating         0.016189     0.006703      -0.078156  1.000000"
      ]
     },
     "execution_count": 107,
     "metadata": {},
     "output_type": "execute_result"
    }
   ],
   "source": [
    "# Используем для наглядности матрицу корреляций:\n",
    "\n",
    "cacao.corr()"
   ]
  },
  {
   "cell_type": "markdown",
   "id": "3b6dc347",
   "metadata": {},
   "source": [
    "Так как переменные review_date и ref скоррелированы почти полностью, одну переменную можно исключить. Пусть это будет переменная REF.\n",
    "\n",
    "Останутся две слабоскоррелированные с рейтингом переменные: cocoa_percent и review_date.\n",
    "\n",
    "Интересно, что положительная корреляция параметра review_date и rating может говорить как о том, что со временем батончики действительно становятся лучше, так и о том, что рейтинги просто завышаются."
   ]
  },
  {
   "cell_type": "markdown",
   "id": "6be42c77",
   "metadata": {},
   "source": [
    "# 2.6. Анализ номинативных переменных\n",
    "Очевидно, что для номинативных переменных использовать корреляционный анализ не получится. Однако можно посмотреть, различаются ли распределения рейтинга в зависимости от значения этих переменных. Это можно сделать, например, с помощью box-plot или KDE-plot (график показывает плотность распределения переменных).\n",
    "\n",
    "Номинативные переменные, которые осталось рассмотреть: company, specific_origin, company_location, bean_type, broad_origin.\n",
    "\n",
    "Так как уникальных значений в столбцах достаточно много, будем брать в рассмотрение по, например, 10 самых частотных."
   ]
  },
  {
   "cell_type": "code",
   "execution_count": 108,
   "id": "91aca79b",
   "metadata": {},
   "outputs": [
    {
     "data": {
      "image/png": "[encoded data removed]",
      "text/plain": [
       "<Figure size 1008x288 with 1 Axes>"
      ]
     },
     "metadata": {
      "needs_background": "light"
     },
     "output_type": "display_data"
    },
    {
     "data": {
      "image/png": "[encoded data removed]",
      "text/plain": [
       "<Figure size 1008x288 with 1 Axes>"
      ]
     },
     "metadata": {
      "needs_background": "light"
     },
     "output_type": "display_data"
    },
    {
     "data": {
      "image/png": "[encoded data removed]",
      "text/plain": [
       "<Figure size 1008x288 with 1 Axes>"
      ]
     },
     "metadata": {
      "needs_background": "light"
     },
     "output_type": "display_data"
    },
    {
     "data": {
      "image/png": "[encoded data removed]",
      "text/plain": [
       "<Figure size 1008x288 with 1 Axes>"
      ]
     },
     "metadata": {
      "needs_background": "light"
     },
     "output_type": "display_data"
    },
    {
     "data": {
      "image/png": "[encoded data removed]",
      "text/plain": [
       "<Figure size 1008x288 with 1 Axes>"
      ]
     },
     "metadata": {
      "needs_background": "light"
     },
     "output_type": "display_data"
    }
   ],
   "source": [
    "def get_boxplot(column):\n",
    "    fig, ax = plt.subplots(figsize = (14, 4))\n",
    "    sns.boxplot(x=column, y='rating', \n",
    "                data=cacao.loc[cacao.loc[:, column].isin(cacao.loc[:, column].value_counts().index[:10])],\n",
    "               ax=ax)\n",
    "    plt.xticks(rotation=45)\n",
    "    ax.set_title('Boxplot for ' + column)\n",
    "    plt.show()\n",
    "for col in ['company', 'specific_origin', 'company_location', 'bean_type', 'broad_origin']:\n",
    "    get_boxplot(col)"
   ]
  },
  {
   "cell_type": "markdown",
   "id": "43bc8ca8",
   "metadata": {},
   "source": [
    "По графикам похоже, что все параметры, кроме broad_origin, могут влиять на оценку батончика. Однако графики являются лишь вспомогательным инструментом, настоящую значимость различий может помочь распознать статистика. Проверим, есть ли статистическая разница в распределении оценок по номинативным признакам, с помощью теста Стьюдента. Проверим нулевую гипотезу о том, что распределения оценок батончиков по различным параметрам неразличимы:"
   ]
  },
  {
   "cell_type": "code",
   "execution_count": 109,
   "id": "341945b1",
   "metadata": {},
   "outputs": [
    {
     "name": "stdout",
     "output_type": "stream",
     "text": [
      "Найдены статистически значимые различия для колонки company\n",
      "Найдены статистически значимые различия для колонки specific_origin\n",
      "Найдены статистически значимые различия для колонки company_location\n"
     ]
    }
   ],
   "source": [
    "def get_stat_dif(column):\n",
    "    cols = cacao.loc[:, column].value_counts().index[:10]\n",
    "    combinations_all = list(combinations(cols, 2))\n",
    "    for comb in combinations_all:\n",
    "        if ttest_ind(cacao.loc[cacao.loc[:, column] == comb[0], 'rating'], \n",
    "                        cacao.loc[cacao.loc[:, column] == comb[1], 'rating']).pvalue \\\n",
    "            <= 0.05/len(combinations_all): # Учли поправку Бонферони\n",
    "            print('Найдены статистически значимые различия для колонки', column)\n",
    "            break\n",
    "for col in ['company', 'specific_origin', 'company_location', 'bean_type', 'broad_origin']:\n",
    "    get_stat_dif(col)"
   ]
  },
  {
   "cell_type": "markdown",
   "id": "e0e8dace",
   "metadata": {},
   "source": [
    "Как мы видим, серьёзно отличаются три параметра: company,  specific_origin и  company_location. Оставим эти переменные в датасете для дальнейшего построения модели. Итак, в нашем случае важные переменные, которые, возможно, оказывают влияние на оценку, это: company, specific_origin, company_location, review_date, cocoa_percent."
   ]
  },
  {
   "cell_type": "code",
   "execution_count": 110,
   "id": "5833506e",
   "metadata": {},
   "outputs": [
    {
     "data": {
      "text/html": [
       "<div>\n",
       "<style scoped>\n",
       "    .dataframe tbody tr th:only-of-type {\n",
       "        vertical-align: middle;\n",
       "    }\n",
       "\n",
       "    .dataframe tbody tr th {\n",
       "        vertical-align: top;\n",
       "    }\n",
       "\n",
       "    .dataframe thead th {\n",
       "        text-align: right;\n",
       "    }\n",
       "</style>\n",
       "<table border=\"1\" class=\"dataframe\">\n",
       "  <thead>\n",
       "    <tr style=\"text-align: right;\">\n",
       "      <th></th>\n",
       "      <th>company</th>\n",
       "      <th>specific_origin</th>\n",
       "      <th>company_location</th>\n",
       "      <th>review_date</th>\n",
       "      <th>cocoa_percent</th>\n",
       "    </tr>\n",
       "  </thead>\n",
       "  <tbody>\n",
       "    <tr>\n",
       "      <th>1</th>\n",
       "      <td>A. Morin</td>\n",
       "      <td>Kpime</td>\n",
       "      <td>France</td>\n",
       "      <td>2015</td>\n",
       "      <td>70.0</td>\n",
       "    </tr>\n",
       "    <tr>\n",
       "      <th>3</th>\n",
       "      <td>A. Morin</td>\n",
       "      <td>Akata</td>\n",
       "      <td>France</td>\n",
       "      <td>2015</td>\n",
       "      <td>70.0</td>\n",
       "    </tr>\n",
       "    <tr>\n",
       "      <th>4</th>\n",
       "      <td>A. Morin</td>\n",
       "      <td>Quilla</td>\n",
       "      <td>France</td>\n",
       "      <td>2015</td>\n",
       "      <td>70.0</td>\n",
       "    </tr>\n",
       "    <tr>\n",
       "      <th>5</th>\n",
       "      <td>A. Morin</td>\n",
       "      <td>Carenero</td>\n",
       "      <td>France</td>\n",
       "      <td>2014</td>\n",
       "      <td>70.0</td>\n",
       "    </tr>\n",
       "    <tr>\n",
       "      <th>6</th>\n",
       "      <td>A. Morin</td>\n",
       "      <td>Cuba</td>\n",
       "      <td>France</td>\n",
       "      <td>2014</td>\n",
       "      <td>70.0</td>\n",
       "    </tr>\n",
       "  </tbody>\n",
       "</table>\n",
       "</div>"
      ],
      "text/plain": [
       "    company specific_origin company_location  review_date  cocoa_percent\n",
       "1  A. Morin           Kpime           France         2015           70.0\n",
       "3  A. Morin           Akata           France         2015           70.0\n",
       "4  A. Morin          Quilla           France         2015           70.0\n",
       "5  A. Morin        Carenero           France         2014           70.0\n",
       "6  A. Morin            Cuba           France         2014           70.0"
      ]
     },
     "execution_count": 110,
     "metadata": {},
     "output_type": "execute_result"
    }
   ],
   "source": [
    "cacao_for_model = cacao.loc[:, ['company', 'specific_origin', 'company_location', 'review_date', 'cocoa_percent']]\n",
    "cacao_for_model.head()"
   ]
  },
  {
   "cell_type": "markdown",
   "id": "5bad48a9",
   "metadata": {},
   "source": [
    "# 2.7. Выводы\n",
    "## Настало время подвести выводы.\n",
    "\n",
    "Итак, в результате EDA для анализа влияния параметров шоколада на экспертную оценку шоколадных батончиков были получены следующие выводы:\n",
    "\n",
    "- В данных достаточно мало пустых значений, только столбец bean_type был заполнен в малом количестве случаев.\n",
    "- Выбросы найдены только в столбцах с рейтингом и содержанием какао в шоколаде батончиков, что позволяет сделать вывод о том, что данные достаточно чистые.\n",
    "- Положительная корреляция параметра review_date и rating может говорить о том, что с годами рейтинги потихоньку завышаются, либо батончики становятся лучше.\n",
    "- Самые важные параметры, которые предлагается использовать в дальнейшем для построения модели, это company, specific_origin, company_location, review_date и cocoa_percent."
   ]
  },
  {
   "cell_type": "code",
   "execution_count": null,
   "id": "82a8b044",
   "metadata": {},
   "outputs": [],
   "source": []
  }
 ],
 "metadata": {
  "kernelspec": {
   "display_name": "Python 3",
   "language": "python",
   "name": "python3"
  },
  "language_info": {
   "codemirror_mode": {
    "name": "ipython",
    "version": 3
   },
   "file_extension": ".py",
   "mimetype": "text/x-python",
   "name": "python",
   "nbconvert_exporter": "python",
   "pygments_lexer": "ipython3",
   "version": "3.8.8"
  },
  "varInspector": {
   "cols": {
    "lenName": 16,
    "lenType": 16,
    "lenVar": 40
   },
   "kernels_config": {
    "python": {
     "delete_cmd_postfix": "",
     "delete_cmd_prefix": "del ",
     "library": "var_list.py",
     "varRefreshCmd": "print(var_dic_list())"
    },
    "r": {
     "delete_cmd_postfix": ") ",
     "delete_cmd_prefix": "rm(",
     "library": "var_list.r",
     "varRefreshCmd": "cat(var_dic_list()) "
    }
   },
   "types_to_exclude": [
    "module",
    "function",
    "builtin_function_or_method",
    "instance",
    "_Feature"
   ],
   "window_display": false
  }
 },
 "nbformat": 4,
 "nbformat_minor": 5
}
