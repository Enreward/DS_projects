{
 "cells": [
  {
   "cell_type": "code",
   "execution_count": 8,
   "id": "26827f2f",
   "metadata": {},
   "outputs": [],
   "source": [
    "import os\n",
    "import io\n",
    "import sys\n",
    "import time\n",
    "import numpy as np\n",
    "import pandas as pd\n",
    "import requests as r\n",
    "from requests.exceptions import ConnectionError, Timeout\n",
    "import mysql.connector\n",
    "from pprint import pprint\n",
    "from datetime import datetime, date, timedelta\n",
    "from dotenv import dotenv_values\n",
    "from IPython.display import clear_output\n",
    "from mysql.connector.errors import Error as MySQK_Error\n",
    "\n",
    "pd.set_option('display.max_rows', 35)"
   ]
  },
  {
   "cell_type": "code",
   "execution_count": 9,
   "id": "a266faee",
   "metadata": {},
   "outputs": [],
   "source": [
    "ROOT_PATH = os.getcwd()\n",
    "SERVICE_ID_FILE = os.path.join(ROOT_PATH, 'id_services.csv')\n",
    "ENV_PATH = os.path.join(ROOT_PATH, '.env')\n",
    "MAIN_SQL_QUERY_FILE_PATH = os.path.join(ROOT_PATH, 'get_data_query.sql')\n",
    "OTHER_SQL_QUERY_FILE_PATH = os.path.join(ROOT_PATH, 'available_visits_sql_query.sql')\n",
    "\n",
    "DF_FILE_NAME = 'dataset.csv'\n",
    "\n",
    "if os.path.exists(ENV_PATH):\n",
    "    ENV_VAR = dotenv_values(ENV_PATH)\n",
    "\n",
    "df = pd.DataFrame()\n",
    "dataset_path = os.path.join(ROOT_PATH, DF_FILE_NAME)\n",
    "if os.path.exists(dataset_path):\n",
    "    df = pd.read_csv(dataset_path, sep=';')"
   ]
  },
  {
   "cell_type": "markdown",
   "id": "95f508ed",
   "metadata": {},
   "source": [
    "## Классы пользовательских исключений"
   ]
  },
  {
   "cell_type": "code",
   "execution_count": 10,
   "id": "1cec660f",
   "metadata": {},
   "outputs": [],
   "source": [
    "class DataError(Exception):\n",
    "    def __init__(self, *args):\n",
    "        if args:\n",
    "            self.message =  ' '.join(args)\n",
    "        else:\n",
    "            self.message = 'Data is empty.\\n'\n",
    "    def __str__(self):\n",
    "        return self.message\n"
   ]
  },
  {
   "cell_type": "markdown",
   "id": "d887776d",
   "metadata": {},
   "source": [
    "## Общие вспомогательные ф-ии"
   ]
  },
  {
   "cell_type": "code",
   "execution_count": 11,
   "id": "0ba94fae",
   "metadata": {},
   "outputs": [],
   "source": [
    "def to_df(data, columns=None):\n",
    "    \"\"\" преобразуем список кортежей в dataframe \"\"\"\n",
    "    return pd.DataFrame(np.array(data), columns=columns)\n",
    "\n",
    "def read_json_file(path):\n",
    "    \"\"\" Чтение json файла \"\"\"\n",
    "    with open(path, 'r', encoding='utf-8') as f:\n",
    "        data = json.load(f)\n",
    "    return data\n"
   ]
  },
  {
   "cell_type": "markdown",
   "id": "e78144c2",
   "metadata": {},
   "source": [
    "## Вспомогательные ф-ии для сбора внутренних данных"
   ]
  },
  {
   "cell_type": "code",
   "execution_count": 12,
   "id": "fd632a91",
   "metadata": {},
   "outputs": [],
   "source": [
    "def get_connection():\n",
    "    \"\"\" подключаемся к MySQL базе \"\"\"\n",
    "    conn = mysql.connector.connect(host=ENV_VAR['DB_HOST'],\n",
    "                                   port=ENV_VAR['DB_PORT'],\n",
    "                                   database=ENV_VAR['DB_NAME'],\n",
    "                                   user=ENV_VAR['DB_USER'],\n",
    "                                   password=ENV_VAR['DB_PASS'])\n",
    "    if conn.is_connected():\n",
    "        print('Connected to MySQL database')\n",
    "        return conn\n",
    "    else:\n",
    "        raise MySQK_Error\n",
    "\n",
    "def get_data(conn, sql_query, *args):\n",
    "    \"\"\" получаем данные из базы \"\"\"\n",
    "    try:\n",
    "        with conn.cursor() as cursor:\n",
    "            cursor.execute(sql_query, args)\n",
    "            return cursor.fetchall()\n",
    "    except MySQK_Error as e:\n",
    "        raise e\n"
   ]
  },
  {
   "cell_type": "code",
   "execution_count": 13,
   "id": "1b089f09",
   "metadata": {},
   "outputs": [
    {
     "ename": "KeyboardInterrupt",
     "evalue": "",
     "output_type": "error",
     "traceback": [
      "\u001b[1;31m---------------------------------------------------------------------------\u001b[0m",
      "\u001b[1;31mKeyboardInterrupt\u001b[0m                         Traceback (most recent call last)",
      "\u001b[1;32m<ipython-input-13-c761920b81b0>\u001b[0m in \u001b[0;36m<module>\u001b[1;34m\u001b[0m\n\u001b[1;32m----> 1\u001b[1;33m \u001b[1;32mraise\u001b[0m \u001b[0mKeyboardInterrupt\u001b[0m\u001b[1;33m\u001b[0m\u001b[1;33m\u001b[0m\u001b[0m\n\u001b[0m",
      "\u001b[1;31mKeyboardInterrupt\u001b[0m: "
     ]
    }
   ],
   "source": [
    "raise KeyboardInterrupt"
   ]
  },
  {
   "cell_type": "markdown",
   "id": "ead00e14",
   "metadata": {},
   "source": [
    "# Внутренние данные"
   ]
  },
  {
   "cell_type": "code",
   "execution_count": null,
   "id": "5d5f60c9",
   "metadata": {},
   "outputs": [],
   "source": [
    "sid_df = pd.read_csv(SERVICE_ID_FILE, sep=';')\n",
    "columns = ['id', 'service_id', 'cost', 'name', 'item_code', 'medical_specialty', \n",
    "           'amount_doctors', 'service_date', 'sales']\n"
   ]
  },
  {
   "cell_type": "code",
   "execution_count": null,
   "id": "4abf7784",
   "metadata": {
    "scrolled": false
   },
   "outputs": [],
   "source": [
    "df = pd.DataFrame(columns=columns)\n",
    "\n",
    "try:\n",
    "    mysql_conn = get_connection()\n",
    "except MySQK_Error as e:\n",
    "    print(e)\n",
    "    raise KeyboardInterrupt\n",
    "\n",
    "sql_query = None\n",
    "with open(MAIN_SQL_QUERY_FILE_PATH, 'r') as f:\n",
    "    sql_query = f.read()\n",
    "\n",
    "if not sql_query:\n",
    "    print('sql файл не прочитан')\n",
    "    raise KeyboardInterrupt\n",
    "    \n",
    "for sid in sid_df['sid']:   \n",
    "    data = None\n",
    "    for _ in range(3):\n",
    "        try:\n",
    "            data = get_data(mysql_conn, sql_query, sid)\n",
    "        except MySQK_Error as e:\n",
    "            print(e)\n",
    "            mysql_conn.close()\n",
    "            time.sleep(10)\n",
    "            mysql_conn = get_connection()\n",
    "            continue\n",
    "        else:\n",
    "            break\n",
    "    if not data:\n",
    "        raise DataError\n",
    "\n",
    "    temp_df = to_df(data, columns)\n",
    "    temp_df.loc[:, 'service_type'] = [sid_df.loc[sid_df['sid'] == sid]['type'].values[0] \n",
    "                                      for _ in range(temp_df.shape[0])]\n",
    "    df = pd.concat([df, temp_df])\n",
    "    clear_output()\n",
    "    display('df: ', df)\n",
    "\n",
    "if mysql_conn.is_connected():\n",
    "    mysql_conn.close()\n",
    "\n",
    "df.to_csv(os.path.join(ROOT_PATH, DF_FILE_NAME), encoding='utf-8', index=False, sep=';')"
   ]
  },
  {
   "cell_type": "code",
   "execution_count": null,
   "id": "d1a13b76",
   "metadata": {},
   "outputs": [],
   "source": [
    "raise KeyboardInterrupt"
   ]
  },
  {
   "cell_type": "markdown",
   "id": "2b18215c",
   "metadata": {},
   "source": [
    "# Уникальные услуги"
   ]
  },
  {
   "cell_type": "code",
   "execution_count": null,
   "id": "86ccd1f9",
   "metadata": {},
   "outputs": [],
   "source": [
    "f_path = os.path.join(ROOT_PATH, 'uniq_services.csv')\n",
    "unique_services = pd.read_csv(f_path, sep=';')"
   ]
  },
  {
   "cell_type": "code",
   "execution_count": null,
   "id": "6fdecd94",
   "metadata": {},
   "outputs": [],
   "source": [
    "def set_uniq_serv_feat(row):\n",
    "    row['unique_service'] = unique_services.loc[\n",
    "        unique_services['id'] == row['service_id']]['unique_service'].values[0]\n",
    "    return row\n"
   ]
  },
  {
   "cell_type": "code",
   "execution_count": null,
   "id": "9871d52d",
   "metadata": {
    "scrolled": true
   },
   "outputs": [],
   "source": [
    "df['unique_service'] = None\n",
    "df = df.apply(set_uniq_serv_feat, axis=1)\n",
    "df.to_csv(os.path.join(ROOT_PATH, DF_FILE_NAME), encoding='utf-8', index=False, sep=';')"
   ]
  },
  {
   "cell_type": "code",
   "execution_count": null,
   "id": "98d433d2",
   "metadata": {},
   "outputs": [],
   "source": [
    "raise KeyboardInterrupt"
   ]
  },
  {
   "cell_type": "markdown",
   "id": "b2f2776a",
   "metadata": {},
   "source": [
    "# Количество доступных приёмов в день"
   ]
  },
  {
   "cell_type": "code",
   "execution_count": null,
   "id": "4f2dee31",
   "metadata": {},
   "outputs": [],
   "source": [
    "def set_avail_recept_feat(row):\n",
    "    global mysql_conn\n",
    "    clear_output()\n",
    "    f_date = datetime.strptime(row['service_date'], '%d.%m.%Y').strftime('%Y-%m-%d')\n",
    "    sid = row['service_id']\n",
    "    data = None\n",
    "    \n",
    "    if not sql_query:\n",
    "        print('sql файл не прочитан')\n",
    "        raise KeyboardInterrupt\n",
    "    \n",
    "    for _ in range(3):\n",
    "        try:\n",
    "            data = get_data(mysql_conn, sql_query, f_date, sid, f_date)\n",
    "        except MySQK_Error as e:\n",
    "            print(e)\n",
    "            if mysql_conn.is_connected():\n",
    "                mysql_conn.close()\n",
    "            time.sleep(20)\n",
    "            mysql_conn = get_connection()\n",
    "            continue\n",
    "        else:\n",
    "            break\n",
    "\n",
    "    if not data:\n",
    "        raise DataError\n",
    "    \n",
    "    row['number_of_receptions'] = data[0][0]\n",
    "    display(row)\n",
    "    return row"
   ]
  },
  {
   "cell_type": "code",
   "execution_count": null,
   "id": "3aa88af9",
   "metadata": {},
   "outputs": [],
   "source": [
    "df['number_of_receptions'] = None\n",
    "\n",
    "try:\n",
    "    mysql_conn = get_connection()\n",
    "except MySQK_Error as e:\n",
    "    print(e)\n",
    "    raise KeyboardInterrupt\n",
    "\n",
    "with open(OTHER_SQL_QUERY_FILE_PATH, 'r') as f:\n",
    "    sql_query = f.read()\n",
    "    \n",
    "df = df.apply(set_avail_recept_feat, axis=1)\n",
    "\n",
    "if mysql_conn.is_connected():\n",
    "        mysql_conn.close()\n",
    "\n",
    "df.to_csv(os.path.join(ROOT_PATH, DF_FILE_NAME), encoding='utf-8', index=False, sep=';')"
   ]
  },
  {
   "cell_type": "code",
   "execution_count": null,
   "id": "55caf17a",
   "metadata": {
    "scrolled": true
   },
   "outputs": [],
   "source": [
    "df\n"
   ]
  },
  {
   "cell_type": "code",
   "execution_count": null,
   "id": "810780a1",
   "metadata": {},
   "outputs": [],
   "source": [
    "raise KeyboardInterrupt"
   ]
  },
  {
   "cell_type": "markdown",
   "id": "1b6fe7a0",
   "metadata": {},
   "source": [
    "# Внешние данные"
   ]
  },
  {
   "cell_type": "markdown",
   "id": "c7d9ac06",
   "metadata": {},
   "source": [
    "# Не используется\n",
    "\n",
    "## Курс доллара за указанную дату\n",
    "\n",
    "#### Информация о сервисе http://www.cbr.ru/development/SXML/\n",
    "\n",
    "Получить курсы для валют:\n",
    "url = http://www.cbr.ru/scripts/XML_daily.asp?date_req=02/03/2002"
   ]
  },
  {
   "cell_type": "code",
   "execution_count": null,
   "id": "7dfbd92b",
   "metadata": {},
   "outputs": [],
   "source": [
    "# import xml.etree.ElementTree as ET\n",
    "\n",
    "# def set_usd_cours_feat(row):\n",
    "#     row['USD_rate'] = usd_cours[row['service_date']]\n",
    "#     return row    \n",
    "    \n",
    "\n",
    "# def get_usd_cours(list_dates):\n",
    "#     try:\n",
    "#         courses = dict()\n",
    "#         for c_date in list_dates:\n",
    "#             clear_output()\n",
    "            \n",
    "#             f_date = (datetime.strptime(c_date, '%d.%m.%Y') - timedelta(days=1)).strftime('%d/%m/%Y')\n",
    "#             link = f'http://www.cbr.ru/scripts/XML_daily.asp?date_req={f_date}'\n",
    "\n",
    "#             for _ in range(5):\n",
    "#                 try:\n",
    "#                     response = r.get(link)\n",
    "#                     if response.status_code not in [200]:\n",
    "#                         time.sleep(15)\n",
    "#                         continue\n",
    "#                     print('Успешно: ', f_date, response.status_code)\n",
    "#                     break\n",
    "#                 except ConnectionError as e:\n",
    "#                     print('Ошибка соединения:\\n', e)\n",
    "#                     time.sleep(30)\n",
    "#                     continue\n",
    "#                 except Timeout as e:\n",
    "#                     print('Ошибка соединения:\\n', e)\n",
    "#                     time.sleep(120)\n",
    "#                     continue\n",
    "#             else:\n",
    "#                 print(f'Сервер не отвечал 5 раз подряд: {response.status_code}.\\n'\n",
    "#                       f'Операция прервана на \"{list(courses.keys())[-1]}\".')\n",
    "#                 return courses\n",
    "\n",
    "#             root = ET.fromstring(response.content)\n",
    "#             for elem in root:\n",
    "#                 if elem[1].text == 'USD':\n",
    "#                     courses[c_date] = float(elem[4].text.replace(',', '.'))\n",
    "#                     print(elem[1].text, elem[4].text)\n",
    "#                     break\n",
    "#             print(list(courses.keys())[-1], courses[list(courses.keys())[-1]])\n",
    "#             time.sleep(5)\n",
    "#         clear_output()\n",
    "#         print(f'Данные получены полностью.')\n",
    "#         return courses\n",
    "#     except KeyboardInterrupt:\n",
    "#         if len(list(courses.keys())) != 0:\n",
    "#             print(f'Операция прервана на \"{list(courses.keys())[-1]}\".')\n",
    "#         return courses\n",
    "#     except Exception as e:\n",
    "#         print('Неизвестная ошибка:\\n', e)\n",
    "#         if len(list(courses.keys())) != 0:\n",
    "#             print(f'Операция прервана на \"{list(courses.keys())[-1]}\".')\n",
    "#         return courses\n"
   ]
  },
  {
   "cell_type": "code",
   "execution_count": null,
   "id": "1275db24",
   "metadata": {},
   "outputs": [],
   "source": [
    "# usd_cours = get_usd_cours(df['service_date'].unique())\n",
    "# usd_cours"
   ]
  },
  {
   "cell_type": "code",
   "execution_count": null,
   "id": "51fcbb40",
   "metadata": {},
   "outputs": [],
   "source": [
    "# df['USD_rate'] = None\n",
    "# df = df.apply(set_usd_cours_feat, axis=1)\n",
    "# df.to_csv(os.path.join(ROOT_PATH, DF_FILE_NAME), encoding='utf-8', index=False, sep=';')"
   ]
  },
  {
   "cell_type": "code",
   "execution_count": null,
   "id": "6100b63c",
   "metadata": {},
   "outputs": [],
   "source": [
    "# df"
   ]
  },
  {
   "cell_type": "code",
   "execution_count": null,
   "id": "94e9eedb",
   "metadata": {},
   "outputs": [],
   "source": [
    "# import json\n",
    "# file_name = 'usd_courses.json'\n",
    "# if os.path.exists(os.path.join(ROOT_PATH, file_name)):\n",
    "#     mode = 'a'\n",
    "# else:\n",
    "#     mode = 'w'\n",
    "\n",
    "# with open(os.path.join(ROOT_PATH, file_name), mode) as f:\n",
    "#     json.dump(usd_cours, f)"
   ]
  },
  {
   "cell_type": "code",
   "execution_count": null,
   "id": "3bc11c95",
   "metadata": {},
   "outputs": [],
   "source": [
    "# raise KeyboardInterrupt"
   ]
  },
  {
   "cell_type": "markdown",
   "id": "a547703d",
   "metadata": {},
   "source": [
    "# Holidays"
   ]
  },
  {
   "cell_type": "code",
   "execution_count": null,
   "id": "add79ad7",
   "metadata": {},
   "outputs": [],
   "source": [
    "list_holidays = ['22.02.2017', '23.02.2017', '24.02.2017', '07.03.2017', '08.03.2017', '01.05.2017', \n",
    "'08.05.2017', '09.05.2017', '12.06.2017', '03.11.2017', '04.11.2017', '06.11.2017', '01.01.2018', \n",
    "'02.01.2018', '03.01.2018', '04.01.2018', '05.01.2018', '06.01.2018', '07.01.2018', '08.01.2018', \n",
    "'22.02.2018', '23.02.2018', '07.03.2018', '08.03.2018', '09.03.2018', '28.04.2018', '30.04.2018', \n",
    "'01.05.2018', '02.05.2018', '08.05.2018', '09.05.2018', '09.06.2018', '11.06.2018', '12.06.2018', \n",
    "'04.11.2018', '05.11.2018', '29.12.2018', '31.12.2018', '01.01.2019', '02.01.2019', '03.01.2019', \n",
    "'04.01.2019', '05.01.2019', '06.01.2019', '07.01.2019', '08.01.2019', '22.02.2019', '23.02.2019', \n",
    "'07.03.2019', '08.03.2019', '30.04.2019', '01.05.2019', '02.05.2019', '03.05.2019', '08.05.2019', \n",
    "'09.05.2019', '10.05.2019', '11.06.2019', '04.11.2019', '31.12.2019', '01.01.2020', '02.01.2020', \n",
    "'03.01.2020', '04.01.2020', '05.01.2020', '06.01.2020', '07.01.2020', '08.01.2020', '23.02.2020', \n",
    "'24.02.2020', '08.03.2020', '09.03.2020', '30.03.2020', '31.03.2020', '01.04.2020', '02.04.2020', \n",
    "'03.04.2020', '04.04.2020', '05.04.2020', '06.04.2020', '07.04.2020', '08.04.2020', '09.04.2020', \n",
    "'10.04.2020', '11.04.2020', '12.04.2020', '13.04.2020', '14.04.2020', '15.04.2020', '16.04.2020', \n",
    "'17.04.2020', '18.04.2020', '19.04.2020', '20.04.2020', '21.04.2020', '22.04.2020', '23.04.2020', \n",
    "'24.04.2020', '25.04.2020', '26.04.2020', '27.04.2020', '28.04.2020', '29.04.2020', '30.04.2020', \n",
    "'01.05.2020', '02.05.2020', '03.05.2020', '04.05.2020', '05.05.2020', '06.05.2020', '07.05.2020', \n",
    "'08.05.2020', '09.05.2020', '10.05.2020', '11.05.2020', '11.06.2020', '12.06.2020', '24.06.2020', \n",
    "'01.07.2020', '03.11.2020', '04.11.2020', '31.12.2020', '01.01.2021', '02.01.2021', '03.01.2021', \n",
    "'04.01.2021', '05.01.2021', '06.01.2021', '07.01.2021', '08.01.2021', '22.02.2021', '23.02.2021', \n",
    "'08.03.2021', '30.04.2021', '01.05.2021', '03.05.2021', '04.05.2021', '05.05.2021', '06.05.2021', \n",
    "'07.05.2021', '09.05.2021', '10.05.2021', '11.05.2021', '12.05.2021', '14.05.2021', '01.11.2021', \n",
    "'02.11.2021', '03.11.2021', '04.11.2021', '05.11.2021', '31.12.2021', '01.01.2022', '02.01.2022', \n",
    "'03.01.2022', '04.01.2022', '05.01.2022', '06.01.2022', '07.01.2022', '22.02.2022', '23.02.2022', \n",
    "'05.03.2022', '07.03.2022', '08.03.2022', '01.05.2022', '02.05.2022', '03.05.2022', '09.05.2022', \n",
    "'10.05.2022', '12.06.2022', '13.06.2022']\n"
   ]
  },
  {
   "cell_type": "code",
   "execution_count": null,
   "id": "ed2ab366",
   "metadata": {},
   "outputs": [],
   "source": [
    "def set_holiday_feat(row):\n",
    "    if row['service_date'] in list_holidays:\n",
    "        row['holiday'] = 1\n",
    "    else:\n",
    "        row['holiday'] = 0\n",
    "    return row"
   ]
  },
  {
   "cell_type": "code",
   "execution_count": null,
   "id": "98ecadad",
   "metadata": {},
   "outputs": [],
   "source": [
    "df['holiday'] = None\n",
    "df = df.apply(set_holiday_feat, axis=1)\n"
   ]
  },
  {
   "cell_type": "code",
   "execution_count": null,
   "id": "b17a38dd",
   "metadata": {},
   "outputs": [],
   "source": [
    "df.to_csv(os.path.join(ROOT_PATH, DF_FILE_NAME), encoding='utf-8', index=False, sep=';')"
   ]
  },
  {
   "cell_type": "code",
   "execution_count": null,
   "id": "6dc78981",
   "metadata": {},
   "outputs": [],
   "source": [
    "raise KeyboardInterrupt"
   ]
  },
  {
   "cell_type": "markdown",
   "id": "425188f8",
   "metadata": {},
   "source": [
    "# Weekend days"
   ]
  },
  {
   "cell_type": "code",
   "execution_count": null,
   "id": "8a34b73d",
   "metadata": {},
   "outputs": [],
   "source": [
    "def set_weekend_feat(row):\n",
    "    weekend_days = [5, 6]\n",
    "    curr_date = datetime.strptime(row['service_date'], '%d.%m.%Y')\n",
    "    \n",
    "    if date(curr_date.year, curr_date.month, curr_date.day).weekday() in weekend_days:\n",
    "        row['weekend'] = 1\n",
    "    else:\n",
    "        row['weekend'] = 0\n",
    "    return row\n"
   ]
  },
  {
   "cell_type": "code",
   "execution_count": null,
   "id": "217b7a3c",
   "metadata": {},
   "outputs": [],
   "source": [
    "df['weekend'] = None\n",
    "df = df.apply(set_weekend_feat, axis=1)\n"
   ]
  },
  {
   "cell_type": "code",
   "execution_count": null,
   "id": "3a18fa9d",
   "metadata": {},
   "outputs": [],
   "source": [
    "df.to_csv(os.path.join(ROOT_PATH, DF_FILE_NAME), encoding='utf-8', index=False, sep=';')"
   ]
  },
  {
   "cell_type": "code",
   "execution_count": null,
   "id": "c71666f9",
   "metadata": {},
   "outputs": [],
   "source": [
    "df"
   ]
  },
  {
   "cell_type": "code",
   "execution_count": null,
   "id": "c2003fce",
   "metadata": {},
   "outputs": [],
   "source": [
    "raise KeyboardInterrupt"
   ]
  },
  {
   "cell_type": "markdown",
   "id": "af62b728",
   "metadata": {},
   "source": [
    "# Week days"
   ]
  },
  {
   "cell_type": "code",
   "execution_count": null,
   "id": "b4a8ae24",
   "metadata": {},
   "outputs": [],
   "source": [
    "def set_weekday_feat(row):\n",
    "    \"\"\"\n",
    "        Порядковый номер дня недели  начиная с 0 - понедельник.\n",
    "    \"\"\"\n",
    "    wds = {0:'Mon',\n",
    "           1:'Tue',\n",
    "           2:'Wed',\n",
    "           3:'Thu',\n",
    "           4:'Fri',\n",
    "           5:'Sat',\n",
    "           6:'Sun'}\n",
    "    cd = datetime.strptime(row['service_date'], '%d.%m.%Y')\n",
    "    wd = date(cd.year, cd.month, cd.day).weekday()\n",
    "    row['weekday'] = wds[wd]\n",
    "    return row\n"
   ]
  },
  {
   "cell_type": "code",
   "execution_count": null,
   "id": "342ca0d5",
   "metadata": {},
   "outputs": [],
   "source": [
    "df['weekday'] = None\n",
    "df = df.apply(set_weekday_feat, axis=1)\n"
   ]
  },
  {
   "cell_type": "code",
   "execution_count": null,
   "id": "69e5e049",
   "metadata": {},
   "outputs": [],
   "source": [
    "df.to_csv(os.path.join(ROOT_PATH, DF_FILE_NAME), encoding='utf-8', index=False, sep=';')"
   ]
  },
  {
   "cell_type": "code",
   "execution_count": null,
   "id": "0e74ecb4",
   "metadata": {},
   "outputs": [],
   "source": [
    "df"
   ]
  },
  {
   "cell_type": "code",
   "execution_count": null,
   "id": "aefc21ac",
   "metadata": {},
   "outputs": [],
   "source": [
    "raise KeyboardInterrupt"
   ]
  },
  {
   "cell_type": "markdown",
   "id": "8ee98f91",
   "metadata": {},
   "source": [
    "# Season"
   ]
  },
  {
   "cell_type": "code",
   "execution_count": null,
   "id": "d23b37c9",
   "metadata": {},
   "outputs": [],
   "source": [
    "def set_season_feat(row):\n",
    "    \n",
    "    ss = {'summer': [6, 7, 8],\n",
    "          'autumn': [9, 10, 11], \n",
    "          'winter': [1, 2, 12],\n",
    "          'spring': [3, 4, 5]\n",
    "         }\n",
    "    \n",
    "    curr_date = datetime.strptime(row['service_date'], '%d.%m.%Y')\n",
    "    if curr_date.month in ss['summer']:\n",
    "        row['season'] = 'summer'\n",
    "    elif curr_date.month in ss['autumn']:\n",
    "        row['season'] = 'autumn'\n",
    "    elif curr_date.month in ss['winter']:\n",
    "        row['season'] = 'winter'\n",
    "    elif curr_date.month in ss['spring']:\n",
    "        row['season'] = 'spring'\n",
    "    return row"
   ]
  },
  {
   "cell_type": "code",
   "execution_count": null,
   "id": "e89ef801",
   "metadata": {},
   "outputs": [],
   "source": [
    "df['season'] = None\n",
    "df = df.apply(set_season_feat, axis=1)\n"
   ]
  },
  {
   "cell_type": "code",
   "execution_count": null,
   "id": "272a2a6a",
   "metadata": {},
   "outputs": [],
   "source": [
    "df.to_csv(os.path.join(ROOT_PATH, DF_FILE_NAME), encoding='utf-8', index=False, sep=';')"
   ]
  },
  {
   "cell_type": "code",
   "execution_count": null,
   "id": "4b75b8eb",
   "metadata": {},
   "outputs": [],
   "source": [
    "df"
   ]
  },
  {
   "cell_type": "code",
   "execution_count": null,
   "id": "a46583d1",
   "metadata": {},
   "outputs": [],
   "source": [
    "raise KeyboardInterrupt"
   ]
  },
  {
   "cell_type": "markdown",
   "id": "852867bf",
   "metadata": {},
   "source": [
    "# Pandemic COVID-19"
   ]
  },
  {
   "cell_type": "code",
   "execution_count": null,
   "id": "c6b241bb",
   "metadata": {},
   "outputs": [],
   "source": [
    "def set_pandemic_feat(row):\n",
    "    if row['service_date'] in pandemic_dates:\n",
    "        row['pandemic'] = 1\n",
    "    else:\n",
    "        row['pandemic'] = 0\n",
    "    return row\n"
   ]
  },
  {
   "cell_type": "code",
   "execution_count": null,
   "id": "3a825cd1",
   "metadata": {},
   "outputs": [],
   "source": [
    "start_date = datetime(2020, 3, 11)\n",
    "end_date = datetime(2022, 7, 1)\n",
    "\n",
    "pandemic_dates = pd.date_range(start_date, end_date).strftime('%d.%m.%Y').tolist()"
   ]
  },
  {
   "cell_type": "code",
   "execution_count": null,
   "id": "25b510aa",
   "metadata": {
    "scrolled": true
   },
   "outputs": [],
   "source": [
    "pandemic_dates"
   ]
  },
  {
   "cell_type": "code",
   "execution_count": null,
   "id": "bc8c3a88",
   "metadata": {},
   "outputs": [],
   "source": [
    "df['pandemic'] = None\n",
    "df = df.apply(set_pandemic_feat, axis=1)\n"
   ]
  },
  {
   "cell_type": "code",
   "execution_count": null,
   "id": "94c58e27",
   "metadata": {},
   "outputs": [],
   "source": [
    "df.to_csv(os.path.join(ROOT_PATH, DF_FILE_NAME), encoding='utf-8', index=False, sep=';')"
   ]
  },
  {
   "cell_type": "code",
   "execution_count": null,
   "id": "4c4b5d6e",
   "metadata": {},
   "outputs": [],
   "source": [
    "df"
   ]
  },
  {
   "cell_type": "markdown",
   "id": "8a7187a1",
   "metadata": {},
   "source": [
    "Примерно половина всех приёмов, оказанных за период с 26.01.2017 по 05.08.2022 приходится на период пандемии."
   ]
  },
  {
   "cell_type": "code",
   "execution_count": null,
   "id": "1ab13fc5",
   "metadata": {},
   "outputs": [],
   "source": [
    "raise KeyboardInterrupt"
   ]
  },
  {
   "cell_type": "markdown",
   "id": "565a264b",
   "metadata": {},
   "source": [
    "# Month"
   ]
  },
  {
   "cell_type": "code",
   "execution_count": null,
   "id": "133aca27",
   "metadata": {},
   "outputs": [],
   "source": [
    "def set_month_feat(row):\n",
    "    month_names = {\n",
    "        1: 'Jan',\n",
    "        2: 'Feb',\n",
    "        3: 'Mar',\n",
    "        4: 'Apr',\n",
    "        5: 'May',\n",
    "        6: 'Jun',\n",
    "        7: 'Jul',\n",
    "        8: 'Aug',\n",
    "        9: 'Sep',\n",
    "        10: 'Oct',\n",
    "        11: 'Nov',\n",
    "        12: 'Dec'\n",
    "    }\n",
    "    curr_month = datetime.strptime(row['service_date'], '%d.%m.%Y').month\n",
    "    row['month'] = month_names[curr_month]\n",
    "    return row\n"
   ]
  },
  {
   "cell_type": "code",
   "execution_count": null,
   "id": "1d67175e",
   "metadata": {},
   "outputs": [],
   "source": [
    "df['month'] = None\n",
    "df = df.apply(set_month_feat, axis=1)\n"
   ]
  },
  {
   "cell_type": "code",
   "execution_count": 16,
   "id": "0e98b908",
   "metadata": {},
   "outputs": [],
   "source": [
    "df.drop('profit', axis=1, inplace=True)"
   ]
  },
  {
   "cell_type": "code",
   "execution_count": 29,
   "id": "82dac93d",
   "metadata": {},
   "outputs": [],
   "source": [
    "df.to_csv(os.path.join(ROOT_PATH, DF_FILE_NAME), encoding='utf-8', index=False, sep=';')"
   ]
  },
  {
   "cell_type": "code",
   "execution_count": null,
   "id": "2493e2a6",
   "metadata": {},
   "outputs": [],
   "source": [
    "raise KeyboardInterrupt"
   ]
  },
  {
   "cell_type": "code",
   "execution_count": 32,
   "id": "cd897434",
   "metadata": {},
   "outputs": [
    {
     "data": {
      "text/html": [
       "<div>\n",
       "<style scoped>\n",
       "    .dataframe tbody tr th:only-of-type {\n",
       "        vertical-align: middle;\n",
       "    }\n",
       "\n",
       "    .dataframe tbody tr th {\n",
       "        vertical-align: top;\n",
       "    }\n",
       "\n",
       "    .dataframe thead th {\n",
       "        text-align: right;\n",
       "    }\n",
       "</style>\n",
       "<table border=\"1\" class=\"dataframe\">\n",
       "  <thead>\n",
       "    <tr style=\"text-align: right;\">\n",
       "      <th></th>\n",
       "      <th>service_id</th>\n",
       "      <th>cost</th>\n",
       "      <th>name</th>\n",
       "      <th>item_code</th>\n",
       "      <th>medical_specialty</th>\n",
       "      <th>amount_doctors</th>\n",
       "      <th>service_date</th>\n",
       "      <th>sales</th>\n",
       "      <th>service_type</th>\n",
       "      <th>weekend</th>\n",
       "      <th>weekday</th>\n",
       "      <th>holiday</th>\n",
       "      <th>season</th>\n",
       "      <th>unique_service</th>\n",
       "      <th>pandemic</th>\n",
       "      <th>month</th>\n",
       "    </tr>\n",
       "  </thead>\n",
       "  <tbody>\n",
       "    <tr>\n",
       "      <th>0</th>\n",
       "      <td>3100</td>\n",
       "      <td>600</td>\n",
       "      <td>Прием (осмотр, консультация) врача-акушера-гин...</td>\n",
       "      <td>В01.001.001</td>\n",
       "      <td>акушерство и гинекология</td>\n",
       "      <td>1</td>\n",
       "      <td>26.01.2017</td>\n",
       "      <td>7</td>\n",
       "      <td>Приёмы</td>\n",
       "      <td>0</td>\n",
       "      <td>Thu</td>\n",
       "      <td>0</td>\n",
       "      <td>winter</td>\n",
       "      <td>0</td>\n",
       "      <td>0</td>\n",
       "      <td>Jan</td>\n",
       "    </tr>\n",
       "    <tr>\n",
       "      <th>1</th>\n",
       "      <td>3100</td>\n",
       "      <td>600</td>\n",
       "      <td>Прием (осмотр, консультация) врача-акушера-гин...</td>\n",
       "      <td>В01.001.001</td>\n",
       "      <td>акушерство и гинекология</td>\n",
       "      <td>1</td>\n",
       "      <td>27.01.2017</td>\n",
       "      <td>1</td>\n",
       "      <td>Приёмы</td>\n",
       "      <td>0</td>\n",
       "      <td>Fri</td>\n",
       "      <td>0</td>\n",
       "      <td>winter</td>\n",
       "      <td>0</td>\n",
       "      <td>0</td>\n",
       "      <td>Jan</td>\n",
       "    </tr>\n",
       "    <tr>\n",
       "      <th>2</th>\n",
       "      <td>3100</td>\n",
       "      <td>600</td>\n",
       "      <td>Прием (осмотр, консультация) врача-акушера-гин...</td>\n",
       "      <td>В01.001.001</td>\n",
       "      <td>акушерство и гинекология</td>\n",
       "      <td>2</td>\n",
       "      <td>28.01.2017</td>\n",
       "      <td>8</td>\n",
       "      <td>Приёмы</td>\n",
       "      <td>1</td>\n",
       "      <td>Sat</td>\n",
       "      <td>0</td>\n",
       "      <td>winter</td>\n",
       "      <td>0</td>\n",
       "      <td>0</td>\n",
       "      <td>Jan</td>\n",
       "    </tr>\n",
       "    <tr>\n",
       "      <th>3</th>\n",
       "      <td>3100</td>\n",
       "      <td>600</td>\n",
       "      <td>Прием (осмотр, консультация) врача-акушера-гин...</td>\n",
       "      <td>В01.001.001</td>\n",
       "      <td>акушерство и гинекология</td>\n",
       "      <td>1</td>\n",
       "      <td>29.01.2017</td>\n",
       "      <td>4</td>\n",
       "      <td>Приёмы</td>\n",
       "      <td>1</td>\n",
       "      <td>Sun</td>\n",
       "      <td>0</td>\n",
       "      <td>winter</td>\n",
       "      <td>0</td>\n",
       "      <td>0</td>\n",
       "      <td>Jan</td>\n",
       "    </tr>\n",
       "    <tr>\n",
       "      <th>4</th>\n",
       "      <td>3100</td>\n",
       "      <td>600</td>\n",
       "      <td>Прием (осмотр, консультация) врача-акушера-гин...</td>\n",
       "      <td>В01.001.001</td>\n",
       "      <td>акушерство и гинекология</td>\n",
       "      <td>3</td>\n",
       "      <td>30.01.2017</td>\n",
       "      <td>4</td>\n",
       "      <td>Приёмы</td>\n",
       "      <td>0</td>\n",
       "      <td>Mon</td>\n",
       "      <td>0</td>\n",
       "      <td>winter</td>\n",
       "      <td>0</td>\n",
       "      <td>0</td>\n",
       "      <td>Jan</td>\n",
       "    </tr>\n",
       "    <tr>\n",
       "      <th>...</th>\n",
       "      <td>...</td>\n",
       "      <td>...</td>\n",
       "      <td>...</td>\n",
       "      <td>...</td>\n",
       "      <td>...</td>\n",
       "      <td>...</td>\n",
       "      <td>...</td>\n",
       "      <td>...</td>\n",
       "      <td>...</td>\n",
       "      <td>...</td>\n",
       "      <td>...</td>\n",
       "      <td>...</td>\n",
       "      <td>...</td>\n",
       "      <td>...</td>\n",
       "      <td>...</td>\n",
       "      <td>...</td>\n",
       "    </tr>\n",
       "    <tr>\n",
       "      <th>143818</th>\n",
       "      <td>120853</td>\n",
       "      <td>5000</td>\n",
       "      <td>Видеоколоноскопия</td>\n",
       "      <td>A03.18.001</td>\n",
       "      <td>эндоскопия</td>\n",
       "      <td>1</td>\n",
       "      <td>13.07.2022</td>\n",
       "      <td>1</td>\n",
       "      <td>Функциональная Диагностика</td>\n",
       "      <td>0</td>\n",
       "      <td>Wed</td>\n",
       "      <td>0</td>\n",
       "      <td>summer</td>\n",
       "      <td>0</td>\n",
       "      <td>0</td>\n",
       "      <td>Jul</td>\n",
       "    </tr>\n",
       "    <tr>\n",
       "      <th>143819</th>\n",
       "      <td>120853</td>\n",
       "      <td>5000</td>\n",
       "      <td>Видеоколоноскопия</td>\n",
       "      <td>A03.18.001</td>\n",
       "      <td>эндоскопия</td>\n",
       "      <td>1</td>\n",
       "      <td>16.07.2022</td>\n",
       "      <td>2</td>\n",
       "      <td>Функциональная Диагностика</td>\n",
       "      <td>1</td>\n",
       "      <td>Sat</td>\n",
       "      <td>0</td>\n",
       "      <td>summer</td>\n",
       "      <td>0</td>\n",
       "      <td>0</td>\n",
       "      <td>Jul</td>\n",
       "    </tr>\n",
       "    <tr>\n",
       "      <th>143820</th>\n",
       "      <td>120853</td>\n",
       "      <td>5000</td>\n",
       "      <td>Видеоколоноскопия</td>\n",
       "      <td>A03.18.001</td>\n",
       "      <td>эндоскопия</td>\n",
       "      <td>1</td>\n",
       "      <td>21.07.2022</td>\n",
       "      <td>1</td>\n",
       "      <td>Функциональная Диагностика</td>\n",
       "      <td>0</td>\n",
       "      <td>Thu</td>\n",
       "      <td>0</td>\n",
       "      <td>summer</td>\n",
       "      <td>0</td>\n",
       "      <td>0</td>\n",
       "      <td>Jul</td>\n",
       "    </tr>\n",
       "    <tr>\n",
       "      <th>143821</th>\n",
       "      <td>120853</td>\n",
       "      <td>5000</td>\n",
       "      <td>Видеоколоноскопия</td>\n",
       "      <td>A03.18.001</td>\n",
       "      <td>эндоскопия</td>\n",
       "      <td>1</td>\n",
       "      <td>29.07.2022</td>\n",
       "      <td>1</td>\n",
       "      <td>Функциональная Диагностика</td>\n",
       "      <td>0</td>\n",
       "      <td>Fri</td>\n",
       "      <td>0</td>\n",
       "      <td>summer</td>\n",
       "      <td>0</td>\n",
       "      <td>0</td>\n",
       "      <td>Jul</td>\n",
       "    </tr>\n",
       "    <tr>\n",
       "      <th>143822</th>\n",
       "      <td>120853</td>\n",
       "      <td>5000</td>\n",
       "      <td>Видеоколоноскопия</td>\n",
       "      <td>A03.18.001</td>\n",
       "      <td>эндоскопия</td>\n",
       "      <td>1</td>\n",
       "      <td>01.08.2022</td>\n",
       "      <td>1</td>\n",
       "      <td>Функциональная Диагностика</td>\n",
       "      <td>0</td>\n",
       "      <td>Mon</td>\n",
       "      <td>0</td>\n",
       "      <td>summer</td>\n",
       "      <td>0</td>\n",
       "      <td>0</td>\n",
       "      <td>Aug</td>\n",
       "    </tr>\n",
       "  </tbody>\n",
       "</table>\n",
       "<p>143823 rows × 16 columns</p>\n",
       "</div>"
      ],
      "text/plain": [
       "        service_id  cost                                               name  \\\n",
       "0             3100   600  Прием (осмотр, консультация) врача-акушера-гин...   \n",
       "1             3100   600  Прием (осмотр, консультация) врача-акушера-гин...   \n",
       "2             3100   600  Прием (осмотр, консультация) врача-акушера-гин...   \n",
       "3             3100   600  Прием (осмотр, консультация) врача-акушера-гин...   \n",
       "4             3100   600  Прием (осмотр, консультация) врача-акушера-гин...   \n",
       "...            ...   ...                                                ...   \n",
       "143818      120853  5000                                  Видеоколоноскопия   \n",
       "143819      120853  5000                                  Видеоколоноскопия   \n",
       "143820      120853  5000                                  Видеоколоноскопия   \n",
       "143821      120853  5000                                  Видеоколоноскопия   \n",
       "143822      120853  5000                                  Видеоколоноскопия   \n",
       "\n",
       "          item_code         medical_specialty  amount_doctors service_date  \\\n",
       "0       В01.001.001  акушерство и гинекология               1   26.01.2017   \n",
       "1       В01.001.001  акушерство и гинекология               1   27.01.2017   \n",
       "2       В01.001.001  акушерство и гинекология               2   28.01.2017   \n",
       "3       В01.001.001  акушерство и гинекология               1   29.01.2017   \n",
       "4       В01.001.001  акушерство и гинекология               3   30.01.2017   \n",
       "...             ...                       ...             ...          ...   \n",
       "143818   A03.18.001                эндоскопия               1   13.07.2022   \n",
       "143819   A03.18.001                эндоскопия               1   16.07.2022   \n",
       "143820   A03.18.001                эндоскопия               1   21.07.2022   \n",
       "143821   A03.18.001                эндоскопия               1   29.07.2022   \n",
       "143822   A03.18.001                эндоскопия               1   01.08.2022   \n",
       "\n",
       "        sales                service_type  weekend weekday  holiday  season  \\\n",
       "0           7                      Приёмы        0     Thu        0  winter   \n",
       "1           1                      Приёмы        0     Fri        0  winter   \n",
       "2           8                      Приёмы        1     Sat        0  winter   \n",
       "3           4                      Приёмы        1     Sun        0  winter   \n",
       "4           4                      Приёмы        0     Mon        0  winter   \n",
       "...       ...                         ...      ...     ...      ...     ...   \n",
       "143818      1  Функциональная Диагностика        0     Wed        0  summer   \n",
       "143819      2  Функциональная Диагностика        1     Sat        0  summer   \n",
       "143820      1  Функциональная Диагностика        0     Thu        0  summer   \n",
       "143821      1  Функциональная Диагностика        0     Fri        0  summer   \n",
       "143822      1  Функциональная Диагностика        0     Mon        0  summer   \n",
       "\n",
       "        unique_service  pandemic month  \n",
       "0                    0         0   Jan  \n",
       "1                    0         0   Jan  \n",
       "2                    0         0   Jan  \n",
       "3                    0         0   Jan  \n",
       "4                    0         0   Jan  \n",
       "...                ...       ...   ...  \n",
       "143818               0         0   Jul  \n",
       "143819               0         0   Jul  \n",
       "143820               0         0   Jul  \n",
       "143821               0         0   Jul  \n",
       "143822               0         0   Aug  \n",
       "\n",
       "[143823 rows x 16 columns]"
      ]
     },
     "execution_count": 32,
     "metadata": {},
     "output_type": "execute_result"
    }
   ],
   "source": [
    "df"
   ]
  }
 ],
 "metadata": {
  "kernelspec": {
   "display_name": "Python 3",
   "language": "python",
   "name": "python3"
  },
  "language_info": {
   "codemirror_mode": {
    "name": "ipython",
    "version": 3
   },
   "file_extension": ".py",
   "mimetype": "text/x-python",
   "name": "python",
   "nbconvert_exporter": "python",
   "pygments_lexer": "ipython3",
   "version": "3.8.8"
  },
  "varInspector": {
   "cols": {
    "lenName": 16,
    "lenType": 16,
    "lenVar": 40
   },
   "kernels_config": {
    "python": {
     "delete_cmd_postfix": "",
     "delete_cmd_prefix": "del ",
     "library": "var_list.py",
     "varRefreshCmd": "print(var_dic_list())"
    },
    "r": {
     "delete_cmd_postfix": ") ",
     "delete_cmd_prefix": "rm(",
     "library": "var_list.r",
     "varRefreshCmd": "cat(var_dic_list()) "
    }
   },
   "types_to_exclude": [
    "module",
    "function",
    "builtin_function_or_method",
    "instance",
    "_Feature"
   ],
   "window_display": false
  }
 },
 "nbformat": 4,
 "nbformat_minor": 5
}
