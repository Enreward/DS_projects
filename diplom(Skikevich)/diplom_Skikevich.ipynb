{
  "metadata": {
    "kernelspec": {
      "language": "python",
      "display_name": "Python 3",
      "name": "python3"
    },
    "language_info": {
      "name": "python",
      "version": "3.7.12",
      "mimetype": "text/x-python",
      "codemirror_mode": {
        "name": "ipython",
        "version": 3
      },
      "pygments_lexer": "ipython3",
      "nbconvert_exporter": "python",
      "file_extension": ".py"
    },
    "colab": {
      "provenance": [],
      "collapsed_sections": [],
      "toc_visible": true
    }
  },
  "nbformat_minor": 0,
  "nbformat": 4,
  "cells": [
    {
      "cell_type": "code",
      "source": [
        "is_colab = True"
      ],
      "metadata": {
        "id": "uLJVCfN_47Zi",
        "execution": {
          "iopub.status.busy": "2022-09-15T10:34:56.512626Z",
          "iopub.execute_input": "2022-09-15T10:34:56.513121Z",
          "iopub.status.idle": "2022-09-15T10:34:56.540640Z",
          "shell.execute_reply.started": "2022-09-15T10:34:56.513018Z",
          "shell.execute_reply": "2022-09-15T10:34:56.539639Z"
        },
        "trusted": true
      },
      "execution_count": 1,
      "outputs": []
    },
    {
      "cell_type": "markdown",
      "source": [
        "# Дипломный проект\n",
        "Интеллектуальная система оптимизации ценообразования услуг частного медицинского центра."
      ],
      "metadata": {
        "id": "Rmzi3z8bgJOn"
      }
    },
    {
      "cell_type": "markdown",
      "source": [
        "# Этапы работы\n",
        "\n",
        "1. Цель\n",
        "1. Задачи\n",
        "1. Введение\n",
        "1. Модели\n",
        "1. Выбор метрики оценивания\n",
        "1. Осмотр данных\n",
        "1. Наивная модель\n",
        "1. EDA\n",
        "1. Корреляционный анализ\n",
        "1. Обучение \n",
        "1. Выводы\n",
        "1. Итоги\n"
      ],
      "metadata": {
        "id": "ySMNqc3M3q6Y"
      }
    },
    {
      "cell_type": "markdown",
      "source": [
        "# Цели\n",
        "1. Изучить задачу оптимизации цены с точки зрения бизнеса.\n",
        "1. Разработать модель машинного обучения, прогнозирующую величину продаж услуг для использования в интеллектуальной системе ценовой оптимизации частного медицинского центра."
      ],
      "metadata": {
        "id": "xpwFJsIkgJFz"
      }
    },
    {
      "cell_type": "markdown",
      "source": [
        "# Задачи\n",
        "- Выбрать метрику оценивания;\n",
        "- Собрать данные из внутренних и внешних источников;\n",
        "- Осмотреть данные;\n",
        "- Разработать наивную модель;\n",
        "- Провести EDA;\n",
        "- Разработать и протестировать различные модели.\n",
        "- Выбрать финальную модель и проанализировать некоторые услуги по предсказаниям выбранной модели."
      ],
      "metadata": {
        "id": "AT0cyclHgI8H"
      }
    },
    {
      "cell_type": "markdown",
      "source": [
        "# Введение\n",
        "\n",
        "Любой алгоритм ценовой оптимизации должен каким-либо\n",
        "образом моделировать функцию спроса, а затем использовать эту\n",
        "смоделированную функцию для расчета оптимальных цен.\n",
        "\n",
        "В условиях реального медицинского центра получить данные о кривой спроса не представляется возможным, ведь спрос на получение медицинских услуг зависит от демографических, социальных и экономических особенностей потребителя. Собрать достоверные данные за достаточно большой период весьма сложно. Однако, реальный спрос можно заменить количеством продаж услуг и смоделировать его зависимость от изменения цен и других внешних и внутренних факторов, что и было выполнено в данной работе."
      ],
      "metadata": {
        "id": "URXW3DEvbzD1"
      }
    },
    {
      "cell_type": "markdown",
      "source": [
        "#  Модели\n",
        "Для поставленной цели были выбраны модели на основе градиентного бустинга потому что по заявлениям большинства практикующих Data Scientist'ов данные модели лучше всего справляются с задачей предсказания спроса."
      ],
      "metadata": {
        "id": "qmH-ZtKuDnzS"
      }
    },
    {
      "cell_type": "markdown",
      "source": [
        "# Выбор метрики оценивания\n",
        "\n",
        "Т.к. предстоит решать задачу регрессии то для оценки предсказательной способности модели я выбрал метрику RMSE - корень из средне-квадратической ошибки.\n",
        "\n",
        "![image.png](data:image/png;base64,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)\n",
        "\n",
        "\n",
        "Чтобы видеть куда смещён прогноз относительно фактических значений и на сколько процентов я выбрал метрику MPE - средняя процентная ошибка. Если MPE отрицательна - модель завышает прогноз, если положительна - модель занижает прогноз. Стремится к 0.\n",
        "\n",
        "![image.png](data:image/png;base64,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)\n"
      ],
      "metadata": {
        "id": "JbHo_AnQ13LX"
      }
    },
    {
      "cell_type": "markdown",
      "source": [
        "# Загрузка библиотек"
      ],
      "metadata": {
        "id": "dt_KuLXU3w6F"
      }
    },
    {
      "cell_type": "code",
      "source": [
        "!nvidia-smi"
      ],
      "metadata": {
        "id": "ZQDD3Ms4idYj",
        "outputId": "19e4b0f4-83d9-4851-ebe2-6ed25b2f1baa",
        "colab": {
          "base_uri": "https://localhost:8080/"
        },
        "execution": {
          "iopub.status.busy": "2022-09-15T10:34:56.670870Z",
          "iopub.execute_input": "2022-09-15T10:34:56.671312Z",
          "iopub.status.idle": "2022-09-15T10:34:57.716197Z",
          "shell.execute_reply.started": "2022-09-15T10:34:56.671278Z",
          "shell.execute_reply": "2022-09-15T10:34:57.715031Z"
        },
        "trusted": true
      },
      "execution_count": 2,
      "outputs": [
        {
          "output_type": "stream",
          "name": "stdout",
          "text": [
            "NVIDIA-SMI has failed because it couldn't communicate with the NVIDIA driver. Make sure that the latest NVIDIA driver is installed and running.\n",
            "\n"
          ]
        }
      ]
    },
    {
      "cell_type": "code",
      "source": [
        "!pip install feature-engine"
      ],
      "metadata": {
        "id": "xIj1ly5-l0KE",
        "outputId": "eb8b3d96-8843-4b0e-8215-c0e9185a51a2",
        "colab": {
          "base_uri": "https://localhost:8080/"
        },
        "execution": {
          "iopub.status.busy": "2022-09-15T10:34:57.718549Z",
          "iopub.execute_input": "2022-09-15T10:34:57.719061Z",
          "iopub.status.idle": "2022-09-15T10:35:12.638759Z",
          "shell.execute_reply.started": "2022-09-15T10:34:57.719006Z",
          "shell.execute_reply": "2022-09-15T10:35:12.637421Z"
        },
        "trusted": true
      },
      "execution_count": 3,
      "outputs": [
        {
          "output_type": "stream",
          "name": "stdout",
          "text": [
            "Looking in indexes: https://pypi.org/simple, https://us-python.pkg.dev/colab-wheels/public/simple/\n",
            "Collecting feature-engine\n",
            "  Downloading feature_engine-1.4.0-py2.py3-none-any.whl (276 kB)\n",
            "\u001b[K     |████████████████████████████████| 276 kB 2.2 MB/s \n",
            "\u001b[?25hRequirement already satisfied: statsmodels>=0.11.1 in /usr/local/lib/python3.7/dist-packages (from feature-engine) (0.12.2)\n",
            "Requirement already satisfied: scipy>=1.4.1 in /usr/local/lib/python3.7/dist-packages (from feature-engine) (1.7.3)\n",
            "Requirement already satisfied: numpy>=1.18.2 in /usr/local/lib/python3.7/dist-packages (from feature-engine) (1.21.6)\n",
            "Requirement already satisfied: scikit-learn>=1.0.0 in /usr/local/lib/python3.7/dist-packages (from feature-engine) (1.0.2)\n",
            "Requirement already satisfied: pandas>=1.0.3 in /usr/local/lib/python3.7/dist-packages (from feature-engine) (1.3.5)\n",
            "Requirement already satisfied: python-dateutil>=2.7.3 in /usr/local/lib/python3.7/dist-packages (from pandas>=1.0.3->feature-engine) (2.8.2)\n",
            "Requirement already satisfied: pytz>=2017.3 in /usr/local/lib/python3.7/dist-packages (from pandas>=1.0.3->feature-engine) (2022.2.1)\n",
            "Requirement already satisfied: six>=1.5 in /usr/local/lib/python3.7/dist-packages (from python-dateutil>=2.7.3->pandas>=1.0.3->feature-engine) (1.15.0)\n",
            "Requirement already satisfied: threadpoolctl>=2.0.0 in /usr/local/lib/python3.7/dist-packages (from scikit-learn>=1.0.0->feature-engine) (3.1.0)\n",
            "Requirement already satisfied: joblib>=0.11 in /usr/local/lib/python3.7/dist-packages (from scikit-learn>=1.0.0->feature-engine) (1.1.0)\n",
            "Requirement already satisfied: patsy>=0.5 in /usr/local/lib/python3.7/dist-packages (from statsmodels>=0.11.1->feature-engine) (0.5.2)\n",
            "Installing collected packages: feature-engine\n",
            "Successfully installed feature-engine-1.4.0\n"
          ]
        }
      ]
    },
    {
      "cell_type": "code",
      "source": [
        "!pip install lightgbm "
      ],
      "metadata": {
        "id": "UKDhWoyu32SE",
        "outputId": "e34595f6-08e7-4a88-cf32-9c7caa989fff",
        "colab": {
          "base_uri": "https://localhost:8080/"
        },
        "execution": {
          "iopub.status.busy": "2022-09-15T10:35:12.641338Z",
          "iopub.execute_input": "2022-09-15T10:35:12.642196Z",
          "iopub.status.idle": "2022-09-15T10:35:23.622946Z",
          "shell.execute_reply.started": "2022-09-15T10:35:12.642136Z",
          "shell.execute_reply": "2022-09-15T10:35:23.621038Z"
        },
        "trusted": true
      },
      "execution_count": 4,
      "outputs": [
        {
          "output_type": "stream",
          "name": "stdout",
          "text": [
            "Looking in indexes: https://pypi.org/simple, https://us-python.pkg.dev/colab-wheels/public/simple/\n",
            "Requirement already satisfied: lightgbm in /usr/local/lib/python3.7/dist-packages (2.2.3)\n",
            "Requirement already satisfied: scipy in /usr/local/lib/python3.7/dist-packages (from lightgbm) (1.7.3)\n",
            "Requirement already satisfied: scikit-learn in /usr/local/lib/python3.7/dist-packages (from lightgbm) (1.0.2)\n",
            "Requirement already satisfied: numpy in /usr/local/lib/python3.7/dist-packages (from lightgbm) (1.21.6)\n",
            "Requirement already satisfied: threadpoolctl>=2.0.0 in /usr/local/lib/python3.7/dist-packages (from scikit-learn->lightgbm) (3.1.0)\n",
            "Requirement already satisfied: joblib>=0.11 in /usr/local/lib/python3.7/dist-packages (from scikit-learn->lightgbm) (1.1.0)\n"
          ]
        }
      ]
    },
    {
      "cell_type": "code",
      "source": [
        "!pip install catboost"
      ],
      "metadata": {
        "id": "WcoXnW4T32fy",
        "outputId": "34f60072-199d-47fb-aec6-fe1df0acb6e6",
        "colab": {
          "base_uri": "https://localhost:8080/"
        },
        "execution": {
          "iopub.status.busy": "2022-09-15T10:35:23.626867Z",
          "iopub.execute_input": "2022-09-15T10:35:23.628389Z",
          "iopub.status.idle": "2022-09-15T10:35:34.690985Z",
          "shell.execute_reply.started": "2022-09-15T10:35:23.628320Z",
          "shell.execute_reply": "2022-09-15T10:35:34.689485Z"
        },
        "trusted": true
      },
      "execution_count": 5,
      "outputs": [
        {
          "output_type": "stream",
          "name": "stdout",
          "text": [
            "Looking in indexes: https://pypi.org/simple, https://us-python.pkg.dev/colab-wheels/public/simple/\n",
            "Collecting catboost\n",
            "  Downloading catboost-1.1-cp37-none-manylinux1_x86_64.whl (76.8 MB)\n",
            "\u001b[K     |████████████████████████████████| 76.8 MB 1.2 MB/s \n",
            "\u001b[?25hRequirement already satisfied: pandas>=0.24.0 in /usr/local/lib/python3.7/dist-packages (from catboost) (1.3.5)\n",
            "Requirement already satisfied: scipy in /usr/local/lib/python3.7/dist-packages (from catboost) (1.7.3)\n",
            "Requirement already satisfied: six in /usr/local/lib/python3.7/dist-packages (from catboost) (1.15.0)\n",
            "Requirement already satisfied: matplotlib in /usr/local/lib/python3.7/dist-packages (from catboost) (3.2.2)\n",
            "Requirement already satisfied: plotly in /usr/local/lib/python3.7/dist-packages (from catboost) (5.5.0)\n",
            "Requirement already satisfied: numpy>=1.16.0 in /usr/local/lib/python3.7/dist-packages (from catboost) (1.21.6)\n",
            "Requirement already satisfied: graphviz in /usr/local/lib/python3.7/dist-packages (from catboost) (0.10.1)\n",
            "Requirement already satisfied: python-dateutil>=2.7.3 in /usr/local/lib/python3.7/dist-packages (from pandas>=0.24.0->catboost) (2.8.2)\n",
            "Requirement already satisfied: pytz>=2017.3 in /usr/local/lib/python3.7/dist-packages (from pandas>=0.24.0->catboost) (2022.2.1)\n",
            "Requirement already satisfied: pyparsing!=2.0.4,!=2.1.2,!=2.1.6,>=2.0.1 in /usr/local/lib/python3.7/dist-packages (from matplotlib->catboost) (3.0.9)\n",
            "Requirement already satisfied: kiwisolver>=1.0.1 in /usr/local/lib/python3.7/dist-packages (from matplotlib->catboost) (1.4.4)\n",
            "Requirement already satisfied: cycler>=0.10 in /usr/local/lib/python3.7/dist-packages (from matplotlib->catboost) (0.11.0)\n",
            "Requirement already satisfied: typing-extensions in /usr/local/lib/python3.7/dist-packages (from kiwisolver>=1.0.1->matplotlib->catboost) (4.1.1)\n",
            "Requirement already satisfied: tenacity>=6.2.0 in /usr/local/lib/python3.7/dist-packages (from plotly->catboost) (8.0.1)\n",
            "Installing collected packages: catboost\n",
            "Successfully installed catboost-1.1\n"
          ]
        }
      ]
    },
    {
      "cell_type": "code",
      "source": [
        "!pip install xgboost"
      ],
      "metadata": {
        "id": "iDzQv7WvisR4",
        "outputId": "6ac9f664-4b40-48d2-a1c4-6d26786f58ff",
        "colab": {
          "base_uri": "https://localhost:8080/"
        },
        "execution": {
          "iopub.status.busy": "2022-09-15T10:35:34.693075Z",
          "iopub.execute_input": "2022-09-15T10:35:34.694216Z",
          "iopub.status.idle": "2022-09-15T10:35:45.946079Z",
          "shell.execute_reply.started": "2022-09-15T10:35:34.694148Z",
          "shell.execute_reply": "2022-09-15T10:35:45.944448Z"
        },
        "trusted": true
      },
      "execution_count": 6,
      "outputs": [
        {
          "output_type": "stream",
          "name": "stdout",
          "text": [
            "Looking in indexes: https://pypi.org/simple, https://us-python.pkg.dev/colab-wheels/public/simple/\n",
            "Requirement already satisfied: xgboost in /usr/local/lib/python3.7/dist-packages (0.90)\n",
            "Requirement already satisfied: scipy in /usr/local/lib/python3.7/dist-packages (from xgboost) (1.7.3)\n",
            "Requirement already satisfied: numpy in /usr/local/lib/python3.7/dist-packages (from xgboost) (1.21.6)\n"
          ]
        }
      ]
    },
    {
      "cell_type": "code",
      "source": [
        "!pip install https://github.com/ydataai/pandas-profiling/archive/master.zip"
      ],
      "metadata": {
        "id": "36ttk3ZW3SDI",
        "outputId": "90081ca7-4981-4e3c-b8a0-e156e0d4d473",
        "colab": {
          "base_uri": "https://localhost:8080/"
        },
        "execution": {
          "iopub.status.busy": "2022-09-15T10:35:45.948098Z",
          "iopub.execute_input": "2022-09-15T10:35:45.948579Z",
          "iopub.status.idle": "2022-09-15T10:36:15.262162Z",
          "shell.execute_reply.started": "2022-09-15T10:35:45.948524Z",
          "shell.execute_reply": "2022-09-15T10:36:15.260990Z"
        },
        "trusted": true
      },
      "execution_count": 7,
      "outputs": [
        {
          "output_type": "stream",
          "name": "stdout",
          "text": [
            "Looking in indexes: https://pypi.org/simple, https://us-python.pkg.dev/colab-wheels/public/simple/\n",
            "Collecting https://github.com/ydataai/pandas-profiling/archive/master.zip\n",
            "  Downloading https://github.com/ydataai/pandas-profiling/archive/master.zip\n",
            "\u001b[K     \\ 22.0 MB 149 kB/s\n",
            "\u001b[?25hCollecting joblib~=1.2.0\n",
            "  Downloading joblib-1.2.0-py3-none-any.whl (297 kB)\n",
            "\u001b[K     |████████████████████████████████| 297 kB 2.1 MB/s \n",
            "\u001b[?25hRequirement already satisfied: scipy<1.10,>=1.4.1 in /usr/local/lib/python3.7/dist-packages (from pandas-profiling==3.3.1) (1.7.3)\n",
            "Requirement already satisfied: pandas!=1.4.0,<1.5,>1.1 in /usr/local/lib/python3.7/dist-packages (from pandas-profiling==3.3.1) (1.3.5)\n",
            "Requirement already satisfied: matplotlib<3.6,>=3.2 in /usr/local/lib/python3.7/dist-packages (from pandas-profiling==3.3.1) (3.2.2)\n",
            "Requirement already satisfied: pydantic<1.11,>=1.8.1 in /usr/local/lib/python3.7/dist-packages (from pandas-profiling==3.3.1) (1.9.2)\n",
            "Requirement already satisfied: PyYAML<6.1,>=5.0.0 in /usr/local/lib/python3.7/dist-packages (from pandas-profiling==3.3.1) (6.0)\n",
            "Requirement already satisfied: jinja2<3.2,>=2.11.1 in /usr/local/lib/python3.7/dist-packages (from pandas-profiling==3.3.1) (2.11.3)\n",
            "Collecting visions[type_image_path]==0.7.5\n",
            "  Downloading visions-0.7.5-py3-none-any.whl (102 kB)\n",
            "\u001b[K     |████████████████████████████████| 102 kB 44.6 MB/s \n",
            "\u001b[?25hRequirement already satisfied: numpy<1.24,>=1.16.0 in /usr/local/lib/python3.7/dist-packages (from pandas-profiling==3.3.1) (1.21.6)\n",
            "Collecting htmlmin==0.1.12\n",
            "  Downloading htmlmin-0.1.12.tar.gz (19 kB)\n",
            "Requirement already satisfied: missingno<0.6,>=0.4.2 in /usr/local/lib/python3.7/dist-packages (from pandas-profiling==3.3.1) (0.5.1)\n",
            "Collecting phik<0.13,>=0.11.1\n",
            "  Downloading phik-0.12.2-cp37-cp37m-manylinux_2_17_x86_64.manylinux2014_x86_64.whl (690 kB)\n",
            "\u001b[K     |████████████████████████████████| 690 kB 32.1 MB/s \n",
            "\u001b[?25hCollecting tangled-up-in-unicode==0.2.0\n",
            "  Downloading tangled_up_in_unicode-0.2.0-py3-none-any.whl (4.7 MB)\n",
            "\u001b[K     |████████████████████████████████| 4.7 MB 41.1 MB/s \n",
            "\u001b[?25hCollecting requests<2.29,>=2.24.0\n",
            "  Downloading requests-2.28.1-py3-none-any.whl (62 kB)\n",
            "\u001b[K     |████████████████████████████████| 62 kB 1.2 MB/s \n",
            "\u001b[?25hRequirement already satisfied: tqdm<4.65,>=4.48.2 in /usr/local/lib/python3.7/dist-packages (from pandas-profiling==3.3.1) (4.64.1)\n",
            "Requirement already satisfied: seaborn<0.13,>=0.10.1 in /usr/local/lib/python3.7/dist-packages (from pandas-profiling==3.3.1) (0.11.2)\n",
            "Collecting multimethod<1.9,>=1.4\n",
            "  Downloading multimethod-1.8-py3-none-any.whl (9.8 kB)\n",
            "Collecting statsmodels<0.14,>=0.13.2\n",
            "  Downloading statsmodels-0.13.2-cp37-cp37m-manylinux_2_17_x86_64.manylinux2014_x86_64.whl (9.8 MB)\n",
            "\u001b[K     |████████████████████████████████| 9.8 MB 29.2 MB/s \n",
            "\u001b[?25hRequirement already satisfied: attrs>=19.3.0 in /usr/local/lib/python3.7/dist-packages (from visions[type_image_path]==0.7.5->pandas-profiling==3.3.1) (22.1.0)\n",
            "Requirement already satisfied: networkx>=2.4 in /usr/local/lib/python3.7/dist-packages (from visions[type_image_path]==0.7.5->pandas-profiling==3.3.1) (2.6.3)\n",
            "Requirement already satisfied: Pillow in /usr/local/lib/python3.7/dist-packages (from visions[type_image_path]==0.7.5->pandas-profiling==3.3.1) (7.1.2)\n",
            "Collecting imagehash\n",
            "  Downloading ImageHash-4.3.0-py2.py3-none-any.whl (296 kB)\n",
            "\u001b[K     |████████████████████████████████| 296 kB 44.2 MB/s \n",
            "\u001b[?25hRequirement already satisfied: MarkupSafe>=0.23 in /usr/local/lib/python3.7/dist-packages (from jinja2<3.2,>=2.11.1->pandas-profiling==3.3.1) (2.0.1)\n",
            "Requirement already satisfied: cycler>=0.10 in /usr/local/lib/python3.7/dist-packages (from matplotlib<3.6,>=3.2->pandas-profiling==3.3.1) (0.11.0)\n",
            "Requirement already satisfied: python-dateutil>=2.1 in /usr/local/lib/python3.7/dist-packages (from matplotlib<3.6,>=3.2->pandas-profiling==3.3.1) (2.8.2)\n",
            "Requirement already satisfied: kiwisolver>=1.0.1 in /usr/local/lib/python3.7/dist-packages (from matplotlib<3.6,>=3.2->pandas-profiling==3.3.1) (1.4.4)\n",
            "Requirement already satisfied: pyparsing!=2.0.4,!=2.1.2,!=2.1.6,>=2.0.1 in /usr/local/lib/python3.7/dist-packages (from matplotlib<3.6,>=3.2->pandas-profiling==3.3.1) (3.0.9)\n",
            "Requirement already satisfied: typing-extensions in /usr/local/lib/python3.7/dist-packages (from kiwisolver>=1.0.1->matplotlib<3.6,>=3.2->pandas-profiling==3.3.1) (4.1.1)\n",
            "Requirement already satisfied: pytz>=2017.3 in /usr/local/lib/python3.7/dist-packages (from pandas!=1.4.0,<1.5,>1.1->pandas-profiling==3.3.1) (2022.2.1)\n",
            "Requirement already satisfied: six>=1.5 in /usr/local/lib/python3.7/dist-packages (from python-dateutil>=2.1->matplotlib<3.6,>=3.2->pandas-profiling==3.3.1) (1.15.0)\n",
            "Requirement already satisfied: charset-normalizer<3,>=2 in /usr/local/lib/python3.7/dist-packages (from requests<2.29,>=2.24.0->pandas-profiling==3.3.1) (2.1.1)\n",
            "Requirement already satisfied: certifi>=2017.4.17 in /usr/local/lib/python3.7/dist-packages (from requests<2.29,>=2.24.0->pandas-profiling==3.3.1) (2022.6.15)\n",
            "Requirement already satisfied: urllib3<1.27,>=1.21.1 in /usr/local/lib/python3.7/dist-packages (from requests<2.29,>=2.24.0->pandas-profiling==3.3.1) (1.24.3)\n",
            "Requirement already satisfied: idna<4,>=2.5 in /usr/local/lib/python3.7/dist-packages (from requests<2.29,>=2.24.0->pandas-profiling==3.3.1) (2.10)\n",
            "Requirement already satisfied: packaging>=21.3 in /usr/local/lib/python3.7/dist-packages (from statsmodels<0.14,>=0.13.2->pandas-profiling==3.3.1) (21.3)\n",
            "Requirement already satisfied: patsy>=0.5.2 in /usr/local/lib/python3.7/dist-packages (from statsmodels<0.14,>=0.13.2->pandas-profiling==3.3.1) (0.5.2)\n",
            "Requirement already satisfied: PyWavelets in /usr/local/lib/python3.7/dist-packages (from imagehash->visions[type_image_path]==0.7.5->pandas-profiling==3.3.1) (1.3.0)\n",
            "Building wheels for collected packages: pandas-profiling, htmlmin\n",
            "  Building wheel for pandas-profiling (setup.py) ... \u001b[?25l\u001b[?25hdone\n",
            "  Created wheel for pandas-profiling: filename=pandas_profiling-3.3.1-py2.py3-none-any.whl size=310107 sha256=b67ea9966cc3bb9c97e7a5bcb41220cfc97b2be49e722a00e5b7a56ea79d398a\n",
            "  Stored in directory: /tmp/pip-ephem-wheel-cache-t1k5xkk2/wheels/c3/aa/10/94ee985ca5a122f047c430cf991df62fe210c4789d3b5762a5\n",
            "  Building wheel for htmlmin (setup.py) ... \u001b[?25l\u001b[?25hdone\n",
            "  Created wheel for htmlmin: filename=htmlmin-0.1.12-py3-none-any.whl size=27098 sha256=f283536b5fe4b23d7d7c08b4b1576e8ca942848006eaf98261430883849b0955\n",
            "  Stored in directory: /root/.cache/pip/wheels/70/e1/52/5b14d250ba868768823940c3229e9950d201a26d0bd3ee8655\n",
            "Successfully built pandas-profiling htmlmin\n",
            "Installing collected packages: tangled-up-in-unicode, multimethod, visions, joblib, imagehash, statsmodels, requests, phik, htmlmin, pandas-profiling\n",
            "  Attempting uninstall: joblib\n",
            "    Found existing installation: joblib 1.1.0\n",
            "    Uninstalling joblib-1.1.0:\n",
            "      Successfully uninstalled joblib-1.1.0\n",
            "  Attempting uninstall: statsmodels\n",
            "    Found existing installation: statsmodels 0.12.2\n",
            "    Uninstalling statsmodels-0.12.2:\n",
            "      Successfully uninstalled statsmodels-0.12.2\n",
            "  Attempting uninstall: requests\n",
            "    Found existing installation: requests 2.23.0\n",
            "    Uninstalling requests-2.23.0:\n",
            "      Successfully uninstalled requests-2.23.0\n",
            "  Attempting uninstall: pandas-profiling\n",
            "    Found existing installation: pandas-profiling 1.4.1\n",
            "    Uninstalling pandas-profiling-1.4.1:\n",
            "      Successfully uninstalled pandas-profiling-1.4.1\n",
            "Successfully installed htmlmin-0.1.12 imagehash-4.3.0 joblib-1.2.0 multimethod-1.8 pandas-profiling-3.3.1 phik-0.12.2 requests-2.28.1 statsmodels-0.13.2 tangled-up-in-unicode-0.2.0 visions-0.7.5\n"
          ]
        }
      ]
    },
    {
      "cell_type": "markdown",
      "source": [
        "# Импорты"
      ],
      "metadata": {
        "id": "mz-HYmBm52_r"
      }
    },
    {
      "cell_type": "code",
      "source": [
        "import os\n",
        "import sys\n",
        "import math\n",
        "import numpy as np\n",
        "import pandas as pd\n",
        "import random\n",
        "import seaborn as sns\n",
        "import plotly.graph_objects as go\n",
        "import plotly.express as px\n",
        "import pandas_profiling\n",
        "\n",
        "from math import sqrt\n",
        "from pprint import pprint\n",
        "from feature_engine.creation import CyclicalFeatures\n",
        "\n",
        "from datetime import (\n",
        "    date,\n",
        "    datetime,\n",
        "    timedelta,\n",
        ")\n",
        "\n",
        "from sklearn.metrics import mean_squared_error\n",
        "from sklearn.model_selection import train_test_split\n",
        "from sklearn.linear_model import LinearRegression \n",
        "\n",
        "\n",
        "# LightGBM\n",
        "import lightgbm as lgbm\n",
        "from lightgbm import LGBMRegressor\n",
        "# CatBoost\n",
        "import catboost as cb\n",
        "from catboost import CatBoostRegressor\n",
        "\n",
        "# plt\n",
        "import matplotlib.pyplot as plt\n",
        "# увеличим дефолтный размер графиков\n",
        "from pylab import rcParams\n",
        "rcParams['figure.figsize'] = 10, 5\n",
        "# графики в svg выглядят более четкими\n",
        "%config InlineBackend.figure_format = 'svg'\n",
        "%matplotlib inline\n",
        "\n",
        "#pandas set option\n",
        "pd.set_option('display.max_columns', None)\n",
        "pd.set_option('display.max_rows', 30)\n",
        "\n",
        "import warnings\n",
        "warnings.filterwarnings(\"ignore\")"
      ],
      "metadata": {
        "id": "WLeVIlMU4KDQ",
        "execution": {
          "iopub.status.busy": "2022-09-15T10:36:15.263543Z",
          "iopub.execute_input": "2022-09-15T10:36:15.263910Z",
          "iopub.status.idle": "2022-09-15T10:36:19.646354Z",
          "shell.execute_reply.started": "2022-09-15T10:36:15.263874Z",
          "shell.execute_reply": "2022-09-15T10:36:19.644745Z"
        },
        "trusted": true
      },
      "execution_count": 8,
      "outputs": []
    },
    {
      "cell_type": "markdown",
      "source": [
        "# Версии"
      ],
      "metadata": {
        "id": "JtzE8MkG4D0q"
      }
    },
    {
      "cell_type": "code",
      "source": [
        "print('Python       :', sys.version.split('\\n')[0])\n",
        "print('Numpy        :', np.__version__)"
      ],
      "metadata": {
        "id": "LsBVvsuZ4GO1",
        "outputId": "6620fe52-f349-4e18-d1c9-c18023608321",
        "colab": {
          "base_uri": "https://localhost:8080/"
        },
        "execution": {
          "iopub.status.busy": "2022-09-15T10:36:19.648151Z",
          "iopub.execute_input": "2022-09-15T10:36:19.648534Z",
          "iopub.status.idle": "2022-09-15T10:36:19.655300Z",
          "shell.execute_reply.started": "2022-09-15T10:36:19.648498Z",
          "shell.execute_reply": "2022-09-15T10:36:19.653254Z"
        },
        "trusted": true
      },
      "execution_count": 9,
      "outputs": [
        {
          "output_type": "stream",
          "name": "stdout",
          "text": [
            "Python       : 3.7.14 (default, Sep  8 2022, 00:06:44) \n",
            "Numpy        : 1.21.6\n"
          ]
        }
      ]
    },
    {
      "cell_type": "markdown",
      "source": [
        "Фиксируем пакеты"
      ],
      "metadata": {
        "id": "QkmgjjzX4QDb"
      }
    },
    {
      "cell_type": "code",
      "source": [
        "!pip freeze > requirements.txt"
      ],
      "metadata": {
        "id": "RVsDBuxC4HrM",
        "execution": {
          "iopub.status.busy": "2022-09-15T10:36:19.656483Z",
          "iopub.execute_input": "2022-09-15T10:36:19.657245Z",
          "iopub.status.idle": "2022-09-15T10:36:23.299431Z",
          "shell.execute_reply.started": "2022-09-15T10:36:19.657209Z",
          "shell.execute_reply": "2022-09-15T10:36:23.298051Z"
        },
        "trusted": true
      },
      "execution_count": 10,
      "outputs": []
    },
    {
      "cell_type": "markdown",
      "source": [
        "# Константы"
      ],
      "metadata": {
        "id": "4qVazl0f4aRZ"
      }
    },
    {
      "cell_type": "code",
      "source": [
        "TEST_SIZE            = 0.25  # размер тестовой выборки\n",
        "RANDOM_SEED          = 13    # фиксируем сид для воспроизводимости экспериментов"
      ],
      "metadata": {
        "id": "8O4Y9dzQ4dfU",
        "execution": {
          "iopub.status.busy": "2022-09-15T10:36:23.304546Z",
          "iopub.execute_input": "2022-09-15T10:36:23.305039Z",
          "iopub.status.idle": "2022-09-15T10:36:23.311109Z",
          "shell.execute_reply.started": "2022-09-15T10:36:23.304993Z",
          "shell.execute_reply": "2022-09-15T10:36:23.309906Z"
        },
        "trusted": true
      },
      "execution_count": 11,
      "outputs": []
    },
    {
      "cell_type": "markdown",
      "source": [
        "# Вспомогательные функции и методы"
      ],
      "metadata": {
        "id": "o_PJdv7O4KlA"
      }
    },
    {
      "cell_type": "code",
      "source": [
        "def rmse(y_test, y_pred):\n",
        "    return np.round(sqrt(mean_squared_error(y_test, y_pred)), 2)\n",
        "\n",
        "def mpe(y_test, y_pred):\n",
        "    return f'{np.round(np.mean((y_test - y_pred) / y_test) * 100, 2)}%'\n"
      ],
      "metadata": {
        "id": "M0HZBqYs4Qk1",
        "execution": {
          "iopub.status.busy": "2022-09-15T10:36:23.313011Z",
          "iopub.execute_input": "2022-09-15T10:36:23.313786Z",
          "iopub.status.idle": "2022-09-15T10:36:23.326007Z",
          "shell.execute_reply.started": "2022-09-15T10:36:23.313747Z",
          "shell.execute_reply": "2022-09-15T10:36:23.324979Z"
        },
        "trusted": true
      },
      "execution_count": 12,
      "outputs": []
    },
    {
      "cell_type": "code",
      "source": [
        "def moving_average(df, window): \n",
        "    id_col, date_col, target_col, predicted_col = df.columns\n",
        "    res_df = pd.DataFrame(columns=df.columns)\n",
        "\n",
        "    for s_id in list(df[id_col].unique()):\n",
        "        temp_df = pd.DataFrame(columns=df.columns)\n",
        "        series_curr_id = df.loc[df[id_col] == s_id]\n",
        "        temp_df[id_col] = series_curr_id[id_col]\n",
        "        temp_df[date_col] = series_curr_id[date_col]\n",
        "        temp_df[target_col] = series_curr_id[target_col]\n",
        "        temp_df[predicted_col] = round(series_curr_id[target_col].rolling(\n",
        "            window=window).mean())\n",
        "        res_df = pd.concat([res_df, temp_df])\n",
        "        res_df.dropna(inplace=True)\n",
        "        res_df[predicted_col] = np.int64(res_df[predicted_col])\n",
        "\n",
        "    return res_df\n"
      ],
      "metadata": {
        "id": "93vgrXkOJp4f",
        "execution": {
          "iopub.status.busy": "2022-09-15T10:36:23.328464Z",
          "iopub.execute_input": "2022-09-15T10:36:23.328908Z",
          "iopub.status.idle": "2022-09-15T10:36:23.340056Z",
          "shell.execute_reply.started": "2022-09-15T10:36:23.328870Z",
          "shell.execute_reply": "2022-09-15T10:36:23.338903Z"
        },
        "trusted": true
      },
      "execution_count": 13,
      "outputs": []
    },
    {
      "cell_type": "code",
      "source": [
        "def show_predicts(df):\n",
        "    fig = go.Figure()\n",
        "\n",
        "    fig.add_traces(go.Scatter(x=df.index,\n",
        "                              y=df['test'],\n",
        "                              mode='markers',\n",
        "                              name='Фактические')\n",
        "    )\n",
        "\n",
        "    fig.add_traces(go.Scatter(x=df.index,\n",
        "                              y=df['pred'],\n",
        "                              mode='markers',\n",
        "                              name='Предсказанные')\n",
        "    )\n",
        "\n",
        "    fig.update_layout(title='Фактические и предсказанные значения',\n",
        "                      hovermode=\"x\",)\n",
        "    fig.update_traces(hoverinfo=\"all\")\n",
        "\n",
        "    fig.show()\n"
      ],
      "metadata": {
        "id": "rfPoCXIONU23",
        "execution": {
          "iopub.status.busy": "2022-09-15T10:36:23.341327Z",
          "iopub.execute_input": "2022-09-15T10:36:23.342226Z",
          "iopub.status.idle": "2022-09-15T10:36:23.358752Z",
          "shell.execute_reply.started": "2022-09-15T10:36:23.342187Z",
          "shell.execute_reply": "2022-09-15T10:36:23.357306Z"
        },
        "trusted": true
      },
      "execution_count": 14,
      "outputs": []
    },
    {
      "cell_type": "code",
      "source": [
        "def draw_pair_graph(df, list_col_names, range='2 month'):\n",
        "    id_col_name, x_axis_name, y1_axis_name, y2_axis_name = list_col_names\n",
        "  \n",
        "    start_id = list(df[id_col_name])[0]\n",
        "    loc_df = df.loc[df[id_col_name] == start_id]\n",
        "    x_values = list(loc_df[x_axis_name])\n",
        "    y1_values = list(loc_df[y1_axis_name])\n",
        "    y2_values = list(loc_df[y2_axis_name])\n",
        "\n",
        "    date_series = df.loc[df[id_col_name] == start_id][x_axis_name]\n",
        "    end_date_range = list(date_series)[-1]\n",
        "\n",
        "    if range == '2 month':\n",
        "        start_date_range = end_date_range - np.timedelta64(2, 'M')\n",
        "    elif range == '6 month':\n",
        "        start_date_range = end_date_range - np.timedelta64(6, 'M')\n",
        "    elif range == '1 year':\n",
        "        start_date_range = end_date_range - np.timedelta64(1, 'Y')\n",
        "    elif range == 'all':\n",
        "        start_date_range = list(date_series)[0]\n",
        "    else:\n",
        "        print('invalid default range.\\n' \\\n",
        "        'Default range can be one of:\\n' \\\n",
        "        '\"2 month\"\\n' \\\n",
        "        '\"6 month\"\\n' \\\n",
        "        '\"all\"')\n",
        "        return\n",
        "\n",
        "    fig = go.Figure()\n",
        "\n",
        "    fig.add_traces(go.Scatter(x=x_values,\n",
        "                              y=y1_values,\n",
        "                              name=y1_axis_name,\n",
        "                              mode='markers')\n",
        "    )\n",
        "    fig.add_traces(go.Scatter(x=x_values, \n",
        "                              y=y2_values,\n",
        "                              name=y2_axis_name)\n",
        "    )\n",
        "\n",
        "    fig.update_layout(\n",
        "        xaxis=dict(\n",
        "            range=list([start_date_range, end_date_range]),\n",
        "            rangeselector=dict(\n",
        "                buttons=list([\n",
        "                    dict(count=2,\n",
        "                         label=\"2 month\",\n",
        "                         step=\"month\",\n",
        "                         stepmode=\"backward\"),\n",
        "                    dict(count=6,\n",
        "                         label=\"6 month\",\n",
        "                         step=\"month\",\n",
        "                         stepmode=\"backward\"),\n",
        "                    dict(count=1,\n",
        "                         label=\"1 year\",\n",
        "                         step=\"year\",\n",
        "                         stepmode=\"backward\"),\n",
        "                    dict(step=\"all\")\n",
        "                    ]), \n",
        "                ),\n",
        "            rangeslider=dict(\n",
        "                visible=True\n",
        "                ),\n",
        "            type=\"date\"\n",
        "            )\n",
        "    )\n",
        "\n",
        "    fig.show()\n"
      ],
      "metadata": {
        "execution": {
          "iopub.status.busy": "2022-09-15T10:36:23.360797Z",
          "iopub.execute_input": "2022-09-15T10:36:23.361497Z",
          "iopub.status.idle": "2022-09-15T10:36:23.377793Z",
          "shell.execute_reply.started": "2022-09-15T10:36:23.361453Z",
          "shell.execute_reply": "2022-09-15T10:36:23.376128Z"
        },
        "trusted": true,
        "id": "JR3NgtMMDnzq"
      },
      "execution_count": 15,
      "outputs": []
    },
    {
      "cell_type": "markdown",
      "source": [
        "# Сбор данных\n",
        "\n",
        "Код сбора данных приложен в файле get_data.ipynb"
      ],
      "metadata": {
        "id": "FRCc2oMP5mGd"
      }
    },
    {
      "cell_type": "markdown",
      "source": [
        "# Загружаем данные"
      ],
      "metadata": {
        "id": "vuNxfbb838-_"
      }
    },
    {
      "cell_type": "code",
      "source": [
        "if is_colab:\n",
        "    from google.colab import drive\n",
        "    drive.mount('/content/drive')\n",
        "\n",
        "    ROOT_PATH = os.path.abspath('/content/drive/MyDrive/Colab Notebooks/diplom')\n",
        "    DATA_PATH = os.path.join(ROOT_PATH, 'data')\n",
        "    MODEL_PATH = os.path.join(ROOT_PATH, 'model_saves')\n",
        "else:\n",
        "    # Kaggle\n",
        "    DATA_PATH = os.path.abspath('../input/diplom-data')\n",
        "    MODEL_PATH = os.path.join('./', 'model-saves')\n",
        "\n"
      ],
      "metadata": {
        "id": "YZuQCaDv4CXV",
        "execution": {
          "iopub.status.busy": "2022-09-15T10:36:23.379436Z",
          "iopub.execute_input": "2022-09-15T10:36:23.380353Z",
          "iopub.status.idle": "2022-09-15T10:36:23.397815Z",
          "shell.execute_reply.started": "2022-09-15T10:36:23.380309Z",
          "shell.execute_reply": "2022-09-15T10:36:23.396453Z"
        },
        "trusted": true,
        "colab": {
          "base_uri": "https://localhost:8080/"
        },
        "outputId": "ed02083d-35ac-400b-b797-8ce032a7e022"
      },
      "execution_count": 16,
      "outputs": [
        {
          "output_type": "stream",
          "name": "stdout",
          "text": [
            "Mounted at /content/drive\n"
          ]
        }
      ]
    },
    {
      "cell_type": "code",
      "source": [
        "df = pd.read_csv(os.path.join(DATA_PATH, 'dataset.csv'), sep=';')"
      ],
      "metadata": {
        "id": "wr57qhof2DWk",
        "execution": {
          "iopub.status.busy": "2022-09-15T10:36:23.399655Z",
          "iopub.execute_input": "2022-09-15T10:36:23.400427Z",
          "iopub.status.idle": "2022-09-15T10:36:24.328338Z",
          "shell.execute_reply.started": "2022-09-15T10:36:23.400381Z",
          "shell.execute_reply": "2022-09-15T10:36:24.327018Z"
        },
        "trusted": true
      },
      "execution_count": 17,
      "outputs": []
    },
    {
      "cell_type": "code",
      "source": [
        "raise KeyboardInterrupt"
      ],
      "metadata": {
        "colab": {
          "base_uri": "https://localhost:8080/",
          "height": 165
        },
        "id": "bKoMNal0A0Se",
        "outputId": "cc640e31-225a-4023-e14e-272630949d93"
      },
      "execution_count": 18,
      "outputs": [
        {
          "output_type": "error",
          "ename": "KeyboardInterrupt",
          "evalue": "ignored",
          "traceback": [
            "\u001b[0;31m---------------------------------------------------------------------------\u001b[0m",
            "\u001b[0;31mKeyboardInterrupt\u001b[0m                         Traceback (most recent call last)",
            "\u001b[0;32m<ipython-input-18-c761920b81b0>\u001b[0m in \u001b[0;36m<module>\u001b[0;34m\u001b[0m\n\u001b[0;32m----> 1\u001b[0;31m \u001b[0;32mraise\u001b[0m \u001b[0mKeyboardInterrupt\u001b[0m\u001b[0;34m\u001b[0m\u001b[0;34m\u001b[0m\u001b[0m\n\u001b[0m",
            "\u001b[0;31mKeyboardInterrupt\u001b[0m: "
          ]
        }
      ]
    },
    {
      "cell_type": "markdown",
      "source": [
        "# Осмотр данных\n"
      ],
      "metadata": {
        "id": "vHyMj69NgIxX"
      }
    },
    {
      "cell_type": "markdown",
      "source": [
        "Посмотрим пример данных"
      ],
      "metadata": {
        "id": "0RZrh5LCcioM"
      }
    },
    {
      "cell_type": "code",
      "source": [
        "display(df.sample(5))"
      ],
      "metadata": {
        "id": "FLHOT1ukcLmk",
        "execution": {
          "iopub.status.busy": "2022-09-15T10:36:24.329835Z",
          "iopub.execute_input": "2022-09-15T10:36:24.330247Z",
          "iopub.status.idle": "2022-09-15T10:36:24.369252Z",
          "shell.execute_reply.started": "2022-09-15T10:36:24.330213Z",
          "shell.execute_reply": "2022-09-15T10:36:24.367809Z"
        },
        "trusted": true
      },
      "execution_count": null,
      "outputs": []
    },
    {
      "cell_type": "markdown",
      "source": [
        "Размер датасета"
      ],
      "metadata": {
        "id": "CTO75aBPcSP1"
      }
    },
    {
      "cell_type": "code",
      "source": [
        "print('Размер:', df.shape)"
      ],
      "metadata": {
        "id": "0qMAHA9u44rc",
        "execution": {
          "iopub.status.busy": "2022-09-15T10:36:24.370349Z",
          "iopub.execute_input": "2022-09-15T10:36:24.370697Z",
          "iopub.status.idle": "2022-09-15T10:36:24.377512Z",
          "shell.execute_reply.started": "2022-09-15T10:36:24.370667Z",
          "shell.execute_reply": "2022-09-15T10:36:24.376296Z"
        },
        "trusted": true
      },
      "execution_count": null,
      "outputs": []
    },
    {
      "cell_type": "markdown",
      "source": [
        "Основные статистики\n"
      ],
      "metadata": {
        "id": "kZX3Qiuvg6n9"
      }
    },
    {
      "cell_type": "code",
      "source": [
        "print(df.describe())"
      ],
      "metadata": {
        "id": "8ENpMbxRUw_W",
        "execution": {
          "iopub.status.busy": "2022-09-15T10:36:24.379472Z",
          "iopub.execute_input": "2022-09-15T10:36:24.379870Z",
          "iopub.status.idle": "2022-09-15T10:36:24.461663Z",
          "shell.execute_reply.started": "2022-09-15T10:36:24.379835Z",
          "shell.execute_reply": "2022-09-15T10:36:24.460108Z"
        },
        "trusted": true
      },
      "execution_count": null,
      "outputs": []
    },
    {
      "cell_type": "markdown",
      "source": [
        "Общая информация"
      ],
      "metadata": {
        "id": "N4NnmlCKcUIA"
      }
    },
    {
      "cell_type": "code",
      "source": [
        "display(df.info())"
      ],
      "metadata": {
        "id": "uI6wocTFcCz1",
        "execution": {
          "iopub.status.busy": "2022-09-15T10:36:24.463309Z",
          "iopub.execute_input": "2022-09-15T10:36:24.463674Z",
          "iopub.status.idle": "2022-09-15T10:36:24.535546Z",
          "shell.execute_reply.started": "2022-09-15T10:36:24.463640Z",
          "shell.execute_reply": "2022-09-15T10:36:24.534622Z"
        },
        "trusted": true
      },
      "execution_count": null,
      "outputs": []
    },
    {
      "cell_type": "markdown",
      "source": [
        "Уникальные значения"
      ],
      "metadata": {
        "id": "2qkuM-uccYX_"
      }
    },
    {
      "cell_type": "code",
      "source": [
        "display(df.nunique())"
      ],
      "metadata": {
        "id": "2v_HdAAecDSA",
        "execution": {
          "iopub.status.busy": "2022-09-15T10:36:24.536840Z",
          "iopub.execute_input": "2022-09-15T10:36:24.537439Z",
          "iopub.status.idle": "2022-09-15T10:36:24.662454Z",
          "shell.execute_reply.started": "2022-09-15T10:36:24.537404Z",
          "shell.execute_reply": "2022-09-15T10:36:24.661253Z"
        },
        "trusted": true
      },
      "execution_count": null,
      "outputs": []
    },
    {
      "cell_type": "markdown",
      "source": [
        "# Описание данных\n",
        "Название | Описание | Тип признака\n",
        "--- | --- | ---\n",
        "service_id | id услуги | Категориальный \n",
        "cost | цена | Числовой\n",
        "name | название услуги | Категориальный \n",
        "item_code | стандартизированный код услуги | Категориальный \n",
        "medical_specialty | медицинская специальность | Категориальный \n",
        "amount_doctors | количество врачей, принимающих в этот день | Числовой\n",
        "service_date | дата оказания услуги в формате строки вида дд.мм.гггг | Категориальный \n",
        "sales | спрос | Числовой\n",
        "service_type | номенклатурная группа услуги | Категориальный \n",
        "weekend | триггер календарного выходного дня | Бинарный\n",
        "weekday | день недели в сокращённом формате | Категориальный \n",
        "holiday | триггер праздничного дня по данным производственных календарей | Бинарный\n",
        "season | время года | Категориальный \n",
        "unique_service | триггер услуги, оказываемой только в нашем МЦ | Бинарный\n",
        "pandemic | триггер эпидемиологической ситуации по данным ВОЗ | Бинарный\n",
        "month | название месяца в сокращённом формате | Категориальный \n",
        "\n",
        "Датасет содержит данные об услугах продажах этих услуг и дополнительные внешние данные о 195 услугах."
      ],
      "metadata": {
        "id": "X3GIhHjCdrDg"
      }
    },
    {
      "cell_type": "markdown",
      "source": [
        "# Предварительная обработка"
      ],
      "metadata": {
        "id": "S2z84pg5ogeh"
      }
    },
    {
      "cell_type": "markdown",
      "source": [
        "Преобразование service_date в datetime и настроим типы данных для остальных признаков"
      ],
      "metadata": {
        "id": "-JtKko5gokO8"
      }
    },
    {
      "cell_type": "code",
      "source": [
        "df['service_date'] = pd.to_datetime(df['service_date'], format='%d.%m.%Y')"
      ],
      "metadata": {
        "id": "Yyj20bfoojhP",
        "execution": {
          "iopub.status.busy": "2022-09-15T10:36:24.663729Z",
          "iopub.execute_input": "2022-09-15T10:36:24.664087Z",
          "iopub.status.idle": "2022-09-15T10:36:25.017695Z",
          "shell.execute_reply.started": "2022-09-15T10:36:24.664055Z",
          "shell.execute_reply": "2022-09-15T10:36:25.016688Z"
        },
        "trusted": true
      },
      "execution_count": null,
      "outputs": []
    },
    {
      "cell_type": "markdown",
      "source": [
        "Определение типов признаков"
      ],
      "metadata": {
        "id": "a6HxZSSUhjjg"
      }
    },
    {
      "cell_type": "code",
      "source": [
        "cat_feats = ['service_id', 'name', 'item_code', 'medical_specialty', \n",
        "             'service_date', 'service_type', 'weekday', 'season', 'month']\n",
        "df[cat_feats] = df[cat_feats].astype(\"category\")\n",
        "\n",
        "bool_feats = ['weekend', 'holiday', 'unique_service', 'pandemic']\n",
        "df[bool_feats] = df[bool_feats].astype(\"boolean\")"
      ],
      "metadata": {
        "id": "kQV5zCvWOVGq",
        "execution": {
          "iopub.status.busy": "2022-09-15T10:36:25.019185Z",
          "iopub.execute_input": "2022-09-15T10:36:25.020365Z",
          "iopub.status.idle": "2022-09-15T10:36:25.222195Z",
          "shell.execute_reply.started": "2022-09-15T10:36:25.020322Z",
          "shell.execute_reply": "2022-09-15T10:36:25.220946Z"
        },
        "trusted": true
      },
      "execution_count": null,
      "outputs": []
    },
    {
      "cell_type": "code",
      "source": [
        "df.info()"
      ],
      "metadata": {
        "id": "Owb-DA_c0Mlt",
        "execution": {
          "iopub.status.busy": "2022-09-15T10:36:25.223581Z",
          "iopub.execute_input": "2022-09-15T10:36:25.223978Z",
          "iopub.status.idle": "2022-09-15T10:36:25.253717Z",
          "shell.execute_reply.started": "2022-09-15T10:36:25.223931Z",
          "shell.execute_reply": "2022-09-15T10:36:25.252404Z"
        },
        "trusted": true
      },
      "execution_count": null,
      "outputs": []
    },
    {
      "cell_type": "markdown",
      "source": [
        "# Наивная модель"
      ],
      "metadata": {
        "id": "tIFedHes6QRm"
      }
    },
    {
      "cell_type": "markdown",
      "source": [
        "В качестве наивной модели я решил взять простую линейную регрессию.  \n",
        "Несмотря на простоту, эта модель может быть хорошей отправной точкой.\n",
        "\n"
      ],
      "metadata": {
        "id": "TEC32gECCe51"
      }
    },
    {
      "cell_type": "code",
      "source": [
        "X = df[['cost', 'amount_doctors']]\n",
        "y = df['sales'] \n",
        "\n",
        "X_train, X_test, y_train, y_test = train_test_split(X, y, test_size=TEST_SIZE, \n",
        "                                                    shuffle=True, \n",
        "                                                    random_state=RANDOM_SEED)"
      ],
      "metadata": {
        "id": "3u_Oz1dhlf4C"
      },
      "execution_count": null,
      "outputs": []
    },
    {
      "cell_type": "code",
      "source": [
        "regressor = LinearRegression() \n",
        "regressor.fit(X_train, np.log(y_train))"
      ],
      "metadata": {
        "id": "RLbgFzWIl3ck"
      },
      "execution_count": null,
      "outputs": []
    },
    {
      "cell_type": "code",
      "source": [
        "y_pred = np.round(np.exp(regressor.predict(X_test)))\n",
        "\n",
        "print(f\"RMSE: {rmse(y_test, y_pred)}\")\n",
        "print(f\"MPE: {mpe(y_test, y_pred)}\")"
      ],
      "metadata": {
        "id": "plmU2dINnQUN"
      },
      "execution_count": null,
      "outputs": []
    },
    {
      "cell_type": "markdown",
      "source": [
        "# Графики реального и предсказанного спроса"
      ],
      "metadata": {
        "id": "L2Pja6H1dVb6"
      }
    },
    {
      "cell_type": "code",
      "source": [
        "show_predicts(pd.DataFrame({'test': y_test.values, 'pred':y_pred}))\n"
      ],
      "metadata": {
        "id": "XQ9wgG0yr_gS"
      },
      "execution_count": null,
      "outputs": []
    },
    {
      "cell_type": "markdown",
      "source": [
        "Величина отклонения прогноза довольна небольшая и модель справляется с задачей лучше, чем если бы я прогнозировал продажи случайным числом, но явно есть куда улучшать модель."
      ],
      "metadata": {
        "id": "2iXWPOgoa9wa"
      }
    },
    {
      "cell_type": "markdown",
      "source": [
        "# EDA"
      ],
      "metadata": {
        "id": "wlq0hYXT6Vo8"
      }
    },
    {
      "cell_type": "markdown",
      "source": [
        "## Изучим данные поближе"
      ],
      "metadata": {
        "id": "ixPiPuENoEXk"
      }
    },
    {
      "cell_type": "code",
      "source": [
        "pandas_profiling.ProfileReport(df)"
      ],
      "metadata": {
        "id": "0DKBtYc2R1a2",
        "execution": {
          "iopub.status.busy": "2022-09-15T10:36:55.029251Z",
          "iopub.execute_input": "2022-09-15T10:36:55.030088Z",
          "iopub.status.idle": "2022-09-15T10:37:13.226589Z",
          "shell.execute_reply.started": "2022-09-15T10:36:55.030049Z",
          "shell.execute_reply": "2022-09-15T10:37:13.225617Z"
        },
        "trusted": true
      },
      "execution_count": null,
      "outputs": []
    },
    {
      "cell_type": "markdown",
      "source": [
        "В данных слишком много записей из номенклатурной группы Анализы. Вероятно эти записи будут иметь сильное влияние на результат моделей. Полагаю, нужно собирать данные в отдельности для каждой номенклатурной группы и обучать свою модель для каждой категории номенклатурной группы.\n",
        "\n",
        "Подавляющее большинство записей относится к медицинской специальности Клиническая лабораторная диагностика. Это почти все записи из категории Анализы. Данный факт является ещё одним подтверждением того, что нужно разделять данные на разные датасеты по номенклатурным группам.\n",
        "\n",
        "Величина продаж порядка 80 единиц, вероятно, принадлежит записям категории Анализы. Эти значения помешают алгоритму выявить закономерности в данных. Логарифмирую таргет.\n",
        "\n",
        "Данных за выходные дни значительно меньше чем за будние дни. Вероятно это связанно с расписанием работы врачей.\n",
        "\n",
        "Признак holiday показывает что в праздничные дни и дни с сокращённым рабочим дням есть спрос на некоторые услуги.\n",
        "\n",
        "Признаки item_code и name совпадают, значит стандартизированный код для каждой отдельной услуги уникален. Т.к. название услуги с большей вероятностью может быть изменено по какой либо причине оставим в данных признак item_code."
      ],
      "metadata": {
        "id": "CDC9-GA_Dnz4"
      }
    },
    {
      "cell_type": "markdown",
      "source": [
        "## Корреляционный анализ\n",
        "Кор. анализ показал что продажи имеют выраженную корреляцию с количеством врачей и медицинской специальностью услуги. В данном случае это ожидаемо и может означать, что чем больше врачей, оказывающих одну и ту же услугу, тем больше продаж по этой услуге, и, также, естественным образом, продажи разнятся по медицинским специальностям."
      ],
      "metadata": {
        "id": "COPDYUhuDnz4"
      }
    },
    {
      "cell_type": "markdown",
      "source": [
        "# Посмотрим как спрос зависит от различных признаков на примере одной конкретной услуги."
      ],
      "metadata": {
        "id": "VenYUJAtstWD"
      }
    },
    {
      "cell_type": "markdown",
      "source": [
        "## Спрос на оду услугу по сезонам, месяцам, дням недели."
      ],
      "metadata": {
        "id": "EVb2UNJjVdZ1"
      }
    },
    {
      "cell_type": "code",
      "source": [
        "analyze_df = df.loc[df['service_id'] == 3100]"
      ],
      "metadata": {
        "id": "jE6oQq47o89B",
        "execution": {
          "iopub.status.busy": "2022-09-15T10:37:13.227974Z",
          "iopub.execute_input": "2022-09-15T10:37:13.228385Z",
          "iopub.status.idle": "2022-09-15T10:37:13.236656Z",
          "shell.execute_reply.started": "2022-09-15T10:37:13.228350Z",
          "shell.execute_reply": "2022-09-15T10:37:13.235426Z"
        },
        "trusted": true
      },
      "execution_count": null,
      "outputs": []
    },
    {
      "cell_type": "markdown",
      "source": [
        "### Сезоны"
      ],
      "metadata": {
        "id": "8Trxkuay9mFw"
      }
    },
    {
      "cell_type": "code",
      "source": [
        "temp_df = analyze_df[['sales']]\n",
        "temp_df['season.year'] = df.apply(lambda row: f'{row[\"season\"]}.\\\n",
        "{row[\"service_date\"].year}',axis=1)\n",
        "dates_list = temp_df['season.year'].unique()\n",
        "temp_df = temp_df.groupby(['season.year']).sum().reindex(dates_list)\n",
        "\n",
        "fig = go.Figure()\n",
        "\n",
        "fig.add_traces(go.Scatter(x=temp_df.index,\n",
        "                          y=temp_df['sales'])\n",
        ")\n",
        "\n",
        "fig.update_layout(title='Динамика спроса по временам года')\n",
        "\n",
        "fig.show()\n",
        "\n",
        "temp_df = None"
      ],
      "metadata": {
        "id": "4WrakkDzV3K4",
        "execution": {
          "iopub.status.busy": "2022-09-15T10:37:13.238115Z",
          "iopub.execute_input": "2022-09-15T10:37:13.238475Z",
          "iopub.status.idle": "2022-09-15T10:37:16.278155Z",
          "shell.execute_reply.started": "2022-09-15T10:37:13.238442Z",
          "shell.execute_reply": "2022-09-15T10:37:16.276733Z"
        },
        "trusted": true
      },
      "execution_count": null,
      "outputs": []
    },
    {
      "cell_type": "markdown",
      "source": [
        "### Месяцы"
      ],
      "metadata": {
        "id": "dzYEi_Vr9pEy"
      }
    },
    {
      "cell_type": "code",
      "source": [
        "temp_df = analyze_df[['sales']]\n",
        "temp_df['month.year'] = df.apply(lambda row: f'{row[\"month\"]}.\\\n",
        "{row[\"service_date\"].year}',axis=1)\n",
        "dates_list = temp_df['month.year'].unique()\n",
        "temp_df = temp_df.groupby(['month.year']).sum().reindex(dates_list)\n",
        "\n",
        "fig = go.Figure()\n",
        "\n",
        "fig.add_traces(go.Scatter(x=temp_df.index,\n",
        "                          y=temp_df['sales'])\n",
        ")\n",
        "\n",
        "fig.update_layout(title='Динамика спроса по месяцам за весь период')\n",
        "\n",
        "fig.show()\n",
        "\n",
        "temp_df = None\n",
        "\n"
      ],
      "metadata": {
        "id": "GW-UE7QZVwZv",
        "execution": {
          "iopub.status.busy": "2022-09-15T10:37:16.279608Z",
          "iopub.execute_input": "2022-09-15T10:37:16.279987Z",
          "iopub.status.idle": "2022-09-15T10:37:19.110701Z",
          "shell.execute_reply.started": "2022-09-15T10:37:16.279952Z",
          "shell.execute_reply": "2022-09-15T10:37:19.109517Z"
        },
        "trusted": true
      },
      "execution_count": null,
      "outputs": []
    },
    {
      "cell_type": "markdown",
      "source": [
        "### Дни недели"
      ],
      "metadata": {
        "id": "U8IYEY1M9siP"
      }
    },
    {
      "cell_type": "code",
      "source": [
        "dates_list = ['Mon.2017', 'Tue.2017', 'Wed.2017', 'Thu.2017', 'Fri.2017', 'Sat.2017', 'Sun.2017', \n",
        "              'Mon.2018', 'Tue.2018', 'Wed.2018', 'Thu.2018', 'Fri.2018', 'Sat.2018', 'Sun.2018', \n",
        "              'Mon.2019', 'Tue.2019', 'Wed.2019', 'Thu.2019', 'Fri.2019', 'Sat.2019', 'Sun.2019',  \n",
        "              'Mon.2020', 'Tue.2020', 'Wed.2020', 'Thu.2020', 'Fri.2020', 'Sat.2020', 'Sun.2020', \n",
        "              'Mon.2021', 'Tue.2021', 'Wed.2021', 'Thu.2021', 'Fri.2021', 'Sat.2021', 'Sun.2021', \n",
        "              'Mon.2022', 'Tue.2022', 'Wed.2022', 'Thu.2022', 'Fri.2022', 'Sat.2022',  'Sun.2022']\n",
        "       "
      ],
      "metadata": {
        "id": "CVveedUoYtH7",
        "execution": {
          "iopub.status.busy": "2022-09-15T10:37:19.112215Z",
          "iopub.execute_input": "2022-09-15T10:37:19.112593Z",
          "iopub.status.idle": "2022-09-15T10:37:19.120740Z",
          "shell.execute_reply.started": "2022-09-15T10:37:19.112558Z",
          "shell.execute_reply": "2022-09-15T10:37:19.119190Z"
        },
        "trusted": true
      },
      "execution_count": null,
      "outputs": []
    },
    {
      "cell_type": "code",
      "source": [
        "temp_df = analyze_df[['sales']]\n",
        "temp_df['weekday.year'] = df.apply(lambda row: f'{row[\"weekday\"]}.\\\n",
        "{row[\"service_date\"].year}',axis=1)\n",
        "temp_df = temp_df.groupby(['weekday.year']).sum().reindex(dates_list)\n",
        "\n",
        "fig = go.Figure()\n",
        "\n",
        "fig.add_traces(go.Scatter(x=temp_df.index,\n",
        "                          y=temp_df['sales'])\n",
        ")\n",
        "\n",
        "fig.update_layout(title='Динамика спроса по дням недели за весь период')\n",
        "\n",
        "fig.show()\n",
        "\n",
        "temp_df = None\n",
        "\n"
      ],
      "metadata": {
        "id": "Gx2B9o5lWiXe",
        "execution": {
          "iopub.status.busy": "2022-09-15T10:37:19.122370Z",
          "iopub.execute_input": "2022-09-15T10:37:19.122900Z",
          "iopub.status.idle": "2022-09-15T10:37:21.942666Z",
          "shell.execute_reply.started": "2022-09-15T10:37:19.122865Z",
          "shell.execute_reply": "2022-09-15T10:37:21.941485Z"
        },
        "trusted": true
      },
      "execution_count": null,
      "outputs": []
    },
    {
      "cell_type": "markdown",
      "source": [
        "## Спрос во время пандемии"
      ],
      "metadata": {
        "id": "0qydVxUrSKUt"
      }
    },
    {
      "cell_type": "code",
      "source": [
        "temp_df = analyze_df.loc[analyze_df['pandemic'] == 1][['sales']]\n",
        "temp_df['month.year'] = analyze_df.apply(lambda row: f'{row[\"month\"]}.\\\n",
        "{row[\"service_date\"].year}',axis=1)\n",
        "dates_list = temp_df['month.year'].unique()\n",
        "temp_df = temp_df.groupby(['month.year']).sum().reindex(dates_list)\n",
        "\n",
        "fig = go.Figure()\n",
        "\n",
        "fig.add_traces(go.Scatter(x=temp_df.index,\n",
        "                          y=temp_df['sales'])\n",
        ")\n",
        "\n",
        "\n",
        "fig.update_layout(title='Динамика спроса по месяцам за период пандемии')\n",
        "\n",
        "fig.show()\n",
        "\n",
        "temp_df = None\n",
        "\n",
        "temp_df = analyze_df.loc[analyze_df['pandemic'] == 0][['sales']]\n",
        "temp_df['month.year'] = analyze_df.apply(lambda row: f'{row[\"month\"]}.\\\n",
        "{row[\"service_date\"].year}',axis=1)\n",
        "dates_list = temp_df['month.year'].unique()\n",
        "temp_df = temp_df.groupby(['month.year']).sum().reindex(dates_list)\n",
        "\n",
        "fig = go.Figure()\n",
        "\n",
        "fig.add_traces(go.Scatter(x=temp_df.index,\n",
        "                          y=temp_df['sales'])\n",
        ")\n",
        "\n",
        "\n",
        "fig.update_layout(title='Динамика спроса по месяцам до и после пандемии')\n",
        "\n",
        "fig.show()\n",
        "\n",
        "temp_df = None\n"
      ],
      "metadata": {
        "id": "t1IYtP_iIOAT",
        "execution": {
          "iopub.status.busy": "2022-09-15T10:37:21.944477Z",
          "iopub.execute_input": "2022-09-15T10:37:21.945200Z",
          "iopub.status.idle": "2022-09-15T10:37:22.053804Z",
          "shell.execute_reply.started": "2022-09-15T10:37:21.945152Z",
          "shell.execute_reply": "2022-09-15T10:37:22.052617Z"
        },
        "trusted": true
      },
      "execution_count": null,
      "outputs": []
    },
    {
      "cell_type": "markdown",
      "source": [
        "Судя по данным графикам спрос на выбранную услугу возрос во время пандемии относительно данных до пандемии."
      ],
      "metadata": {
        "id": "M5oSKpCo5cVC"
      }
    },
    {
      "cell_type": "markdown",
      "source": [
        "## Спрос и цены\n",
        "\n",
        "*Продажи умножены на 100 для подгонки под масштаб цен*"
      ],
      "metadata": {
        "id": "jX34Khx2-lwd"
      }
    },
    {
      "cell_type": "code",
      "source": [
        "temp_df = analyze_df.copy()\n",
        "temp_df['sales'] = temp_df['sales'].mul(100)\n",
        "\n",
        "draw_pair_graph(temp_df, ['service_id', 'service_date', 'sales', 'cost'], \n",
        "                range='1 year')\n",
        "\n",
        "temp_df = None\n"
      ],
      "metadata": {
        "id": "MwpZ8lmd-ucK",
        "execution": {
          "iopub.status.busy": "2022-09-15T10:37:22.055638Z",
          "iopub.execute_input": "2022-09-15T10:37:22.056398Z",
          "iopub.status.idle": "2022-09-15T10:37:22.329312Z",
          "shell.execute_reply.started": "2022-09-15T10:37:22.056349Z",
          "shell.execute_reply": "2022-09-15T10:37:22.328105Z"
        },
        "trusted": true
      },
      "execution_count": null,
      "outputs": []
    },
    {
      "cell_type": "markdown",
      "source": [
        "По данным графика видно что для данной услуги изменения цены не влияли на величину спроса."
      ],
      "metadata": {
        "id": "peq-Wv6feITl"
      }
    },
    {
      "cell_type": "markdown",
      "source": [
        "## Спрос на уникальные услуги"
      ],
      "metadata": {
        "id": "FRVrk_eCSTHC"
      }
    },
    {
      "cell_type": "markdown",
      "source": [
        "- выделить все уникальные услуги\n",
        "- найти среди не уникальных услуг те, которые совпадают по номенклатурной группе и мед. специальности с уникальными (по одной на каждую уникальную)\n",
        "- построить графики спроса"
      ],
      "metadata": {
        "id": "2eFIZlljqZIO"
      }
    },
    {
      "cell_type": "code",
      "source": [
        "temp_df = df.loc[df['unique_service'] == 1][['sales']]\n",
        "temp_df['month.year'] = df.apply(lambda row: f'{row[\"month\"]}.\\\n",
        "{row[\"service_date\"].year}',axis=1)\n",
        "temp_df = temp_df.groupby(['month.year']).sum().reindex(dates_list)\n",
        "\n",
        "fig = go.Figure()\n",
        "\n",
        "fig.add_traces(go.Scatter(x=temp_df.index,\n",
        "                          y=temp_df['sales'])\n",
        ")\n",
        "\n",
        "\n",
        "fig.update_layout(title='Суммарный спрос по месяцам за весь период на уникальные услуги')\n",
        "\n",
        "fig.show()\n",
        "\n",
        "temp_df = None\n"
      ],
      "metadata": {
        "id": "F6q5pCpMtJNh",
        "execution": {
          "iopub.status.busy": "2022-09-15T10:37:22.331117Z",
          "iopub.execute_input": "2022-09-15T10:37:22.331826Z",
          "iopub.status.idle": "2022-09-15T10:37:24.950424Z",
          "shell.execute_reply.started": "2022-09-15T10:37:22.331777Z",
          "shell.execute_reply": "2022-09-15T10:37:24.949259Z"
        },
        "trusted": true
      },
      "execution_count": null,
      "outputs": []
    },
    {
      "cell_type": "markdown",
      "source": [
        "По-видимому, уникальные услуги пользуются таким же спросом как и остальные услуги."
      ],
      "metadata": {
        "id": "dVAOTaKS230G"
      }
    },
    {
      "cell_type": "markdown",
      "source": [
        "## Аномалии"
      ],
      "metadata": {
        "id": "8csB7HT08Lze"
      }
    },
    {
      "cell_type": "code",
      "source": [
        "px.box(df, x='item_code', y='cost', title='Цены на услуги')"
      ],
      "metadata": {
        "id": "sBQ4Ar3F7Q3S",
        "execution": {
          "iopub.status.busy": "2022-09-15T10:37:24.951962Z",
          "iopub.execute_input": "2022-09-15T10:37:24.953046Z",
          "iopub.status.idle": "2022-09-15T10:37:26.206060Z",
          "shell.execute_reply.started": "2022-09-15T10:37:24.952998Z",
          "shell.execute_reply": "2022-09-15T10:37:26.204821Z"
        },
        "trusted": true
      },
      "execution_count": null,
      "outputs": []
    },
    {
      "cell_type": "markdown",
      "source": [
        "В правой части графика выделяется услуга с аномально высокими ценами по сравнению с остальными услугами.\n",
        "\n",
        "Я предполагаю что услуги с такими высокими ценами стоит выделить в отдельный набор данных и обучать модель конкретно для услуг с таким ценовым диапазоном.\n",
        "\n",
        "Логарифмирую признак."
      ],
      "metadata": {
        "id": "50Wl6_lj9Ofm"
      }
    },
    {
      "cell_type": "code",
      "source": [
        "px.box(df, x='item_code', y='amount_doctors', title='Количество врачей')"
      ],
      "metadata": {
        "id": "11-7aXlmXlmV",
        "execution": {
          "iopub.status.busy": "2022-09-15T10:37:26.207588Z",
          "iopub.execute_input": "2022-09-15T10:37:26.208028Z",
          "iopub.status.idle": "2022-09-15T10:37:26.309492Z",
          "shell.execute_reply.started": "2022-09-15T10:37:26.207988Z",
          "shell.execute_reply": "2022-09-15T10:37:26.308161Z"
        },
        "trusted": true
      },
      "execution_count": null,
      "outputs": []
    },
    {
      "cell_type": "markdown",
      "source": [
        "Можно считать, что в данном признаке аномалий нет."
      ],
      "metadata": {
        "id": "0PDuMQfdg4sS"
      }
    },
    {
      "cell_type": "markdown",
      "source": [
        "## Цикличные признаки\n",
        "\n",
        "- Из признака service_date выделить дни и месяцы в числовом обозначении\n",
        "- преобразовать признак weekday в числа от 0 до 6\n",
        "- преобразовать признак season в числа от 0 до 3\n",
        "- признаки day, month, weekday, season преобразовать в парные цикличные признаки с помощью CyclicalFeatures"
      ],
      "metadata": {
        "id": "NCkz-_y1lcvQ"
      }
    },
    {
      "cell_type": "markdown",
      "source": [
        "Пример преобразования для признака month"
      ],
      "metadata": {
        "id": "jgm4nnfXOxN3"
      }
    },
    {
      "cell_type": "code",
      "source": [
        "temp_df = pd.DataFrame()\n",
        "temp_df['month'] = df['service_date'].apply(lambda x: x.month)\n",
        "\n",
        "temp_df['month'] = temp_df['month'].astype(\"int64\")\n",
        "\n",
        "cyclical = CyclicalFeatures(variables=['month'], drop_original=True)\n",
        "temp_df = cyclical.fit_transform(temp_df)\n"
      ],
      "metadata": {
        "id": "yuzb2AdCKaCb"
      },
      "execution_count": null,
      "outputs": []
    },
    {
      "cell_type": "code",
      "source": [
        "fig = go.Figure()\n",
        "\n",
        "fig.add_traces(go.Scatter(x=temp_df.index,\n",
        "                          y=temp_df['month_sin'].unique(),\n",
        "                          )\n",
        ")\n",
        "fig.add_traces(go.Scatter(x=temp_df.index,\n",
        "                          y=temp_df['month_cos'].unique()\n",
        "                          )\n",
        ")\n",
        "\n",
        "fig.update_layout(title='Визуализация преобразования циклического признака')\n",
        "\n",
        "fig.show()\n",
        "\n",
        "temp_df = None"
      ],
      "metadata": {
        "id": "r7EPwYM-K-gO"
      },
      "execution_count": null,
      "outputs": []
    },
    {
      "cell_type": "markdown",
      "source": [
        "## Категориальные признаки"
      ],
      "metadata": {
        "id": "-060XKkCu4IU"
      }
    },
    {
      "cell_type": "markdown",
      "source": [
        "Категориальные признаки обработают сами модели."
      ],
      "metadata": {
        "id": "z1qmwSQ50pTh"
      }
    },
    {
      "cell_type": "markdown",
      "source": [
        "# Финальная обработка\n",
        "Объединим всю обработку датасета в одну функцию и применим её к данным."
      ],
      "metadata": {
        "id": "vE3M30lDQAue"
      }
    },
    {
      "cell_type": "code",
      "source": [
        "def set_day_cyclical(row):\n",
        "    day = row['service_date'].day\n",
        "    month = row['service_date'].month\n",
        "    year = row['service_date'].year\n",
        "\n",
        "    cyclical = CyclicalFeatures()\n",
        "\n",
        "    if month == 2 and year == 2020:\n",
        "        df_days = pd.DataFrame(pd.date_range(datetime(2020, 2, 1), datetime(2020, 2, 29)), columns=['day'])\n",
        "        df_days = df_days['day'].apply(lambda x: x.day)\n",
        "        df_days = cyclical.fit_transform(pd.DataFrame(df_days))\n",
        "\n",
        "    if month in [1, 3, 5, 7, 8, 10, 12]:\n",
        "        cyclical = CyclicalFeatures()\n",
        "        df_days = pd.DataFrame(pd.date_range(datetime(2020, 1, 1), datetime(2020, 1, 31)), columns=['day'])\n",
        "        df_days = df_days['day'].apply(lambda x: x.day)\n",
        "        df_days = cyclical.fit_transform(pd.DataFrame(df_days))\n",
        "\n",
        "    elif month in [4, 6, 9, 11]:\n",
        "        df_days = pd.DataFrame(pd.date_range(datetime(2020, 4, 1), datetime(2020, 4, 30)), columns=['day'])\n",
        "        df_days = df_days['day'].apply(lambda x: x.day)\n",
        "        df_days = cyclical.fit_transform(pd.DataFrame(df_days))\n",
        "\n",
        "    elif month in [2] and year != 2020:\n",
        "        df_days = pd.DataFrame(pd.date_range(datetime(2021, 2, 1), datetime(2021, 2, 28)), columns=['day'])\n",
        "        df_days = df_days['day'].apply(lambda x: x.day)\n",
        "        df_days = cyclical.fit_transform(pd.DataFrame(df_days))\n",
        "\n",
        "    row['day_sin'] = list(df_days.loc[df_days['day'] == day]['day_sin'])[0]\n",
        "    row['day_cos'] = list(df_days.loc[df_days['day'] == day]['day_cos'])[0]\n",
        "\n",
        "    return row"
      ],
      "metadata": {
        "id": "SlvCcpA7PtYI",
        "execution": {
          "iopub.status.busy": "2022-09-15T10:37:26.310761Z",
          "iopub.execute_input": "2022-09-15T10:37:26.311129Z",
          "iopub.status.idle": "2022-09-15T10:37:26.325964Z",
          "shell.execute_reply.started": "2022-09-15T10:37:26.311096Z",
          "shell.execute_reply": "2022-09-15T10:37:26.324797Z"
        },
        "trusted": true
      },
      "execution_count": null,
      "outputs": []
    },
    {
      "cell_type": "code",
      "source": [
        "def process_df(df):\n",
        "    res_df = df.copy()\n",
        "\n",
        "    season_dict = dict(winter=1, spring=2, summer=3, autumn=4)\n",
        "\n",
        "    \n",
        "    res_df.drop('name', axis=1, inplace=True)\n",
        "\n",
        "    res_df['year'] = res_df.apply(lambda row: row[\"service_date\"].year, axis=1)\n",
        "    # все строки с данными за неполные месяцы - январь 2017 и август 2022\n",
        "    loc_df = res_df.loc[(res_df['month'] == 'Jan') & \n",
        "               (res_df['year'] == 2017) | \n",
        "               (res_df['month'] == 'Aug') & \n",
        "               (res_df['year'] == 2022)]\n",
        "    res_df.drop(loc_df.index, inplace=True)\n",
        "\n",
        "    # обработка datetime признаков\n",
        "    res_df['month'] = res_df['service_date'].apply(lambda x: x.month)\n",
        "    res_df['weekday'] = res_df['service_date'].apply(lambda x: x.weekday)\n",
        "    res_df['season'] = res_df['season'].apply(lambda x: season_dict[x])\n",
        "\n",
        "    res_df[['month', 'weekday', 'season']] = res_df[['month', 'weekday', 'season']].astype(\"int64\")\n",
        "\n",
        "    cyclical = CyclicalFeatures(variables=['month', 'weekday', 'season'], drop_original=True)\n",
        "    res_df = cyclical.fit_transform(res_df)\n",
        "\n",
        "    # отдельная обработка признака day\n",
        "    res_df = res_df.apply(set_day_cyclical, axis=1)\n",
        "\n",
        "    res_df.drop(['service_date'], axis=1, inplace=True)\n",
        "    \n",
        "    # логарифмирование признаков с большими значениями\n",
        "    res_df['year'] = np.log(res_df['year'])\n",
        "    res_df['cost'] = np.log(res_df['cost'])\n",
        "\n",
        "    # обработкой категориальных признаков займутся модели\n",
        "\n",
        "    return res_df"
      ],
      "metadata": {
        "id": "beDH7HGF16GP",
        "execution": {
          "iopub.status.busy": "2022-09-15T10:37:26.327822Z",
          "iopub.execute_input": "2022-09-15T10:37:26.328641Z",
          "iopub.status.idle": "2022-09-15T10:37:26.344274Z",
          "shell.execute_reply.started": "2022-09-15T10:37:26.328589Z",
          "shell.execute_reply": "2022-09-15T10:37:26.343005Z"
        },
        "trusted": true
      },
      "execution_count": null,
      "outputs": []
    },
    {
      "cell_type": "code",
      "source": [
        "# train_df = process_df(df)\n",
        "# display(train_df.head())"
      ],
      "metadata": {
        "id": "5yI9xQkdNSaO",
        "execution": {
          "iopub.status.busy": "2022-09-15T10:37:26.346110Z",
          "iopub.execute_input": "2022-09-15T10:37:26.346579Z",
          "iopub.status.idle": "2022-09-15T10:37:26.358691Z",
          "shell.execute_reply.started": "2022-09-15T10:37:26.346533Z",
          "shell.execute_reply": "2022-09-15T10:37:26.357276Z"
        },
        "trusted": true
      },
      "execution_count": null,
      "outputs": []
    },
    {
      "cell_type": "markdown",
      "source": [
        "Обработка датасета занимет много времени поэтому сохраню его для быстрой загрузки в будущем."
      ],
      "metadata": {
        "id": "ASYMw-GoLdCz"
      }
    },
    {
      "cell_type": "code",
      "source": [
        "if is_colab:\n",
        "    train_df.to_csv(os.path.join(DATA_PATH, 'processed_df.csv'), encoding='utf-8', index=False, sep=';')"
      ],
      "metadata": {
        "id": "UAzzpzOMJkqi",
        "execution": {
          "iopub.status.busy": "2022-09-15T10:37:26.360526Z",
          "iopub.execute_input": "2022-09-15T10:37:26.361291Z",
          "iopub.status.idle": "2022-09-15T10:37:26.370390Z",
          "shell.execute_reply.started": "2022-09-15T10:37:26.361242Z",
          "shell.execute_reply": "2022-09-15T10:37:26.369176Z"
        },
        "trusted": true
      },
      "execution_count": null,
      "outputs": []
    },
    {
      "cell_type": "markdown",
      "source": [
        "# Разделение данных"
      ],
      "metadata": {
        "id": "Frr1lYoshHJj"
      }
    },
    {
      "cell_type": "markdown",
      "source": [
        "Загрузим ранее сохранённый обработанный датасет."
      ],
      "metadata": {
        "id": "ejqTaJiVLS9y"
      }
    },
    {
      "cell_type": "code",
      "source": [
        "if os.path.exists(os.path.join(DATA_PATH, 'processed_df.csv')):\n",
        "    train_df = pd.read_csv(os.path.join(DATA_PATH, 'processed_df.csv'), sep=';')\n",
        "\n",
        "cat_features = ['item_code', 'medical_specialty', 'service_type']\n",
        "train_df[cat_features] = train_df[cat_features].astype(\"category\")\n"
      ],
      "metadata": {
        "id": "htLhBYs-LOfS",
        "execution": {
          "iopub.status.busy": "2022-09-15T10:37:26.373390Z",
          "iopub.execute_input": "2022-09-15T10:37:26.374256Z",
          "iopub.status.idle": "2022-09-15T10:37:27.508560Z",
          "shell.execute_reply.started": "2022-09-15T10:37:26.374217Z",
          "shell.execute_reply": "2022-09-15T10:37:27.507242Z"
        },
        "trusted": true
      },
      "execution_count": 19,
      "outputs": []
    },
    {
      "cell_type": "code",
      "source": [
        "train_df.head()"
      ],
      "metadata": {
        "id": "CrT1u72YjKVP",
        "execution": {
          "iopub.status.busy": "2022-09-15T10:37:27.510404Z",
          "iopub.execute_input": "2022-09-15T10:37:27.510808Z",
          "iopub.status.idle": "2022-09-15T10:37:27.536872Z",
          "shell.execute_reply.started": "2022-09-15T10:37:27.510771Z",
          "shell.execute_reply": "2022-09-15T10:37:27.535776Z"
        },
        "trusted": true
      },
      "execution_count": null,
      "outputs": []
    },
    {
      "cell_type": "markdown",
      "source": [
        "Разделение на train и target"
      ],
      "metadata": {
        "id": "JXJ0ukXwhPyN"
      }
    },
    {
      "cell_type": "code",
      "source": [
        "X = train_df.drop(['sales', 'service_id'], axis = 1)\n",
        "y = train_df['sales'] \n",
        "\n",
        "X_train, X_test, y_train, y_test = train_test_split(X, y, test_size=TEST_SIZE, \n",
        "                                                    shuffle=True, \n",
        "                                                    random_state=RANDOM_SEED)"
      ],
      "metadata": {
        "id": "Z26e-ZWrhPKD",
        "execution": {
          "iopub.status.busy": "2022-09-15T10:37:27.538838Z",
          "iopub.execute_input": "2022-09-15T10:37:27.539680Z",
          "iopub.status.idle": "2022-09-15T10:37:27.583955Z",
          "shell.execute_reply.started": "2022-09-15T10:37:27.539616Z",
          "shell.execute_reply": "2022-09-15T10:37:27.582998Z"
        },
        "trusted": true
      },
      "execution_count": 20,
      "outputs": []
    },
    {
      "cell_type": "markdown",
      "source": [
        "Размеры выборок"
      ],
      "metadata": {
        "id": "MmecVnhx2tRe"
      }
    },
    {
      "cell_type": "code",
      "source": [
        "print(f'Train: {X_train.shape}')\n",
        "print(f'Test: {X_test.shape}')"
      ],
      "metadata": {
        "colab": {
          "base_uri": "https://localhost:8080/"
        },
        "id": "R_NtwWvs05s1",
        "outputId": "6a730616-2e88-4967-dd4e-7f6a3f4c87e0"
      },
      "execution_count": 23,
      "outputs": [
        {
          "output_type": "stream",
          "name": "stdout",
          "text": [
            "Train: (107367, 18)\n",
            "Test: (35790, 18)\n"
          ]
        }
      ]
    },
    {
      "cell_type": "markdown",
      "source": [
        "Количество услуг в выборках"
      ],
      "metadata": {
        "id": "jGX5b3072vXe"
      }
    },
    {
      "cell_type": "code",
      "source": [
        "X_train.item_code.nunique()"
      ],
      "metadata": {
        "colab": {
          "base_uri": "https://localhost:8080/"
        },
        "id": "F59foCoX2CPt",
        "outputId": "f9151710-bdbf-4d5e-972d-22e29c67b150"
      },
      "execution_count": 26,
      "outputs": [
        {
          "output_type": "execute_result",
          "data": {
            "text/plain": [
              "194"
            ]
          },
          "metadata": {},
          "execution_count": 26
        }
      ]
    },
    {
      "cell_type": "code",
      "source": [
        "X_test.item_code.nunique()"
      ],
      "metadata": {
        "colab": {
          "base_uri": "https://localhost:8080/"
        },
        "id": "uzG1Rryp2J7N",
        "outputId": "aeb5189e-5996-4e62-ec8a-712d7635f77c"
      },
      "execution_count": 27,
      "outputs": [
        {
          "output_type": "execute_result",
          "data": {
            "text/plain": [
              "194"
            ]
          },
          "metadata": {},
          "execution_count": 27
        }
      ]
    },
    {
      "cell_type": "markdown",
      "source": [
        "# Обучение моделей"
      ],
      "metadata": {
        "id": "yFZg6vR26jgz"
      }
    },
    {
      "cell_type": "markdown",
      "source": [
        "## CatBoost"
      ],
      "metadata": {
        "id": "a9ZLgN-KePoU"
      }
    },
    {
      "cell_type": "code",
      "source": [
        "# cb_model = CatBoostRegressor(iterations=100000,\n",
        "#                              depth=13,\n",
        "#                              learning_rate = 0.005,\n",
        "#                              eval_metric='RMSE',\n",
        "#                              od_wait=1000, \n",
        "#                              task_type='GPU',\n",
        "#                              silent=False,\n",
        "#                              l2_leaf_reg=0.15, \n",
        "#                              random_strength=0.35,\n",
        "#                              cat_features=cat_features,\n",
        "#                              bagging_temperature=3,\n",
        "#                              min_child_samples=26,\n",
        "#                           )\n",
        "#\n",
        "# cb_model.fit(X_train, np.log(y_train),\n",
        "#                     eval_set=(X_test, np.log(y_test)),\n",
        "#                     verbose_eval=100,\n",
        "#                     use_best_model=True,\n",
        "#                     )\n"
      ],
      "metadata": {
        "id": "PuWrepYiePEl",
        "execution": {
          "iopub.status.busy": "2022-09-15T10:39:18.264481Z",
          "iopub.execute_input": "2022-09-15T10:39:18.265011Z",
          "iopub.status.idle": "2022-09-15T10:39:18.270577Z",
          "shell.execute_reply.started": "2022-09-15T10:39:18.264975Z",
          "shell.execute_reply": "2022-09-15T10:39:18.269408Z"
        },
        "trusted": true
      },
      "execution_count": null,
      "outputs": []
    },
    {
      "cell_type": "code",
      "source": [
        "if is_colab:\n",
        "    cb_model.save_model(os.path.join(MODEL_PATH, 'cb_model.cbm'))"
      ],
      "metadata": {
        "id": "-VvhT-lXQn1s",
        "execution": {
          "iopub.status.busy": "2022-09-15T10:37:28.233305Z",
          "iopub.status.idle": "2022-09-15T10:37:28.234767Z",
          "shell.execute_reply.started": "2022-09-15T10:37:28.234430Z",
          "shell.execute_reply": "2022-09-15T10:37:28.234463Z"
        },
        "trusted": true
      },
      "execution_count": null,
      "outputs": []
    },
    {
      "cell_type": "code",
      "source": [
        "cb_model = CatBoostRegressor().load_model(os.path.join(MODEL_PATH, 'cb_model.cbm'))"
      ],
      "metadata": {
        "id": "ymHRevpvDn0G"
      },
      "execution_count": null,
      "outputs": []
    },
    {
      "cell_type": "code",
      "source": [
        "cb_predict = np.round(np.exp(cb_model.predict(X_test)))\n",
        "\n",
        "print(f\"RMSE: {rmse(y_test, cb_predict)}\")\n",
        "print(f\"MPE: {mpe(y_test, cb_predict)}\")"
      ],
      "metadata": {
        "id": "cSlvIW_4e6cd",
        "execution": {
          "iopub.status.busy": "2022-09-15T10:37:28.236245Z",
          "iopub.status.idle": "2022-09-15T10:37:28.237613Z",
          "shell.execute_reply.started": "2022-09-15T10:37:28.237291Z",
          "shell.execute_reply": "2022-09-15T10:37:28.237323Z"
        },
        "trusted": true
      },
      "execution_count": null,
      "outputs": []
    },
    {
      "cell_type": "code",
      "source": [
        "show_predicts(pd.DataFrame({'test': y_test.values, 'pred':cb_predict}))"
      ],
      "metadata": {
        "id": "hAcHqzZZNU3S",
        "execution": {
          "iopub.status.busy": "2022-09-15T10:37:28.239036Z",
          "iopub.status.idle": "2022-09-15T10:37:28.240435Z",
          "shell.execute_reply.started": "2022-09-15T10:37:28.240114Z",
          "shell.execute_reply": "2022-09-15T10:37:28.240146Z"
        },
        "trusted": true
      },
      "execution_count": null,
      "outputs": []
    },
    {
      "cell_type": "markdown",
      "source": [
        "## LightGBM"
      ],
      "metadata": {
        "id": "ruy3J4G3jbP5"
      }
    },
    {
      "cell_type": "code",
      "source": [
        "# params = {'metric' : 'RMSE',\n",
        "#           'objective': 'regression',\n",
        "#           'learning_rate': 0.005,\n",
        "#           'boosting_type' : 'gbdt',\n",
        "#           'n_jobs' : 10,\n",
        "#           'num_leaves': 90,\n",
        "#           'min_child_samples': 30,\n",
        "#           'max_depth': 35,\n",
        "#           'min_split_gain': 0.35,\n",
        "#           'reg_alpha': 0.015,\n",
        "#           'reg_lambda': 0.025,\n",
        "#           'feature_fraction': 0.35,\n",
        "#           'bagging_freq': 50,\n",
        "#           'bagging_fraction': 0.35,\n",
        "#           'verbosity': 1,\n",
        "#           'early_stopping_round': 3000,\n",
        "# }\n",
        "\n",
        "\n",
        "# train_dataset = lgbm.Dataset(X_train, np.log(y_train))\n",
        "# test_dataset = lgbm.Dataset(X_test, np.log(y_test))\n",
        "\n",
        "# lgbm_model = lgbm.train(params,\n",
        "#                         train_set=train_dataset, valid_sets=(test_dataset,),\n",
        "#                         num_boost_round=100000,\n",
        "#                         verbose_eval=100,\n",
        "#                         categorical_feature=cat_features)\n"
      ],
      "metadata": {
        "id": "mkNn1t-pjheM",
        "execution": {
          "iopub.status.busy": "2022-09-15T10:37:28.241857Z",
          "iopub.status.idle": "2022-09-15T10:37:28.243142Z",
          "shell.execute_reply.started": "2022-09-15T10:37:28.242803Z",
          "shell.execute_reply": "2022-09-15T10:37:28.242834Z"
        },
        "trusted": true
      },
      "execution_count": null,
      "outputs": []
    },
    {
      "cell_type": "code",
      "source": [
        "if is_colab:\n",
        "    lgbm_model.boster_.save_model(os.path.join(MODEL_PATH, 'lgbm_model.txt'))"
      ],
      "metadata": {
        "id": "SUc9e1nrOD9S",
        "execution": {
          "iopub.status.busy": "2022-09-15T10:37:28.244834Z",
          "iopub.status.idle": "2022-09-15T10:37:28.245680Z",
          "shell.execute_reply.started": "2022-09-15T10:37:28.245349Z",
          "shell.execute_reply": "2022-09-15T10:37:28.245380Z"
        },
        "trusted": true
      },
      "execution_count": null,
      "outputs": []
    },
    {
      "cell_type": "code",
      "source": [
        "lgbm_model = lgbm.Booster(model_file=os.path.join(MODEL_PATH, 'lgbm_model.txt'))"
      ],
      "metadata": {
        "id": "cylUMMOFDn0H"
      },
      "execution_count": null,
      "outputs": []
    },
    {
      "cell_type": "code",
      "source": [
        "lgbm_predict = np.round(np.exp(lgbm_model.predict(X_test)))\n",
        "\n",
        "print(f\"RMSE: {rmse(y_test, lgbm_predict)}\")\n",
        "print(f\"MPE: {mpe(y_test, lgbm_predict)}\")"
      ],
      "metadata": {
        "id": "-nzOBpxiWmjA"
      },
      "execution_count": null,
      "outputs": []
    },
    {
      "cell_type": "code",
      "source": [
        "show_predicts(pd.DataFrame({'test': y_test.values, 'pred':lgbm_predict}))"
      ],
      "metadata": {
        "id": "QITdi2tfx1mw"
      },
      "execution_count": null,
      "outputs": []
    },
    {
      "cell_type": "markdown",
      "source": [
        "# Выводы\n",
        "\n",
        "- В ходе работы были обучены 2 модели, на базе алгоритмов градиентного бустинга.  \n",
        "- Обе модели показали неплохие результаты даже на таких разрозненных данных.  \n",
        "- Хоть модели и показали неплохие результаты, прототип требует доработки, как по части данных, так и самих моделей.  \n",
        "- Одна из обученных моделей будет являться основой для построения сервиса оптимизации цен и выявления, эластичных по цене, услуг частного медицинского центра.\n"
      ],
      "metadata": {
        "id": "VWGi2gdf6mz9"
      }
    },
    {
      "cell_type": "markdown",
      "source": [
        "# Итоги и планы доработок\n",
        "\n",
        "Я выяснил, что для поставленной задачи собранные мною данные слишком разрозненны. В данных содержатся услуги разных медицинских специальностей и разных номенклатурных групп, что вносит высокий уровень случайности в таргет, что в свою очередь усложняет прогнозирование. Для улучшения качества прогнозирования нужно разбить данные на отдельные датасеты, и на каждом наборе данных обучать отдельную модель.\n",
        "Планируется разработка сервиса с возможностью интерактивного изменения данных и построения интерактивных графиков, а также подсчета ключевых бизнес метрик.\n",
        "Планируется разработка системы автоматизированного сбора и обработки данных.\n",
        "Так же планируется проведение экспериментов с моделями на основе глубокого обучения и обучения с подкреплением.\n",
        "И после введения в эксплуатацию первой версии сервиса планируется выяснение периода для переобучения модели на новых данных. \n",
        "\n"
      ],
      "metadata": {
        "id": "De-nr3ypfqOR"
      }
    }
  ]
}